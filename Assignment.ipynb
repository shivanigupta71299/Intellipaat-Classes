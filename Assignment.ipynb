{
 "cells": [
  {
   "cell_type": "code",
   "execution_count": 7,
   "id": "597f42a4",
   "metadata": {},
   "outputs": [
    {
     "ename": "ModuleNotFoundError",
     "evalue": "No module named 'Assignment'",
     "output_type": "error",
     "traceback": [
      "\u001b[1;31m---------------------------------------------------------------------------\u001b[0m",
      "\u001b[1;31mModuleNotFoundError\u001b[0m                       Traceback (most recent call last)",
      "Input \u001b[1;32mIn [7]\u001b[0m, in \u001b[0;36m<cell line: 1>\u001b[1;34m()\u001b[0m\n\u001b[1;32m----> 1\u001b[0m \u001b[38;5;28;01mfrom\u001b[39;00m \u001b[38;5;21;01mAssignment\u001b[39;00m\u001b[38;5;21;01m.\u001b[39;00m\u001b[38;5;21;01mhandsOn1_1\u001b[39;00m \u001b[38;5;28;01mimport\u001b[39;00m addition\n",
      "\u001b[1;31mModuleNotFoundError\u001b[0m: No module named 'Assignment'"
     ]
    }
   ],
   "source": [
    "from Assignment.handsOn1_1 import addition"
   ]
  },
  {
   "cell_type": "code",
   "execution_count": null,
   "id": "847f99ed",
   "metadata": {},
   "outputs": [],
   "source": [
    "def floor_division(a,b):\n",
    "    return a//b;\n",
    "\n",
    "name = input(\"Please enter your name: \")\n",
    "print(f\"(Hi {name}! Welcome to intellipaat Calculator)\")\n",
    "print(\"1. Addition\", \"2. Subtraction\",\"3. Multiplication\", \"4. Division\", \"5. Floor Division\")\n",
    "operation = input(\"Please select the operator you want to perform: \")\n",
    "a = input(\"Enter 1st number\")\n",
    "b = input(\"Enter 2nd number\")\n",
    "if operation == '1':\n",
    "    addition(a,b)"
   ]
  },
  {
   "cell_type": "code",
   "execution_count": null,
   "id": "74c2cc83",
   "metadata": {},
   "outputs": [],
   "source": [
    "pwd"
   ]
  },
  {
   "cell_type": "markdown",
   "id": "5852916d",
   "metadata": {},
   "source": [
    "# 6. Armstrong Number"
   ]
  },
  {
   "cell_type": "code",
   "execution_count": 28,
   "id": "1a2cf26d",
   "metadata": {},
   "outputs": [
    {
     "name": "stdout",
     "output_type": "stream",
     "text": [
      "Given number is armstrong number\n"
     ]
    }
   ],
   "source": [
    "number = 1634\n",
    "original_num = number\n",
    "length = len(str(number))\n",
    "a=lambda x,y:x**y\n",
    "temp = 0\n",
    "for i in range(0,length):\n",
    "    x = number%10     # 1\n",
    "    number = int(number /10)\n",
    "    temp += a(x,length)   # 1^3 + 2*2*2 + 3*3*3 = 1+8+27 = 36\n",
    "    \n",
    "if temp == original_num:\n",
    "    print(\"Given number is armstrong number\")\n",
    "else :\n",
    "    print(\"Given number is not armstrong number\")"
   ]
  },
  {
   "cell_type": "code",
   "execution_count": 19,
   "id": "2bc23c87",
   "metadata": {
    "scrolled": true
   },
   "outputs": [
    {
     "data": {
      "text/plain": [
       "1"
      ]
     },
     "execution_count": 19,
     "metadata": {},
     "output_type": "execute_result"
    }
   ],
   "source": [
    "a=lambda x,y:x**y\n",
    "a(1,4)"
   ]
  },
  {
   "cell_type": "markdown",
   "id": "9c445b7c",
   "metadata": {},
   "source": [
    "# 7. Calculator"
   ]
  },
  {
   "cell_type": "code",
   "execution_count": 30,
   "id": "872273cb",
   "metadata": {},
   "outputs": [
    {
     "name": "stdout",
     "output_type": "stream",
     "text": [
      "Please enter your name: s\n",
      "(Hi s! Welcome to intellipaat Calculator)\n",
      "1. Addition 2. Subtraction 3. Multiplication 4. Division 5. Floor Division\n",
      "Please select the operator you want to perform: 1\n",
      "Enter 1st number1\n",
      "Enter 2nd number1\n",
      "2\n"
     ]
    }
   ],
   "source": [
    "from handsOn1_1 import *\n",
    "\n",
    "def floor_division(a,b):\n",
    "    return a//b;\n",
    "\n",
    "name = input(\"Please enter your name: \")\n",
    "print(f\"(Hi {name}! Welcome to intellipaat Calculator)\")\n",
    "print(\"1. Addition\", \"2. Subtraction\",\"3. Multiplication\", \"4. Division\", \"5. Floor Division\")\n",
    "operation = input(\"Please select the operator you want to perform: \")\n",
    "a = int(input(\"Enter 1st number\"))\n",
    "b = int(input(\"Enter 2nd number\"))\n",
    "if operation == '1':\n",
    "    print(addition(a,b));\n",
    "elif operation == '2':\n",
    "    print(subtraction(a,b));\n",
    "elif operation == '3':\n",
    "    print(multiplication(a,b));\n",
    "elif operation == '4':\n",
    "    print(division(a,b));\n",
    "elif operation == '5':\n",
    "    print(floor_division(a,b));\n",
    "else:\n",
    "    print(\"Enter a valid number\")\n"
   ]
  },
  {
   "cell_type": "markdown",
   "id": "9f9d8762",
   "metadata": {},
   "source": [
    "# 8. Fibonacci Series"
   ]
  },
  {
   "cell_type": "code",
   "execution_count": null,
   "id": "fc6e230e",
   "metadata": {},
   "outputs": [],
   "source": [
    "count = int(input(\"Enter number of terms\"))\n",
    "print(f'You have entered {count}.')\n",
    "if count == 0 or count == 1:\n",
    "    print(count)\n",
    "else :\n",
    "    a=0\n",
    "    b=1\n",
    "    for i in range(0,count):\n",
    "        if (i<=1):\n",
    "            c= i\n",
    "        else: \n",
    "            c=a+b;\n",
    "            a=b\n",
    "            b=c\n",
    "        print(c)"
   ]
  },
  {
   "cell_type": "markdown",
   "id": "7278cc4f",
   "metadata": {},
   "source": [
    "# 9. Nested Dictionary"
   ]
  },
  {
   "cell_type": "code",
   "execution_count": 2,
   "id": "d82706b8",
   "metadata": {},
   "outputs": [],
   "source": [
    "dic1= dict()"
   ]
  },
  {
   "cell_type": "code",
   "execution_count": 7,
   "id": "33d72490",
   "metadata": {},
   "outputs": [
    {
     "name": "stdout",
     "output_type": "stream",
     "text": [
      "{'a': [1], 'b': [1, 2], 'c': [1, 2, 3], 'd': [1, 2, 3, 4], 'e': [1, 2, 3, 4, 5]}\n"
     ]
    }
   ],
   "source": [
    "dic1['a'] = [1]\n",
    "dic1['b'] = [1,2]\n",
    "dic1['c'] = [1,2,3]\n",
    "dic1['d'] = [1,2,3,4]\n",
    "dic1['e'] = [1,2,3,4,5]\n",
    "print(dic1)"
   ]
  },
  {
   "cell_type": "markdown",
   "id": "187a11cc",
   "metadata": {},
   "source": [
    "# 10. Sets"
   ]
  },
  {
   "cell_type": "code",
   "execution_count": 10,
   "id": "4940d0ad",
   "metadata": {},
   "outputs": [
    {
     "name": "stdout",
     "output_type": "stream",
     "text": [
      "Union:  {'', 1, 2, 3, 4, 'c', 'a', 'i'}\n",
      "Intersection :  {'', 1, 3}\n"
     ]
    }
   ],
   "source": [
    "a = {1,'','a',2,3}\n",
    "b = {1,'','c',4,3,'i'}\n",
    "print('Union: ',a.union(b))\n",
    "print('Intersection : ',a.intersection(b))"
   ]
  },
  {
   "cell_type": "markdown",
   "id": "7c59dde4",
   "metadata": {},
   "source": [
    "# 11. Nested tuple"
   ]
  },
  {
   "cell_type": "markdown",
   "id": "9a9ee7ba",
   "metadata": {},
   "source": [
    "### Create a nested tuple from the dictionary, with each item in the tuple as a key value pair from the dictionary."
   ]
  },
  {
   "cell_type": "code",
   "execution_count": null,
   "id": "1b576ad9",
   "metadata": {},
   "outputs": [],
   "source": [
    "dic1"
   ]
  },
  {
   "cell_type": "code",
   "execution_count": 52,
   "id": "5127185c",
   "metadata": {},
   "outputs": [
    {
     "name": "stdout",
     "output_type": "stream",
     "text": [
      "('a', [1])\n",
      "('a', [1], 'b', [1, 2])\n",
      "('a', [1], 'b', [1, 2], 'c', [1, 2, 3])\n",
      "('a', [1], 'b', [1, 2], 'c', [1, 2, 3], 'd', [1, 2, 3, 4])\n",
      "('a', [1], 'b', [1, 2], 'c', [1, 2, 3], 'd', [1, 2, 3, 4], 'e', [1, 2, 3, 4, 5])\n"
     ]
    }
   ],
   "source": [
    "tup3 = tuple()\n",
    "for each_ele in dic1.items(): \n",
    "    #tuple(\"(\"+str(each_ele[0])+\",\"+str(each_ele[1])+\")\")\n",
    "    #tup1 = '('+each_ele[0]+')'\n",
    "    tup1 = each_ele[0]\n",
    "    tup2 = each_ele[1]\n",
    "    tup3 += tup1,tup2\n",
    "    print(tup3)"
   ]
  },
  {
   "cell_type": "code",
   "execution_count": null,
   "id": "afc73000",
   "metadata": {},
   "outputs": [],
   "source": []
  },
  {
   "cell_type": "code",
   "execution_count": null,
   "id": "dbfa7bee",
   "metadata": {},
   "outputs": [],
   "source": []
  },
  {
   "cell_type": "markdown",
   "id": "6de9c2ca",
   "metadata": {},
   "source": [
    "# 12. List"
   ]
  },
  {
   "cell_type": "code",
   "execution_count": 96,
   "id": "ffd4e6f1",
   "metadata": {},
   "outputs": [
    {
     "name": "stdout",
     "output_type": "stream",
     "text": [
      "[1, 2, 3, 4, 5, 6, 7, 8, 9, 10, 11, 12, 13, 14, 15, 16, 17, 18, 19, 20, 21, 22, 23, 24, 25, 26, 27, 28, 29, 30, 31, 32, 33, 34, 35, 36, 37, 38, 39, 40, 41, 42, 43, 44, 45, 46, 47, 48, 49, 50]\n",
      "\n",
      "Length : 50\n",
      "\n",
      "Reversed List: [50, 49, 48, 47, 46, 45, 44, 43, 42, 41, 40, 39, 38, 37, 36, 35, 34, 33, 32, 31, 30, 29, 28, 27, 26, 25, 24, 23, 22, 21, 20, 19, 18, 17, 16, 15, 14, 13, 12, 11, 10, 9, 8, 7, 6, 5, 4, 3, 2, 1]\n",
      "\n",
      "Sorted List: [1, 2, 3, 4, 5, 6, 7, 8, 9, 10, 11, 12, 13, 14, 15, 16, 17, 18, 19, 20, 21, 22, 23, 24, 25, 26, 27, 28, 29, 30, 31, 32, 33, 34, 35, 36, 37, 38, 39, 40, 41, 42, 43, 44, 45, 46, 47, 48, 49, 50]\n",
      "Sorted List: [50, 49, 48, 47, 46, 45, 44, 43, 42, 41, 40, 39, 38, 37, 36, 35, 34, 33, 32, 31, 30, 29, 28, 27, 26, 25, 24, 23, 22, 21, 20, 19, 18, 17, 16, 15, 14, 13, 12, 11, 10, 9, 8, 7, 6, 5, 4, 3, 2, 1]\n",
      "44th element 6\n",
      " after updating 44th element [50, 49, 48, 47, 46, 45, 44, 43, 42, 41, 40, 39, 38, 37, 36, 35, 34, 33, 32, 31, 30, 29, 28, 27, 26, 25, 24, 23, 22, 21, 20, 19, 18, 17, 16, 15, 14, 13, 12, 11, 10, 9, 8, 7, 100, 5, 4, 3, 2, 1]\n"
     ]
    }
   ],
   "source": [
    "li = list()\n",
    "for i in range(1,51) :\n",
    "    li.append(i)\n",
    "print(li)\n",
    "print()\n",
    "print(\"Length :\",len(li))\n",
    "print()\n",
    "li.reverse()\n",
    "print(\"Reversed List:\",li)\n",
    "print()\n",
    "li.sort()\n",
    "print(\"Sorted List:\",li)\n",
    "li.sort(reverse=True)\n",
    "print(\"Sorted List:\",li)\n",
    "print(\"44th element\",li[44])\n",
    "li[44]= 100\n",
    "print(\" after updating 44th element\",li)"
   ]
  },
  {
   "cell_type": "code",
   "execution_count": 122,
   "id": "babbed0f",
   "metadata": {},
   "outputs": [
    {
     "name": "stdout",
     "output_type": "stream",
     "text": [
      "[1, 16, 81, 256, 625, 1296, 2401, 4096, 6561, 10000, 14641, 20736, 28561, 38416, 50625, 65536, 83521, 104976, 130321, 160000, 194481, 234256, 279841, 331776, 390625, 456976, 531441, 614656, 707281, 810000, 923521, 1048576, 1185921, 1336336, 1500625, 1679616, 1874161, 2085136, 2313441, 2560000, 2825761, 3111696, 3418801, 3748096, 4100625, 4477456, 4879681, 5308416, 5764801, 6250000]:"
     ]
    }
   ],
   "source": [
    "# list containing the square of each element.\n",
    "i=0\n",
    "for each_ele in li:\n",
    "    temp = each_ele * each_ele\n",
    "    li[i] = temp\n",
    "    i+=1\n",
    "print(li)"
   ]
  },
  {
   "cell_type": "markdown",
   "id": "5aed0c58",
   "metadata": {},
   "source": [
    "# 13. Nested dictionary"
   ]
  },
  {
   "cell_type": "markdown",
   "id": "9b43be6f",
   "metadata": {},
   "source": [
    "### Create a nested dictionary and perform the following operations.\n",
    "1. Return a list with the key value pairs from the dictionary.\n",
    "2. Return a list with just the keys from the dictionary.\n",
    "3. Remove the first and last key value from the dictionary.\n",
    "4. Update the last key value pair in the dictionary after removing in the 3rd step."
   ]
  },
  {
   "cell_type": "code",
   "execution_count": null,
   "id": "1ea75eac",
   "metadata": {},
   "outputs": [],
   "source": []
  },
  {
   "cell_type": "markdown",
   "id": "ca437aa1",
   "metadata": {},
   "source": [
    "# 14. Strings"
   ]
  },
  {
   "cell_type": "code",
   "execution_count": 112,
   "id": "cd797817",
   "metadata": {},
   "outputs": [
    {
     "name": "stdout",
     "output_type": "stream",
     "text": [
      "10\n",
      "12\n",
      "PYTHON PROGRAMMING LANGUAGE\n",
      "BEST IN THE WORLD\n",
      "Python Programming Language Best in the World\n"
     ]
    }
   ],
   "source": [
    "A = \"Python Programming Language\"\n",
    "B = 'Best in the World'\n",
    "print(A.find('gram'))\n",
    "print(B.find('World'))\n",
    "print(A.upper())\n",
    "print(B.upper())\n",
    "print(A,B)"
   ]
  },
  {
   "cell_type": "markdown",
   "id": "c5556430",
   "metadata": {},
   "source": [
    "## 15. Create a list with n numbers, and using negative indexing return the list starting from the 5th index to the n-2th index."
   ]
  },
  {
   "cell_type": "code",
   "execution_count": 136,
   "id": "a0039b87",
   "metadata": {},
   "outputs": [
    {
     "name": "stdout",
     "output_type": "stream",
     "text": [
      "[1, 2, 3, 4, 5, 6, 7, 8, 9, 10, 11, 12, 13, 14, 15, 16, 17, 18, 19, 20, 21, 22, 23, 24, 25, 26, 27, 28, 29, 30, 31, 32, 33, 34, 35, 36, 37, 38, 39, 40, 41, 42, 43, 44, 45, 46, 47, 48, 49, 50]\n"
     ]
    }
   ],
   "source": [
    "li = list()\n",
    "for i in range(1,51) :\n",
    "    li.append(i)\n",
    "print(li)"
   ]
  },
  {
   "cell_type": "code",
   "execution_count": 139,
   "id": "c2abf1bc",
   "metadata": {},
   "outputs": [
    {
     "name": "stdout",
     "output_type": "stream",
     "text": [
      "[6, 7, 8, 9, 10, 11, 12, 13, 14, 15, 16, 17, 18, 19, 20, 21, 22, 23, 24, 25, 26, 27, 28, 29, 30, 31, 32, 33, 34, 35, 36, 37, 38, 39, 40, 41, 42, 43, 44, 45, 46, 47, 48] "
     ]
    }
   ],
   "source": [
    "print(li[5:len(li)-2],  end =\" \")"
   ]
  },
  {
   "cell_type": "markdown",
   "id": "a682926c",
   "metadata": {},
   "source": [
    "# 16. Using range(), create a list with numbers ranging from 5-100, and the number of elements should be exactly 19."
   ]
  },
  {
   "cell_type": "code",
   "execution_count": 146,
   "id": "c9844672",
   "metadata": {},
   "outputs": [
    {
     "name": "stdout",
     "output_type": "stream",
     "text": [
      "19\n"
     ]
    }
   ],
   "source": [
    "li = list()\n",
    "for i in range(5,100) :\n",
    "    if i % 5==0:\n",
    "        li.append(i)\n",
    "print(len(li))"
   ]
  },
  {
   "cell_type": "code",
   "execution_count": 1,
   "id": "138f34be",
   "metadata": {},
   "outputs": [],
   "source": [
    "# Factorial\n",
    "\n",
    "def fact(x):\n",
    "    if(x==1):\n",
    "        return 1\n",
    "    else:\n",
    "        return x * fact(x-1)"
   ]
  },
  {
   "cell_type": "code",
   "execution_count": 2,
   "id": "92d3a34e",
   "metadata": {},
   "outputs": [
    {
     "data": {
      "text/plain": [
       "120"
      ]
     },
     "execution_count": 2,
     "metadata": {},
     "output_type": "execute_result"
    }
   ],
   "source": [
    "fact(5)"
   ]
  },
  {
   "cell_type": "code",
   "execution_count": 4,
   "id": "fa8b2e64",
   "metadata": {},
   "outputs": [
    {
     "name": "stdout",
     "output_type": "stream",
     "text": [
      "Enter principal10\n",
      "Enter rate2\n",
      "Enter interest3\n",
      "0.6\n"
     ]
    }
   ],
   "source": [
    "# simple interest si=prt/100\n",
    "\n",
    "principal=int(input(\"Enter principal\"))\n",
    "rate=int(input(\"Enter rate\"))\n",
    "interest=int(input(\"Enter interest\"))\n",
    "\n",
    "SI=interest*rate*principal/100\n",
    "print(SI)"
   ]
  },
  {
   "cell_type": "code",
   "execution_count": 13,
   "id": "8d93389c",
   "metadata": {},
   "outputs": [
    {
     "name": "stdout",
     "output_type": "stream",
     "text": [
      "Not\n"
     ]
    }
   ],
   "source": [
    "# prime number\n",
    "\n",
    "x=14\n",
    "flag=1\n",
    "for y in range(2,int(x/2)+1):\n",
    "    if(x%y==0):\n",
    "        flag=0\n",
    "    else:\n",
    "        flag=1\n",
    "        \n",
    "if(flag==0):\n",
    "    print('Not')\n",
    "else:\n",
    "    print('Prime')"
   ]
  },
  {
   "cell_type": "code",
   "execution_count": 17,
   "id": "af3ccd63",
   "metadata": {},
   "outputs": [
    {
     "name": "stdout",
     "output_type": "stream",
     "text": [
      "8\n",
      "0 1 1 2 3 5 8 13 "
     ]
    }
   ],
   "source": [
    "# Fibonacci\n",
    "\n",
    "a=0\n",
    "b=1\n",
    "x=int(input())\n",
    "print(a,b,end=' ')\n",
    "for i in range(2,x):\n",
    "    c=a+b\n",
    "    a=b\n",
    "    b=c\n",
    "    print(c,end=' ')"
   ]
  },
  {
   "cell_type": "code",
   "execution_count": 21,
   "id": "908a8aa7",
   "metadata": {},
   "outputs": [
    {
     "name": "stdout",
     "output_type": "stream",
     "text": [
      "Entermalayal\\\n",
      "not palindrome\n"
     ]
    }
   ],
   "source": [
    "# Palindrome - 434\n",
    "\n",
    "s=input('Enter')\n",
    "z=s[::-1]\n",
    "if(s==z):\n",
    "    print('palindrome')\n",
    "else:\n",
    "    print('not palindrome')"
   ]
  },
  {
   "cell_type": "code",
   "execution_count": 1,
   "id": "e19a09f7",
   "metadata": {},
   "outputs": [],
   "source": [
    "import numpy as np\n",
    "import pandas as pd"
   ]
  },
  {
   "cell_type": "code",
   "execution_count": 2,
   "id": "0265c243",
   "metadata": {},
   "outputs": [],
   "source": [
    "death=pd.read_csv('death .csv',na_values='**')"
   ]
  },
  {
   "cell_type": "code",
   "execution_count": 3,
   "id": "dd8fa962",
   "metadata": {},
   "outputs": [
    {
     "data": {
      "text/html": [
       "<div>\n",
       "<style scoped>\n",
       "    .dataframe tbody tr th:only-of-type {\n",
       "        vertical-align: middle;\n",
       "    }\n",
       "\n",
       "    .dataframe tbody tr th {\n",
       "        vertical-align: top;\n",
       "    }\n",
       "\n",
       "    .dataframe thead th {\n",
       "        text-align: right;\n",
       "    }\n",
       "</style>\n",
       "<table border=\"1\" class=\"dataframe\">\n",
       "  <thead>\n",
       "    <tr style=\"text-align: right;\">\n",
       "      <th></th>\n",
       "      <th>County</th>\n",
       "      <th>FIPS</th>\n",
       "      <th>Met Objective of 45.5? (1)</th>\n",
       "      <th>Age-Adjusted Death Rate</th>\n",
       "      <th>Lower 95% Confidence Interval for Death Rate</th>\n",
       "      <th>Upper 95% Confidence Interval for Death Rate</th>\n",
       "      <th>Average Deaths per Year</th>\n",
       "      <th>Recent Trend (2)</th>\n",
       "      <th>Recent 5-Year Trend (2) in Death Rates</th>\n",
       "      <th>Lower 95% Confidence Interval for Trend</th>\n",
       "      <th>Upper 95% Confidence Interval for Trend</th>\n",
       "    </tr>\n",
       "  </thead>\n",
       "  <tbody>\n",
       "    <tr>\n",
       "      <th>0</th>\n",
       "      <td>United States</td>\n",
       "      <td>0</td>\n",
       "      <td>No</td>\n",
       "      <td>46</td>\n",
       "      <td>45.9</td>\n",
       "      <td>46.1</td>\n",
       "      <td>157,376</td>\n",
       "      <td>falling</td>\n",
       "      <td>-2.4</td>\n",
       "      <td>-2.6</td>\n",
       "      <td>-2.2</td>\n",
       "    </tr>\n",
       "    <tr>\n",
       "      <th>1</th>\n",
       "      <td>Perry County, Kentucky</td>\n",
       "      <td>21193</td>\n",
       "      <td>No</td>\n",
       "      <td>125.6</td>\n",
       "      <td>108.9</td>\n",
       "      <td>144.2</td>\n",
       "      <td>43</td>\n",
       "      <td>stable</td>\n",
       "      <td>-0.6</td>\n",
       "      <td>-2.7</td>\n",
       "      <td>1.6</td>\n",
       "    </tr>\n",
       "    <tr>\n",
       "      <th>2</th>\n",
       "      <td>Powell County, Kentucky</td>\n",
       "      <td>21197</td>\n",
       "      <td>No</td>\n",
       "      <td>125.3</td>\n",
       "      <td>100.2</td>\n",
       "      <td>155.1</td>\n",
       "      <td>18</td>\n",
       "      <td>stable</td>\n",
       "      <td>1.7</td>\n",
       "      <td>0</td>\n",
       "      <td>3.4</td>\n",
       "    </tr>\n",
       "    <tr>\n",
       "      <th>3</th>\n",
       "      <td>North Slope Borough, Alaska</td>\n",
       "      <td>2185</td>\n",
       "      <td>No</td>\n",
       "      <td>124.9</td>\n",
       "      <td>73</td>\n",
       "      <td>194.7</td>\n",
       "      <td>5</td>\n",
       "      <td>NaN</td>\n",
       "      <td>NaN</td>\n",
       "      <td>NaN</td>\n",
       "      <td>NaN</td>\n",
       "    </tr>\n",
       "    <tr>\n",
       "      <th>4</th>\n",
       "      <td>Owsley County, Kentucky</td>\n",
       "      <td>21189</td>\n",
       "      <td>No</td>\n",
       "      <td>118.5</td>\n",
       "      <td>83.1</td>\n",
       "      <td>165.5</td>\n",
       "      <td>8</td>\n",
       "      <td>stable</td>\n",
       "      <td>2.2</td>\n",
       "      <td>-0.4</td>\n",
       "      <td>4.8</td>\n",
       "    </tr>\n",
       "  </tbody>\n",
       "</table>\n",
       "</div>"
      ],
      "text/plain": [
       "                        County   FIPS Met Objective of 45.5? (1)  \\\n",
       "0                United States      0                         No   \n",
       "1       Perry County, Kentucky  21193                         No   \n",
       "2      Powell County, Kentucky  21197                         No   \n",
       "3  North Slope Borough, Alaska   2185                         No   \n",
       "4      Owsley County, Kentucky  21189                         No   \n",
       "\n",
       "  Age-Adjusted Death Rate Lower 95% Confidence Interval for Death Rate  \\\n",
       "0                      46                                         45.9   \n",
       "1                   125.6                                        108.9   \n",
       "2                   125.3                                        100.2   \n",
       "3                   124.9                                           73   \n",
       "4                   118.5                                         83.1   \n",
       "\n",
       "  Upper 95% Confidence Interval for Death Rate Average Deaths per Year  \\\n",
       "0                                         46.1                 157,376   \n",
       "1                                        144.2                      43   \n",
       "2                                        155.1                      18   \n",
       "3                                        194.7                       5   \n",
       "4                                        165.5                       8   \n",
       "\n",
       "  Recent Trend (2) Recent 5-Year Trend (2) in Death Rates  \\\n",
       "0          falling                                   -2.4   \n",
       "1           stable                                   -0.6   \n",
       "2           stable                                    1.7   \n",
       "3              NaN                                    NaN   \n",
       "4           stable                                    2.2   \n",
       "\n",
       "  Lower 95% Confidence Interval for Trend  \\\n",
       "0                                    -2.6   \n",
       "1                                    -2.7   \n",
       "2                                       0   \n",
       "3                                     NaN   \n",
       "4                                    -0.4   \n",
       "\n",
       "  Upper 95% Confidence Interval for Trend  \n",
       "0                                    -2.2  \n",
       "1                                     1.6  \n",
       "2                                     3.4  \n",
       "3                                     NaN  \n",
       "4                                     4.8  "
      ]
     },
     "execution_count": 3,
     "metadata": {},
     "output_type": "execute_result"
    }
   ],
   "source": [
    "death.head()"
   ]
  },
  {
   "cell_type": "code",
   "execution_count": 4,
   "id": "e63751c5",
   "metadata": {},
   "outputs": [],
   "source": [
    "cancer=pd.read_excel('cancer_data_notes.xlsx',na_values='NaN')"
   ]
  },
  {
   "cell_type": "code",
   "execution_count": 5,
   "id": "1a55c0c5",
   "metadata": {},
   "outputs": [
    {
     "data": {
      "text/html": [
       "<div>\n",
       "<style scoped>\n",
       "    .dataframe tbody tr th:only-of-type {\n",
       "        vertical-align: middle;\n",
       "    }\n",
       "\n",
       "    .dataframe tbody tr th {\n",
       "        vertical-align: top;\n",
       "    }\n",
       "\n",
       "    .dataframe thead th {\n",
       "        text-align: right;\n",
       "    }\n",
       "</style>\n",
       "<table border=\"1\" class=\"dataframe\">\n",
       "  <thead>\n",
       "    <tr style=\"text-align: right;\">\n",
       "      <th></th>\n",
       "      <th>Created by statecancerprofiles.cancer.gov on 05/09/2017 5:34 pm.</th>\n",
       "    </tr>\n",
       "  </thead>\n",
       "  <tbody>\n",
       "    <tr>\n",
       "      <th>0</th>\n",
       "      <td>Data for the United States does not include da...</td>\n",
       "    </tr>\n",
       "    <tr>\n",
       "      <th>1</th>\n",
       "      <td>State Cancer Registries may provide more curre...</td>\n",
       "    </tr>\n",
       "    <tr>\n",
       "      <th>2</th>\n",
       "      <td>Incidence rates (cases per 100,000 populatio...</td>\n",
       "    </tr>\n",
       "    <tr>\n",
       "      <th>3</th>\n",
       "      <td>à Incidence data come from different sources. ...</td>\n",
       "    </tr>\n",
       "    <tr>\n",
       "      <th>4</th>\n",
       "      <td>¦ Data not available because of state legisla...</td>\n",
       "    </tr>\n",
       "  </tbody>\n",
       "</table>\n",
       "</div>"
      ],
      "text/plain": [
       "  Created by statecancerprofiles.cancer.gov on 05/09/2017 5:34 pm.\n",
       "0  Data for the United States does not include da...              \n",
       "1  State Cancer Registries may provide more curre...              \n",
       "2    Incidence rates (cases per 100,000 populatio...              \n",
       "3  à Incidence data come from different sources. ...              \n",
       "4   ¦ Data not available because of state legisla...              "
      ]
     },
     "execution_count": 5,
     "metadata": {},
     "output_type": "execute_result"
    }
   ],
   "source": [
    "cancer.head()"
   ]
  },
  {
   "cell_type": "code",
   "execution_count": 6,
   "id": "553194fc",
   "metadata": {},
   "outputs": [],
   "source": [
    "incd=pd.read_csv('incd.csv',na_values='*')"
   ]
  },
  {
   "cell_type": "code",
   "execution_count": 7,
   "id": "358bd04e",
   "metadata": {},
   "outputs": [
    {
     "data": {
      "text/html": [
       "<div>\n",
       "<style scoped>\n",
       "    .dataframe tbody tr th:only-of-type {\n",
       "        vertical-align: middle;\n",
       "    }\n",
       "\n",
       "    .dataframe tbody tr th {\n",
       "        vertical-align: top;\n",
       "    }\n",
       "\n",
       "    .dataframe thead th {\n",
       "        text-align: right;\n",
       "    }\n",
       "</style>\n",
       "<table border=\"1\" class=\"dataframe\">\n",
       "  <thead>\n",
       "    <tr style=\"text-align: right;\">\n",
       "      <th></th>\n",
       "      <th>County</th>\n",
       "      <th>FIPS</th>\n",
       "      <th>Age-Adjusted Incidence Rate - cases per 100,000</th>\n",
       "      <th>Lower 95% Confidence Interval</th>\n",
       "      <th>Upper 95% Confidence Interval</th>\n",
       "      <th>Average Annual Count</th>\n",
       "      <th>Recent Trend</th>\n",
       "      <th>Recent 5-Year Trend in Incidence Rates</th>\n",
       "      <th>Lower 95% Confidence Interval.1</th>\n",
       "      <th>Upper 95% Confidence Interval.1</th>\n",
       "    </tr>\n",
       "  </thead>\n",
       "  <tbody>\n",
       "    <tr>\n",
       "      <th>0</th>\n",
       "      <td>US (SEER+NPCR)(1,10)</td>\n",
       "      <td>0</td>\n",
       "      <td>62.4</td>\n",
       "      <td>62.3</td>\n",
       "      <td>62.6</td>\n",
       "      <td>214614</td>\n",
       "      <td>falling</td>\n",
       "      <td>-2.5</td>\n",
       "      <td>-3</td>\n",
       "      <td>-2</td>\n",
       "    </tr>\n",
       "    <tr>\n",
       "      <th>1</th>\n",
       "      <td>Autauga County, Alabama(6,10)</td>\n",
       "      <td>1001</td>\n",
       "      <td>74.9</td>\n",
       "      <td>65.1</td>\n",
       "      <td>85.7</td>\n",
       "      <td>43</td>\n",
       "      <td>stable</td>\n",
       "      <td>0.5</td>\n",
       "      <td>-14.9</td>\n",
       "      <td>18.6</td>\n",
       "    </tr>\n",
       "    <tr>\n",
       "      <th>2</th>\n",
       "      <td>Baldwin County, Alabama(6,10)</td>\n",
       "      <td>1003</td>\n",
       "      <td>66.9</td>\n",
       "      <td>62.4</td>\n",
       "      <td>71.7</td>\n",
       "      <td>170</td>\n",
       "      <td>stable</td>\n",
       "      <td>3</td>\n",
       "      <td>-10.2</td>\n",
       "      <td>18.3</td>\n",
       "    </tr>\n",
       "    <tr>\n",
       "      <th>3</th>\n",
       "      <td>Barbour County, Alabama(6,10)</td>\n",
       "      <td>1005</td>\n",
       "      <td>74.6</td>\n",
       "      <td>61.8</td>\n",
       "      <td>89.4</td>\n",
       "      <td>25</td>\n",
       "      <td>stable</td>\n",
       "      <td>-6.4</td>\n",
       "      <td>-18.3</td>\n",
       "      <td>7.3</td>\n",
       "    </tr>\n",
       "    <tr>\n",
       "      <th>4</th>\n",
       "      <td>Bibb County, Alabama(6,10)</td>\n",
       "      <td>1007</td>\n",
       "      <td>86.4</td>\n",
       "      <td>71</td>\n",
       "      <td>104.2</td>\n",
       "      <td>23</td>\n",
       "      <td>stable</td>\n",
       "      <td>-4.5</td>\n",
       "      <td>-31.4</td>\n",
       "      <td>32.9</td>\n",
       "    </tr>\n",
       "  </tbody>\n",
       "</table>\n",
       "</div>"
      ],
      "text/plain": [
       "                          County   FIPS  \\\n",
       "0           US (SEER+NPCR)(1,10)      0   \n",
       "1  Autauga County, Alabama(6,10)   1001   \n",
       "2  Baldwin County, Alabama(6,10)   1003   \n",
       "3  Barbour County, Alabama(6,10)   1005   \n",
       "4     Bibb County, Alabama(6,10)   1007   \n",
       "\n",
       "  Age-Adjusted Incidence Rate - cases per 100,000  \\\n",
       "0                                            62.4   \n",
       "1                                            74.9   \n",
       "2                                            66.9   \n",
       "3                                            74.6   \n",
       "4                                            86.4   \n",
       "\n",
       "  Lower 95% Confidence Interval Upper 95% Confidence Interval  \\\n",
       "0                          62.3                          62.6   \n",
       "1                          65.1                          85.7   \n",
       "2                          62.4                          71.7   \n",
       "3                          61.8                          89.4   \n",
       "4                            71                         104.2   \n",
       "\n",
       "  Average Annual Count Recent Trend Recent 5-Year Trend in Incidence Rates  \\\n",
       "0               214614      falling                                   -2.5   \n",
       "1                   43       stable                                    0.5   \n",
       "2                  170       stable                                      3   \n",
       "3                   25       stable                                   -6.4   \n",
       "4                   23       stable                                   -4.5   \n",
       "\n",
       "  Lower 95% Confidence Interval.1 Upper 95% Confidence Interval.1  \n",
       "0                              -3                              -2  \n",
       "1                           -14.9                            18.6  \n",
       "2                           -10.2                            18.3  \n",
       "3                           -18.3                             7.3  \n",
       "4                           -31.4                            32.9  "
      ]
     },
     "execution_count": 7,
     "metadata": {},
     "output_type": "execute_result"
    }
   ],
   "source": [
    "incd.head()"
   ]
  },
  {
   "cell_type": "code",
   "execution_count": 8,
   "id": "45be569c",
   "metadata": {},
   "outputs": [
    {
     "name": "stdout",
     "output_type": "stream",
     "text": [
      "<class 'pandas.core.frame.DataFrame'>\n",
      "RangeIndex: 3141 entries, 0 to 3140\n",
      "Data columns (total 10 columns):\n",
      " #   Column                                           Non-Null Count  Dtype \n",
      "---  ------                                           --------------  ----- \n",
      " 0   County                                           3141 non-null   object\n",
      " 1    FIPS                                            3141 non-null   int64 \n",
      " 2   Age-Adjusted Incidence Rate - cases per 100,000  3141 non-null   object\n",
      " 3   Lower 95% Confidence Interval                    2928 non-null   object\n",
      " 4   Upper 95% Confidence Interval                    3141 non-null   object\n",
      " 5   Average Annual Count                             3141 non-null   object\n",
      " 6   Recent Trend                                     2881 non-null   object\n",
      " 7   Recent 5-Year Trend in Incidence Rates           2881 non-null   object\n",
      " 8   Lower 95% Confidence Interval.1                  2881 non-null   object\n",
      " 9   Upper 95% Confidence Interval.1                  2881 non-null   object\n",
      "dtypes: int64(1), object(9)\n",
      "memory usage: 245.5+ KB\n"
     ]
    }
   ],
   "source": [
    "incd.info()"
   ]
  },
  {
   "cell_type": "code",
   "execution_count": 9,
   "id": "47936e58",
   "metadata": {},
   "outputs": [
    {
     "name": "stdout",
     "output_type": "stream",
     "text": [
      "<class 'pandas.core.frame.DataFrame'>\n",
      "RangeIndex: 3141 entries, 0 to 3140\n",
      "Data columns (total 10 columns):\n",
      " #   Column                                           Non-Null Count  Dtype \n",
      "---  ------                                           --------------  ----- \n",
      " 0   County                                           3141 non-null   object\n",
      " 1    FIPS                                            3141 non-null   int64 \n",
      " 2   Age-Adjusted Incidence Rate - cases per 100,000  3141 non-null   object\n",
      " 3   Lower 95% Confidence Interval                    2928 non-null   object\n",
      " 4   Upper 95% Confidence Interval                    3141 non-null   object\n",
      " 5   Average Annual Count                             3141 non-null   object\n",
      " 6   Recent Trend                                     2881 non-null   object\n",
      " 7   Recent 5-Year Trend in Incidence Rates           2881 non-null   object\n",
      " 8   Lower 95% Confidence Interval.1                  2881 non-null   object\n",
      " 9   Upper 95% Confidence Interval.1                  2881 non-null   object\n",
      "dtypes: int64(1), object(9)\n",
      "memory usage: 245.5+ KB\n"
     ]
    },
    {
     "name": "stderr",
     "output_type": "stream",
     "text": [
      "C:\\Users\\LPT-3036\\AppData\\Local\\Temp\\ipykernel_21212\\4076810085.py:1: FutureWarning: null_counts is deprecated. Use show_counts instead\n",
      "  incd.info(null_counts=True)\n"
     ]
    }
   ],
   "source": [
    "incd.info(null_counts=True)"
   ]
  },
  {
   "cell_type": "code",
   "execution_count": 10,
   "id": "2bc09d43",
   "metadata": {},
   "outputs": [
    {
     "data": {
      "text/plain": [
       "(3141, 10)"
      ]
     },
     "execution_count": 10,
     "metadata": {},
     "output_type": "execute_result"
    }
   ],
   "source": [
    "incd.shape"
   ]
  },
  {
   "cell_type": "code",
   "execution_count": 11,
   "id": "bf40836a",
   "metadata": {},
   "outputs": [
    {
     "data": {
      "text/plain": [
       "County                                             3141\n",
       " FIPS                                              3141\n",
       "Age-Adjusted Incidence Rate - cases per 100,000    3141\n",
       "Lower 95% Confidence Interval                      2928\n",
       "Upper 95% Confidence Interval                      3141\n",
       "Average Annual Count                               3141\n",
       "Recent Trend                                       2881\n",
       "Recent 5-Year Trend in Incidence Rates             2881\n",
       "Lower 95% Confidence Interval.1                    2881\n",
       "Upper 95% Confidence Interval.1                    2881\n",
       "dtype: int64"
      ]
     },
     "execution_count": 11,
     "metadata": {},
     "output_type": "execute_result"
    }
   ],
   "source": [
    "incd.count()"
   ]
  },
  {
   "cell_type": "code",
   "execution_count": 12,
   "id": "92311855",
   "metadata": {},
   "outputs": [
    {
     "data": {
      "text/html": [
       "<div>\n",
       "<style scoped>\n",
       "    .dataframe tbody tr th:only-of-type {\n",
       "        vertical-align: middle;\n",
       "    }\n",
       "\n",
       "    .dataframe tbody tr th {\n",
       "        vertical-align: top;\n",
       "    }\n",
       "\n",
       "    .dataframe thead th {\n",
       "        text-align: right;\n",
       "    }\n",
       "</style>\n",
       "<table border=\"1\" class=\"dataframe\">\n",
       "  <thead>\n",
       "    <tr style=\"text-align: right;\">\n",
       "      <th></th>\n",
       "      <th>FIPS</th>\n",
       "    </tr>\n",
       "  </thead>\n",
       "  <tbody>\n",
       "    <tr>\n",
       "      <th>count</th>\n",
       "      <td>3141.000000</td>\n",
       "    </tr>\n",
       "    <tr>\n",
       "      <th>mean</th>\n",
       "      <td>30392.281757</td>\n",
       "    </tr>\n",
       "    <tr>\n",
       "      <th>std</th>\n",
       "      <td>15158.200839</td>\n",
       "    </tr>\n",
       "    <tr>\n",
       "      <th>min</th>\n",
       "      <td>0.000000</td>\n",
       "    </tr>\n",
       "    <tr>\n",
       "      <th>25%</th>\n",
       "      <td>18179.000000</td>\n",
       "    </tr>\n",
       "    <tr>\n",
       "      <th>50%</th>\n",
       "      <td>29177.000000</td>\n",
       "    </tr>\n",
       "    <tr>\n",
       "      <th>75%</th>\n",
       "      <td>45081.000000</td>\n",
       "    </tr>\n",
       "    <tr>\n",
       "      <th>max</th>\n",
       "      <td>56045.000000</td>\n",
       "    </tr>\n",
       "  </tbody>\n",
       "</table>\n",
       "</div>"
      ],
      "text/plain": [
       "               FIPS\n",
       "count   3141.000000\n",
       "mean   30392.281757\n",
       "std    15158.200839\n",
       "min        0.000000\n",
       "25%    18179.000000\n",
       "50%    29177.000000\n",
       "75%    45081.000000\n",
       "max    56045.000000"
      ]
     },
     "execution_count": 12,
     "metadata": {},
     "output_type": "execute_result"
    }
   ],
   "source": [
    "incd.describe()"
   ]
  },
  {
   "cell_type": "code",
   "execution_count": 13,
   "id": "fa33e7ca",
   "metadata": {},
   "outputs": [
    {
     "data": {
      "text/plain": [
       "(32, 1)"
      ]
     },
     "execution_count": 13,
     "metadata": {},
     "output_type": "execute_result"
    }
   ],
   "source": [
    "cancer.shape"
   ]
  },
  {
   "cell_type": "code",
   "execution_count": 14,
   "id": "c5683312",
   "metadata": {},
   "outputs": [
    {
     "name": "stdout",
     "output_type": "stream",
     "text": [
      "<class 'pandas.core.frame.DataFrame'>\n",
      "RangeIndex: 32 entries, 0 to 31\n",
      "Data columns (total 1 columns):\n",
      " #   Column                                                            Non-Null Count  Dtype \n",
      "---  ------                                                            --------------  ----- \n",
      " 0   Created by statecancerprofiles.cancer.gov on 05/09/2017 5:34 pm.  29 non-null     object\n",
      "dtypes: object(1)\n",
      "memory usage: 384.0+ bytes\n"
     ]
    }
   ],
   "source": [
    "cancer.info()"
   ]
  },
  {
   "cell_type": "code",
   "execution_count": 15,
   "id": "1dad30c7",
   "metadata": {},
   "outputs": [
    {
     "name": "stdout",
     "output_type": "stream",
     "text": [
      "<class 'pandas.core.frame.DataFrame'>\n",
      "RangeIndex: 3141 entries, 0 to 3140\n",
      "Data columns (total 11 columns):\n",
      " #   Column                                        Non-Null Count  Dtype \n",
      "---  ------                                        --------------  ----- \n",
      " 0   County                                        3141 non-null   object\n",
      " 1   FIPS                                          3141 non-null   int64 \n",
      " 2   Met Objective of 45.5? (1)                    3141 non-null   object\n",
      " 3   Age-Adjusted Death Rate                       3141 non-null   object\n",
      " 4   Lower 95% Confidence Interval for Death Rate  3141 non-null   object\n",
      " 5   Upper 95% Confidence Interval for Death Rate  3141 non-null   object\n",
      " 6   Average Deaths per Year                       3141 non-null   object\n",
      " 7   Recent Trend (2)                              2721 non-null   object\n",
      " 8   Recent 5-Year Trend (2) in Death Rates        2721 non-null   object\n",
      " 9   Lower 95% Confidence Interval for Trend       2721 non-null   object\n",
      " 10  Upper 95% Confidence Interval for Trend       2721 non-null   object\n",
      "dtypes: int64(1), object(10)\n",
      "memory usage: 270.1+ KB\n"
     ]
    }
   ],
   "source": [
    "death.info()"
   ]
  },
  {
   "cell_type": "code",
   "execution_count": 16,
   "id": "aaedd001",
   "metadata": {},
   "outputs": [
    {
     "data": {
      "text/plain": [
       "County                                          3141\n",
       "FIPS                                            3141\n",
       "Met Objective of 45.5? (1)                      3141\n",
       "Age-Adjusted Death Rate                         3141\n",
       "Lower 95% Confidence Interval for Death Rate    3141\n",
       "Upper 95% Confidence Interval for Death Rate    3141\n",
       "Average Deaths per Year                         3141\n",
       "Recent Trend (2)                                2721\n",
       "Recent 5-Year Trend (2) in Death Rates          2721\n",
       "Lower 95% Confidence Interval for Trend         2721\n",
       "Upper 95% Confidence Interval for Trend         2721\n",
       "dtype: int64"
      ]
     },
     "execution_count": 16,
     "metadata": {},
     "output_type": "execute_result"
    }
   ],
   "source": [
    "death.count()"
   ]
  },
  {
   "cell_type": "code",
   "execution_count": 17,
   "id": "a24a79fa",
   "metadata": {},
   "outputs": [
    {
     "data": {
      "text/plain": [
       "(3141, 11)"
      ]
     },
     "execution_count": 17,
     "metadata": {},
     "output_type": "execute_result"
    }
   ],
   "source": [
    "death.shape"
   ]
  },
  {
   "cell_type": "code",
   "execution_count": 18,
   "id": "b444e362",
   "metadata": {},
   "outputs": [
    {
     "data": {
      "text/html": [
       "<div>\n",
       "<style scoped>\n",
       "    .dataframe tbody tr th:only-of-type {\n",
       "        vertical-align: middle;\n",
       "    }\n",
       "\n",
       "    .dataframe tbody tr th {\n",
       "        vertical-align: top;\n",
       "    }\n",
       "\n",
       "    .dataframe thead th {\n",
       "        text-align: right;\n",
       "    }\n",
       "</style>\n",
       "<table border=\"1\" class=\"dataframe\">\n",
       "  <thead>\n",
       "    <tr style=\"text-align: right;\">\n",
       "      <th></th>\n",
       "      <th>County</th>\n",
       "      <th>FIPS</th>\n",
       "      <th>Met Objective of 45.5? (1)</th>\n",
       "      <th>Age-Adjusted Death Rate</th>\n",
       "      <th>Lower 95% Confidence Interval for Death Rate</th>\n",
       "      <th>Upper 95% Confidence Interval for Death Rate</th>\n",
       "      <th>Average Deaths per Year</th>\n",
       "      <th>Recent Trend (2)</th>\n",
       "      <th>Recent 5-Year Trend (2) in Death Rates</th>\n",
       "      <th>Lower 95% Confidence Interval for Trend</th>\n",
       "      <th>Upper 95% Confidence Interval for Trend</th>\n",
       "    </tr>\n",
       "  </thead>\n",
       "  <tbody>\n",
       "    <tr>\n",
       "      <th>3136</th>\n",
       "      <td>Yakutat City and Borough, Alaska&lt;sup&gt;3&lt;/sup&gt;</td>\n",
       "      <td>2282</td>\n",
       "      <td>*</td>\n",
       "      <td>*</td>\n",
       "      <td>*</td>\n",
       "      <td>*</td>\n",
       "      <td>*</td>\n",
       "      <td>NaN</td>\n",
       "      <td>NaN</td>\n",
       "      <td>NaN</td>\n",
       "      <td>NaN</td>\n",
       "    </tr>\n",
       "    <tr>\n",
       "      <th>3137</th>\n",
       "      <td>Yukon-Koyukuk Census Area, Alaska</td>\n",
       "      <td>2290</td>\n",
       "      <td>*</td>\n",
       "      <td>*</td>\n",
       "      <td>*</td>\n",
       "      <td>*</td>\n",
       "      <td>*</td>\n",
       "      <td>NaN</td>\n",
       "      <td>NaN</td>\n",
       "      <td>NaN</td>\n",
       "      <td>NaN</td>\n",
       "    </tr>\n",
       "    <tr>\n",
       "      <th>3138</th>\n",
       "      <td>Zapata County, Texas</td>\n",
       "      <td>48505</td>\n",
       "      <td>*</td>\n",
       "      <td>*</td>\n",
       "      <td>*</td>\n",
       "      <td>*</td>\n",
       "      <td>*</td>\n",
       "      <td>*</td>\n",
       "      <td>*</td>\n",
       "      <td>*</td>\n",
       "      <td>*</td>\n",
       "    </tr>\n",
       "    <tr>\n",
       "      <th>3139</th>\n",
       "      <td>Zavala County, Texas</td>\n",
       "      <td>48507</td>\n",
       "      <td>*</td>\n",
       "      <td>*</td>\n",
       "      <td>*</td>\n",
       "      <td>*</td>\n",
       "      <td>*</td>\n",
       "      <td>NaN</td>\n",
       "      <td>NaN</td>\n",
       "      <td>NaN</td>\n",
       "      <td>NaN</td>\n",
       "    </tr>\n",
       "    <tr>\n",
       "      <th>3140</th>\n",
       "      <td>Ziebach County, South Dakota</td>\n",
       "      <td>46137</td>\n",
       "      <td>*</td>\n",
       "      <td>*</td>\n",
       "      <td>*</td>\n",
       "      <td>*</td>\n",
       "      <td>*</td>\n",
       "      <td>NaN</td>\n",
       "      <td>NaN</td>\n",
       "      <td>NaN</td>\n",
       "      <td>NaN</td>\n",
       "    </tr>\n",
       "  </tbody>\n",
       "</table>\n",
       "</div>"
      ],
      "text/plain": [
       "                                            County   FIPS  \\\n",
       "3136  Yakutat City and Borough, Alaska<sup>3</sup>   2282   \n",
       "3137             Yukon-Koyukuk Census Area, Alaska   2290   \n",
       "3138                          Zapata County, Texas  48505   \n",
       "3139                          Zavala County, Texas  48507   \n",
       "3140                  Ziebach County, South Dakota  46137   \n",
       "\n",
       "     Met Objective of 45.5? (1) Age-Adjusted Death Rate  \\\n",
       "3136                          *                       *   \n",
       "3137                          *                       *   \n",
       "3138                          *                       *   \n",
       "3139                          *                       *   \n",
       "3140                          *                       *   \n",
       "\n",
       "     Lower 95% Confidence Interval for Death Rate  \\\n",
       "3136                                            *   \n",
       "3137                                            *   \n",
       "3138                                            *   \n",
       "3139                                            *   \n",
       "3140                                            *   \n",
       "\n",
       "     Upper 95% Confidence Interval for Death Rate Average Deaths per Year  \\\n",
       "3136                                            *                       *   \n",
       "3137                                            *                       *   \n",
       "3138                                            *                       *   \n",
       "3139                                            *                       *   \n",
       "3140                                            *                       *   \n",
       "\n",
       "     Recent Trend (2) Recent 5-Year Trend (2) in Death Rates  \\\n",
       "3136              NaN                                    NaN   \n",
       "3137              NaN                                    NaN   \n",
       "3138                *                                      *   \n",
       "3139              NaN                                    NaN   \n",
       "3140              NaN                                    NaN   \n",
       "\n",
       "     Lower 95% Confidence Interval for Trend  \\\n",
       "3136                                     NaN   \n",
       "3137                                     NaN   \n",
       "3138                                       *   \n",
       "3139                                     NaN   \n",
       "3140                                     NaN   \n",
       "\n",
       "     Upper 95% Confidence Interval for Trend  \n",
       "3136                                     NaN  \n",
       "3137                                     NaN  \n",
       "3138                                       *  \n",
       "3139                                     NaN  \n",
       "3140                                     NaN  "
      ]
     },
     "execution_count": 18,
     "metadata": {},
     "output_type": "execute_result"
    }
   ],
   "source": [
    "death.tail()"
   ]
  },
  {
   "cell_type": "code",
   "execution_count": 19,
   "id": "66f8b023",
   "metadata": {},
   "outputs": [
    {
     "data": {
      "text/plain": [
       "Index(['County', 'FIPS', 'Met Objective of 45.5? (1)',\n",
       "       'Age-Adjusted Death Rate',\n",
       "       'Lower 95% Confidence Interval for Death Rate',\n",
       "       'Upper 95% Confidence Interval for Death Rate',\n",
       "       'Average Deaths per Year', 'Recent Trend (2)',\n",
       "       'Recent 5-Year Trend (2) in Death Rates',\n",
       "       'Lower 95% Confidence Interval for Trend',\n",
       "       'Upper 95% Confidence Interval for Trend'],\n",
       "      dtype='object')"
      ]
     },
     "execution_count": 19,
     "metadata": {},
     "output_type": "execute_result"
    }
   ],
   "source": [
    "death.columns"
   ]
  },
  {
   "cell_type": "code",
   "execution_count": 20,
   "id": "436d7333",
   "metadata": {},
   "outputs": [
    {
     "data": {
      "text/plain": [
       "Index(['Created by statecancerprofiles.cancer.gov on 05/09/2017 5:34 pm.'], dtype='object')"
      ]
     },
     "execution_count": 20,
     "metadata": {},
     "output_type": "execute_result"
    }
   ],
   "source": [
    "cancer.columns"
   ]
  },
  {
   "cell_type": "code",
   "execution_count": 21,
   "id": "682fe07e",
   "metadata": {},
   "outputs": [
    {
     "data": {
      "text/plain": [
       "<bound method DataFrame.duplicated of    Created by statecancerprofiles.cancer.gov on 05/09/2017 5:34 pm.\n",
       "0   Data for the United States does not include da...              \n",
       "1   State Cancer Registries may provide more curre...              \n",
       "2     Incidence rates (cases per 100,000 populatio...              \n",
       "3   à Incidence data come from different sources. ...              \n",
       "4    ¦ Data not available because of state legisla...              \n",
       "5   # Data do not include cases diagnosed in other...              \n",
       "6   * Data has been suppressed to ensure confident...              \n",
       "7                   ¦¦ Data not available for Nevada.              \n",
       "8   1 Source: CDC's National Program of Cancer Reg...              \n",
       "9   6 Source: State Cancer Registry and the CDC's ...              \n",
       "10           7 Source: SEER November 2015 submission.              \n",
       "11  8 Source: Incidence data provided by the SEER ...              \n",
       "12  9 Source: Incidence data provided by the SEER ...              \n",
       "13  10 Source: Incidence data provided by the Nati...              \n",
       "14  Please note that the data comes from different...              \n",
       "15  Interpret Rankings provides insight into inter...              \n",
       "16  Data not available [http://statecancerprofiles...              \n",
       "17                                                NaN              \n",
       "18                                                NaN              \n",
       "19                                                NaN              \n",
       "20                                             Notes:              \n",
       "21  Created by statecancerprofiles.cancer.gov on 0...              \n",
       "22  State Cancer Registries may provide more curre...              \n",
       "23                                              Trend              \n",
       "24     Rising when 95% confidence interval of aver...              \n",
       "25     Stable when 95% confidence interval of aver...              \n",
       "26     Falling when 95% confidence interval of ave...              \n",
       "27  * Data has been suppressed to ensure confident...              \n",
       "28  ** Data are too sparse to provide stable estim...              \n",
       "29  (1) Healthy People 2020 Objectives provided by...              \n",
       "30  (2) The Average Annual Percent Change (AAPC) i...              \n",
       "31  Source: Death data provided by the National Vi...              >"
      ]
     },
     "execution_count": 21,
     "metadata": {},
     "output_type": "execute_result"
    }
   ],
   "source": [
    "cancer.duplicated"
   ]
  },
  {
   "cell_type": "code",
   "execution_count": 22,
   "id": "035819d0",
   "metadata": {},
   "outputs": [
    {
     "data": {
      "text/html": [
       "<div>\n",
       "<style scoped>\n",
       "    .dataframe tbody tr th:only-of-type {\n",
       "        vertical-align: middle;\n",
       "    }\n",
       "\n",
       "    .dataframe tbody tr th {\n",
       "        vertical-align: top;\n",
       "    }\n",
       "\n",
       "    .dataframe thead th {\n",
       "        text-align: right;\n",
       "    }\n",
       "</style>\n",
       "<table border=\"1\" class=\"dataframe\">\n",
       "  <thead>\n",
       "    <tr style=\"text-align: right;\">\n",
       "      <th></th>\n",
       "      <th>Created by statecancerprofiles.cancer.gov on 05/09/2017 5:34 pm.</th>\n",
       "    </tr>\n",
       "  </thead>\n",
       "  <tbody>\n",
       "    <tr>\n",
       "      <th>0</th>\n",
       "      <td>False</td>\n",
       "    </tr>\n",
       "    <tr>\n",
       "      <th>1</th>\n",
       "      <td>False</td>\n",
       "    </tr>\n",
       "    <tr>\n",
       "      <th>2</th>\n",
       "      <td>False</td>\n",
       "    </tr>\n",
       "    <tr>\n",
       "      <th>3</th>\n",
       "      <td>False</td>\n",
       "    </tr>\n",
       "    <tr>\n",
       "      <th>4</th>\n",
       "      <td>False</td>\n",
       "    </tr>\n",
       "    <tr>\n",
       "      <th>5</th>\n",
       "      <td>False</td>\n",
       "    </tr>\n",
       "    <tr>\n",
       "      <th>6</th>\n",
       "      <td>False</td>\n",
       "    </tr>\n",
       "    <tr>\n",
       "      <th>7</th>\n",
       "      <td>False</td>\n",
       "    </tr>\n",
       "    <tr>\n",
       "      <th>8</th>\n",
       "      <td>False</td>\n",
       "    </tr>\n",
       "    <tr>\n",
       "      <th>9</th>\n",
       "      <td>False</td>\n",
       "    </tr>\n",
       "    <tr>\n",
       "      <th>10</th>\n",
       "      <td>False</td>\n",
       "    </tr>\n",
       "    <tr>\n",
       "      <th>11</th>\n",
       "      <td>False</td>\n",
       "    </tr>\n",
       "    <tr>\n",
       "      <th>12</th>\n",
       "      <td>False</td>\n",
       "    </tr>\n",
       "    <tr>\n",
       "      <th>13</th>\n",
       "      <td>False</td>\n",
       "    </tr>\n",
       "    <tr>\n",
       "      <th>14</th>\n",
       "      <td>False</td>\n",
       "    </tr>\n",
       "    <tr>\n",
       "      <th>15</th>\n",
       "      <td>False</td>\n",
       "    </tr>\n",
       "    <tr>\n",
       "      <th>16</th>\n",
       "      <td>False</td>\n",
       "    </tr>\n",
       "    <tr>\n",
       "      <th>17</th>\n",
       "      <td>True</td>\n",
       "    </tr>\n",
       "    <tr>\n",
       "      <th>18</th>\n",
       "      <td>True</td>\n",
       "    </tr>\n",
       "    <tr>\n",
       "      <th>19</th>\n",
       "      <td>True</td>\n",
       "    </tr>\n",
       "    <tr>\n",
       "      <th>20</th>\n",
       "      <td>False</td>\n",
       "    </tr>\n",
       "    <tr>\n",
       "      <th>21</th>\n",
       "      <td>False</td>\n",
       "    </tr>\n",
       "    <tr>\n",
       "      <th>22</th>\n",
       "      <td>False</td>\n",
       "    </tr>\n",
       "    <tr>\n",
       "      <th>23</th>\n",
       "      <td>False</td>\n",
       "    </tr>\n",
       "    <tr>\n",
       "      <th>24</th>\n",
       "      <td>False</td>\n",
       "    </tr>\n",
       "    <tr>\n",
       "      <th>25</th>\n",
       "      <td>False</td>\n",
       "    </tr>\n",
       "    <tr>\n",
       "      <th>26</th>\n",
       "      <td>False</td>\n",
       "    </tr>\n",
       "    <tr>\n",
       "      <th>27</th>\n",
       "      <td>False</td>\n",
       "    </tr>\n",
       "    <tr>\n",
       "      <th>28</th>\n",
       "      <td>False</td>\n",
       "    </tr>\n",
       "    <tr>\n",
       "      <th>29</th>\n",
       "      <td>False</td>\n",
       "    </tr>\n",
       "    <tr>\n",
       "      <th>30</th>\n",
       "      <td>False</td>\n",
       "    </tr>\n",
       "    <tr>\n",
       "      <th>31</th>\n",
       "      <td>False</td>\n",
       "    </tr>\n",
       "  </tbody>\n",
       "</table>\n",
       "</div>"
      ],
      "text/plain": [
       "    Created by statecancerprofiles.cancer.gov on 05/09/2017 5:34 pm.\n",
       "0                                               False               \n",
       "1                                               False               \n",
       "2                                               False               \n",
       "3                                               False               \n",
       "4                                               False               \n",
       "5                                               False               \n",
       "6                                               False               \n",
       "7                                               False               \n",
       "8                                               False               \n",
       "9                                               False               \n",
       "10                                              False               \n",
       "11                                              False               \n",
       "12                                              False               \n",
       "13                                              False               \n",
       "14                                              False               \n",
       "15                                              False               \n",
       "16                                              False               \n",
       "17                                               True               \n",
       "18                                               True               \n",
       "19                                               True               \n",
       "20                                              False               \n",
       "21                                              False               \n",
       "22                                              False               \n",
       "23                                              False               \n",
       "24                                              False               \n",
       "25                                              False               \n",
       "26                                              False               \n",
       "27                                              False               \n",
       "28                                              False               \n",
       "29                                              False               \n",
       "30                                              False               \n",
       "31                                              False               "
      ]
     },
     "execution_count": 22,
     "metadata": {},
     "output_type": "execute_result"
    }
   ],
   "source": [
    "cancer.isnull()"
   ]
  },
  {
   "cell_type": "code",
   "execution_count": 23,
   "id": "85cff85d",
   "metadata": {},
   "outputs": [],
   "source": [
    "cancer.dropna(inplace=True)"
   ]
  },
  {
   "cell_type": "code",
   "execution_count": null,
   "id": "e55c8950",
   "metadata": {},
   "outputs": [],
   "source": []
  },
  {
   "cell_type": "code",
   "execution_count": 24,
   "id": "0191117b",
   "metadata": {},
   "outputs": [
    {
     "data": {
      "text/plain": [
       "0     False\n",
       "1     False\n",
       "2     False\n",
       "3     False\n",
       "4     False\n",
       "5     False\n",
       "6     False\n",
       "7     False\n",
       "8     False\n",
       "9     False\n",
       "10    False\n",
       "11    False\n",
       "12    False\n",
       "13    False\n",
       "14    False\n",
       "15    False\n",
       "16    False\n",
       "20    False\n",
       "21    False\n",
       "22    False\n",
       "23    False\n",
       "24    False\n",
       "25    False\n",
       "26    False\n",
       "27    False\n",
       "28    False\n",
       "29    False\n",
       "30    False\n",
       "31    False\n",
       "dtype: bool"
      ]
     },
     "execution_count": 24,
     "metadata": {},
     "output_type": "execute_result"
    }
   ],
   "source": [
    "cancer.duplicated()"
   ]
  },
  {
   "cell_type": "code",
   "execution_count": 25,
   "id": "17a3cc43",
   "metadata": {},
   "outputs": [
    {
     "data": {
      "text/html": [
       "<div>\n",
       "<style scoped>\n",
       "    .dataframe tbody tr th:only-of-type {\n",
       "        vertical-align: middle;\n",
       "    }\n",
       "\n",
       "    .dataframe tbody tr th {\n",
       "        vertical-align: top;\n",
       "    }\n",
       "\n",
       "    .dataframe thead th {\n",
       "        text-align: right;\n",
       "    }\n",
       "</style>\n",
       "<table border=\"1\" class=\"dataframe\">\n",
       "  <thead>\n",
       "    <tr style=\"text-align: right;\">\n",
       "      <th></th>\n",
       "      <th>Created by statecancerprofiles.cancer.gov on 05/09/2017 5:34 pm.</th>\n",
       "    </tr>\n",
       "  </thead>\n",
       "  <tbody>\n",
       "  </tbody>\n",
       "</table>\n",
       "</div>"
      ],
      "text/plain": [
       "Empty DataFrame\n",
       "Columns: [Created by statecancerprofiles.cancer.gov on 05/09/2017 5:34 pm.]\n",
       "Index: []"
      ]
     },
     "execution_count": 25,
     "metadata": {},
     "output_type": "execute_result"
    }
   ],
   "source": [
    "cancer[cancer.duplicated()]"
   ]
  },
  {
   "cell_type": "code",
   "execution_count": 26,
   "id": "cd051b3b",
   "metadata": {},
   "outputs": [
    {
     "data": {
      "text/plain": [
       "0"
      ]
     },
     "execution_count": 26,
     "metadata": {},
     "output_type": "execute_result"
    }
   ],
   "source": [
    "cancer.duplicated().sum()"
   ]
  },
  {
   "cell_type": "code",
   "execution_count": 27,
   "id": "573055a7",
   "metadata": {},
   "outputs": [
    {
     "data": {
      "text/html": [
       "<div>\n",
       "<style scoped>\n",
       "    .dataframe tbody tr th:only-of-type {\n",
       "        vertical-align: middle;\n",
       "    }\n",
       "\n",
       "    .dataframe tbody tr th {\n",
       "        vertical-align: top;\n",
       "    }\n",
       "\n",
       "    .dataframe thead th {\n",
       "        text-align: right;\n",
       "    }\n",
       "</style>\n",
       "<table border=\"1\" class=\"dataframe\">\n",
       "  <thead>\n",
       "    <tr style=\"text-align: right;\">\n",
       "      <th></th>\n",
       "      <th>Created by statecancerprofiles.cancer.gov on 05/09/2017 5:34 pm.</th>\n",
       "    </tr>\n",
       "  </thead>\n",
       "  <tbody>\n",
       "    <tr>\n",
       "      <th>14</th>\n",
       "      <td>Please note that the data comes from different...</td>\n",
       "    </tr>\n",
       "    <tr>\n",
       "      <th>15</th>\n",
       "      <td>Interpret Rankings provides insight into inter...</td>\n",
       "    </tr>\n",
       "    <tr>\n",
       "      <th>11</th>\n",
       "      <td>8 Source: Incidence data provided by the SEER ...</td>\n",
       "    </tr>\n",
       "    <tr>\n",
       "      <th>16</th>\n",
       "      <td>Data not available [http://statecancerprofiles...</td>\n",
       "    </tr>\n",
       "    <tr>\n",
       "      <th>0</th>\n",
       "      <td>Data for the United States does not include da...</td>\n",
       "    </tr>\n",
       "    <tr>\n",
       "      <th>20</th>\n",
       "      <td>Notes:</td>\n",
       "    </tr>\n",
       "    <tr>\n",
       "      <th>27</th>\n",
       "      <td>* Data has been suppressed to ensure confident...</td>\n",
       "    </tr>\n",
       "    <tr>\n",
       "      <th>24</th>\n",
       "      <td>Rising when 95% confidence interval of aver...</td>\n",
       "    </tr>\n",
       "    <tr>\n",
       "      <th>6</th>\n",
       "      <td>* Data has been suppressed to ensure confident...</td>\n",
       "    </tr>\n",
       "    <tr>\n",
       "      <th>8</th>\n",
       "      <td>1 Source: CDC's National Program of Cancer Reg...</td>\n",
       "    </tr>\n",
       "    <tr>\n",
       "      <th>30</th>\n",
       "      <td>(2) The Average Annual Percent Change (AAPC) i...</td>\n",
       "    </tr>\n",
       "    <tr>\n",
       "      <th>4</th>\n",
       "      <td>¦ Data not available because of state legisla...</td>\n",
       "    </tr>\n",
       "    <tr>\n",
       "      <th>1</th>\n",
       "      <td>State Cancer Registries may provide more curre...</td>\n",
       "    </tr>\n",
       "    <tr>\n",
       "      <th>2</th>\n",
       "      <td>Incidence rates (cases per 100,000 populatio...</td>\n",
       "    </tr>\n",
       "    <tr>\n",
       "      <th>10</th>\n",
       "      <td>7 Source: SEER November 2015 submission.</td>\n",
       "    </tr>\n",
       "    <tr>\n",
       "      <th>25</th>\n",
       "      <td>Stable when 95% confidence interval of aver...</td>\n",
       "    </tr>\n",
       "    <tr>\n",
       "      <th>28</th>\n",
       "      <td>** Data are too sparse to provide stable estim...</td>\n",
       "    </tr>\n",
       "    <tr>\n",
       "      <th>29</th>\n",
       "      <td>(1) Healthy People 2020 Objectives provided by...</td>\n",
       "    </tr>\n",
       "    <tr>\n",
       "      <th>12</th>\n",
       "      <td>9 Source: Incidence data provided by the SEER ...</td>\n",
       "    </tr>\n",
       "    <tr>\n",
       "      <th>3</th>\n",
       "      <td>à Incidence data come from different sources. ...</td>\n",
       "    </tr>\n",
       "  </tbody>\n",
       "</table>\n",
       "</div>"
      ],
      "text/plain": [
       "   Created by statecancerprofiles.cancer.gov on 05/09/2017 5:34 pm.\n",
       "14  Please note that the data comes from different...              \n",
       "15  Interpret Rankings provides insight into inter...              \n",
       "11  8 Source: Incidence data provided by the SEER ...              \n",
       "16  Data not available [http://statecancerprofiles...              \n",
       "0   Data for the United States does not include da...              \n",
       "20                                             Notes:              \n",
       "27  * Data has been suppressed to ensure confident...              \n",
       "24     Rising when 95% confidence interval of aver...              \n",
       "6   * Data has been suppressed to ensure confident...              \n",
       "8   1 Source: CDC's National Program of Cancer Reg...              \n",
       "30  (2) The Average Annual Percent Change (AAPC) i...              \n",
       "4    ¦ Data not available because of state legisla...              \n",
       "1   State Cancer Registries may provide more curre...              \n",
       "2     Incidence rates (cases per 100,000 populatio...              \n",
       "10           7 Source: SEER November 2015 submission.              \n",
       "25     Stable when 95% confidence interval of aver...              \n",
       "28  ** Data are too sparse to provide stable estim...              \n",
       "29  (1) Healthy People 2020 Objectives provided by...              \n",
       "12  9 Source: Incidence data provided by the SEER ...              \n",
       "3   à Incidence data come from different sources. ...              "
      ]
     },
     "execution_count": 27,
     "metadata": {},
     "output_type": "execute_result"
    }
   ],
   "source": [
    "cancer.sample(20)"
   ]
  },
  {
   "cell_type": "code",
   "execution_count": 28,
   "id": "83380873",
   "metadata": {},
   "outputs": [
    {
     "data": {
      "text/plain": [
       "0"
      ]
     },
     "execution_count": 28,
     "metadata": {},
     "output_type": "execute_result"
    }
   ],
   "source": [
    "cancer.duplicated().sum()"
   ]
  },
  {
   "cell_type": "code",
   "execution_count": 29,
   "id": "89aed159",
   "metadata": {},
   "outputs": [
    {
     "data": {
      "text/plain": [
       "County                                            0\n",
       "FIPS                                              0\n",
       "Met Objective of 45.5? (1)                        0\n",
       "Age-Adjusted Death Rate                           0\n",
       "Lower 95% Confidence Interval for Death Rate      0\n",
       "Upper 95% Confidence Interval for Death Rate      0\n",
       "Average Deaths per Year                           0\n",
       "Recent Trend (2)                                420\n",
       "Recent 5-Year Trend (2) in Death Rates          420\n",
       "Lower 95% Confidence Interval for Trend         420\n",
       "Upper 95% Confidence Interval for Trend         420\n",
       "dtype: int64"
      ]
     },
     "execution_count": 29,
     "metadata": {},
     "output_type": "execute_result"
    }
   ],
   "source": [
    "death.isnull().sum()"
   ]
  },
  {
   "cell_type": "code",
   "execution_count": 30,
   "id": "014bf31a",
   "metadata": {},
   "outputs": [],
   "source": [
    "death.dropna(inplace=True)"
   ]
  },
  {
   "cell_type": "code",
   "execution_count": 31,
   "id": "3b25c7e2",
   "metadata": {},
   "outputs": [
    {
     "data": {
      "text/plain": [
       "County                                          0\n",
       "FIPS                                            0\n",
       "Met Objective of 45.5? (1)                      0\n",
       "Age-Adjusted Death Rate                         0\n",
       "Lower 95% Confidence Interval for Death Rate    0\n",
       "Upper 95% Confidence Interval for Death Rate    0\n",
       "Average Deaths per Year                         0\n",
       "Recent Trend (2)                                0\n",
       "Recent 5-Year Trend (2) in Death Rates          0\n",
       "Lower 95% Confidence Interval for Trend         0\n",
       "Upper 95% Confidence Interval for Trend         0\n",
       "dtype: int64"
      ]
     },
     "execution_count": 31,
     "metadata": {},
     "output_type": "execute_result"
    }
   ],
   "source": [
    "death.isnull().sum()\n"
   ]
  },
  {
   "cell_type": "code",
   "execution_count": 32,
   "id": "bdfdcda4",
   "metadata": {},
   "outputs": [
    {
     "data": {
      "text/plain": [
       "(2721, 11)"
      ]
     },
     "execution_count": 32,
     "metadata": {},
     "output_type": "execute_result"
    }
   ],
   "source": [
    "death.shape"
   ]
  },
  {
   "cell_type": "code",
   "execution_count": 33,
   "id": "0fb1f905",
   "metadata": {},
   "outputs": [
    {
     "data": {
      "text/plain": [
       "County                                               0\n",
       " FIPS                                                0\n",
       "Age-Adjusted Incidence Rate - cases per 100,000      0\n",
       "Lower 95% Confidence Interval                      213\n",
       "Upper 95% Confidence Interval                        0\n",
       "Average Annual Count                                 0\n",
       "Recent Trend                                       260\n",
       "Recent 5-Year Trend in Incidence Rates             260\n",
       "Lower 95% Confidence Interval.1                    260\n",
       "Upper 95% Confidence Interval.1                    260\n",
       "dtype: int64"
      ]
     },
     "execution_count": 33,
     "metadata": {},
     "output_type": "execute_result"
    }
   ],
   "source": [
    "incd.isnull().sum()"
   ]
  },
  {
   "cell_type": "code",
   "execution_count": 34,
   "id": "1c4d3f5a",
   "metadata": {},
   "outputs": [],
   "source": [
    "incd.dropna(inplace=True)"
   ]
  },
  {
   "cell_type": "code",
   "execution_count": 35,
   "id": "9c6c0622",
   "metadata": {},
   "outputs": [
    {
     "name": "stdout",
     "output_type": "stream",
     "text": [
      "<class 'pandas.core.frame.DataFrame'>\n",
      "Int64Index: 2881 entries, 0 to 3140\n",
      "Data columns (total 10 columns):\n",
      " #   Column                                           Non-Null Count  Dtype \n",
      "---  ------                                           --------------  ----- \n",
      " 0   County                                           2881 non-null   object\n",
      " 1    FIPS                                            2881 non-null   int64 \n",
      " 2   Age-Adjusted Incidence Rate - cases per 100,000  2881 non-null   object\n",
      " 3   Lower 95% Confidence Interval                    2881 non-null   object\n",
      " 4   Upper 95% Confidence Interval                    2881 non-null   object\n",
      " 5   Average Annual Count                             2881 non-null   object\n",
      " 6   Recent Trend                                     2881 non-null   object\n",
      " 7   Recent 5-Year Trend in Incidence Rates           2881 non-null   object\n",
      " 8   Lower 95% Confidence Interval.1                  2881 non-null   object\n",
      " 9   Upper 95% Confidence Interval.1                  2881 non-null   object\n",
      "dtypes: int64(1), object(9)\n",
      "memory usage: 247.6+ KB\n"
     ]
    }
   ],
   "source": [
    "incd.info()"
   ]
  },
  {
   "cell_type": "code",
   "execution_count": 36,
   "id": "62d2d6f0",
   "metadata": {},
   "outputs": [
    {
     "data": {
      "text/plain": [
       "County                                             2881\n",
       " FIPS                                              2881\n",
       "Age-Adjusted Incidence Rate - cases per 100,000     799\n",
       "Lower 95% Confidence Interval                       683\n",
       "Upper 95% Confidence Interval                       859\n",
       "Average Annual Count                                361\n",
       "Recent Trend                                          5\n",
       "Recent 5-Year Trend in Incidence Rates              400\n",
       "Lower 95% Confidence Interval.1                     516\n",
       "Upper 95% Confidence Interval.1                     733\n",
       "dtype: int64"
      ]
     },
     "execution_count": 36,
     "metadata": {},
     "output_type": "execute_result"
    }
   ],
   "source": [
    "incd.nunique()"
   ]
  },
  {
   "cell_type": "code",
   "execution_count": 37,
   "id": "8b98ee1f",
   "metadata": {},
   "outputs": [
    {
     "data": {
      "text/plain": [
       "Index(['County', ' FIPS', 'Age-Adjusted Incidence Rate - cases per 100,000',\n",
       "       'Lower 95% Confidence Interval', 'Upper 95% Confidence Interval',\n",
       "       'Average Annual Count', 'Recent Trend',\n",
       "       'Recent 5-Year Trend in Incidence Rates',\n",
       "       'Lower 95% Confidence Interval.1', 'Upper 95% Confidence Interval.1'],\n",
       "      dtype='object')"
      ]
     },
     "execution_count": 37,
     "metadata": {},
     "output_type": "execute_result"
    }
   ],
   "source": [
    "incd.columns"
   ]
  },
  {
   "cell_type": "code",
   "execution_count": 38,
   "id": "9b19b7a1",
   "metadata": {},
   "outputs": [
    {
     "data": {
      "text/plain": [
       "array(['US (SEER+NPCR)(1,10)', 'Autauga County, Alabama(6,10)',\n",
       "       'Baldwin County, Alabama(6,10)', ...,\n",
       "       'Uinta County, Wyoming(6,10)', 'Washakie County, Wyoming(6,10)',\n",
       "       'Weston County, Wyoming(6,10)'], dtype=object)"
      ]
     },
     "execution_count": 38,
     "metadata": {},
     "output_type": "execute_result"
    }
   ],
   "source": [
    "incd['County'].unique()"
   ]
  },
  {
   "cell_type": "code",
   "execution_count": 39,
   "id": "4c64da11",
   "metadata": {},
   "outputs": [
    {
     "data": {
      "text/plain": [
       "pandas.core.series.Series"
      ]
     },
     "execution_count": 39,
     "metadata": {},
     "output_type": "execute_result"
    }
   ],
   "source": [
    "type(incd['County'])"
   ]
  },
  {
   "cell_type": "code",
   "execution_count": 40,
   "id": "dc20ccc4",
   "metadata": {},
   "outputs": [
    {
     "data": {
      "text/html": [
       "<div>\n",
       "<style scoped>\n",
       "    .dataframe tbody tr th:only-of-type {\n",
       "        vertical-align: middle;\n",
       "    }\n",
       "\n",
       "    .dataframe tbody tr th {\n",
       "        vertical-align: top;\n",
       "    }\n",
       "\n",
       "    .dataframe thead th {\n",
       "        text-align: right;\n",
       "    }\n",
       "</style>\n",
       "<table border=\"1\" class=\"dataframe\">\n",
       "  <thead>\n",
       "    <tr style=\"text-align: right;\">\n",
       "      <th></th>\n",
       "      <th>County</th>\n",
       "      <th>FIPS</th>\n",
       "      <th>Age-Adjusted Incidence Rate - cases per 100,000</th>\n",
       "      <th>Lower 95% Confidence Interval</th>\n",
       "      <th>Upper 95% Confidence Interval</th>\n",
       "      <th>Average Annual Count</th>\n",
       "      <th>Recent Trend</th>\n",
       "      <th>Recent 5-Year Trend in Incidence Rates</th>\n",
       "      <th>Lower 95% Confidence Interval.1</th>\n",
       "      <th>Upper 95% Confidence Interval.1</th>\n",
       "    </tr>\n",
       "  </thead>\n",
       "  <tbody>\n",
       "    <tr>\n",
       "      <th>0</th>\n",
       "      <td>US (SEER+NPCR)(1,10)</td>\n",
       "      <td>0</td>\n",
       "      <td>62.4</td>\n",
       "      <td>62.3</td>\n",
       "      <td>62.6</td>\n",
       "      <td>214614</td>\n",
       "      <td>falling</td>\n",
       "      <td>-2.5</td>\n",
       "      <td>-3</td>\n",
       "      <td>-2</td>\n",
       "    </tr>\n",
       "    <tr>\n",
       "      <th>1</th>\n",
       "      <td>Autauga County, Alabama(6,10)</td>\n",
       "      <td>1001</td>\n",
       "      <td>74.9</td>\n",
       "      <td>65.1</td>\n",
       "      <td>85.7</td>\n",
       "      <td>43</td>\n",
       "      <td>stable</td>\n",
       "      <td>0.5</td>\n",
       "      <td>-14.9</td>\n",
       "      <td>18.6</td>\n",
       "    </tr>\n",
       "    <tr>\n",
       "      <th>2</th>\n",
       "      <td>Baldwin County, Alabama(6,10)</td>\n",
       "      <td>1003</td>\n",
       "      <td>66.9</td>\n",
       "      <td>62.4</td>\n",
       "      <td>71.7</td>\n",
       "      <td>170</td>\n",
       "      <td>stable</td>\n",
       "      <td>3</td>\n",
       "      <td>-10.2</td>\n",
       "      <td>18.3</td>\n",
       "    </tr>\n",
       "    <tr>\n",
       "      <th>3</th>\n",
       "      <td>Barbour County, Alabama(6,10)</td>\n",
       "      <td>1005</td>\n",
       "      <td>74.6</td>\n",
       "      <td>61.8</td>\n",
       "      <td>89.4</td>\n",
       "      <td>25</td>\n",
       "      <td>stable</td>\n",
       "      <td>-6.4</td>\n",
       "      <td>-18.3</td>\n",
       "      <td>7.3</td>\n",
       "    </tr>\n",
       "    <tr>\n",
       "      <th>4</th>\n",
       "      <td>Bibb County, Alabama(6,10)</td>\n",
       "      <td>1007</td>\n",
       "      <td>86.4</td>\n",
       "      <td>71</td>\n",
       "      <td>104.2</td>\n",
       "      <td>23</td>\n",
       "      <td>stable</td>\n",
       "      <td>-4.5</td>\n",
       "      <td>-31.4</td>\n",
       "      <td>32.9</td>\n",
       "    </tr>\n",
       "  </tbody>\n",
       "</table>\n",
       "</div>"
      ],
      "text/plain": [
       "                          County   FIPS  \\\n",
       "0           US (SEER+NPCR)(1,10)      0   \n",
       "1  Autauga County, Alabama(6,10)   1001   \n",
       "2  Baldwin County, Alabama(6,10)   1003   \n",
       "3  Barbour County, Alabama(6,10)   1005   \n",
       "4     Bibb County, Alabama(6,10)   1007   \n",
       "\n",
       "  Age-Adjusted Incidence Rate - cases per 100,000  \\\n",
       "0                                            62.4   \n",
       "1                                            74.9   \n",
       "2                                            66.9   \n",
       "3                                            74.6   \n",
       "4                                            86.4   \n",
       "\n",
       "  Lower 95% Confidence Interval Upper 95% Confidence Interval  \\\n",
       "0                          62.3                          62.6   \n",
       "1                          65.1                          85.7   \n",
       "2                          62.4                          71.7   \n",
       "3                          61.8                          89.4   \n",
       "4                            71                         104.2   \n",
       "\n",
       "  Average Annual Count Recent Trend Recent 5-Year Trend in Incidence Rates  \\\n",
       "0               214614      falling                                   -2.5   \n",
       "1                   43       stable                                    0.5   \n",
       "2                  170       stable                                      3   \n",
       "3                   25       stable                                   -6.4   \n",
       "4                   23       stable                                   -4.5   \n",
       "\n",
       "  Lower 95% Confidence Interval.1 Upper 95% Confidence Interval.1  \n",
       "0                              -3                              -2  \n",
       "1                           -14.9                            18.6  \n",
       "2                           -10.2                            18.3  \n",
       "3                           -18.3                             7.3  \n",
       "4                           -31.4                            32.9  "
      ]
     },
     "execution_count": 40,
     "metadata": {},
     "output_type": "execute_result"
    }
   ],
   "source": [
    "incd.head()"
   ]
  },
  {
   "cell_type": "code",
   "execution_count": 41,
   "id": "e8e99175",
   "metadata": {},
   "outputs": [
    {
     "data": {
      "text/plain": [
       "stable     2429\n",
       "falling     200\n",
       "_           192\n",
       "rising       43\n",
       "__           17\n",
       "Name: Recent Trend, dtype: int64"
      ]
     },
     "execution_count": 41,
     "metadata": {},
     "output_type": "execute_result"
    }
   ],
   "source": [
    "incd['Recent Trend'].value_counts()"
   ]
  },
  {
   "cell_type": "code",
   "execution_count": 42,
   "id": "1a223a71",
   "metadata": {},
   "outputs": [
    {
     "data": {
      "text/html": [
       "<div>\n",
       "<style scoped>\n",
       "    .dataframe tbody tr th:only-of-type {\n",
       "        vertical-align: middle;\n",
       "    }\n",
       "\n",
       "    .dataframe tbody tr th {\n",
       "        vertical-align: top;\n",
       "    }\n",
       "\n",
       "    .dataframe thead th {\n",
       "        text-align: right;\n",
       "    }\n",
       "</style>\n",
       "<table border=\"1\" class=\"dataframe\">\n",
       "  <thead>\n",
       "    <tr style=\"text-align: right;\">\n",
       "      <th></th>\n",
       "      <th>FIPS</th>\n",
       "    </tr>\n",
       "  </thead>\n",
       "  <tbody>\n",
       "    <tr>\n",
       "      <th>count</th>\n",
       "      <td>2881.000000</td>\n",
       "    </tr>\n",
       "    <tr>\n",
       "      <th>mean</th>\n",
       "      <td>30097.852482</td>\n",
       "    </tr>\n",
       "    <tr>\n",
       "      <th>std</th>\n",
       "      <td>15121.368366</td>\n",
       "    </tr>\n",
       "    <tr>\n",
       "      <th>min</th>\n",
       "      <td>0.000000</td>\n",
       "    </tr>\n",
       "    <tr>\n",
       "      <th>25%</th>\n",
       "      <td>18171.000000</td>\n",
       "    </tr>\n",
       "    <tr>\n",
       "      <th>50%</th>\n",
       "      <td>29047.000000</td>\n",
       "    </tr>\n",
       "    <tr>\n",
       "      <th>75%</th>\n",
       "      <td>45005.000000</td>\n",
       "    </tr>\n",
       "    <tr>\n",
       "      <th>max</th>\n",
       "      <td>56045.000000</td>\n",
       "    </tr>\n",
       "  </tbody>\n",
       "</table>\n",
       "</div>"
      ],
      "text/plain": [
       "               FIPS\n",
       "count   2881.000000\n",
       "mean   30097.852482\n",
       "std    15121.368366\n",
       "min        0.000000\n",
       "25%    18171.000000\n",
       "50%    29047.000000\n",
       "75%    45005.000000\n",
       "max    56045.000000"
      ]
     },
     "execution_count": 42,
     "metadata": {},
     "output_type": "execute_result"
    }
   ],
   "source": [
    "incd.describe()"
   ]
  },
  {
   "cell_type": "code",
   "execution_count": 56,
   "id": "744e67db",
   "metadata": {},
   "outputs": [
    {
     "name": "stdout",
     "output_type": "stream",
     "text": [
      "{1, 2, 3, 4}\n",
      "True\n"
     ]
    }
   ],
   "source": [
    "# Write a Python program to find a list of integers containing exactly four distinct values, such that no integer repeats twice \n",
    "# consecutively among the first twenty entries\n",
    "\n",
    "li=[1, 2, 3,4, 1, 2, 3, 4, 1, 2, 3, 4, 1, 2, 3, 4]\n",
    "s=set(li)\n",
    "v=0\n",
    "if len(s)==4:\n",
    "    print(s)\n",
    "    for each in range(0,len(li)-1):\n",
    "        if li[each]==li[each+1]:\n",
    "            v=1\n",
    "            break\n",
    "        else:\n",
    "            v=0\n",
    "else:\n",
    "    v=1\n",
    "if v==0:\n",
    "    print('True')\n",
    "else:\n",
    "    print('False')"
   ]
  },
  {
   "cell_type": "code",
   "execution_count": null,
   "id": "b93d509c",
   "metadata": {},
   "outputs": [],
   "source": [
    "# Write a Python program to find the indexes of numbers in a given list below a given threshold.\n"
   ]
  }
 ],
 "metadata": {
  "kernelspec": {
   "display_name": "Python 3 (ipykernel)",
   "language": "python",
   "name": "python3"
  },
  "language_info": {
   "codemirror_mode": {
    "name": "ipython",
    "version": 3
   },
   "file_extension": ".py",
   "mimetype": "text/x-python",
   "name": "python",
   "nbconvert_exporter": "python",
   "pygments_lexer": "ipython3",
   "version": "3.9.12"
  }
 },
 "nbformat": 4,
 "nbformat_minor": 5
}
