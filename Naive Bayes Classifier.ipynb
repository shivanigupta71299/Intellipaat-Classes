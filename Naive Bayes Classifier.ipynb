{
 "cells": [
  {
   "cell_type": "code",
   "execution_count": 27,
   "id": "16a8fc6c",
   "metadata": {},
   "outputs": [],
   "source": [
    "import pandas as pd\n",
    "import numpy as np\n",
    "import seaborn as sns\n",
    "import matplotlib.pyplot as plt\n",
    "from warnings import filterwarnings\n",
    "filterwarnings('ignore')"
   ]
  },
  {
   "cell_type": "code",
   "execution_count": 28,
   "id": "7aa5be4a",
   "metadata": {},
   "outputs": [
    {
     "data": {
      "text/plain": [
       "(177, 14)"
      ]
     },
     "execution_count": 28,
     "metadata": {},
     "output_type": "execute_result"
    }
   ],
   "source": [
    "# https://archive.ics.uci.edu/ml/datasets/wine\n",
    "    \n",
    "wine = pd.read_csv('wine.data')\n",
    "wine.shape"
   ]
  },
  {
   "cell_type": "code",
   "execution_count": 29,
   "id": "86a8fec9",
   "metadata": {},
   "outputs": [
    {
     "data": {
      "text/html": [
       "<div>\n",
       "<style scoped>\n",
       "    .dataframe tbody tr th:only-of-type {\n",
       "        vertical-align: middle;\n",
       "    }\n",
       "\n",
       "    .dataframe tbody tr th {\n",
       "        vertical-align: top;\n",
       "    }\n",
       "\n",
       "    .dataframe thead th {\n",
       "        text-align: right;\n",
       "    }\n",
       "</style>\n",
       "<table border=\"1\" class=\"dataframe\">\n",
       "  <thead>\n",
       "    <tr style=\"text-align: right;\">\n",
       "      <th></th>\n",
       "      <th>1</th>\n",
       "      <th>14.23</th>\n",
       "      <th>1.71</th>\n",
       "      <th>2.43</th>\n",
       "      <th>15.6</th>\n",
       "      <th>127</th>\n",
       "      <th>2.8</th>\n",
       "      <th>3.06</th>\n",
       "      <th>.28</th>\n",
       "      <th>2.29</th>\n",
       "      <th>5.64</th>\n",
       "      <th>1.04</th>\n",
       "      <th>3.92</th>\n",
       "      <th>1065</th>\n",
       "    </tr>\n",
       "  </thead>\n",
       "  <tbody>\n",
       "    <tr>\n",
       "      <th>0</th>\n",
       "      <td>1</td>\n",
       "      <td>13.20</td>\n",
       "      <td>1.78</td>\n",
       "      <td>2.14</td>\n",
       "      <td>11.2</td>\n",
       "      <td>100</td>\n",
       "      <td>2.65</td>\n",
       "      <td>2.76</td>\n",
       "      <td>0.26</td>\n",
       "      <td>1.28</td>\n",
       "      <td>4.38</td>\n",
       "      <td>1.05</td>\n",
       "      <td>3.40</td>\n",
       "      <td>1050</td>\n",
       "    </tr>\n",
       "    <tr>\n",
       "      <th>1</th>\n",
       "      <td>1</td>\n",
       "      <td>13.16</td>\n",
       "      <td>2.36</td>\n",
       "      <td>2.67</td>\n",
       "      <td>18.6</td>\n",
       "      <td>101</td>\n",
       "      <td>2.80</td>\n",
       "      <td>3.24</td>\n",
       "      <td>0.30</td>\n",
       "      <td>2.81</td>\n",
       "      <td>5.68</td>\n",
       "      <td>1.03</td>\n",
       "      <td>3.17</td>\n",
       "      <td>1185</td>\n",
       "    </tr>\n",
       "    <tr>\n",
       "      <th>2</th>\n",
       "      <td>1</td>\n",
       "      <td>14.37</td>\n",
       "      <td>1.95</td>\n",
       "      <td>2.50</td>\n",
       "      <td>16.8</td>\n",
       "      <td>113</td>\n",
       "      <td>3.85</td>\n",
       "      <td>3.49</td>\n",
       "      <td>0.24</td>\n",
       "      <td>2.18</td>\n",
       "      <td>7.80</td>\n",
       "      <td>0.86</td>\n",
       "      <td>3.45</td>\n",
       "      <td>1480</td>\n",
       "    </tr>\n",
       "    <tr>\n",
       "      <th>3</th>\n",
       "      <td>1</td>\n",
       "      <td>13.24</td>\n",
       "      <td>2.59</td>\n",
       "      <td>2.87</td>\n",
       "      <td>21.0</td>\n",
       "      <td>118</td>\n",
       "      <td>2.80</td>\n",
       "      <td>2.69</td>\n",
       "      <td>0.39</td>\n",
       "      <td>1.82</td>\n",
       "      <td>4.32</td>\n",
       "      <td>1.04</td>\n",
       "      <td>2.93</td>\n",
       "      <td>735</td>\n",
       "    </tr>\n",
       "    <tr>\n",
       "      <th>4</th>\n",
       "      <td>1</td>\n",
       "      <td>14.20</td>\n",
       "      <td>1.76</td>\n",
       "      <td>2.45</td>\n",
       "      <td>15.2</td>\n",
       "      <td>112</td>\n",
       "      <td>3.27</td>\n",
       "      <td>3.39</td>\n",
       "      <td>0.34</td>\n",
       "      <td>1.97</td>\n",
       "      <td>6.75</td>\n",
       "      <td>1.05</td>\n",
       "      <td>2.85</td>\n",
       "      <td>1450</td>\n",
       "    </tr>\n",
       "  </tbody>\n",
       "</table>\n",
       "</div>"
      ],
      "text/plain": [
       "   1  14.23  1.71  2.43  15.6  127   2.8  3.06   .28  2.29  5.64  1.04  3.92  \\\n",
       "0  1  13.20  1.78  2.14  11.2  100  2.65  2.76  0.26  1.28  4.38  1.05  3.40   \n",
       "1  1  13.16  2.36  2.67  18.6  101  2.80  3.24  0.30  2.81  5.68  1.03  3.17   \n",
       "2  1  14.37  1.95  2.50  16.8  113  3.85  3.49  0.24  2.18  7.80  0.86  3.45   \n",
       "3  1  13.24  2.59  2.87  21.0  118  2.80  2.69  0.39  1.82  4.32  1.04  2.93   \n",
       "4  1  14.20  1.76  2.45  15.2  112  3.27  3.39  0.34  1.97  6.75  1.05  2.85   \n",
       "\n",
       "   1065  \n",
       "0  1050  \n",
       "1  1185  \n",
       "2  1480  \n",
       "3   735  \n",
       "4  1450  "
      ]
     },
     "execution_count": 29,
     "metadata": {},
     "output_type": "execute_result"
    }
   ],
   "source": [
    "wine.head()"
   ]
  },
  {
   "cell_type": "code",
   "execution_count": 30,
   "id": "f3670ee1",
   "metadata": {},
   "outputs": [
    {
     "data": {
      "text/plain": [
       "Index(['1', '14.23', '1.71', '2.43', '15.6', '127', '2.8', '3.06', '.28',\n",
       "       '2.29', '5.64', '1.04', '3.92', '1065'],\n",
       "      dtype='object')"
      ]
     },
     "execution_count": 30,
     "metadata": {},
     "output_type": "execute_result"
    }
   ],
   "source": [
    "wine.columns"
   ]
  },
  {
   "cell_type": "code",
   "execution_count": 31,
   "id": "b2586227",
   "metadata": {},
   "outputs": [],
   "source": [
    "wine=wine.rename({'1':'target', '14.23':'Alcohol', '1.71':'Malic acid', '2.43':'Ash', '15.6':'Alcalinity', '127':'Magnesium',\n",
    "             '2.8':'Total phenols', '3.06':'Flavanoids', '.28':'Nonflavanoid phenols', '2.29':'Proanthocyanins', '5.64':'Color intensity',\n",
    "             '1.04':'Hue', '3.92':'diluted wines', '1065':'Proline'},axis=1)"
   ]
  },
  {
   "cell_type": "code",
   "execution_count": 32,
   "id": "ff117ea9",
   "metadata": {
    "scrolled": false
   },
   "outputs": [
    {
     "data": {
      "text/html": [
       "<div>\n",
       "<style scoped>\n",
       "    .dataframe tbody tr th:only-of-type {\n",
       "        vertical-align: middle;\n",
       "    }\n",
       "\n",
       "    .dataframe tbody tr th {\n",
       "        vertical-align: top;\n",
       "    }\n",
       "\n",
       "    .dataframe thead th {\n",
       "        text-align: right;\n",
       "    }\n",
       "</style>\n",
       "<table border=\"1\" class=\"dataframe\">\n",
       "  <thead>\n",
       "    <tr style=\"text-align: right;\">\n",
       "      <th></th>\n",
       "      <th>target</th>\n",
       "      <th>Alcohol</th>\n",
       "      <th>Malic acid</th>\n",
       "      <th>Ash</th>\n",
       "      <th>Alcalinity</th>\n",
       "      <th>Magnesium</th>\n",
       "      <th>Total phenols</th>\n",
       "      <th>Flavanoids</th>\n",
       "      <th>Nonflavanoid phenols</th>\n",
       "      <th>Proanthocyanins</th>\n",
       "      <th>Color intensity</th>\n",
       "      <th>Hue</th>\n",
       "      <th>diluted wines</th>\n",
       "      <th>Proline</th>\n",
       "    </tr>\n",
       "  </thead>\n",
       "  <tbody>\n",
       "    <tr>\n",
       "      <th>103</th>\n",
       "      <td>2</td>\n",
       "      <td>12.51</td>\n",
       "      <td>1.73</td>\n",
       "      <td>1.98</td>\n",
       "      <td>20.5</td>\n",
       "      <td>85</td>\n",
       "      <td>2.20</td>\n",
       "      <td>1.92</td>\n",
       "      <td>0.32</td>\n",
       "      <td>1.48</td>\n",
       "      <td>2.94</td>\n",
       "      <td>1.04</td>\n",
       "      <td>3.57</td>\n",
       "      <td>672</td>\n",
       "    </tr>\n",
       "    <tr>\n",
       "      <th>61</th>\n",
       "      <td>2</td>\n",
       "      <td>13.67</td>\n",
       "      <td>1.25</td>\n",
       "      <td>1.92</td>\n",
       "      <td>18.0</td>\n",
       "      <td>94</td>\n",
       "      <td>2.10</td>\n",
       "      <td>1.79</td>\n",
       "      <td>0.32</td>\n",
       "      <td>0.73</td>\n",
       "      <td>3.80</td>\n",
       "      <td>1.23</td>\n",
       "      <td>2.46</td>\n",
       "      <td>630</td>\n",
       "    </tr>\n",
       "    <tr>\n",
       "      <th>82</th>\n",
       "      <td>2</td>\n",
       "      <td>13.05</td>\n",
       "      <td>3.86</td>\n",
       "      <td>2.32</td>\n",
       "      <td>22.5</td>\n",
       "      <td>85</td>\n",
       "      <td>1.65</td>\n",
       "      <td>1.59</td>\n",
       "      <td>0.61</td>\n",
       "      <td>1.62</td>\n",
       "      <td>4.80</td>\n",
       "      <td>0.84</td>\n",
       "      <td>2.01</td>\n",
       "      <td>515</td>\n",
       "    </tr>\n",
       "    <tr>\n",
       "      <th>140</th>\n",
       "      <td>3</td>\n",
       "      <td>13.36</td>\n",
       "      <td>2.56</td>\n",
       "      <td>2.35</td>\n",
       "      <td>20.0</td>\n",
       "      <td>89</td>\n",
       "      <td>1.40</td>\n",
       "      <td>0.50</td>\n",
       "      <td>0.37</td>\n",
       "      <td>0.64</td>\n",
       "      <td>5.60</td>\n",
       "      <td>0.70</td>\n",
       "      <td>2.47</td>\n",
       "      <td>780</td>\n",
       "    </tr>\n",
       "    <tr>\n",
       "      <th>160</th>\n",
       "      <td>3</td>\n",
       "      <td>13.69</td>\n",
       "      <td>3.26</td>\n",
       "      <td>2.54</td>\n",
       "      <td>20.0</td>\n",
       "      <td>107</td>\n",
       "      <td>1.83</td>\n",
       "      <td>0.56</td>\n",
       "      <td>0.50</td>\n",
       "      <td>0.80</td>\n",
       "      <td>5.88</td>\n",
       "      <td>0.96</td>\n",
       "      <td>1.82</td>\n",
       "      <td>680</td>\n",
       "    </tr>\n",
       "    <tr>\n",
       "      <th>113</th>\n",
       "      <td>2</td>\n",
       "      <td>12.08</td>\n",
       "      <td>1.39</td>\n",
       "      <td>2.50</td>\n",
       "      <td>22.5</td>\n",
       "      <td>84</td>\n",
       "      <td>2.56</td>\n",
       "      <td>2.29</td>\n",
       "      <td>0.43</td>\n",
       "      <td>1.04</td>\n",
       "      <td>2.90</td>\n",
       "      <td>0.93</td>\n",
       "      <td>3.19</td>\n",
       "      <td>385</td>\n",
       "    </tr>\n",
       "    <tr>\n",
       "      <th>29</th>\n",
       "      <td>1</td>\n",
       "      <td>13.73</td>\n",
       "      <td>1.50</td>\n",
       "      <td>2.70</td>\n",
       "      <td>22.5</td>\n",
       "      <td>101</td>\n",
       "      <td>3.00</td>\n",
       "      <td>3.25</td>\n",
       "      <td>0.29</td>\n",
       "      <td>2.38</td>\n",
       "      <td>5.70</td>\n",
       "      <td>1.19</td>\n",
       "      <td>2.71</td>\n",
       "      <td>1285</td>\n",
       "    </tr>\n",
       "    <tr>\n",
       "      <th>162</th>\n",
       "      <td>3</td>\n",
       "      <td>12.96</td>\n",
       "      <td>3.45</td>\n",
       "      <td>2.35</td>\n",
       "      <td>18.5</td>\n",
       "      <td>106</td>\n",
       "      <td>1.39</td>\n",
       "      <td>0.70</td>\n",
       "      <td>0.40</td>\n",
       "      <td>0.94</td>\n",
       "      <td>5.28</td>\n",
       "      <td>0.68</td>\n",
       "      <td>1.75</td>\n",
       "      <td>675</td>\n",
       "    </tr>\n",
       "    <tr>\n",
       "      <th>108</th>\n",
       "      <td>2</td>\n",
       "      <td>11.61</td>\n",
       "      <td>1.35</td>\n",
       "      <td>2.70</td>\n",
       "      <td>20.0</td>\n",
       "      <td>94</td>\n",
       "      <td>2.74</td>\n",
       "      <td>2.92</td>\n",
       "      <td>0.29</td>\n",
       "      <td>2.49</td>\n",
       "      <td>2.65</td>\n",
       "      <td>0.96</td>\n",
       "      <td>3.26</td>\n",
       "      <td>680</td>\n",
       "    </tr>\n",
       "    <tr>\n",
       "      <th>175</th>\n",
       "      <td>3</td>\n",
       "      <td>13.17</td>\n",
       "      <td>2.59</td>\n",
       "      <td>2.37</td>\n",
       "      <td>20.0</td>\n",
       "      <td>120</td>\n",
       "      <td>1.65</td>\n",
       "      <td>0.68</td>\n",
       "      <td>0.53</td>\n",
       "      <td>1.46</td>\n",
       "      <td>9.30</td>\n",
       "      <td>0.60</td>\n",
       "      <td>1.62</td>\n",
       "      <td>840</td>\n",
       "    </tr>\n",
       "  </tbody>\n",
       "</table>\n",
       "</div>"
      ],
      "text/plain": [
       "     target  Alcohol  Malic acid   Ash  Alcalinity  Magnesium  Total phenols  \\\n",
       "103       2    12.51        1.73  1.98        20.5         85           2.20   \n",
       "61        2    13.67        1.25  1.92        18.0         94           2.10   \n",
       "82        2    13.05        3.86  2.32        22.5         85           1.65   \n",
       "140       3    13.36        2.56  2.35        20.0         89           1.40   \n",
       "160       3    13.69        3.26  2.54        20.0        107           1.83   \n",
       "113       2    12.08        1.39  2.50        22.5         84           2.56   \n",
       "29        1    13.73        1.50  2.70        22.5        101           3.00   \n",
       "162       3    12.96        3.45  2.35        18.5        106           1.39   \n",
       "108       2    11.61        1.35  2.70        20.0         94           2.74   \n",
       "175       3    13.17        2.59  2.37        20.0        120           1.65   \n",
       "\n",
       "     Flavanoids  Nonflavanoid phenols  Proanthocyanins  Color intensity   Hue  \\\n",
       "103        1.92                  0.32             1.48             2.94  1.04   \n",
       "61         1.79                  0.32             0.73             3.80  1.23   \n",
       "82         1.59                  0.61             1.62             4.80  0.84   \n",
       "140        0.50                  0.37             0.64             5.60  0.70   \n",
       "160        0.56                  0.50             0.80             5.88  0.96   \n",
       "113        2.29                  0.43             1.04             2.90  0.93   \n",
       "29         3.25                  0.29             2.38             5.70  1.19   \n",
       "162        0.70                  0.40             0.94             5.28  0.68   \n",
       "108        2.92                  0.29             2.49             2.65  0.96   \n",
       "175        0.68                  0.53             1.46             9.30  0.60   \n",
       "\n",
       "     diluted wines  Proline  \n",
       "103           3.57      672  \n",
       "61            2.46      630  \n",
       "82            2.01      515  \n",
       "140           2.47      780  \n",
       "160           1.82      680  \n",
       "113           3.19      385  \n",
       "29            2.71     1285  \n",
       "162           1.75      675  \n",
       "108           3.26      680  \n",
       "175           1.62      840  "
      ]
     },
     "execution_count": 32,
     "metadata": {},
     "output_type": "execute_result"
    }
   ],
   "source": [
    "wine.sample(10)"
   ]
  },
  {
   "cell_type": "code",
   "execution_count": 33,
   "id": "064cad62",
   "metadata": {},
   "outputs": [
    {
     "name": "stdout",
     "output_type": "stream",
     "text": [
      "<class 'pandas.core.frame.DataFrame'>\n",
      "RangeIndex: 177 entries, 0 to 176\n",
      "Data columns (total 14 columns):\n",
      " #   Column                Non-Null Count  Dtype  \n",
      "---  ------                --------------  -----  \n",
      " 0   target                177 non-null    int64  \n",
      " 1   Alcohol               177 non-null    float64\n",
      " 2   Malic acid            177 non-null    float64\n",
      " 3   Ash                   177 non-null    float64\n",
      " 4   Alcalinity            177 non-null    float64\n",
      " 5   Magnesium             177 non-null    int64  \n",
      " 6   Total phenols         177 non-null    float64\n",
      " 7   Flavanoids            177 non-null    float64\n",
      " 8   Nonflavanoid phenols  177 non-null    float64\n",
      " 9   Proanthocyanins       177 non-null    float64\n",
      " 10  Color intensity       177 non-null    float64\n",
      " 11  Hue                   177 non-null    float64\n",
      " 12  diluted wines         177 non-null    float64\n",
      " 13  Proline               177 non-null    int64  \n",
      "dtypes: float64(11), int64(3)\n",
      "memory usage: 19.5 KB\n"
     ]
    }
   ],
   "source": [
    "wine.info()"
   ]
  },
  {
   "cell_type": "code",
   "execution_count": 7,
   "id": "220810e1",
   "metadata": {},
   "outputs": [],
   "source": [
    "# data is discrete and not continuous. lets make bins\n",
    "\n",
    "wine['Alcohol']=pd.qcut(wine['Alcohol'],q=5)\n",
    "wine['Malic acid']=pd.qcut(wine['Malic acid'],q=5)\n",
    "wine['Ash']=pd.qcut(wine['Ash'],q=5)"
   ]
  },
  {
   "cell_type": "code",
   "execution_count": 43,
   "id": "450d89eb",
   "metadata": {},
   "outputs": [],
   "source": [
    "wine['Alcalinity']=pd.qcut(wine['Alcalinity'],q=5)"
   ]
  },
  {
   "cell_type": "code",
   "execution_count": 9,
   "id": "9b5209f2",
   "metadata": {},
   "outputs": [
    {
     "data": {
      "text/plain": [
       "Index(['target', 'Alcohol', 'Malic acid', 'Ash', 'Alcalinity', 'Magnesium',\n",
       "       'Total phenols', 'Flavanoids', 'Nonflavanoid phenols',\n",
       "       'Proanthocyanins', 'Color intensity', 'Hue', 'diluted wines',\n",
       "       'Proline'],\n",
       "      dtype='object')"
      ]
     },
     "execution_count": 9,
     "metadata": {},
     "output_type": "execute_result"
    }
   ],
   "source": [
    "wine.columns"
   ]
  },
  {
   "cell_type": "code",
   "execution_count": 10,
   "id": "4996f05a",
   "metadata": {},
   "outputs": [],
   "source": [
    "wine['Magnesium']=pd.qcut(wine['Magnesium'],q=5)\n",
    "wine['Total phenols']=pd.qcut(wine['Total phenols'],q=5)\n",
    "wine['Flavanoids']=pd.qcut(wine['Flavanoids'],q=5)\n",
    "wine['Nonflavanoid phenols']=pd.qcut(wine['Nonflavanoid phenols'],q=5)\n",
    "wine['Proanthocyanins']=pd.qcut(wine['Proanthocyanins'],q=5)\n",
    "wine['Color intensity']=pd.qcut(wine['Color intensity'],q=5)\n",
    "wine['Hue']=pd.qcut(wine['Hue'],q=5)\n",
    "wine['diluted wines']=pd.qcut(wine['diluted wines'],q=5)\n",
    "wine['Proline']=pd.qcut(wine['Proline'],q=5)"
   ]
  },
  {
   "cell_type": "code",
   "execution_count": 11,
   "id": "3486a4a8",
   "metadata": {},
   "outputs": [
    {
     "data": {
      "text/html": [
       "<div>\n",
       "<style scoped>\n",
       "    .dataframe tbody tr th:only-of-type {\n",
       "        vertical-align: middle;\n",
       "    }\n",
       "\n",
       "    .dataframe tbody tr th {\n",
       "        vertical-align: top;\n",
       "    }\n",
       "\n",
       "    .dataframe thead th {\n",
       "        text-align: right;\n",
       "    }\n",
       "</style>\n",
       "<table border=\"1\" class=\"dataframe\">\n",
       "  <thead>\n",
       "    <tr style=\"text-align: right;\">\n",
       "      <th></th>\n",
       "      <th>target</th>\n",
       "      <th>Alcohol</th>\n",
       "      <th>Malic acid</th>\n",
       "      <th>Ash</th>\n",
       "      <th>Alcalinity</th>\n",
       "      <th>Magnesium</th>\n",
       "      <th>Total phenols</th>\n",
       "      <th>Flavanoids</th>\n",
       "      <th>Nonflavanoid phenols</th>\n",
       "      <th>Proanthocyanins</th>\n",
       "      <th>Color intensity</th>\n",
       "      <th>Hue</th>\n",
       "      <th>diluted wines</th>\n",
       "      <th>Proline</th>\n",
       "    </tr>\n",
       "  </thead>\n",
       "  <tbody>\n",
       "    <tr>\n",
       "      <th>160</th>\n",
       "      <td>3</td>\n",
       "      <td>(13.276, 13.748]</td>\n",
       "      <td>(2.142, 3.418]</td>\n",
       "      <td>(2.416, 2.61]</td>\n",
       "      <td>(18.6, 20.0]</td>\n",
       "      <td>(101.0, 110.8]</td>\n",
       "      <td>(1.65, 2.05]</td>\n",
       "      <td>(0.339, 0.856]</td>\n",
       "      <td>(0.48, 0.66]</td>\n",
       "      <td>(0.409, 1.102]</td>\n",
       "      <td>(5.268, 7.02]</td>\n",
       "      <td>(0.91, 1.04]</td>\n",
       "      <td>(1.784, 2.514]</td>\n",
       "      <td>(602.8, 738.0]</td>\n",
       "    </tr>\n",
       "    <tr>\n",
       "      <th>6</th>\n",
       "      <td>1</td>\n",
       "      <td>(13.748, 14.83]</td>\n",
       "      <td>(2.142, 3.418]</td>\n",
       "      <td>(2.416, 2.61]</td>\n",
       "      <td>(16.8, 18.6]</td>\n",
       "      <td>(110.8, 162.0]</td>\n",
       "      <td>(2.518, 2.86]</td>\n",
       "      <td>(2.442, 2.978]</td>\n",
       "      <td>(0.3, 0.39]</td>\n",
       "      <td>(1.102, 1.42]</td>\n",
       "      <td>(4.04, 5.268]</td>\n",
       "      <td>(1.04, 1.158]</td>\n",
       "      <td>(3.252, 4.0]</td>\n",
       "      <td>(1045.0, 1680.0]</td>\n",
       "    </tr>\n",
       "    <tr>\n",
       "      <th>85</th>\n",
       "      <td>2</td>\n",
       "      <td>(11.029, 12.25]</td>\n",
       "      <td>(1.51, 1.73]</td>\n",
       "      <td>(2.3, 2.416]</td>\n",
       "      <td>(22.0, 30.0]</td>\n",
       "      <td>(88.0, 94.4]</td>\n",
       "      <td>(1.65, 2.05]</td>\n",
       "      <td>(0.856, 1.714]</td>\n",
       "      <td>(0.39, 0.48]</td>\n",
       "      <td>(1.42, 1.66]</td>\n",
       "      <td>(1.2790000000000001, 2.908]</td>\n",
       "      <td>(1.158, 1.71]</td>\n",
       "      <td>(1.784, 2.514]</td>\n",
       "      <td>(473.6, 602.8]</td>\n",
       "    </tr>\n",
       "    <tr>\n",
       "      <th>169</th>\n",
       "      <td>3</td>\n",
       "      <td>(11.029, 12.25]</td>\n",
       "      <td>(2.142, 3.418]</td>\n",
       "      <td>(2.3, 2.416]</td>\n",
       "      <td>(18.6, 20.0]</td>\n",
       "      <td>(94.4, 101.0]</td>\n",
       "      <td>(0.979, 1.65]</td>\n",
       "      <td>(0.339, 0.856]</td>\n",
       "      <td>(0.39, 0.48]</td>\n",
       "      <td>(0.409, 1.102]</td>\n",
       "      <td>(5.268, 7.02]</td>\n",
       "      <td>(0.479, 0.74]</td>\n",
       "      <td>(1.784, 2.514]</td>\n",
       "      <td>(473.6, 602.8]</td>\n",
       "    </tr>\n",
       "    <tr>\n",
       "      <th>69</th>\n",
       "      <td>2</td>\n",
       "      <td>(12.25, 12.74]</td>\n",
       "      <td>(1.51, 1.73]</td>\n",
       "      <td>(2.174, 2.3]</td>\n",
       "      <td>(20.0, 22.0]</td>\n",
       "      <td>(101.0, 110.8]</td>\n",
       "      <td>(0.979, 1.65]</td>\n",
       "      <td>(0.856, 1.714]</td>\n",
       "      <td>(0.3, 0.39]</td>\n",
       "      <td>(1.42, 1.66]</td>\n",
       "      <td>(2.908, 4.04]</td>\n",
       "      <td>(0.74, 0.91]</td>\n",
       "      <td>(1.784, 2.514]</td>\n",
       "      <td>(738.0, 1045.0]</td>\n",
       "    </tr>\n",
       "  </tbody>\n",
       "</table>\n",
       "</div>"
      ],
      "text/plain": [
       "     target           Alcohol      Malic acid            Ash    Alcalinity  \\\n",
       "160       3  (13.276, 13.748]  (2.142, 3.418]  (2.416, 2.61]  (18.6, 20.0]   \n",
       "6         1   (13.748, 14.83]  (2.142, 3.418]  (2.416, 2.61]  (16.8, 18.6]   \n",
       "85        2   (11.029, 12.25]    (1.51, 1.73]   (2.3, 2.416]  (22.0, 30.0]   \n",
       "169       3   (11.029, 12.25]  (2.142, 3.418]   (2.3, 2.416]  (18.6, 20.0]   \n",
       "69        2    (12.25, 12.74]    (1.51, 1.73]   (2.174, 2.3]  (20.0, 22.0]   \n",
       "\n",
       "          Magnesium  Total phenols      Flavanoids Nonflavanoid phenols  \\\n",
       "160  (101.0, 110.8]   (1.65, 2.05]  (0.339, 0.856]         (0.48, 0.66]   \n",
       "6    (110.8, 162.0]  (2.518, 2.86]  (2.442, 2.978]          (0.3, 0.39]   \n",
       "85     (88.0, 94.4]   (1.65, 2.05]  (0.856, 1.714]         (0.39, 0.48]   \n",
       "169   (94.4, 101.0]  (0.979, 1.65]  (0.339, 0.856]         (0.39, 0.48]   \n",
       "69   (101.0, 110.8]  (0.979, 1.65]  (0.856, 1.714]          (0.3, 0.39]   \n",
       "\n",
       "    Proanthocyanins              Color intensity            Hue  \\\n",
       "160  (0.409, 1.102]                (5.268, 7.02]   (0.91, 1.04]   \n",
       "6     (1.102, 1.42]                (4.04, 5.268]  (1.04, 1.158]   \n",
       "85     (1.42, 1.66]  (1.2790000000000001, 2.908]  (1.158, 1.71]   \n",
       "169  (0.409, 1.102]                (5.268, 7.02]  (0.479, 0.74]   \n",
       "69     (1.42, 1.66]                (2.908, 4.04]   (0.74, 0.91]   \n",
       "\n",
       "      diluted wines           Proline  \n",
       "160  (1.784, 2.514]    (602.8, 738.0]  \n",
       "6      (3.252, 4.0]  (1045.0, 1680.0]  \n",
       "85   (1.784, 2.514]    (473.6, 602.8]  \n",
       "169  (1.784, 2.514]    (473.6, 602.8]  \n",
       "69   (1.784, 2.514]   (738.0, 1045.0]  "
      ]
     },
     "execution_count": 11,
     "metadata": {},
     "output_type": "execute_result"
    }
   ],
   "source": [
    "wine.sample(5)"
   ]
  },
  {
   "cell_type": "code",
   "execution_count": 12,
   "id": "916fe784",
   "metadata": {},
   "outputs": [
    {
     "data": {
      "text/plain": [
       "<AxesSubplot:ylabel='Frequency'>"
      ]
     },
     "execution_count": 12,
     "metadata": {},
     "output_type": "execute_result"
    },
    {
     "data": {
      "image/png": "[encoded data removed]",
      "text/plain": [
       "<Figure size 432x288 with 1 Axes>"
      ]
     },
     "metadata": {
      "needs_background": "light"
     },
     "output_type": "display_data"
    }
   ],
   "source": [
    "wine.groupby(['Alcohol'])['target'].mean().plot(kind='hist')"
   ]
  },
  {
   "cell_type": "code",
   "execution_count": 13,
   "id": "3884cf60",
   "metadata": {
    "scrolled": true
   },
   "outputs": [
    {
     "data": {
      "text/plain": [
       "Alcohol\n",
       "(11.029, 12.25]     37\n",
       "(12.25, 12.74]      34\n",
       "(12.74, 13.276]     35\n",
       "(13.276, 13.748]    35\n",
       "(13.748, 14.83]     36\n",
       "Name: target, dtype: int64"
      ]
     },
     "execution_count": 13,
     "metadata": {},
     "output_type": "execute_result"
    }
   ],
   "source": [
    "wine.groupby(['Alcohol'])['target'].count()"
   ]
  },
  {
   "cell_type": "code",
   "execution_count": 14,
   "id": "b6dbbef2",
   "metadata": {
    "scrolled": true
   },
   "outputs": [
    {
     "data": {
      "text/plain": [
       "<AxesSubplot:ylabel='Frequency'>"
      ]
     },
     "execution_count": 14,
     "metadata": {},
     "output_type": "execute_result"
    },
    {
     "data": {
      "image/png": "[encoded data removed]",
      "text/plain": [
       "<Figure size 432x288 with 1 Axes>"
      ]
     },
     "metadata": {
      "needs_background": "light"
     },
     "output_type": "display_data"
    }
   ],
   "source": [
    "wine.groupby(['Alcohol'])['target'].count().plot(kind = 'hist')"
   ]
  },
  {
   "cell_type": "code",
   "execution_count": 17,
   "id": "b9eb4836",
   "metadata": {},
   "outputs": [
    {
     "name": "stdout",
     "output_type": "stream",
     "text": [
      "<class 'pandas.core.frame.DataFrame'>\n",
      "RangeIndex: 177 entries, 0 to 176\n",
      "Data columns (total 14 columns):\n",
      " #   Column                Non-Null Count  Dtype   \n",
      "---  ------                --------------  -----   \n",
      " 0   target                177 non-null    int64   \n",
      " 1   Alcohol               177 non-null    category\n",
      " 2   Malic acid            177 non-null    category\n",
      " 3   Ash                   177 non-null    category\n",
      " 4   Alcalinity            177 non-null    category\n",
      " 5   Magnesium             177 non-null    category\n",
      " 6   Total phenols         177 non-null    category\n",
      " 7   Flavanoids            177 non-null    category\n",
      " 8   Nonflavanoid phenols  177 non-null    category\n",
      " 9   Proanthocyanins       177 non-null    category\n",
      " 10  Color intensity       177 non-null    category\n",
      " 11  Hue                   177 non-null    category\n",
      " 12  diluted wines         177 non-null    category\n",
      " 13  Proline               177 non-null    category\n",
      "dtypes: category(13), int64(1)\n",
      "memory usage: 7.0 KB\n"
     ]
    }
   ],
   "source": [
    "wine.info()"
   ]
  },
  {
   "cell_type": "code",
   "execution_count": 38,
   "id": "346ba541",
   "metadata": {},
   "outputs": [
    {
     "data": {
      "text/plain": [
       "<AxesSubplot:>"
      ]
     },
     "execution_count": 38,
     "metadata": {},
     "output_type": "execute_result"
    },
    {
     "data": {
      "image/png": "[encoded data removed]",
      "text/plain": [
       "<Figure size 432x288 with 2 Axes>"
      ]
     },
     "metadata": {
      "needs_background": "light"
     },
     "output_type": "display_data"
    }
   ],
   "source": [
    "sns.heatmap(wine,linewidths=25,linecolor='blue',)"
   ]
  },
  {
   "cell_type": "code",
   "execution_count": 44,
   "id": "465357bb",
   "metadata": {
    "scrolled": true
   },
   "outputs": [
    {
     "data": {
      "text/html": [
       "<div>\n",
       "<style scoped>\n",
       "    .dataframe tbody tr th:only-of-type {\n",
       "        vertical-align: middle;\n",
       "    }\n",
       "\n",
       "    .dataframe tbody tr th {\n",
       "        vertical-align: top;\n",
       "    }\n",
       "\n",
       "    .dataframe thead th {\n",
       "        text-align: right;\n",
       "    }\n",
       "</style>\n",
       "<table border=\"1\" class=\"dataframe\">\n",
       "  <thead>\n",
       "    <tr style=\"text-align: right;\">\n",
       "      <th></th>\n",
       "      <th>target</th>\n",
       "      <th>Alcohol</th>\n",
       "      <th>Malic acid</th>\n",
       "      <th>Ash</th>\n",
       "      <th>Magnesium</th>\n",
       "      <th>Total phenols</th>\n",
       "      <th>Flavanoids</th>\n",
       "      <th>Nonflavanoid phenols</th>\n",
       "      <th>Proanthocyanins</th>\n",
       "      <th>Color intensity</th>\n",
       "      <th>Hue</th>\n",
       "      <th>diluted wines</th>\n",
       "      <th>Proline</th>\n",
       "    </tr>\n",
       "  </thead>\n",
       "  <tbody>\n",
       "    <tr>\n",
       "      <th>target</th>\n",
       "      <td>1.000000</td>\n",
       "      <td>-0.321238</td>\n",
       "      <td>0.436127</td>\n",
       "      <td>-0.048260</td>\n",
       "      <td>-0.198944</td>\n",
       "      <td>-0.717933</td>\n",
       "      <td>-0.846485</td>\n",
       "      <td>0.487215</td>\n",
       "      <td>-0.494887</td>\n",
       "      <td>0.268562</td>\n",
       "      <td>-0.617690</td>\n",
       "      <td>-0.786428</td>\n",
       "      <td>-0.631227</td>\n",
       "    </tr>\n",
       "    <tr>\n",
       "      <th>Alcohol</th>\n",
       "      <td>-0.321238</td>\n",
       "      <td>1.000000</td>\n",
       "      <td>0.099963</td>\n",
       "      <td>0.210964</td>\n",
       "      <td>0.258742</td>\n",
       "      <td>0.284543</td>\n",
       "      <td>0.230133</td>\n",
       "      <td>-0.151445</td>\n",
       "      <td>0.127561</td>\n",
       "      <td>0.547883</td>\n",
       "      <td>-0.075375</td>\n",
       "      <td>0.057417</td>\n",
       "      <td>0.641068</td>\n",
       "    </tr>\n",
       "    <tr>\n",
       "      <th>Malic acid</th>\n",
       "      <td>0.436127</td>\n",
       "      <td>0.099963</td>\n",
       "      <td>1.000000</td>\n",
       "      <td>0.164955</td>\n",
       "      <td>-0.049049</td>\n",
       "      <td>-0.333512</td>\n",
       "      <td>-0.409324</td>\n",
       "      <td>0.291501</td>\n",
       "      <td>-0.217975</td>\n",
       "      <td>0.250053</td>\n",
       "      <td>-0.560854</td>\n",
       "      <td>-0.366720</td>\n",
       "      <td>-0.189512</td>\n",
       "    </tr>\n",
       "    <tr>\n",
       "      <th>Ash</th>\n",
       "      <td>-0.048260</td>\n",
       "      <td>0.210964</td>\n",
       "      <td>0.164955</td>\n",
       "      <td>1.000000</td>\n",
       "      <td>0.287107</td>\n",
       "      <td>0.128176</td>\n",
       "      <td>0.114084</td>\n",
       "      <td>0.187354</td>\n",
       "      <td>0.008082</td>\n",
       "      <td>0.258643</td>\n",
       "      <td>-0.075181</td>\n",
       "      <td>0.001503</td>\n",
       "      <td>0.222979</td>\n",
       "    </tr>\n",
       "    <tr>\n",
       "      <th>Magnesium</th>\n",
       "      <td>-0.198944</td>\n",
       "      <td>0.258742</td>\n",
       "      <td>-0.049049</td>\n",
       "      <td>0.287107</td>\n",
       "      <td>1.000000</td>\n",
       "      <td>0.208200</td>\n",
       "      <td>0.187101</td>\n",
       "      <td>-0.252091</td>\n",
       "      <td>0.226504</td>\n",
       "      <td>0.199337</td>\n",
       "      <td>0.052042</td>\n",
       "      <td>0.046961</td>\n",
       "      <td>0.387542</td>\n",
       "    </tr>\n",
       "    <tr>\n",
       "      <th>Total phenols</th>\n",
       "      <td>-0.717933</td>\n",
       "      <td>0.284543</td>\n",
       "      <td>-0.333512</td>\n",
       "      <td>0.128176</td>\n",
       "      <td>0.208200</td>\n",
       "      <td>1.000000</td>\n",
       "      <td>0.864046</td>\n",
       "      <td>-0.448301</td>\n",
       "      <td>0.610533</td>\n",
       "      <td>-0.056401</td>\n",
       "      <td>0.432987</td>\n",
       "      <td>0.699566</td>\n",
       "      <td>0.495839</td>\n",
       "    </tr>\n",
       "    <tr>\n",
       "      <th>Flavanoids</th>\n",
       "      <td>-0.846485</td>\n",
       "      <td>0.230133</td>\n",
       "      <td>-0.409324</td>\n",
       "      <td>0.114084</td>\n",
       "      <td>0.187101</td>\n",
       "      <td>0.864046</td>\n",
       "      <td>1.000000</td>\n",
       "      <td>-0.536326</td>\n",
       "      <td>0.650254</td>\n",
       "      <td>-0.174411</td>\n",
       "      <td>0.543208</td>\n",
       "      <td>0.786372</td>\n",
       "      <td>0.491180</td>\n",
       "    </tr>\n",
       "    <tr>\n",
       "      <th>Nonflavanoid phenols</th>\n",
       "      <td>0.487215</td>\n",
       "      <td>-0.151445</td>\n",
       "      <td>0.291501</td>\n",
       "      <td>0.187354</td>\n",
       "      <td>-0.252091</td>\n",
       "      <td>-0.448301</td>\n",
       "      <td>-0.536326</td>\n",
       "      <td>1.000000</td>\n",
       "      <td>-0.363268</td>\n",
       "      <td>0.140192</td>\n",
       "      <td>-0.261709</td>\n",
       "      <td>-0.501859</td>\n",
       "      <td>-0.308886</td>\n",
       "    </tr>\n",
       "    <tr>\n",
       "      <th>Proanthocyanins</th>\n",
       "      <td>-0.494887</td>\n",
       "      <td>0.127561</td>\n",
       "      <td>-0.217975</td>\n",
       "      <td>0.008082</td>\n",
       "      <td>0.226504</td>\n",
       "      <td>0.610533</td>\n",
       "      <td>0.650254</td>\n",
       "      <td>-0.363268</td>\n",
       "      <td>1.000000</td>\n",
       "      <td>-0.027112</td>\n",
       "      <td>0.294397</td>\n",
       "      <td>0.513415</td>\n",
       "      <td>0.325731</td>\n",
       "    </tr>\n",
       "    <tr>\n",
       "      <th>Color intensity</th>\n",
       "      <td>0.268562</td>\n",
       "      <td>0.547883</td>\n",
       "      <td>0.250053</td>\n",
       "      <td>0.258643</td>\n",
       "      <td>0.199337</td>\n",
       "      <td>-0.056401</td>\n",
       "      <td>-0.174411</td>\n",
       "      <td>0.140192</td>\n",
       "      <td>-0.027112</td>\n",
       "      <td>1.000000</td>\n",
       "      <td>-0.522615</td>\n",
       "      <td>-0.435744</td>\n",
       "      <td>0.315632</td>\n",
       "    </tr>\n",
       "    <tr>\n",
       "      <th>Hue</th>\n",
       "      <td>-0.617690</td>\n",
       "      <td>-0.075375</td>\n",
       "      <td>-0.560854</td>\n",
       "      <td>-0.075181</td>\n",
       "      <td>0.052042</td>\n",
       "      <td>0.432987</td>\n",
       "      <td>0.543208</td>\n",
       "      <td>-0.261709</td>\n",
       "      <td>0.294397</td>\n",
       "      <td>-0.522615</td>\n",
       "      <td>1.000000</td>\n",
       "      <td>0.567395</td>\n",
       "      <td>0.234879</td>\n",
       "    </tr>\n",
       "    <tr>\n",
       "      <th>diluted wines</th>\n",
       "      <td>-0.786428</td>\n",
       "      <td>0.057417</td>\n",
       "      <td>-0.366720</td>\n",
       "      <td>0.001503</td>\n",
       "      <td>0.046961</td>\n",
       "      <td>0.699566</td>\n",
       "      <td>0.786372</td>\n",
       "      <td>-0.501859</td>\n",
       "      <td>0.513415</td>\n",
       "      <td>-0.435744</td>\n",
       "      <td>0.567395</td>\n",
       "      <td>1.000000</td>\n",
       "      <td>0.306031</td>\n",
       "    </tr>\n",
       "    <tr>\n",
       "      <th>Proline</th>\n",
       "      <td>-0.631227</td>\n",
       "      <td>0.641068</td>\n",
       "      <td>-0.189512</td>\n",
       "      <td>0.222979</td>\n",
       "      <td>0.387542</td>\n",
       "      <td>0.495839</td>\n",
       "      <td>0.491180</td>\n",
       "      <td>-0.308886</td>\n",
       "      <td>0.325731</td>\n",
       "      <td>0.315632</td>\n",
       "      <td>0.234879</td>\n",
       "      <td>0.306031</td>\n",
       "      <td>1.000000</td>\n",
       "    </tr>\n",
       "  </tbody>\n",
       "</table>\n",
       "</div>"
      ],
      "text/plain": [
       "                        target   Alcohol  Malic acid       Ash  Magnesium  \\\n",
       "target                1.000000 -0.321238    0.436127 -0.048260  -0.198944   \n",
       "Alcohol              -0.321238  1.000000    0.099963  0.210964   0.258742   \n",
       "Malic acid            0.436127  0.099963    1.000000  0.164955  -0.049049   \n",
       "Ash                  -0.048260  0.210964    0.164955  1.000000   0.287107   \n",
       "Magnesium            -0.198944  0.258742   -0.049049  0.287107   1.000000   \n",
       "Total phenols        -0.717933  0.284543   -0.333512  0.128176   0.208200   \n",
       "Flavanoids           -0.846485  0.230133   -0.409324  0.114084   0.187101   \n",
       "Nonflavanoid phenols  0.487215 -0.151445    0.291501  0.187354  -0.252091   \n",
       "Proanthocyanins      -0.494887  0.127561   -0.217975  0.008082   0.226504   \n",
       "Color intensity       0.268562  0.547883    0.250053  0.258643   0.199337   \n",
       "Hue                  -0.617690 -0.075375   -0.560854 -0.075181   0.052042   \n",
       "diluted wines        -0.786428  0.057417   -0.366720  0.001503   0.046961   \n",
       "Proline              -0.631227  0.641068   -0.189512  0.222979   0.387542   \n",
       "\n",
       "                      Total phenols  Flavanoids  Nonflavanoid phenols  \\\n",
       "target                    -0.717933   -0.846485              0.487215   \n",
       "Alcohol                    0.284543    0.230133             -0.151445   \n",
       "Malic acid                -0.333512   -0.409324              0.291501   \n",
       "Ash                        0.128176    0.114084              0.187354   \n",
       "Magnesium                  0.208200    0.187101             -0.252091   \n",
       "Total phenols              1.000000    0.864046             -0.448301   \n",
       "Flavanoids                 0.864046    1.000000             -0.536326   \n",
       "Nonflavanoid phenols      -0.448301   -0.536326              1.000000   \n",
       "Proanthocyanins            0.610533    0.650254             -0.363268   \n",
       "Color intensity           -0.056401   -0.174411              0.140192   \n",
       "Hue                        0.432987    0.543208             -0.261709   \n",
       "diluted wines              0.699566    0.786372             -0.501859   \n",
       "Proline                    0.495839    0.491180             -0.308886   \n",
       "\n",
       "                      Proanthocyanins  Color intensity       Hue  \\\n",
       "target                      -0.494887         0.268562 -0.617690   \n",
       "Alcohol                      0.127561         0.547883 -0.075375   \n",
       "Malic acid                  -0.217975         0.250053 -0.560854   \n",
       "Ash                          0.008082         0.258643 -0.075181   \n",
       "Magnesium                    0.226504         0.199337  0.052042   \n",
       "Total phenols                0.610533        -0.056401  0.432987   \n",
       "Flavanoids                   0.650254        -0.174411  0.543208   \n",
       "Nonflavanoid phenols        -0.363268         0.140192 -0.261709   \n",
       "Proanthocyanins              1.000000        -0.027112  0.294397   \n",
       "Color intensity             -0.027112         1.000000 -0.522615   \n",
       "Hue                          0.294397        -0.522615  1.000000   \n",
       "diluted wines                0.513415        -0.435744  0.567395   \n",
       "Proline                      0.325731         0.315632  0.234879   \n",
       "\n",
       "                      diluted wines   Proline  \n",
       "target                    -0.786428 -0.631227  \n",
       "Alcohol                    0.057417  0.641068  \n",
       "Malic acid                -0.366720 -0.189512  \n",
       "Ash                        0.001503  0.222979  \n",
       "Magnesium                  0.046961  0.387542  \n",
       "Total phenols              0.699566  0.495839  \n",
       "Flavanoids                 0.786372  0.491180  \n",
       "Nonflavanoid phenols      -0.501859 -0.308886  \n",
       "Proanthocyanins            0.513415  0.325731  \n",
       "Color intensity           -0.435744  0.315632  \n",
       "Hue                        0.567395  0.234879  \n",
       "diluted wines              1.000000  0.306031  \n",
       "Proline                    0.306031  1.000000  "
      ]
     },
     "execution_count": 44,
     "metadata": {},
     "output_type": "execute_result"
    }
   ],
   "source": [
    "correlaation = wine.corr()\n",
    "correlaation"
   ]
  },
  {
   "cell_type": "code",
   "execution_count": 37,
   "id": "71df4a37",
   "metadata": {},
   "outputs": [
    {
     "data": {
      "text/plain": [
       "<AxesSubplot:>"
      ]
     },
     "execution_count": 37,
     "metadata": {},
     "output_type": "execute_result"
    },
    {
     "data": {
      "image/png": "[encoded data removed]",
      "text/plain": [
       "<Figure size 432x288 with 2 Axes>"
      ]
     },
     "metadata": {
      "needs_background": "light"
     },
     "output_type": "display_data"
    }
   ],
   "source": [
    "# sns.heatmap(correlaation,linewidths=5)\n",
    "sns.heatmap(correlaation,linecolor='red',linewidths=1,vmin=0, vmax=1)"
   ]
  },
  {
   "cell_type": "code",
   "execution_count": 46,
   "id": "3d4d803f",
   "metadata": {},
   "outputs": [
    {
     "data": {
      "text/plain": [
       "<AxesSubplot:>"
      ]
     },
     "execution_count": 46,
     "metadata": {},
     "output_type": "execute_result"
    },
    {
     "data": {
      "image/png": "[encoded data removed]",
      "text/plain": [
       "<Figure size 432x288 with 2 Axes>"
      ]
     },
     "metadata": {
      "needs_background": "light"
     },
     "output_type": "display_data"
    }
   ],
   "source": [
    "sns.heatmap(correlaation,linecolor='red',linewidths=1,)"
   ]
  },
  {
   "cell_type": "code",
   "execution_count": 47,
   "id": "0f9a8539",
   "metadata": {
    "scrolled": true
   },
   "outputs": [
    {
     "data": {
      "text/plain": [
       "<AxesSubplot:ylabel='Frequency'>"
      ]
     },
     "execution_count": 47,
     "metadata": {},
     "output_type": "execute_result"
    },
    {
     "data": {
      "image/png": "[encoded data removed]",
      "text/plain": [
       "<Figure size 432x288 with 1 Axes>"
      ]
     },
     "metadata": {
      "needs_background": "light"
     },
     "output_type": "display_data"
    }
   ],
   "source": [
    "wine.groupby(['Alcohol'])['target'].count().plot(kind='hist')\n",
    "wine.groupby(['Alcohol'])['target'].count().plot(kind='hist')"
   ]
  },
  {
   "cell_type": "code",
   "execution_count": 54,
   "id": "ca29cbd3",
   "metadata": {},
   "outputs": [
    {
     "data": {
      "text/html": [
       "<div>\n",
       "<style scoped>\n",
       "    .dataframe tbody tr th:only-of-type {\n",
       "        vertical-align: middle;\n",
       "    }\n",
       "\n",
       "    .dataframe tbody tr th {\n",
       "        vertical-align: top;\n",
       "    }\n",
       "\n",
       "    .dataframe thead th {\n",
       "        text-align: right;\n",
       "    }\n",
       "</style>\n",
       "<table border=\"1\" class=\"dataframe\">\n",
       "  <thead>\n",
       "    <tr style=\"text-align: right;\">\n",
       "      <th></th>\n",
       "      <th>target</th>\n",
       "      <th>Alcohol</th>\n",
       "      <th>Malic acid</th>\n",
       "      <th>Ash</th>\n",
       "      <th>Alcalinity</th>\n",
       "      <th>Magnesium</th>\n",
       "      <th>Total phenols</th>\n",
       "      <th>Flavanoids</th>\n",
       "      <th>Nonflavanoid phenols</th>\n",
       "      <th>Proanthocyanins</th>\n",
       "      <th>Color intensity</th>\n",
       "      <th>Hue</th>\n",
       "      <th>diluted wines</th>\n",
       "      <th>Proline</th>\n",
       "    </tr>\n",
       "  </thead>\n",
       "  <tbody>\n",
       "    <tr>\n",
       "      <th>0</th>\n",
       "      <td>1</td>\n",
       "      <td>13.20</td>\n",
       "      <td>1.78</td>\n",
       "      <td>2.14</td>\n",
       "      <td>(10.599, 16.8]</td>\n",
       "      <td>100</td>\n",
       "      <td>2.65</td>\n",
       "      <td>2.76</td>\n",
       "      <td>0.26</td>\n",
       "      <td>1.28</td>\n",
       "      <td>4.38</td>\n",
       "      <td>1.05</td>\n",
       "      <td>3.40</td>\n",
       "      <td>1050</td>\n",
       "    </tr>\n",
       "    <tr>\n",
       "      <th>1</th>\n",
       "      <td>1</td>\n",
       "      <td>13.16</td>\n",
       "      <td>2.36</td>\n",
       "      <td>2.67</td>\n",
       "      <td>(16.8, 18.6]</td>\n",
       "      <td>101</td>\n",
       "      <td>2.80</td>\n",
       "      <td>3.24</td>\n",
       "      <td>0.30</td>\n",
       "      <td>2.81</td>\n",
       "      <td>5.68</td>\n",
       "      <td>1.03</td>\n",
       "      <td>3.17</td>\n",
       "      <td>1185</td>\n",
       "    </tr>\n",
       "    <tr>\n",
       "      <th>2</th>\n",
       "      <td>1</td>\n",
       "      <td>14.37</td>\n",
       "      <td>1.95</td>\n",
       "      <td>2.50</td>\n",
       "      <td>(10.599, 16.8]</td>\n",
       "      <td>113</td>\n",
       "      <td>3.85</td>\n",
       "      <td>3.49</td>\n",
       "      <td>0.24</td>\n",
       "      <td>2.18</td>\n",
       "      <td>7.80</td>\n",
       "      <td>0.86</td>\n",
       "      <td>3.45</td>\n",
       "      <td>1480</td>\n",
       "    </tr>\n",
       "    <tr>\n",
       "      <th>3</th>\n",
       "      <td>1</td>\n",
       "      <td>13.24</td>\n",
       "      <td>2.59</td>\n",
       "      <td>2.87</td>\n",
       "      <td>(20.0, 22.0]</td>\n",
       "      <td>118</td>\n",
       "      <td>2.80</td>\n",
       "      <td>2.69</td>\n",
       "      <td>0.39</td>\n",
       "      <td>1.82</td>\n",
       "      <td>4.32</td>\n",
       "      <td>1.04</td>\n",
       "      <td>2.93</td>\n",
       "      <td>735</td>\n",
       "    </tr>\n",
       "    <tr>\n",
       "      <th>4</th>\n",
       "      <td>1</td>\n",
       "      <td>14.20</td>\n",
       "      <td>1.76</td>\n",
       "      <td>2.45</td>\n",
       "      <td>(10.599, 16.8]</td>\n",
       "      <td>112</td>\n",
       "      <td>3.27</td>\n",
       "      <td>3.39</td>\n",
       "      <td>0.34</td>\n",
       "      <td>1.97</td>\n",
       "      <td>6.75</td>\n",
       "      <td>1.05</td>\n",
       "      <td>2.85</td>\n",
       "      <td>1450</td>\n",
       "    </tr>\n",
       "  </tbody>\n",
       "</table>\n",
       "</div>"
      ],
      "text/plain": [
       "   target  Alcohol  Malic acid   Ash      Alcalinity  Magnesium  \\\n",
       "0       1    13.20        1.78  2.14  (10.599, 16.8]        100   \n",
       "1       1    13.16        2.36  2.67    (16.8, 18.6]        101   \n",
       "2       1    14.37        1.95  2.50  (10.599, 16.8]        113   \n",
       "3       1    13.24        2.59  2.87    (20.0, 22.0]        118   \n",
       "4       1    14.20        1.76  2.45  (10.599, 16.8]        112   \n",
       "\n",
       "   Total phenols  Flavanoids  Nonflavanoid phenols  Proanthocyanins  \\\n",
       "0           2.65        2.76                  0.26             1.28   \n",
       "1           2.80        3.24                  0.30             2.81   \n",
       "2           3.85        3.49                  0.24             2.18   \n",
       "3           2.80        2.69                  0.39             1.82   \n",
       "4           3.27        3.39                  0.34             1.97   \n",
       "\n",
       "   Color intensity   Hue  diluted wines  Proline  \n",
       "0             4.38  1.05           3.40     1050  \n",
       "1             5.68  1.03           3.17     1185  \n",
       "2             7.80  0.86           3.45     1480  \n",
       "3             4.32  1.04           2.93      735  \n",
       "4             6.75  1.05           2.85     1450  "
      ]
     },
     "execution_count": 54,
     "metadata": {},
     "output_type": "execute_result"
    }
   ],
   "source": [
    "wine.head()"
   ]
  },
  {
   "cell_type": "code",
   "execution_count": 73,
   "id": "57c4e832",
   "metadata": {},
   "outputs": [],
   "source": [
    "from sklearn.model_selection import train_test_split\n",
    "\n",
    "x=wine[['Alcohol','Malic acid', 'Ash','Magnesium','Total phenols', 'Flavanoids', 'Nonflavanoid phenols']]\n",
    "y=wine['target']\n",
    "x_train,x_test,y_train,y_test = train_test_split(x,y,test_size=0.3,random_state=123,)"
   ]
  },
  {
   "cell_type": "code",
   "execution_count": 74,
   "id": "d72d19db",
   "metadata": {},
   "outputs": [
    {
     "data": {
      "text/plain": [
       "((123, 7), (54, 7), (123,), (54,))"
      ]
     },
     "execution_count": 74,
     "metadata": {},
     "output_type": "execute_result"
    }
   ],
   "source": [
    "x_train.shape,x_test.shape,y_train.shape,y_test.shape"
   ]
  },
  {
   "cell_type": "code",
   "execution_count": 75,
   "id": "e1effc7a",
   "metadata": {},
   "outputs": [
    {
     "data": {
      "text/plain": [
       "CategoricalNB()"
      ]
     },
     "execution_count": 75,
     "metadata": {},
     "output_type": "execute_result"
    }
   ],
   "source": [
    "# naive bayes\n",
    "\n",
    "from sklearn.naive_bayes import CategoricalNB\n",
    "cnb = CategoricalNB()\n",
    "cnb.fit(x_train,y_train)"
   ]
  },
  {
   "cell_type": "code",
   "execution_count": 76,
   "id": "c457484c",
   "metadata": {},
   "outputs": [
    {
     "data": {
      "text/plain": [
       "0.967479674796748"
      ]
     },
     "execution_count": 76,
     "metadata": {},
     "output_type": "execute_result"
    }
   ],
   "source": [
    "cnb.score(x_train,y_train)"
   ]
  },
  {
   "cell_type": "code",
   "execution_count": 77,
   "id": "e49decfe",
   "metadata": {},
   "outputs": [
    {
     "data": {
      "text/plain": [
       "0.8333333333333334"
      ]
     },
     "execution_count": 77,
     "metadata": {},
     "output_type": "execute_result"
    }
   ],
   "source": [
    "cnb.score(x_test,y_test)"
   ]
  },
  {
   "cell_type": "code",
   "execution_count": 81,
   "id": "832f853f",
   "metadata": {},
   "outputs": [
    {
     "name": "stdout",
     "output_type": "stream",
     "text": [
      "[array([[ 0.,  0.,  0.,  0.,  0.,  0.,  0.,  0.,  0.,  0.,  0.,  0.,  1.,\n",
      "        27., 15.],\n",
      "       [ 0.,  0.,  0.,  0.,  0.,  0.,  0.,  0.,  0.,  0.,  0., 15., 33.,\n",
      "         7.,  0.],\n",
      "       [ 0.,  0.,  0.,  0.,  0.,  0.,  0.,  0.,  0.,  0.,  0.,  0., 10.,\n",
      "        13.,  2.]]), array([[ 0., 33.,  5.,  4.,  1.,  0.],\n",
      "       [ 7., 31.,  9.,  4.,  3.,  1.],\n",
      "       [ 0.,  2.,  6.,  9.,  5.,  3.]]), array([[ 0.,  0., 43.,  0.],\n",
      "       [ 0., 15., 39.,  1.],\n",
      "       [ 0.,  0., 25.,  0.]]), array([[0., 0., 0., 0., 0., 0., 0., 0., 0., 0., 0., 0., 0., 0., 0., 0.,\n",
      "        0., 0., 0., 0., 0., 0., 0., 0., 0., 0., 0., 0., 0., 0., 0., 0.,\n",
      "        0., 0., 0., 0., 0., 0., 0., 0., 0., 0., 0., 0., 0., 0., 0., 0.,\n",
      "        0., 0., 0., 0., 0., 0., 0., 0., 0., 0., 0., 0., 0., 0., 0., 0.,\n",
      "        0., 0., 0., 0., 0., 0., 0., 0., 0., 0., 0., 0., 0., 0., 0., 0.,\n",
      "        0., 0., 0., 0., 0., 0., 0., 0., 0., 1., 1., 1., 1., 1., 2., 1.,\n",
      "        1., 1., 0., 0., 2., 4., 2., 1., 0., 1., 1., 2., 3., 0., 1., 2.,\n",
      "        2., 1., 0., 1., 2., 1., 2., 0., 1., 1., 0., 0., 0., 0., 1., 0.,\n",
      "        1., 0., 0., 0., 1., 0., 0., 0., 0., 0., 0., 0., 0., 0., 0., 0.,\n",
      "        0., 0., 0., 0., 0., 0., 0., 0., 0., 0., 0., 0., 0., 0., 0., 0.,\n",
      "        0., 0., 0.],\n",
      "       [0., 0., 0., 0., 0., 0., 0., 0., 0., 0., 0., 0., 0., 0., 0., 0.,\n",
      "        0., 0., 0., 0., 0., 0., 0., 0., 0., 0., 0., 0., 0., 0., 0., 0.,\n",
      "        0., 0., 0., 0., 0., 0., 0., 0., 0., 0., 0., 0., 0., 0., 0., 0.,\n",
      "        0., 0., 0., 0., 0., 0., 0., 0., 0., 0., 0., 0., 0., 0., 0., 0.,\n",
      "        0., 0., 0., 0., 0., 0., 0., 0., 0., 0., 0., 0., 0., 0., 3., 0.,\n",
      "        3., 1., 1., 0., 2., 3., 8., 3., 5., 0., 0., 0., 2., 0., 3., 0.,\n",
      "        0., 2., 3., 1., 0., 3., 1., 2., 0., 0., 0., 1., 1., 0., 1., 0.,\n",
      "        1., 0., 0., 0., 0., 0., 0., 1., 0., 0., 0., 0., 0., 0., 0., 0.,\n",
      "        0., 0., 0., 0., 0., 0., 1., 0., 1., 0., 0., 0., 0., 0., 0., 0.,\n",
      "        0., 0., 0., 0., 0., 0., 0., 1., 0., 0., 0., 0., 0., 0., 0., 0.,\n",
      "        0., 0., 1.],\n",
      "       [0., 0., 0., 0., 0., 0., 0., 0., 0., 0., 0., 0., 0., 0., 0., 0.,\n",
      "        0., 0., 0., 0., 0., 0., 0., 0., 0., 0., 0., 0., 0., 0., 0., 0.,\n",
      "        0., 0., 0., 0., 0., 0., 0., 0., 0., 0., 0., 0., 0., 0., 0., 0.,\n",
      "        0., 0., 0., 0., 0., 0., 0., 0., 0., 0., 0., 0., 0., 0., 0., 0.,\n",
      "        0., 0., 0., 0., 0., 0., 0., 0., 0., 0., 0., 0., 0., 0., 0., 0.,\n",
      "        0., 0., 0., 0., 0., 0., 1., 0., 2., 3., 0., 1., 1., 1., 0., 1.,\n",
      "        3., 1., 2., 0., 0., 0., 0., 1., 0., 1., 2., 0., 0., 0., 0., 0.,\n",
      "        0., 1., 0., 0., 0., 0., 0., 0., 2., 0., 1., 1., 0., 0., 0., 0.,\n",
      "        0., 0., 0., 0., 0., 0., 0., 0., 0., 0., 0., 0., 0., 0., 0., 0.,\n",
      "        0., 0., 0., 0., 0., 0., 0., 0., 0., 0., 0., 0., 0., 0., 0., 0.,\n",
      "        0., 0., 0.]]), array([[ 0.,  0., 28., 15.],\n",
      "       [ 0., 17., 32.,  6.],\n",
      "       [ 0., 23.,  2.,  0.]]), array([[ 0.,  0., 20., 23.,  0.,  0.],\n",
      "       [ 2., 21., 27.,  4.,  0.,  1.],\n",
      "       [20.,  5.,  0.,  0.,  0.,  0.]]), array([[43.],\n",
      "       [55.],\n",
      "       [25.]])]\n"
     ]
    }
   ],
   "source": [
    "print(cnb.category_count_)"
   ]
  },
  {
   "cell_type": "code",
   "execution_count": 89,
   "id": "c90f5e6e",
   "metadata": {},
   "outputs": [
    {
     "data": {
      "text/plain": [
       "133    3\n",
       "134    3\n",
       "130    3\n",
       "163    3\n",
       "173    3\n",
       "60     2\n",
       "41     1\n",
       "146    3\n",
       "125    2\n",
       "143    3\n",
       "Name: target, dtype: int64"
      ]
     },
     "execution_count": 89,
     "metadata": {},
     "output_type": "execute_result"
    }
   ],
   "source": [
    "y_test[:10]"
   ]
  },
  {
   "cell_type": "code",
   "execution_count": 90,
   "id": "6e0cd041",
   "metadata": {
    "scrolled": true
   },
   "outputs": [
    {
     "data": {
      "text/plain": [
       "array([2, 3, 2, 3, 3, 2, 1, 3, 2, 3], dtype=int64)"
      ]
     },
     "execution_count": 90,
     "metadata": {},
     "output_type": "execute_result"
    }
   ],
   "source": [
    "cnb.predict(x_test[:10])"
   ]
  },
  {
   "cell_type": "code",
   "execution_count": 85,
   "id": "ab91e468",
   "metadata": {},
   "outputs": [
    {
     "data": {
      "text/plain": [
       "array([[1.15975566e-02, 9.44604656e-01, 4.37977872e-02],\n",
       "       [2.16309634e-04, 1.64502477e-01, 8.35281213e-01],\n",
       "       [1.33447424e-04, 5.58173819e-01, 4.41692734e-01],\n",
       "       [1.87842035e-03, 9.00334032e-03, 9.89118239e-01],\n",
       "       [1.64845736e-03, 6.32089513e-03, 9.92030648e-01],\n",
       "       [1.95565348e-02, 9.73409693e-01, 7.03377180e-03],\n",
       "       [9.92662287e-01, 7.25600808e-03, 8.17053935e-05],\n",
       "       [1.52117739e-05, 9.37047186e-02, 9.06280070e-01],\n",
       "       [7.27731674e-02, 9.26136255e-01, 1.09057718e-03],\n",
       "       [1.46009375e-04, 3.33118365e-02, 9.66542154e-01],\n",
       "       [1.64845736e-03, 6.32089513e-03, 9.92030648e-01],\n",
       "       [1.80750924e-02, 9.81460554e-01, 4.64353647e-04],\n",
       "       [2.22987100e-01, 7.75859225e-01, 1.15367526e-03],\n",
       "       [8.67688402e-01, 1.31973854e-01, 3.37744427e-04],\n",
       "       [8.67395444e-01, 1.31929296e-01, 6.75260788e-04],\n",
       "       [5.34977685e-01, 4.47530320e-01, 1.74919953e-02],\n",
       "       [7.26557009e-02, 7.92549718e-02, 8.48089327e-01],\n",
       "       [1.65368374e-03, 3.17046766e-03, 9.95175849e-01],\n",
       "       [7.93617819e-01, 1.92378137e-01, 1.40040439e-02],\n",
       "       [3.02455708e-01, 6.64167911e-01, 3.33763812e-02],\n",
       "       [2.51047918e-02, 7.24182274e-01, 2.50712935e-01],\n",
       "       [1.64845736e-03, 6.32089513e-03, 9.92030648e-01],\n",
       "       [3.98883042e-06, 9.94926667e-01, 5.06934403e-03],\n",
       "       [1.16513317e-01, 8.78689411e-01, 4.79727267e-03],\n",
       "       [4.07998344e-01, 5.11960502e-01, 8.00411530e-02],\n",
       "       [6.49331168e-03, 1.65987682e-02, 9.76907920e-01],\n",
       "       [4.26344162e-05, 1.21587287e-02, 9.87798637e-01],\n",
       "       [1.02570130e-02, 9.86258862e-01, 3.48412472e-03],\n",
       "       [9.51511994e-01, 4.82410908e-02, 2.46914962e-04],\n",
       "       [9.83354100e-01, 1.63588250e-02, 2.87075146e-04],\n",
       "       [9.27982877e-01, 7.05722679e-02, 1.44485529e-03],\n",
       "       [6.20837161e-01, 3.77712887e-01, 1.44995109e-03],\n",
       "       [3.82652821e-04, 9.03829474e-01, 9.57878729e-02],\n",
       "       [2.85131344e-02, 9.71442471e-01, 4.43945186e-05],\n",
       "       [2.66859235e-04, 5.58099342e-01, 4.41633799e-01],\n",
       "       [5.36821882e-06, 9.48447702e-01, 5.15469302e-02],\n",
       "       [7.65012908e-04, 9.03483754e-01, 9.57512334e-02],\n",
       "       [9.11489847e-01, 8.66474847e-02, 1.86266836e-03],\n",
       "       [2.56886430e-04, 7.16323456e-01, 2.83419658e-01],\n",
       "       [1.83430709e-04, 6.33017070e-03, 9.93486399e-01],\n",
       "       [4.90833335e-05, 2.51961626e-02, 9.74754754e-01],\n",
       "       [3.33768551e-05, 5.71116242e-03, 9.94255461e-01],\n",
       "       [6.20837161e-01, 3.77712887e-01, 1.44995109e-03],\n",
       "       [1.33779135e-01, 8.57565172e-01, 8.65569341e-03],\n",
       "       [9.83071884e-01, 1.63541301e-02, 5.73985516e-04],\n",
       "       [9.98617982e-01, 1.33064570e-03, 5.13722519e-05],\n",
       "       [8.05617460e-05, 9.51437917e-01, 4.84815217e-02],\n",
       "       [6.21130018e-01, 3.68050146e-01, 1.08198364e-02],\n",
       "       [2.29649902e-03, 9.97581930e-01, 1.21570883e-04],\n",
       "       [1.09726261e-03, 8.41475437e-03, 9.90487983e-01],\n",
       "       [1.62253697e-05, 3.33161605e-02, 9.66667614e-01],\n",
       "       [6.60495832e-03, 9.86268354e-01, 7.12668734e-03],\n",
       "       [1.45870877e-03, 2.46105965e-01, 7.52435327e-01],\n",
       "       [9.71370085e-01, 2.84014787e-02, 2.28436703e-04]])"
      ]
     },
     "execution_count": 85,
     "metadata": {},
     "output_type": "execute_result"
    }
   ],
   "source": [
    "cnb.predict_proba(x_test)"
   ]
  },
  {
   "cell_type": "code",
   "execution_count": 91,
   "id": "e4b2af29",
   "metadata": {},
   "outputs": [
    {
     "data": {
      "text/plain": [
       "[array([[-4.06044301, -4.06044301, -4.06044301, -4.06044301, -4.06044301,\n",
       "         -4.06044301, -4.06044301, -4.06044301, -4.06044301, -4.06044301,\n",
       "         -4.06044301, -4.06044301, -3.36729583, -0.7282385 , -1.28785429],\n",
       "        [-4.24849524, -4.24849524, -4.24849524, -4.24849524, -4.24849524,\n",
       "         -4.24849524, -4.24849524, -4.24849524, -4.24849524, -4.24849524,\n",
       "         -4.24849524, -1.47590652, -0.72213472, -2.1690537 , -4.24849524],\n",
       "        [-3.68887945, -3.68887945, -3.68887945, -3.68887945, -3.68887945,\n",
       "         -3.68887945, -3.68887945, -3.68887945, -3.68887945, -3.68887945,\n",
       "         -3.68887945, -3.68887945, -1.29098418, -1.04982212, -2.59026717]]),\n",
       " array([[-3.8918203 , -0.36545977, -2.10006083, -2.28238239, -3.19867312,\n",
       "         -3.8918203 ],\n",
       "        [-2.03143232, -0.64513796, -1.80828877, -2.50143595, -2.7245795 ,\n",
       "         -3.41772668],\n",
       "        [-3.4339872 , -2.33537492, -1.48807706, -1.13140211, -1.64222774,\n",
       "         -2.04769284]]),\n",
       " array([[-3.8501476 , -3.8501476 , -0.06595797, -3.8501476 ],\n",
       "        [-4.07753744, -1.30494872, -0.38865799, -3.38439026],\n",
       "        [-3.36729583, -3.36729583, -0.10919929, -3.36729583]]),\n",
       " array([[-5.32787617, -5.32787617, -5.32787617, -5.32787617, -5.32787617,\n",
       "         -5.32787617, -5.32787617, -5.32787617, -5.32787617, -5.32787617,\n",
       "         -5.32787617, -5.32787617, -5.32787617, -5.32787617, -5.32787617,\n",
       "         -5.32787617, -5.32787617, -5.32787617, -5.32787617, -5.32787617,\n",
       "         -5.32787617, -5.32787617, -5.32787617, -5.32787617, -5.32787617,\n",
       "         -5.32787617, -5.32787617, -5.32787617, -5.32787617, -5.32787617,\n",
       "         -5.32787617, -5.32787617, -5.32787617, -5.32787617, -5.32787617,\n",
       "         -5.32787617, -5.32787617, -5.32787617, -5.32787617, -5.32787617,\n",
       "         -5.32787617, -5.32787617, -5.32787617, -5.32787617, -5.32787617,\n",
       "         -5.32787617, -5.32787617, -5.32787617, -5.32787617, -5.32787617,\n",
       "         -5.32787617, -5.32787617, -5.32787617, -5.32787617, -5.32787617,\n",
       "         -5.32787617, -5.32787617, -5.32787617, -5.32787617, -5.32787617,\n",
       "         -5.32787617, -5.32787617, -5.32787617, -5.32787617, -5.32787617,\n",
       "         -5.32787617, -5.32787617, -5.32787617, -5.32787617, -5.32787617,\n",
       "         -5.32787617, -5.32787617, -5.32787617, -5.32787617, -5.32787617,\n",
       "         -5.32787617, -5.32787617, -5.32787617, -5.32787617, -5.32787617,\n",
       "         -5.32787617, -5.32787617, -5.32787617, -5.32787617, -5.32787617,\n",
       "         -5.32787617, -5.32787617, -5.32787617, -5.32787617, -4.63472899,\n",
       "         -4.63472899, -4.63472899, -4.63472899, -4.63472899, -4.22926388,\n",
       "         -4.63472899, -4.63472899, -4.63472899, -5.32787617, -5.32787617,\n",
       "         -4.22926388, -3.71843826, -4.22926388, -4.63472899, -5.32787617,\n",
       "         -4.63472899, -4.63472899, -4.22926388, -3.94158181, -5.32787617,\n",
       "         -4.63472899, -4.22926388, -4.22926388, -4.63472899, -5.32787617,\n",
       "         -4.63472899, -4.22926388, -4.63472899, -4.22926388, -5.32787617,\n",
       "         -4.63472899, -4.63472899, -5.32787617, -5.32787617, -5.32787617,\n",
       "         -5.32787617, -4.63472899, -5.32787617, -4.63472899, -5.32787617,\n",
       "         -5.32787617, -5.32787617, -4.63472899, -5.32787617, -5.32787617,\n",
       "         -5.32787617, -5.32787617, -5.32787617, -5.32787617, -5.32787617,\n",
       "         -5.32787617, -5.32787617, -5.32787617, -5.32787617, -5.32787617,\n",
       "         -5.32787617, -5.32787617, -5.32787617, -5.32787617, -5.32787617,\n",
       "         -5.32787617, -5.32787617, -5.32787617, -5.32787617, -5.32787617,\n",
       "         -5.32787617, -5.32787617, -5.32787617, -5.32787617, -5.32787617,\n",
       "         -5.32787617, -5.32787617, -5.32787617],\n",
       "        [-5.38449506, -5.38449506, -5.38449506, -5.38449506, -5.38449506,\n",
       "         -5.38449506, -5.38449506, -5.38449506, -5.38449506, -5.38449506,\n",
       "         -5.38449506, -5.38449506, -5.38449506, -5.38449506, -5.38449506,\n",
       "         -5.38449506, -5.38449506, -5.38449506, -5.38449506, -5.38449506,\n",
       "         -5.38449506, -5.38449506, -5.38449506, -5.38449506, -5.38449506,\n",
       "         -5.38449506, -5.38449506, -5.38449506, -5.38449506, -5.38449506,\n",
       "         -5.38449506, -5.38449506, -5.38449506, -5.38449506, -5.38449506,\n",
       "         -5.38449506, -5.38449506, -5.38449506, -5.38449506, -5.38449506,\n",
       "         -5.38449506, -5.38449506, -5.38449506, -5.38449506, -5.38449506,\n",
       "         -5.38449506, -5.38449506, -5.38449506, -5.38449506, -5.38449506,\n",
       "         -5.38449506, -5.38449506, -5.38449506, -5.38449506, -5.38449506,\n",
       "         -5.38449506, -5.38449506, -5.38449506, -5.38449506, -5.38449506,\n",
       "         -5.38449506, -5.38449506, -5.38449506, -5.38449506, -5.38449506,\n",
       "         -5.38449506, -5.38449506, -5.38449506, -5.38449506, -5.38449506,\n",
       "         -5.38449506, -5.38449506, -5.38449506, -5.38449506, -5.38449506,\n",
       "         -5.38449506, -5.38449506, -5.38449506, -3.9982007 , -5.38449506,\n",
       "         -3.9982007 , -4.69134788, -4.69134788, -5.38449506, -4.28588277,\n",
       "         -3.9982007 , -3.18727049, -3.9982007 , -3.59273559, -5.38449506,\n",
       "         -5.38449506, -5.38449506, -4.28588277, -5.38449506, -3.9982007 ,\n",
       "         -5.38449506, -5.38449506, -4.28588277, -3.9982007 , -4.69134788,\n",
       "         -5.38449506, -3.9982007 , -4.69134788, -4.28588277, -5.38449506,\n",
       "         -5.38449506, -5.38449506, -4.69134788, -4.69134788, -5.38449506,\n",
       "         -4.69134788, -5.38449506, -4.69134788, -5.38449506, -5.38449506,\n",
       "         -5.38449506, -5.38449506, -5.38449506, -5.38449506, -4.69134788,\n",
       "         -5.38449506, -5.38449506, -5.38449506, -5.38449506, -5.38449506,\n",
       "         -5.38449506, -5.38449506, -5.38449506, -5.38449506, -5.38449506,\n",
       "         -5.38449506, -5.38449506, -5.38449506, -5.38449506, -4.69134788,\n",
       "         -5.38449506, -4.69134788, -5.38449506, -5.38449506, -5.38449506,\n",
       "         -5.38449506, -5.38449506, -5.38449506, -5.38449506, -5.38449506,\n",
       "         -5.38449506, -5.38449506, -5.38449506, -5.38449506, -5.38449506,\n",
       "         -5.38449506, -4.69134788, -5.38449506, -5.38449506, -5.38449506,\n",
       "         -5.38449506, -5.38449506, -5.38449506, -5.38449506, -5.38449506,\n",
       "         -5.38449506, -5.38449506, -4.69134788],\n",
       "        [-5.23644196, -5.23644196, -5.23644196, -5.23644196, -5.23644196,\n",
       "         -5.23644196, -5.23644196, -5.23644196, -5.23644196, -5.23644196,\n",
       "         -5.23644196, -5.23644196, -5.23644196, -5.23644196, -5.23644196,\n",
       "         -5.23644196, -5.23644196, -5.23644196, -5.23644196, -5.23644196,\n",
       "         -5.23644196, -5.23644196, -5.23644196, -5.23644196, -5.23644196,\n",
       "         -5.23644196, -5.23644196, -5.23644196, -5.23644196, -5.23644196,\n",
       "         -5.23644196, -5.23644196, -5.23644196, -5.23644196, -5.23644196,\n",
       "         -5.23644196, -5.23644196, -5.23644196, -5.23644196, -5.23644196,\n",
       "         -5.23644196, -5.23644196, -5.23644196, -5.23644196, -5.23644196,\n",
       "         -5.23644196, -5.23644196, -5.23644196, -5.23644196, -5.23644196,\n",
       "         -5.23644196, -5.23644196, -5.23644196, -5.23644196, -5.23644196,\n",
       "         -5.23644196, -5.23644196, -5.23644196, -5.23644196, -5.23644196,\n",
       "         -5.23644196, -5.23644196, -5.23644196, -5.23644196, -5.23644196,\n",
       "         -5.23644196, -5.23644196, -5.23644196, -5.23644196, -5.23644196,\n",
       "         -5.23644196, -5.23644196, -5.23644196, -5.23644196, -5.23644196,\n",
       "         -5.23644196, -5.23644196, -5.23644196, -5.23644196, -5.23644196,\n",
       "         -5.23644196, -5.23644196, -5.23644196, -5.23644196, -5.23644196,\n",
       "         -5.23644196, -4.54329478, -5.23644196, -4.13782967, -3.8501476 ,\n",
       "         -5.23644196, -4.54329478, -4.54329478, -4.54329478, -5.23644196,\n",
       "         -4.54329478, -3.8501476 , -4.54329478, -4.13782967, -5.23644196,\n",
       "         -5.23644196, -5.23644196, -5.23644196, -4.54329478, -5.23644196,\n",
       "         -4.54329478, -4.13782967, -5.23644196, -5.23644196, -5.23644196,\n",
       "         -5.23644196, -5.23644196, -5.23644196, -4.54329478, -5.23644196,\n",
       "         -5.23644196, -5.23644196, -5.23644196, -5.23644196, -5.23644196,\n",
       "         -4.13782967, -5.23644196, -4.54329478, -4.54329478, -5.23644196,\n",
       "         -5.23644196, -5.23644196, -5.23644196, -5.23644196, -5.23644196,\n",
       "         -5.23644196, -5.23644196, -5.23644196, -5.23644196, -5.23644196,\n",
       "         -5.23644196, -5.23644196, -5.23644196, -5.23644196, -5.23644196,\n",
       "         -5.23644196, -5.23644196, -5.23644196, -5.23644196, -5.23644196,\n",
       "         -5.23644196, -5.23644196, -5.23644196, -5.23644196, -5.23644196,\n",
       "         -5.23644196, -5.23644196, -5.23644196, -5.23644196, -5.23644196,\n",
       "         -5.23644196, -5.23644196, -5.23644196, -5.23644196, -5.23644196,\n",
       "         -5.23644196, -5.23644196, -5.23644196]]),\n",
       " array([[-3.8501476 , -3.8501476 , -0.48285177, -1.07755888],\n",
       "        [-4.07753744, -1.18716569, -0.58102988, -2.13162729],\n",
       "        [-3.36729583, -0.189242  , -2.26868354, -3.36729583]]),\n",
       " array([[-3.8918203 , -3.8918203 , -0.84729786, -0.71376647, -3.8918203 ,\n",
       "         -3.8918203 ],\n",
       "        [-3.01226158, -1.01983141, -0.77866935, -2.50143595, -4.11087386,\n",
       "         -3.41772668],\n",
       "        [-0.38946477, -1.64222774, -3.4339872 , -3.4339872 , -3.4339872 ,\n",
       "         -3.4339872 ]]),\n",
       " array([[0.],\n",
       "        [0.],\n",
       "        [0.]])]"
      ]
     },
     "execution_count": 91,
     "metadata": {},
     "output_type": "execute_result"
    }
   ],
   "source": [
    "cnb.coef_"
   ]
  },
  {
   "cell_type": "code",
   "execution_count": null,
   "id": "3e053ca8",
   "metadata": {},
   "outputs": [],
   "source": []
  }
 ],
 "metadata": {
  "kernelspec": {
   "display_name": "Python 3 (ipykernel)",
   "language": "python",
   "name": "python3"
  },
  "language_info": {
   "codemirror_mode": {
    "name": "ipython",
    "version": 3
   },
   "file_extension": ".py",
   "mimetype": "text/x-python",
   "name": "python",
   "nbconvert_exporter": "python",
   "pygments_lexer": "ipython3",
   "version": "3.9.12"
  }
 },
 "nbformat": 4,
 "nbformat_minor": 5
}
