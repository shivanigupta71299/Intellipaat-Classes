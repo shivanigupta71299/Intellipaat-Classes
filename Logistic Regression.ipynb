{
 "cells": [
  {
   "cell_type": "code",
   "execution_count": 1,
   "id": "110a96fb",
   "metadata": {},
   "outputs": [],
   "source": [
    "import pandas as pd\n",
    "import numpy as np\n",
    "import matplotlib.pyplot as plt"
   ]
  },
  {
   "cell_type": "code",
   "execution_count": 2,
   "id": "ab3ecbe5",
   "metadata": {},
   "outputs": [],
   "source": [
    "import warnings\n",
    "warnings.filterwarnings(\"ignore\")"
   ]
  },
  {
   "cell_type": "raw",
   "id": "dfe73af7",
   "metadata": {},
   "source": [
    "\n",
    "# cleaning\n",
    "\n",
    "--> correcting the data\n",
    "\n",
    "# analysis \n",
    "--> write a function to get the appropritate graphs given X & y [for y -> continous or y-> binary[1/0]]\n",
    "--> given a list of columns\n",
    "\n",
    "\n",
    "# transformation\n",
    "\n",
    "--> outlier treatment\n",
    "\n",
    "        outliers [numeric variables]\n",
    "\n",
    "        --> boxplot (identify the outliers)\n",
    "\n",
    "        --> treat the outliers\n",
    "                Percentile based\n",
    "                --> threshold max percentile --> 99.5%'tile\n",
    "                --> threshold min percentile --> 0.5%'tile\n",
    "\n",
    "                IQR method [capping & flooring ]\n",
    "                --> thr_min = 25_%tile - 1.5*IQR\n",
    "                --> thr_max = 75_%tile + 1.5*IQR\n",
    "\n",
    "\n",
    "        missing values\n",
    "\n",
    "--> missing value imputation\n",
    "\n",
    "        MISSING VALUE IMPUTATION \n",
    "\n",
    "        for variable X (numeric)\n",
    "\n",
    "          * populated values 80%\n",
    "          * missing values 20%  -- with the help of \"populated values\" \n",
    "              ** mean --> if outliers/extreme values exist --> this will go wrong\n",
    "              ** median (always safer)\n",
    "\n",
    "        for variable X (categorical)\n",
    "          * mode\n",
    "              -like titanic_df['embark_town_imputed_v1']=titanic_df['embark_town'].fillna(titanic_df['embark_town'].mode()[0])\n",
    "          * create a new category called missing\n",
    "              - like - titanic_df['embark_town_imputed_v1'] = titanic_df['embark_town'].fillna('MISSING') \n",
    "\n",
    "\n",
    "--> standardization  - it makes mean 0 and std - 1 but does not restrict the values. Values can be any.\n",
    "--> There is also something known as normalization. We do normalization to restrict values bw 0 and 1. so all the values will lie in 0 and 1.\n",
    "--> categorical to numeric\n",
    "\n",
    "        # categorical to numeric - 2 methods as beow. use either\n",
    "        --> one hot encoding / dummy variables\n",
    "        --> label encoding\n",
    "\n",
    "        * check number of categories does the variables have\n",
    "        * num_of_categ --> number of dummy variables required\n",
    "        * one dummy variable is going to give us same information, hence redundant\n",
    "        * for n -> num_of_categ in a variable --> n-1 dummy variables\n",
    "\n",
    "# split the data into train & test \n",
    "\n",
    "# train the ML model using train data\n",
    "\n",
    "# predict for x_train, x_test\n",
    "  # x_train performance --> low ---> underfitting \n",
    "  # x_train performance --> high & x_test performance --> high ---> balanced [not much difference in the performance metrics] \n",
    "  # x_train performance --> high & x_test performance --> low --> overfitting\n",
    "\n",
    "# get the evaluation metrics for training, testing\n",
    " # accuracy--> % correct [incase of very less number of 1s, accuracy is not correct to look at][eg there are 990 0's and 10 1's then accuracy is 99% if our model predictS all output as 0's. So in this case it is not good to look at accuracy]\n",
    "so along with accuracy u should also check  - \n",
    " # precison and recall. - both these should be similar to each other and not much difference.\n",
    " \n",
    "         # precision - (correctly_predicted) / (predicted_1's)\n",
    "         # recall - (correctly_predicted) / (actual_1's) \n",
    "\n",
    "         # f1-score --> harmonic mean of precision & recall\n",
    " \n",
    "# classification report \n",
    "# confusion matrix - \n",
    "        TP FP\n",
    "        FN TN\n",
    "                # confusion matrix\n",
    "\n",
    "                # positives --> model predicted as 1\n",
    "                # negatives --> model predicted as 0\n",
    "\n",
    "                # true positives -> 1(a) 1(p)\n",
    "                # true negatives -> 0(a) 0(p)\n",
    "                # false positives -> 0(a) 1(p)\n",
    "                # false negatives -> 1(a) 0(p)\n",
    "        \n",
    "# ROC - AUC CURVE(receiver operating characteristics - area under the curve)(on x axis - false +ve rate and y axis - true +ve rate. so more true +ve better model)( it is basically FP and TP POINTS With multiple different threshold(predict_proba) so input will be train/test data and threshold)( higher the curve better is our model lower the curve worst the model)\n",
    "\n",
    "# Try PR curve on ur own precision-recall curve and then check area.\n"
   ]
  },
  {
   "cell_type": "raw",
   "id": "98d7e440",
   "metadata": {},
   "source": [
    "\n",
    "---------- ANALYSIS ------------\n",
    "\n",
    "# REGRESSION : relationship between X & y (numeric)\n",
    "\n",
    "  UNIVARIATE (1 variable --> X)\n",
    "\n",
    "    X --> numeric \n",
    "    histogram, boxplot, [describe]\n",
    "\n",
    "    X --> categorical\n",
    "    frequency plot, [describe]\n",
    "  \n",
    "  BIVARIATE (2 variables--> X vs y)\n",
    "  \n",
    "      X --> numeric\n",
    "      scatter plot / correlation\n",
    "      \n",
    "      X --> categorical\n",
    "      for each category in X --> get the statistics for y [mean; median, 75% std_dev, boxplots ]\n",
    "\n",
    "# CLASSIFICATION : \n",
    "\n",
    "    UNIVARIATE (1 variable --> X)\n",
    "\n",
    "        X --> numeric \n",
    "        histogram, boxplot, [describe]\n",
    "\n",
    "        X --> categorical\n",
    "        frequency plot, [describe]\n",
    "\n",
    "    BIVARIATE (2 variables)\n",
    "    relationship between X & Y (binary [0/1])\n",
    "\n",
    "         X --> categorical\n",
    "         each category in X --> probability(y=1)\n",
    "\n",
    "         X --> numeric\n",
    "         each quantile_bins in X --> probability(y=1)\n",
    "         "
   ]
  },
  {
   "cell_type": "code",
   "execution_count": null,
   "id": "5c86cfbe",
   "metadata": {},
   "outputs": [],
   "source": []
  },
  {
   "cell_type": "markdown",
   "id": "4cd2aee2",
   "metadata": {},
   "source": [
    "# 1. Collecting the Data"
   ]
  },
  {
   "cell_type": "code",
   "execution_count": 3,
   "id": "2da60422",
   "metadata": {},
   "outputs": [
    {
     "data": {
      "text/plain": [
       "(891, 15)"
      ]
     },
     "execution_count": 3,
     "metadata": {},
     "output_type": "execute_result"
    }
   ],
   "source": [
    "import seaborn as sns\n",
    "titanic_df = sns.load_dataset('titanic')\n",
    "titanic_df.shape"
   ]
  },
  {
   "cell_type": "code",
   "execution_count": 4,
   "id": "51c2f5a4",
   "metadata": {},
   "outputs": [
    {
     "data": {
      "text/plain": [
       "['anagrams',\n",
       " 'anscombe',\n",
       " 'attention',\n",
       " 'brain_networks',\n",
       " 'car_crashes',\n",
       " 'diamonds',\n",
       " 'dots',\n",
       " 'dowjones',\n",
       " 'exercise',\n",
       " 'flights',\n",
       " 'fmri',\n",
       " 'geyser',\n",
       " 'glue',\n",
       " 'healthexp',\n",
       " 'iris',\n",
       " 'mpg',\n",
       " 'penguins',\n",
       " 'planets',\n",
       " 'seaice',\n",
       " 'taxis',\n",
       " 'tips',\n",
       " 'titanic']"
      ]
     },
     "execution_count": 4,
     "metadata": {},
     "output_type": "execute_result"
    }
   ],
   "source": [
    "sns.get_dataset_names()"
   ]
  },
  {
   "cell_type": "code",
   "execution_count": 5,
   "id": "cee0cd3c",
   "metadata": {},
   "outputs": [
    {
     "data": {
      "text/html": [
       "<div>\n",
       "<style scoped>\n",
       "    .dataframe tbody tr th:only-of-type {\n",
       "        vertical-align: middle;\n",
       "    }\n",
       "\n",
       "    .dataframe tbody tr th {\n",
       "        vertical-align: top;\n",
       "    }\n",
       "\n",
       "    .dataframe thead th {\n",
       "        text-align: right;\n",
       "    }\n",
       "</style>\n",
       "<table border=\"1\" class=\"dataframe\">\n",
       "  <thead>\n",
       "    <tr style=\"text-align: right;\">\n",
       "      <th></th>\n",
       "      <th>survived</th>\n",
       "      <th>pclass</th>\n",
       "      <th>sex</th>\n",
       "      <th>age</th>\n",
       "      <th>sibsp</th>\n",
       "      <th>parch</th>\n",
       "      <th>fare</th>\n",
       "      <th>embarked</th>\n",
       "      <th>class</th>\n",
       "      <th>who</th>\n",
       "      <th>adult_male</th>\n",
       "      <th>deck</th>\n",
       "      <th>embark_town</th>\n",
       "      <th>alive</th>\n",
       "      <th>alone</th>\n",
       "    </tr>\n",
       "  </thead>\n",
       "  <tbody>\n",
       "    <tr>\n",
       "      <th>0</th>\n",
       "      <td>0</td>\n",
       "      <td>3</td>\n",
       "      <td>male</td>\n",
       "      <td>22.0</td>\n",
       "      <td>1</td>\n",
       "      <td>0</td>\n",
       "      <td>7.2500</td>\n",
       "      <td>S</td>\n",
       "      <td>Third</td>\n",
       "      <td>man</td>\n",
       "      <td>True</td>\n",
       "      <td>NaN</td>\n",
       "      <td>Southampton</td>\n",
       "      <td>no</td>\n",
       "      <td>False</td>\n",
       "    </tr>\n",
       "    <tr>\n",
       "      <th>1</th>\n",
       "      <td>1</td>\n",
       "      <td>1</td>\n",
       "      <td>female</td>\n",
       "      <td>38.0</td>\n",
       "      <td>1</td>\n",
       "      <td>0</td>\n",
       "      <td>71.2833</td>\n",
       "      <td>C</td>\n",
       "      <td>First</td>\n",
       "      <td>woman</td>\n",
       "      <td>False</td>\n",
       "      <td>C</td>\n",
       "      <td>Cherbourg</td>\n",
       "      <td>yes</td>\n",
       "      <td>False</td>\n",
       "    </tr>\n",
       "    <tr>\n",
       "      <th>2</th>\n",
       "      <td>1</td>\n",
       "      <td>3</td>\n",
       "      <td>female</td>\n",
       "      <td>26.0</td>\n",
       "      <td>0</td>\n",
       "      <td>0</td>\n",
       "      <td>7.9250</td>\n",
       "      <td>S</td>\n",
       "      <td>Third</td>\n",
       "      <td>woman</td>\n",
       "      <td>False</td>\n",
       "      <td>NaN</td>\n",
       "      <td>Southampton</td>\n",
       "      <td>yes</td>\n",
       "      <td>True</td>\n",
       "    </tr>\n",
       "    <tr>\n",
       "      <th>3</th>\n",
       "      <td>1</td>\n",
       "      <td>1</td>\n",
       "      <td>female</td>\n",
       "      <td>35.0</td>\n",
       "      <td>1</td>\n",
       "      <td>0</td>\n",
       "      <td>53.1000</td>\n",
       "      <td>S</td>\n",
       "      <td>First</td>\n",
       "      <td>woman</td>\n",
       "      <td>False</td>\n",
       "      <td>C</td>\n",
       "      <td>Southampton</td>\n",
       "      <td>yes</td>\n",
       "      <td>False</td>\n",
       "    </tr>\n",
       "    <tr>\n",
       "      <th>4</th>\n",
       "      <td>0</td>\n",
       "      <td>3</td>\n",
       "      <td>male</td>\n",
       "      <td>35.0</td>\n",
       "      <td>0</td>\n",
       "      <td>0</td>\n",
       "      <td>8.0500</td>\n",
       "      <td>S</td>\n",
       "      <td>Third</td>\n",
       "      <td>man</td>\n",
       "      <td>True</td>\n",
       "      <td>NaN</td>\n",
       "      <td>Southampton</td>\n",
       "      <td>no</td>\n",
       "      <td>True</td>\n",
       "    </tr>\n",
       "    <tr>\n",
       "      <th>5</th>\n",
       "      <td>0</td>\n",
       "      <td>3</td>\n",
       "      <td>male</td>\n",
       "      <td>NaN</td>\n",
       "      <td>0</td>\n",
       "      <td>0</td>\n",
       "      <td>8.4583</td>\n",
       "      <td>Q</td>\n",
       "      <td>Third</td>\n",
       "      <td>man</td>\n",
       "      <td>True</td>\n",
       "      <td>NaN</td>\n",
       "      <td>Queenstown</td>\n",
       "      <td>no</td>\n",
       "      <td>True</td>\n",
       "    </tr>\n",
       "    <tr>\n",
       "      <th>6</th>\n",
       "      <td>0</td>\n",
       "      <td>1</td>\n",
       "      <td>male</td>\n",
       "      <td>54.0</td>\n",
       "      <td>0</td>\n",
       "      <td>0</td>\n",
       "      <td>51.8625</td>\n",
       "      <td>S</td>\n",
       "      <td>First</td>\n",
       "      <td>man</td>\n",
       "      <td>True</td>\n",
       "      <td>E</td>\n",
       "      <td>Southampton</td>\n",
       "      <td>no</td>\n",
       "      <td>True</td>\n",
       "    </tr>\n",
       "    <tr>\n",
       "      <th>7</th>\n",
       "      <td>0</td>\n",
       "      <td>3</td>\n",
       "      <td>male</td>\n",
       "      <td>2.0</td>\n",
       "      <td>3</td>\n",
       "      <td>1</td>\n",
       "      <td>21.0750</td>\n",
       "      <td>S</td>\n",
       "      <td>Third</td>\n",
       "      <td>child</td>\n",
       "      <td>False</td>\n",
       "      <td>NaN</td>\n",
       "      <td>Southampton</td>\n",
       "      <td>no</td>\n",
       "      <td>False</td>\n",
       "    </tr>\n",
       "    <tr>\n",
       "      <th>8</th>\n",
       "      <td>1</td>\n",
       "      <td>3</td>\n",
       "      <td>female</td>\n",
       "      <td>27.0</td>\n",
       "      <td>0</td>\n",
       "      <td>2</td>\n",
       "      <td>11.1333</td>\n",
       "      <td>S</td>\n",
       "      <td>Third</td>\n",
       "      <td>woman</td>\n",
       "      <td>False</td>\n",
       "      <td>NaN</td>\n",
       "      <td>Southampton</td>\n",
       "      <td>yes</td>\n",
       "      <td>False</td>\n",
       "    </tr>\n",
       "    <tr>\n",
       "      <th>9</th>\n",
       "      <td>1</td>\n",
       "      <td>2</td>\n",
       "      <td>female</td>\n",
       "      <td>14.0</td>\n",
       "      <td>1</td>\n",
       "      <td>0</td>\n",
       "      <td>30.0708</td>\n",
       "      <td>C</td>\n",
       "      <td>Second</td>\n",
       "      <td>child</td>\n",
       "      <td>False</td>\n",
       "      <td>NaN</td>\n",
       "      <td>Cherbourg</td>\n",
       "      <td>yes</td>\n",
       "      <td>False</td>\n",
       "    </tr>\n",
       "  </tbody>\n",
       "</table>\n",
       "</div>"
      ],
      "text/plain": [
       "   survived  pclass     sex   age  sibsp  parch     fare embarked   class  \\\n",
       "0         0       3    male  22.0      1      0   7.2500        S   Third   \n",
       "1         1       1  female  38.0      1      0  71.2833        C   First   \n",
       "2         1       3  female  26.0      0      0   7.9250        S   Third   \n",
       "3         1       1  female  35.0      1      0  53.1000        S   First   \n",
       "4         0       3    male  35.0      0      0   8.0500        S   Third   \n",
       "5         0       3    male   NaN      0      0   8.4583        Q   Third   \n",
       "6         0       1    male  54.0      0      0  51.8625        S   First   \n",
       "7         0       3    male   2.0      3      1  21.0750        S   Third   \n",
       "8         1       3  female  27.0      0      2  11.1333        S   Third   \n",
       "9         1       2  female  14.0      1      0  30.0708        C  Second   \n",
       "\n",
       "     who  adult_male deck  embark_town alive  alone  \n",
       "0    man        True  NaN  Southampton    no  False  \n",
       "1  woman       False    C    Cherbourg   yes  False  \n",
       "2  woman       False  NaN  Southampton   yes   True  \n",
       "3  woman       False    C  Southampton   yes  False  \n",
       "4    man        True  NaN  Southampton    no   True  \n",
       "5    man        True  NaN   Queenstown    no   True  \n",
       "6    man        True    E  Southampton    no   True  \n",
       "7  child       False  NaN  Southampton    no  False  \n",
       "8  woman       False  NaN  Southampton   yes  False  \n",
       "9  child       False  NaN    Cherbourg   yes  False  "
      ]
     },
     "execution_count": 5,
     "metadata": {},
     "output_type": "execute_result"
    }
   ],
   "source": [
    "titanic_df.head(10)"
   ]
  },
  {
   "cell_type": "code",
   "execution_count": 6,
   "id": "dd7c28d5",
   "metadata": {},
   "outputs": [
    {
     "data": {
      "text/plain": [
       "'survived,pclass,sex,age,sibsp,parch,fare,embarked,class,who,adult_male,deck,embark_town,alive,alone\\r\\n0,3,male,22.0,1,0,7.25,S,Third,man,True,,Southampton,no,False\\r\\n1,1,female,38.0,1,0,71.2833,C,First,woman,False,C,Cherbourg,yes,False\\r\\n1,3,female,26.0,0,0,7.925,S,Third,woman,False,,Southampton,yes,True\\r\\n1,1,female,35.0,1,0,53.1,S,First,woman,False,C,Southampton,yes,False\\r\\n0,3,male,35.0,0,0,8.05,S,Third,man,True,,Southampton,no,True\\r\\n0,3,male,,0,0,8.4583,Q,Third,man,True,,Queenstown,no,True\\r\\n0,1,male,54.0,0,0,51.8625,S,First,man,True,E,Southampton,no,True\\r\\n0,3,male,2.0,3,1,21.075,S,Third,child,False,,Southampton,no,False\\r\\n1,3,female,27.0,0,2,11.1333,S,Third,woman,False,,Southampton,yes,False\\r\\n1,2,female,14.0,1,0,30.0708,C,Second,child,False,,Cherbourg,yes,False\\r\\n1,3,female,4.0,1,1,16.7,S,Third,child,False,G,Southampton,yes,False\\r\\n1,1,female,58.0,0,0,26.55,S,First,woman,False,C,Southampton,yes,True\\r\\n0,3,male,20.0,0,0,8.05,S,Third,man,True,,Southampton,no,True\\r\\n0,3,male,39.0,1,5,31.275,S,Third,man,True,,Southampton,no,False\\r\\n0,3,female,14.0,0,0,7.8542,S,Third,child,False,,Southampton,no,True\\r\\n1,2,female,55.0,0,0,16.0,S,Second,woman,False,,Southampton,yes,True\\r\\n0,3,male,2.0,4,1,29.125,Q,Third,child,False,,Queenstown,no,False\\r\\n1,2,male,,0,0,13.0,S,Second,man,True,,Southampton,yes,True\\r\\n0,3,female,31.0,1,0,18.0,S,Third,woman,False,,Southampton,no,False\\r\\n1,3,female,,0,0,7.225,C,Third,woman,False,,Cherbourg,yes,True\\r\\n0,2,male,35.0,0,0,26.0,S,Second,man,True,,Southampton,no,True\\r\\n1,2,male,34.0,0,0,13.0,S,Second,man,True,D,Southampton,yes,True\\r\\n1,3,female,15.0,0,0,8.0292,Q,Third,child,False,,Queenstown,yes,True\\r\\n1,1,male,28.0,0,0,35.5,S,First,man,True,A,Southampton,yes,True\\r\\n0,3,female,8.0,3,1,21.075,S,Third,child,False,,Southampton,no,False\\r\\n1,3,female,38.0,1,5,31.3875,S,Third,woman,False,,Southampton,yes,False\\r\\n0,3,male,,0,0,7.225,C,Third,man,True,,Cherbourg,no,True\\r\\n0,1,male,19.0,3,2,263.0,S,First,man,True,C,Southampton,no,False\\r\\n1,3,female,,0,0,7.8792,Q,Third,woman,False,,Queenstown,yes,True\\r\\n0,3,male,,0,0,7.8958,S,Third,man,True,,Southampton,no,True\\r\\n0,1,male,40.0,0,0,27.7208,C,First,man,True,,Cherbourg,no,True\\r\\n1,1,female,,1,0,146.5208,C,First,woman,False,B,Cherbourg,yes,False\\r\\n1,3,female,,0,0,7.75,Q,Third,woman,False,,Queenstown,yes,True\\r\\n0,2,male,66.0,0,0,10.5,S,Second,man,True,,Southampton,no,True\\r\\n0,1,male,28.0,1,0,82.1708,C,First,man,True,,Cherbourg,no,False\\r\\n0,1,male,42.0,1,0,52.0,S,First,man,True,,Southampton,no,False\\r\\n1,3,male,,0,0,7.2292,C,Third,man,True,,Cherbourg,yes,True\\r\\n0,3,male,21.0,0,0,8.05,S,Third,man,True,,Southampton,no,True\\r\\n0,3,female,18.0,2,0,18.0,S,Third,woman,False,,Southampton,no,False\\r\\n1,3,female,14.0,1,0,11.2417,C,Third,child,False,,Cherbourg,yes,False\\r\\n0,3,female,40.0,1,0,9.475,S,Third,woman,False,,Southampton,no,False\\r\\n0,2,female,27.0,1,0,21.0,S,Second,woman,False,,Southampton,no,False\\r\\n0,3,male,,0,0,7.8958,C,Third,man,True,,Cherbourg,no,True\\r\\n1,2,female,3.0,1,2,41.5792,C,Second,child,False,,Cherbourg,yes,False\\r\\n1,3,female,19.0,0,0,7.8792,Q,Third,woman,False,,Queenstown,yes,True\\r\\n0,3,male,,0,0,8.05,S,Third,man,True,,Southampton,no,True\\r\\n0,3,male,,1,0,15.5,Q,Third,man,True,,Queenstown,no,False\\r\\n1,3,female,,0,0,7.75,Q,Third,woman,False,,Queenstown,yes,True\\r\\n0,3,male,,2,0,21.6792,C,Third,man,True,,Cherbourg,no,False\\r\\n0,3,female,18.0,1,0,17.8,S,Third,woman,False,,Southampton,no,False\\r\\n0,3,male,7.0,4,1,39.6875,S,Third,child,False,,Southampton,no,False\\r\\n0,3,male,21.0,0,0,7.8,S,Third,man,True,,Southampton,no,True\\r\\n1,1,female,49.0,1,0,76.7292,C,First,woman,False,D,Cherbourg,yes,False\\r\\n1,2,female,29.0,1,0,26.0,S,Second,woman,False,,Southampton,yes,False\\r\\n0,1,male,65.0,0,1,61.9792,C,First,man,True,B,Cherbourg,no,False\\r\\n1,1,male,,0,0,35.5,S,First,man,True,C,Southampton,yes,True\\r\\n1,2,female,21.0,0,0,10.5,S,Second,woman,False,,Southampton,yes,True\\r\\n0,3,male,28.5,0,0,7.2292,C,Third,man,True,,Cherbourg,no,True\\r\\n1,2,female,5.0,1,2,27.75,S,Second,child,False,,Southampton,yes,False\\r\\n0,3,male,11.0,5,2,46.9,S,Third,child,False,,Southampton,no,False\\r\\n0,3,male,22.0,0,0,7.2292,C,Third,man,True,,Cherbourg,no,True\\r\\n1,1,female,38.0,0,0,80.0,,First,woman,False,B,,yes,True\\r\\n0,1,male,45.0,1,0,83.475,S,First,man,True,C,Southampton,no,False\\r\\n0,3,male,4.0,3,2,27.9,S,Third,child,False,,Southampton,no,False\\r\\n0,1,male,,0,0,27.7208,C,First,man,True,,Cherbourg,no,True\\r\\n1,3,male,,1,1,15.2458,C,Third,man,True,,Cherbourg,yes,False\\r\\n1,2,female,29.0,0,0,10.5,S,Second,woman,False,F,Southampton,yes,True\\r\\n0,3,male,19.0,0,0,8.1583,S,Third,man,True,,Southampton,no,True\\r\\n1,3,female,17.0,4,2,7.925,S,Third,woman,False,,Southampton,yes,False\\r\\n0,3,male,26.0,2,0,8.6625,S,Third,man,True,,Southampton,no,False\\r\\n0,2,male,32.0,0,0,10.5,S,Second,man,True,,Southampton,no,True\\r\\n0,3,female,16.0,5,2,46.9,S,Third,woman,False,,Southampton,no,False\\r\\n0,2,male,21.0,0,0,73.5,S,Second,man,True,,Southampton,no,True\\r\\n0,3,male,26.0,1,0,14.4542,C,Third,man,True,,Cherbourg,no,False\\r\\n1,3,male,32.0,0,0,56.4958,S,Third,man,True,,Southampton,yes,True\\r\\n0,3,male,25.0,0,0,7.65,S,Third,man,True,F,Southampton,no,True\\r\\n0,3,male,,0,0,7.8958,S,Third,man,True,,Southampton,no,True\\r\\n0,3,male,,0,0,8.05,S,Third,man,True,,Southampton,no,True\\r\\n1,2,male,0.83,0,2,29.0,S,Second,child,False,,Southampton,yes,False\\r\\n1,3,female,30.0,0,0,12.475,S,Third,woman,False,,Southampton,yes,True\\r\\n0,3,male,22.0,0,0,9.0,S,Third,man,True,,Southampton,no,True\\r\\n1,3,male,29.0,0,0,9.5,S,Third,man,True,,Southampton,yes,True\\r\\n1,3,female,,0,0,7.7875,Q,Third,woman,False,,Queenstown,yes,True\\r\\n0,1,male,28.0,0,0,47.1,S,First,man,True,,Southampton,no,True\\r\\n1,2,female,17.0,0,0,10.5,S,Second,woman,False,,Southampton,yes,True\\r\\n1,3,female,33.0,3,0,15.85,S,Third,woman,False,,Southampton,yes,False\\r\\n0,3,male,16.0,1,3,34.375,S,Third,man,True,,Southampton,no,False\\r\\n0,3,male,,0,0,8.05,S,Third,man,True,,Southampton,no,True\\r\\n1,1,female,23.0,3,2,263.0,S,First,woman,False,C,Southampton,yes,False\\r\\n0,3,male,24.0,0,0,8.05,S,Third,man,True,,Southampton,no,True\\r\\n0,3,male,29.0,0,0,8.05,S,Third,man,True,,Southampton,no,True\\r\\n0,3,male,20.0,0,0,7.8542,S,Third,man,True,,Southampton,no,True\\r\\n0,1,male,46.0,1,0,61.175,S,First,man,True,E,Southampton,no,False\\r\\n0,3,male,26.0,1,2,20.575,S,Third,man,True,,Southampton,no,False\\r\\n0,3,male,59.0,0,0,7.25,S,Third,man,True,,Southampton,no,True\\r\\n0,3,male,,0,0,8.05,S,Third,man,True,,Southampton,no,True\\r\\n0,1,male,71.0,0,0,34.6542,C,First,man,True,A,Cherbourg,no,True\\r\\n1,1,male,23.0,0,1,63.3583,C,First,man,True,D,Cherbourg,yes,False\\r\\n1,2,female,34.0,0,1,23.0,S,Second,woman,False,,Southampton,yes,False\\r\\n0,2,male,34.0,1,0,26.0,S,Second,man,True,,Southampton,no,False\\r\\n0,3,female,28.0,0,0,7.8958,S,Third,woman,False,,Southampton,no,True\\r\\n0,3,male,,0,0,7.8958,S,Third,man,True,,Southampton,no,True\\r\\n0,1,male,21.0,0,1,77.2875,S,First,man,True,D,Southampton,no,False\\r\\n0,3,male,33.0,0,0,8.6542,S,Third,man,True,,Southampton,no,True\\r\\n0,3,male,37.0,2,0,7.925,S,Third,man,True,,Southampton,no,False\\r\\n0,3,male,28.0,0,0,7.8958,S,Third,man,True,,Southampton,no,True\\r\\n1,3,female,21.0,0,0,7.65,S,Third,woman,False,,Southampton,yes,True\\r\\n1,3,male,,0,0,7.775,S,Third,man,True,,Southampton,yes,True\\r\\n0,3,male,38.0,0,0,7.8958,S,Third,man,True,,Southampton,no,True\\r\\n1,3,female,,1,0,24.15,Q,Third,woman,False,,Queenstown,yes,False\\r\\n0,1,male,47.0,0,0,52.0,S,First,man,True,C,Southampton,no,True\\r\\n0,3,female,14.5,1,0,14.4542,C,Third,child,False,,Cherbourg,no,False\\r\\n0,3,male,22.0,0,0,8.05,S,Third,man,True,,Southampton,no,True\\r\\n0,3,female,20.0,1,0,9.825,S,Third,woman,False,,Southampton,no,False\\r\\n0,3,female,17.0,0,0,14.4583,C,Third,woman,False,,Cherbourg,no,True\\r\\n0,3,male,21.0,0,0,7.925,S,Third,man,True,,Southampton,no,True\\r\\n0,3,male,70.5,0,0,7.75,Q,Third,man,True,,Queenstown,no,True\\r\\n0,2,male,29.0,1,0,21.0,S,Second,man,True,,Southampton,no,False\\r\\n0,1,male,24.0,0,1,247.5208,C,First,man,True,B,Cherbourg,no,False\\r\\n0,3,female,2.0,4,2,31.275,S,Third,child,False,,Southampton,no,False\\r\\n0,2,male,21.0,2,0,73.5,S,Second,man,True,,Southampton,no,False\\r\\n0,3,male,,0,0,8.05,S,Third,man,True,,Southampton,no,True\\r\\n0,2,male,32.5,1,0,30.0708,C,Second,man,True,,Cherbourg,no,False\\r\\n1,2,female,32.5,0,0,13.0,S,Second,woman,False,E,Southampton,yes,True\\r\\n0,1,male,54.0,0,1,77.2875,S,First,man,True,D,Southampton,no,False\\r\\n1,3,male,12.0,1,0,11.2417,C,Third,child,False,,Cherbourg,yes,False\\r\\n0,3,male,,0,0,7.75,Q,Third,man,True,,Queenstown,no,True\\r\\n1,3,male,24.0,0,0,7.1417,S,Third,man,True,,Southampton,yes,True\\r\\n1,3,female,,1,1,22.3583,C,Third,woman,False,F,Cherbourg,yes,False\\r\\n0,3,male,45.0,0,0,6.975,S,Third,man,True,,Southampton,no,True\\r\\n0,3,male,33.0,0,0,7.8958,C,Third,man,True,,Cherbourg,no,True\\r\\n0,3,male,20.0,0,0,7.05,S,Third,man,True,,Southampton,no,True\\r\\n0,3,female,47.0,1,0,14.5,S,Third,woman,False,,Southampton,no,False\\r\\n1,2,female,29.0,1,0,26.0,S,Second,woman,False,,Southampton,yes,False\\r\\n0,2,male,25.0,0,0,13.0,S,Second,man,True,,Southampton,no,True\\r\\n0,2,male,23.0,0,0,15.0458,C,Second,man,True,,Cherbourg,no,True\\r\\n1,1,female,19.0,0,2,26.2833,S,First,woman,False,D,Southampton,yes,False\\r\\n0,1,male,37.0,1,0,53.1,S,First,man,True,C,Southampton,no,False\\r\\n0,3,male,16.0,0,0,9.2167,S,Third,man,True,,Southampton,no,True\\r\\n0,1,male,24.0,0,0,79.2,C,First,man,True,B,Cherbourg,no,True\\r\\n0,3,female,,0,2,15.2458,C,Third,woman,False,,Cherbourg,no,False\\r\\n1,3,female,22.0,0,0,7.75,S,Third,woman,False,,Southampton,yes,True\\r\\n1,3,female,24.0,1,0,15.85,S,Third,woman,False,,Southampton,yes,False\\r\\n0,3,male,19.0,0,0,6.75,Q,Third,man,True,,Queenstown,no,True\\r\\n0,2,male,18.0,0,0,11.5,S,Second,man,True,,Southampton,no,True\\r\\n0,2,male,19.0,1,1,36.75,S,Second,man,True,,Southampton,no,False\\r\\n1,3,male,27.0,0,0,7.7958,S,Third,man,True,,Southampton,yes,True\\r\\n0,3,female,9.0,2,2,34.375,S,Third,child,False,,Southampton,no,False\\r\\n0,2,male,36.5,0,2,26.0,S,Second,man,True,F,Southampton,no,False\\r\\n0,2,male,42.0,0,0,13.0,S,Second,man,True,,Southampton,no,True\\r\\n0,2,male,51.0,0,0,12.525,S,Second,man,True,,Southampton,no,True\\r\\n1,1,female,22.0,1,0,66.6,S,First,woman,False,C,Southampton,yes,False\\r\\n0,3,male,55.5,0,0,8.05,S,Third,man,True,,Southampton,no,True\\r\\n0,3,male,40.5,0,2,14.5,S,Third,man,True,,Southampton,no,False\\r\\n0,3,male,,0,0,7.3125,S,Third,man,True,,Southampton,no,True\\r\\n0,1,male,51.0,0,1,61.3792,C,First,man,True,,Cherbourg,no,False\\r\\n1,3,female,16.0,0,0,7.7333,Q,Third,woman,False,,Queenstown,yes,True\\r\\n0,3,male,30.0,0,0,8.05,S,Third,man,True,,Southampton,no,True\\r\\n0,3,male,,0,0,8.6625,S,Third,man,True,,Southampton,no,True\\r\\n0,3,male,,8,2,69.55,S,Third,man,True,,Southampton,no,False\\r\\n0,3,male,44.0,0,1,16.1,S,Third,man,True,,Southampton,no,False\\r\\n1,2,female,40.0,0,0,15.75,S,Second,woman,False,,Southampton,yes,True\\r\\n0,3,male,26.0,0,0,7.775,S,Third,man,True,,Southampton,no,True\\r\\n0,3,male,17.0,0,0,8.6625,S,Third,man,True,,Southampton,no,True\\r\\n0,3,male,1.0,4,1,39.6875,S,Third,child,False,,Southampton,no,False\\r\\n1,3,male,9.0,0,2,20.525,S,Third,child,False,,Southampton,yes,False\\r\\n1,1,female,,0,1,55.0,S,First,woman,False,E,Southampton,yes,False\\r\\n0,3,female,45.0,1,4,27.9,S,Third,woman,False,,Southampton,no,False\\r\\n0,1,male,,0,0,25.925,S,First,man,True,,Southampton,no,True\\r\\n0,3,male,28.0,0,0,56.4958,S,Third,man,True,,Southampton,no,True\\r\\n0,1,male,61.0,0,0,33.5,S,First,man,True,B,Southampton,no,True\\r\\n0,3,male,4.0,4,1,29.125,Q,Third,child,False,,Queenstown,no,False\\r\\n1,3,female,1.0,1,1,11.1333,S,Third,child,False,,Southampton,yes,False\\r\\n0,3,male,21.0,0,0,7.925,S,Third,man,True,,Southampton,no,True\\r\\n0,1,male,56.0,0,0,30.6958,C,First,man,True,A,Cherbourg,no,True\\r\\n0,3,male,18.0,1,1,7.8542,S,Third,man,True,,Southampton,no,False\\r\\n0,3,male,,3,1,25.4667,S,Third,man,True,,Southampton,no,False\\r\\n0,1,female,50.0,0,0,28.7125,C,First,woman,False,C,Cherbourg,no,True\\r\\n0,2,male,30.0,0,0,13.0,S,Second,man,True,,Southampton,no,True\\r\\n0,3,male,36.0,0,0,0.0,S,Third,man,True,,Southampton,no,True\\r\\n0,3,female,,8,2,69.55,S,Third,woman,False,,Southampton,no,False\\r\\n0,2,male,,0,0,15.05,C,Second,man,True,,Cherbourg,no,True\\r\\n0,3,male,9.0,4,2,31.3875,S,Third,child,False,,Southampton,no,False\\r\\n1,2,male,1.0,2,1,39.0,S,Second,child,False,F,Southampton,yes,False\\r\\n1,3,female,4.0,0,2,22.025,S,Third,child,False,,Southampton,yes,False\\r\\n0,1,male,,0,0,50.0,S,First,man,True,A,Southampton,no,True\\r\\n1,3,female,,1,0,15.5,Q,Third,woman,False,,Queenstown,yes,False\\r\\n1,1,male,45.0,0,0,26.55,S,First,man,True,,Southampton,yes,True\\r\\n0,3,male,40.0,1,1,15.5,Q,Third,man,True,,Queenstown,no,False\\r\\n0,3,male,36.0,0,0,7.8958,S,Third,man,True,,Southampton,no,True\\r\\n1,2,female,32.0,0,0,13.0,S,Second,woman,False,,Southampton,yes,True\\r\\n0,2,male,19.0,0,0,13.0,S,Second,man,True,,Southampton,no,True\\r\\n1,3,female,19.0,1,0,7.8542,S,Third,woman,False,,Southampton,yes,False\\r\\n1,2,male,3.0,1,1,26.0,S,Second,child,False,F,Southampton,yes,False\\r\\n1,1,female,44.0,0,0,27.7208,C,First,woman,False,B,Cherbourg,yes,True\\r\\n1,1,female,58.0,0,0,146.5208,C,First,woman,False,B,Cherbourg,yes,True\\r\\n0,3,male,,0,0,7.75,Q,Third,man,True,,Queenstown,no,True\\r\\n0,3,male,42.0,0,1,8.4042,S,Third,man,True,,Southampton,no,False\\r\\n1,3,female,,0,0,7.75,Q,Third,woman,False,,Queenstown,yes,True\\r\\n0,2,female,24.0,0,0,13.0,S,Second,woman,False,,Southampton,no,True\\r\\n0,3,male,28.0,0,0,9.5,S,Third,man,True,,Southampton,no,True\\r\\n0,3,male,,8,2,69.55,S,Third,man,True,,Southampton,no,False\\r\\n0,3,male,34.0,0,0,6.4958,S,Third,man,True,,Southampton,no,True\\r\\n0,3,male,45.5,0,0,7.225,C,Third,man,True,,Cherbourg,no,True\\r\\n1,3,male,18.0,0,0,8.05,S,Third,man,True,,Southampton,yes,True\\r\\n0,3,female,2.0,0,1,10.4625,S,Third,child,False,G,Southampton,no,False\\r\\n0,3,male,32.0,1,0,15.85,S,Third,man,True,,Southampton,no,False\\r\\n1,3,male,26.0,0,0,18.7875,C,Third,man,True,,Cherbourg,yes,True\\r\\n1,3,female,16.0,0,0,7.75,Q,Third,woman,False,,Queenstown,yes,True\\r\\n1,1,male,40.0,0,0,31.0,C,First,man,True,A,Cherbourg,yes,True\\r\\n0,3,male,24.0,0,0,7.05,S,Third,man,True,,Southampton,no,True\\r\\n1,2,female,35.0,0,0,21.0,S,Second,woman,False,,Southampton,yes,True\\r\\n0,3,male,22.0,0,0,7.25,S,Third,man,True,,Southampton,no,True\\r\\n0,2,male,30.0,0,0,13.0,S,Second,man,True,,Southampton,no,True\\r\\n0,3,male,,1,0,7.75,Q,Third,man,True,,Queenstown,no,False\\r\\n1,1,female,31.0,1,0,113.275,C,First,woman,False,D,Cherbourg,yes,False\\r\\n1,3,female,27.0,0,0,7.925,S,Third,woman,False,,Southampton,yes,True\\r\\n0,2,male,42.0,1,0,27.0,S,Second,man,True,,Southampton,no,False\\r\\n1,1,female,32.0,0,0,76.2917,C,First,woman,False,D,Cherbourg,yes,True\\r\\n0,2,male,30.0,0,0,10.5,S,Second,man,True,,Southampton,no,True\\r\\n1,3,male,16.0,0,0,8.05,S,Third,man,True,,Southampton,yes,True\\r\\n0,2,male,27.0,0,0,13.0,S,Second,man,True,,Southampton,no,True\\r\\n0,3,male,51.0,0,0,8.05,S,Third,man,True,,Southampton,no,True\\r\\n0,3,male,,0,0,7.8958,S,Third,man,True,,Southampton,no,True\\r\\n1,1,male,38.0,1,0,90.0,S,First,man,True,C,Southampton,yes,False\\r\\n0,3,male,22.0,0,0,9.35,S,Third,man,True,,Southampton,no,True\\r\\n1,2,male,19.0,0,0,10.5,S,Second,man,True,,Southampton,yes,True\\r\\n0,3,male,20.5,0,0,7.25,S,Third,man,True,,Southampton,no,True\\r\\n0,2,male,18.0,0,0,13.0,S,Second,man,True,,Southampton,no,True\\r\\n0,3,female,,3,1,25.4667,S,Third,woman,False,,Southampton,no,False\\r\\n1,1,female,35.0,1,0,83.475,S,First,woman,False,C,Southampton,yes,False\\r\\n0,3,male,29.0,0,0,7.775,S,Third,man,True,,Southampton,no,True\\r\\n0,2,male,59.0,0,0,13.5,S,Second,man,True,,Southampton,no,True\\r\\n1,3,female,5.0,4,2,31.3875,S,Third,child,False,,Southampton,yes,False\\r\\n0,2,male,24.0,0,0,10.5,S,Second,man,True,,Southampton,no,True\\r\\n0,3,female,,0,0,7.55,S,Third,woman,False,,Southampton,no,True\\r\\n0,2,male,44.0,1,0,26.0,S,Second,man,True,,Southampton,no,False\\r\\n1,2,female,8.0,0,2,26.25,S,Second,child,False,,Southampton,yes,False\\r\\n0,2,male,19.0,0,0,10.5,S,Second,man,True,,Southampton,no,True\\r\\n0,2,male,33.0,0,0,12.275,S,Second,man,True,,Southampton,no,True\\r\\n0,3,female,,1,0,14.4542,C,Third,woman,False,,Cherbourg,no,False\\r\\n1,3,female,,1,0,15.5,Q,Third,woman,False,,Queenstown,yes,False\\r\\n0,2,male,29.0,0,0,10.5,S,Second,man,True,,Southampton,no,True\\r\\n0,3,male,22.0,0,0,7.125,S,Third,man,True,,Southampton,no,True\\r\\n0,3,male,30.0,0,0,7.225,C,Third,man,True,,Cherbourg,no,True\\r\\n0,1,male,44.0,2,0,90.0,Q,First,man,True,C,Queenstown,no,False\\r\\n0,3,female,25.0,0,0,7.775,S,Third,woman,False,,Southampton,no,True\\r\\n1,2,female,24.0,0,2,14.5,S,Second,woman,False,,Southampton,yes,False\\r\\n1,1,male,37.0,1,1,52.5542,S,First,man,True,D,Southampton,yes,False\\r\\n0,2,male,54.0,1,0,26.0,S,Second,man,True,,Southampton,no,False\\r\\n0,3,male,,0,0,7.25,S,Third,man,True,,Southampton,no,True\\r\\n0,3,female,29.0,1,1,10.4625,S,Third,woman,False,G,Southampton,no,False\\r\\n0,1,male,62.0,0,0,26.55,S,First,man,True,C,Southampton,no,True\\r\\n0,3,male,30.0,1,0,16.1,S,Third,man,True,,Southampton,no,False\\r\\n0,3,female,41.0,0,2,20.2125,S,Third,woman,False,,Southampton,no,False\\r\\n1,3,female,29.0,0,2,15.2458,C,Third,woman,False,,Cherbourg,yes,False\\r\\n1,1,female,,0,0,79.2,C,First,woman,False,,Cherbourg,yes,True\\r\\n1,1,female,30.0,0,0,86.5,S,First,woman,False,B,Southampton,yes,True\\r\\n1,1,female,35.0,0,0,512.3292,C,First,woman,False,,Cherbourg,yes,True\\r\\n1,2,female,50.0,0,1,26.0,S,Second,woman,False,,Southampton,yes,False\\r\\n0,3,male,,0,0,7.75,Q,Third,man,True,,Queenstown,no,True\\r\\n1,3,male,3.0,4,2,31.3875,S,Third,child,False,,Southampton,yes,False\\r\\n0,1,male,52.0,1,1,79.65,S,First,man,True,E,Southampton,no,False\\r\\n0,1,male,40.0,0,0,0.0,S,First,man,True,B,Southampton,no,True\\r\\n0,3,female,,0,0,7.75,Q,Third,woman,False,,Queenstown,no,True\\r\\n0,2,male,36.0,0,0,10.5,S,Second,man,True,,Southampton,no,True\\r\\n0,3,male,16.0,4,1,39.6875,S,Third,man,True,,Southampton,no,False\\r\\n1,3,male,25.0,1,0,7.775,S,Third,man,True,,Southampton,yes,False\\r\\n1,1,female,58.0,0,1,153.4625,S,First,woman,False,C,Southampton,yes,False\\r\\n1,1,female,35.0,0,0,135.6333,S,First,woman,False,C,Southampton,yes,True\\r\\n0,1,male,,0,0,31.0,S,First,man,True,,Southampton,no,True\\r\\n1,3,male,25.0,0,0,0.0,S,Third,man,True,,Southampton,yes,True\\r\\n1,2,female,41.0,0,1,19.5,S,Second,woman,False,,Southampton,yes,False\\r\\n0,1,male,37.0,0,1,29.7,C,First,man,True,C,Cherbourg,no,False\\r\\n1,3,female,,0,0,7.75,Q,Third,woman,False,,Queenstown,yes,True\\r\\n1,1,female,63.0,1,0,77.9583,S,First,woman,False,D,Southampton,yes,False\\r\\n0,3,female,45.0,0,0,7.75,S,Third,woman,False,,Southampton,no,True\\r\\n0,2,male,,0,0,0.0,S,Second,man,True,,Southampton,no,True\\r\\n0,3,male,7.0,4,1,29.125,Q,Third,child,False,,Queenstown,no,False\\r\\n1,3,female,35.0,1,1,20.25,S,Third,woman,False,,Southampton,yes,False\\r\\n0,3,male,65.0,0,0,7.75,Q,Third,man,True,,Queenstown,no,True\\r\\n0,3,male,28.0,0,0,7.8542,S,Third,man,True,,Southampton,no,True\\r\\n0,3,male,16.0,0,0,9.5,S,Third,man,True,,Southampton,no,True\\r\\n1,3,male,19.0,0,0,8.05,S,Third,man,True,,Southampton,yes,True\\r\\n0,1,male,,0,0,26.0,S,First,man,True,A,Southampton,no,True\\r\\n0,3,male,33.0,0,0,8.6625,C,Third,man,True,,Cherbourg,no,True\\r\\n1,3,male,30.0,0,0,9.5,S,Third,man,True,,Southampton,yes,True\\r\\n0,3,male,22.0,0,0,7.8958,S,Third,man,True,,Southampton,no,True\\r\\n1,2,male,42.0,0,0,13.0,S,Second,man,True,,Southampton,yes,True\\r\\n1,3,female,22.0,0,0,7.75,Q,Third,woman,False,,Queenstown,yes,True\\r\\n1,1,female,26.0,0,0,78.85,S,First,woman,False,,Southampton,yes,True\\r\\n1,1,female,19.0,1,0,91.0792,C,First,woman,False,B,Cherbourg,yes,False\\r\\n0,2,male,36.0,0,0,12.875,C,Second,man,True,D,Cherbourg,no,True\\r\\n0,3,female,24.0,0,0,8.85,S,Third,woman,False,,Southampton,no,True\\r\\n0,3,male,24.0,0,0,7.8958,S,Third,man,True,,Southampton,no,True\\r\\n0,1,male,,0,0,27.7208,C,First,man,True,,Cherbourg,no,True\\r\\n0,3,male,23.5,0,0,7.2292,C,Third,man,True,,Cherbourg,no,True\\r\\n0,1,female,2.0,1,2,151.55,S,First,child,False,C,Southampton,no,False\\r\\n1,1,male,,0,0,30.5,S,First,man,True,C,Southampton,yes,True\\r\\n1,1,female,50.0,0,1,247.5208,C,First,woman,False,B,Cherbourg,yes,False\\r\\n1,3,female,,0,0,7.75,Q,Third,woman,False,,Queenstown,yes,True\\r\\n1,3,male,,2,0,23.25,Q,Third,man,True,,Queenstown,yes,False\\r\\n0,3,male,19.0,0,0,0.0,S,Third,man,True,,Southampton,no,True\\r\\n1,2,female,,0,0,12.35,Q,Second,woman,False,E,Queenstown,yes,True\\r\\n0,3,male,,0,0,8.05,S,Third,man,True,,Southampton,no,True\\r\\n1,1,male,0.92,1,2,151.55,S,First,child,False,C,Southampton,yes,False\\r\\n1,1,female,,0,0,110.8833,C,First,woman,False,,Cherbourg,yes,True\\r\\n1,1,female,17.0,1,0,108.9,C,First,woman,False,C,Cherbourg,yes,False\\r\\n0,2,male,30.0,1,0,24.0,C,Second,man,True,,Cherbourg,no,False\\r\\n1,1,female,30.0,0,0,56.9292,C,First,woman,False,E,Cherbourg,yes,True\\r\\n1,1,female,24.0,0,0,83.1583,C,First,woman,False,C,Cherbourg,yes,True\\r\\n1,1,female,18.0,2,2,262.375,C,First,woman,False,B,Cherbourg,yes,False\\r\\n0,2,female,26.0,1,1,26.0,S,Second,woman,False,,Southampton,no,False\\r\\n0,3,male,28.0,0,0,7.8958,S,Third,man,True,,Southampton,no,True\\r\\n0,2,male,43.0,1,1,26.25,S,Second,man,True,,Southampton,no,False\\r\\n1,3,female,26.0,0,0,7.8542,S,Third,woman,False,,Southampton,yes,True\\r\\n1,2,female,24.0,1,0,26.0,S,Second,woman,False,,Southampton,yes,False\\r\\n0,2,male,54.0,0,0,14.0,S,Second,man,True,,Southampton,no,True\\r\\n1,1,female,31.0,0,2,164.8667,S,First,woman,False,C,Southampton,yes,False\\r\\n1,1,female,40.0,1,1,134.5,C,First,woman,False,E,Cherbourg,yes,False\\r\\n0,3,male,22.0,0,0,7.25,S,Third,man,True,,Southampton,no,True\\r\\n0,3,male,27.0,0,0,7.8958,S,Third,man,True,,Southampton,no,True\\r\\n1,2,female,30.0,0,0,12.35,Q,Second,woman,False,,Queenstown,yes,True\\r\\n1,2,female,22.0,1,1,29.0,S,Second,woman,False,,Southampton,yes,False\\r\\n0,3,male,,8,2,69.55,S,Third,man,True,,Southampton,no,False\\r\\n1,1,female,36.0,0,0,135.6333,C,First,woman,False,C,Cherbourg,yes,True\\r\\n0,3,male,61.0,0,0,6.2375,S,Third,man,True,,Southampton,no,True\\r\\n1,2,female,36.0,0,0,13.0,S,Second,woman,False,D,Southampton,yes,True\\r\\n1,3,female,31.0,1,1,20.525,S,Third,woman,False,,Southampton,yes,False\\r\\n1,1,female,16.0,0,1,57.9792,C,First,woman,False,B,Cherbourg,yes,False\\r\\n1,3,female,,2,0,23.25,Q,Third,woman,False,,Queenstown,yes,False\\r\\n0,1,male,45.5,0,0,28.5,S,First,man,True,C,Southampton,no,True\\r\\n0,1,male,38.0,0,1,153.4625,S,First,man,True,C,Southampton,no,False\\r\\n0,3,male,16.0,2,0,18.0,S,Third,man,True,,Southampton,no,False\\r\\n1,1,female,,1,0,133.65,S,First,woman,False,,Southampton,yes,False\\r\\n0,3,male,,0,0,7.8958,S,Third,man,True,,Southampton,no,True\\r\\n0,1,male,29.0,1,0,66.6,S,First,man,True,C,Southampton,no,False\\r\\n1,1,female,41.0,0,0,134.5,C,First,woman,False,E,Cherbourg,yes,True\\r\\n1,3,male,45.0,0,0,8.05,S,Third,man,True,,Southampton,yes,True\\r\\n0,1,male,45.0,0,0,35.5,S,First,man,True,,Southampton,no,True\\r\\n1,2,male,2.0,1,1,26.0,S,Second,child,False,F,Southampton,yes,False\\r\\n1,1,female,24.0,3,2,263.0,S,First,woman,False,C,Southampton,yes,False\\r\\n0,2,male,28.0,0,0,13.0,S,Second,man,True,,Southampton,no,True\\r\\n0,2,male,25.0,0,0,13.0,S,Second,man,True,,Southampton,no,True\\r\\n0,2,male,36.0,0,0,13.0,S,Second,man,True,,Southampton,no,True\\r\\n1,2,female,24.0,0,0,13.0,S,Second,woman,False,F,Southampton,yes,True\\r\\n1,2,female,40.0,0,0,13.0,S,Second,woman,False,,Southampton,yes,True\\r\\n1,3,female,,1,0,16.1,S,Third,woman,False,,Southampton,yes,False\\r\\n1,3,male,3.0,1,1,15.9,S,Third,child,False,,Southampton,yes,False\\r\\n0,3,male,42.0,0,0,8.6625,S,Third,man,True,,Southampton,no,True\\r\\n0,3,male,23.0,0,0,9.225,S,Third,man,True,,Southampton,no,True\\r\\n0,1,male,,0,0,35.0,S,First,man,True,C,Southampton,no,True\\r\\n0,3,male,15.0,1,1,7.2292,C,Third,child,False,,Cherbourg,no,False\\r\\n0,3,male,25.0,1,0,17.8,S,Third,man,True,,Southampton,no,False\\r\\n0,3,male,,0,0,7.225,C,Third,man,True,,Cherbourg,no,True\\r\\n0,3,male,28.0,0,0,9.5,S,Third,man,True,,Southampton,no,True\\r\\n1,1,female,22.0,0,1,55.0,S,First,woman,False,E,Southampton,yes,False\\r\\n0,2,female,38.0,0,0,13.0,S,Second,woman,False,,Southampton,no,True\\r\\n1,3,female,,0,0,7.8792,Q,Third,woman,False,,Queenstown,yes,True\\r\\n1,3,female,,0,0,7.8792,Q,Third,woman,False,,Queenstown,yes,True\\r\\n0,3,male,40.0,1,4,27.9,S,Third,man,True,,Southampton,no,False\\r\\n0,2,male,29.0,1,0,27.7208,C,Second,man,True,,Cherbourg,no,False\\r\\n0,3,female,45.0,0,1,14.4542,C,Third,woman,False,,Cherbourg,no,False\\r\\n0,3,male,35.0,0,0,7.05,S,Third,man,True,,Southampton,no,True\\r\\n0,3,male,,1,0,15.5,Q,Third,man,True,,Queenstown,no,False\\r\\n0,3,male,30.0,0,0,7.25,S,Third,man,True,,Southampton,no,True\\r\\n1,1,female,60.0,1,0,75.25,C,First,woman,False,D,Cherbourg,yes,False\\r\\n1,3,female,,0,0,7.2292,C,Third,woman,False,,Cherbourg,yes,True\\r\\n1,3,female,,0,0,7.75,Q,Third,woman,False,,Queenstown,yes,True\\r\\n1,1,female,24.0,0,0,69.3,C,First,woman,False,B,Cherbourg,yes,True\\r\\n1,1,male,25.0,1,0,55.4417,C,First,man,True,E,Cherbourg,yes,False\\r\\n0,3,male,18.0,1,0,6.4958,S,Third,man,True,,Southampton,no,False\\r\\n0,3,male,19.0,0,0,8.05,S,Third,man,True,,Southampton,no,True\\r\\n0,1,male,22.0,0,0,135.6333,C,First,man,True,,Cherbourg,no,True\\r\\n0,3,female,3.0,3,1,21.075,S,Third,child,False,,Southampton,no,False\\r\\n1,1,female,,1,0,82.1708,C,First,woman,False,,Cherbourg,yes,False\\r\\n1,3,female,22.0,0,0,7.25,S,Third,woman,False,,Southampton,yes,True\\r\\n0,1,male,27.0,0,2,211.5,C,First,man,True,C,Cherbourg,no,False\\r\\n0,3,male,20.0,0,0,4.0125,C,Third,man,True,,Cherbourg,no,True\\r\\n0,3,male,19.0,0,0,7.775,S,Third,man,True,,Southampton,no,True\\r\\n1,1,female,42.0,0,0,227.525,C,First,woman,False,,Cherbourg,yes,True\\r\\n1,3,female,1.0,0,2,15.7417,C,Third,child,False,,Cherbourg,yes,False\\r\\n0,3,male,32.0,0,0,7.925,S,Third,man,True,,Southampton,no,True\\r\\n1,1,female,35.0,1,0,52.0,S,First,woman,False,,Southampton,yes,False\\r\\n0,3,male,,0,0,7.8958,S,Third,man,True,,Southampton,no,True\\r\\n0,2,male,18.0,0,0,73.5,S,Second,man,True,,Southampton,no,True\\r\\n0,3,male,1.0,5,2,46.9,S,Third,child,False,,Southampton,no,False\\r\\n1,2,female,36.0,0,0,13.0,S,Second,woman,False,,Southampton,yes,True\\r\\n0,3,male,,0,0,7.7292,Q,Third,man,True,,Queenstown,no,True\\r\\n1,2,female,17.0,0,0,12.0,C,Second,woman,False,,Cherbourg,yes,True\\r\\n1,1,male,36.0,1,2,120.0,S,First,man,True,B,Southampton,yes,False\\r\\n1,3,male,21.0,0,0,7.7958,S,Third,man,True,,Southampton,yes,True\\r\\n0,3,male,28.0,2,0,7.925,S,Third,man,True,,Southampton,no,False\\r\\n1,1,female,23.0,1,0,113.275,C,First,woman,False,D,Cherbourg,yes,False\\r\\n1,3,female,24.0,0,2,16.7,S,Third,woman,False,G,Southampton,yes,False\\r\\n0,3,male,22.0,0,0,7.7958,S,Third,man,True,,Southampton,no,True\\r\\n0,3,female,31.0,0,0,7.8542,S,Third,woman,False,,Southampton,no,True\\r\\n0,2,male,46.0,0,0,26.0,S,Second,man,True,,Southampton,no,True\\r\\n0,2,male,23.0,0,0,10.5,S,Second,man,True,,Southampton,no,True\\r\\n1,2,female,28.0,0,0,12.65,S,Second,woman,False,,Southampton,yes,True\\r\\n1,3,male,39.0,0,0,7.925,S,Third,man,True,,Southampton,yes,True\\r\\n0,3,male,26.0,0,0,8.05,S,Third,man,True,,Southampton,no,True\\r\\n0,3,female,21.0,1,0,9.825,S,Third,woman,False,,Southampton,no,False\\r\\n0,3,male,28.0,1,0,15.85,S,Third,man,True,,Southampton,no,False\\r\\n0,3,female,20.0,0,0,8.6625,S,Third,woman,False,,Southampton,no,True\\r\\n0,2,male,34.0,1,0,21.0,S,Second,man,True,,Southampton,no,False\\r\\n0,3,male,51.0,0,0,7.75,S,Third,man,True,,Southampton,no,True\\r\\n1,2,male,3.0,1,1,18.75,S,Second,child,False,,Southampton,yes,False\\r\\n0,3,male,21.0,0,0,7.775,S,Third,man,True,,Southampton,no,True\\r\\n0,3,female,,3,1,25.4667,S,Third,woman,False,,Southampton,no,False\\r\\n0,3,male,,0,0,7.8958,S,Third,man,True,,Southampton,no,True\\r\\n0,3,male,,0,0,6.8583,Q,Third,man,True,,Queenstown,no,True\\r\\n1,1,female,33.0,1,0,90.0,Q,First,woman,False,C,Queenstown,yes,False\\r\\n0,2,male,,0,0,0.0,S,Second,man,True,,Southampton,no,True\\r\\n1,3,male,44.0,0,0,7.925,S,Third,man,True,,Southampton,yes,True\\r\\n0,3,female,,0,0,8.05,S,Third,woman,False,,Southampton,no,True\\r\\n1,2,female,34.0,1,1,32.5,S,Second,woman,False,,Southampton,yes,False\\r\\n1,2,female,18.0,0,2,13.0,S,Second,woman,False,,Southampton,yes,False\\r\\n0,2,male,30.0,0,0,13.0,S,Second,man,True,,Southampton,no,True\\r\\n0,3,female,10.0,0,2,24.15,S,Third,child,False,,Southampton,no,False\\r\\n0,3,male,,0,0,7.8958,C,Third,man,True,,Cherbourg,no,True\\r\\n0,3,male,21.0,0,0,7.7333,Q,Third,man,True,,Queenstown,no,True\\r\\n0,3,male,29.0,0,0,7.875,S,Third,man,True,,Southampton,no,True\\r\\n0,3,female,28.0,1,1,14.4,S,Third,woman,False,,Southampton,no,False\\r\\n0,3,male,18.0,1,1,20.2125,S,Third,man,True,,Southampton,no,False\\r\\n0,3,male,,0,0,7.25,S,Third,man,True,,Southampton,no,True\\r\\n1,2,female,28.0,1,0,26.0,S,Second,woman,False,,Southampton,yes,False\\r\\n1,2,female,19.0,0,0,26.0,S,Second,woman,False,,Southampton,yes,True\\r\\n0,3,male,,0,0,7.75,Q,Third,man,True,,Queenstown,no,True\\r\\n1,3,male,32.0,0,0,8.05,S,Third,man,True,E,Southampton,yes,True\\r\\n1,1,male,28.0,0,0,26.55,S,First,man,True,C,Southampton,yes,True\\r\\n1,3,female,,1,0,16.1,S,Third,woman,False,,Southampton,yes,False\\r\\n1,2,female,42.0,1,0,26.0,S,Second,woman,False,,Southampton,yes,False\\r\\n0,3,male,17.0,0,0,7.125,S,Third,man,True,,Southampton,no,True\\r\\n0,1,male,50.0,1,0,55.9,S,First,man,True,E,Southampton,no,False\\r\\n1,1,female,14.0,1,2,120.0,S,First,child,False,B,Southampton,yes,False\\r\\n0,3,female,21.0,2,2,34.375,S,Third,woman,False,,Southampton,no,False\\r\\n1,2,female,24.0,2,3,18.75,S,Second,woman,False,,Southampton,yes,False\\r\\n0,1,male,64.0,1,4,263.0,S,First,man,True,C,Southampton,no,False\\r\\n0,2,male,31.0,0,0,10.5,S,Second,man,True,,Southampton,no,True\\r\\n1,2,female,45.0,1,1,26.25,S,Second,woman,False,,Southampton,yes,False\\r\\n0,3,male,20.0,0,0,9.5,S,Third,man,True,,Southampton,no,True\\r\\n0,3,male,25.0,1,0,7.775,S,Third,man,True,,Southampton,no,False\\r\\n1,2,female,28.0,0,0,13.0,S,Second,woman,False,,Southampton,yes,True\\r\\n1,3,male,,0,0,8.1125,S,Third,man,True,,Southampton,yes,True\\r\\n1,1,male,4.0,0,2,81.8583,S,First,child,False,A,Southampton,yes,False\\r\\n1,2,female,13.0,0,1,19.5,S,Second,child,False,,Southampton,yes,False\\r\\n1,1,male,34.0,0,0,26.55,S,First,man,True,,Southampton,yes,True\\r\\n1,3,female,5.0,2,1,19.2583,C,Third,child,False,,Cherbourg,yes,False\\r\\n1,1,male,52.0,0,0,30.5,S,First,man,True,C,Southampton,yes,True\\r\\n0,2,male,36.0,1,2,27.75,S,Second,man,True,,Southampton,no,False\\r\\n0,3,male,,1,0,19.9667,S,Third,man,True,,Southampton,no,False\\r\\n0,1,male,30.0,0,0,27.75,C,First,man,True,C,Cherbourg,no,True\\r\\n1,1,male,49.0,1,0,89.1042,C,First,man,True,C,Cherbourg,yes,False\\r\\n0,3,male,,0,0,8.05,S,Third,man,True,,Southampton,no,True\\r\\n1,3,male,29.0,0,0,7.8958,C,Third,man,True,,Cherbourg,yes,True\\r\\n0,1,male,65.0,0,0,26.55,S,First,man,True,E,Southampton,no,True\\r\\n1,1,female,,1,0,51.8625,S,First,woman,False,D,Southampton,yes,False\\r\\n1,2,female,50.0,0,0,10.5,S,Second,woman,False,,Southampton,yes,True\\r\\n0,3,male,,0,0,7.75,Q,Third,man,True,,Queenstown,no,True\\r\\n1,1,male,48.0,0,0,26.55,S,First,man,True,E,Southampton,yes,True\\r\\n0,3,male,34.0,0,0,8.05,S,Third,man,True,,Southampton,no,True\\r\\n0,1,male,47.0,0,0,38.5,S,First,man,True,E,Southampton,no,True\\r\\n0,2,male,48.0,0,0,13.0,S,Second,man,True,,Southampton,no,True\\r\\n0,3,male,,0,0,8.05,S,Third,man,True,,Southampton,no,True\\r\\n0,3,male,38.0,0,0,7.05,S,Third,man,True,,Southampton,no,True\\r\\n0,2,male,,0,0,0.0,S,Second,man,True,,Southampton,no,True\\r\\n0,1,male,56.0,0,0,26.55,S,First,man,True,,Southampton,no,True\\r\\n0,3,male,,0,0,7.725,Q,Third,man,True,,Queenstown,no,True\\r\\n1,3,female,0.75,2,1,19.2583,C,Third,child,False,,Cherbourg,yes,False\\r\\n0,3,male,,0,0,7.25,S,Third,man,True,,Southampton,no,True\\r\\n0,3,male,38.0,0,0,8.6625,S,Third,man,True,,Southampton,no,True\\r\\n1,2,female,33.0,1,2,27.75,S,Second,woman,False,,Southampton,yes,False\\r\\n1,2,female,23.0,0,0,13.7917,C,Second,woman,False,D,Cherbourg,yes,True\\r\\n0,3,female,22.0,0,0,9.8375,S,Third,woman,False,,Southampton,no,True\\r\\n0,1,male,,0,0,52.0,S,First,man,True,A,Southampton,no,True\\r\\n0,2,male,34.0,1,0,21.0,S,Second,man,True,,Southampton,no,False\\r\\n0,3,male,29.0,1,0,7.0458,S,Third,man,True,,Southampton,no,False\\r\\n0,3,male,22.0,0,0,7.5208,S,Third,man,True,,Southampton,no,True\\r\\n1,3,female,2.0,0,1,12.2875,S,Third,child,False,,Southampton,yes,False\\r\\n0,3,male,9.0,5,2,46.9,S,Third,child,False,,Southampton,no,False\\r\\n0,2,male,,0,0,0.0,S,Second,man,True,,Southampton,no,True\\r\\n0,3,male,50.0,0,0,8.05,S,Third,man,True,,Southampton,no,True\\r\\n1,3,female,63.0,0,0,9.5875,S,Third,woman,False,,Southampton,yes,True\\r\\n1,1,male,25.0,1,0,91.0792,C,First,man,True,B,Cherbourg,yes,False\\r\\n0,3,female,,3,1,25.4667,S,Third,woman,False,,Southampton,no,False\\r\\n1,1,female,35.0,1,0,90.0,S,First,woman,False,C,Southampton,yes,False\\r\\n0,1,male,58.0,0,0,29.7,C,First,man,True,B,Cherbourg,no,True\\r\\n0,3,male,30.0,0,0,8.05,S,Third,man,True,,Southampton,no,True\\r\\n1,3,male,9.0,1,1,15.9,S,Third,child,False,,Southampton,yes,False\\r\\n0,3,male,,1,0,19.9667,S,Third,man,True,,Southampton,no,False\\r\\n0,3,male,21.0,0,0,7.25,S,Third,man,True,,Southampton,no,True\\r\\n0,1,male,55.0,0,0,30.5,S,First,man,True,C,Southampton,no,True\\r\\n0,1,male,71.0,0,0,49.5042,C,First,man,True,,Cherbourg,no,True\\r\\n0,3,male,21.0,0,0,8.05,S,Third,man,True,,Southampton,no,True\\r\\n0,3,male,,0,0,14.4583,C,Third,man,True,,Cherbourg,no,True\\r\\n1,1,female,54.0,1,0,78.2667,C,First,woman,False,D,Cherbourg,yes,False\\r\\n0,3,male,,0,0,15.1,S,Third,man,True,,Southampton,no,True\\r\\n0,1,female,25.0,1,2,151.55,S,First,woman,False,C,Southampton,no,False\\r\\n0,3,male,24.0,0,0,7.7958,S,Third,man,True,,Southampton,no,True\\r\\n0,3,male,17.0,0,0,8.6625,S,Third,man,True,,Southampton,no,True\\r\\n0,3,female,21.0,0,0,7.75,Q,Third,woman,False,,Queenstown,no,True\\r\\n0,3,female,,0,0,7.6292,Q,Third,woman,False,,Queenstown,no,True\\r\\n0,3,female,37.0,0,0,9.5875,S,Third,woman,False,,Southampton,no,True\\r\\n1,1,female,16.0,0,0,86.5,S,First,woman,False,B,Southampton,yes,True\\r\\n0,1,male,18.0,1,0,108.9,C,First,man,True,C,Cherbourg,no,False\\r\\n1,2,female,33.0,0,2,26.0,S,Second,woman,False,,Southampton,yes,False\\r\\n1,1,male,,0,0,26.55,S,First,man,True,,Southampton,yes,True\\r\\n0,3,male,28.0,0,0,22.525,S,Third,man,True,,Southampton,no,True\\r\\n1,3,male,26.0,0,0,56.4958,S,Third,man,True,,Southampton,yes,True\\r\\n1,3,male,29.0,0,0,7.75,Q,Third,man,True,,Queenstown,yes,True\\r\\n0,3,male,,0,0,8.05,S,Third,man,True,,Southampton,no,True\\r\\n1,1,male,36.0,0,0,26.2875,S,First,man,True,E,Southampton,yes,True\\r\\n1,1,female,54.0,1,0,59.4,C,First,woman,False,,Cherbourg,yes,False\\r\\n0,3,male,24.0,0,0,7.4958,S,Third,man,True,,Southampton,no,True\\r\\n0,1,male,47.0,0,0,34.0208,S,First,man,True,D,Southampton,no,True\\r\\n1,2,female,34.0,0,0,10.5,S,Second,woman,False,F,Southampton,yes,True\\r\\n0,3,male,,0,0,24.15,Q,Third,man,True,,Queenstown,no,True\\r\\n1,2,female,36.0,1,0,26.0,S,Second,woman,False,,Southampton,yes,False\\r\\n0,3,male,32.0,0,0,7.8958,S,Third,man,True,,Southampton,no,True\\r\\n1,1,female,30.0,0,0,93.5,S,First,woman,False,B,Southampton,yes,True\\r\\n0,3,male,22.0,0,0,7.8958,S,Third,man,True,,Southampton,no,True\\r\\n0,3,male,,0,0,7.225,C,Third,man,True,,Cherbourg,no,True\\r\\n1,1,female,44.0,0,1,57.9792,C,First,woman,False,B,Cherbourg,yes,False\\r\\n0,3,male,,0,0,7.2292,C,Third,man,True,,Cherbourg,no,True\\r\\n0,3,male,40.5,0,0,7.75,Q,Third,man,True,,Queenstown,no,True\\r\\n1,2,female,50.0,0,0,10.5,S,Second,woman,False,,Southampton,yes,True\\r\\n0,1,male,,0,0,221.7792,S,First,man,True,C,Southampton,no,True\\r\\n0,3,male,39.0,0,0,7.925,S,Third,man,True,,Southampton,no,True\\r\\n0,2,male,23.0,2,1,11.5,S,Second,man,True,,Southampton,no,False\\r\\n1,2,female,2.0,1,1,26.0,S,Second,child,False,,Southampton,yes,False\\r\\n0,3,male,,0,0,7.2292,C,Third,man,True,,Cherbourg,no,True\\r\\n0,3,male,17.0,1,1,7.2292,C,Third,man,True,,Cherbourg,no,False\\r\\n1,3,female,,0,2,22.3583,C,Third,woman,False,,Cherbourg,yes,False\\r\\n0,3,female,30.0,0,0,8.6625,S,Third,woman,False,,Southampton,no,True\\r\\n1,2,female,7.0,0,2,26.25,S,Second,child,False,,Southampton,yes,False\\r\\n0,1,male,45.0,0,0,26.55,S,First,man,True,B,Southampton,no,True\\r\\n1,1,female,30.0,0,0,106.425,C,First,woman,False,,Cherbourg,yes,True\\r\\n0,3,male,,0,0,14.5,S,Third,man,True,,Southampton,no,True\\r\\n1,1,female,22.0,0,2,49.5,C,First,woman,False,B,Cherbourg,yes,False\\r\\n1,1,female,36.0,0,2,71.0,S,First,woman,False,B,Southampton,yes,False\\r\\n0,3,female,9.0,4,2,31.275,S,Third,child,False,,Southampton,no,False\\r\\n0,3,female,11.0,4,2,31.275,S,Third,child,False,,Southampton,no,False\\r\\n1,2,male,32.0,1,0,26.0,S,Second,man,True,,Southampton,yes,False\\r\\n0,1,male,50.0,1,0,106.425,C,First,man,True,C,Cherbourg,no,False\\r\\n0,1,male,64.0,0,0,26.0,S,First,man,True,,Southampton,no,True\\r\\n1,2,female,19.0,1,0,26.0,S,Second,woman,False,,Southampton,yes,False\\r\\n1,2,male,,0,0,13.8625,C,Second,man,True,,Cherbourg,yes,True\\r\\n0,3,male,33.0,1,1,20.525,S,Third,man,True,,Southampton,no,False\\r\\n1,2,male,8.0,1,1,36.75,S,Second,child,False,,Southampton,yes,False\\r\\n1,1,male,17.0,0,2,110.8833,C,First,man,True,C,Cherbourg,yes,False\\r\\n0,2,male,27.0,0,0,26.0,S,Second,man,True,,Southampton,no,True\\r\\n0,3,male,,0,0,7.8292,Q,Third,man,True,,Queenstown,no,True\\r\\n1,3,male,22.0,0,0,7.225,C,Third,man,True,,Cherbourg,yes,True\\r\\n1,3,female,22.0,0,0,7.775,S,Third,woman,False,,Southampton,yes,True\\r\\n0,1,male,62.0,0,0,26.55,S,First,man,True,,Southampton,no,True\\r\\n1,1,female,48.0,1,0,39.6,C,First,woman,False,A,Cherbourg,yes,False\\r\\n0,1,male,,0,0,227.525,C,First,man,True,,Cherbourg,no,True\\r\\n1,1,female,39.0,1,1,79.65,S,First,woman,False,E,Southampton,yes,False\\r\\n1,3,female,36.0,1,0,17.4,S,Third,woman,False,,Southampton,yes,False\\r\\n0,3,male,,0,0,7.75,Q,Third,man,True,,Queenstown,no,True\\r\\n0,3,male,40.0,0,0,7.8958,S,Third,man,True,,Southampton,no,True\\r\\n0,2,male,28.0,0,0,13.5,S,Second,man,True,,Southampton,no,True\\r\\n0,3,male,,0,0,8.05,S,Third,man,True,,Southampton,no,True\\r\\n0,3,female,,0,0,8.05,S,Third,woman,False,,Southampton,no,True\\r\\n0,3,male,24.0,2,0,24.15,S,Third,man,True,,Southampton,no,False\\r\\n0,3,male,19.0,0,0,7.8958,S,Third,man,True,,Southampton,no,True\\r\\n0,3,female,29.0,0,4,21.075,S,Third,woman,False,,Southampton,no,False\\r\\n0,3,male,,0,0,7.2292,C,Third,man,True,,Cherbourg,no,True\\r\\n1,3,male,32.0,0,0,7.8542,S,Third,man,True,,Southampton,yes,True\\r\\n1,2,male,62.0,0,0,10.5,S,Second,man,True,,Southampton,yes,True\\r\\n1,1,female,53.0,2,0,51.4792,S,First,woman,False,C,Southampton,yes,False\\r\\n1,1,male,36.0,0,0,26.3875,S,First,man,True,E,Southampton,yes,True\\r\\n1,3,female,,0,0,7.75,Q,Third,woman,False,,Queenstown,yes,True\\r\\n0,3,male,16.0,0,0,8.05,S,Third,man,True,,Southampton,no,True\\r\\n0,3,male,19.0,0,0,14.5,S,Third,man,True,,Southampton,no,True\\r\\n1,2,female,34.0,0,0,13.0,S,Second,woman,False,,Southampton,yes,True\\r\\n1,1,female,39.0,1,0,55.9,S,First,woman,False,E,Southampton,yes,False\\r\\n0,3,female,,1,0,14.4583,C,Third,woman,False,,Cherbourg,no,False\\r\\n1,3,male,32.0,0,0,7.925,S,Third,man,True,,Southampton,yes,True\\r\\n1,2,female,25.0,1,1,30.0,S,Second,woman,False,,Southampton,yes,False\\r\\n1,1,female,39.0,1,1,110.8833,C,First,woman,False,C,Cherbourg,yes,False\\r\\n0,2,male,54.0,0,0,26.0,S,Second,man,True,,Southampton,no,True\\r\\n0,1,male,36.0,0,0,40.125,C,First,man,True,A,Cherbourg,no,True\\r\\n0,3,male,,0,0,8.7125,C,Third,man,True,,Cherbourg,no,True\\r\\n1,1,female,18.0,0,2,79.65,S,First,woman,False,E,Southampton,yes,False\\r\\n0,2,male,47.0,0,0,15.0,S,Second,man,True,,Southampton,no,True\\r\\n1,1,male,60.0,1,1,79.2,C,First,man,True,B,Cherbourg,yes,False\\r\\n0,3,male,22.0,0,0,8.05,S,Third,man,True,,Southampton,no,True\\r\\n0,3,male,,0,0,8.05,S,Third,man,True,,Southampton,no,True\\r\\n0,3,male,35.0,0,0,7.125,S,Third,man,True,,Southampton,no,True\\r\\n1,1,female,52.0,1,0,78.2667,C,First,woman,False,D,Cherbourg,yes,False\\r\\n0,3,male,47.0,0,0,7.25,S,Third,man,True,,Southampton,no,True\\r\\n0,3,female,,0,2,7.75,Q,Third,woman,False,,Queenstown,no,False\\r\\n0,2,male,37.0,1,0,26.0,S,Second,man,True,,Southampton,no,False\\r\\n0,3,male,36.0,1,1,24.15,S,Third,man,True,,Southampton,no,False\\r\\n1,2,female,,0,0,33.0,S,Second,woman,False,,Southampton,yes,True\\r\\n0,3,male,49.0,0,0,0.0,S,Third,man,True,,Southampton,no,True\\r\\n0,3,male,,0,0,7.225,C,Third,man,True,,Cherbourg,no,True\\r\\n1,1,male,49.0,1,0,56.9292,C,First,man,True,A,Cherbourg,yes,False\\r\\n1,2,female,24.0,2,1,27.0,S,Second,woman,False,,Southampton,yes,False\\r\\n0,3,male,,0,0,7.8958,S,Third,man,True,,Southampton,no,True\\r\\n0,1,male,,0,0,42.4,S,First,man,True,,Southampton,no,True\\r\\n0,3,male,44.0,0,0,8.05,S,Third,man,True,,Southampton,no,True\\r\\n1,1,male,35.0,0,0,26.55,C,First,man,True,,Cherbourg,yes,True\\r\\n0,3,male,36.0,1,0,15.55,S,Third,man,True,,Southampton,no,False\\r\\n0,3,male,30.0,0,0,7.8958,S,Third,man,True,,Southampton,no,True\\r\\n1,1,male,27.0,0,0,30.5,S,First,man,True,,Southampton,yes,True\\r\\n1,2,female,22.0,1,2,41.5792,C,Second,woman,False,,Cherbourg,yes,False\\r\\n1,1,female,40.0,0,0,153.4625,S,First,woman,False,C,Southampton,yes,True\\r\\n0,3,female,39.0,1,5,31.275,S,Third,woman,False,,Southampton,no,False\\r\\n0,3,male,,0,0,7.05,S,Third,man,True,,Southampton,no,True\\r\\n1,3,female,,1,0,15.5,Q,Third,woman,False,,Queenstown,yes,False\\r\\n0,3,male,,0,0,7.75,Q,Third,man,True,,Queenstown,no,True\\r\\n0,3,male,35.0,0,0,8.05,S,Third,man,True,,Southampton,no,True\\r\\n1,2,female,24.0,1,2,65.0,S,Second,woman,False,,Southampton,yes,False\\r\\n0,3,male,34.0,1,1,14.4,S,Third,man,True,,Southampton,no,False\\r\\n0,3,female,26.0,1,0,16.1,S,Third,woman,False,,Southampton,no,False\\r\\n1,2,female,4.0,2,1,39.0,S,Second,child,False,F,Southampton,yes,False\\r\\n0,2,male,26.0,0,0,10.5,S,Second,man,True,,Southampton,no,True\\r\\n0,3,male,27.0,1,0,14.4542,C,Third,man,True,,Cherbourg,no,False\\r\\n1,1,male,42.0,1,0,52.5542,S,First,man,True,D,Southampton,yes,False\\r\\n1,3,male,20.0,1,1,15.7417,C,Third,man,True,,Cherbourg,yes,False\\r\\n0,3,male,21.0,0,0,7.8542,S,Third,man,True,,Southampton,no,True\\r\\n0,3,male,21.0,0,0,16.1,S,Third,man,True,,Southampton,no,True\\r\\n0,1,male,61.0,0,0,32.3208,S,First,man,True,D,Southampton,no,True\\r\\n0,2,male,57.0,0,0,12.35,Q,Second,man,True,,Queenstown,no,True\\r\\n1,1,female,21.0,0,0,77.9583,S,First,woman,False,D,Southampton,yes,True\\r\\n0,3,male,26.0,0,0,7.8958,S,Third,man,True,,Southampton,no,True\\r\\n0,3,male,,0,0,7.7333,Q,Third,man,True,,Queenstown,no,True\\r\\n1,1,male,80.0,0,0,30.0,S,First,man,True,A,Southampton,yes,True\\r\\n0,3,male,51.0,0,0,7.0542,S,Third,man,True,,Southampton,no,True\\r\\n1,1,male,32.0,0,0,30.5,C,First,man,True,B,Cherbourg,yes,True\\r\\n0,1,male,,0,0,0.0,S,First,man,True,,Southampton,no,True\\r\\n0,3,female,9.0,3,2,27.9,S,Third,child,False,,Southampton,no,False\\r\\n1,2,female,28.0,0,0,13.0,S,Second,woman,False,,Southampton,yes,True\\r\\n0,3,male,32.0,0,0,7.925,S,Third,man,True,,Southampton,no,True\\r\\n0,2,male,31.0,1,1,26.25,S,Second,man,True,,Southampton,no,False\\r\\n0,3,female,41.0,0,5,39.6875,S,Third,woman,False,,Southampton,no,False\\r\\n0,3,male,,1,0,16.1,S,Third,man,True,,Southampton,no,False\\r\\n0,3,male,20.0,0,0,7.8542,S,Third,man,True,,Southampton,no,True\\r\\n1,1,female,24.0,0,0,69.3,C,First,woman,False,B,Cherbourg,yes,True\\r\\n0,3,female,2.0,3,2,27.9,S,Third,child,False,,Southampton,no,False\\r\\n1,3,male,,0,0,56.4958,S,Third,man,True,,Southampton,yes,True\\r\\n1,3,female,0.75,2,1,19.2583,C,Third,child,False,,Cherbourg,yes,False\\r\\n1,1,male,48.0,1,0,76.7292,C,First,man,True,D,Cherbourg,yes,False\\r\\n0,3,male,19.0,0,0,7.8958,S,Third,man,True,,Southampton,no,True\\r\\n1,1,male,56.0,0,0,35.5,C,First,man,True,A,Cherbourg,yes,True\\r\\n0,3,male,,0,0,7.55,S,Third,man,True,,Southampton,no,True\\r\\n1,3,female,23.0,0,0,7.55,S,Third,woman,False,,Southampton,yes,True\\r\\n0,3,male,,0,0,7.8958,S,Third,man,True,,Southampton,no,True\\r\\n1,2,female,18.0,0,1,23.0,S,Second,woman,False,,Southampton,yes,False\\r\\n0,3,male,21.0,0,0,8.4333,S,Third,man,True,,Southampton,no,True\\r\\n1,3,female,,0,0,7.8292,Q,Third,woman,False,,Queenstown,yes,True\\r\\n0,3,female,18.0,0,0,6.75,Q,Third,woman,False,,Queenstown,no,True\\r\\n0,2,male,24.0,2,0,73.5,S,Second,man,True,,Southampton,no,False\\r\\n0,3,male,,0,0,7.8958,S,Third,man,True,,Southampton,no,True\\r\\n0,3,female,32.0,1,1,15.5,Q,Third,woman,False,,Queenstown,no,False\\r\\n0,2,male,23.0,0,0,13.0,S,Second,man,True,,Southampton,no,True\\r\\n0,1,male,58.0,0,2,113.275,C,First,man,True,D,Cherbourg,no,False\\r\\n1,1,male,50.0,2,0,133.65,S,First,man,True,,Southampton,yes,False\\r\\n0,3,male,40.0,0,0,7.225,C,Third,man,True,,Cherbourg,no,True\\r\\n0,1,male,47.0,0,0,25.5875,S,First,man,True,E,Southampton,no,True\\r\\n0,3,male,36.0,0,0,7.4958,S,Third,man,True,,Southampton,no,True\\r\\n1,3,male,20.0,1,0,7.925,S,Third,man,True,,Southampton,yes,False\\r\\n0,2,male,32.0,2,0,73.5,S,Second,man,True,,Southampton,no,False\\r\\n0,2,male,25.0,0,0,13.0,S,Second,man,True,,Southampton,no,True\\r\\n0,3,male,,0,0,7.775,S,Third,man,True,,Southampton,no,True\\r\\n0,3,male,43.0,0,0,8.05,S,Third,man,True,,Southampton,no,True\\r\\n1,1,female,,1,0,52.0,S,First,woman,False,C,Southampton,yes,False\\r\\n1,2,female,40.0,1,1,39.0,S,Second,woman,False,,Southampton,yes,False\\r\\n0,1,male,31.0,1,0,52.0,S,First,man,True,B,Southampton,no,False\\r\\n0,2,male,70.0,0,0,10.5,S,Second,man,True,,Southampton,no,True\\r\\n1,2,male,31.0,0,0,13.0,S,Second,man,True,,Southampton,yes,True\\r\\n0,2,male,,0,0,0.0,S,Second,man,True,,Southampton,no,True\\r\\n0,3,male,18.0,0,0,7.775,S,Third,man,True,,Southampton,no,True\\r\\n0,3,male,24.5,0,0,8.05,S,Third,man,True,,Southampton,no,True\\r\\n1,3,female,18.0,0,0,9.8417,S,Third,woman,False,,Southampton,yes,True\\r\\n0,3,female,43.0,1,6,46.9,S,Third,woman,False,,Southampton,no,False\\r\\n1,1,male,36.0,0,1,512.3292,C,First,man,True,B,Cherbourg,yes,False\\r\\n0,3,female,,0,0,8.1375,Q,Third,woman,False,,Queenstown,no,True\\r\\n1,1,male,27.0,0,0,76.7292,C,First,man,True,D,Cherbourg,yes,True\\r\\n0,3,male,20.0,0,0,9.225,S,Third,man,True,,Southampton,no,True\\r\\n0,3,male,14.0,5,2,46.9,S,Third,child,False,,Southampton,no,False\\r\\n0,2,male,60.0,1,1,39.0,S,Second,man,True,,Southampton,no,False\\r\\n0,2,male,25.0,1,2,41.5792,C,Second,man,True,,Cherbourg,no,False\\r\\n0,3,male,14.0,4,1,39.6875,S,Third,child,False,,Southampton,no,False\\r\\n0,3,male,19.0,0,0,10.1708,S,Third,man,True,,Southampton,no,True\\r\\n0,3,male,18.0,0,0,7.7958,S,Third,man,True,,Southampton,no,True\\r\\n1,1,female,15.0,0,1,211.3375,S,First,child,False,B,Southampton,yes,False\\r\\n1,1,male,31.0,1,0,57.0,S,First,man,True,B,Southampton,yes,False\\r\\n1,3,female,4.0,0,1,13.4167,C,Third,child,False,,Cherbourg,yes,False\\r\\n1,3,male,,0,0,56.4958,S,Third,man,True,,Southampton,yes,True\\r\\n0,3,male,25.0,0,0,7.225,C,Third,man,True,,Cherbourg,no,True\\r\\n0,1,male,60.0,0,0,26.55,S,First,man,True,,Southampton,no,True\\r\\n0,2,male,52.0,0,0,13.5,S,Second,man,True,,Southampton,no,True\\r\\n0,3,male,44.0,0,0,8.05,S,Third,man,True,,Southampton,no,True\\r\\n1,3,female,,0,0,7.7333,Q,Third,woman,False,,Queenstown,yes,True\\r\\n0,1,male,49.0,1,1,110.8833,C,First,man,True,C,Cherbourg,no,False\\r\\n0,3,male,42.0,0,0,7.65,S,Third,man,True,F,Southampton,no,True\\r\\n1,1,female,18.0,1,0,227.525,C,First,woman,False,C,Cherbourg,yes,False\\r\\n1,1,male,35.0,0,0,26.2875,S,First,man,True,E,Southampton,yes,True\\r\\n0,3,female,18.0,0,1,14.4542,C,Third,woman,False,,Cherbourg,no,False\\r\\n0,3,male,25.0,0,0,7.7417,Q,Third,man,True,,Queenstown,no,True\\r\\n0,3,male,26.0,1,0,7.8542,S,Third,man,True,,Southampton,no,False\\r\\n0,2,male,39.0,0,0,26.0,S,Second,man,True,,Southampton,no,True\\r\\n1,2,female,45.0,0,0,13.5,S,Second,woman,False,,Southampton,yes,True\\r\\n1,1,male,42.0,0,0,26.2875,S,First,man,True,E,Southampton,yes,True\\r\\n1,1,female,22.0,0,0,151.55,S,First,woman,False,,Southampton,yes,True\\r\\n1,3,male,,1,1,15.2458,C,Third,man,True,,Cherbourg,yes,False\\r\\n1,1,female,24.0,0,0,49.5042,C,First,woman,False,C,Cherbourg,yes,True\\r\\n0,1,male,,0,0,26.55,S,First,man,True,C,Southampton,no,True\\r\\n1,1,male,48.0,1,0,52.0,S,First,man,True,C,Southampton,yes,False\\r\\n0,3,male,29.0,0,0,9.4833,S,Third,man,True,,Southampton,no,True\\r\\n0,2,male,52.0,0,0,13.0,S,Second,man,True,,Southampton,no,True\\r\\n0,3,male,19.0,0,0,7.65,S,Third,man,True,F,Southampton,no,True\\r\\n1,1,female,38.0,0,0,227.525,C,First,woman,False,C,Cherbourg,yes,True\\r\\n1,2,female,27.0,0,0,10.5,S,Second,woman,False,E,Southampton,yes,True\\r\\n0,3,male,,0,0,15.5,Q,Third,man,True,,Queenstown,no,True\\r\\n0,3,male,33.0,0,0,7.775,S,Third,man,True,,Southampton,no,True\\r\\n1,2,female,6.0,0,1,33.0,S,Second,child,False,,Southampton,yes,False\\r\\n0,3,male,17.0,1,0,7.0542,S,Third,man,True,,Southampton,no,False\\r\\n0,2,male,34.0,0,0,13.0,S,Second,man,True,,Southampton,no,True\\r\\n0,2,male,50.0,0,0,13.0,S,Second,man,True,,Southampton,no,True\\r\\n1,1,male,27.0,1,0,53.1,S,First,man,True,E,Southampton,yes,False\\r\\n0,3,male,20.0,0,0,8.6625,S,Third,man,True,,Southampton,no,True\\r\\n1,2,female,30.0,3,0,21.0,S,Second,woman,False,,Southampton,yes,False\\r\\n1,3,female,,0,0,7.7375,Q,Third,woman,False,,Queenstown,yes,True\\r\\n0,2,male,25.0,1,0,26.0,S,Second,man,True,,Southampton,no,False\\r\\n0,3,female,25.0,1,0,7.925,S,Third,woman,False,,Southampton,no,False\\r\\n1,1,female,29.0,0,0,211.3375,S,First,woman,False,B,Southampton,yes,True\\r\\n0,3,male,11.0,0,0,18.7875,C,Third,child,False,,Cherbourg,no,True\\r\\n0,2,male,,0,0,0.0,S,Second,man,True,,Southampton,no,True\\r\\n0,2,male,23.0,0,0,13.0,S,Second,man,True,,Southampton,no,True\\r\\n0,2,male,23.0,0,0,13.0,S,Second,man,True,,Southampton,no,True\\r\\n0,3,male,28.5,0,0,16.1,S,Third,man,True,,Southampton,no,True\\r\\n0,3,female,48.0,1,3,34.375,S,Third,woman,False,,Southampton,no,False\\r\\n1,1,male,35.0,0,0,512.3292,C,First,man,True,B,Cherbourg,yes,True\\r\\n0,3,male,,0,0,7.8958,S,Third,man,True,,Southampton,no,True\\r\\n0,3,male,,0,0,7.8958,S,Third,man,True,,Southampton,no,True\\r\\n1,1,male,,0,0,30.0,S,First,man,True,D,Southampton,yes,True\\r\\n0,1,male,36.0,1,0,78.85,S,First,man,True,C,Southampton,no,False\\r\\n1,1,female,21.0,2,2,262.375,C,First,woman,False,B,Cherbourg,yes,False\\r\\n0,3,male,24.0,1,0,16.1,S,Third,man,True,,Southampton,no,False\\r\\n1,3,male,31.0,0,0,7.925,S,Third,man,True,,Southampton,yes,True\\r\\n0,1,male,70.0,1,1,71.0,S,First,man,True,B,Southampton,no,False\\r\\n0,3,male,16.0,1,1,20.25,S,Third,man,True,,Southampton,no,False\\r\\n1,2,female,30.0,0,0,13.0,S,Second,woman,False,,Southampton,yes,True\\r\\n0,1,male,19.0,1,0,53.1,S,First,man,True,D,Southampton,no,False\\r\\n0,3,male,31.0,0,0,7.75,Q,Third,man,True,,Queenstown,no,True\\r\\n1,2,female,4.0,1,1,23.0,S,Second,child,False,,Southampton,yes,False\\r\\n1,3,male,6.0,0,1,12.475,S,Third,child,False,E,Southampton,yes,False\\r\\n0,3,male,33.0,0,0,9.5,S,Third,man,True,,Southampton,no,True\\r\\n0,3,male,23.0,0,0,7.8958,S,Third,man,True,,Southampton,no,True\\r\\n1,2,female,48.0,1,2,65.0,S,Second,woman,False,,Southampton,yes,False\\r\\n1,2,male,0.67,1,1,14.5,S,Second,child,False,,Southampton,yes,False\\r\\n0,3,male,28.0,0,0,7.7958,S,Third,man,True,,Southampton,no,True\\r\\n0,2,male,18.0,0,0,11.5,S,Second,man,True,,Southampton,no,True\\r\\n0,3,male,34.0,0,0,8.05,S,Third,man,True,,Southampton,no,True\\r\\n1,1,female,33.0,0,0,86.5,S,First,woman,False,B,Southampton,yes,True\\r\\n0,3,male,,0,0,14.5,S,Third,man,True,,Southampton,no,True\\r\\n0,3,male,41.0,0,0,7.125,S,Third,man,True,,Southampton,no,True\\r\\n1,3,male,20.0,0,0,7.2292,C,Third,man,True,,Cherbourg,yes,True\\r\\n1,1,female,36.0,1,2,120.0,S,First,woman,False,B,Southampton,yes,False\\r\\n0,3,male,16.0,0,0,7.775,S,Third,man,True,,Southampton,no,True\\r\\n1,1,female,51.0,1,0,77.9583,S,First,woman,False,D,Southampton,yes,False\\r\\n0,1,male,,0,0,39.6,C,First,man,True,,Cherbourg,no,True\\r\\n0,3,female,30.5,0,0,7.75,Q,Third,woman,False,,Queenstown,no,True\\r\\n0,3,male,,1,0,24.15,Q,Third,man,True,,Queenstown,no,False\\r\\n0,3,male,32.0,0,0,8.3625,S,Third,man,True,,Southampton,no,True\\r\\n0,3,male,24.0,0,0,9.5,S,Third,man,True,,Southampton,no,True\\r\\n0,3,male,48.0,0,0,7.8542,S,Third,man,True,,Southampton,no,True\\r\\n0,2,female,57.0,0,0,10.5,S,Second,woman,False,E,Southampton,no,True\\r\\n0,3,male,,0,0,7.225,C,Third,man,True,,Cherbourg,no,True\\r\\n1,2,female,54.0,1,3,23.0,S,Second,woman,False,,Southampton,yes,False\\r\\n0,3,male,18.0,0,0,7.75,S,Third,man,True,,Southampton,no,True\\r\\n0,3,male,,0,0,7.75,Q,Third,man,True,F,Queenstown,no,True\\r\\n1,3,female,5.0,0,0,12.475,S,Third,child,False,,Southampton,yes,True\\r\\n0,3,male,,0,0,7.7375,Q,Third,man,True,,Queenstown,no,True\\r\\n1,1,female,43.0,0,1,211.3375,S,First,woman,False,B,Southampton,yes,False\\r\\n1,3,female,13.0,0,0,7.2292,C,Third,child,False,,Cherbourg,yes,True\\r\\n1,1,female,17.0,1,0,57.0,S,First,woman,False,B,Southampton,yes,False\\r\\n0,1,male,29.0,0,0,30.0,S,First,man,True,D,Southampton,no,True\\r\\n0,3,male,,1,2,23.45,S,Third,man,True,,Southampton,no,False\\r\\n0,3,male,25.0,0,0,7.05,S,Third,man,True,,Southampton,no,True\\r\\n0,3,male,25.0,0,0,7.25,S,Third,man,True,,Southampton,no,True\\r\\n1,3,female,18.0,0,0,7.4958,S,Third,woman,False,,Southampton,yes,True\\r\\n0,3,male,8.0,4,1,29.125,Q,Third,child,False,,Queenstown,no,False\\r\\n1,3,male,1.0,1,2,20.575,S,Third,child,False,,Southampton,yes,False\\r\\n0,1,male,46.0,0,0,79.2,C,First,man,True,B,Cherbourg,no,True\\r\\n0,3,male,,0,0,7.75,Q,Third,man,True,,Queenstown,no,True\\r\\n0,2,male,16.0,0,0,26.0,S,Second,man,True,,Southampton,no,True\\r\\n0,3,female,,8,2,69.55,S,Third,woman,False,,Southampton,no,False\\r\\n0,1,male,,0,0,30.6958,C,First,man,True,,Cherbourg,no,True\\r\\n0,3,male,25.0,0,0,7.8958,S,Third,man,True,,Southampton,no,True\\r\\n0,2,male,39.0,0,0,13.0,S,Second,man,True,,Southampton,no,True\\r\\n1,1,female,49.0,0,0,25.9292,S,First,woman,False,D,Southampton,yes,True\\r\\n1,3,female,31.0,0,0,8.6833,S,Third,woman,False,,Southampton,yes,True\\r\\n0,3,male,30.0,0,0,7.2292,C,Third,man,True,,Cherbourg,no,True\\r\\n0,3,female,30.0,1,1,24.15,S,Third,woman,False,,Southampton,no,False\\r\\n0,2,male,34.0,0,0,13.0,S,Second,man,True,,Southampton,no,True\\r\\n1,2,female,31.0,1,1,26.25,S,Second,woman,False,,Southampton,yes,False\\r\\n1,1,male,11.0,1,2,120.0,S,First,child,False,B,Southampton,yes,False\\r\\n1,3,male,0.42,0,1,8.5167,C,Third,child,False,,Cherbourg,yes,False\\r\\n1,3,male,27.0,0,0,6.975,S,Third,man,True,,Southampton,yes,True\\r\\n0,3,male,31.0,0,0,7.775,S,Third,man,True,,Southampton,no,True\\r\\n0,1,male,39.0,0,0,0.0,S,First,man,True,A,Southampton,no,True\\r\\n0,3,female,18.0,0,0,7.775,S,Third,woman,False,,Southampton,no,True\\r\\n0,2,male,39.0,0,0,13.0,S,Second,man,True,,Southampton,no,True\\r\\n1,1,female,33.0,1,0,53.1,S,First,woman,False,E,Southampton,yes,False\\r\\n0,3,male,26.0,0,0,7.8875,S,Third,man,True,,Southampton,no,True\\r\\n0,3,male,39.0,0,0,24.15,S,Third,man,True,,Southampton,no,True\\r\\n0,2,male,35.0,0,0,10.5,S,Second,man,True,,Southampton,no,True\\r\\n0,3,female,6.0,4,2,31.275,S,Third,child,False,,Southampton,no,False\\r\\n0,3,male,30.5,0,0,8.05,S,Third,man,True,,Southampton,no,True\\r\\n0,1,male,,0,0,0.0,S,First,man,True,B,Southampton,no,True\\r\\n0,3,female,23.0,0,0,7.925,S,Third,woman,False,,Southampton,no,True\\r\\n0,2,male,31.0,1,1,37.0042,C,Second,man,True,,Cherbourg,no,False\\r\\n0,3,male,43.0,0,0,6.45,S,Third,man,True,,Southampton,no,True\\r\\n0,3,male,10.0,3,2,27.9,S,Third,child,False,,Southampton,no,False\\r\\n1,1,female,52.0,1,1,93.5,S,First,woman,False,B,Southampton,yes,False\\r\\n1,3,male,27.0,0,0,8.6625,S,Third,man,True,,Southampton,yes,True\\r\\n0,1,male,38.0,0,0,0.0,S,First,man,True,,Southampton,no,True\\r\\n1,3,female,27.0,0,1,12.475,S,Third,woman,False,E,Southampton,yes,False\\r\\n0,3,male,2.0,4,1,39.6875,S,Third,child,False,,Southampton,no,False\\r\\n0,3,male,,0,0,6.95,Q,Third,man,True,,Queenstown,no,True\\r\\n0,3,male,,0,0,56.4958,S,Third,man,True,,Southampton,no,True\\r\\n1,2,male,1.0,0,2,37.0042,C,Second,child,False,,Cherbourg,yes,False\\r\\n1,3,male,,0,0,7.75,Q,Third,man,True,,Queenstown,yes,True\\r\\n1,1,female,62.0,0,0,80.0,,First,woman,False,B,,yes,True\\r\\n1,3,female,15.0,1,0,14.4542,C,Third,child,False,,Cherbourg,yes,False\\r\\n1,2,male,0.83,1,1,18.75,S,Second,child,False,,Southampton,yes,False\\r\\n0,3,male,,0,0,7.2292,C,Third,man,True,,Cherbourg,no,True\\r\\n0,3,male,23.0,0,0,7.8542,S,Third,man,True,,Southampton,no,True\\r\\n0,3,male,18.0,0,0,8.3,S,Third,man,True,,Southampton,no,True\\r\\n1,1,female,39.0,1,1,83.1583,C,First,woman,False,E,Cherbourg,yes,False\\r\\n0,3,male,21.0,0,0,8.6625,S,Third,man,True,,Southampton,no,True\\r\\n0,3,male,,0,0,8.05,S,Third,man,True,,Southampton,no,True\\r\\n1,3,male,32.0,0,0,56.4958,S,Third,man,True,,Southampton,yes,True\\r\\n1,1,male,,0,0,29.7,C,First,man,True,C,Cherbourg,yes,True\\r\\n0,3,male,20.0,0,0,7.925,S,Third,man,True,,Southampton,no,True\\r\\n0,2,male,16.0,0,0,10.5,S,Second,man,True,,Southampton,no,True\\r\\n1,1,female,30.0,0,0,31.0,C,First,woman,False,,Cherbourg,yes,True\\r\\n0,3,male,34.5,0,0,6.4375,C,Third,man,True,,Cherbourg,no,True\\r\\n0,3,male,17.0,0,0,8.6625,S,Third,man,True,,Southampton,no,True\\r\\n0,3,male,42.0,0,0,7.55,S,Third,man,True,,Southampton,no,True\\r\\n0,3,male,,8,2,69.55,S,Third,man,True,,Southampton,no,False\\r\\n0,3,male,35.0,0,0,7.8958,C,Third,man,True,,Cherbourg,no,True\\r\\n0,2,male,28.0,0,1,33.0,S,Second,man,True,,Southampton,no,False\\r\\n1,1,female,,1,0,89.1042,C,First,woman,False,C,Cherbourg,yes,False\\r\\n0,3,male,4.0,4,2,31.275,S,Third,child,False,,Southampton,no,False\\r\\n0,3,male,74.0,0,0,7.775,S,Third,man,True,,Southampton,no,True\\r\\n0,3,female,9.0,1,1,15.2458,C,Third,child,False,,Cherbourg,no,False\\r\\n1,1,female,16.0,0,1,39.4,S,First,woman,False,D,Southampton,yes,False\\r\\n0,2,female,44.0,1,0,26.0,S,Second,woman,False,,Southampton,no,False\\r\\n1,3,female,18.0,0,1,9.35,S,Third,woman,False,,Southampton,yes,False\\r\\n1,1,female,45.0,1,1,164.8667,S,First,woman,False,,Southampton,yes,False\\r\\n1,1,male,51.0,0,0,26.55,S,First,man,True,E,Southampton,yes,True\\r\\n1,3,female,24.0,0,3,19.2583,C,Third,woman,False,,Cherbourg,yes,False\\r\\n0,3,male,,0,0,7.2292,C,Third,man,True,,Cherbourg,no,True\\r\\n0,3,male,41.0,2,0,14.1083,S,Third,man,True,,Southampton,no,False\\r\\n0,2,male,21.0,1,0,11.5,S,Second,man,True,,Southampton,no,False\\r\\n1,1,female,48.0,0,0,25.9292,S,First,woman,False,D,Southampton,yes,True\\r\\n0,3,female,,8,2,69.55,S,Third,woman,False,,Southampton,no,False\\r\\n0,2,male,24.0,0,0,13.0,S,Second,man,True,,Southampton,no,True\\r\\n1,2,female,42.0,0,0,13.0,S,Second,woman,False,,Southampton,yes,True\\r\\n1,2,female,27.0,1,0,13.8583,C,Second,woman,False,,Cherbourg,yes,False\\r\\n0,1,male,31.0,0,0,50.4958,S,First,man,True,A,Southampton,no,True\\r\\n0,3,male,,0,0,9.5,S,Third,man,True,,Southampton,no,True\\r\\n1,3,male,4.0,1,1,11.1333,S,Third,child,False,,Southampton,yes,False\\r\\n0,3,male,26.0,0,0,7.8958,S,Third,man,True,,Southampton,no,True\\r\\n1,1,female,47.0,1,1,52.5542,S,First,woman,False,D,Southampton,yes,False\\r\\n0,1,male,33.0,0,0,5.0,S,First,man,True,B,Southampton,no,True\\r\\n0,3,male,47.0,0,0,9.0,S,Third,man,True,,Southampton,no,True\\r\\n1,2,female,28.0,1,0,24.0,C,Second,woman,False,,Cherbourg,yes,False\\r\\n1,3,female,15.0,0,0,7.225,C,Third,child,False,,Cherbourg,yes,True\\r\\n0,3,male,20.0,0,0,9.8458,S,Third,man,True,,Southampton,no,True\\r\\n0,3,male,19.0,0,0,7.8958,S,Third,man,True,,Southampton,no,True\\r\\n0,3,male,,0,0,7.8958,S,Third,man,True,,Southampton,no,True\\r\\n1,1,female,56.0,0,1,83.1583,C,First,woman,False,C,Cherbourg,yes,False\\r\\n1,2,female,25.0,0,1,26.0,S,Second,woman,False,,Southampton,yes,False\\r\\n0,3,male,33.0,0,0,7.8958,S,Third,man,True,,Southampton,no,True\\r\\n0,3,female,22.0,0,0,10.5167,S,Third,woman,False,,Southampton,no,True\\r\\n0,2,male,28.0,0,0,10.5,S,Second,man,True,,Southampton,no,True\\r\\n0,3,male,25.0,0,0,7.05,S,Third,man,True,,Southampton,no,True\\r\\n0,3,female,39.0,0,5,29.125,Q,Third,woman,False,,Queenstown,no,False\\r\\n0,2,male,27.0,0,0,13.0,S,Second,man,True,,Southampton,no,True\\r\\n1,1,female,19.0,0,0,30.0,S,First,woman,False,B,Southampton,yes,True\\r\\n0,3,female,,1,2,23.45,S,Third,woman,False,,Southampton,no,False\\r\\n1,1,male,26.0,0,0,30.0,C,First,man,True,C,Cherbourg,yes,True\\r\\n0,3,male,32.0,0,0,7.75,Q,Third,man,True,,Queenstown,no,True\\r\\n'"
      ]
     },
     "execution_count": 6,
     "metadata": {},
     "output_type": "execute_result"
    }
   ],
   "source": [
    "# to create the CSV file of dataset with name titanic_data.csv\n",
    "titanic_df.to_csv('titanic_data.csv' , index=False)\n",
    "titanic_df.to_csv(index=False)"
   ]
  },
  {
   "cell_type": "code",
   "execution_count": 7,
   "id": "56cd5bb2",
   "metadata": {},
   "outputs": [
    {
     "name": "stdout",
     "output_type": "stream",
     "text": [
      "<class 'pandas.core.frame.DataFrame'>\n",
      "RangeIndex: 891 entries, 0 to 890\n",
      "Data columns (total 15 columns):\n",
      " #   Column       Non-Null Count  Dtype   \n",
      "---  ------       --------------  -----   \n",
      " 0   survived     891 non-null    int64   \n",
      " 1   pclass       891 non-null    int64   \n",
      " 2   sex          891 non-null    object  \n",
      " 3   age          714 non-null    float64 \n",
      " 4   sibsp        891 non-null    int64   \n",
      " 5   parch        891 non-null    int64   \n",
      " 6   fare         891 non-null    float64 \n",
      " 7   embarked     889 non-null    object  \n",
      " 8   class        891 non-null    category\n",
      " 9   who          891 non-null    object  \n",
      " 10  adult_male   891 non-null    bool    \n",
      " 11  deck         203 non-null    category\n",
      " 12  embark_town  889 non-null    object  \n",
      " 13  alive        891 non-null    object  \n",
      " 14  alone        891 non-null    bool    \n",
      "dtypes: bool(2), category(2), float64(2), int64(4), object(5)\n",
      "memory usage: 80.7+ KB\n"
     ]
    }
   ],
   "source": [
    "titanic_df.info()"
   ]
  },
  {
   "cell_type": "markdown",
   "id": "ef5400a7",
   "metadata": {},
   "source": [
    "## conclusion from .info   = \n",
    "1. total 15 columns.\n",
    "2. Age,embarked,deck,embark_town - these have missing values."
   ]
  },
  {
   "cell_type": "code",
   "execution_count": 8,
   "id": "6bec9794",
   "metadata": {},
   "outputs": [
    {
     "data": {
      "text/html": [
       "<div>\n",
       "<style scoped>\n",
       "    .dataframe tbody tr th:only-of-type {\n",
       "        vertical-align: middle;\n",
       "    }\n",
       "\n",
       "    .dataframe tbody tr th {\n",
       "        vertical-align: top;\n",
       "    }\n",
       "\n",
       "    .dataframe thead th {\n",
       "        text-align: right;\n",
       "    }\n",
       "</style>\n",
       "<table border=\"1\" class=\"dataframe\">\n",
       "  <thead>\n",
       "    <tr style=\"text-align: right;\">\n",
       "      <th></th>\n",
       "      <th>survived</th>\n",
       "      <th>pclass</th>\n",
       "      <th>sex</th>\n",
       "      <th>age</th>\n",
       "      <th>sibsp</th>\n",
       "      <th>parch</th>\n",
       "      <th>fare</th>\n",
       "      <th>embarked</th>\n",
       "      <th>class</th>\n",
       "      <th>who</th>\n",
       "      <th>adult_male</th>\n",
       "      <th>deck</th>\n",
       "      <th>embark_town</th>\n",
       "      <th>alive</th>\n",
       "      <th>alone</th>\n",
       "    </tr>\n",
       "  </thead>\n",
       "  <tbody>\n",
       "    <tr>\n",
       "      <th>0</th>\n",
       "      <td>0</td>\n",
       "      <td>3</td>\n",
       "      <td>male</td>\n",
       "      <td>22.0</td>\n",
       "      <td>1</td>\n",
       "      <td>0</td>\n",
       "      <td>7.2500</td>\n",
       "      <td>S</td>\n",
       "      <td>Third</td>\n",
       "      <td>man</td>\n",
       "      <td>True</td>\n",
       "      <td>NaN</td>\n",
       "      <td>Southampton</td>\n",
       "      <td>no</td>\n",
       "      <td>False</td>\n",
       "    </tr>\n",
       "    <tr>\n",
       "      <th>1</th>\n",
       "      <td>1</td>\n",
       "      <td>1</td>\n",
       "      <td>female</td>\n",
       "      <td>38.0</td>\n",
       "      <td>1</td>\n",
       "      <td>0</td>\n",
       "      <td>71.2833</td>\n",
       "      <td>C</td>\n",
       "      <td>First</td>\n",
       "      <td>woman</td>\n",
       "      <td>False</td>\n",
       "      <td>C</td>\n",
       "      <td>Cherbourg</td>\n",
       "      <td>yes</td>\n",
       "      <td>False</td>\n",
       "    </tr>\n",
       "    <tr>\n",
       "      <th>2</th>\n",
       "      <td>1</td>\n",
       "      <td>3</td>\n",
       "      <td>female</td>\n",
       "      <td>26.0</td>\n",
       "      <td>0</td>\n",
       "      <td>0</td>\n",
       "      <td>7.9250</td>\n",
       "      <td>S</td>\n",
       "      <td>Third</td>\n",
       "      <td>woman</td>\n",
       "      <td>False</td>\n",
       "      <td>NaN</td>\n",
       "      <td>Southampton</td>\n",
       "      <td>yes</td>\n",
       "      <td>True</td>\n",
       "    </tr>\n",
       "    <tr>\n",
       "      <th>3</th>\n",
       "      <td>1</td>\n",
       "      <td>1</td>\n",
       "      <td>female</td>\n",
       "      <td>35.0</td>\n",
       "      <td>1</td>\n",
       "      <td>0</td>\n",
       "      <td>53.1000</td>\n",
       "      <td>S</td>\n",
       "      <td>First</td>\n",
       "      <td>woman</td>\n",
       "      <td>False</td>\n",
       "      <td>C</td>\n",
       "      <td>Southampton</td>\n",
       "      <td>yes</td>\n",
       "      <td>False</td>\n",
       "    </tr>\n",
       "    <tr>\n",
       "      <th>4</th>\n",
       "      <td>0</td>\n",
       "      <td>3</td>\n",
       "      <td>male</td>\n",
       "      <td>35.0</td>\n",
       "      <td>0</td>\n",
       "      <td>0</td>\n",
       "      <td>8.0500</td>\n",
       "      <td>S</td>\n",
       "      <td>Third</td>\n",
       "      <td>man</td>\n",
       "      <td>True</td>\n",
       "      <td>NaN</td>\n",
       "      <td>Southampton</td>\n",
       "      <td>no</td>\n",
       "      <td>True</td>\n",
       "    </tr>\n",
       "    <tr>\n",
       "      <th>5</th>\n",
       "      <td>0</td>\n",
       "      <td>3</td>\n",
       "      <td>male</td>\n",
       "      <td>NaN</td>\n",
       "      <td>0</td>\n",
       "      <td>0</td>\n",
       "      <td>8.4583</td>\n",
       "      <td>Q</td>\n",
       "      <td>Third</td>\n",
       "      <td>man</td>\n",
       "      <td>True</td>\n",
       "      <td>NaN</td>\n",
       "      <td>Queenstown</td>\n",
       "      <td>no</td>\n",
       "      <td>True</td>\n",
       "    </tr>\n",
       "    <tr>\n",
       "      <th>6</th>\n",
       "      <td>0</td>\n",
       "      <td>1</td>\n",
       "      <td>male</td>\n",
       "      <td>54.0</td>\n",
       "      <td>0</td>\n",
       "      <td>0</td>\n",
       "      <td>51.8625</td>\n",
       "      <td>S</td>\n",
       "      <td>First</td>\n",
       "      <td>man</td>\n",
       "      <td>True</td>\n",
       "      <td>E</td>\n",
       "      <td>Southampton</td>\n",
       "      <td>no</td>\n",
       "      <td>True</td>\n",
       "    </tr>\n",
       "    <tr>\n",
       "      <th>7</th>\n",
       "      <td>0</td>\n",
       "      <td>3</td>\n",
       "      <td>male</td>\n",
       "      <td>2.0</td>\n",
       "      <td>3</td>\n",
       "      <td>1</td>\n",
       "      <td>21.0750</td>\n",
       "      <td>S</td>\n",
       "      <td>Third</td>\n",
       "      <td>child</td>\n",
       "      <td>False</td>\n",
       "      <td>NaN</td>\n",
       "      <td>Southampton</td>\n",
       "      <td>no</td>\n",
       "      <td>False</td>\n",
       "    </tr>\n",
       "    <tr>\n",
       "      <th>8</th>\n",
       "      <td>1</td>\n",
       "      <td>3</td>\n",
       "      <td>female</td>\n",
       "      <td>27.0</td>\n",
       "      <td>0</td>\n",
       "      <td>2</td>\n",
       "      <td>11.1333</td>\n",
       "      <td>S</td>\n",
       "      <td>Third</td>\n",
       "      <td>woman</td>\n",
       "      <td>False</td>\n",
       "      <td>NaN</td>\n",
       "      <td>Southampton</td>\n",
       "      <td>yes</td>\n",
       "      <td>False</td>\n",
       "    </tr>\n",
       "    <tr>\n",
       "      <th>9</th>\n",
       "      <td>1</td>\n",
       "      <td>2</td>\n",
       "      <td>female</td>\n",
       "      <td>14.0</td>\n",
       "      <td>1</td>\n",
       "      <td>0</td>\n",
       "      <td>30.0708</td>\n",
       "      <td>C</td>\n",
       "      <td>Second</td>\n",
       "      <td>child</td>\n",
       "      <td>False</td>\n",
       "      <td>NaN</td>\n",
       "      <td>Cherbourg</td>\n",
       "      <td>yes</td>\n",
       "      <td>False</td>\n",
       "    </tr>\n",
       "  </tbody>\n",
       "</table>\n",
       "</div>"
      ],
      "text/plain": [
       "   survived  pclass     sex   age  sibsp  parch     fare embarked   class  \\\n",
       "0         0       3    male  22.0      1      0   7.2500        S   Third   \n",
       "1         1       1  female  38.0      1      0  71.2833        C   First   \n",
       "2         1       3  female  26.0      0      0   7.9250        S   Third   \n",
       "3         1       1  female  35.0      1      0  53.1000        S   First   \n",
       "4         0       3    male  35.0      0      0   8.0500        S   Third   \n",
       "5         0       3    male   NaN      0      0   8.4583        Q   Third   \n",
       "6         0       1    male  54.0      0      0  51.8625        S   First   \n",
       "7         0       3    male   2.0      3      1  21.0750        S   Third   \n",
       "8         1       3  female  27.0      0      2  11.1333        S   Third   \n",
       "9         1       2  female  14.0      1      0  30.0708        C  Second   \n",
       "\n",
       "     who  adult_male deck  embark_town alive  alone  \n",
       "0    man        True  NaN  Southampton    no  False  \n",
       "1  woman       False    C    Cherbourg   yes  False  \n",
       "2  woman       False  NaN  Southampton   yes   True  \n",
       "3  woman       False    C  Southampton   yes  False  \n",
       "4    man        True  NaN  Southampton    no   True  \n",
       "5    man        True  NaN   Queenstown    no   True  \n",
       "6    man        True    E  Southampton    no   True  \n",
       "7  child       False  NaN  Southampton    no  False  \n",
       "8  woman       False  NaN  Southampton   yes  False  \n",
       "9  child       False  NaN    Cherbourg   yes  False  "
      ]
     },
     "execution_count": 8,
     "metadata": {},
     "output_type": "execute_result"
    }
   ],
   "source": [
    "titanic_df.head(10)"
   ]
  },
  {
   "cell_type": "markdown",
   "id": "740397dc",
   "metadata": {},
   "source": [
    "# 2. Analysing Data - Create different plots to check relationship bw variables."
   ]
  },
  {
   "cell_type": "raw",
   "id": "907f6a91",
   "metadata": {},
   "source": [
    "seems like deck column is not needed so removing it bcoz it has too many empty values as well."
   ]
  },
  {
   "cell_type": "code",
   "execution_count": 9,
   "id": "5da89f31",
   "metadata": {},
   "outputs": [],
   "source": [
    "titanic_df.drop(columns='deck',inplace=True)"
   ]
  },
  {
   "cell_type": "code",
   "execution_count": 10,
   "id": "8f3da0a9",
   "metadata": {},
   "outputs": [
    {
     "data": {
      "text/plain": [
       "891"
      ]
     },
     "execution_count": 10,
     "metadata": {},
     "output_type": "execute_result"
    }
   ],
   "source": [
    "len(titanic_df)"
   ]
  },
  {
   "cell_type": "code",
   "execution_count": 11,
   "id": "837cf65c",
   "metadata": {},
   "outputs": [
    {
     "data": {
      "text/plain": [
       "survived\n",
       "0    549\n",
       "1    342\n",
       "dtype: int64"
      ]
     },
     "execution_count": 11,
     "metadata": {},
     "output_type": "execute_result"
    }
   ],
   "source": [
    "titanic_df.value_counts('survived')\n",
    "# so 549 people died and 342 peple were alive."
   ]
  },
  {
   "cell_type": "code",
   "execution_count": 12,
   "id": "b8d9b064",
   "metadata": {},
   "outputs": [
    {
     "data": {
      "text/plain": [
       "<AxesSubplot:xlabel='survived', ylabel='count'>"
      ]
     },
     "execution_count": 12,
     "metadata": {},
     "output_type": "execute_result"
    },
    {
     "data": {
      "image/png": "[encoded data removed]",
      "text/plain": [
       "<Figure size 432x288 with 1 Axes>"
      ]
     },
     "metadata": {
      "needs_background": "light"
     },
     "output_type": "display_data"
    }
   ],
   "source": [
    "sns.countplot(x='survived',data=titanic_df,hue='who')\n",
    "# x=None,\n",
    "#     y=None,\n",
    "#     hue=None,\n",
    "#     data=None,\n",
    "#     order=None,\n",
    "#     hue_order=None,\n",
    "#     orient=None,\n",
    "#     color=None,\n",
    "#     palette=None,\n",
    "#     saturation=0.75,\n",
    "#     dodge=True,"
   ]
  },
  {
   "cell_type": "code",
   "execution_count": 13,
   "id": "74a90923",
   "metadata": {},
   "outputs": [
    {
     "data": {
      "text/plain": [
       "<AxesSubplot:xlabel='survived', ylabel='count'>"
      ]
     },
     "execution_count": 13,
     "metadata": {},
     "output_type": "execute_result"
    },
    {
     "data": {
      "image/png": "[encoded data removed]",
      "text/plain": [
       "<Figure size 432x288 with 1 Axes>"
      ]
     },
     "metadata": {
      "needs_background": "light"
     },
     "output_type": "display_data"
    }
   ],
   "source": [
    "sns.countplot(x='survived',data=titanic_df,hue='who', palette=\"Set3\",linewidth=5,edgecolor=sns.color_palette(\"dark\", 3))\n",
    "\n",
    "#     order=None,\n",
    "#     hue_order=None,\n",
    "#     orient=None,\n",
    "#     color=None,\n",
    "#     palette=None,\n",
    "#     saturation=0.75,\n",
    "#     dodge=True,"
   ]
  },
  {
   "cell_type": "code",
   "execution_count": 14,
   "id": "17b37bd4",
   "metadata": {},
   "outputs": [
    {
     "data": {
      "text/plain": [
       "<AxesSubplot:xlabel='survived', ylabel='count'>"
      ]
     },
     "execution_count": 14,
     "metadata": {},
     "output_type": "execute_result"
    },
    {
     "data": {
      "image/png": "[encoded data removed]",
      "text/plain": [
       "<Figure size 432x288 with 1 Axes>"
      ]
     },
     "metadata": {
      "needs_background": "light"
     },
     "output_type": "display_data"
    }
   ],
   "source": [
    "sns.countplot(x='survived',data=titanic_df,hue='who',linewidth=2,edgecolor=sns.color_palette(\"dark\", 3) )"
   ]
  },
  {
   "cell_type": "code",
   "execution_count": 15,
   "id": "054ead53",
   "metadata": {},
   "outputs": [
    {
     "data": {
      "text/plain": [
       "<AxesSubplot:xlabel='pclass', ylabel='count'>"
      ]
     },
     "execution_count": 15,
     "metadata": {},
     "output_type": "execute_result"
    },
    {
     "data": {
      "image/png": "[encoded data removed]",
      "text/plain": [
       "<Figure size 432x288 with 1 Axes>"
      ]
     },
     "metadata": {
      "needs_background": "light"
     },
     "output_type": "display_data"
    }
   ],
   "source": [
    "sns.countplot(x='pclass',data=titanic_df,hue='who', palette=\"Set3\",linewidth=5,edgecolor=sns.color_palette(\"dark\", 3))"
   ]
  },
  {
   "cell_type": "code",
   "execution_count": 16,
   "id": "c2241bd6",
   "metadata": {},
   "outputs": [
    {
     "data": {
      "text/plain": [
       "3    491\n",
       "1    216\n",
       "2    184\n",
       "Name: pclass, dtype: int64"
      ]
     },
     "execution_count": 16,
     "metadata": {},
     "output_type": "execute_result"
    }
   ],
   "source": [
    "titanic_df['pclass'].value_counts()"
   ]
  },
  {
   "cell_type": "code",
   "execution_count": 17,
   "id": "2c5f9d03",
   "metadata": {},
   "outputs": [
    {
     "data": {
      "text/plain": [
       "<AxesSubplot:xlabel='survived', ylabel='who'>"
      ]
     },
     "execution_count": 17,
     "metadata": {},
     "output_type": "execute_result"
    },
    {
     "data": {
      "image/png": "[encoded data removed]",
      "text/plain": [
       "<Figure size 432x288 with 1 Axes>"
      ]
     },
     "metadata": {
      "needs_background": "light"
     },
     "output_type": "display_data"
    }
   ],
   "source": [
    "sns.scatterplot(x='survived',y='who', data=titanic_df)"
   ]
  },
  {
   "cell_type": "code",
   "execution_count": 18,
   "id": "726e7bda",
   "metadata": {},
   "outputs": [
    {
     "data": {
      "text/plain": [
       "male      577\n",
       "female    314\n",
       "Name: sex, dtype: int64"
      ]
     },
     "execution_count": 18,
     "metadata": {},
     "output_type": "execute_result"
    }
   ],
   "source": [
    "titanic_df['sex'].value_counts()"
   ]
  },
  {
   "cell_type": "code",
   "execution_count": 19,
   "id": "2fec295e",
   "metadata": {},
   "outputs": [
    {
     "data": {
      "text/plain": [
       "[0.83,\n",
       " 2.0,\n",
       " 3.0,\n",
       " 4.0,\n",
       " 5.0,\n",
       " 7.0,\n",
       " 8.0,\n",
       " 11.0,\n",
       " 14.0,\n",
       " 15.0,\n",
       " 16.0,\n",
       " 17.0,\n",
       " 18.0,\n",
       " 19.0,\n",
       " 20.0,\n",
       " 21.0,\n",
       " 22.0,\n",
       " 23.0,\n",
       " 24.0,\n",
       " 25.0,\n",
       " 26.0,\n",
       " 27.0,\n",
       " 28.0,\n",
       " 28.5,\n",
       " 29.0,\n",
       " 30.0,\n",
       " 31.0,\n",
       " 32.0,\n",
       " 33.0,\n",
       " 34.0,\n",
       " 35.0,\n",
       " 38.0,\n",
       " nan,\n",
       " 0.42,\n",
       " 0.67,\n",
       " 0.75,\n",
       " 0.92,\n",
       " 1.0,\n",
       " 6.0,\n",
       " 9.0,\n",
       " 10.0,\n",
       " 12.0,\n",
       " 13.0,\n",
       " 14.5,\n",
       " 20.5,\n",
       " 23.5,\n",
       " 24.5,\n",
       " 30.5,\n",
       " 32.5,\n",
       " 34.5,\n",
       " 36.0,\n",
       " 36.5,\n",
       " 37.0,\n",
       " 39.0,\n",
       " 40.0,\n",
       " 40.5,\n",
       " 41.0,\n",
       " 42.0,\n",
       " 43.0,\n",
       " 44.0,\n",
       " 45.0,\n",
       " 45.5,\n",
       " 46.0,\n",
       " 47.0,\n",
       " 48.0,\n",
       " 49.0,\n",
       " 50.0,\n",
       " 51.0,\n",
       " 52.0,\n",
       " 53.0,\n",
       " 54.0,\n",
       " 55.0,\n",
       " 55.5,\n",
       " 56.0,\n",
       " 57.0,\n",
       " 58.0,\n",
       " 59.0,\n",
       " 60.0,\n",
       " 61.0,\n",
       " 62.0,\n",
       " 63.0,\n",
       " 64.0,\n",
       " 65.0,\n",
       " 66.0,\n",
       " 70.0,\n",
       " 70.5,\n",
       " 71.0,\n",
       " 74.0,\n",
       " 80.0]"
      ]
     },
     "execution_count": 19,
     "metadata": {},
     "output_type": "execute_result"
    }
   ],
   "source": [
    "sorted(titanic_df['age'].unique())"
   ]
  },
  {
   "cell_type": "code",
   "execution_count": 20,
   "id": "ba28378c",
   "metadata": {},
   "outputs": [
    {
     "data": {
      "text/plain": [
       "<AxesSubplot:>"
      ]
     },
     "execution_count": 20,
     "metadata": {},
     "output_type": "execute_result"
    },
    {
     "data": {
      "image/png": "[encoded data removed]",
      "text/plain": [
       "<Figure size 432x288 with 1 Axes>"
      ]
     },
     "metadata": {
      "needs_background": "light"
     },
     "output_type": "display_data"
    }
   ],
   "source": [
    "titanic_df['age'].plot(kind='box')"
   ]
  },
  {
   "cell_type": "code",
   "execution_count": 21,
   "id": "85674092",
   "metadata": {},
   "outputs": [
    {
     "data": {
      "text/plain": [
       "<AxesSubplot:xlabel='age', ylabel='survived'>"
      ]
     },
     "execution_count": 21,
     "metadata": {},
     "output_type": "execute_result"
    },
    {
     "data": {
      "image/png": "[encoded data removed]",
      "text/plain": [
       "<Figure size 432x288 with 1 Axes>"
      ]
     },
     "metadata": {
      "needs_background": "light"
     },
     "output_type": "display_data"
    }
   ],
   "source": [
    "sns.barplot('age','survived',data=titanic_df)"
   ]
  },
  {
   "cell_type": "code",
   "execution_count": 22,
   "id": "91162d85",
   "metadata": {
    "scrolled": true
   },
   "outputs": [
    {
     "data": {
      "text/plain": [
       "<AxesSubplot:title={'center':'Age chart'}>"
      ]
     },
     "execution_count": 22,
     "metadata": {},
     "output_type": "execute_result"
    },
    {
     "data": {
      "image/png": "[encoded data removed]",
      "text/plain": [
       "<Figure size 432x288 with 1 Axes>"
      ]
     },
     "metadata": {
      "needs_background": "light"
     },
     "output_type": "display_data"
    }
   ],
   "source": [
    "titanic_df['age'].plot(kind='bar',use_index=True,title='Age chart')"
   ]
  },
  {
   "cell_type": "code",
   "execution_count": 23,
   "id": "85257014",
   "metadata": {},
   "outputs": [
    {
     "data": {
      "text/plain": [
       "<AxesSubplot:title={'center':'Age chart'}, ylabel='Frequency'>"
      ]
     },
     "execution_count": 23,
     "metadata": {},
     "output_type": "execute_result"
    },
    {
     "data": {
      "image/png": "[encoded data removed]",
      "text/plain": [
       "<Figure size 432x288 with 1 Axes>"
      ]
     },
     "metadata": {
      "needs_background": "light"
     },
     "output_type": "display_data"
    }
   ],
   "source": [
    "titanic_df['age'].plot(kind='hist',use_index=True,title='Age chart',rot=45)"
   ]
  },
  {
   "cell_type": "code",
   "execution_count": 24,
   "id": "4950fe63",
   "metadata": {},
   "outputs": [
    {
     "data": {
      "text/plain": [
       "<AxesSubplot:xlabel='age', ylabel='count'>"
      ]
     },
     "execution_count": 24,
     "metadata": {},
     "output_type": "execute_result"
    },
    {
     "data": {
      "image/png": "[encoded data removed]",
      "text/plain": [
       "<Figure size 432x288 with 1 Axes>"
      ]
     },
     "metadata": {
      "needs_background": "light"
     },
     "output_type": "display_data"
    }
   ],
   "source": [
    "sns.countplot(x='age',data=titanic_df)"
   ]
  },
  {
   "cell_type": "code",
   "execution_count": null,
   "id": "9a8d3e09",
   "metadata": {},
   "outputs": [],
   "source": []
  },
  {
   "cell_type": "code",
   "execution_count": 25,
   "id": "286a7122",
   "metadata": {},
   "outputs": [
    {
     "data": {
      "text/html": [
       "<div>\n",
       "<style scoped>\n",
       "    .dataframe tbody tr th:only-of-type {\n",
       "        vertical-align: middle;\n",
       "    }\n",
       "\n",
       "    .dataframe tbody tr th {\n",
       "        vertical-align: top;\n",
       "    }\n",
       "\n",
       "    .dataframe thead th {\n",
       "        text-align: right;\n",
       "    }\n",
       "</style>\n",
       "<table border=\"1\" class=\"dataframe\">\n",
       "  <thead>\n",
       "    <tr style=\"text-align: right;\">\n",
       "      <th></th>\n",
       "      <th>survived</th>\n",
       "      <th>pclass</th>\n",
       "      <th>age</th>\n",
       "      <th>sibsp</th>\n",
       "      <th>parch</th>\n",
       "      <th>fare</th>\n",
       "    </tr>\n",
       "  </thead>\n",
       "  <tbody>\n",
       "    <tr>\n",
       "      <th>count</th>\n",
       "      <td>891.000000</td>\n",
       "      <td>891.000000</td>\n",
       "      <td>714.000000</td>\n",
       "      <td>891.000000</td>\n",
       "      <td>891.000000</td>\n",
       "      <td>891.000000</td>\n",
       "    </tr>\n",
       "    <tr>\n",
       "      <th>mean</th>\n",
       "      <td>0.383838</td>\n",
       "      <td>2.308642</td>\n",
       "      <td>29.699118</td>\n",
       "      <td>0.523008</td>\n",
       "      <td>0.381594</td>\n",
       "      <td>32.204208</td>\n",
       "    </tr>\n",
       "    <tr>\n",
       "      <th>std</th>\n",
       "      <td>0.486592</td>\n",
       "      <td>0.836071</td>\n",
       "      <td>14.526497</td>\n",
       "      <td>1.102743</td>\n",
       "      <td>0.806057</td>\n",
       "      <td>49.693429</td>\n",
       "    </tr>\n",
       "    <tr>\n",
       "      <th>min</th>\n",
       "      <td>0.000000</td>\n",
       "      <td>1.000000</td>\n",
       "      <td>0.420000</td>\n",
       "      <td>0.000000</td>\n",
       "      <td>0.000000</td>\n",
       "      <td>0.000000</td>\n",
       "    </tr>\n",
       "    <tr>\n",
       "      <th>25%</th>\n",
       "      <td>0.000000</td>\n",
       "      <td>2.000000</td>\n",
       "      <td>20.125000</td>\n",
       "      <td>0.000000</td>\n",
       "      <td>0.000000</td>\n",
       "      <td>7.910400</td>\n",
       "    </tr>\n",
       "    <tr>\n",
       "      <th>50%</th>\n",
       "      <td>0.000000</td>\n",
       "      <td>3.000000</td>\n",
       "      <td>28.000000</td>\n",
       "      <td>0.000000</td>\n",
       "      <td>0.000000</td>\n",
       "      <td>14.454200</td>\n",
       "    </tr>\n",
       "    <tr>\n",
       "      <th>75%</th>\n",
       "      <td>1.000000</td>\n",
       "      <td>3.000000</td>\n",
       "      <td>38.000000</td>\n",
       "      <td>1.000000</td>\n",
       "      <td>0.000000</td>\n",
       "      <td>31.000000</td>\n",
       "    </tr>\n",
       "    <tr>\n",
       "      <th>max</th>\n",
       "      <td>1.000000</td>\n",
       "      <td>3.000000</td>\n",
       "      <td>80.000000</td>\n",
       "      <td>8.000000</td>\n",
       "      <td>6.000000</td>\n",
       "      <td>512.329200</td>\n",
       "    </tr>\n",
       "  </tbody>\n",
       "</table>\n",
       "</div>"
      ],
      "text/plain": [
       "         survived      pclass         age       sibsp       parch        fare\n",
       "count  891.000000  891.000000  714.000000  891.000000  891.000000  891.000000\n",
       "mean     0.383838    2.308642   29.699118    0.523008    0.381594   32.204208\n",
       "std      0.486592    0.836071   14.526497    1.102743    0.806057   49.693429\n",
       "min      0.000000    1.000000    0.420000    0.000000    0.000000    0.000000\n",
       "25%      0.000000    2.000000   20.125000    0.000000    0.000000    7.910400\n",
       "50%      0.000000    3.000000   28.000000    0.000000    0.000000   14.454200\n",
       "75%      1.000000    3.000000   38.000000    1.000000    0.000000   31.000000\n",
       "max      1.000000    3.000000   80.000000    8.000000    6.000000  512.329200"
      ]
     },
     "execution_count": 25,
     "metadata": {},
     "output_type": "execute_result"
    }
   ],
   "source": [
    "titanic_df.describe()"
   ]
  },
  {
   "cell_type": "code",
   "execution_count": 26,
   "id": "9a0c36c6",
   "metadata": {},
   "outputs": [
    {
     "data": {
      "text/plain": [
       "Index(['survived', 'pclass', 'sex', 'age', 'sibsp', 'parch', 'fare',\n",
       "       'embarked', 'class', 'who', 'adult_male', 'embark_town', 'alive',\n",
       "       'alone'],\n",
       "      dtype='object')"
      ]
     },
     "execution_count": 26,
     "metadata": {},
     "output_type": "execute_result"
    }
   ],
   "source": [
    "titanic_df.columns"
   ]
  },
  {
   "cell_type": "code",
   "execution_count": 27,
   "id": "4fccd700",
   "metadata": {},
   "outputs": [
    {
     "data": {
      "text/plain": [
       "0    608\n",
       "1    209\n",
       "2     28\n",
       "4     18\n",
       "3     16\n",
       "8      7\n",
       "5      5\n",
       "Name: sibsp, dtype: int64"
      ]
     },
     "execution_count": 27,
     "metadata": {},
     "output_type": "execute_result"
    }
   ],
   "source": [
    "titanic_df['sibsp'].value_counts()"
   ]
  },
  {
   "cell_type": "code",
   "execution_count": 28,
   "id": "6c00cda0",
   "metadata": {},
   "outputs": [
    {
     "data": {
      "text/plain": [
       "<AxesSubplot:xlabel='sibsp', ylabel='count'>"
      ]
     },
     "execution_count": 28,
     "metadata": {},
     "output_type": "execute_result"
    },
    {
     "data": {
      "image/png": "[encoded data removed]",
      "text/plain": [
       "<Figure size 432x288 with 1 Axes>"
      ]
     },
     "metadata": {
      "needs_background": "light"
     },
     "output_type": "display_data"
    }
   ],
   "source": [
    "sns.countplot(titanic_df['sibsp'])"
   ]
  },
  {
   "cell_type": "code",
   "execution_count": 29,
   "id": "d799be2a",
   "metadata": {},
   "outputs": [
    {
     "data": {
      "text/plain": [
       "0    678\n",
       "1    118\n",
       "2     80\n",
       "5      5\n",
       "3      5\n",
       "4      4\n",
       "6      1\n",
       "Name: parch, dtype: int64"
      ]
     },
     "execution_count": 29,
     "metadata": {},
     "output_type": "execute_result"
    }
   ],
   "source": [
    "titanic_df['parch'].value_counts()"
   ]
  },
  {
   "cell_type": "code",
   "execution_count": 30,
   "id": "ea1352c1",
   "metadata": {},
   "outputs": [
    {
     "data": {
      "text/plain": [
       "<AxesSubplot:xlabel='parch', ylabel='count'>"
      ]
     },
     "execution_count": 30,
     "metadata": {},
     "output_type": "execute_result"
    },
    {
     "data": {
      "image/png": "[encoded data removed]",
      "text/plain": [
       "<Figure size 432x288 with 1 Axes>"
      ]
     },
     "metadata": {
      "needs_background": "light"
     },
     "output_type": "display_data"
    }
   ],
   "source": [
    "sns.countplot(titanic_df['parch'])"
   ]
  },
  {
   "cell_type": "code",
   "execution_count": 31,
   "id": "fd2e6dad",
   "metadata": {},
   "outputs": [
    {
     "data": {
      "text/plain": [
       "<AxesSubplot:>"
      ]
     },
     "execution_count": 31,
     "metadata": {},
     "output_type": "execute_result"
    },
    {
     "data": {
      "image/png": "[encoded data removed]",
      "text/plain": [
       "<Figure size 432x288 with 1 Axes>"
      ]
     },
     "metadata": {
      "needs_background": "light"
     },
     "output_type": "display_data"
    }
   ],
   "source": [
    "titanic_df['parch'].hist()"
   ]
  },
  {
   "cell_type": "code",
   "execution_count": 32,
   "id": "8b448a25",
   "metadata": {},
   "outputs": [
    {
     "data": {
      "text/plain": [
       "<AxesSubplot:>"
      ]
     },
     "execution_count": 32,
     "metadata": {},
     "output_type": "execute_result"
    },
    {
     "data": {
      "image/png": "[encoded data removed]",
      "text/plain": [
       "<Figure size 432x288 with 1 Axes>"
      ]
     },
     "metadata": {
      "needs_background": "light"
     },
     "output_type": "display_data"
    }
   ],
   "source": [
    "titanic_df['fare'].hist()"
   ]
  },
  {
   "cell_type": "code",
   "execution_count": 33,
   "id": "c02826b6",
   "metadata": {},
   "outputs": [
    {
     "data": {
      "text/plain": [
       "<AxesSubplot:ylabel='Frequency'>"
      ]
     },
     "execution_count": 33,
     "metadata": {},
     "output_type": "execute_result"
    },
    {
     "data": {
      "image/png": "[encoded data removed]",
      "text/plain": [
       "<Figure size 432x288 with 1 Axes>"
      ]
     },
     "metadata": {
      "needs_background": "light"
     },
     "output_type": "display_data"
    }
   ],
   "source": [
    "titanic_df['fare'].plot(kind='hist')"
   ]
  },
  {
   "cell_type": "code",
   "execution_count": 34,
   "id": "0403cc3b",
   "metadata": {},
   "outputs": [
    {
     "data": {
      "text/plain": [
       "<AxesSubplot:>"
      ]
     },
     "execution_count": 34,
     "metadata": {},
     "output_type": "execute_result"
    },
    {
     "data": {
      "image/png": "[encoded data removed]",
      "text/plain": [
       "<Figure size 432x288 with 1 Axes>"
      ]
     },
     "metadata": {
      "needs_background": "light"
     },
     "output_type": "display_data"
    }
   ],
   "source": [
    "titanic_df['fare'].plot(kind='bar')"
   ]
  },
  {
   "cell_type": "code",
   "execution_count": 35,
   "id": "19fb10a5",
   "metadata": {},
   "outputs": [
    {
     "data": {
      "text/plain": [
       "S    644\n",
       "C    168\n",
       "Q     77\n",
       "Name: embarked, dtype: int64"
      ]
     },
     "execution_count": 35,
     "metadata": {},
     "output_type": "execute_result"
    }
   ],
   "source": [
    "titanic_df['embarked'].value_counts()"
   ]
  },
  {
   "cell_type": "code",
   "execution_count": 36,
   "id": "f42e7c3f",
   "metadata": {},
   "outputs": [
    {
     "data": {
      "text/plain": [
       "<AxesSubplot:xlabel='embarked', ylabel='count'>"
      ]
     },
     "execution_count": 36,
     "metadata": {},
     "output_type": "execute_result"
    },
    {
     "data": {
      "image/png": "[encoded data removed]",
      "text/plain": [
       "<Figure size 432x288 with 1 Axes>"
      ]
     },
     "metadata": {
      "needs_background": "light"
     },
     "output_type": "display_data"
    }
   ],
   "source": [
    "sns.countplot(x='embarked', data=titanic_df,linewidth=2,hue='survived',palette='Set2',edgecolor=sns.color_palette('dark'))"
   ]
  },
  {
   "cell_type": "code",
   "execution_count": 37,
   "id": "09978769",
   "metadata": {},
   "outputs": [
    {
     "data": {
      "text/plain": [
       "Index(['survived', 'pclass', 'sex', 'age', 'sibsp', 'parch', 'fare',\n",
       "       'embarked', 'class', 'who', 'adult_male', 'embark_town', 'alive',\n",
       "       'alone'],\n",
       "      dtype='object')"
      ]
     },
     "execution_count": 37,
     "metadata": {},
     "output_type": "execute_result"
    }
   ],
   "source": [
    "titanic_df.columns"
   ]
  },
  {
   "cell_type": "code",
   "execution_count": 38,
   "id": "ca09e1ce",
   "metadata": {},
   "outputs": [
    {
     "data": {
      "text/plain": [
       "['Third', 'First', 'Second']\n",
       "Categories (3, object): ['First', 'Second', 'Third']"
      ]
     },
     "execution_count": 38,
     "metadata": {},
     "output_type": "execute_result"
    }
   ],
   "source": [
    "titanic_df['class'].unique()"
   ]
  },
  {
   "cell_type": "code",
   "execution_count": 39,
   "id": "7594d90d",
   "metadata": {},
   "outputs": [
    {
     "data": {
      "text/plain": [
       "Third     491\n",
       "First     216\n",
       "Second    184\n",
       "Name: class, dtype: int64"
      ]
     },
     "execution_count": 39,
     "metadata": {},
     "output_type": "execute_result"
    }
   ],
   "source": [
    "titanic_df['class'].value_counts()"
   ]
  },
  {
   "cell_type": "code",
   "execution_count": 40,
   "id": "a0821e15",
   "metadata": {},
   "outputs": [
    {
     "data": {
      "text/html": [
       "<div>\n",
       "<style scoped>\n",
       "    .dataframe tbody tr th:only-of-type {\n",
       "        vertical-align: middle;\n",
       "    }\n",
       "\n",
       "    .dataframe tbody tr th {\n",
       "        vertical-align: top;\n",
       "    }\n",
       "\n",
       "    .dataframe thead th {\n",
       "        text-align: right;\n",
       "    }\n",
       "</style>\n",
       "<table border=\"1\" class=\"dataframe\">\n",
       "  <thead>\n",
       "    <tr style=\"text-align: right;\">\n",
       "      <th></th>\n",
       "      <th>survived</th>\n",
       "      <th>pclass</th>\n",
       "      <th>sex</th>\n",
       "      <th>age</th>\n",
       "      <th>sibsp</th>\n",
       "      <th>parch</th>\n",
       "      <th>fare</th>\n",
       "      <th>embarked</th>\n",
       "      <th>class</th>\n",
       "      <th>who</th>\n",
       "      <th>adult_male</th>\n",
       "      <th>embark_town</th>\n",
       "      <th>alive</th>\n",
       "      <th>alone</th>\n",
       "    </tr>\n",
       "  </thead>\n",
       "  <tbody>\n",
       "    <tr>\n",
       "      <th>0</th>\n",
       "      <td>0</td>\n",
       "      <td>3</td>\n",
       "      <td>male</td>\n",
       "      <td>22.0</td>\n",
       "      <td>1</td>\n",
       "      <td>0</td>\n",
       "      <td>7.2500</td>\n",
       "      <td>S</td>\n",
       "      <td>Third</td>\n",
       "      <td>man</td>\n",
       "      <td>True</td>\n",
       "      <td>Southampton</td>\n",
       "      <td>no</td>\n",
       "      <td>False</td>\n",
       "    </tr>\n",
       "    <tr>\n",
       "      <th>1</th>\n",
       "      <td>1</td>\n",
       "      <td>1</td>\n",
       "      <td>female</td>\n",
       "      <td>38.0</td>\n",
       "      <td>1</td>\n",
       "      <td>0</td>\n",
       "      <td>71.2833</td>\n",
       "      <td>C</td>\n",
       "      <td>First</td>\n",
       "      <td>woman</td>\n",
       "      <td>False</td>\n",
       "      <td>Cherbourg</td>\n",
       "      <td>yes</td>\n",
       "      <td>False</td>\n",
       "    </tr>\n",
       "    <tr>\n",
       "      <th>2</th>\n",
       "      <td>1</td>\n",
       "      <td>3</td>\n",
       "      <td>female</td>\n",
       "      <td>26.0</td>\n",
       "      <td>0</td>\n",
       "      <td>0</td>\n",
       "      <td>7.9250</td>\n",
       "      <td>S</td>\n",
       "      <td>Third</td>\n",
       "      <td>woman</td>\n",
       "      <td>False</td>\n",
       "      <td>Southampton</td>\n",
       "      <td>yes</td>\n",
       "      <td>True</td>\n",
       "    </tr>\n",
       "    <tr>\n",
       "      <th>3</th>\n",
       "      <td>1</td>\n",
       "      <td>1</td>\n",
       "      <td>female</td>\n",
       "      <td>35.0</td>\n",
       "      <td>1</td>\n",
       "      <td>0</td>\n",
       "      <td>53.1000</td>\n",
       "      <td>S</td>\n",
       "      <td>First</td>\n",
       "      <td>woman</td>\n",
       "      <td>False</td>\n",
       "      <td>Southampton</td>\n",
       "      <td>yes</td>\n",
       "      <td>False</td>\n",
       "    </tr>\n",
       "    <tr>\n",
       "      <th>4</th>\n",
       "      <td>0</td>\n",
       "      <td>3</td>\n",
       "      <td>male</td>\n",
       "      <td>35.0</td>\n",
       "      <td>0</td>\n",
       "      <td>0</td>\n",
       "      <td>8.0500</td>\n",
       "      <td>S</td>\n",
       "      <td>Third</td>\n",
       "      <td>man</td>\n",
       "      <td>True</td>\n",
       "      <td>Southampton</td>\n",
       "      <td>no</td>\n",
       "      <td>True</td>\n",
       "    </tr>\n",
       "    <tr>\n",
       "      <th>5</th>\n",
       "      <td>0</td>\n",
       "      <td>3</td>\n",
       "      <td>male</td>\n",
       "      <td>NaN</td>\n",
       "      <td>0</td>\n",
       "      <td>0</td>\n",
       "      <td>8.4583</td>\n",
       "      <td>Q</td>\n",
       "      <td>Third</td>\n",
       "      <td>man</td>\n",
       "      <td>True</td>\n",
       "      <td>Queenstown</td>\n",
       "      <td>no</td>\n",
       "      <td>True</td>\n",
       "    </tr>\n",
       "    <tr>\n",
       "      <th>6</th>\n",
       "      <td>0</td>\n",
       "      <td>1</td>\n",
       "      <td>male</td>\n",
       "      <td>54.0</td>\n",
       "      <td>0</td>\n",
       "      <td>0</td>\n",
       "      <td>51.8625</td>\n",
       "      <td>S</td>\n",
       "      <td>First</td>\n",
       "      <td>man</td>\n",
       "      <td>True</td>\n",
       "      <td>Southampton</td>\n",
       "      <td>no</td>\n",
       "      <td>True</td>\n",
       "    </tr>\n",
       "    <tr>\n",
       "      <th>7</th>\n",
       "      <td>0</td>\n",
       "      <td>3</td>\n",
       "      <td>male</td>\n",
       "      <td>2.0</td>\n",
       "      <td>3</td>\n",
       "      <td>1</td>\n",
       "      <td>21.0750</td>\n",
       "      <td>S</td>\n",
       "      <td>Third</td>\n",
       "      <td>child</td>\n",
       "      <td>False</td>\n",
       "      <td>Southampton</td>\n",
       "      <td>no</td>\n",
       "      <td>False</td>\n",
       "    </tr>\n",
       "    <tr>\n",
       "      <th>8</th>\n",
       "      <td>1</td>\n",
       "      <td>3</td>\n",
       "      <td>female</td>\n",
       "      <td>27.0</td>\n",
       "      <td>0</td>\n",
       "      <td>2</td>\n",
       "      <td>11.1333</td>\n",
       "      <td>S</td>\n",
       "      <td>Third</td>\n",
       "      <td>woman</td>\n",
       "      <td>False</td>\n",
       "      <td>Southampton</td>\n",
       "      <td>yes</td>\n",
       "      <td>False</td>\n",
       "    </tr>\n",
       "    <tr>\n",
       "      <th>9</th>\n",
       "      <td>1</td>\n",
       "      <td>2</td>\n",
       "      <td>female</td>\n",
       "      <td>14.0</td>\n",
       "      <td>1</td>\n",
       "      <td>0</td>\n",
       "      <td>30.0708</td>\n",
       "      <td>C</td>\n",
       "      <td>Second</td>\n",
       "      <td>child</td>\n",
       "      <td>False</td>\n",
       "      <td>Cherbourg</td>\n",
       "      <td>yes</td>\n",
       "      <td>False</td>\n",
       "    </tr>\n",
       "  </tbody>\n",
       "</table>\n",
       "</div>"
      ],
      "text/plain": [
       "   survived  pclass     sex   age  sibsp  parch     fare embarked   class  \\\n",
       "0         0       3    male  22.0      1      0   7.2500        S   Third   \n",
       "1         1       1  female  38.0      1      0  71.2833        C   First   \n",
       "2         1       3  female  26.0      0      0   7.9250        S   Third   \n",
       "3         1       1  female  35.0      1      0  53.1000        S   First   \n",
       "4         0       3    male  35.0      0      0   8.0500        S   Third   \n",
       "5         0       3    male   NaN      0      0   8.4583        Q   Third   \n",
       "6         0       1    male  54.0      0      0  51.8625        S   First   \n",
       "7         0       3    male   2.0      3      1  21.0750        S   Third   \n",
       "8         1       3  female  27.0      0      2  11.1333        S   Third   \n",
       "9         1       2  female  14.0      1      0  30.0708        C  Second   \n",
       "\n",
       "     who  adult_male  embark_town alive  alone  \n",
       "0    man        True  Southampton    no  False  \n",
       "1  woman       False    Cherbourg   yes  False  \n",
       "2  woman       False  Southampton   yes   True  \n",
       "3  woman       False  Southampton   yes  False  \n",
       "4    man        True  Southampton    no   True  \n",
       "5    man        True   Queenstown    no   True  \n",
       "6    man        True  Southampton    no   True  \n",
       "7  child       False  Southampton    no  False  \n",
       "8  woman       False  Southampton   yes  False  \n",
       "9  child       False    Cherbourg   yes  False  "
      ]
     },
     "execution_count": 40,
     "metadata": {},
     "output_type": "execute_result"
    }
   ],
   "source": [
    "titanic_df.head(10)"
   ]
  },
  {
   "cell_type": "code",
   "execution_count": 41,
   "id": "5357ddfc",
   "metadata": {},
   "outputs": [
    {
     "data": {
      "text/plain": [
       "<AxesSubplot:xlabel='class', ylabel='count'>"
      ]
     },
     "execution_count": 41,
     "metadata": {},
     "output_type": "execute_result"
    },
    {
     "data": {
      "image/png": "[encoded data removed]",
      "text/plain": [
       "<Figure size 432x288 with 1 Axes>"
      ]
     },
     "metadata": {
      "needs_background": "light"
     },
     "output_type": "display_data"
    }
   ],
   "source": [
    "sns.countplot(x='class',hue='survived',data=titanic_df, palette='Set2',edgecolor=sns.color_palette('dark',2))"
   ]
  },
  {
   "cell_type": "code",
   "execution_count": 42,
   "id": "4bb90387",
   "metadata": {},
   "outputs": [
    {
     "name": "stdout",
     "output_type": "stream",
     "text": [
      "<class 'pandas.core.frame.DataFrame'>\n",
      "RangeIndex: 891 entries, 0 to 890\n",
      "Data columns (total 14 columns):\n",
      " #   Column       Non-Null Count  Dtype   \n",
      "---  ------       --------------  -----   \n",
      " 0   survived     891 non-null    int64   \n",
      " 1   pclass       891 non-null    int64   \n",
      " 2   sex          891 non-null    object  \n",
      " 3   age          714 non-null    float64 \n",
      " 4   sibsp        891 non-null    int64   \n",
      " 5   parch        891 non-null    int64   \n",
      " 6   fare         891 non-null    float64 \n",
      " 7   embarked     889 non-null    object  \n",
      " 8   class        891 non-null    category\n",
      " 9   who          891 non-null    object  \n",
      " 10  adult_male   891 non-null    bool    \n",
      " 11  embark_town  889 non-null    object  \n",
      " 12  alive        891 non-null    object  \n",
      " 13  alone        891 non-null    bool    \n",
      "dtypes: bool(2), category(1), float64(2), int64(4), object(5)\n",
      "memory usage: 79.4+ KB\n"
     ]
    }
   ],
   "source": [
    "titanic_df.info()"
   ]
  },
  {
   "cell_type": "markdown",
   "id": "11e85019",
   "metadata": {},
   "source": [
    "# change the datatype of a column"
   ]
  },
  {
   "cell_type": "code",
   "execution_count": 43,
   "id": "a2466449",
   "metadata": {},
   "outputs": [],
   "source": [
    "titanic_df =titanic_df.astype({\"survived\": \"object\", \"pclass\": \"object\"})"
   ]
  },
  {
   "cell_type": "code",
   "execution_count": 44,
   "id": "0c1540c4",
   "metadata": {},
   "outputs": [],
   "source": [
    "# titanic_dataframe=titanic_df.copy()\n",
    "titanic_df['embarked'].fillna(titanic_df['embarked'].value_counts().idxmax(),inplace=True)"
   ]
  },
  {
   "cell_type": "code",
   "execution_count": 45,
   "id": "ef38db5e",
   "metadata": {},
   "outputs": [
    {
     "data": {
      "text/plain": [
       "'S'"
      ]
     },
     "execution_count": 45,
     "metadata": {},
     "output_type": "execute_result"
    }
   ],
   "source": [
    "titanic_df['embarked'].value_counts().idxmax()"
   ]
  },
  {
   "cell_type": "code",
   "execution_count": 46,
   "id": "6e9d0a4d",
   "metadata": {},
   "outputs": [
    {
     "data": {
      "text/plain": [
       "'Q'"
      ]
     },
     "execution_count": 46,
     "metadata": {},
     "output_type": "execute_result"
    }
   ],
   "source": [
    "titanic_df['embarked'].value_counts().idxmin()"
   ]
  },
  {
   "cell_type": "code",
   "execution_count": 47,
   "id": "e0f1807e",
   "metadata": {},
   "outputs": [
    {
     "data": {
      "text/plain": [
       "S    646\n",
       "C    168\n",
       "Q     77\n",
       "Name: embarked, dtype: int64"
      ]
     },
     "execution_count": 47,
     "metadata": {},
     "output_type": "execute_result"
    }
   ],
   "source": [
    "titanic_df['embarked'].value_counts()"
   ]
  },
  {
   "cell_type": "code",
   "execution_count": 48,
   "id": "21c63a6e",
   "metadata": {},
   "outputs": [
    {
     "ename": "NameError",
     "evalue": "name 'titanic_dataframe' is not defined",
     "output_type": "error",
     "traceback": [
      "\u001b[1;31m---------------------------------------------------------------------------\u001b[0m",
      "\u001b[1;31mNameError\u001b[0m                                 Traceback (most recent call last)",
      "Input \u001b[1;32mIn [48]\u001b[0m, in \u001b[0;36m<cell line: 1>\u001b[1;34m()\u001b[0m\n\u001b[1;32m----> 1\u001b[0m \u001b[43mtitanic_dataframe\u001b[49m\u001b[38;5;241m.\u001b[39minfo()\n",
      "\u001b[1;31mNameError\u001b[0m: name 'titanic_dataframe' is not defined"
     ]
    }
   ],
   "source": [
    "titanic_dataframe.info()"
   ]
  },
  {
   "cell_type": "markdown",
   "id": "c0315e88",
   "metadata": {},
   "source": [
    "# Too many missing values in Deck so remove it."
   ]
  },
  {
   "cell_type": "code",
   "execution_count": null,
   "id": "3bcf278a",
   "metadata": {},
   "outputs": [],
   "source": [
    "titanic_df.drop('deck',axis=1,inplace=True)"
   ]
  },
  {
   "cell_type": "markdown",
   "id": "9219bbee",
   "metadata": {},
   "source": [
    "# for embark_town"
   ]
  },
  {
   "cell_type": "code",
   "execution_count": 49,
   "id": "6371bb42",
   "metadata": {},
   "outputs": [],
   "source": [
    "titanic_df['embark_town'].fillna(titanic_df['embark_town'].value_counts().idxmax(),inplace=True)"
   ]
  },
  {
   "cell_type": "code",
   "execution_count": 50,
   "id": "5093cef9",
   "metadata": {
    "scrolled": true
   },
   "outputs": [
    {
     "data": {
      "text/plain": [
       "'Southampton'"
      ]
     },
     "execution_count": 50,
     "metadata": {},
     "output_type": "execute_result"
    }
   ],
   "source": [
    "titanic_df['embark_town'].value_counts().idxmax()"
   ]
  },
  {
   "cell_type": "code",
   "execution_count": 51,
   "id": "832723ed",
   "metadata": {
    "scrolled": true
   },
   "outputs": [
    {
     "data": {
      "text/html": [
       "<div>\n",
       "<style scoped>\n",
       "    .dataframe tbody tr th:only-of-type {\n",
       "        vertical-align: middle;\n",
       "    }\n",
       "\n",
       "    .dataframe tbody tr th {\n",
       "        vertical-align: top;\n",
       "    }\n",
       "\n",
       "    .dataframe thead th {\n",
       "        text-align: right;\n",
       "    }\n",
       "</style>\n",
       "<table border=\"1\" class=\"dataframe\">\n",
       "  <thead>\n",
       "    <tr style=\"text-align: right;\">\n",
       "      <th></th>\n",
       "      <th>survived</th>\n",
       "      <th>pclass</th>\n",
       "      <th>sex</th>\n",
       "      <th>age</th>\n",
       "      <th>sibsp</th>\n",
       "      <th>parch</th>\n",
       "      <th>fare</th>\n",
       "      <th>embarked</th>\n",
       "      <th>class</th>\n",
       "      <th>who</th>\n",
       "      <th>adult_male</th>\n",
       "      <th>embark_town</th>\n",
       "      <th>alive</th>\n",
       "      <th>alone</th>\n",
       "    </tr>\n",
       "  </thead>\n",
       "  <tbody>\n",
       "    <tr>\n",
       "      <th>0</th>\n",
       "      <td>0</td>\n",
       "      <td>3</td>\n",
       "      <td>male</td>\n",
       "      <td>22.0</td>\n",
       "      <td>1</td>\n",
       "      <td>0</td>\n",
       "      <td>7.2500</td>\n",
       "      <td>S</td>\n",
       "      <td>Third</td>\n",
       "      <td>man</td>\n",
       "      <td>True</td>\n",
       "      <td>Southampton</td>\n",
       "      <td>no</td>\n",
       "      <td>False</td>\n",
       "    </tr>\n",
       "    <tr>\n",
       "      <th>1</th>\n",
       "      <td>1</td>\n",
       "      <td>1</td>\n",
       "      <td>female</td>\n",
       "      <td>38.0</td>\n",
       "      <td>1</td>\n",
       "      <td>0</td>\n",
       "      <td>71.2833</td>\n",
       "      <td>C</td>\n",
       "      <td>First</td>\n",
       "      <td>woman</td>\n",
       "      <td>False</td>\n",
       "      <td>Cherbourg</td>\n",
       "      <td>yes</td>\n",
       "      <td>False</td>\n",
       "    </tr>\n",
       "    <tr>\n",
       "      <th>2</th>\n",
       "      <td>1</td>\n",
       "      <td>3</td>\n",
       "      <td>female</td>\n",
       "      <td>26.0</td>\n",
       "      <td>0</td>\n",
       "      <td>0</td>\n",
       "      <td>7.9250</td>\n",
       "      <td>S</td>\n",
       "      <td>Third</td>\n",
       "      <td>woman</td>\n",
       "      <td>False</td>\n",
       "      <td>Southampton</td>\n",
       "      <td>yes</td>\n",
       "      <td>True</td>\n",
       "    </tr>\n",
       "    <tr>\n",
       "      <th>3</th>\n",
       "      <td>1</td>\n",
       "      <td>1</td>\n",
       "      <td>female</td>\n",
       "      <td>35.0</td>\n",
       "      <td>1</td>\n",
       "      <td>0</td>\n",
       "      <td>53.1000</td>\n",
       "      <td>S</td>\n",
       "      <td>First</td>\n",
       "      <td>woman</td>\n",
       "      <td>False</td>\n",
       "      <td>Southampton</td>\n",
       "      <td>yes</td>\n",
       "      <td>False</td>\n",
       "    </tr>\n",
       "    <tr>\n",
       "      <th>4</th>\n",
       "      <td>0</td>\n",
       "      <td>3</td>\n",
       "      <td>male</td>\n",
       "      <td>35.0</td>\n",
       "      <td>0</td>\n",
       "      <td>0</td>\n",
       "      <td>8.0500</td>\n",
       "      <td>S</td>\n",
       "      <td>Third</td>\n",
       "      <td>man</td>\n",
       "      <td>True</td>\n",
       "      <td>Southampton</td>\n",
       "      <td>no</td>\n",
       "      <td>True</td>\n",
       "    </tr>\n",
       "  </tbody>\n",
       "</table>\n",
       "</div>"
      ],
      "text/plain": [
       "  survived pclass     sex   age  sibsp  parch     fare embarked  class    who  \\\n",
       "0        0      3    male  22.0      1      0   7.2500        S  Third    man   \n",
       "1        1      1  female  38.0      1      0  71.2833        C  First  woman   \n",
       "2        1      3  female  26.0      0      0   7.9250        S  Third  woman   \n",
       "3        1      1  female  35.0      1      0  53.1000        S  First  woman   \n",
       "4        0      3    male  35.0      0      0   8.0500        S  Third    man   \n",
       "\n",
       "   adult_male  embark_town alive  alone  \n",
       "0        True  Southampton    no  False  \n",
       "1       False    Cherbourg   yes  False  \n",
       "2       False  Southampton   yes   True  \n",
       "3       False  Southampton   yes  False  \n",
       "4        True  Southampton    no   True  "
      ]
     },
     "execution_count": 51,
     "metadata": {},
     "output_type": "execute_result"
    }
   ],
   "source": [
    "titanic_df.head()"
   ]
  },
  {
   "cell_type": "code",
   "execution_count": 52,
   "id": "82bc4b0a",
   "metadata": {},
   "outputs": [
    {
     "name": "stdout",
     "output_type": "stream",
     "text": [
      "<class 'pandas.core.frame.DataFrame'>\n",
      "RangeIndex: 891 entries, 0 to 890\n",
      "Data columns (total 14 columns):\n",
      " #   Column       Non-Null Count  Dtype   \n",
      "---  ------       --------------  -----   \n",
      " 0   survived     891 non-null    object  \n",
      " 1   pclass       891 non-null    object  \n",
      " 2   sex          891 non-null    object  \n",
      " 3   age          714 non-null    float64 \n",
      " 4   sibsp        891 non-null    int64   \n",
      " 5   parch        891 non-null    int64   \n",
      " 6   fare         891 non-null    float64 \n",
      " 7   embarked     891 non-null    object  \n",
      " 8   class        891 non-null    category\n",
      " 9   who          891 non-null    object  \n",
      " 10  adult_male   891 non-null    bool    \n",
      " 11  embark_town  891 non-null    object  \n",
      " 12  alive        891 non-null    object  \n",
      " 13  alone        891 non-null    bool    \n",
      "dtypes: bool(2), category(1), float64(2), int64(2), object(7)\n",
      "memory usage: 79.4+ KB\n"
     ]
    }
   ],
   "source": [
    "titanic_df.info()"
   ]
  },
  {
   "cell_type": "markdown",
   "id": "1e8418f0",
   "metadata": {},
   "source": [
    "# removing null values from age"
   ]
  },
  {
   "cell_type": "code",
   "execution_count": 53,
   "id": "f83317ce",
   "metadata": {
    "scrolled": true
   },
   "outputs": [
    {
     "data": {
      "text/plain": [
       "survived         0\n",
       "pclass           0\n",
       "sex              0\n",
       "age            177\n",
       "sibsp            0\n",
       "parch            0\n",
       "fare             0\n",
       "embarked         0\n",
       "class            0\n",
       "who              0\n",
       "adult_male       0\n",
       "embark_town      0\n",
       "alive            0\n",
       "alone            0\n",
       "dtype: int64"
      ]
     },
     "execution_count": 53,
     "metadata": {},
     "output_type": "execute_result"
    }
   ],
   "source": [
    "# find % of data missing for age:\n",
    "titanic_df.isnull().sum()"
   ]
  },
  {
   "cell_type": "code",
   "execution_count": 54,
   "id": "974795b9",
   "metadata": {},
   "outputs": [
    {
     "data": {
      "text/plain": [
       "891"
      ]
     },
     "execution_count": 54,
     "metadata": {},
     "output_type": "execute_result"
    }
   ],
   "source": [
    "titanic_df.shape[0]"
   ]
  },
  {
   "cell_type": "code",
   "execution_count": 55,
   "id": "9f793f13",
   "metadata": {},
   "outputs": [
    {
     "data": {
      "text/plain": [
       "19.865319865319865"
      ]
     },
     "execution_count": 55,
     "metadata": {},
     "output_type": "execute_result"
    }
   ],
   "source": [
    "age_missing_data_percent = titanic_df['age'].isnull().sum()/titanic_df.shape[0]*100\n",
    "age_missing_data_percent"
   ]
  },
  {
   "cell_type": "code",
   "execution_count": 56,
   "id": "ecd06a8d",
   "metadata": {},
   "outputs": [
    {
     "data": {
      "text/plain": [
       "<AxesSubplot:>"
      ]
     },
     "execution_count": 56,
     "metadata": {},
     "output_type": "execute_result"
    },
    {
     "data": {
      "image/png": "[encoded data removed]",
      "text/plain": [
       "<Figure size 432x288 with 1 Axes>"
      ]
     },
     "metadata": {
      "needs_background": "light"
     },
     "output_type": "display_data"
    }
   ],
   "source": [
    "titanic_df['age'].hist()"
   ]
  },
  {
   "cell_type": "code",
   "execution_count": 57,
   "id": "9fd6e272",
   "metadata": {},
   "outputs": [
    {
     "data": {
      "text/plain": [
       "<AxesSubplot:>"
      ]
     },
     "execution_count": 57,
     "metadata": {},
     "output_type": "execute_result"
    },
    {
     "data": {
      "image/png": "[encoded data removed]",
      "text/plain": [
       "<Figure size 432x288 with 1 Axes>"
      ]
     },
     "metadata": {
      "needs_background": "light"
     },
     "output_type": "display_data"
    }
   ],
   "source": [
    "titanic_df['age'].hist(bins=30)"
   ]
  },
  {
   "cell_type": "code",
   "execution_count": 58,
   "id": "8f13df21",
   "metadata": {},
   "outputs": [
    {
     "data": {
      "text/plain": [
       "<AxesSubplot:xlabel='age', ylabel='count'>"
      ]
     },
     "execution_count": 58,
     "metadata": {},
     "output_type": "execute_result"
    },
    {
     "data": {
      "image/png": "[encoded data removed]",
      "text/plain": [
       "<Figure size 432x288 with 1 Axes>"
      ]
     },
     "metadata": {
      "needs_background": "light"
     },
     "output_type": "display_data"
    }
   ],
   "source": [
    "sns.countplot(titanic_df['age'])"
   ]
  },
  {
   "cell_type": "raw",
   "id": "b3d71be3",
   "metadata": {},
   "source": [
    "Since \"Age\" is (right) skewed, using the mean might give us biased results by filling in ages that are older than desired. To deal with this, we'll use the median to impute the missing values."
   ]
  },
  {
   "cell_type": "code",
   "execution_count": 59,
   "id": "445afcd6",
   "metadata": {},
   "outputs": [
    {
     "data": {
      "text/html": [
       "<div>\n",
       "<style scoped>\n",
       "    .dataframe tbody tr th:only-of-type {\n",
       "        vertical-align: middle;\n",
       "    }\n",
       "\n",
       "    .dataframe tbody tr th {\n",
       "        vertical-align: top;\n",
       "    }\n",
       "\n",
       "    .dataframe thead th {\n",
       "        text-align: right;\n",
       "    }\n",
       "</style>\n",
       "<table border=\"1\" class=\"dataframe\">\n",
       "  <thead>\n",
       "    <tr style=\"text-align: right;\">\n",
       "      <th></th>\n",
       "      <th>age</th>\n",
       "      <th>sibsp</th>\n",
       "      <th>parch</th>\n",
       "      <th>fare</th>\n",
       "      <th>adult_male</th>\n",
       "      <th>alone</th>\n",
       "    </tr>\n",
       "  </thead>\n",
       "  <tbody>\n",
       "    <tr>\n",
       "      <th>age</th>\n",
       "      <td>1.000000</td>\n",
       "      <td>-0.308247</td>\n",
       "      <td>-0.189119</td>\n",
       "      <td>0.096067</td>\n",
       "      <td>0.280328</td>\n",
       "      <td>0.198270</td>\n",
       "    </tr>\n",
       "    <tr>\n",
       "      <th>sibsp</th>\n",
       "      <td>-0.308247</td>\n",
       "      <td>1.000000</td>\n",
       "      <td>0.414838</td>\n",
       "      <td>0.159651</td>\n",
       "      <td>-0.253586</td>\n",
       "      <td>-0.584471</td>\n",
       "    </tr>\n",
       "    <tr>\n",
       "      <th>parch</th>\n",
       "      <td>-0.189119</td>\n",
       "      <td>0.414838</td>\n",
       "      <td>1.000000</td>\n",
       "      <td>0.216225</td>\n",
       "      <td>-0.349943</td>\n",
       "      <td>-0.583398</td>\n",
       "    </tr>\n",
       "    <tr>\n",
       "      <th>fare</th>\n",
       "      <td>0.096067</td>\n",
       "      <td>0.159651</td>\n",
       "      <td>0.216225</td>\n",
       "      <td>1.000000</td>\n",
       "      <td>-0.182024</td>\n",
       "      <td>-0.271832</td>\n",
       "    </tr>\n",
       "    <tr>\n",
       "      <th>adult_male</th>\n",
       "      <td>0.280328</td>\n",
       "      <td>-0.253586</td>\n",
       "      <td>-0.349943</td>\n",
       "      <td>-0.182024</td>\n",
       "      <td>1.000000</td>\n",
       "      <td>0.404744</td>\n",
       "    </tr>\n",
       "    <tr>\n",
       "      <th>alone</th>\n",
       "      <td>0.198270</td>\n",
       "      <td>-0.584471</td>\n",
       "      <td>-0.583398</td>\n",
       "      <td>-0.271832</td>\n",
       "      <td>0.404744</td>\n",
       "      <td>1.000000</td>\n",
       "    </tr>\n",
       "  </tbody>\n",
       "</table>\n",
       "</div>"
      ],
      "text/plain": [
       "                 age     sibsp     parch      fare  adult_male     alone\n",
       "age         1.000000 -0.308247 -0.189119  0.096067    0.280328  0.198270\n",
       "sibsp      -0.308247  1.000000  0.414838  0.159651   -0.253586 -0.584471\n",
       "parch      -0.189119  0.414838  1.000000  0.216225   -0.349943 -0.583398\n",
       "fare        0.096067  0.159651  0.216225  1.000000   -0.182024 -0.271832\n",
       "adult_male  0.280328 -0.253586 -0.349943 -0.182024    1.000000  0.404744\n",
       "alone       0.198270 -0.584471 -0.583398 -0.271832    0.404744  1.000000"
      ]
     },
     "execution_count": 59,
     "metadata": {},
     "output_type": "execute_result"
    }
   ],
   "source": [
    "titanic_df.corr()"
   ]
  },
  {
   "cell_type": "code",
   "execution_count": 60,
   "id": "6997d1a0",
   "metadata": {},
   "outputs": [
    {
     "data": {
      "text/html": [
       "<div>\n",
       "<style scoped>\n",
       "    .dataframe tbody tr th:only-of-type {\n",
       "        vertical-align: middle;\n",
       "    }\n",
       "\n",
       "    .dataframe tbody tr th {\n",
       "        vertical-align: top;\n",
       "    }\n",
       "\n",
       "    .dataframe thead th {\n",
       "        text-align: right;\n",
       "    }\n",
       "</style>\n",
       "<table border=\"1\" class=\"dataframe\">\n",
       "  <thead>\n",
       "    <tr style=\"text-align: right;\">\n",
       "      <th></th>\n",
       "      <th>age</th>\n",
       "      <th>sibsp</th>\n",
       "      <th>parch</th>\n",
       "      <th>fare</th>\n",
       "    </tr>\n",
       "  </thead>\n",
       "  <tbody>\n",
       "    <tr>\n",
       "      <th>count</th>\n",
       "      <td>714.000000</td>\n",
       "      <td>891.000000</td>\n",
       "      <td>891.000000</td>\n",
       "      <td>891.000000</td>\n",
       "    </tr>\n",
       "    <tr>\n",
       "      <th>mean</th>\n",
       "      <td>29.699118</td>\n",
       "      <td>0.523008</td>\n",
       "      <td>0.381594</td>\n",
       "      <td>32.204208</td>\n",
       "    </tr>\n",
       "    <tr>\n",
       "      <th>std</th>\n",
       "      <td>14.526497</td>\n",
       "      <td>1.102743</td>\n",
       "      <td>0.806057</td>\n",
       "      <td>49.693429</td>\n",
       "    </tr>\n",
       "    <tr>\n",
       "      <th>min</th>\n",
       "      <td>0.420000</td>\n",
       "      <td>0.000000</td>\n",
       "      <td>0.000000</td>\n",
       "      <td>0.000000</td>\n",
       "    </tr>\n",
       "    <tr>\n",
       "      <th>25%</th>\n",
       "      <td>20.125000</td>\n",
       "      <td>0.000000</td>\n",
       "      <td>0.000000</td>\n",
       "      <td>7.910400</td>\n",
       "    </tr>\n",
       "    <tr>\n",
       "      <th>50%</th>\n",
       "      <td>28.000000</td>\n",
       "      <td>0.000000</td>\n",
       "      <td>0.000000</td>\n",
       "      <td>14.454200</td>\n",
       "    </tr>\n",
       "    <tr>\n",
       "      <th>75%</th>\n",
       "      <td>38.000000</td>\n",
       "      <td>1.000000</td>\n",
       "      <td>0.000000</td>\n",
       "      <td>31.000000</td>\n",
       "    </tr>\n",
       "    <tr>\n",
       "      <th>max</th>\n",
       "      <td>80.000000</td>\n",
       "      <td>8.000000</td>\n",
       "      <td>6.000000</td>\n",
       "      <td>512.329200</td>\n",
       "    </tr>\n",
       "  </tbody>\n",
       "</table>\n",
       "</div>"
      ],
      "text/plain": [
       "              age       sibsp       parch        fare\n",
       "count  714.000000  891.000000  891.000000  891.000000\n",
       "mean    29.699118    0.523008    0.381594   32.204208\n",
       "std     14.526497    1.102743    0.806057   49.693429\n",
       "min      0.420000    0.000000    0.000000    0.000000\n",
       "25%     20.125000    0.000000    0.000000    7.910400\n",
       "50%     28.000000    0.000000    0.000000   14.454200\n",
       "75%     38.000000    1.000000    0.000000   31.000000\n",
       "max     80.000000    8.000000    6.000000  512.329200"
      ]
     },
     "execution_count": 60,
     "metadata": {},
     "output_type": "execute_result"
    }
   ],
   "source": [
    "titanic_df.describe()"
   ]
  },
  {
   "cell_type": "code",
   "execution_count": 61,
   "id": "e68548c8",
   "metadata": {},
   "outputs": [
    {
     "data": {
      "text/html": [
       "<div>\n",
       "<style scoped>\n",
       "    .dataframe tbody tr th:only-of-type {\n",
       "        vertical-align: middle;\n",
       "    }\n",
       "\n",
       "    .dataframe tbody tr th {\n",
       "        vertical-align: top;\n",
       "    }\n",
       "\n",
       "    .dataframe thead th {\n",
       "        text-align: right;\n",
       "    }\n",
       "</style>\n",
       "<table border=\"1\" class=\"dataframe\">\n",
       "  <thead>\n",
       "    <tr style=\"text-align: right;\">\n",
       "      <th></th>\n",
       "      <th>survived</th>\n",
       "      <th>pclass</th>\n",
       "      <th>sex</th>\n",
       "      <th>age</th>\n",
       "      <th>sibsp</th>\n",
       "      <th>parch</th>\n",
       "      <th>fare</th>\n",
       "      <th>embarked</th>\n",
       "      <th>class</th>\n",
       "      <th>who</th>\n",
       "      <th>adult_male</th>\n",
       "      <th>embark_town</th>\n",
       "      <th>alive</th>\n",
       "      <th>alone</th>\n",
       "    </tr>\n",
       "  </thead>\n",
       "  <tbody>\n",
       "    <tr>\n",
       "      <th>0</th>\n",
       "      <td>0</td>\n",
       "      <td>3</td>\n",
       "      <td>male</td>\n",
       "      <td>22.0</td>\n",
       "      <td>1</td>\n",
       "      <td>0</td>\n",
       "      <td>7.2500</td>\n",
       "      <td>S</td>\n",
       "      <td>Third</td>\n",
       "      <td>man</td>\n",
       "      <td>True</td>\n",
       "      <td>Southampton</td>\n",
       "      <td>no</td>\n",
       "      <td>False</td>\n",
       "    </tr>\n",
       "    <tr>\n",
       "      <th>1</th>\n",
       "      <td>1</td>\n",
       "      <td>1</td>\n",
       "      <td>female</td>\n",
       "      <td>38.0</td>\n",
       "      <td>1</td>\n",
       "      <td>0</td>\n",
       "      <td>71.2833</td>\n",
       "      <td>C</td>\n",
       "      <td>First</td>\n",
       "      <td>woman</td>\n",
       "      <td>False</td>\n",
       "      <td>Cherbourg</td>\n",
       "      <td>yes</td>\n",
       "      <td>False</td>\n",
       "    </tr>\n",
       "    <tr>\n",
       "      <th>2</th>\n",
       "      <td>1</td>\n",
       "      <td>3</td>\n",
       "      <td>female</td>\n",
       "      <td>26.0</td>\n",
       "      <td>0</td>\n",
       "      <td>0</td>\n",
       "      <td>7.9250</td>\n",
       "      <td>S</td>\n",
       "      <td>Third</td>\n",
       "      <td>woman</td>\n",
       "      <td>False</td>\n",
       "      <td>Southampton</td>\n",
       "      <td>yes</td>\n",
       "      <td>True</td>\n",
       "    </tr>\n",
       "    <tr>\n",
       "      <th>3</th>\n",
       "      <td>1</td>\n",
       "      <td>1</td>\n",
       "      <td>female</td>\n",
       "      <td>35.0</td>\n",
       "      <td>1</td>\n",
       "      <td>0</td>\n",
       "      <td>53.1000</td>\n",
       "      <td>S</td>\n",
       "      <td>First</td>\n",
       "      <td>woman</td>\n",
       "      <td>False</td>\n",
       "      <td>Southampton</td>\n",
       "      <td>yes</td>\n",
       "      <td>False</td>\n",
       "    </tr>\n",
       "    <tr>\n",
       "      <th>4</th>\n",
       "      <td>0</td>\n",
       "      <td>3</td>\n",
       "      <td>male</td>\n",
       "      <td>35.0</td>\n",
       "      <td>0</td>\n",
       "      <td>0</td>\n",
       "      <td>8.0500</td>\n",
       "      <td>S</td>\n",
       "      <td>Third</td>\n",
       "      <td>man</td>\n",
       "      <td>True</td>\n",
       "      <td>Southampton</td>\n",
       "      <td>no</td>\n",
       "      <td>True</td>\n",
       "    </tr>\n",
       "    <tr>\n",
       "      <th>5</th>\n",
       "      <td>0</td>\n",
       "      <td>3</td>\n",
       "      <td>male</td>\n",
       "      <td>NaN</td>\n",
       "      <td>0</td>\n",
       "      <td>0</td>\n",
       "      <td>8.4583</td>\n",
       "      <td>Q</td>\n",
       "      <td>Third</td>\n",
       "      <td>man</td>\n",
       "      <td>True</td>\n",
       "      <td>Queenstown</td>\n",
       "      <td>no</td>\n",
       "      <td>True</td>\n",
       "    </tr>\n",
       "  </tbody>\n",
       "</table>\n",
       "</div>"
      ],
      "text/plain": [
       "  survived pclass     sex   age  sibsp  parch     fare embarked  class    who  \\\n",
       "0        0      3    male  22.0      1      0   7.2500        S  Third    man   \n",
       "1        1      1  female  38.0      1      0  71.2833        C  First  woman   \n",
       "2        1      3  female  26.0      0      0   7.9250        S  Third  woman   \n",
       "3        1      1  female  35.0      1      0  53.1000        S  First  woman   \n",
       "4        0      3    male  35.0      0      0   8.0500        S  Third    man   \n",
       "5        0      3    male   NaN      0      0   8.4583        Q  Third    man   \n",
       "\n",
       "   adult_male  embark_town alive  alone  \n",
       "0        True  Southampton    no  False  \n",
       "1       False    Cherbourg   yes  False  \n",
       "2       False  Southampton   yes   True  \n",
       "3       False  Southampton   yes  False  \n",
       "4        True  Southampton    no   True  \n",
       "5        True   Queenstown    no   True  "
      ]
     },
     "execution_count": 61,
     "metadata": {},
     "output_type": "execute_result"
    }
   ],
   "source": [
    "titanic_df.head(6)"
   ]
  },
  {
   "cell_type": "code",
   "execution_count": 62,
   "id": "768aad11",
   "metadata": {},
   "outputs": [],
   "source": [
    "titanic_df['age']=titanic_df['age'].astype('float64')"
   ]
  },
  {
   "cell_type": "code",
   "execution_count": 63,
   "id": "1902307a",
   "metadata": {},
   "outputs": [
    {
     "name": "stdout",
     "output_type": "stream",
     "text": [
      "<class 'pandas.core.frame.DataFrame'>\n",
      "RangeIndex: 891 entries, 0 to 890\n",
      "Data columns (total 14 columns):\n",
      " #   Column       Non-Null Count  Dtype   \n",
      "---  ------       --------------  -----   \n",
      " 0   survived     891 non-null    object  \n",
      " 1   pclass       891 non-null    object  \n",
      " 2   sex          891 non-null    object  \n",
      " 3   age          714 non-null    float64 \n",
      " 4   sibsp        891 non-null    int64   \n",
      " 5   parch        891 non-null    int64   \n",
      " 6   fare         891 non-null    float64 \n",
      " 7   embarked     891 non-null    object  \n",
      " 8   class        891 non-null    category\n",
      " 9   who          891 non-null    object  \n",
      " 10  adult_male   891 non-null    bool    \n",
      " 11  embark_town  891 non-null    object  \n",
      " 12  alive        891 non-null    object  \n",
      " 13  alone        891 non-null    bool    \n",
      "dtypes: bool(2), category(1), float64(2), int64(2), object(7)\n",
      "memory usage: 79.4+ KB\n"
     ]
    }
   ],
   "source": [
    "titanic_df.info()"
   ]
  },
  {
   "cell_type": "code",
   "execution_count": 64,
   "id": "a6d68fee",
   "metadata": {},
   "outputs": [
    {
     "data": {
      "text/plain": [
       "28.0"
      ]
     },
     "execution_count": 64,
     "metadata": {},
     "output_type": "execute_result"
    }
   ],
   "source": [
    "titanic_df['age'].median()"
   ]
  },
  {
   "cell_type": "code",
   "execution_count": 65,
   "id": "bd33240c",
   "metadata": {},
   "outputs": [],
   "source": [
    "titanic_df['age'].fillna(titanic_df['age'].median(), inplace=True)\n",
    "# train_data[\"Age\"].fillna(train_df[\"Age\"].median(skipna=True), inplace=True)"
   ]
  },
  {
   "cell_type": "code",
   "execution_count": 66,
   "id": "5833f0a9",
   "metadata": {},
   "outputs": [
    {
     "data": {
      "text/plain": [
       "0    22.0\n",
       "1    38.0\n",
       "2    26.0\n",
       "3    35.0\n",
       "4    35.0\n",
       "5    28.0\n",
       "6    54.0\n",
       "7     2.0\n",
       "8    27.0\n",
       "9    14.0\n",
       "Name: age, dtype: float64"
      ]
     },
     "execution_count": 66,
     "metadata": {},
     "output_type": "execute_result"
    }
   ],
   "source": [
    "titanic_df['age'].head(10)"
   ]
  },
  {
   "cell_type": "code",
   "execution_count": 67,
   "id": "0ec778aa",
   "metadata": {},
   "outputs": [
    {
     "name": "stdout",
     "output_type": "stream",
     "text": [
      "<class 'pandas.core.frame.DataFrame'>\n",
      "RangeIndex: 891 entries, 0 to 890\n",
      "Data columns (total 14 columns):\n",
      " #   Column       Non-Null Count  Dtype   \n",
      "---  ------       --------------  -----   \n",
      " 0   survived     891 non-null    object  \n",
      " 1   pclass       891 non-null    object  \n",
      " 2   sex          891 non-null    object  \n",
      " 3   age          891 non-null    float64 \n",
      " 4   sibsp        891 non-null    int64   \n",
      " 5   parch        891 non-null    int64   \n",
      " 6   fare         891 non-null    float64 \n",
      " 7   embarked     891 non-null    object  \n",
      " 8   class        891 non-null    category\n",
      " 9   who          891 non-null    object  \n",
      " 10  adult_male   891 non-null    bool    \n",
      " 11  embark_town  891 non-null    object  \n",
      " 12  alive        891 non-null    object  \n",
      " 13  alone        891 non-null    bool    \n",
      "dtypes: bool(2), category(1), float64(2), int64(2), object(7)\n",
      "memory usage: 79.4+ KB\n"
     ]
    }
   ],
   "source": [
    "titanic_df.info()"
   ]
  },
  {
   "cell_type": "code",
   "execution_count": 68,
   "id": "20994d48",
   "metadata": {
    "scrolled": true
   },
   "outputs": [
    {
     "data": {
      "text/html": [
       "<div>\n",
       "<style scoped>\n",
       "    .dataframe tbody tr th:only-of-type {\n",
       "        vertical-align: middle;\n",
       "    }\n",
       "\n",
       "    .dataframe tbody tr th {\n",
       "        vertical-align: top;\n",
       "    }\n",
       "\n",
       "    .dataframe thead tr th {\n",
       "        text-align: left;\n",
       "    }\n",
       "\n",
       "    .dataframe thead tr:last-of-type th {\n",
       "        text-align: right;\n",
       "    }\n",
       "</style>\n",
       "<table border=\"1\" class=\"dataframe\">\n",
       "  <thead>\n",
       "    <tr>\n",
       "      <th></th>\n",
       "      <th colspan=\"2\" halign=\"left\">age</th>\n",
       "    </tr>\n",
       "    <tr>\n",
       "      <th></th>\n",
       "      <th>min</th>\n",
       "      <th>max</th>\n",
       "    </tr>\n",
       "    <tr>\n",
       "      <th>who</th>\n",
       "      <th></th>\n",
       "      <th></th>\n",
       "    </tr>\n",
       "  </thead>\n",
       "  <tbody>\n",
       "    <tr>\n",
       "      <th>child</th>\n",
       "      <td>0.42</td>\n",
       "      <td>15.0</td>\n",
       "    </tr>\n",
       "    <tr>\n",
       "      <th>man</th>\n",
       "      <td>16.00</td>\n",
       "      <td>80.0</td>\n",
       "    </tr>\n",
       "    <tr>\n",
       "      <th>woman</th>\n",
       "      <td>16.00</td>\n",
       "      <td>63.0</td>\n",
       "    </tr>\n",
       "  </tbody>\n",
       "</table>\n",
       "</div>"
      ],
      "text/plain": [
       "         age      \n",
       "         min   max\n",
       "who               \n",
       "child   0.42  15.0\n",
       "man    16.00  80.0\n",
       "woman  16.00  63.0"
      ]
     },
     "execution_count": 68,
     "metadata": {},
     "output_type": "execute_result"
    }
   ],
   "source": [
    "titanic_df.groupby(['who']).agg({'age':['min','max']})"
   ]
  },
  {
   "cell_type": "code",
   "execution_count": 69,
   "id": "7e7a6edc",
   "metadata": {},
   "outputs": [
    {
     "data": {
      "text/plain": [
       "survived       0\n",
       "pclass         0\n",
       "sex            0\n",
       "age            0\n",
       "sibsp          0\n",
       "parch          0\n",
       "fare           0\n",
       "embarked       0\n",
       "class          0\n",
       "who            0\n",
       "adult_male     0\n",
       "embark_town    0\n",
       "alive          0\n",
       "alone          0\n",
       "dtype: int64"
      ]
     },
     "execution_count": 69,
     "metadata": {},
     "output_type": "execute_result"
    }
   ],
   "source": [
    "titanic_df.isnull().sum()"
   ]
  },
  {
   "cell_type": "markdown",
   "id": "6531bb26",
   "metadata": {},
   "source": [
    "# Now all the data is cleaned. No missing data"
   ]
  },
  {
   "cell_type": "markdown",
   "id": "63a2f8cf",
   "metadata": {},
   "source": [
    "# create a new column called modified_age(just for practice)\n",
    "\n",
    "Steps:\n",
    "    1. create a function or logic \n",
    "    2. use the apply function and store it in new variable."
   ]
  },
  {
   "cell_type": "code",
   "execution_count": 70,
   "id": "22bcf865",
   "metadata": {},
   "outputs": [],
   "source": [
    "def mod_age(age):\n",
    "    if(age<30):\n",
    "        age=age+2\n",
    "    else:\n",
    "        age=age-2\n",
    "    return age"
   ]
  },
  {
   "cell_type": "code",
   "execution_count": 71,
   "id": "5d14a8c3",
   "metadata": {},
   "outputs": [],
   "source": [
    "titanic_df['modified_age'] = titanic_df['age'].apply(mod_age)"
   ]
  },
  {
   "cell_type": "code",
   "execution_count": 72,
   "id": "c7260f12",
   "metadata": {},
   "outputs": [
    {
     "data": {
      "text/html": [
       "<div>\n",
       "<style scoped>\n",
       "    .dataframe tbody tr th:only-of-type {\n",
       "        vertical-align: middle;\n",
       "    }\n",
       "\n",
       "    .dataframe tbody tr th {\n",
       "        vertical-align: top;\n",
       "    }\n",
       "\n",
       "    .dataframe thead th {\n",
       "        text-align: right;\n",
       "    }\n",
       "</style>\n",
       "<table border=\"1\" class=\"dataframe\">\n",
       "  <thead>\n",
       "    <tr style=\"text-align: right;\">\n",
       "      <th></th>\n",
       "      <th>survived</th>\n",
       "      <th>pclass</th>\n",
       "      <th>sex</th>\n",
       "      <th>age</th>\n",
       "      <th>sibsp</th>\n",
       "      <th>parch</th>\n",
       "      <th>fare</th>\n",
       "      <th>embarked</th>\n",
       "      <th>class</th>\n",
       "      <th>who</th>\n",
       "      <th>adult_male</th>\n",
       "      <th>embark_town</th>\n",
       "      <th>alive</th>\n",
       "      <th>alone</th>\n",
       "      <th>modified_age</th>\n",
       "    </tr>\n",
       "  </thead>\n",
       "  <tbody>\n",
       "    <tr>\n",
       "      <th>0</th>\n",
       "      <td>0</td>\n",
       "      <td>3</td>\n",
       "      <td>male</td>\n",
       "      <td>22.0</td>\n",
       "      <td>1</td>\n",
       "      <td>0</td>\n",
       "      <td>7.2500</td>\n",
       "      <td>S</td>\n",
       "      <td>Third</td>\n",
       "      <td>man</td>\n",
       "      <td>True</td>\n",
       "      <td>Southampton</td>\n",
       "      <td>no</td>\n",
       "      <td>False</td>\n",
       "      <td>24.0</td>\n",
       "    </tr>\n",
       "    <tr>\n",
       "      <th>1</th>\n",
       "      <td>1</td>\n",
       "      <td>1</td>\n",
       "      <td>female</td>\n",
       "      <td>38.0</td>\n",
       "      <td>1</td>\n",
       "      <td>0</td>\n",
       "      <td>71.2833</td>\n",
       "      <td>C</td>\n",
       "      <td>First</td>\n",
       "      <td>woman</td>\n",
       "      <td>False</td>\n",
       "      <td>Cherbourg</td>\n",
       "      <td>yes</td>\n",
       "      <td>False</td>\n",
       "      <td>36.0</td>\n",
       "    </tr>\n",
       "    <tr>\n",
       "      <th>2</th>\n",
       "      <td>1</td>\n",
       "      <td>3</td>\n",
       "      <td>female</td>\n",
       "      <td>26.0</td>\n",
       "      <td>0</td>\n",
       "      <td>0</td>\n",
       "      <td>7.9250</td>\n",
       "      <td>S</td>\n",
       "      <td>Third</td>\n",
       "      <td>woman</td>\n",
       "      <td>False</td>\n",
       "      <td>Southampton</td>\n",
       "      <td>yes</td>\n",
       "      <td>True</td>\n",
       "      <td>28.0</td>\n",
       "    </tr>\n",
       "    <tr>\n",
       "      <th>3</th>\n",
       "      <td>1</td>\n",
       "      <td>1</td>\n",
       "      <td>female</td>\n",
       "      <td>35.0</td>\n",
       "      <td>1</td>\n",
       "      <td>0</td>\n",
       "      <td>53.1000</td>\n",
       "      <td>S</td>\n",
       "      <td>First</td>\n",
       "      <td>woman</td>\n",
       "      <td>False</td>\n",
       "      <td>Southampton</td>\n",
       "      <td>yes</td>\n",
       "      <td>False</td>\n",
       "      <td>33.0</td>\n",
       "    </tr>\n",
       "    <tr>\n",
       "      <th>4</th>\n",
       "      <td>0</td>\n",
       "      <td>3</td>\n",
       "      <td>male</td>\n",
       "      <td>35.0</td>\n",
       "      <td>0</td>\n",
       "      <td>0</td>\n",
       "      <td>8.0500</td>\n",
       "      <td>S</td>\n",
       "      <td>Third</td>\n",
       "      <td>man</td>\n",
       "      <td>True</td>\n",
       "      <td>Southampton</td>\n",
       "      <td>no</td>\n",
       "      <td>True</td>\n",
       "      <td>33.0</td>\n",
       "    </tr>\n",
       "    <tr>\n",
       "      <th>5</th>\n",
       "      <td>0</td>\n",
       "      <td>3</td>\n",
       "      <td>male</td>\n",
       "      <td>28.0</td>\n",
       "      <td>0</td>\n",
       "      <td>0</td>\n",
       "      <td>8.4583</td>\n",
       "      <td>Q</td>\n",
       "      <td>Third</td>\n",
       "      <td>man</td>\n",
       "      <td>True</td>\n",
       "      <td>Queenstown</td>\n",
       "      <td>no</td>\n",
       "      <td>True</td>\n",
       "      <td>30.0</td>\n",
       "    </tr>\n",
       "    <tr>\n",
       "      <th>6</th>\n",
       "      <td>0</td>\n",
       "      <td>1</td>\n",
       "      <td>male</td>\n",
       "      <td>54.0</td>\n",
       "      <td>0</td>\n",
       "      <td>0</td>\n",
       "      <td>51.8625</td>\n",
       "      <td>S</td>\n",
       "      <td>First</td>\n",
       "      <td>man</td>\n",
       "      <td>True</td>\n",
       "      <td>Southampton</td>\n",
       "      <td>no</td>\n",
       "      <td>True</td>\n",
       "      <td>52.0</td>\n",
       "    </tr>\n",
       "    <tr>\n",
       "      <th>7</th>\n",
       "      <td>0</td>\n",
       "      <td>3</td>\n",
       "      <td>male</td>\n",
       "      <td>2.0</td>\n",
       "      <td>3</td>\n",
       "      <td>1</td>\n",
       "      <td>21.0750</td>\n",
       "      <td>S</td>\n",
       "      <td>Third</td>\n",
       "      <td>child</td>\n",
       "      <td>False</td>\n",
       "      <td>Southampton</td>\n",
       "      <td>no</td>\n",
       "      <td>False</td>\n",
       "      <td>4.0</td>\n",
       "    </tr>\n",
       "    <tr>\n",
       "      <th>8</th>\n",
       "      <td>1</td>\n",
       "      <td>3</td>\n",
       "      <td>female</td>\n",
       "      <td>27.0</td>\n",
       "      <td>0</td>\n",
       "      <td>2</td>\n",
       "      <td>11.1333</td>\n",
       "      <td>S</td>\n",
       "      <td>Third</td>\n",
       "      <td>woman</td>\n",
       "      <td>False</td>\n",
       "      <td>Southampton</td>\n",
       "      <td>yes</td>\n",
       "      <td>False</td>\n",
       "      <td>29.0</td>\n",
       "    </tr>\n",
       "    <tr>\n",
       "      <th>9</th>\n",
       "      <td>1</td>\n",
       "      <td>2</td>\n",
       "      <td>female</td>\n",
       "      <td>14.0</td>\n",
       "      <td>1</td>\n",
       "      <td>0</td>\n",
       "      <td>30.0708</td>\n",
       "      <td>C</td>\n",
       "      <td>Second</td>\n",
       "      <td>child</td>\n",
       "      <td>False</td>\n",
       "      <td>Cherbourg</td>\n",
       "      <td>yes</td>\n",
       "      <td>False</td>\n",
       "      <td>16.0</td>\n",
       "    </tr>\n",
       "  </tbody>\n",
       "</table>\n",
       "</div>"
      ],
      "text/plain": [
       "  survived pclass     sex   age  sibsp  parch     fare embarked   class  \\\n",
       "0        0      3    male  22.0      1      0   7.2500        S   Third   \n",
       "1        1      1  female  38.0      1      0  71.2833        C   First   \n",
       "2        1      3  female  26.0      0      0   7.9250        S   Third   \n",
       "3        1      1  female  35.0      1      0  53.1000        S   First   \n",
       "4        0      3    male  35.0      0      0   8.0500        S   Third   \n",
       "5        0      3    male  28.0      0      0   8.4583        Q   Third   \n",
       "6        0      1    male  54.0      0      0  51.8625        S   First   \n",
       "7        0      3    male   2.0      3      1  21.0750        S   Third   \n",
       "8        1      3  female  27.0      0      2  11.1333        S   Third   \n",
       "9        1      2  female  14.0      1      0  30.0708        C  Second   \n",
       "\n",
       "     who  adult_male  embark_town alive  alone  modified_age  \n",
       "0    man        True  Southampton    no  False          24.0  \n",
       "1  woman       False    Cherbourg   yes  False          36.0  \n",
       "2  woman       False  Southampton   yes   True          28.0  \n",
       "3  woman       False  Southampton   yes  False          33.0  \n",
       "4    man        True  Southampton    no   True          33.0  \n",
       "5    man        True   Queenstown    no   True          30.0  \n",
       "6    man        True  Southampton    no   True          52.0  \n",
       "7  child       False  Southampton    no  False           4.0  \n",
       "8  woman       False  Southampton   yes  False          29.0  \n",
       "9  child       False    Cherbourg   yes  False          16.0  "
      ]
     },
     "execution_count": 72,
     "metadata": {},
     "output_type": "execute_result"
    }
   ],
   "source": [
    "titanic_df.head(10)"
   ]
  },
  {
   "cell_type": "code",
   "execution_count": 73,
   "id": "0f1f08c2",
   "metadata": {},
   "outputs": [
    {
     "data": {
      "text/html": [
       "<div>\n",
       "<style scoped>\n",
       "    .dataframe tbody tr th:only-of-type {\n",
       "        vertical-align: middle;\n",
       "    }\n",
       "\n",
       "    .dataframe tbody tr th {\n",
       "        vertical-align: top;\n",
       "    }\n",
       "\n",
       "    .dataframe thead th {\n",
       "        text-align: right;\n",
       "    }\n",
       "</style>\n",
       "<table border=\"1\" class=\"dataframe\">\n",
       "  <thead>\n",
       "    <tr style=\"text-align: right;\">\n",
       "      <th></th>\n",
       "      <th>age</th>\n",
       "      <th>modified_age</th>\n",
       "    </tr>\n",
       "  </thead>\n",
       "  <tbody>\n",
       "    <tr>\n",
       "      <th>0</th>\n",
       "      <td>22.0</td>\n",
       "      <td>24.0</td>\n",
       "    </tr>\n",
       "    <tr>\n",
       "      <th>1</th>\n",
       "      <td>38.0</td>\n",
       "      <td>36.0</td>\n",
       "    </tr>\n",
       "    <tr>\n",
       "      <th>2</th>\n",
       "      <td>26.0</td>\n",
       "      <td>28.0</td>\n",
       "    </tr>\n",
       "    <tr>\n",
       "      <th>3</th>\n",
       "      <td>35.0</td>\n",
       "      <td>33.0</td>\n",
       "    </tr>\n",
       "    <tr>\n",
       "      <th>4</th>\n",
       "      <td>35.0</td>\n",
       "      <td>33.0</td>\n",
       "    </tr>\n",
       "    <tr>\n",
       "      <th>...</th>\n",
       "      <td>...</td>\n",
       "      <td>...</td>\n",
       "    </tr>\n",
       "    <tr>\n",
       "      <th>886</th>\n",
       "      <td>27.0</td>\n",
       "      <td>29.0</td>\n",
       "    </tr>\n",
       "    <tr>\n",
       "      <th>887</th>\n",
       "      <td>19.0</td>\n",
       "      <td>21.0</td>\n",
       "    </tr>\n",
       "    <tr>\n",
       "      <th>888</th>\n",
       "      <td>28.0</td>\n",
       "      <td>30.0</td>\n",
       "    </tr>\n",
       "    <tr>\n",
       "      <th>889</th>\n",
       "      <td>26.0</td>\n",
       "      <td>28.0</td>\n",
       "    </tr>\n",
       "    <tr>\n",
       "      <th>890</th>\n",
       "      <td>32.0</td>\n",
       "      <td>30.0</td>\n",
       "    </tr>\n",
       "  </tbody>\n",
       "</table>\n",
       "<p>891 rows × 2 columns</p>\n",
       "</div>"
      ],
      "text/plain": [
       "      age  modified_age\n",
       "0    22.0          24.0\n",
       "1    38.0          36.0\n",
       "2    26.0          28.0\n",
       "3    35.0          33.0\n",
       "4    35.0          33.0\n",
       "..    ...           ...\n",
       "886  27.0          29.0\n",
       "887  19.0          21.0\n",
       "888  28.0          30.0\n",
       "889  26.0          28.0\n",
       "890  32.0          30.0\n",
       "\n",
       "[891 rows x 2 columns]"
      ]
     },
     "execution_count": 73,
     "metadata": {},
     "output_type": "execute_result"
    }
   ],
   "source": [
    "titanic_df[['age','modified_age']]"
   ]
  },
  {
   "cell_type": "code",
   "execution_count": 74,
   "id": "6e1845f1",
   "metadata": {},
   "outputs": [
    {
     "data": {
      "text/plain": [
       "male      577\n",
       "female    314\n",
       "Name: sex, dtype: int64"
      ]
     },
     "execution_count": 74,
     "metadata": {},
     "output_type": "execute_result"
    }
   ],
   "source": [
    "titanic_df['sex'].value_counts()"
   ]
  },
  {
   "cell_type": "code",
   "execution_count": 75,
   "id": "dabf17fb",
   "metadata": {},
   "outputs": [
    {
     "data": {
      "text/plain": [
       "sex\n",
       "female    AxesSubplot(0.125,0.125;0.775x0.755)\n",
       "male      AxesSubplot(0.125,0.125;0.775x0.755)\n",
       "Name: survived, dtype: object"
      ]
     },
     "execution_count": 75,
     "metadata": {},
     "output_type": "execute_result"
    },
    {
     "data": {
      "image/png": "[encoded data removed]",
      "text/plain": [
       "<Figure size 432x288 with 1 Axes>"
      ]
     },
     "metadata": {
      "needs_background": "light"
     },
     "output_type": "display_data"
    }
   ],
   "source": [
    "titanic_df.groupby(['sex'])['survived'].plot(kind='bar')"
   ]
  },
  {
   "cell_type": "code",
   "execution_count": 76,
   "id": "0137349b",
   "metadata": {},
   "outputs": [
    {
     "data": {
      "text/plain": [
       "<AxesSubplot:xlabel='sex'>"
      ]
     },
     "execution_count": 76,
     "metadata": {},
     "output_type": "execute_result"
    },
    {
     "data": {
      "image/png": "[encoded data removed]",
      "text/plain": [
       "<Figure size 432x288 with 1 Axes>"
      ]
     },
     "metadata": {
      "needs_background": "light"
     },
     "output_type": "display_data"
    }
   ],
   "source": [
    "titanic_df.groupby(['sex'])['survived'].mean().plot(kind='bar')"
   ]
  },
  {
   "cell_type": "code",
   "execution_count": 77,
   "id": "cdd73ea0",
   "metadata": {},
   "outputs": [
    {
     "data": {
      "text/plain": [
       "<AxesSubplot:xlabel='pclass'>"
      ]
     },
     "execution_count": 77,
     "metadata": {},
     "output_type": "execute_result"
    },
    {
     "data": {
      "image/png": "[encoded data removed]",
      "text/plain": [
       "<Figure size 432x288 with 1 Axes>"
      ]
     },
     "metadata": {
      "needs_background": "light"
     },
     "output_type": "display_data"
    }
   ],
   "source": [
    "titanic_df.groupby(['pclass'])['survived'].mean().plot(kind='bar')"
   ]
  },
  {
   "cell_type": "markdown",
   "id": "898200dd",
   "metadata": {},
   "source": [
    "# TRANSFORMATION\n",
    "--> outlier treatment"
   ]
  },
  {
   "cell_type": "code",
   "execution_count": null,
   "id": "051ee25b",
   "metadata": {},
   "outputs": [],
   "source": []
  },
  {
   "cell_type": "raw",
   "id": "c41a7525",
   "metadata": {},
   "source": [
    "qcut --> quantile cut --> numeric variables (continous)\n",
    "# converting numeric variable into continous so that we can do Logistic regression"
   ]
  },
  {
   "cell_type": "code",
   "execution_count": 78,
   "id": "c6e73ab5",
   "metadata": {},
   "outputs": [],
   "source": [
    "x=pd.qcut(x=titanic_df['fare'],q=5)"
   ]
  },
  {
   "cell_type": "code",
   "execution_count": 79,
   "id": "c6b92531",
   "metadata": {},
   "outputs": [
    {
     "data": {
      "text/plain": [
       "(7.854, 10.5]        184\n",
       "(21.679, 39.688]     180\n",
       "(-0.001, 7.854]      179\n",
       "(39.688, 512.329]    176\n",
       "(10.5, 21.679]       172\n",
       "Name: fare, dtype: int64"
      ]
     },
     "execution_count": 79,
     "metadata": {},
     "output_type": "execute_result"
    }
   ],
   "source": [
    "x.value_counts()"
   ]
  },
  {
   "cell_type": "code",
   "execution_count": 80,
   "id": "eadd4eec",
   "metadata": {},
   "outputs": [
    {
     "data": {
      "text/plain": [
       "0.0"
      ]
     },
     "execution_count": 80,
     "metadata": {},
     "output_type": "execute_result"
    }
   ],
   "source": [
    "titanic_df['fare'].min()"
   ]
  },
  {
   "cell_type": "code",
   "execution_count": 81,
   "id": "0acd9356",
   "metadata": {},
   "outputs": [
    {
     "data": {
      "text/plain": [
       "512.3292"
      ]
     },
     "execution_count": 81,
     "metadata": {},
     "output_type": "execute_result"
    }
   ],
   "source": [
    "titanic_df['fare'].max()"
   ]
  },
  {
   "cell_type": "code",
   "execution_count": 82,
   "id": "142277c1",
   "metadata": {},
   "outputs": [],
   "source": [
    "titanic_df['fare_bins']=pd.qcut(x=titanic_df['fare'],q=5)"
   ]
  },
  {
   "cell_type": "code",
   "execution_count": 83,
   "id": "e4f42c13",
   "metadata": {},
   "outputs": [
    {
     "data": {
      "text/html": [
       "<div>\n",
       "<style scoped>\n",
       "    .dataframe tbody tr th:only-of-type {\n",
       "        vertical-align: middle;\n",
       "    }\n",
       "\n",
       "    .dataframe tbody tr th {\n",
       "        vertical-align: top;\n",
       "    }\n",
       "\n",
       "    .dataframe thead th {\n",
       "        text-align: right;\n",
       "    }\n",
       "</style>\n",
       "<table border=\"1\" class=\"dataframe\">\n",
       "  <thead>\n",
       "    <tr style=\"text-align: right;\">\n",
       "      <th></th>\n",
       "      <th>survived</th>\n",
       "      <th>pclass</th>\n",
       "      <th>sex</th>\n",
       "      <th>age</th>\n",
       "      <th>sibsp</th>\n",
       "      <th>parch</th>\n",
       "      <th>fare</th>\n",
       "      <th>embarked</th>\n",
       "      <th>class</th>\n",
       "      <th>who</th>\n",
       "      <th>adult_male</th>\n",
       "      <th>embark_town</th>\n",
       "      <th>alive</th>\n",
       "      <th>alone</th>\n",
       "      <th>modified_age</th>\n",
       "      <th>fare_bins</th>\n",
       "    </tr>\n",
       "  </thead>\n",
       "  <tbody>\n",
       "    <tr>\n",
       "      <th>0</th>\n",
       "      <td>0</td>\n",
       "      <td>3</td>\n",
       "      <td>male</td>\n",
       "      <td>22.0</td>\n",
       "      <td>1</td>\n",
       "      <td>0</td>\n",
       "      <td>7.2500</td>\n",
       "      <td>S</td>\n",
       "      <td>Third</td>\n",
       "      <td>man</td>\n",
       "      <td>True</td>\n",
       "      <td>Southampton</td>\n",
       "      <td>no</td>\n",
       "      <td>False</td>\n",
       "      <td>24.0</td>\n",
       "      <td>(-0.001, 7.854]</td>\n",
       "    </tr>\n",
       "    <tr>\n",
       "      <th>1</th>\n",
       "      <td>1</td>\n",
       "      <td>1</td>\n",
       "      <td>female</td>\n",
       "      <td>38.0</td>\n",
       "      <td>1</td>\n",
       "      <td>0</td>\n",
       "      <td>71.2833</td>\n",
       "      <td>C</td>\n",
       "      <td>First</td>\n",
       "      <td>woman</td>\n",
       "      <td>False</td>\n",
       "      <td>Cherbourg</td>\n",
       "      <td>yes</td>\n",
       "      <td>False</td>\n",
       "      <td>36.0</td>\n",
       "      <td>(39.688, 512.329]</td>\n",
       "    </tr>\n",
       "    <tr>\n",
       "      <th>2</th>\n",
       "      <td>1</td>\n",
       "      <td>3</td>\n",
       "      <td>female</td>\n",
       "      <td>26.0</td>\n",
       "      <td>0</td>\n",
       "      <td>0</td>\n",
       "      <td>7.9250</td>\n",
       "      <td>S</td>\n",
       "      <td>Third</td>\n",
       "      <td>woman</td>\n",
       "      <td>False</td>\n",
       "      <td>Southampton</td>\n",
       "      <td>yes</td>\n",
       "      <td>True</td>\n",
       "      <td>28.0</td>\n",
       "      <td>(7.854, 10.5]</td>\n",
       "    </tr>\n",
       "    <tr>\n",
       "      <th>3</th>\n",
       "      <td>1</td>\n",
       "      <td>1</td>\n",
       "      <td>female</td>\n",
       "      <td>35.0</td>\n",
       "      <td>1</td>\n",
       "      <td>0</td>\n",
       "      <td>53.1000</td>\n",
       "      <td>S</td>\n",
       "      <td>First</td>\n",
       "      <td>woman</td>\n",
       "      <td>False</td>\n",
       "      <td>Southampton</td>\n",
       "      <td>yes</td>\n",
       "      <td>False</td>\n",
       "      <td>33.0</td>\n",
       "      <td>(39.688, 512.329]</td>\n",
       "    </tr>\n",
       "    <tr>\n",
       "      <th>4</th>\n",
       "      <td>0</td>\n",
       "      <td>3</td>\n",
       "      <td>male</td>\n",
       "      <td>35.0</td>\n",
       "      <td>0</td>\n",
       "      <td>0</td>\n",
       "      <td>8.0500</td>\n",
       "      <td>S</td>\n",
       "      <td>Third</td>\n",
       "      <td>man</td>\n",
       "      <td>True</td>\n",
       "      <td>Southampton</td>\n",
       "      <td>no</td>\n",
       "      <td>True</td>\n",
       "      <td>33.0</td>\n",
       "      <td>(7.854, 10.5]</td>\n",
       "    </tr>\n",
       "  </tbody>\n",
       "</table>\n",
       "</div>"
      ],
      "text/plain": [
       "  survived pclass     sex   age  sibsp  parch     fare embarked  class    who  \\\n",
       "0        0      3    male  22.0      1      0   7.2500        S  Third    man   \n",
       "1        1      1  female  38.0      1      0  71.2833        C  First  woman   \n",
       "2        1      3  female  26.0      0      0   7.9250        S  Third  woman   \n",
       "3        1      1  female  35.0      1      0  53.1000        S  First  woman   \n",
       "4        0      3    male  35.0      0      0   8.0500        S  Third    man   \n",
       "\n",
       "   adult_male  embark_town alive  alone  modified_age          fare_bins  \n",
       "0        True  Southampton    no  False          24.0    (-0.001, 7.854]  \n",
       "1       False    Cherbourg   yes  False          36.0  (39.688, 512.329]  \n",
       "2       False  Southampton   yes   True          28.0      (7.854, 10.5]  \n",
       "3       False  Southampton   yes  False          33.0  (39.688, 512.329]  \n",
       "4        True  Southampton    no   True          33.0      (7.854, 10.5]  "
      ]
     },
     "execution_count": 83,
     "metadata": {},
     "output_type": "execute_result"
    }
   ],
   "source": [
    "titanic_df.head()"
   ]
  },
  {
   "cell_type": "code",
   "execution_count": 84,
   "id": "4db73628",
   "metadata": {},
   "outputs": [
    {
     "data": {
      "text/plain": [
       "<AxesSubplot:xlabel='fare'>"
      ]
     },
     "execution_count": 84,
     "metadata": {},
     "output_type": "execute_result"
    },
    {
     "data": {
      "image/png": "[encoded data removed]",
      "text/plain": [
       "<Figure size 432x288 with 1 Axes>"
      ]
     },
     "metadata": {
      "needs_background": "light"
     },
     "output_type": "display_data"
    }
   ],
   "source": [
    "titanic_df.groupby(['fare'])['survived'].mean().plot(kind='bar')"
   ]
  },
  {
   "cell_type": "code",
   "execution_count": 85,
   "id": "9592303a",
   "metadata": {},
   "outputs": [
    {
     "data": {
      "text/plain": [
       "<AxesSubplot:xlabel='fare,survived'>"
      ]
     },
     "execution_count": 85,
     "metadata": {},
     "output_type": "execute_result"
    },
    {
     "data": {
      "image/png": "[encoded data removed]",
      "text/plain": [
       "<Figure size 432x288 with 1 Axes>"
      ]
     },
     "metadata": {
      "needs_background": "light"
     },
     "output_type": "display_data"
    }
   ],
   "source": [
    "titanic_df.groupby(['fare'])['survived'].value_counts().plot(kind='bar')"
   ]
  },
  {
   "cell_type": "code",
   "execution_count": 86,
   "id": "e5f7212c",
   "metadata": {},
   "outputs": [
    {
     "data": {
      "text/plain": [
       "<AxesSubplot:xlabel='fare'>"
      ]
     },
     "execution_count": 86,
     "metadata": {},
     "output_type": "execute_result"
    },
    {
     "data": {
      "image/png": "[encoded data removed]",
      "text/plain": [
       "<Figure size 432x288 with 1 Axes>"
      ]
     },
     "metadata": {
      "needs_background": "light"
     },
     "output_type": "display_data"
    }
   ],
   "source": [
    "titanic_df.groupby(['fare'])['survived'].count().plot(kind='bar')"
   ]
  },
  {
   "cell_type": "code",
   "execution_count": 87,
   "id": "30bed5c8",
   "metadata": {},
   "outputs": [
    {
     "data": {
      "text/plain": [
       "<AxesSubplot:xlabel='fare', ylabel='count'>"
      ]
     },
     "execution_count": 87,
     "metadata": {},
     "output_type": "execute_result"
    },
    {
     "data": {
      "image/png": "[encoded data removed]",
      "text/plain": [
       "<Figure size 432x288 with 1 Axes>"
      ]
     },
     "metadata": {
      "needs_background": "light"
     },
     "output_type": "display_data"
    }
   ],
   "source": [
    "sns.countplot(x='fare',data=titanic_df,hue='survived')"
   ]
  },
  {
   "cell_type": "markdown",
   "id": "62451323",
   "metadata": {},
   "source": [
    "# Frequency Plot - A frequency plot is a graphical data analysis technique for summarizing the distributional information of a variable. The response variable is divided into equal sized intervals (or bins). The number of occurrences of the response variable is calculated for each bin"
   ]
  },
  {
   "cell_type": "code",
   "execution_count": 88,
   "id": "db0bd942",
   "metadata": {},
   "outputs": [
    {
     "data": {
      "text/plain": [
       "<AxesSubplot:xlabel='fare'>"
      ]
     },
     "execution_count": 88,
     "metadata": {},
     "output_type": "execute_result"
    },
    {
     "data": {
      "image/png": "[encoded data removed]",
      "text/plain": [
       "<Figure size 432x288 with 1 Axes>"
      ]
     },
     "metadata": {
      "needs_background": "light"
     },
     "output_type": "display_data"
    }
   ],
   "source": [
    "# frequency plot for fare\n",
    "titanic_df.groupby(['fare'])['survived'].count().plot(kind='bar', rot=30)"
   ]
  },
  {
   "cell_type": "code",
   "execution_count": 89,
   "id": "e21b2b3a",
   "metadata": {},
   "outputs": [
    {
     "data": {
      "text/plain": [
       "<AxesSubplot:>"
      ]
     },
     "execution_count": 89,
     "metadata": {},
     "output_type": "execute_result"
    },
    {
     "data": {
      "image/png": "[encoded data removed]",
      "text/plain": [
       "<Figure size 432x288 with 1 Axes>"
      ]
     },
     "metadata": {
      "needs_background": "light"
     },
     "output_type": "display_data"
    }
   ],
   "source": [
    "titanic_df['fare'].hist()"
   ]
  },
  {
   "cell_type": "code",
   "execution_count": 90,
   "id": "30cc25dd",
   "metadata": {},
   "outputs": [
    {
     "data": {
      "text/html": [
       "<div>\n",
       "<style scoped>\n",
       "    .dataframe tbody tr th:only-of-type {\n",
       "        vertical-align: middle;\n",
       "    }\n",
       "\n",
       "    .dataframe tbody tr th {\n",
       "        vertical-align: top;\n",
       "    }\n",
       "\n",
       "    .dataframe thead th {\n",
       "        text-align: right;\n",
       "    }\n",
       "</style>\n",
       "<table border=\"1\" class=\"dataframe\">\n",
       "  <thead>\n",
       "    <tr style=\"text-align: right;\">\n",
       "      <th></th>\n",
       "      <th>survived</th>\n",
       "      <th>pclass</th>\n",
       "      <th>sex</th>\n",
       "      <th>age</th>\n",
       "      <th>sibsp</th>\n",
       "      <th>parch</th>\n",
       "      <th>fare</th>\n",
       "      <th>embarked</th>\n",
       "      <th>class</th>\n",
       "      <th>who</th>\n",
       "      <th>adult_male</th>\n",
       "      <th>embark_town</th>\n",
       "      <th>alive</th>\n",
       "      <th>alone</th>\n",
       "      <th>modified_age</th>\n",
       "      <th>fare_bins</th>\n",
       "    </tr>\n",
       "  </thead>\n",
       "  <tbody>\n",
       "    <tr>\n",
       "      <th>0</th>\n",
       "      <td>0</td>\n",
       "      <td>3</td>\n",
       "      <td>male</td>\n",
       "      <td>22.0</td>\n",
       "      <td>1</td>\n",
       "      <td>0</td>\n",
       "      <td>7.2500</td>\n",
       "      <td>S</td>\n",
       "      <td>Third</td>\n",
       "      <td>man</td>\n",
       "      <td>True</td>\n",
       "      <td>Southampton</td>\n",
       "      <td>no</td>\n",
       "      <td>False</td>\n",
       "      <td>24.0</td>\n",
       "      <td>(-0.001, 7.854]</td>\n",
       "    </tr>\n",
       "    <tr>\n",
       "      <th>1</th>\n",
       "      <td>1</td>\n",
       "      <td>1</td>\n",
       "      <td>female</td>\n",
       "      <td>38.0</td>\n",
       "      <td>1</td>\n",
       "      <td>0</td>\n",
       "      <td>71.2833</td>\n",
       "      <td>C</td>\n",
       "      <td>First</td>\n",
       "      <td>woman</td>\n",
       "      <td>False</td>\n",
       "      <td>Cherbourg</td>\n",
       "      <td>yes</td>\n",
       "      <td>False</td>\n",
       "      <td>36.0</td>\n",
       "      <td>(39.688, 512.329]</td>\n",
       "    </tr>\n",
       "    <tr>\n",
       "      <th>2</th>\n",
       "      <td>1</td>\n",
       "      <td>3</td>\n",
       "      <td>female</td>\n",
       "      <td>26.0</td>\n",
       "      <td>0</td>\n",
       "      <td>0</td>\n",
       "      <td>7.9250</td>\n",
       "      <td>S</td>\n",
       "      <td>Third</td>\n",
       "      <td>woman</td>\n",
       "      <td>False</td>\n",
       "      <td>Southampton</td>\n",
       "      <td>yes</td>\n",
       "      <td>True</td>\n",
       "      <td>28.0</td>\n",
       "      <td>(7.854, 10.5]</td>\n",
       "    </tr>\n",
       "    <tr>\n",
       "      <th>3</th>\n",
       "      <td>1</td>\n",
       "      <td>1</td>\n",
       "      <td>female</td>\n",
       "      <td>35.0</td>\n",
       "      <td>1</td>\n",
       "      <td>0</td>\n",
       "      <td>53.1000</td>\n",
       "      <td>S</td>\n",
       "      <td>First</td>\n",
       "      <td>woman</td>\n",
       "      <td>False</td>\n",
       "      <td>Southampton</td>\n",
       "      <td>yes</td>\n",
       "      <td>False</td>\n",
       "      <td>33.0</td>\n",
       "      <td>(39.688, 512.329]</td>\n",
       "    </tr>\n",
       "    <tr>\n",
       "      <th>4</th>\n",
       "      <td>0</td>\n",
       "      <td>3</td>\n",
       "      <td>male</td>\n",
       "      <td>35.0</td>\n",
       "      <td>0</td>\n",
       "      <td>0</td>\n",
       "      <td>8.0500</td>\n",
       "      <td>S</td>\n",
       "      <td>Third</td>\n",
       "      <td>man</td>\n",
       "      <td>True</td>\n",
       "      <td>Southampton</td>\n",
       "      <td>no</td>\n",
       "      <td>True</td>\n",
       "      <td>33.0</td>\n",
       "      <td>(7.854, 10.5]</td>\n",
       "    </tr>\n",
       "  </tbody>\n",
       "</table>\n",
       "</div>"
      ],
      "text/plain": [
       "  survived pclass     sex   age  sibsp  parch     fare embarked  class    who  \\\n",
       "0        0      3    male  22.0      1      0   7.2500        S  Third    man   \n",
       "1        1      1  female  38.0      1      0  71.2833        C  First  woman   \n",
       "2        1      3  female  26.0      0      0   7.9250        S  Third  woman   \n",
       "3        1      1  female  35.0      1      0  53.1000        S  First  woman   \n",
       "4        0      3    male  35.0      0      0   8.0500        S  Third    man   \n",
       "\n",
       "   adult_male  embark_town alive  alone  modified_age          fare_bins  \n",
       "0        True  Southampton    no  False          24.0    (-0.001, 7.854]  \n",
       "1       False    Cherbourg   yes  False          36.0  (39.688, 512.329]  \n",
       "2       False  Southampton   yes   True          28.0      (7.854, 10.5]  \n",
       "3       False  Southampton   yes  False          33.0  (39.688, 512.329]  \n",
       "4        True  Southampton    no   True          33.0      (7.854, 10.5]  "
      ]
     },
     "execution_count": 90,
     "metadata": {},
     "output_type": "execute_result"
    }
   ],
   "source": [
    "titanic_df.head()"
   ]
  },
  {
   "cell_type": "code",
   "execution_count": 91,
   "id": "023bcbba",
   "metadata": {},
   "outputs": [
    {
     "data": {
      "text/plain": [
       "<AxesSubplot:xlabel='fare_bins'>"
      ]
     },
     "execution_count": 91,
     "metadata": {},
     "output_type": "execute_result"
    },
    {
     "data": {
      "image/png": "[encoded data removed]",
      "text/plain": [
       "<Figure size 432x288 with 1 Axes>"
      ]
     },
     "metadata": {
      "needs_background": "light"
     },
     "output_type": "display_data"
    }
   ],
   "source": [
    "titanic_df.groupby(['fare_bins'])['survived'].mean().plot(kind='bar',rot=45)"
   ]
  },
  {
   "cell_type": "code",
   "execution_count": 92,
   "id": "e33b604c",
   "metadata": {},
   "outputs": [
    {
     "data": {
      "text/plain": [
       "<AxesSubplot:xlabel='fare_bins'>"
      ]
     },
     "execution_count": 92,
     "metadata": {},
     "output_type": "execute_result"
    },
    {
     "data": {
      "image/png": "[encoded data removed]",
      "text/plain": [
       "<Figure size 432x288 with 1 Axes>"
      ]
     },
     "metadata": {
      "needs_background": "light"
     },
     "output_type": "display_data"
    }
   ],
   "source": [
    "titanic_df.groupby(['fare_bins'])['survived'].count().plot(kind='bar',rot=45)"
   ]
  },
  {
   "cell_type": "code",
   "execution_count": 93,
   "id": "4f31622d",
   "metadata": {},
   "outputs": [],
   "source": [
    "titanic_df['age_bin'] = pd.qcut(titanic_df['age'], q=5,duplicates='drop')\n",
    "# titanic_df[['age','age_bins']].head()"
   ]
  },
  {
   "cell_type": "code",
   "execution_count": 94,
   "id": "32f930e0",
   "metadata": {},
   "outputs": [
    {
     "data": {
      "text/html": [
       "<div>\n",
       "<style scoped>\n",
       "    .dataframe tbody tr th:only-of-type {\n",
       "        vertical-align: middle;\n",
       "    }\n",
       "\n",
       "    .dataframe tbody tr th {\n",
       "        vertical-align: top;\n",
       "    }\n",
       "\n",
       "    .dataframe thead th {\n",
       "        text-align: right;\n",
       "    }\n",
       "</style>\n",
       "<table border=\"1\" class=\"dataframe\">\n",
       "  <thead>\n",
       "    <tr style=\"text-align: right;\">\n",
       "      <th></th>\n",
       "      <th>survived</th>\n",
       "      <th>pclass</th>\n",
       "      <th>sex</th>\n",
       "      <th>age</th>\n",
       "      <th>sibsp</th>\n",
       "      <th>parch</th>\n",
       "      <th>fare</th>\n",
       "      <th>embarked</th>\n",
       "      <th>class</th>\n",
       "      <th>who</th>\n",
       "      <th>adult_male</th>\n",
       "      <th>embark_town</th>\n",
       "      <th>alive</th>\n",
       "      <th>alone</th>\n",
       "      <th>modified_age</th>\n",
       "      <th>fare_bins</th>\n",
       "      <th>age_bin</th>\n",
       "    </tr>\n",
       "  </thead>\n",
       "  <tbody>\n",
       "    <tr>\n",
       "      <th>0</th>\n",
       "      <td>0</td>\n",
       "      <td>3</td>\n",
       "      <td>male</td>\n",
       "      <td>22.0</td>\n",
       "      <td>1</td>\n",
       "      <td>0</td>\n",
       "      <td>7.2500</td>\n",
       "      <td>S</td>\n",
       "      <td>Third</td>\n",
       "      <td>man</td>\n",
       "      <td>True</td>\n",
       "      <td>Southampton</td>\n",
       "      <td>no</td>\n",
       "      <td>False</td>\n",
       "      <td>24.0</td>\n",
       "      <td>(-0.001, 7.854]</td>\n",
       "      <td>(20.0, 28.0]</td>\n",
       "    </tr>\n",
       "    <tr>\n",
       "      <th>1</th>\n",
       "      <td>1</td>\n",
       "      <td>1</td>\n",
       "      <td>female</td>\n",
       "      <td>38.0</td>\n",
       "      <td>1</td>\n",
       "      <td>0</td>\n",
       "      <td>71.2833</td>\n",
       "      <td>C</td>\n",
       "      <td>First</td>\n",
       "      <td>woman</td>\n",
       "      <td>False</td>\n",
       "      <td>Cherbourg</td>\n",
       "      <td>yes</td>\n",
       "      <td>False</td>\n",
       "      <td>36.0</td>\n",
       "      <td>(39.688, 512.329]</td>\n",
       "      <td>(28.0, 38.0]</td>\n",
       "    </tr>\n",
       "    <tr>\n",
       "      <th>2</th>\n",
       "      <td>1</td>\n",
       "      <td>3</td>\n",
       "      <td>female</td>\n",
       "      <td>26.0</td>\n",
       "      <td>0</td>\n",
       "      <td>0</td>\n",
       "      <td>7.9250</td>\n",
       "      <td>S</td>\n",
       "      <td>Third</td>\n",
       "      <td>woman</td>\n",
       "      <td>False</td>\n",
       "      <td>Southampton</td>\n",
       "      <td>yes</td>\n",
       "      <td>True</td>\n",
       "      <td>28.0</td>\n",
       "      <td>(7.854, 10.5]</td>\n",
       "      <td>(20.0, 28.0]</td>\n",
       "    </tr>\n",
       "    <tr>\n",
       "      <th>3</th>\n",
       "      <td>1</td>\n",
       "      <td>1</td>\n",
       "      <td>female</td>\n",
       "      <td>35.0</td>\n",
       "      <td>1</td>\n",
       "      <td>0</td>\n",
       "      <td>53.1000</td>\n",
       "      <td>S</td>\n",
       "      <td>First</td>\n",
       "      <td>woman</td>\n",
       "      <td>False</td>\n",
       "      <td>Southampton</td>\n",
       "      <td>yes</td>\n",
       "      <td>False</td>\n",
       "      <td>33.0</td>\n",
       "      <td>(39.688, 512.329]</td>\n",
       "      <td>(28.0, 38.0]</td>\n",
       "    </tr>\n",
       "    <tr>\n",
       "      <th>4</th>\n",
       "      <td>0</td>\n",
       "      <td>3</td>\n",
       "      <td>male</td>\n",
       "      <td>35.0</td>\n",
       "      <td>0</td>\n",
       "      <td>0</td>\n",
       "      <td>8.0500</td>\n",
       "      <td>S</td>\n",
       "      <td>Third</td>\n",
       "      <td>man</td>\n",
       "      <td>True</td>\n",
       "      <td>Southampton</td>\n",
       "      <td>no</td>\n",
       "      <td>True</td>\n",
       "      <td>33.0</td>\n",
       "      <td>(7.854, 10.5]</td>\n",
       "      <td>(28.0, 38.0]</td>\n",
       "    </tr>\n",
       "  </tbody>\n",
       "</table>\n",
       "</div>"
      ],
      "text/plain": [
       "  survived pclass     sex   age  sibsp  parch     fare embarked  class    who  \\\n",
       "0        0      3    male  22.0      1      0   7.2500        S  Third    man   \n",
       "1        1      1  female  38.0      1      0  71.2833        C  First  woman   \n",
       "2        1      3  female  26.0      0      0   7.9250        S  Third  woman   \n",
       "3        1      1  female  35.0      1      0  53.1000        S  First  woman   \n",
       "4        0      3    male  35.0      0      0   8.0500        S  Third    man   \n",
       "\n",
       "   adult_male  embark_town alive  alone  modified_age          fare_bins  \\\n",
       "0        True  Southampton    no  False          24.0    (-0.001, 7.854]   \n",
       "1       False    Cherbourg   yes  False          36.0  (39.688, 512.329]   \n",
       "2       False  Southampton   yes   True          28.0      (7.854, 10.5]   \n",
       "3       False  Southampton   yes  False          33.0  (39.688, 512.329]   \n",
       "4        True  Southampton    no   True          33.0      (7.854, 10.5]   \n",
       "\n",
       "        age_bin  \n",
       "0  (20.0, 28.0]  \n",
       "1  (28.0, 38.0]  \n",
       "2  (20.0, 28.0]  \n",
       "3  (28.0, 38.0]  \n",
       "4  (28.0, 38.0]  "
      ]
     },
     "execution_count": 94,
     "metadata": {},
     "output_type": "execute_result"
    }
   ],
   "source": [
    "titanic_df.head()"
   ]
  },
  {
   "cell_type": "code",
   "execution_count": 95,
   "id": "f2bf1218",
   "metadata": {},
   "outputs": [
    {
     "data": {
      "text/plain": [
       "(20.0, 28.0]     360\n",
       "(0.419, 20.0]    179\n",
       "(38.0, 80.0]     177\n",
       "(28.0, 38.0]     175\n",
       "Name: age_bin, dtype: int64"
      ]
     },
     "execution_count": 95,
     "metadata": {},
     "output_type": "execute_result"
    }
   ],
   "source": [
    "titanic_df['age_bin'].value_counts()"
   ]
  },
  {
   "cell_type": "code",
   "execution_count": 96,
   "id": "f60f7df3",
   "metadata": {},
   "outputs": [
    {
     "data": {
      "text/plain": [
       "0"
      ]
     },
     "execution_count": 96,
     "metadata": {},
     "output_type": "execute_result"
    }
   ],
   "source": [
    "titanic_df['age_bin'].isnull().sum()"
   ]
  },
  {
   "cell_type": "code",
   "execution_count": 97,
   "id": "3220c6c6",
   "metadata": {},
   "outputs": [
    {
     "data": {
      "text/html": [
       "<div>\n",
       "<style scoped>\n",
       "    .dataframe tbody tr th:only-of-type {\n",
       "        vertical-align: middle;\n",
       "    }\n",
       "\n",
       "    .dataframe tbody tr th {\n",
       "        vertical-align: top;\n",
       "    }\n",
       "\n",
       "    .dataframe thead th {\n",
       "        text-align: right;\n",
       "    }\n",
       "</style>\n",
       "<table border=\"1\" class=\"dataframe\">\n",
       "  <thead>\n",
       "    <tr style=\"text-align: right;\">\n",
       "      <th></th>\n",
       "      <th>survived</th>\n",
       "      <th>pclass</th>\n",
       "      <th>sex</th>\n",
       "      <th>age</th>\n",
       "      <th>sibsp</th>\n",
       "      <th>parch</th>\n",
       "      <th>fare</th>\n",
       "      <th>embarked</th>\n",
       "      <th>class</th>\n",
       "      <th>who</th>\n",
       "      <th>adult_male</th>\n",
       "      <th>embark_town</th>\n",
       "      <th>alive</th>\n",
       "      <th>alone</th>\n",
       "      <th>modified_age</th>\n",
       "      <th>fare_bins</th>\n",
       "      <th>age_bin</th>\n",
       "    </tr>\n",
       "  </thead>\n",
       "  <tbody>\n",
       "    <tr>\n",
       "      <th>79</th>\n",
       "      <td>1</td>\n",
       "      <td>3</td>\n",
       "      <td>female</td>\n",
       "      <td>30.0</td>\n",
       "      <td>0</td>\n",
       "      <td>0</td>\n",
       "      <td>12.4750</td>\n",
       "      <td>S</td>\n",
       "      <td>Third</td>\n",
       "      <td>woman</td>\n",
       "      <td>False</td>\n",
       "      <td>Southampton</td>\n",
       "      <td>yes</td>\n",
       "      <td>True</td>\n",
       "      <td>28.0</td>\n",
       "      <td>(10.5, 21.679]</td>\n",
       "      <td>(28.0, 38.0]</td>\n",
       "    </tr>\n",
       "    <tr>\n",
       "      <th>396</th>\n",
       "      <td>0</td>\n",
       "      <td>3</td>\n",
       "      <td>female</td>\n",
       "      <td>31.0</td>\n",
       "      <td>0</td>\n",
       "      <td>0</td>\n",
       "      <td>7.8542</td>\n",
       "      <td>S</td>\n",
       "      <td>Third</td>\n",
       "      <td>woman</td>\n",
       "      <td>False</td>\n",
       "      <td>Southampton</td>\n",
       "      <td>no</td>\n",
       "      <td>True</td>\n",
       "      <td>29.0</td>\n",
       "      <td>(-0.001, 7.854]</td>\n",
       "      <td>(28.0, 38.0]</td>\n",
       "    </tr>\n",
       "    <tr>\n",
       "      <th>422</th>\n",
       "      <td>0</td>\n",
       "      <td>3</td>\n",
       "      <td>male</td>\n",
       "      <td>29.0</td>\n",
       "      <td>0</td>\n",
       "      <td>0</td>\n",
       "      <td>7.8750</td>\n",
       "      <td>S</td>\n",
       "      <td>Third</td>\n",
       "      <td>man</td>\n",
       "      <td>True</td>\n",
       "      <td>Southampton</td>\n",
       "      <td>no</td>\n",
       "      <td>True</td>\n",
       "      <td>31.0</td>\n",
       "      <td>(7.854, 10.5]</td>\n",
       "      <td>(28.0, 38.0]</td>\n",
       "    </tr>\n",
       "    <tr>\n",
       "      <th>111</th>\n",
       "      <td>0</td>\n",
       "      <td>3</td>\n",
       "      <td>female</td>\n",
       "      <td>14.5</td>\n",
       "      <td>1</td>\n",
       "      <td>0</td>\n",
       "      <td>14.4542</td>\n",
       "      <td>C</td>\n",
       "      <td>Third</td>\n",
       "      <td>child</td>\n",
       "      <td>False</td>\n",
       "      <td>Cherbourg</td>\n",
       "      <td>no</td>\n",
       "      <td>False</td>\n",
       "      <td>16.5</td>\n",
       "      <td>(10.5, 21.679]</td>\n",
       "      <td>(0.419, 20.0]</td>\n",
       "    </tr>\n",
       "    <tr>\n",
       "      <th>661</th>\n",
       "      <td>0</td>\n",
       "      <td>3</td>\n",
       "      <td>male</td>\n",
       "      <td>40.0</td>\n",
       "      <td>0</td>\n",
       "      <td>0</td>\n",
       "      <td>7.2250</td>\n",
       "      <td>C</td>\n",
       "      <td>Third</td>\n",
       "      <td>man</td>\n",
       "      <td>True</td>\n",
       "      <td>Cherbourg</td>\n",
       "      <td>no</td>\n",
       "      <td>True</td>\n",
       "      <td>38.0</td>\n",
       "      <td>(-0.001, 7.854]</td>\n",
       "      <td>(38.0, 80.0]</td>\n",
       "    </tr>\n",
       "  </tbody>\n",
       "</table>\n",
       "</div>"
      ],
      "text/plain": [
       "    survived pclass     sex   age  sibsp  parch     fare embarked  class  \\\n",
       "79         1      3  female  30.0      0      0  12.4750        S  Third   \n",
       "396        0      3  female  31.0      0      0   7.8542        S  Third   \n",
       "422        0      3    male  29.0      0      0   7.8750        S  Third   \n",
       "111        0      3  female  14.5      1      0  14.4542        C  Third   \n",
       "661        0      3    male  40.0      0      0   7.2250        C  Third   \n",
       "\n",
       "       who  adult_male  embark_town alive  alone  modified_age  \\\n",
       "79   woman       False  Southampton   yes   True          28.0   \n",
       "396  woman       False  Southampton    no   True          29.0   \n",
       "422    man        True  Southampton    no   True          31.0   \n",
       "111  child       False    Cherbourg    no  False          16.5   \n",
       "661    man        True    Cherbourg    no   True          38.0   \n",
       "\n",
       "           fare_bins        age_bin  \n",
       "79    (10.5, 21.679]   (28.0, 38.0]  \n",
       "396  (-0.001, 7.854]   (28.0, 38.0]  \n",
       "422    (7.854, 10.5]   (28.0, 38.0]  \n",
       "111   (10.5, 21.679]  (0.419, 20.0]  \n",
       "661  (-0.001, 7.854]   (38.0, 80.0]  "
      ]
     },
     "execution_count": 97,
     "metadata": {},
     "output_type": "execute_result"
    }
   ],
   "source": [
    "titanic_df.sample(5)"
   ]
  },
  {
   "cell_type": "code",
   "execution_count": 98,
   "id": "40c3534d",
   "metadata": {},
   "outputs": [
    {
     "data": {
      "text/plain": [
       "<AxesSubplot:xlabel='age_bin'>"
      ]
     },
     "execution_count": 98,
     "metadata": {},
     "output_type": "execute_result"
    },
    {
     "data": {
      "image/png": "[encoded data removed]",
      "text/plain": [
       "<Figure size 432x288 with 1 Axes>"
      ]
     },
     "metadata": {
      "needs_background": "light"
     },
     "output_type": "display_data"
    }
   ],
   "source": [
    "titanic_df.groupby(['age_bin'])['survived'].mean().plot(kind='bar',rot=40)"
   ]
  },
  {
   "cell_type": "code",
   "execution_count": 99,
   "id": "85af9ac0",
   "metadata": {},
   "outputs": [
    {
     "data": {
      "text/plain": [
       "<AxesSubplot:xlabel='age_bin'>"
      ]
     },
     "execution_count": 99,
     "metadata": {},
     "output_type": "execute_result"
    },
    {
     "data": {
      "image/png": "[encoded data removed]",
      "text/plain": [
       "<Figure size 432x288 with 1 Axes>"
      ]
     },
     "metadata": {
      "needs_background": "light"
     },
     "output_type": "display_data"
    }
   ],
   "source": [
    "titanic_df.groupby(['age_bin'])['survived'].count().plot(kind='bar',rot=40)"
   ]
  },
  {
   "cell_type": "raw",
   "id": "fc4f405b",
   "metadata": {},
   "source": [
    "outliers [numeric variables]\n",
    "\n",
    "--> boxplot (identify the outliers)\n",
    "\n",
    "--> treat the outliers\n",
    "        Percentile based\n",
    "        --> threshold max percentile --> 99.5%'tile\n",
    "        --> threshold min percentile --> 0.5%'tile\n",
    "        \n",
    "        IQR method [capping & flooring ](iqr=p75-p25)\n",
    "        --> thr_min = 25_%tile - 1.5*IQR\n",
    "        --> thr_max = 75_%tile + 1.5*IQR\n",
    "\n",
    "\n",
    "missing values"
   ]
  },
  {
   "cell_type": "code",
   "execution_count": 100,
   "id": "3c2dbdea",
   "metadata": {},
   "outputs": [
    {
     "data": {
      "text/plain": [
       "<AxesSubplot:>"
      ]
     },
     "execution_count": 100,
     "metadata": {},
     "output_type": "execute_result"
    },
    {
     "data": {
      "image/png": "[encoded data removed]",
      "text/plain": [
       "<Figure size 864x576 with 2 Axes>"
      ]
     },
     "metadata": {
      "needs_background": "light"
     },
     "output_type": "display_data"
    }
   ],
   "source": [
    "fig,axes = plt.subplots(nrows=1,ncols=2,figsize=(12,8))\n",
    "titanic_df['age'].plot(kind='box',ax=axes[0])\n",
    "titanic_df['fare'].plot(kind='box',ax=axes[1])"
   ]
  },
  {
   "cell_type": "code",
   "execution_count": 101,
   "id": "e38faf7f",
   "metadata": {},
   "outputs": [
    {
     "data": {
      "text/plain": [
       "(2.5, 54.5)"
      ]
     },
     "execution_count": 101,
     "metadata": {},
     "output_type": "execute_result"
    }
   ],
   "source": [
    "# treating outliers for age\n",
    "\n",
    "p25=titanic_df['age'].quantile(0.25)\n",
    "p75=titanic_df['age'].quantile(0.75)\n",
    "iqr=p75-p25\n",
    "thr_min,thr_max=p25-1.5*iqr,p75+1.5*iqr\n",
    "thr_min,thr_max"
   ]
  },
  {
   "cell_type": "code",
   "execution_count": 102,
   "id": "581cd961",
   "metadata": {},
   "outputs": [],
   "source": [
    "# defining generic function for outlier treatment\n",
    "\n",
    "def get_min_max_threshold(data,var):\n",
    "    p25=data[var].quantile(0.25)\n",
    "    p75=data[var].quantile(0.75)\n",
    "    iqr=p75-p25\n",
    "    thr_min,thr_max=p25-1.5*iqr,p75+1.5*iqr\n",
    "    return thr_min,thr_max"
   ]
  },
  {
   "cell_type": "code",
   "execution_count": 103,
   "id": "f604a3a7",
   "metadata": {},
   "outputs": [
    {
     "data": {
      "text/plain": [
       "(2.5, 54.5)"
      ]
     },
     "execution_count": 103,
     "metadata": {},
     "output_type": "execute_result"
    }
   ],
   "source": [
    "x,y=get_min_max_threshold(titanic_df,'age')\n",
    "x,y"
   ]
  },
  {
   "cell_type": "code",
   "execution_count": 104,
   "id": "75a1b007",
   "metadata": {},
   "outputs": [],
   "source": [
    "def outlier_treatment_iqr_method(val):\n",
    "    if val>thr_max:\n",
    "        return thr_max\n",
    "    elif val<thr_min:\n",
    "        return thr_min\n",
    "    else:\n",
    "        return val"
   ]
  },
  {
   "cell_type": "code",
   "execution_count": 105,
   "id": "632c1354",
   "metadata": {},
   "outputs": [],
   "source": [
    "thr_min,thr_max=get_min_max_threshold(titanic_df,'age')\n",
    "titanic_df['age_treated']=titanic_df['age'].apply(outlier_treatment_iqr_method)"
   ]
  },
  {
   "cell_type": "code",
   "execution_count": 106,
   "id": "ca1f58f8",
   "metadata": {},
   "outputs": [],
   "source": [
    "thr_min,thr_max=get_min_max_threshold(titanic_df,'fare')\n",
    "titanic_df['fare_treated']=titanic_df['fare'].apply(outlier_treatment_iqr_method)"
   ]
  },
  {
   "cell_type": "code",
   "execution_count": 107,
   "id": "d6bf7c66",
   "metadata": {},
   "outputs": [
    {
     "data": {
      "text/plain": [
       "<AxesSubplot:>"
      ]
     },
     "execution_count": 107,
     "metadata": {},
     "output_type": "execute_result"
    },
    {
     "data": {
      "image/png": "[encoded data removed]",
      "text/plain": [
       "<Figure size 864x576 with 2 Axes>"
      ]
     },
     "metadata": {
      "needs_background": "light"
     },
     "output_type": "display_data"
    }
   ],
   "source": [
    "fig,axes = plt.subplots(nrows=1,ncols=2,figsize=(12,8))\n",
    "titanic_df['age_treated'].plot(kind='box',ax=axes[0])\n",
    "titanic_df['fare_treated'].plot(kind='box',ax=axes[1])"
   ]
  },
  {
   "cell_type": "markdown",
   "id": "a7bb993b",
   "metadata": {},
   "source": [
    "# so no outliers in both of these columns"
   ]
  },
  {
   "cell_type": "markdown",
   "id": "4fbeeb72",
   "metadata": {},
   "source": [
    "# STANDARDIZATION - \n",
    "A standard normal distribution is defined as a distribution with a mean of 0 and a standard deviation of 1."
   ]
  },
  {
   "cell_type": "code",
   "execution_count": 108,
   "id": "cb52d0d3",
   "metadata": {
    "scrolled": true
   },
   "outputs": [
    {
     "data": {
      "text/html": [
       "<div>\n",
       "<style scoped>\n",
       "    .dataframe tbody tr th:only-of-type {\n",
       "        vertical-align: middle;\n",
       "    }\n",
       "\n",
       "    .dataframe tbody tr th {\n",
       "        vertical-align: top;\n",
       "    }\n",
       "\n",
       "    .dataframe thead th {\n",
       "        text-align: right;\n",
       "    }\n",
       "</style>\n",
       "<table border=\"1\" class=\"dataframe\">\n",
       "  <thead>\n",
       "    <tr style=\"text-align: right;\">\n",
       "      <th></th>\n",
       "      <th>survived</th>\n",
       "      <th>pclass</th>\n",
       "      <th>sex</th>\n",
       "      <th>age</th>\n",
       "      <th>sibsp</th>\n",
       "      <th>parch</th>\n",
       "      <th>fare</th>\n",
       "      <th>embarked</th>\n",
       "      <th>class</th>\n",
       "      <th>who</th>\n",
       "      <th>adult_male</th>\n",
       "      <th>embark_town</th>\n",
       "      <th>alive</th>\n",
       "      <th>alone</th>\n",
       "      <th>modified_age</th>\n",
       "      <th>fare_bins</th>\n",
       "      <th>age_bin</th>\n",
       "      <th>age_treated</th>\n",
       "      <th>fare_treated</th>\n",
       "    </tr>\n",
       "  </thead>\n",
       "  <tbody>\n",
       "    <tr>\n",
       "      <th>0</th>\n",
       "      <td>0</td>\n",
       "      <td>3</td>\n",
       "      <td>male</td>\n",
       "      <td>22.0</td>\n",
       "      <td>1</td>\n",
       "      <td>0</td>\n",
       "      <td>7.2500</td>\n",
       "      <td>S</td>\n",
       "      <td>Third</td>\n",
       "      <td>man</td>\n",
       "      <td>True</td>\n",
       "      <td>Southampton</td>\n",
       "      <td>no</td>\n",
       "      <td>False</td>\n",
       "      <td>24.0</td>\n",
       "      <td>(-0.001, 7.854]</td>\n",
       "      <td>(20.0, 28.0]</td>\n",
       "      <td>22.0</td>\n",
       "      <td>7.2500</td>\n",
       "    </tr>\n",
       "    <tr>\n",
       "      <th>1</th>\n",
       "      <td>1</td>\n",
       "      <td>1</td>\n",
       "      <td>female</td>\n",
       "      <td>38.0</td>\n",
       "      <td>1</td>\n",
       "      <td>0</td>\n",
       "      <td>71.2833</td>\n",
       "      <td>C</td>\n",
       "      <td>First</td>\n",
       "      <td>woman</td>\n",
       "      <td>False</td>\n",
       "      <td>Cherbourg</td>\n",
       "      <td>yes</td>\n",
       "      <td>False</td>\n",
       "      <td>36.0</td>\n",
       "      <td>(39.688, 512.329]</td>\n",
       "      <td>(28.0, 38.0]</td>\n",
       "      <td>38.0</td>\n",
       "      <td>65.6344</td>\n",
       "    </tr>\n",
       "    <tr>\n",
       "      <th>2</th>\n",
       "      <td>1</td>\n",
       "      <td>3</td>\n",
       "      <td>female</td>\n",
       "      <td>26.0</td>\n",
       "      <td>0</td>\n",
       "      <td>0</td>\n",
       "      <td>7.9250</td>\n",
       "      <td>S</td>\n",
       "      <td>Third</td>\n",
       "      <td>woman</td>\n",
       "      <td>False</td>\n",
       "      <td>Southampton</td>\n",
       "      <td>yes</td>\n",
       "      <td>True</td>\n",
       "      <td>28.0</td>\n",
       "      <td>(7.854, 10.5]</td>\n",
       "      <td>(20.0, 28.0]</td>\n",
       "      <td>26.0</td>\n",
       "      <td>7.9250</td>\n",
       "    </tr>\n",
       "    <tr>\n",
       "      <th>3</th>\n",
       "      <td>1</td>\n",
       "      <td>1</td>\n",
       "      <td>female</td>\n",
       "      <td>35.0</td>\n",
       "      <td>1</td>\n",
       "      <td>0</td>\n",
       "      <td>53.1000</td>\n",
       "      <td>S</td>\n",
       "      <td>First</td>\n",
       "      <td>woman</td>\n",
       "      <td>False</td>\n",
       "      <td>Southampton</td>\n",
       "      <td>yes</td>\n",
       "      <td>False</td>\n",
       "      <td>33.0</td>\n",
       "      <td>(39.688, 512.329]</td>\n",
       "      <td>(28.0, 38.0]</td>\n",
       "      <td>35.0</td>\n",
       "      <td>53.1000</td>\n",
       "    </tr>\n",
       "    <tr>\n",
       "      <th>4</th>\n",
       "      <td>0</td>\n",
       "      <td>3</td>\n",
       "      <td>male</td>\n",
       "      <td>35.0</td>\n",
       "      <td>0</td>\n",
       "      <td>0</td>\n",
       "      <td>8.0500</td>\n",
       "      <td>S</td>\n",
       "      <td>Third</td>\n",
       "      <td>man</td>\n",
       "      <td>True</td>\n",
       "      <td>Southampton</td>\n",
       "      <td>no</td>\n",
       "      <td>True</td>\n",
       "      <td>33.0</td>\n",
       "      <td>(7.854, 10.5]</td>\n",
       "      <td>(28.0, 38.0]</td>\n",
       "      <td>35.0</td>\n",
       "      <td>8.0500</td>\n",
       "    </tr>\n",
       "    <tr>\n",
       "      <th>5</th>\n",
       "      <td>0</td>\n",
       "      <td>3</td>\n",
       "      <td>male</td>\n",
       "      <td>28.0</td>\n",
       "      <td>0</td>\n",
       "      <td>0</td>\n",
       "      <td>8.4583</td>\n",
       "      <td>Q</td>\n",
       "      <td>Third</td>\n",
       "      <td>man</td>\n",
       "      <td>True</td>\n",
       "      <td>Queenstown</td>\n",
       "      <td>no</td>\n",
       "      <td>True</td>\n",
       "      <td>30.0</td>\n",
       "      <td>(7.854, 10.5]</td>\n",
       "      <td>(20.0, 28.0]</td>\n",
       "      <td>28.0</td>\n",
       "      <td>8.4583</td>\n",
       "    </tr>\n",
       "    <tr>\n",
       "      <th>6</th>\n",
       "      <td>0</td>\n",
       "      <td>1</td>\n",
       "      <td>male</td>\n",
       "      <td>54.0</td>\n",
       "      <td>0</td>\n",
       "      <td>0</td>\n",
       "      <td>51.8625</td>\n",
       "      <td>S</td>\n",
       "      <td>First</td>\n",
       "      <td>man</td>\n",
       "      <td>True</td>\n",
       "      <td>Southampton</td>\n",
       "      <td>no</td>\n",
       "      <td>True</td>\n",
       "      <td>52.0</td>\n",
       "      <td>(39.688, 512.329]</td>\n",
       "      <td>(38.0, 80.0]</td>\n",
       "      <td>54.0</td>\n",
       "      <td>51.8625</td>\n",
       "    </tr>\n",
       "    <tr>\n",
       "      <th>7</th>\n",
       "      <td>0</td>\n",
       "      <td>3</td>\n",
       "      <td>male</td>\n",
       "      <td>2.0</td>\n",
       "      <td>3</td>\n",
       "      <td>1</td>\n",
       "      <td>21.0750</td>\n",
       "      <td>S</td>\n",
       "      <td>Third</td>\n",
       "      <td>child</td>\n",
       "      <td>False</td>\n",
       "      <td>Southampton</td>\n",
       "      <td>no</td>\n",
       "      <td>False</td>\n",
       "      <td>4.0</td>\n",
       "      <td>(10.5, 21.679]</td>\n",
       "      <td>(0.419, 20.0]</td>\n",
       "      <td>2.5</td>\n",
       "      <td>21.0750</td>\n",
       "    </tr>\n",
       "    <tr>\n",
       "      <th>8</th>\n",
       "      <td>1</td>\n",
       "      <td>3</td>\n",
       "      <td>female</td>\n",
       "      <td>27.0</td>\n",
       "      <td>0</td>\n",
       "      <td>2</td>\n",
       "      <td>11.1333</td>\n",
       "      <td>S</td>\n",
       "      <td>Third</td>\n",
       "      <td>woman</td>\n",
       "      <td>False</td>\n",
       "      <td>Southampton</td>\n",
       "      <td>yes</td>\n",
       "      <td>False</td>\n",
       "      <td>29.0</td>\n",
       "      <td>(10.5, 21.679]</td>\n",
       "      <td>(20.0, 28.0]</td>\n",
       "      <td>27.0</td>\n",
       "      <td>11.1333</td>\n",
       "    </tr>\n",
       "    <tr>\n",
       "      <th>9</th>\n",
       "      <td>1</td>\n",
       "      <td>2</td>\n",
       "      <td>female</td>\n",
       "      <td>14.0</td>\n",
       "      <td>1</td>\n",
       "      <td>0</td>\n",
       "      <td>30.0708</td>\n",
       "      <td>C</td>\n",
       "      <td>Second</td>\n",
       "      <td>child</td>\n",
       "      <td>False</td>\n",
       "      <td>Cherbourg</td>\n",
       "      <td>yes</td>\n",
       "      <td>False</td>\n",
       "      <td>16.0</td>\n",
       "      <td>(21.679, 39.688]</td>\n",
       "      <td>(0.419, 20.0]</td>\n",
       "      <td>14.0</td>\n",
       "      <td>30.0708</td>\n",
       "    </tr>\n",
       "  </tbody>\n",
       "</table>\n",
       "</div>"
      ],
      "text/plain": [
       "  survived pclass     sex   age  sibsp  parch     fare embarked   class  \\\n",
       "0        0      3    male  22.0      1      0   7.2500        S   Third   \n",
       "1        1      1  female  38.0      1      0  71.2833        C   First   \n",
       "2        1      3  female  26.0      0      0   7.9250        S   Third   \n",
       "3        1      1  female  35.0      1      0  53.1000        S   First   \n",
       "4        0      3    male  35.0      0      0   8.0500        S   Third   \n",
       "5        0      3    male  28.0      0      0   8.4583        Q   Third   \n",
       "6        0      1    male  54.0      0      0  51.8625        S   First   \n",
       "7        0      3    male   2.0      3      1  21.0750        S   Third   \n",
       "8        1      3  female  27.0      0      2  11.1333        S   Third   \n",
       "9        1      2  female  14.0      1      0  30.0708        C  Second   \n",
       "\n",
       "     who  adult_male  embark_town alive  alone  modified_age  \\\n",
       "0    man        True  Southampton    no  False          24.0   \n",
       "1  woman       False    Cherbourg   yes  False          36.0   \n",
       "2  woman       False  Southampton   yes   True          28.0   \n",
       "3  woman       False  Southampton   yes  False          33.0   \n",
       "4    man        True  Southampton    no   True          33.0   \n",
       "5    man        True   Queenstown    no   True          30.0   \n",
       "6    man        True  Southampton    no   True          52.0   \n",
       "7  child       False  Southampton    no  False           4.0   \n",
       "8  woman       False  Southampton   yes  False          29.0   \n",
       "9  child       False    Cherbourg   yes  False          16.0   \n",
       "\n",
       "           fare_bins        age_bin  age_treated  fare_treated  \n",
       "0    (-0.001, 7.854]   (20.0, 28.0]         22.0        7.2500  \n",
       "1  (39.688, 512.329]   (28.0, 38.0]         38.0       65.6344  \n",
       "2      (7.854, 10.5]   (20.0, 28.0]         26.0        7.9250  \n",
       "3  (39.688, 512.329]   (28.0, 38.0]         35.0       53.1000  \n",
       "4      (7.854, 10.5]   (28.0, 38.0]         35.0        8.0500  \n",
       "5      (7.854, 10.5]   (20.0, 28.0]         28.0        8.4583  \n",
       "6  (39.688, 512.329]   (38.0, 80.0]         54.0       51.8625  \n",
       "7     (10.5, 21.679]  (0.419, 20.0]          2.5       21.0750  \n",
       "8     (10.5, 21.679]   (20.0, 28.0]         27.0       11.1333  \n",
       "9   (21.679, 39.688]  (0.419, 20.0]         14.0       30.0708  "
      ]
     },
     "execution_count": 108,
     "metadata": {},
     "output_type": "execute_result"
    }
   ],
   "source": [
    "titanic_df.head(10)"
   ]
  },
  {
   "cell_type": "code",
   "execution_count": 109,
   "id": "17e0d4ec",
   "metadata": {},
   "outputs": [],
   "source": [
    "numeric_columns=num_col=['age_treated','sibsp','parch','fare_treated']\n",
    "categorical_columns=cat_col=['pclass','sex','who','adult_male','embark_town','alone']\n",
    "\n",
    "x=titanic_df[num_col+cat_col]\n",
    "y=titanic_df['survived']"
   ]
  },
  {
   "cell_type": "code",
   "execution_count": 110,
   "id": "cfee270c",
   "metadata": {},
   "outputs": [
    {
     "data": {
      "text/plain": [
       "((891, 10), (891,))"
      ]
     },
     "execution_count": 110,
     "metadata": {},
     "output_type": "execute_result"
    }
   ],
   "source": [
    "x.shape, y.shape"
   ]
  },
  {
   "cell_type": "code",
   "execution_count": 111,
   "id": "5c15cedb",
   "metadata": {},
   "outputs": [
    {
     "data": {
      "text/plain": [
       "(891, 4)"
      ]
     },
     "execution_count": 111,
     "metadata": {},
     "output_type": "execute_result"
    }
   ],
   "source": [
    "# standardization  - it can only be performed at numeric columns.  Encoded categorical variables contain values on 0 and 1. \n",
    "# Therefore, there is even no need to scale them. However, scaling methods will be applied to them when you choose to scale \n",
    "# your entire dataset prior to using your data with scale-sensitive ML models.\n",
    "\n",
    "from sklearn.preprocessing import StandardScaler\n",
    "\n",
    "x_num_col = titanic_df[num_col]\n",
    "scl=StandardScaler()\n",
    "X_std_num_cols = scl.fit_transform(x_num_col)\n",
    "X_std_num_cols.shape"
   ]
  },
  {
   "cell_type": "code",
   "execution_count": 112,
   "id": "a1cd507d",
   "metadata": {},
   "outputs": [
    {
     "data": {
      "text/plain": [
       "array([[-0.58343208,  0.43279337, -0.47367361, -0.82055245],\n",
       "       [ 0.74268522,  0.43279337, -0.47367361,  2.03162322],\n",
       "       [-0.25190275, -0.4745452 , -0.47367361, -0.78757757],\n",
       "       ...,\n",
       "       [-0.08613809,  0.43279337,  2.00893337, -0.02915533],\n",
       "       [-0.25190275, -0.4745452 , -0.47367361,  0.29082313],\n",
       "       [ 0.24539123, -0.4745452 , -0.47367361, -0.79612661]])"
      ]
     },
     "execution_count": 112,
     "metadata": {},
     "output_type": "execute_result"
    }
   ],
   "source": [
    "X_std_num_cols"
   ]
  },
  {
   "cell_type": "code",
   "execution_count": 113,
   "id": "30e3c5d1",
   "metadata": {},
   "outputs": [
    {
     "data": {
      "text/plain": [
       "5.308137020093341e-17"
      ]
     },
     "execution_count": 113,
     "metadata": {},
     "output_type": "execute_result"
    }
   ],
   "source": [
    "X_std_num_cols.mean()"
   ]
  },
  {
   "cell_type": "code",
   "execution_count": 114,
   "id": "46d8c151",
   "metadata": {},
   "outputs": [
    {
     "data": {
      "text/plain": [
       "0.9999999999999999"
      ]
     },
     "execution_count": 114,
     "metadata": {},
     "output_type": "execute_result"
    }
   ],
   "source": [
    "X_std_num_cols.std()"
   ]
  },
  {
   "cell_type": "code",
   "execution_count": 115,
   "id": "38cdf205",
   "metadata": {},
   "outputs": [
    {
     "data": {
      "text/html": [
       "<div>\n",
       "<style scoped>\n",
       "    .dataframe tbody tr th:only-of-type {\n",
       "        vertical-align: middle;\n",
       "    }\n",
       "\n",
       "    .dataframe tbody tr th {\n",
       "        vertical-align: top;\n",
       "    }\n",
       "\n",
       "    .dataframe thead th {\n",
       "        text-align: right;\n",
       "    }\n",
       "</style>\n",
       "<table border=\"1\" class=\"dataframe\">\n",
       "  <thead>\n",
       "    <tr style=\"text-align: right;\">\n",
       "      <th></th>\n",
       "      <th>age_treated</th>\n",
       "      <th>sibsp</th>\n",
       "      <th>parch</th>\n",
       "      <th>fare_treated</th>\n",
       "    </tr>\n",
       "  </thead>\n",
       "  <tbody>\n",
       "    <tr>\n",
       "      <th>0</th>\n",
       "      <td>-0.583432</td>\n",
       "      <td>0.432793</td>\n",
       "      <td>-0.473674</td>\n",
       "      <td>-0.820552</td>\n",
       "    </tr>\n",
       "    <tr>\n",
       "      <th>1</th>\n",
       "      <td>0.742685</td>\n",
       "      <td>0.432793</td>\n",
       "      <td>-0.473674</td>\n",
       "      <td>2.031623</td>\n",
       "    </tr>\n",
       "    <tr>\n",
       "      <th>2</th>\n",
       "      <td>-0.251903</td>\n",
       "      <td>-0.474545</td>\n",
       "      <td>-0.473674</td>\n",
       "      <td>-0.787578</td>\n",
       "    </tr>\n",
       "    <tr>\n",
       "      <th>3</th>\n",
       "      <td>0.494038</td>\n",
       "      <td>0.432793</td>\n",
       "      <td>-0.473674</td>\n",
       "      <td>1.419297</td>\n",
       "    </tr>\n",
       "    <tr>\n",
       "      <th>4</th>\n",
       "      <td>0.494038</td>\n",
       "      <td>-0.474545</td>\n",
       "      <td>-0.473674</td>\n",
       "      <td>-0.781471</td>\n",
       "    </tr>\n",
       "    <tr>\n",
       "      <th>...</th>\n",
       "      <td>...</td>\n",
       "      <td>...</td>\n",
       "      <td>...</td>\n",
       "      <td>...</td>\n",
       "    </tr>\n",
       "    <tr>\n",
       "      <th>886</th>\n",
       "      <td>-0.169020</td>\n",
       "      <td>-0.474545</td>\n",
       "      <td>-0.473674</td>\n",
       "      <td>-0.539655</td>\n",
       "    </tr>\n",
       "    <tr>\n",
       "      <th>887</th>\n",
       "      <td>-0.832079</td>\n",
       "      <td>-0.474545</td>\n",
       "      <td>-0.473674</td>\n",
       "      <td>0.290823</td>\n",
       "    </tr>\n",
       "    <tr>\n",
       "      <th>888</th>\n",
       "      <td>-0.086138</td>\n",
       "      <td>0.432793</td>\n",
       "      <td>2.008933</td>\n",
       "      <td>-0.029155</td>\n",
       "    </tr>\n",
       "    <tr>\n",
       "      <th>889</th>\n",
       "      <td>-0.251903</td>\n",
       "      <td>-0.474545</td>\n",
       "      <td>-0.473674</td>\n",
       "      <td>0.290823</td>\n",
       "    </tr>\n",
       "    <tr>\n",
       "      <th>890</th>\n",
       "      <td>0.245391</td>\n",
       "      <td>-0.474545</td>\n",
       "      <td>-0.473674</td>\n",
       "      <td>-0.796127</td>\n",
       "    </tr>\n",
       "  </tbody>\n",
       "</table>\n",
       "<p>891 rows × 4 columns</p>\n",
       "</div>"
      ],
      "text/plain": [
       "     age_treated     sibsp     parch  fare_treated\n",
       "0      -0.583432  0.432793 -0.473674     -0.820552\n",
       "1       0.742685  0.432793 -0.473674      2.031623\n",
       "2      -0.251903 -0.474545 -0.473674     -0.787578\n",
       "3       0.494038  0.432793 -0.473674      1.419297\n",
       "4       0.494038 -0.474545 -0.473674     -0.781471\n",
       "..           ...       ...       ...           ...\n",
       "886    -0.169020 -0.474545 -0.473674     -0.539655\n",
       "887    -0.832079 -0.474545 -0.473674      0.290823\n",
       "888    -0.086138  0.432793  2.008933     -0.029155\n",
       "889    -0.251903 -0.474545 -0.473674      0.290823\n",
       "890     0.245391 -0.474545 -0.473674     -0.796127\n",
       "\n",
       "[891 rows x 4 columns]"
      ]
     },
     "execution_count": 115,
     "metadata": {},
     "output_type": "execute_result"
    }
   ],
   "source": [
    "X_std_num_cols = pd.DataFrame(X_std_num_cols,columns=num_col)\n",
    "X_std_num_cols"
   ]
  },
  {
   "cell_type": "markdown",
   "id": "7095db2a",
   "metadata": {},
   "source": [
    "# categorical to numeric - 2 methods as below. use either\n",
    "        --> one hot encoding / dummy variables\n",
    "        --> label encoding\n",
    "        * check number of categories does the variables have\n",
    "        * num_of_categ --> number of dummy variables required\n",
    "        * one dummy variable is going to give us same information, hence redundant\n",
    "        * for n -> num_of_categ in a variable --> n-1 dummy variables"
   ]
  },
  {
   "cell_type": "code",
   "execution_count": 116,
   "id": "ffac05b5",
   "metadata": {},
   "outputs": [
    {
     "data": {
      "text/plain": [
       "(891, 6)"
      ]
     },
     "execution_count": 116,
     "metadata": {},
     "output_type": "execute_result"
    }
   ],
   "source": [
    "X_cat_cols= titanic_df[cat_col]\n",
    "X_cat_cols.shape"
   ]
  },
  {
   "cell_type": "code",
   "execution_count": 117,
   "id": "47d0c990",
   "metadata": {
    "scrolled": true
   },
   "outputs": [
    {
     "name": "stdout",
     "output_type": "stream",
     "text": [
      "<class 'pandas.core.frame.DataFrame'>\n",
      "RangeIndex: 891 entries, 0 to 890\n",
      "Data columns (total 9 columns):\n",
      " #   Column                   Non-Null Count  Dtype\n",
      "---  ------                   --------------  -----\n",
      " 0   adult_male               891 non-null    bool \n",
      " 1   alone                    891 non-null    bool \n",
      " 2   pclass_2                 891 non-null    uint8\n",
      " 3   pclass_3                 891 non-null    uint8\n",
      " 4   sex_male                 891 non-null    uint8\n",
      " 5   who_man                  891 non-null    uint8\n",
      " 6   who_woman                891 non-null    uint8\n",
      " 7   embark_town_Queenstown   891 non-null    uint8\n",
      " 8   embark_town_Southampton  891 non-null    uint8\n",
      "dtypes: bool(2), uint8(7)\n",
      "memory usage: 8.0 KB\n"
     ]
    }
   ],
   "source": [
    "X_std_cat_df = pd.get_dummies(X_cat_cols,drop_first=True)\n",
    "X_std_cat_df.info()"
   ]
  },
  {
   "cell_type": "code",
   "execution_count": 118,
   "id": "807ba4ce",
   "metadata": {},
   "outputs": [
    {
     "data": {
      "text/plain": [
       "pandas.core.frame.DataFrame"
      ]
     },
     "execution_count": 118,
     "metadata": {},
     "output_type": "execute_result"
    }
   ],
   "source": [
    "type(X_std_num_cols)"
   ]
  },
  {
   "cell_type": "code",
   "execution_count": 119,
   "id": "c71cbc8f",
   "metadata": {},
   "outputs": [
    {
     "data": {
      "text/plain": [
       "pandas.core.frame.DataFrame"
      ]
     },
     "execution_count": 119,
     "metadata": {},
     "output_type": "execute_result"
    }
   ],
   "source": [
    "type(X_std_cat_df)"
   ]
  },
  {
   "cell_type": "code",
   "execution_count": 120,
   "id": "41f0db82",
   "metadata": {},
   "outputs": [
    {
     "data": {
      "text/html": [
       "<div>\n",
       "<style scoped>\n",
       "    .dataframe tbody tr th:only-of-type {\n",
       "        vertical-align: middle;\n",
       "    }\n",
       "\n",
       "    .dataframe tbody tr th {\n",
       "        vertical-align: top;\n",
       "    }\n",
       "\n",
       "    .dataframe thead th {\n",
       "        text-align: right;\n",
       "    }\n",
       "</style>\n",
       "<table border=\"1\" class=\"dataframe\">\n",
       "  <thead>\n",
       "    <tr style=\"text-align: right;\">\n",
       "      <th></th>\n",
       "      <th>age_treated</th>\n",
       "      <th>sibsp</th>\n",
       "      <th>parch</th>\n",
       "      <th>fare_treated</th>\n",
       "    </tr>\n",
       "  </thead>\n",
       "  <tbody>\n",
       "    <tr>\n",
       "      <th>0</th>\n",
       "      <td>-0.583432</td>\n",
       "      <td>0.432793</td>\n",
       "      <td>-0.473674</td>\n",
       "      <td>-0.820552</td>\n",
       "    </tr>\n",
       "    <tr>\n",
       "      <th>1</th>\n",
       "      <td>0.742685</td>\n",
       "      <td>0.432793</td>\n",
       "      <td>-0.473674</td>\n",
       "      <td>2.031623</td>\n",
       "    </tr>\n",
       "    <tr>\n",
       "      <th>2</th>\n",
       "      <td>-0.251903</td>\n",
       "      <td>-0.474545</td>\n",
       "      <td>-0.473674</td>\n",
       "      <td>-0.787578</td>\n",
       "    </tr>\n",
       "    <tr>\n",
       "      <th>3</th>\n",
       "      <td>0.494038</td>\n",
       "      <td>0.432793</td>\n",
       "      <td>-0.473674</td>\n",
       "      <td>1.419297</td>\n",
       "    </tr>\n",
       "    <tr>\n",
       "      <th>4</th>\n",
       "      <td>0.494038</td>\n",
       "      <td>-0.474545</td>\n",
       "      <td>-0.473674</td>\n",
       "      <td>-0.781471</td>\n",
       "    </tr>\n",
       "  </tbody>\n",
       "</table>\n",
       "</div>"
      ],
      "text/plain": [
       "   age_treated     sibsp     parch  fare_treated\n",
       "0    -0.583432  0.432793 -0.473674     -0.820552\n",
       "1     0.742685  0.432793 -0.473674      2.031623\n",
       "2    -0.251903 -0.474545 -0.473674     -0.787578\n",
       "3     0.494038  0.432793 -0.473674      1.419297\n",
       "4     0.494038 -0.474545 -0.473674     -0.781471"
      ]
     },
     "execution_count": 120,
     "metadata": {},
     "output_type": "execute_result"
    }
   ],
   "source": [
    "X_std_num_cols.head()"
   ]
  },
  {
   "cell_type": "code",
   "execution_count": 121,
   "id": "c8487e47",
   "metadata": {
    "scrolled": true
   },
   "outputs": [
    {
     "data": {
      "text/html": [
       "<div>\n",
       "<style scoped>\n",
       "    .dataframe tbody tr th:only-of-type {\n",
       "        vertical-align: middle;\n",
       "    }\n",
       "\n",
       "    .dataframe tbody tr th {\n",
       "        vertical-align: top;\n",
       "    }\n",
       "\n",
       "    .dataframe thead th {\n",
       "        text-align: right;\n",
       "    }\n",
       "</style>\n",
       "<table border=\"1\" class=\"dataframe\">\n",
       "  <thead>\n",
       "    <tr style=\"text-align: right;\">\n",
       "      <th></th>\n",
       "      <th>adult_male</th>\n",
       "      <th>alone</th>\n",
       "      <th>pclass_2</th>\n",
       "      <th>pclass_3</th>\n",
       "      <th>sex_male</th>\n",
       "      <th>who_man</th>\n",
       "      <th>who_woman</th>\n",
       "      <th>embark_town_Queenstown</th>\n",
       "      <th>embark_town_Southampton</th>\n",
       "    </tr>\n",
       "  </thead>\n",
       "  <tbody>\n",
       "    <tr>\n",
       "      <th>0</th>\n",
       "      <td>True</td>\n",
       "      <td>False</td>\n",
       "      <td>0</td>\n",
       "      <td>1</td>\n",
       "      <td>1</td>\n",
       "      <td>1</td>\n",
       "      <td>0</td>\n",
       "      <td>0</td>\n",
       "      <td>1</td>\n",
       "    </tr>\n",
       "    <tr>\n",
       "      <th>1</th>\n",
       "      <td>False</td>\n",
       "      <td>False</td>\n",
       "      <td>0</td>\n",
       "      <td>0</td>\n",
       "      <td>0</td>\n",
       "      <td>0</td>\n",
       "      <td>1</td>\n",
       "      <td>0</td>\n",
       "      <td>0</td>\n",
       "    </tr>\n",
       "    <tr>\n",
       "      <th>2</th>\n",
       "      <td>False</td>\n",
       "      <td>True</td>\n",
       "      <td>0</td>\n",
       "      <td>1</td>\n",
       "      <td>0</td>\n",
       "      <td>0</td>\n",
       "      <td>1</td>\n",
       "      <td>0</td>\n",
       "      <td>1</td>\n",
       "    </tr>\n",
       "    <tr>\n",
       "      <th>3</th>\n",
       "      <td>False</td>\n",
       "      <td>False</td>\n",
       "      <td>0</td>\n",
       "      <td>0</td>\n",
       "      <td>0</td>\n",
       "      <td>0</td>\n",
       "      <td>1</td>\n",
       "      <td>0</td>\n",
       "      <td>1</td>\n",
       "    </tr>\n",
       "    <tr>\n",
       "      <th>4</th>\n",
       "      <td>True</td>\n",
       "      <td>True</td>\n",
       "      <td>0</td>\n",
       "      <td>1</td>\n",
       "      <td>1</td>\n",
       "      <td>1</td>\n",
       "      <td>0</td>\n",
       "      <td>0</td>\n",
       "      <td>1</td>\n",
       "    </tr>\n",
       "  </tbody>\n",
       "</table>\n",
       "</div>"
      ],
      "text/plain": [
       "   adult_male  alone  pclass_2  pclass_3  sex_male  who_man  who_woman  \\\n",
       "0        True  False         0         1         1        1          0   \n",
       "1       False  False         0         0         0        0          1   \n",
       "2       False   True         0         1         0        0          1   \n",
       "3       False  False         0         0         0        0          1   \n",
       "4        True   True         0         1         1        1          0   \n",
       "\n",
       "   embark_town_Queenstown  embark_town_Southampton  \n",
       "0                       0                        1  \n",
       "1                       0                        0  \n",
       "2                       0                        1  \n",
       "3                       0                        1  \n",
       "4                       0                        1  "
      ]
     },
     "execution_count": 121,
     "metadata": {},
     "output_type": "execute_result"
    }
   ],
   "source": [
    "X_std_cat_df.head()"
   ]
  },
  {
   "cell_type": "code",
   "execution_count": 122,
   "id": "e643b16a",
   "metadata": {},
   "outputs": [
    {
     "name": "stdout",
     "output_type": "stream",
     "text": [
      "<class 'pandas.core.frame.DataFrame'>\n",
      "RangeIndex: 891 entries, 0 to 890\n",
      "Data columns (total 4 columns):\n",
      " #   Column        Non-Null Count  Dtype  \n",
      "---  ------        --------------  -----  \n",
      " 0   age_treated   891 non-null    float64\n",
      " 1   sibsp         891 non-null    float64\n",
      " 2   parch         891 non-null    float64\n",
      " 3   fare_treated  891 non-null    float64\n",
      "dtypes: float64(4)\n",
      "memory usage: 28.0 KB\n"
     ]
    }
   ],
   "source": [
    "X_std_num_cols.info()"
   ]
  },
  {
   "cell_type": "code",
   "execution_count": 123,
   "id": "36ca5f27",
   "metadata": {},
   "outputs": [
    {
     "name": "stdout",
     "output_type": "stream",
     "text": [
      "<class 'pandas.core.frame.DataFrame'>\n",
      "RangeIndex: 891 entries, 0 to 890\n",
      "Data columns (total 9 columns):\n",
      " #   Column                   Non-Null Count  Dtype\n",
      "---  ------                   --------------  -----\n",
      " 0   adult_male               891 non-null    bool \n",
      " 1   alone                    891 non-null    bool \n",
      " 2   pclass_2                 891 non-null    uint8\n",
      " 3   pclass_3                 891 non-null    uint8\n",
      " 4   sex_male                 891 non-null    uint8\n",
      " 5   who_man                  891 non-null    uint8\n",
      " 6   who_woman                891 non-null    uint8\n",
      " 7   embark_town_Queenstown   891 non-null    uint8\n",
      " 8   embark_town_Southampton  891 non-null    uint8\n",
      "dtypes: bool(2), uint8(7)\n",
      "memory usage: 8.0 KB\n"
     ]
    }
   ],
   "source": [
    "X_std_cat_df.info()"
   ]
  },
  {
   "cell_type": "code",
   "execution_count": 124,
   "id": "ccb00a6d",
   "metadata": {},
   "outputs": [],
   "source": [
    "X_std_cat_df=X_std_cat_df.astype({'pclass_3':'object','sex_male':'object','who_man':'object','who_woman':'object','embark_town_Queenstown':'object','embark_town_Southampton':'object'})"
   ]
  },
  {
   "cell_type": "code",
   "execution_count": 125,
   "id": "ccbc35a4",
   "metadata": {},
   "outputs": [
    {
     "data": {
      "text/plain": [
       "adult_male                 0\n",
       "alone                      0\n",
       "pclass_2                   0\n",
       "pclass_3                   0\n",
       "sex_male                   0\n",
       "who_man                    0\n",
       "who_woman                  0\n",
       "embark_town_Queenstown     0\n",
       "embark_town_Southampton    0\n",
       "dtype: int64"
      ]
     },
     "execution_count": 125,
     "metadata": {},
     "output_type": "execute_result"
    }
   ],
   "source": [
    "X_std_cat_df.isnull().sum()"
   ]
  },
  {
   "cell_type": "code",
   "execution_count": 126,
   "id": "f8c12827",
   "metadata": {},
   "outputs": [
    {
     "data": {
      "text/html": [
       "<div>\n",
       "<style scoped>\n",
       "    .dataframe tbody tr th:only-of-type {\n",
       "        vertical-align: middle;\n",
       "    }\n",
       "\n",
       "    .dataframe tbody tr th {\n",
       "        vertical-align: top;\n",
       "    }\n",
       "\n",
       "    .dataframe thead th {\n",
       "        text-align: right;\n",
       "    }\n",
       "</style>\n",
       "<table border=\"1\" class=\"dataframe\">\n",
       "  <thead>\n",
       "    <tr style=\"text-align: right;\">\n",
       "      <th></th>\n",
       "      <th>age_treated</th>\n",
       "      <th>sibsp</th>\n",
       "      <th>parch</th>\n",
       "      <th>fare_treated</th>\n",
       "      <th>adult_male</th>\n",
       "      <th>alone</th>\n",
       "      <th>pclass_2</th>\n",
       "      <th>pclass_3</th>\n",
       "      <th>sex_male</th>\n",
       "      <th>who_man</th>\n",
       "      <th>who_woman</th>\n",
       "      <th>embark_town_Queenstown</th>\n",
       "      <th>embark_town_Southampton</th>\n",
       "    </tr>\n",
       "  </thead>\n",
       "  <tbody>\n",
       "    <tr>\n",
       "      <th>0</th>\n",
       "      <td>-0.583432</td>\n",
       "      <td>0.432793</td>\n",
       "      <td>-0.473674</td>\n",
       "      <td>-0.820552</td>\n",
       "      <td>True</td>\n",
       "      <td>False</td>\n",
       "      <td>0</td>\n",
       "      <td>1</td>\n",
       "      <td>1</td>\n",
       "      <td>1</td>\n",
       "      <td>0</td>\n",
       "      <td>0</td>\n",
       "      <td>1</td>\n",
       "    </tr>\n",
       "    <tr>\n",
       "      <th>1</th>\n",
       "      <td>0.742685</td>\n",
       "      <td>0.432793</td>\n",
       "      <td>-0.473674</td>\n",
       "      <td>2.031623</td>\n",
       "      <td>False</td>\n",
       "      <td>False</td>\n",
       "      <td>0</td>\n",
       "      <td>0</td>\n",
       "      <td>0</td>\n",
       "      <td>0</td>\n",
       "      <td>1</td>\n",
       "      <td>0</td>\n",
       "      <td>0</td>\n",
       "    </tr>\n",
       "    <tr>\n",
       "      <th>2</th>\n",
       "      <td>-0.251903</td>\n",
       "      <td>-0.474545</td>\n",
       "      <td>-0.473674</td>\n",
       "      <td>-0.787578</td>\n",
       "      <td>False</td>\n",
       "      <td>True</td>\n",
       "      <td>0</td>\n",
       "      <td>1</td>\n",
       "      <td>0</td>\n",
       "      <td>0</td>\n",
       "      <td>1</td>\n",
       "      <td>0</td>\n",
       "      <td>1</td>\n",
       "    </tr>\n",
       "    <tr>\n",
       "      <th>3</th>\n",
       "      <td>0.494038</td>\n",
       "      <td>0.432793</td>\n",
       "      <td>-0.473674</td>\n",
       "      <td>1.419297</td>\n",
       "      <td>False</td>\n",
       "      <td>False</td>\n",
       "      <td>0</td>\n",
       "      <td>0</td>\n",
       "      <td>0</td>\n",
       "      <td>0</td>\n",
       "      <td>1</td>\n",
       "      <td>0</td>\n",
       "      <td>1</td>\n",
       "    </tr>\n",
       "    <tr>\n",
       "      <th>4</th>\n",
       "      <td>0.494038</td>\n",
       "      <td>-0.474545</td>\n",
       "      <td>-0.473674</td>\n",
       "      <td>-0.781471</td>\n",
       "      <td>True</td>\n",
       "      <td>True</td>\n",
       "      <td>0</td>\n",
       "      <td>1</td>\n",
       "      <td>1</td>\n",
       "      <td>1</td>\n",
       "      <td>0</td>\n",
       "      <td>0</td>\n",
       "      <td>1</td>\n",
       "    </tr>\n",
       "  </tbody>\n",
       "</table>\n",
       "</div>"
      ],
      "text/plain": [
       "   age_treated     sibsp     parch  fare_treated  adult_male  alone  pclass_2  \\\n",
       "0    -0.583432  0.432793 -0.473674     -0.820552        True  False         0   \n",
       "1     0.742685  0.432793 -0.473674      2.031623       False  False         0   \n",
       "2    -0.251903 -0.474545 -0.473674     -0.787578       False   True         0   \n",
       "3     0.494038  0.432793 -0.473674      1.419297       False  False         0   \n",
       "4     0.494038 -0.474545 -0.473674     -0.781471        True   True         0   \n",
       "\n",
       "  pclass_3 sex_male who_man who_woman embark_town_Queenstown  \\\n",
       "0        1        1       1         0                      0   \n",
       "1        0        0       0         1                      0   \n",
       "2        1        0       0         1                      0   \n",
       "3        0        0       0         1                      0   \n",
       "4        1        1       1         0                      0   \n",
       "\n",
       "  embark_town_Southampton  \n",
       "0                       1  \n",
       "1                       0  \n",
       "2                       1  \n",
       "3                       1  \n",
       "4                       1  "
      ]
     },
     "execution_count": 126,
     "metadata": {},
     "output_type": "execute_result"
    }
   ],
   "source": [
    "X_final_data = pd.concat([X_std_num_cols , X_std_cat_df],axis=1)\n",
    "X_final_data.head()"
   ]
  },
  {
   "cell_type": "code",
   "execution_count": 127,
   "id": "c5934dea",
   "metadata": {},
   "outputs": [],
   "source": [
    "X_std_num_cols.reset_index(drop=True,inplace=True)\n",
    "X_std_cat_df.reset_index(drop=True,inplace=True)"
   ]
  },
  {
   "cell_type": "code",
   "execution_count": 128,
   "id": "b4da6a53",
   "metadata": {},
   "outputs": [
    {
     "data": {
      "text/html": [
       "<div>\n",
       "<style scoped>\n",
       "    .dataframe tbody tr th:only-of-type {\n",
       "        vertical-align: middle;\n",
       "    }\n",
       "\n",
       "    .dataframe tbody tr th {\n",
       "        vertical-align: top;\n",
       "    }\n",
       "\n",
       "    .dataframe thead th {\n",
       "        text-align: right;\n",
       "    }\n",
       "</style>\n",
       "<table border=\"1\" class=\"dataframe\">\n",
       "  <thead>\n",
       "    <tr style=\"text-align: right;\">\n",
       "      <th></th>\n",
       "      <th>age_treated</th>\n",
       "      <th>sibsp</th>\n",
       "      <th>parch</th>\n",
       "      <th>fare_treated</th>\n",
       "      <th>adult_male</th>\n",
       "      <th>alone</th>\n",
       "      <th>pclass_2</th>\n",
       "      <th>pclass_3</th>\n",
       "      <th>sex_male</th>\n",
       "      <th>who_man</th>\n",
       "      <th>who_woman</th>\n",
       "      <th>embark_town_Queenstown</th>\n",
       "      <th>embark_town_Southampton</th>\n",
       "    </tr>\n",
       "  </thead>\n",
       "  <tbody>\n",
       "    <tr>\n",
       "      <th>0</th>\n",
       "      <td>-0.583432</td>\n",
       "      <td>0.432793</td>\n",
       "      <td>-0.473674</td>\n",
       "      <td>-0.820552</td>\n",
       "      <td>True</td>\n",
       "      <td>False</td>\n",
       "      <td>0</td>\n",
       "      <td>1</td>\n",
       "      <td>1</td>\n",
       "      <td>1</td>\n",
       "      <td>0</td>\n",
       "      <td>0</td>\n",
       "      <td>1</td>\n",
       "    </tr>\n",
       "    <tr>\n",
       "      <th>1</th>\n",
       "      <td>0.742685</td>\n",
       "      <td>0.432793</td>\n",
       "      <td>-0.473674</td>\n",
       "      <td>2.031623</td>\n",
       "      <td>False</td>\n",
       "      <td>False</td>\n",
       "      <td>0</td>\n",
       "      <td>0</td>\n",
       "      <td>0</td>\n",
       "      <td>0</td>\n",
       "      <td>1</td>\n",
       "      <td>0</td>\n",
       "      <td>0</td>\n",
       "    </tr>\n",
       "    <tr>\n",
       "      <th>2</th>\n",
       "      <td>-0.251903</td>\n",
       "      <td>-0.474545</td>\n",
       "      <td>-0.473674</td>\n",
       "      <td>-0.787578</td>\n",
       "      <td>False</td>\n",
       "      <td>True</td>\n",
       "      <td>0</td>\n",
       "      <td>1</td>\n",
       "      <td>0</td>\n",
       "      <td>0</td>\n",
       "      <td>1</td>\n",
       "      <td>0</td>\n",
       "      <td>1</td>\n",
       "    </tr>\n",
       "    <tr>\n",
       "      <th>3</th>\n",
       "      <td>0.494038</td>\n",
       "      <td>0.432793</td>\n",
       "      <td>-0.473674</td>\n",
       "      <td>1.419297</td>\n",
       "      <td>False</td>\n",
       "      <td>False</td>\n",
       "      <td>0</td>\n",
       "      <td>0</td>\n",
       "      <td>0</td>\n",
       "      <td>0</td>\n",
       "      <td>1</td>\n",
       "      <td>0</td>\n",
       "      <td>1</td>\n",
       "    </tr>\n",
       "    <tr>\n",
       "      <th>4</th>\n",
       "      <td>0.494038</td>\n",
       "      <td>-0.474545</td>\n",
       "      <td>-0.473674</td>\n",
       "      <td>-0.781471</td>\n",
       "      <td>True</td>\n",
       "      <td>True</td>\n",
       "      <td>0</td>\n",
       "      <td>1</td>\n",
       "      <td>1</td>\n",
       "      <td>1</td>\n",
       "      <td>0</td>\n",
       "      <td>0</td>\n",
       "      <td>1</td>\n",
       "    </tr>\n",
       "    <tr>\n",
       "      <th>...</th>\n",
       "      <td>...</td>\n",
       "      <td>...</td>\n",
       "      <td>...</td>\n",
       "      <td>...</td>\n",
       "      <td>...</td>\n",
       "      <td>...</td>\n",
       "      <td>...</td>\n",
       "      <td>...</td>\n",
       "      <td>...</td>\n",
       "      <td>...</td>\n",
       "      <td>...</td>\n",
       "      <td>...</td>\n",
       "      <td>...</td>\n",
       "    </tr>\n",
       "    <tr>\n",
       "      <th>886</th>\n",
       "      <td>-0.169020</td>\n",
       "      <td>-0.474545</td>\n",
       "      <td>-0.473674</td>\n",
       "      <td>-0.539655</td>\n",
       "      <td>True</td>\n",
       "      <td>True</td>\n",
       "      <td>1</td>\n",
       "      <td>0</td>\n",
       "      <td>1</td>\n",
       "      <td>1</td>\n",
       "      <td>0</td>\n",
       "      <td>0</td>\n",
       "      <td>1</td>\n",
       "    </tr>\n",
       "    <tr>\n",
       "      <th>887</th>\n",
       "      <td>-0.832079</td>\n",
       "      <td>-0.474545</td>\n",
       "      <td>-0.473674</td>\n",
       "      <td>0.290823</td>\n",
       "      <td>False</td>\n",
       "      <td>True</td>\n",
       "      <td>0</td>\n",
       "      <td>0</td>\n",
       "      <td>0</td>\n",
       "      <td>0</td>\n",
       "      <td>1</td>\n",
       "      <td>0</td>\n",
       "      <td>1</td>\n",
       "    </tr>\n",
       "    <tr>\n",
       "      <th>888</th>\n",
       "      <td>-0.086138</td>\n",
       "      <td>0.432793</td>\n",
       "      <td>2.008933</td>\n",
       "      <td>-0.029155</td>\n",
       "      <td>False</td>\n",
       "      <td>False</td>\n",
       "      <td>0</td>\n",
       "      <td>1</td>\n",
       "      <td>0</td>\n",
       "      <td>0</td>\n",
       "      <td>1</td>\n",
       "      <td>0</td>\n",
       "      <td>1</td>\n",
       "    </tr>\n",
       "    <tr>\n",
       "      <th>889</th>\n",
       "      <td>-0.251903</td>\n",
       "      <td>-0.474545</td>\n",
       "      <td>-0.473674</td>\n",
       "      <td>0.290823</td>\n",
       "      <td>True</td>\n",
       "      <td>True</td>\n",
       "      <td>0</td>\n",
       "      <td>0</td>\n",
       "      <td>1</td>\n",
       "      <td>1</td>\n",
       "      <td>0</td>\n",
       "      <td>0</td>\n",
       "      <td>0</td>\n",
       "    </tr>\n",
       "    <tr>\n",
       "      <th>890</th>\n",
       "      <td>0.245391</td>\n",
       "      <td>-0.474545</td>\n",
       "      <td>-0.473674</td>\n",
       "      <td>-0.796127</td>\n",
       "      <td>True</td>\n",
       "      <td>True</td>\n",
       "      <td>0</td>\n",
       "      <td>1</td>\n",
       "      <td>1</td>\n",
       "      <td>1</td>\n",
       "      <td>0</td>\n",
       "      <td>1</td>\n",
       "      <td>0</td>\n",
       "    </tr>\n",
       "  </tbody>\n",
       "</table>\n",
       "<p>891 rows × 13 columns</p>\n",
       "</div>"
      ],
      "text/plain": [
       "     age_treated     sibsp     parch  fare_treated  adult_male  alone  \\\n",
       "0      -0.583432  0.432793 -0.473674     -0.820552        True  False   \n",
       "1       0.742685  0.432793 -0.473674      2.031623       False  False   \n",
       "2      -0.251903 -0.474545 -0.473674     -0.787578       False   True   \n",
       "3       0.494038  0.432793 -0.473674      1.419297       False  False   \n",
       "4       0.494038 -0.474545 -0.473674     -0.781471        True   True   \n",
       "..           ...       ...       ...           ...         ...    ...   \n",
       "886    -0.169020 -0.474545 -0.473674     -0.539655        True   True   \n",
       "887    -0.832079 -0.474545 -0.473674      0.290823       False   True   \n",
       "888    -0.086138  0.432793  2.008933     -0.029155       False  False   \n",
       "889    -0.251903 -0.474545 -0.473674      0.290823        True   True   \n",
       "890     0.245391 -0.474545 -0.473674     -0.796127        True   True   \n",
       "\n",
       "     pclass_2 pclass_3 sex_male who_man who_woman embark_town_Queenstown  \\\n",
       "0           0        1        1       1         0                      0   \n",
       "1           0        0        0       0         1                      0   \n",
       "2           0        1        0       0         1                      0   \n",
       "3           0        0        0       0         1                      0   \n",
       "4           0        1        1       1         0                      0   \n",
       "..        ...      ...      ...     ...       ...                    ...   \n",
       "886         1        0        1       1         0                      0   \n",
       "887         0        0        0       0         1                      0   \n",
       "888         0        1        0       0         1                      0   \n",
       "889         0        0        1       1         0                      0   \n",
       "890         0        1        1       1         0                      1   \n",
       "\n",
       "    embark_town_Southampton  \n",
       "0                         1  \n",
       "1                         0  \n",
       "2                         1  \n",
       "3                         1  \n",
       "4                         1  \n",
       "..                      ...  \n",
       "886                       1  \n",
       "887                       1  \n",
       "888                       1  \n",
       "889                       0  \n",
       "890                       0  \n",
       "\n",
       "[891 rows x 13 columns]"
      ]
     },
     "execution_count": 128,
     "metadata": {},
     "output_type": "execute_result"
    }
   ],
   "source": [
    "X_final_data"
   ]
  },
  {
   "cell_type": "code",
   "execution_count": 129,
   "id": "3f9433ea",
   "metadata": {
    "scrolled": true
   },
   "outputs": [
    {
     "data": {
      "text/plain": [
       "0"
      ]
     },
     "execution_count": 129,
     "metadata": {},
     "output_type": "execute_result"
    }
   ],
   "source": [
    "X_final_data.isnull().sum().sum()"
   ]
  },
  {
   "cell_type": "code",
   "execution_count": 130,
   "id": "b3622d82",
   "metadata": {},
   "outputs": [],
   "source": [
    "# Train test model\n",
    "from sklearn.model_selection import train_test_split\n",
    "\n",
    "X_train, X_test, Y_train, Y_test = train_test_split(X_final_data,y, test_size=0.3,random_state=100)\n"
   ]
  },
  {
   "cell_type": "code",
   "execution_count": 131,
   "id": "52ce008e",
   "metadata": {},
   "outputs": [
    {
     "data": {
      "text/plain": [
       "((623, 13), (268, 13), (623,), (268,))"
      ]
     },
     "execution_count": 131,
     "metadata": {},
     "output_type": "execute_result"
    }
   ],
   "source": [
    "X_train.shape, X_test.shape, Y_train.shape, Y_test.shape"
   ]
  },
  {
   "cell_type": "code",
   "execution_count": 132,
   "id": "e3372fe3",
   "metadata": {},
   "outputs": [
    {
     "data": {
      "text/html": [
       "<div>\n",
       "<style scoped>\n",
       "    .dataframe tbody tr th:only-of-type {\n",
       "        vertical-align: middle;\n",
       "    }\n",
       "\n",
       "    .dataframe tbody tr th {\n",
       "        vertical-align: top;\n",
       "    }\n",
       "\n",
       "    .dataframe thead th {\n",
       "        text-align: right;\n",
       "    }\n",
       "</style>\n",
       "<table border=\"1\" class=\"dataframe\">\n",
       "  <thead>\n",
       "    <tr style=\"text-align: right;\">\n",
       "      <th></th>\n",
       "      <th>age_treated</th>\n",
       "      <th>sibsp</th>\n",
       "      <th>parch</th>\n",
       "      <th>fare_treated</th>\n",
       "      <th>adult_male</th>\n",
       "      <th>alone</th>\n",
       "      <th>pclass_2</th>\n",
       "      <th>pclass_3</th>\n",
       "      <th>sex_male</th>\n",
       "      <th>who_man</th>\n",
       "      <th>who_woman</th>\n",
       "      <th>embark_town_Queenstown</th>\n",
       "      <th>embark_town_Southampton</th>\n",
       "    </tr>\n",
       "  </thead>\n",
       "  <tbody>\n",
       "    <tr>\n",
       "      <th>69</th>\n",
       "      <td>-0.251903</td>\n",
       "      <td>1.340132</td>\n",
       "      <td>-0.473674</td>\n",
       "      <td>-0.751549</td>\n",
       "      <td>True</td>\n",
       "      <td>False</td>\n",
       "      <td>0</td>\n",
       "      <td>1</td>\n",
       "      <td>1</td>\n",
       "      <td>1</td>\n",
       "      <td>0</td>\n",
       "      <td>0</td>\n",
       "      <td>1</td>\n",
       "    </tr>\n",
       "    <tr>\n",
       "      <th>85</th>\n",
       "      <td>0.328274</td>\n",
       "      <td>2.247470</td>\n",
       "      <td>-0.473674</td>\n",
       "      <td>-0.400428</td>\n",
       "      <td>False</td>\n",
       "      <td>False</td>\n",
       "      <td>0</td>\n",
       "      <td>1</td>\n",
       "      <td>0</td>\n",
       "      <td>0</td>\n",
       "      <td>1</td>\n",
       "      <td>0</td>\n",
       "      <td>1</td>\n",
       "    </tr>\n",
       "    <tr>\n",
       "      <th>794</th>\n",
       "      <td>-0.334785</td>\n",
       "      <td>-0.474545</td>\n",
       "      <td>-0.473674</td>\n",
       "      <td>-0.789004</td>\n",
       "      <td>True</td>\n",
       "      <td>True</td>\n",
       "      <td>0</td>\n",
       "      <td>1</td>\n",
       "      <td>1</td>\n",
       "      <td>1</td>\n",
       "      <td>0</td>\n",
       "      <td>0</td>\n",
       "      <td>1</td>\n",
       "    </tr>\n",
       "    <tr>\n",
       "      <th>161</th>\n",
       "      <td>0.908450</td>\n",
       "      <td>-0.474545</td>\n",
       "      <td>-0.473674</td>\n",
       "      <td>-0.405313</td>\n",
       "      <td>False</td>\n",
       "      <td>True</td>\n",
       "      <td>1</td>\n",
       "      <td>0</td>\n",
       "      <td>0</td>\n",
       "      <td>0</td>\n",
       "      <td>1</td>\n",
       "      <td>0</td>\n",
       "      <td>1</td>\n",
       "    </tr>\n",
       "    <tr>\n",
       "      <th>815</th>\n",
       "      <td>-0.086138</td>\n",
       "      <td>-0.474545</td>\n",
       "      <td>-0.473674</td>\n",
       "      <td>-1.174727</td>\n",
       "      <td>True</td>\n",
       "      <td>True</td>\n",
       "      <td>0</td>\n",
       "      <td>0</td>\n",
       "      <td>1</td>\n",
       "      <td>1</td>\n",
       "      <td>0</td>\n",
       "      <td>0</td>\n",
       "      <td>1</td>\n",
       "    </tr>\n",
       "  </tbody>\n",
       "</table>\n",
       "</div>"
      ],
      "text/plain": [
       "     age_treated     sibsp     parch  fare_treated  adult_male  alone  \\\n",
       "69     -0.251903  1.340132 -0.473674     -0.751549        True  False   \n",
       "85      0.328274  2.247470 -0.473674     -0.400428       False  False   \n",
       "794    -0.334785 -0.474545 -0.473674     -0.789004        True   True   \n",
       "161     0.908450 -0.474545 -0.473674     -0.405313       False   True   \n",
       "815    -0.086138 -0.474545 -0.473674     -1.174727        True   True   \n",
       "\n",
       "     pclass_2 pclass_3 sex_male who_man who_woman embark_town_Queenstown  \\\n",
       "69          0        1        1       1         0                      0   \n",
       "85          0        1        0       0         1                      0   \n",
       "794         0        1        1       1         0                      0   \n",
       "161         1        0        0       0         1                      0   \n",
       "815         0        0        1       1         0                      0   \n",
       "\n",
       "    embark_town_Southampton  \n",
       "69                        1  \n",
       "85                        1  \n",
       "794                       1  \n",
       "161                       1  \n",
       "815                       1  "
      ]
     },
     "execution_count": 132,
     "metadata": {},
     "output_type": "execute_result"
    }
   ],
   "source": [
    "X_train.head()"
   ]
  },
  {
   "cell_type": "code",
   "execution_count": null,
   "id": "1046ac9f",
   "metadata": {},
   "outputs": [],
   "source": []
  },
  {
   "cell_type": "code",
   "execution_count": 133,
   "id": "4a2ad944",
   "metadata": {},
   "outputs": [
    {
     "ename": "ValueError",
     "evalue": "Unknown label type: 'unknown'",
     "output_type": "error",
     "traceback": [
      "\u001b[1;31m---------------------------------------------------------------------------\u001b[0m",
      "\u001b[1;31mValueError\u001b[0m                                Traceback (most recent call last)",
      "Input \u001b[1;32mIn [133]\u001b[0m, in \u001b[0;36m<cell line: 6>\u001b[1;34m()\u001b[0m\n\u001b[0;32m      3\u001b[0m \u001b[38;5;28;01mfrom\u001b[39;00m \u001b[38;5;21;01msklearn\u001b[39;00m\u001b[38;5;21;01m.\u001b[39;00m\u001b[38;5;21;01mlinear_model\u001b[39;00m \u001b[38;5;28;01mimport\u001b[39;00m LogisticRegression\n\u001b[0;32m      5\u001b[0m log_reg \u001b[38;5;241m=\u001b[39m LogisticRegression()\n\u001b[1;32m----> 6\u001b[0m \u001b[43mlog_reg\u001b[49m\u001b[38;5;241;43m.\u001b[39;49m\u001b[43mfit\u001b[49m\u001b[43m(\u001b[49m\u001b[43mX_train\u001b[49m\u001b[43m,\u001b[49m\u001b[43mY_train\u001b[49m\u001b[43m)\u001b[49m\n",
      "File \u001b[1;32mD:\\Download\\Anaconda\\lib\\site-packages\\sklearn\\linear_model\\_logistic.py:1516\u001b[0m, in \u001b[0;36mLogisticRegression.fit\u001b[1;34m(self, X, y, sample_weight)\u001b[0m\n\u001b[0;32m   1506\u001b[0m     _dtype \u001b[38;5;241m=\u001b[39m [np\u001b[38;5;241m.\u001b[39mfloat64, np\u001b[38;5;241m.\u001b[39mfloat32]\n\u001b[0;32m   1508\u001b[0m X, y \u001b[38;5;241m=\u001b[39m \u001b[38;5;28mself\u001b[39m\u001b[38;5;241m.\u001b[39m_validate_data(\n\u001b[0;32m   1509\u001b[0m     X,\n\u001b[0;32m   1510\u001b[0m     y,\n\u001b[1;32m   (...)\u001b[0m\n\u001b[0;32m   1514\u001b[0m     accept_large_sparse\u001b[38;5;241m=\u001b[39msolver \u001b[38;5;129;01mnot\u001b[39;00m \u001b[38;5;129;01min\u001b[39;00m [\u001b[38;5;124m\"\u001b[39m\u001b[38;5;124mliblinear\u001b[39m\u001b[38;5;124m\"\u001b[39m, \u001b[38;5;124m\"\u001b[39m\u001b[38;5;124msag\u001b[39m\u001b[38;5;124m\"\u001b[39m, \u001b[38;5;124m\"\u001b[39m\u001b[38;5;124msaga\u001b[39m\u001b[38;5;124m\"\u001b[39m],\n\u001b[0;32m   1515\u001b[0m )\n\u001b[1;32m-> 1516\u001b[0m \u001b[43mcheck_classification_targets\u001b[49m\u001b[43m(\u001b[49m\u001b[43my\u001b[49m\u001b[43m)\u001b[49m\n\u001b[0;32m   1517\u001b[0m \u001b[38;5;28mself\u001b[39m\u001b[38;5;241m.\u001b[39mclasses_ \u001b[38;5;241m=\u001b[39m np\u001b[38;5;241m.\u001b[39munique(y)\n\u001b[0;32m   1519\u001b[0m multi_class \u001b[38;5;241m=\u001b[39m _check_multi_class(\u001b[38;5;28mself\u001b[39m\u001b[38;5;241m.\u001b[39mmulti_class, solver, \u001b[38;5;28mlen\u001b[39m(\u001b[38;5;28mself\u001b[39m\u001b[38;5;241m.\u001b[39mclasses_))\n",
      "File \u001b[1;32mD:\\Download\\Anaconda\\lib\\site-packages\\sklearn\\utils\\multiclass.py:197\u001b[0m, in \u001b[0;36mcheck_classification_targets\u001b[1;34m(y)\u001b[0m\n\u001b[0;32m    189\u001b[0m y_type \u001b[38;5;241m=\u001b[39m type_of_target(y)\n\u001b[0;32m    190\u001b[0m \u001b[38;5;28;01mif\u001b[39;00m y_type \u001b[38;5;129;01mnot\u001b[39;00m \u001b[38;5;129;01min\u001b[39;00m [\n\u001b[0;32m    191\u001b[0m     \u001b[38;5;124m\"\u001b[39m\u001b[38;5;124mbinary\u001b[39m\u001b[38;5;124m\"\u001b[39m,\n\u001b[0;32m    192\u001b[0m     \u001b[38;5;124m\"\u001b[39m\u001b[38;5;124mmulticlass\u001b[39m\u001b[38;5;124m\"\u001b[39m,\n\u001b[1;32m   (...)\u001b[0m\n\u001b[0;32m    195\u001b[0m     \u001b[38;5;124m\"\u001b[39m\u001b[38;5;124mmultilabel-sequences\u001b[39m\u001b[38;5;124m\"\u001b[39m,\n\u001b[0;32m    196\u001b[0m ]:\n\u001b[1;32m--> 197\u001b[0m     \u001b[38;5;28;01mraise\u001b[39;00m \u001b[38;5;167;01mValueError\u001b[39;00m(\u001b[38;5;124m\"\u001b[39m\u001b[38;5;124mUnknown label type: \u001b[39m\u001b[38;5;132;01m%r\u001b[39;00m\u001b[38;5;124m\"\u001b[39m \u001b[38;5;241m%\u001b[39m y_type)\n",
      "\u001b[1;31mValueError\u001b[0m: Unknown label type: 'unknown'"
     ]
    }
   ],
   "source": [
    "# train the ML model using train data\n",
    "\n",
    "from sklearn.linear_model import LogisticRegression\n",
    "\n",
    "log_reg = LogisticRegression()\n",
    "log_reg.fit(X_train,Y_train)"
   ]
  },
  {
   "cell_type": "code",
   "execution_count": 134,
   "id": "03ec0519",
   "metadata": {},
   "outputs": [],
   "source": [
    "# was getting error as - Unknown label type: 'unknown' -  so changed the datatype. and reexecuted the code  above.\n",
    "\n",
    "Y_train=Y_train.astype('int')"
   ]
  },
  {
   "cell_type": "code",
   "execution_count": 135,
   "id": "b3f16c23",
   "metadata": {},
   "outputs": [
    {
     "data": {
      "text/plain": [
       "dtype('int32')"
      ]
     },
     "execution_count": 135,
     "metadata": {},
     "output_type": "execute_result"
    }
   ],
   "source": [
    "Y_train.dtype"
   ]
  },
  {
   "cell_type": "code",
   "execution_count": 136,
   "id": "b793c0f8",
   "metadata": {},
   "outputs": [
    {
     "data": {
      "text/plain": [
       "LogisticRegression()"
      ]
     },
     "execution_count": 136,
     "metadata": {},
     "output_type": "execute_result"
    }
   ],
   "source": [
    "log_reg.fit(X_train,Y_train)"
   ]
  },
  {
   "cell_type": "code",
   "execution_count": 137,
   "id": "d861b324",
   "metadata": {},
   "outputs": [],
   "source": [
    "# predict for train and test data."
   ]
  },
  {
   "cell_type": "code",
   "execution_count": 138,
   "id": "8bd7535c",
   "metadata": {},
   "outputs": [
    {
     "data": {
      "text/plain": [
       "array([[0.95902859, 0.04097141],\n",
       "       [0.6474149 , 0.3525851 ],\n",
       "       [0.92375511, 0.07624489],\n",
       "       ...,\n",
       "       [0.06907779, 0.93092221],\n",
       "       [0.96769603, 0.03230397],\n",
       "       [0.04645531, 0.95354469]])"
      ]
     },
     "execution_count": 138,
     "metadata": {},
     "output_type": "execute_result"
    }
   ],
   "source": [
    "log_reg.predict_proba(X_train)"
   ]
  },
  {
   "cell_type": "code",
   "execution_count": 139,
   "id": "7d3ac8ed",
   "metadata": {},
   "outputs": [
    {
     "data": {
      "text/plain": [
       "array([0, 0, 0, 1, 0, 1, 1, 0, 0, 1, 0, 0, 1, 0, 1, 0, 1, 0, 1, 0, 0, 0,\n",
       "       0, 0, 1, 0, 0, 0, 0, 0, 0, 0, 1, 0, 0, 0, 1, 0, 1, 0, 1, 0, 0, 0,\n",
       "       0, 1, 1, 0, 0, 1, 1, 0, 0, 1, 0, 1, 1, 1, 0, 0, 0, 0, 0, 1, 1, 0,\n",
       "       0, 0, 1, 1, 0, 0, 1, 1, 0, 1, 0, 0, 1, 0, 0, 1, 0, 1, 1, 0, 0, 0,\n",
       "       1, 1, 0, 0, 0, 1, 0, 0, 0, 1, 0, 0, 0, 0, 0, 1, 1, 0, 0, 1, 0, 0,\n",
       "       0, 1, 1, 1, 0, 0, 0, 0, 0, 1, 0, 0, 0, 1, 1, 1, 1, 1, 1, 0, 0, 0,\n",
       "       0, 1, 0, 1, 1, 0, 0, 0, 0, 0, 0, 0, 0, 0, 1, 0, 1, 0, 0, 0, 0, 1,\n",
       "       1, 0, 1, 0, 0, 0, 0, 1, 0, 0, 0, 1, 0, 0, 0, 1, 0, 1, 0, 1, 1, 1,\n",
       "       0, 1, 0, 0, 1, 1, 0, 1, 0, 1, 1, 1, 0, 0, 0, 0, 0, 1, 0, 0, 1, 1,\n",
       "       0, 1, 0, 0, 0, 0, 0, 0, 0, 0, 0, 1, 0, 0, 0, 1, 1, 0, 1, 0, 0, 0,\n",
       "       1, 0, 1, 0, 1, 0, 0, 1, 0, 0, 1, 0, 1, 0, 1, 0, 0, 0, 1, 0, 1, 0,\n",
       "       0, 0, 0, 0, 1, 0, 0, 0, 1, 1, 0, 1, 0, 1, 1, 0, 1, 1, 1, 0, 0, 0,\n",
       "       1, 1, 0, 0, 0, 0, 0, 0, 1, 0, 0, 0, 0, 1, 0, 1, 1, 0, 0, 1, 0, 0,\n",
       "       0, 0, 0, 0, 0, 0, 0, 0, 0, 0, 1, 1, 0, 1, 0, 0, 0, 0, 0, 1, 0, 0,\n",
       "       0, 0, 0, 1, 0, 0, 0, 1, 0, 1, 0, 1, 0, 0, 0, 1, 0, 0, 0, 1, 1, 1,\n",
       "       0, 0, 0, 0, 1, 0, 0, 1, 0, 0, 0, 0, 0, 1, 0, 0, 0, 1, 1, 1, 0, 0,\n",
       "       0, 0, 0, 0, 1, 0, 0, 1, 0, 1, 0, 1, 0, 0, 0, 0, 0, 0, 0, 0, 1, 1,\n",
       "       1, 1, 0, 0, 0, 0, 0, 0, 0, 0, 0, 1, 0, 1, 1, 1, 0, 0, 0, 0, 0, 1,\n",
       "       0, 0, 0, 1, 1, 1, 1, 1, 0, 1, 0, 0, 0, 1, 1, 1, 0, 1, 1, 0, 0, 1,\n",
       "       0, 0, 1, 0, 1, 1, 1, 0, 0, 1, 0, 1, 0, 0, 1, 1, 1, 1, 0, 1, 0, 0,\n",
       "       0, 0, 0, 0, 1, 0, 1, 0, 0, 0, 0, 0, 0, 0, 0, 0, 0, 1, 1, 0, 0, 0,\n",
       "       1, 0, 1, 1, 1, 1, 0, 0, 1, 1, 0, 0, 1, 0, 0, 0, 0, 0, 1, 0, 0, 0,\n",
       "       0, 0, 0, 0, 0, 0, 0, 0, 1, 0, 0, 0, 0, 0, 0, 0, 1, 0, 0, 1, 0, 0,\n",
       "       0, 1, 0, 1, 1, 1, 0, 1, 0, 0, 0, 0, 1, 0, 1, 0, 0, 0, 0, 0, 0, 0,\n",
       "       1, 0, 0, 1, 0, 0, 0, 0, 0, 0, 1, 1, 1, 0, 0, 0, 0, 0, 1, 0, 0, 0,\n",
       "       0, 0, 0, 1, 0, 0, 1, 0, 0, 1, 0, 0, 0, 0, 0, 1, 1, 1, 0, 1, 1, 1,\n",
       "       0, 0, 0, 0, 0, 0, 0, 1, 1, 0, 1, 0, 0, 0, 0, 1, 1, 0, 0, 0, 0, 1,\n",
       "       0, 0, 1, 1, 0, 0, 0, 0, 1, 0, 0, 1, 0, 0, 0, 0, 1, 1, 0, 1, 1, 1,\n",
       "       0, 1, 1, 1, 1, 0, 1])"
      ]
     },
     "execution_count": 139,
     "metadata": {},
     "output_type": "execute_result"
    }
   ],
   "source": [
    "log_reg.predict(X_train)"
   ]
  },
  {
   "cell_type": "raw",
   "id": "2d00fc09",
   "metadata": {},
   "source": [
    "# get the evaluation metrics for training, testing\n",
    " # accuracy--> % correct [incase of very less number of 1s, accuracy is not correct to look at][eg there are 990 0's and 10 1's then accuracy is 99% if our model predictS all output as 0's. So in this case it is not good to look at accuracy]\n",
    "so along with accuracy u should also check  - \n",
    " # precison and recall. - both these should be similar to each other and not much difference."
   ]
  },
  {
   "cell_type": "code",
   "execution_count": 140,
   "id": "36416b71",
   "metadata": {},
   "outputs": [
    {
     "data": {
      "text/plain": [
       "0.8282504012841091"
      ]
     },
     "execution_count": 140,
     "metadata": {},
     "output_type": "execute_result"
    }
   ],
   "source": [
    "# Accuracy score \n",
    "\n",
    "from sklearn.metrics import accuracy_score\n",
    "accuracy_score(Y_train,log_reg.predict(X_train))"
   ]
  },
  {
   "cell_type": "code",
   "execution_count": 141,
   "id": "79342cb7",
   "metadata": {},
   "outputs": [
    {
     "data": {
      "text/plain": [
       "516"
      ]
     },
     "execution_count": 141,
     "metadata": {},
     "output_type": "execute_result"
    }
   ],
   "source": [
    "#  return the number of correctly classified samples. Otherwise, return the fraction of correctly classified samples.\n",
    "accuracy_score(Y_train,log_reg.predict(X_train), normalize=False)"
   ]
  },
  {
   "cell_type": "code",
   "execution_count": 142,
   "id": "9083de1e",
   "metadata": {},
   "outputs": [],
   "source": [
    "Y_test=Y_test.astype('int32')"
   ]
  },
  {
   "cell_type": "code",
   "execution_count": 143,
   "id": "e6c4f970",
   "metadata": {
    "scrolled": true
   },
   "outputs": [
    {
     "name": "stdout",
     "output_type": "stream",
     "text": [
      "0.8208955223880597\n",
      "220\n"
     ]
    }
   ],
   "source": [
    "print(accuracy_score(Y_test,log_reg.predict(X_test)))\n",
    "print(accuracy_score(Y_test,log_reg.predict(X_test), normalize=False))"
   ]
  },
  {
   "cell_type": "raw",
   "id": "72a5c8f8",
   "metadata": {},
   "source": [
    "# accuracy score of test and train data is similar."
   ]
  },
  {
   "cell_type": "code",
   "execution_count": 148,
   "id": "6e0445a0",
   "metadata": {},
   "outputs": [],
   "source": [
    "# precison and recall. - both these should be similar to each other and not much difference.\n",
    "\n",
    "from sklearn.metrics import precision_recall_curve\n",
    "from sklearn.metrics import precision_recall_fscore_support\n",
    "from sklearn.metrics import classification_report"
   ]
  },
  {
   "cell_type": "code",
   "execution_count": 184,
   "id": "4904961e",
   "metadata": {
    "scrolled": true
   },
   "outputs": [],
   "source": [
    "precision,recall,z=precision_recall_curve(Y_train,log_reg.predict(X_train))"
   ]
  },
  {
   "cell_type": "code",
   "execution_count": 191,
   "id": "40bb8a9b",
   "metadata": {},
   "outputs": [
    {
     "data": {
      "text/plain": [
       "[<matplotlib.lines.Line2D at 0x2cabd6c93d0>]"
      ]
     },
     "execution_count": 191,
     "metadata": {},
     "output_type": "execute_result"
    },
    {
     "data": {
      "image/png": "[encoded data removed]",
      "text/plain": [
       "<Figure size 432x288 with 1 Axes>"
      ]
     },
     "metadata": {
      "needs_background": "light"
     },
     "output_type": "display_data"
    }
   ],
   "source": [
    "plt.plot(recall,precision)\n",
    "plt.title('PR Curve')\n",
    "plt.plot([0,1],[1,0.3],linestyle='--')"
   ]
  },
  {
   "cell_type": "code",
   "execution_count": 152,
   "id": "da00674c",
   "metadata": {},
   "outputs": [
    {
     "name": "stdout",
     "output_type": "stream",
     "text": [
      "              precision    recall  f1-score   support\n",
      "\n",
      "           0       0.85      0.88      0.87       390\n",
      "           1       0.79      0.73      0.76       233\n",
      "\n",
      "    accuracy                           0.83       623\n",
      "   macro avg       0.82      0.81      0.81       623\n",
      "weighted avg       0.83      0.83      0.83       623\n",
      "\n"
     ]
    }
   ],
   "source": [
    "print(classification_report(Y_train,log_reg.predict(X_train)))"
   ]
  },
  {
   "cell_type": "code",
   "execution_count": 156,
   "id": "0028f9f4",
   "metadata": {},
   "outputs": [
    {
     "data": {
      "text/plain": [
       "(0.8196662571662572, 0.8092604820072631, 0.8137195999474645, None)"
      ]
     },
     "execution_count": 156,
     "metadata": {},
     "output_type": "execute_result"
    }
   ],
   "source": [
    "precision_recall_fscore_support(Y_train,log_reg.predict(X_train),average='macro')"
   ]
  },
  {
   "cell_type": "raw",
   "id": "d7715c84",
   "metadata": {},
   "source": [
    "# confusion matrix\n",
    "\n",
    "# positives --> model predicted as 1\n",
    "# negatives --> model predicted as 0\n",
    "\n",
    "# true positives -> 1(a) 1(p)\n",
    "# true negatives -> 0(a) 0(p)\n",
    "# false positives -> 0(a) 1(p)\n",
    "# false negatives -> 1(a) 0(p)"
   ]
  },
  {
   "cell_type": "code",
   "execution_count": 158,
   "id": "c81ca1fb",
   "metadata": {},
   "outputs": [],
   "source": [
    "from sklearn.metrics import confusion_matrix"
   ]
  },
  {
   "cell_type": "code",
   "execution_count": 159,
   "id": "0c3b30a1",
   "metadata": {},
   "outputs": [
    {
     "data": {
      "text/plain": [
       "array([[345,  45],\n",
       "       [ 62, 171]], dtype=int64)"
      ]
     },
     "execution_count": 159,
     "metadata": {},
     "output_type": "execute_result"
    }
   ],
   "source": [
    "confusion_matrix(Y_train,log_reg.predict(X_train))"
   ]
  },
  {
   "cell_type": "code",
   "execution_count": 162,
   "id": "8c8106ca",
   "metadata": {},
   "outputs": [
    {
     "name": "stdout",
     "output_type": "stream",
     "text": [
      "[[345  45]\n",
      " [ 62 171]]\n"
     ]
    }
   ],
   "source": [
    "print(confusion_matrix(Y_train,log_reg.predict(X_train)))\n",
    "# correctly predicted 1's - 345\n",
    "# wrongly predicted 1's - 45\n",
    "# correctly predicted 0's - 171\n",
    "# wrongly predicted 0's - 62"
   ]
  },
  {
   "cell_type": "raw",
   "id": "ac2f2947",
   "metadata": {},
   "source": [
    "# ROC-AUC\n",
    "# Receiver operating characteristic - area under the curve"
   ]
  },
  {
   "cell_type": "code",
   "execution_count": 163,
   "id": "9d11ed95",
   "metadata": {},
   "outputs": [],
   "source": [
    "from sklearn.metrics import roc_auc_score\n",
    "from sklearn.metrics import roc_curve"
   ]
  },
  {
   "cell_type": "code",
   "execution_count": 169,
   "id": "63b9ee57",
   "metadata": {},
   "outputs": [
    {
     "data": {
      "text/plain": [
       "0.8092604820072631"
      ]
     },
     "execution_count": 169,
     "metadata": {},
     "output_type": "execute_result"
    }
   ],
   "source": [
    "roc_auc_score(Y_train, log_reg.predict(X_train))"
   ]
  },
  {
   "cell_type": "code",
   "execution_count": 171,
   "id": "2c06a87e",
   "metadata": {},
   "outputs": [
    {
     "data": {
      "text/plain": [
       "0.8758391108176516"
      ]
     },
     "execution_count": 171,
     "metadata": {},
     "output_type": "execute_result"
    }
   ],
   "source": [
    "roc_auc_score(Y_train, log_reg.predict_proba(X_train)[:,1])"
   ]
  },
  {
   "cell_type": "code",
   "execution_count": 175,
   "id": "b68a15ff",
   "metadata": {},
   "outputs": [],
   "source": [
    "falsepositive,truepositive,threshold = roc_curve(Y_train,log_reg.predict_proba(X_train)[:,1])"
   ]
  },
  {
   "cell_type": "code",
   "execution_count": 181,
   "id": "eaef5f60",
   "metadata": {},
   "outputs": [
    {
     "data": {
      "text/plain": [
       "[<matplotlib.lines.Line2D at 0x2cabc058d90>]"
      ]
     },
     "execution_count": 181,
     "metadata": {},
     "output_type": "execute_result"
    },
    {
     "data": {
      "image/png": "[encoded data removed]",
      "text/plain": [
       "<Figure size 432x288 with 1 Axes>"
      ]
     },
     "metadata": {
      "needs_background": "light"
     },
     "output_type": "display_data"
    }
   ],
   "source": [
    "plt.plot(falsepositive,truepositive)\n",
    "plt.plot([0,1], [0,1], linestyle='--')"
   ]
  },
  {
   "cell_type": "raw",
   "id": "f450aeb2",
   "metadata": {},
   "source": [
    "#  closer the curve is to [0,1] point better our predictions are. So, this is very good model with -.87 as area under the curve value."
   ]
  }
 ],
 "metadata": {
  "kernelspec": {
   "display_name": "Python 3 (ipykernel)",
   "language": "python",
   "name": "python3"
  },
  "language_info": {
   "codemirror_mode": {
    "name": "ipython",
    "version": 3
   },
   "file_extension": ".py",
   "mimetype": "text/x-python",
   "name": "python",
   "nbconvert_exporter": "python",
   "pygments_lexer": "ipython3",
   "version": "3.9.12"
  }
 },
 "nbformat": 4,
 "nbformat_minor": 5
}
