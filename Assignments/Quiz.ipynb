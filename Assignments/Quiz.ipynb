{
 "cells": [
  {
   "cell_type": "code",
   "execution_count": 1,
   "id": "ff9e1109",
   "metadata": {},
   "outputs": [
    {
     "name": "stdout",
     "output_type": "stream",
     "text": [
      "Overall Entropy: 0.9774178175281716\n"
     ]
    }
   ],
   "source": [
    "import math\n",
    "\n",
    "# Number of customers who applied for a housing loan\n",
    "num_applied = 10\n",
    "\n",
    "# Number of customers who did not apply for a housing loan\n",
    "num_not_applied = 7\n",
    "\n",
    "# Total number of customers\n",
    "total_customers = num_applied + num_not_applied\n",
    "\n",
    "# Calculate the probabilities\n",
    "p_applied = num_applied / total_customers\n",
    "p_not_applied = num_not_applied / total_customers\n",
    "\n",
    "# Calculate the entropy\n",
    "entropy_applied = -p_applied * math.log2(p_applied)\n",
    "entropy_not_applied = -p_not_applied * math.log2(p_not_applied)\n",
    "\n",
    "# Calculate the overall entropy\n",
    "overall_entropy = entropy_applied + entropy_not_applied\n",
    "\n",
    "print(\"Overall Entropy:\", overall_entropy)\n"
   ]
  },
  {
   "cell_type": "code",
   "execution_count": 2,
   "id": "eb87b173",
   "metadata": {},
   "outputs": [
    {
     "name": "stdout",
     "output_type": "stream",
     "text": [
      "Combined Arithmetic Mean of Monthly Salary: 15358.720588235294\n"
     ]
    }
   ],
   "source": [
    "# Location 1\n",
    "employees_location1 = 695\n",
    "avg_salary_location1 = 13875\n",
    "sum_location1 = employees_location1 * avg_salary_location1\n",
    "\n",
    "# Location 2\n",
    "employees_location2 = 597\n",
    "avg_salary_location2 = 17086\n",
    "sum_location2 = employees_location2 * avg_salary_location2\n",
    "\n",
    "# Calculate the combined mean\n",
    "total_employees = employees_location1 + employees_location2\n",
    "combined_mean = (sum_location1 + sum_location2) / total_employees\n",
    "\n",
    "print(\"Combined Arithmetic Mean of Monthly Salary:\", combined_mean)\n"
   ]
  },
  {
   "cell_type": "code",
   "execution_count": 9,
   "id": "e608b8ff",
   "metadata": {},
   "outputs": [
    {
     "name": "stdout",
     "output_type": "stream",
     "text": [
      "Correlation Coefficient: 1.2499999999999998\n"
     ]
    }
   ],
   "source": [
    "import numpy as np\n",
    "\n",
    "# Example data\n",
    "# x = [1, 2, 3, 4, 5]\n",
    "# y = [2, 4, 6, 8, 10]\n",
    "\n",
    "x=[1,2,3,4,5]\n",
    "y=[5,10,15,20,25]\n",
    "# Calculate correlation coefficient\n",
    "correlation_coefficient = np.cov(x, y)[0, 1] / (np.std(x) * np.std(y))\n",
    "\n",
    "print(\"Correlation Coefficient:\", correlation_coefficient)\n"
   ]
  },
  {
   "cell_type": "code",
   "execution_count": 12,
   "id": "35824f69",
   "metadata": {},
   "outputs": [
    {
     "data": {
      "text/html": [
       "<div>\n",
       "<style scoped>\n",
       "    .dataframe tbody tr th:only-of-type {\n",
       "        vertical-align: middle;\n",
       "    }\n",
       "\n",
       "    .dataframe tbody tr th {\n",
       "        vertical-align: top;\n",
       "    }\n",
       "\n",
       "    .dataframe thead th {\n",
       "        text-align: right;\n",
       "    }\n",
       "</style>\n",
       "<table border=\"1\" class=\"dataframe\">\n",
       "  <thead>\n",
       "    <tr style=\"text-align: right;\">\n",
       "      <th></th>\n",
       "      <th>H</th>\n",
       "      <th>W</th>\n",
       "      <th>Y</th>\n",
       "    </tr>\n",
       "  </thead>\n",
       "  <tbody>\n",
       "    <tr>\n",
       "      <th>0</th>\n",
       "      <td>1.7</td>\n",
       "      <td>78.4</td>\n",
       "      <td>31.96</td>\n",
       "    </tr>\n",
       "    <tr>\n",
       "      <th>1</th>\n",
       "      <td>1.9</td>\n",
       "      <td>45.5</td>\n",
       "      <td>17.22</td>\n",
       "    </tr>\n",
       "    <tr>\n",
       "      <th>2</th>\n",
       "      <td>1.7</td>\n",
       "      <td>45.5</td>\n",
       "      <td>20.45</td>\n",
       "    </tr>\n",
       "    <tr>\n",
       "      <th>3</th>\n",
       "      <td>1.9</td>\n",
       "      <td>95.6</td>\n",
       "      <td>31.97</td>\n",
       "    </tr>\n",
       "    <tr>\n",
       "      <th>4</th>\n",
       "      <td>1.2</td>\n",
       "      <td>39.4</td>\n",
       "      <td>32.02</td>\n",
       "    </tr>\n",
       "    <tr>\n",
       "      <th>5</th>\n",
       "      <td>1.7</td>\n",
       "      <td>54.5</td>\n",
       "      <td>23.95</td>\n",
       "    </tr>\n",
       "  </tbody>\n",
       "</table>\n",
       "</div>"
      ],
      "text/plain": [
       "     H     W      Y\n",
       "0  1.7  78.4  31.96\n",
       "1  1.9  45.5  17.22\n",
       "2  1.7  45.5  20.45\n",
       "3  1.9  95.6  31.97\n",
       "4  1.2  39.4  32.02\n",
       "5  1.7  54.5  23.95"
      ]
     },
     "execution_count": 12,
     "metadata": {},
     "output_type": "execute_result"
    }
   ],
   "source": [
    "h=[1.7,1.9,1.7,1.9,1.2,1.7]\n",
    "w=[78.4,45.5,45.5,95.6,39.4,54.5]\n",
    "y=[31.96,17.22,20.45,31.97,32.02,23.95]\n",
    "\n",
    "import pandas as pd\n",
    "\n",
    "df=pd.DataFrame({'H':h,'W':w,'Y':y})\n",
    "df"
   ]
  },
  {
   "cell_type": "code",
   "execution_count": 15,
   "id": "545a17c3",
   "metadata": {},
   "outputs": [
    {
     "data": {
      "text/plain": [
       "0    1.7\n",
       "1    1.9\n",
       "2    1.7\n",
       "3    1.9\n",
       "4    1.2\n",
       "5    1.7\n",
       "Name: H, dtype: float64"
      ]
     },
     "execution_count": 15,
     "metadata": {},
     "output_type": "execute_result"
    }
   ],
   "source": [
    "X=df['H']\n",
    "X\n",
    "# y=df[y]"
   ]
  },
  {
   "cell_type": "code",
   "execution_count": 21,
   "id": "45b0e9ef",
   "metadata": {},
   "outputs": [
    {
     "name": "stdout",
     "output_type": "stream",
     "text": [
      "Predicted BMI: 25.473333333333333\n"
     ]
    }
   ],
   "source": [
    "import numpy as np\n",
    "\n",
    "# Prepare the dataset\n",
    "h = [1.7, 1.9, 1.7, 1.9, 1.2, 1.7]\n",
    "w = [78.4, 45.5, 45.5, 95.6, 39.4, 54.5]\n",
    "y = [31.96, 17.22, 20.45, 31.97, 32.02, 23.95]\n",
    "\n",
    "# Normalize the features\n",
    "h_normalized = (np.array(h) - np.mean(h)) / np.std(h)\n",
    "w_normalized = (np.array(w) - np.mean(w)) / np.std(w)\n",
    "\n",
    "# New data point\n",
    "new_h = (1.12 - np.mean(h)) / np.std(h)\n",
    "new_w = (58.29 - np.mean(w)) / np.std(w)\n",
    "\n",
    "# Calculate distances\n",
    "distances = np.sqrt((h_normalized - new_h) ** 2 + (w_normalized - new_w) ** 2)\n",
    "\n",
    "# Identify the K nearest neighbors\n",
    "k = 3\n",
    "nearest_indices = np.argsort(distances)[:k]\n",
    "nearest_bmi = np.array(y)[nearest_indices]\n",
    "\n",
    "# Determine the predicted BMI\n",
    "predicted_bmi = np.mean(nearest_bmi)\n",
    "\n",
    "print(\"Predicted BMI:\", predicted_bmi)\n"
   ]
  },
  {
   "cell_type": "code",
   "execution_count": 22,
   "id": "aa5dcce7",
   "metadata": {},
   "outputs": [
    {
     "data": {
      "text/plain": [
       "array([ 0.07124705,  0.92621165,  0.07124705,  0.92621165, -2.06616445,\n",
       "        0.07124705])"
      ]
     },
     "execution_count": 22,
     "metadata": {},
     "output_type": "execute_result"
    }
   ],
   "source": [
    "h_normalized"
   ]
  },
  {
   "cell_type": "code",
   "execution_count": 23,
   "id": "cb8fcabb",
   "metadata": {},
   "outputs": [
    {
     "data": {
      "text/plain": [
       "16.96666666666667"
      ]
     },
     "execution_count": 23,
     "metadata": {},
     "output_type": "execute_result"
    }
   ],
   "source": [
    "x=[14,24,18,14,22,17]\n",
    "y=[2,8,10,5,8,3]\n",
    "\n",
    "import statistics as sd\n",
    "\n",
    "sd.variance(x)"
   ]
  },
  {
   "cell_type": "code",
   "execution_count": 24,
   "id": "c8cea69b",
   "metadata": {},
   "outputs": [
    {
     "data": {
      "text/plain": [
       "10"
      ]
     },
     "execution_count": 24,
     "metadata": {},
     "output_type": "execute_result"
    }
   ],
   "source": [
    "sd.variance(y)"
   ]
  },
  {
   "cell_type": "code",
   "execution_count": 25,
   "id": "c237a39f",
   "metadata": {},
   "outputs": [],
   "source": [
    "v1=[2,-5,9,8]\n",
    "v2=[-9,-7,-7,-7]"
   ]
  },
  {
   "cell_type": "code",
   "execution_count": 26,
   "id": "9f53fd07",
   "metadata": {},
   "outputs": [
    {
     "name": "stdout",
     "output_type": "stream",
     "text": [
      "24.61706725018234\n"
     ]
    }
   ],
   "source": [
    "import numpy as np\n",
    "\n",
    "v1 = np.array([2, -5, 9, 8])\n",
    "v2 = np.array([-9, -7, -7, -7])\n",
    "\n",
    "distance = np.linalg.norm(v1 - v2)\n",
    "\n",
    "print(distance)\n"
   ]
  },
  {
   "cell_type": "code",
   "execution_count": 27,
   "id": "e2ceabdf",
   "metadata": {},
   "outputs": [
    {
     "name": "stdout",
     "output_type": "stream",
     "text": [
      "[[ 15.   1.   4. -26.]\n",
      " [-35.  18.  11.  20.]\n",
      " [ -4.  16.   3.  11.]\n",
      " [ 17.  -7. -28.  -1.]]\n"
     ]
    }
   ],
   "source": [
    "import numpy as np\n",
    "\n",
    "# Define the matrix\n",
    "matrix = np.array([[-1,-3,3,-1],\n",
    "                   [2,1,3,1],\n",
    "                   [-1,-2,1,-3],\n",
    "                  [-3,-2,2,-1]])\n",
    "\n",
    "# Calculate the adjoint using the np.linalg.inv() and np.linalg.det() functions\n",
    "adjoint = np.linalg.inv(matrix) * np.linalg.det(matrix)\n",
    "\n",
    "print(adjoint)\n"
   ]
  },
  {
   "cell_type": "code",
   "execution_count": 29,
   "id": "502b7879",
   "metadata": {},
   "outputs": [
    {
     "name": "stdout",
     "output_type": "stream",
     "text": [
      "18.0\n"
     ]
    }
   ],
   "source": [
    "A=[[-4,-3,1],[4,-1,1]]\n",
    "\n",
    "\n",
    "\n",
    "import numpy as np\n",
    "\n",
    "# Define the matrix\n",
    "A = np.array([[-4, -3, 1], [4, -1, 1]])\n",
    "\n",
    "# Perform singular value decomposition\n",
    "U, S, Vt = np.linalg.svd(A)\n",
    "\n",
    "# Calculate the product of the largest min(m, n) singular values\n",
    "largest_singular_values_product = np.prod(S[:min(A.shape)])\n",
    "\n",
    "print(largest_singular_values_product)\n"
   ]
  },
  {
   "cell_type": "code",
   "execution_count": 30,
   "id": "33bdd80e",
   "metadata": {},
   "outputs": [
    {
     "data": {
      "text/plain": [
       "(2, 3)"
      ]
     },
     "execution_count": 30,
     "metadata": {},
     "output_type": "execute_result"
    }
   ],
   "source": [
    "A.shape"
   ]
  },
  {
   "cell_type": "code",
   "execution_count": 36,
   "id": "c68dc91f",
   "metadata": {},
   "outputs": [
    {
     "data": {
      "text/plain": [
       "Day     Time\n",
       "Dinner  Mon     1\n",
       "        Sun     1\n",
       "        Tue     1\n",
       "Lunch   Mon     1\n",
       "        Sun     1\n",
       "Name: Time, dtype: int64"
      ]
     },
     "execution_count": 36,
     "metadata": {},
     "output_type": "execute_result"
    }
   ],
   "source": [
    "import pandas as pd \n",
    "data = {'Day': ['Dinner', 'Lunch', 'Dinner', 'Dinner', 'Lunch'], 'Time': ['Tue', 'Sun', 'Mon', 'Sun', 'Mon'],'TotBill':[17, 10, 21, 23,24]}\n",
    "\n",
    "Data=pd.DataFrame(data)\n",
    "Data\n",
    "Data.groupby([ 'Day', 'Time'])['Time'].count()"
   ]
  },
  {
   "cell_type": "code",
   "execution_count": 37,
   "id": "59ebc11c",
   "metadata": {},
   "outputs": [
    {
     "data": {
      "text/html": [
       "<div>\n",
       "<style scoped>\n",
       "    .dataframe tbody tr th:only-of-type {\n",
       "        vertical-align: middle;\n",
       "    }\n",
       "\n",
       "    .dataframe tbody tr th {\n",
       "        vertical-align: top;\n",
       "    }\n",
       "\n",
       "    .dataframe thead th {\n",
       "        text-align: right;\n",
       "    }\n",
       "</style>\n",
       "<table border=\"1\" class=\"dataframe\">\n",
       "  <thead>\n",
       "    <tr style=\"text-align: right;\">\n",
       "      <th></th>\n",
       "      <th>Day</th>\n",
       "      <th>Time</th>\n",
       "      <th>TotBill</th>\n",
       "    </tr>\n",
       "  </thead>\n",
       "  <tbody>\n",
       "    <tr>\n",
       "      <th>0</th>\n",
       "      <td>Dinner</td>\n",
       "      <td>Tue</td>\n",
       "      <td>17</td>\n",
       "    </tr>\n",
       "    <tr>\n",
       "      <th>1</th>\n",
       "      <td>Lunch</td>\n",
       "      <td>Sun</td>\n",
       "      <td>10</td>\n",
       "    </tr>\n",
       "    <tr>\n",
       "      <th>2</th>\n",
       "      <td>Dinner</td>\n",
       "      <td>Mon</td>\n",
       "      <td>21</td>\n",
       "    </tr>\n",
       "    <tr>\n",
       "      <th>3</th>\n",
       "      <td>Dinner</td>\n",
       "      <td>Sun</td>\n",
       "      <td>23</td>\n",
       "    </tr>\n",
       "    <tr>\n",
       "      <th>4</th>\n",
       "      <td>Lunch</td>\n",
       "      <td>Mon</td>\n",
       "      <td>24</td>\n",
       "    </tr>\n",
       "  </tbody>\n",
       "</table>\n",
       "</div>"
      ],
      "text/plain": [
       "      Day Time  TotBill\n",
       "0  Dinner  Tue       17\n",
       "1   Lunch  Sun       10\n",
       "2  Dinner  Mon       21\n",
       "3  Dinner  Sun       23\n",
       "4   Lunch  Mon       24"
      ]
     },
     "execution_count": 37,
     "metadata": {},
     "output_type": "execute_result"
    },
    {
     "name": "stdout",
     "output_type": "stream",
     "text": [
      "The history saving thread hit an unexpected error (OperationalError('database or disk is full')).History will not be written to the database.\n"
     ]
    }
   ],
   "source": [
    "Data"
   ]
  },
  {
   "cell_type": "code",
   "execution_count": 44,
   "id": "53fbae6a",
   "metadata": {},
   "outputs": [
    {
     "name": "stdout",
     "output_type": "stream",
     "text": [
      "a =  [[14, 24, 6, 14, 22, 17], [7, 8, 9]] [[14, 24, 6, 14, 22, 17], [7, 8, 9]] b [[14, 24, 6, 14, 22, 17], [7, 8, 9]]\n"
     ]
    }
   ],
   "source": [
    "\n",
    "import copy\n",
    "\n",
    "X = [5, 4, 3, 2, 1]\n",
    "\n",
    "y = [7, 8, 9]\n",
    "\n",
    "z= [x, y]\n",
    "\n",
    "a=copy.deepcopy(z)\n",
    "\n",
    "b=copy.copy(z)\n",
    "\n",
    "x[2] = 6\n",
    "\n",
    "print('a = ', a, a, 'b', b)"
   ]
  },
  {
   "cell_type": "code",
   "execution_count": 45,
   "id": "3a4b2eb3",
   "metadata": {},
   "outputs": [
    {
     "name": "stdout",
     "output_type": "stream",
     "text": [
      "Coefficient of x^2: -0.14888234202687659\n"
     ]
    },
    {
     "name": "stderr",
     "output_type": "stream",
     "text": [
      "D:\\Download\\Anaconda\\lib\\site-packages\\sklearn\\utils\\deprecation.py:87: FutureWarning: Function get_feature_names is deprecated; get_feature_names is deprecated in 1.0 and will be removed in 1.2. Please use get_feature_names_out instead.\n",
      "  warnings.warn(msg, category=FutureWarning)\n"
     ]
    }
   ],
   "source": [
    "import numpy as np\n",
    "from sklearn.linear_model import LogisticRegression\n",
    "from sklearn.preprocessing import PolynomialFeatures\n",
    "\n",
    "# Define the dataset\n",
    "x1 = np.array([8.44, 3.21, 4.43, 7.52, 2.88, 1.55])\n",
    "x2 = np.array([3, 12, 8, 5, 9, 8])\n",
    "y = np.array([1, 0, 0, 1, 0, 0])\n",
    "\n",
    "# Create polynomial features\n",
    "poly = PolynomialFeatures(degree=2)\n",
    "X = poly.fit_transform(np.column_stack((x1, x2)))\n",
    "\n",
    "# Build logistic regression model\n",
    "model = LogisticRegression()\n",
    "model.fit(X, y)\n",
    "\n",
    "# Extract the coefficients\n",
    "coefficients = model.coef_[0]\n",
    "\n",
    "# Find the coefficient of the term x^2\n",
    "index = poly.get_feature_names().index('x1^2')\n",
    "coefficient_x2 = coefficients[index]\n",
    "\n",
    "# Print the coefficient of x^2\n",
    "print(\"Coefficient of x^2:\", coefficient_x2)\n"
   ]
  },
  {
   "cell_type": "code",
   "execution_count": 46,
   "id": "74ea0354",
   "metadata": {},
   "outputs": [
    {
     "name": "stdout",
     "output_type": "stream",
     "text": [
      "Determinant of (A^(-1)).T: -0.007407407407407408\n"
     ]
    }
   ],
   "source": [
    "import numpy as np\n",
    "\n",
    "# Define the eigenvalues of matrix A\n",
    "eigenvalues = np.array([-3, 9, 5])\n",
    "\n",
    "# Calculate the determinant of A\n",
    "determinant_A = np.prod(eigenvalues)\n",
    "\n",
    "# Calculate the determinant of (A^(-1)).T\n",
    "determinant_inverse_transpose = 1 / determinant_A\n",
    "\n",
    "print(\"Determinant of (A^(-1)).T:\", determinant_inverse_transpose)\n"
   ]
  },
  {
   "cell_type": "code",
   "execution_count": 47,
   "id": "3e33855d",
   "metadata": {},
   "outputs": [
    {
     "ename": "LinAlgError",
     "evalue": "1-dimensional array given. Array must be at least two-dimensional",
     "output_type": "error",
     "traceback": [
      "\u001b[1;31m---------------------------------------------------------------------------\u001b[0m",
      "\u001b[1;31mLinAlgError\u001b[0m                               Traceback (most recent call last)",
      "Input \u001b[1;32mIn [47]\u001b[0m, in \u001b[0;36m<cell line: 1>\u001b[1;34m()\u001b[0m\n\u001b[1;32m----> 1\u001b[0m \u001b[43mnp\u001b[49m\u001b[38;5;241;43m.\u001b[39;49m\u001b[43mlinalg\u001b[49m\u001b[38;5;241;43m.\u001b[39;49m\u001b[43mdet\u001b[49m\u001b[43m(\u001b[49m\u001b[43meigenvalues\u001b[49m\u001b[43m)\u001b[49m\n",
      "File \u001b[1;32m<__array_function__ internals>:5\u001b[0m, in \u001b[0;36mdet\u001b[1;34m(*args, **kwargs)\u001b[0m\n",
      "File \u001b[1;32mD:\\Download\\Anaconda\\lib\\site-packages\\numpy\\linalg\\linalg.py:2154\u001b[0m, in \u001b[0;36mdet\u001b[1;34m(a)\u001b[0m\n\u001b[0;32m   2106\u001b[0m \u001b[38;5;124;03m\"\"\"\u001b[39;00m\n\u001b[0;32m   2107\u001b[0m \u001b[38;5;124;03mCompute the determinant of an array.\u001b[39;00m\n\u001b[0;32m   2108\u001b[0m \n\u001b[1;32m   (...)\u001b[0m\n\u001b[0;32m   2151\u001b[0m \n\u001b[0;32m   2152\u001b[0m \u001b[38;5;124;03m\"\"\"\u001b[39;00m\n\u001b[0;32m   2153\u001b[0m a \u001b[38;5;241m=\u001b[39m asarray(a)\n\u001b[1;32m-> 2154\u001b[0m \u001b[43m_assert_stacked_2d\u001b[49m\u001b[43m(\u001b[49m\u001b[43ma\u001b[49m\u001b[43m)\u001b[49m\n\u001b[0;32m   2155\u001b[0m _assert_stacked_square(a)\n\u001b[0;32m   2156\u001b[0m t, result_t \u001b[38;5;241m=\u001b[39m _commonType(a)\n",
      "File \u001b[1;32mD:\\Download\\Anaconda\\lib\\site-packages\\numpy\\linalg\\linalg.py:196\u001b[0m, in \u001b[0;36m_assert_stacked_2d\u001b[1;34m(*arrays)\u001b[0m\n\u001b[0;32m    194\u001b[0m \u001b[38;5;28;01mfor\u001b[39;00m a \u001b[38;5;129;01min\u001b[39;00m arrays:\n\u001b[0;32m    195\u001b[0m     \u001b[38;5;28;01mif\u001b[39;00m a\u001b[38;5;241m.\u001b[39mndim \u001b[38;5;241m<\u001b[39m \u001b[38;5;241m2\u001b[39m:\n\u001b[1;32m--> 196\u001b[0m         \u001b[38;5;28;01mraise\u001b[39;00m LinAlgError(\u001b[38;5;124m'\u001b[39m\u001b[38;5;132;01m%d\u001b[39;00m\u001b[38;5;124m-dimensional array given. Array must be \u001b[39m\u001b[38;5;124m'\u001b[39m\n\u001b[0;32m    197\u001b[0m                 \u001b[38;5;124m'\u001b[39m\u001b[38;5;124mat least two-dimensional\u001b[39m\u001b[38;5;124m'\u001b[39m \u001b[38;5;241m%\u001b[39m a\u001b[38;5;241m.\u001b[39mndim)\n",
      "\u001b[1;31mLinAlgError\u001b[0m: 1-dimensional array given. Array must be at least two-dimensional"
     ]
    }
   ],
   "source": [
    "np.linalg.det(eigenvalues)"
   ]
  },
  {
   "cell_type": "code",
   "execution_count": 48,
   "id": "40845cb9",
   "metadata": {},
   "outputs": [
    {
     "data": {
      "text/plain": [
       "-135"
      ]
     },
     "execution_count": 48,
     "metadata": {},
     "output_type": "execute_result"
    }
   ],
   "source": [
    "determinant_A"
   ]
  },
  {
   "cell_type": "code",
   "execution_count": 49,
   "id": "446e1aeb",
   "metadata": {},
   "outputs": [
    {
     "name": "stdout",
     "output_type": "stream",
     "text": [
      "Sum of eigenvalues: -4.999999999999998\n"
     ]
    }
   ],
   "source": [
    "import numpy as np\n",
    "\n",
    "A = np.array([[-8, -1, 4, 6],\n",
    "              [-10, 1, 4, 6],\n",
    "              [-5, -1, 1, 6],\n",
    "              [-3, -1, 4, 1]])\n",
    "\n",
    "eigenvalues = np.linalg.eigvals(A)\n",
    "sum_of_eigenvalues = np.sum(eigenvalues)\n",
    "\n",
    "print(\"Sum of eigenvalues:\", sum_of_eigenvalues)\n"
   ]
  },
  {
   "cell_type": "code",
   "execution_count": 50,
   "id": "6603e6fa",
   "metadata": {},
   "outputs": [
    {
     "ename": "NameError",
     "evalue": "name 'v' is not defined",
     "output_type": "error",
     "traceback": [
      "\u001b[1;31m---------------------------------------------------------------------------\u001b[0m",
      "\u001b[1;31mNameError\u001b[0m                                 Traceback (most recent call last)",
      "Input \u001b[1;32mIn [50]\u001b[0m, in \u001b[0;36m<cell line: 2>\u001b[1;34m()\u001b[0m\n\u001b[0;32m      1\u001b[0m A\u001b[38;5;241m=\u001b[39m[[\u001b[38;5;241m1\u001b[39m,\u001b[38;5;241m-\u001b[39m\u001b[38;5;241m1\u001b[39m,\u001b[38;5;241m0\u001b[39m,\u001b[38;5;241m1\u001b[39m],[\u001b[38;5;241m1\u001b[39m,\u001b[38;5;241m-\u001b[39m\u001b[38;5;241m7\u001b[39m,\u001b[38;5;241m4\u001b[39m,\u001b[38;5;241m3\u001b[39m],[\u001b[38;5;241m2\u001b[39m,\u001b[38;5;241m-\u001b[39m\u001b[38;5;241m20\u001b[39m,\u001b[38;5;241m12\u001b[39m,\u001b[38;5;241m8\u001b[39m],[\u001b[38;5;241m-\u001b[39m\u001b[38;5;241m2\u001b[39m,\u001b[38;5;241m20\u001b[39m,\u001b[38;5;241m-\u001b[39m\u001b[38;5;241m12\u001b[39m,\u001b[38;5;241m-\u001b[39m\u001b[38;5;241m8\u001b[39m]]\n\u001b[1;32m----> 2\u001b[0m \u001b[43mv\u001b[49m\u001b[38;5;241m-\u001b[39m[\u001b[38;5;241m5\u001b[39m,\u001b[38;5;241m5\u001b[39m,\u001b[38;5;241m-\u001b[39m\u001b[38;5;241m2\u001b[39m,\u001b[38;5;241m2\u001b[39m]\n",
      "\u001b[1;31mNameError\u001b[0m: name 'v' is not defined"
     ]
    }
   ],
   "source": [
    "A=[[1,-1,0,1],[1,-7,4,3],[2,-20,12,8],[-2,20,-12,-8]]\n",
    "v-[5,5,-2,2]"
   ]
  },
  {
   "cell_type": "code",
   "execution_count": 51,
   "id": "056fd80a",
   "metadata": {},
   "outputs": [
    {
     "name": "stdout",
     "output_type": "stream",
     "text": [
      "Unit vector: [0.6565321642986127, 0.6565321642986127, -0.2626128657194451, 0.2626128657194451]\n"
     ]
    }
   ],
   "source": [
    "import math\n",
    "\n",
    "def calculate_unit_vector(v):\n",
    "    magnitude_v = math.sqrt(sum(component**2 for component in v))\n",
    "    unit_vector = [component / magnitude_v for component in v]\n",
    "    return unit_vector\n",
    "\n",
    "# Example usage\n",
    "v = [5, 5, -2, 2]\n",
    "unit_vector = calculate_unit_vector(v)\n",
    "\n",
    "print(\"Unit vector:\", unit_vector)\n"
   ]
  },
  {
   "cell_type": "code",
   "execution_count": 56,
   "id": "16a449cb",
   "metadata": {},
   "outputs": [
    {
     "name": "stdout",
     "output_type": "stream",
     "text": [
      "scitamehtaMsilaitnesseniynamsdleif\n"
     ]
    }
   ],
   "source": [
    "final = ''\n",
    "\n",
    "x = \"Mathematics is essential in many fields\"\n",
    "\n",
    "x_upd = x.split(\" \")\n",
    "\n",
    "x_upd =[elem[::-1] for elem in x_upd]\n",
    "for elem in x_upd:\n",
    "    final += elem + ''\n",
    "print(final)"
   ]
  },
  {
   "cell_type": "code",
   "execution_count": 57,
   "id": "bf3629cd",
   "metadata": {},
   "outputs": [],
   "source": [
    "df=pd.read_csv('Class/bank_marketing (1).csv')"
   ]
  },
  {
   "cell_type": "code",
   "execution_count": 58,
   "id": "f51dacd1",
   "metadata": {},
   "outputs": [
    {
     "data": {
      "text/html": [
       "<div>\n",
       "<style scoped>\n",
       "    .dataframe tbody tr th:only-of-type {\n",
       "        vertical-align: middle;\n",
       "    }\n",
       "\n",
       "    .dataframe tbody tr th {\n",
       "        vertical-align: top;\n",
       "    }\n",
       "\n",
       "    .dataframe thead th {\n",
       "        text-align: right;\n",
       "    }\n",
       "</style>\n",
       "<table border=\"1\" class=\"dataframe\">\n",
       "  <thead>\n",
       "    <tr style=\"text-align: right;\">\n",
       "      <th></th>\n",
       "      <th>Unnamed: 0</th>\n",
       "      <th>age</th>\n",
       "      <th>job</th>\n",
       "      <th>marital</th>\n",
       "      <th>education</th>\n",
       "      <th>default</th>\n",
       "      <th>balance</th>\n",
       "      <th>housing</th>\n",
       "      <th>loan</th>\n",
       "      <th>contact</th>\n",
       "      <th>day</th>\n",
       "      <th>month</th>\n",
       "      <th>duration</th>\n",
       "      <th>campaign</th>\n",
       "      <th>pdays</th>\n",
       "      <th>previous</th>\n",
       "      <th>poutcome</th>\n",
       "      <th>deposit</th>\n",
       "    </tr>\n",
       "  </thead>\n",
       "  <tbody>\n",
       "    <tr>\n",
       "      <th>0</th>\n",
       "      <td>0</td>\n",
       "      <td>41</td>\n",
       "      <td>services</td>\n",
       "      <td>married</td>\n",
       "      <td>unknown</td>\n",
       "      <td>no</td>\n",
       "      <td>88</td>\n",
       "      <td>yes</td>\n",
       "      <td>no</td>\n",
       "      <td>cellular</td>\n",
       "      <td>11</td>\n",
       "      <td>may</td>\n",
       "      <td>105</td>\n",
       "      <td>1</td>\n",
       "      <td>336</td>\n",
       "      <td>2</td>\n",
       "      <td>failure</td>\n",
       "      <td>no</td>\n",
       "    </tr>\n",
       "    <tr>\n",
       "      <th>1</th>\n",
       "      <td>1</td>\n",
       "      <td>56</td>\n",
       "      <td>technician</td>\n",
       "      <td>married</td>\n",
       "      <td>secondary</td>\n",
       "      <td>no</td>\n",
       "      <td>1938</td>\n",
       "      <td>no</td>\n",
       "      <td>yes</td>\n",
       "      <td>cellular</td>\n",
       "      <td>26</td>\n",
       "      <td>feb</td>\n",
       "      <td>229</td>\n",
       "      <td>1</td>\n",
       "      <td>192</td>\n",
       "      <td>4</td>\n",
       "      <td>success</td>\n",
       "      <td>yes</td>\n",
       "    </tr>\n",
       "    <tr>\n",
       "      <th>2</th>\n",
       "      <td>2</td>\n",
       "      <td>30</td>\n",
       "      <td>services</td>\n",
       "      <td>single</td>\n",
       "      <td>secondary</td>\n",
       "      <td>no</td>\n",
       "      <td>245</td>\n",
       "      <td>no</td>\n",
       "      <td>yes</td>\n",
       "      <td>cellular</td>\n",
       "      <td>8</td>\n",
       "      <td>jul</td>\n",
       "      <td>187</td>\n",
       "      <td>2</td>\n",
       "      <td>-1</td>\n",
       "      <td>0</td>\n",
       "      <td>unknown</td>\n",
       "      <td>no</td>\n",
       "    </tr>\n",
       "    <tr>\n",
       "      <th>3</th>\n",
       "      <td>3</td>\n",
       "      <td>34</td>\n",
       "      <td>management</td>\n",
       "      <td>single</td>\n",
       "      <td>tertiary</td>\n",
       "      <td>no</td>\n",
       "      <td>1396</td>\n",
       "      <td>yes</td>\n",
       "      <td>no</td>\n",
       "      <td>cellular</td>\n",
       "      <td>17</td>\n",
       "      <td>jul</td>\n",
       "      <td>630</td>\n",
       "      <td>1</td>\n",
       "      <td>-1</td>\n",
       "      <td>0</td>\n",
       "      <td>unknown</td>\n",
       "      <td>no</td>\n",
       "    </tr>\n",
       "    <tr>\n",
       "      <th>4</th>\n",
       "      <td>4</td>\n",
       "      <td>29</td>\n",
       "      <td>technician</td>\n",
       "      <td>single</td>\n",
       "      <td>secondary</td>\n",
       "      <td>no</td>\n",
       "      <td>-13</td>\n",
       "      <td>yes</td>\n",
       "      <td>no</td>\n",
       "      <td>cellular</td>\n",
       "      <td>14</td>\n",
       "      <td>may</td>\n",
       "      <td>512</td>\n",
       "      <td>3</td>\n",
       "      <td>-1</td>\n",
       "      <td>0</td>\n",
       "      <td>unknown</td>\n",
       "      <td>no</td>\n",
       "    </tr>\n",
       "  </tbody>\n",
       "</table>\n",
       "</div>"
      ],
      "text/plain": [
       "   Unnamed: 0  age         job  marital  education default  balance housing  \\\n",
       "0           0   41    services  married    unknown      no       88     yes   \n",
       "1           1   56  technician  married  secondary      no     1938      no   \n",
       "2           2   30    services   single  secondary      no      245      no   \n",
       "3           3   34  management   single   tertiary      no     1396     yes   \n",
       "4           4   29  technician   single  secondary      no      -13     yes   \n",
       "\n",
       "  loan   contact  day month  duration  campaign  pdays  previous poutcome  \\\n",
       "0   no  cellular   11   may       105         1    336         2  failure   \n",
       "1  yes  cellular   26   feb       229         1    192         4  success   \n",
       "2  yes  cellular    8   jul       187         2     -1         0  unknown   \n",
       "3   no  cellular   17   jul       630         1     -1         0  unknown   \n",
       "4   no  cellular   14   may       512         3     -1         0  unknown   \n",
       "\n",
       "  deposit  \n",
       "0      no  \n",
       "1     yes  \n",
       "2      no  \n",
       "3      no  \n",
       "4      no  "
      ]
     },
     "execution_count": 58,
     "metadata": {},
     "output_type": "execute_result"
    }
   ],
   "source": [
    "df.head()"
   ]
  },
  {
   "cell_type": "code",
   "execution_count": 107,
   "id": "6dcb8bfe",
   "metadata": {
    "scrolled": true
   },
   "outputs": [
    {
     "data": {
      "text/html": [
       "<div>\n",
       "<style scoped>\n",
       "    .dataframe tbody tr th:only-of-type {\n",
       "        vertical-align: middle;\n",
       "    }\n",
       "\n",
       "    .dataframe tbody tr th {\n",
       "        vertical-align: top;\n",
       "    }\n",
       "\n",
       "    .dataframe thead th {\n",
       "        text-align: right;\n",
       "    }\n",
       "</style>\n",
       "<table border=\"1\" class=\"dataframe\">\n",
       "  <thead>\n",
       "    <tr style=\"text-align: right;\">\n",
       "      <th></th>\n",
       "      <th>age</th>\n",
       "      <th>balance</th>\n",
       "      <th>day</th>\n",
       "      <th>duration</th>\n",
       "      <th>campaign</th>\n",
       "      <th>pdays</th>\n",
       "      <th>previous</th>\n",
       "      <th>job_admin.</th>\n",
       "      <th>job_blue-collar</th>\n",
       "      <th>job_entrepreneur</th>\n",
       "      <th>...</th>\n",
       "      <th>month_may</th>\n",
       "      <th>month_nov</th>\n",
       "      <th>month_oct</th>\n",
       "      <th>month_sep</th>\n",
       "      <th>poutcome_failure</th>\n",
       "      <th>poutcome_other</th>\n",
       "      <th>poutcome_success</th>\n",
       "      <th>poutcome_unknown</th>\n",
       "      <th>deposit_no</th>\n",
       "      <th>deposit_yes</th>\n",
       "    </tr>\n",
       "  </thead>\n",
       "  <tbody>\n",
       "    <tr>\n",
       "      <th>0</th>\n",
       "      <td>41</td>\n",
       "      <td>88</td>\n",
       "      <td>11</td>\n",
       "      <td>105</td>\n",
       "      <td>1</td>\n",
       "      <td>336</td>\n",
       "      <td>2</td>\n",
       "      <td>0</td>\n",
       "      <td>0</td>\n",
       "      <td>0</td>\n",
       "      <td>...</td>\n",
       "      <td>1</td>\n",
       "      <td>0</td>\n",
       "      <td>0</td>\n",
       "      <td>0</td>\n",
       "      <td>1</td>\n",
       "      <td>0</td>\n",
       "      <td>0</td>\n",
       "      <td>0</td>\n",
       "      <td>1</td>\n",
       "      <td>0</td>\n",
       "    </tr>\n",
       "    <tr>\n",
       "      <th>1</th>\n",
       "      <td>56</td>\n",
       "      <td>1938</td>\n",
       "      <td>26</td>\n",
       "      <td>229</td>\n",
       "      <td>1</td>\n",
       "      <td>192</td>\n",
       "      <td>4</td>\n",
       "      <td>0</td>\n",
       "      <td>0</td>\n",
       "      <td>0</td>\n",
       "      <td>...</td>\n",
       "      <td>0</td>\n",
       "      <td>0</td>\n",
       "      <td>0</td>\n",
       "      <td>0</td>\n",
       "      <td>0</td>\n",
       "      <td>0</td>\n",
       "      <td>1</td>\n",
       "      <td>0</td>\n",
       "      <td>0</td>\n",
       "      <td>1</td>\n",
       "    </tr>\n",
       "    <tr>\n",
       "      <th>2</th>\n",
       "      <td>30</td>\n",
       "      <td>245</td>\n",
       "      <td>8</td>\n",
       "      <td>187</td>\n",
       "      <td>2</td>\n",
       "      <td>-1</td>\n",
       "      <td>0</td>\n",
       "      <td>0</td>\n",
       "      <td>0</td>\n",
       "      <td>0</td>\n",
       "      <td>...</td>\n",
       "      <td>0</td>\n",
       "      <td>0</td>\n",
       "      <td>0</td>\n",
       "      <td>0</td>\n",
       "      <td>0</td>\n",
       "      <td>0</td>\n",
       "      <td>0</td>\n",
       "      <td>1</td>\n",
       "      <td>1</td>\n",
       "      <td>0</td>\n",
       "    </tr>\n",
       "    <tr>\n",
       "      <th>3</th>\n",
       "      <td>34</td>\n",
       "      <td>1396</td>\n",
       "      <td>17</td>\n",
       "      <td>630</td>\n",
       "      <td>1</td>\n",
       "      <td>-1</td>\n",
       "      <td>0</td>\n",
       "      <td>0</td>\n",
       "      <td>0</td>\n",
       "      <td>0</td>\n",
       "      <td>...</td>\n",
       "      <td>0</td>\n",
       "      <td>0</td>\n",
       "      <td>0</td>\n",
       "      <td>0</td>\n",
       "      <td>0</td>\n",
       "      <td>0</td>\n",
       "      <td>0</td>\n",
       "      <td>1</td>\n",
       "      <td>1</td>\n",
       "      <td>0</td>\n",
       "    </tr>\n",
       "    <tr>\n",
       "      <th>4</th>\n",
       "      <td>29</td>\n",
       "      <td>-13</td>\n",
       "      <td>14</td>\n",
       "      <td>512</td>\n",
       "      <td>3</td>\n",
       "      <td>-1</td>\n",
       "      <td>0</td>\n",
       "      <td>0</td>\n",
       "      <td>0</td>\n",
       "      <td>0</td>\n",
       "      <td>...</td>\n",
       "      <td>1</td>\n",
       "      <td>0</td>\n",
       "      <td>0</td>\n",
       "      <td>0</td>\n",
       "      <td>0</td>\n",
       "      <td>0</td>\n",
       "      <td>0</td>\n",
       "      <td>1</td>\n",
       "      <td>1</td>\n",
       "      <td>0</td>\n",
       "    </tr>\n",
       "    <tr>\n",
       "      <th>...</th>\n",
       "      <td>...</td>\n",
       "      <td>...</td>\n",
       "      <td>...</td>\n",
       "      <td>...</td>\n",
       "      <td>...</td>\n",
       "      <td>...</td>\n",
       "      <td>...</td>\n",
       "      <td>...</td>\n",
       "      <td>...</td>\n",
       "      <td>...</td>\n",
       "      <td>...</td>\n",
       "      <td>...</td>\n",
       "      <td>...</td>\n",
       "      <td>...</td>\n",
       "      <td>...</td>\n",
       "      <td>...</td>\n",
       "      <td>...</td>\n",
       "      <td>...</td>\n",
       "      <td>...</td>\n",
       "      <td>...</td>\n",
       "      <td>...</td>\n",
       "    </tr>\n",
       "    <tr>\n",
       "      <th>5576</th>\n",
       "      <td>48</td>\n",
       "      <td>2235</td>\n",
       "      <td>15</td>\n",
       "      <td>755</td>\n",
       "      <td>2</td>\n",
       "      <td>-1</td>\n",
       "      <td>0</td>\n",
       "      <td>1</td>\n",
       "      <td>0</td>\n",
       "      <td>0</td>\n",
       "      <td>...</td>\n",
       "      <td>1</td>\n",
       "      <td>0</td>\n",
       "      <td>0</td>\n",
       "      <td>0</td>\n",
       "      <td>0</td>\n",
       "      <td>0</td>\n",
       "      <td>0</td>\n",
       "      <td>1</td>\n",
       "      <td>1</td>\n",
       "      <td>0</td>\n",
       "    </tr>\n",
       "    <tr>\n",
       "      <th>5577</th>\n",
       "      <td>40</td>\n",
       "      <td>-388</td>\n",
       "      <td>4</td>\n",
       "      <td>195</td>\n",
       "      <td>3</td>\n",
       "      <td>340</td>\n",
       "      <td>1</td>\n",
       "      <td>0</td>\n",
       "      <td>1</td>\n",
       "      <td>0</td>\n",
       "      <td>...</td>\n",
       "      <td>1</td>\n",
       "      <td>0</td>\n",
       "      <td>0</td>\n",
       "      <td>0</td>\n",
       "      <td>1</td>\n",
       "      <td>0</td>\n",
       "      <td>0</td>\n",
       "      <td>0</td>\n",
       "      <td>1</td>\n",
       "      <td>0</td>\n",
       "    </tr>\n",
       "    <tr>\n",
       "      <th>5578</th>\n",
       "      <td>27</td>\n",
       "      <td>91</td>\n",
       "      <td>4</td>\n",
       "      <td>157</td>\n",
       "      <td>6</td>\n",
       "      <td>95</td>\n",
       "      <td>37</td>\n",
       "      <td>0</td>\n",
       "      <td>0</td>\n",
       "      <td>0</td>\n",
       "      <td>...</td>\n",
       "      <td>0</td>\n",
       "      <td>0</td>\n",
       "      <td>0</td>\n",
       "      <td>0</td>\n",
       "      <td>0</td>\n",
       "      <td>1</td>\n",
       "      <td>0</td>\n",
       "      <td>0</td>\n",
       "      <td>1</td>\n",
       "      <td>0</td>\n",
       "    </tr>\n",
       "    <tr>\n",
       "      <th>5579</th>\n",
       "      <td>46</td>\n",
       "      <td>1568</td>\n",
       "      <td>2</td>\n",
       "      <td>310</td>\n",
       "      <td>1</td>\n",
       "      <td>55</td>\n",
       "      <td>6</td>\n",
       "      <td>0</td>\n",
       "      <td>1</td>\n",
       "      <td>0</td>\n",
       "      <td>...</td>\n",
       "      <td>0</td>\n",
       "      <td>0</td>\n",
       "      <td>0</td>\n",
       "      <td>0</td>\n",
       "      <td>0</td>\n",
       "      <td>1</td>\n",
       "      <td>0</td>\n",
       "      <td>0</td>\n",
       "      <td>0</td>\n",
       "      <td>1</td>\n",
       "    </tr>\n",
       "    <tr>\n",
       "      <th>5580</th>\n",
       "      <td>39</td>\n",
       "      <td>0</td>\n",
       "      <td>8</td>\n",
       "      <td>503</td>\n",
       "      <td>1</td>\n",
       "      <td>-1</td>\n",
       "      <td>0</td>\n",
       "      <td>0</td>\n",
       "      <td>0</td>\n",
       "      <td>0</td>\n",
       "      <td>...</td>\n",
       "      <td>1</td>\n",
       "      <td>0</td>\n",
       "      <td>0</td>\n",
       "      <td>0</td>\n",
       "      <td>0</td>\n",
       "      <td>0</td>\n",
       "      <td>0</td>\n",
       "      <td>1</td>\n",
       "      <td>1</td>\n",
       "      <td>0</td>\n",
       "    </tr>\n",
       "  </tbody>\n",
       "</table>\n",
       "<p>5581 rows × 53 columns</p>\n",
       "</div>"
      ],
      "text/plain": [
       "      age  balance  day  duration  campaign  pdays  previous  job_admin.  \\\n",
       "0      41       88   11       105         1    336         2           0   \n",
       "1      56     1938   26       229         1    192         4           0   \n",
       "2      30      245    8       187         2     -1         0           0   \n",
       "3      34     1396   17       630         1     -1         0           0   \n",
       "4      29      -13   14       512         3     -1         0           0   \n",
       "...   ...      ...  ...       ...       ...    ...       ...         ...   \n",
       "5576   48     2235   15       755         2     -1         0           1   \n",
       "5577   40     -388    4       195         3    340         1           0   \n",
       "5578   27       91    4       157         6     95        37           0   \n",
       "5579   46     1568    2       310         1     55         6           0   \n",
       "5580   39        0    8       503         1     -1         0           0   \n",
       "\n",
       "      job_blue-collar  job_entrepreneur  ...  month_may  month_nov  month_oct  \\\n",
       "0                   0                 0  ...          1          0          0   \n",
       "1                   0                 0  ...          0          0          0   \n",
       "2                   0                 0  ...          0          0          0   \n",
       "3                   0                 0  ...          0          0          0   \n",
       "4                   0                 0  ...          1          0          0   \n",
       "...               ...               ...  ...        ...        ...        ...   \n",
       "5576                0                 0  ...          1          0          0   \n",
       "5577                1                 0  ...          1          0          0   \n",
       "5578                0                 0  ...          0          0          0   \n",
       "5579                1                 0  ...          0          0          0   \n",
       "5580                0                 0  ...          1          0          0   \n",
       "\n",
       "      month_sep  poutcome_failure  poutcome_other  poutcome_success  \\\n",
       "0             0                 1               0                 0   \n",
       "1             0                 0               0                 1   \n",
       "2             0                 0               0                 0   \n",
       "3             0                 0               0                 0   \n",
       "4             0                 0               0                 0   \n",
       "...         ...               ...             ...               ...   \n",
       "5576          0                 0               0                 0   \n",
       "5577          0                 1               0                 0   \n",
       "5578          0                 0               1                 0   \n",
       "5579          0                 0               1                 0   \n",
       "5580          0                 0               0                 0   \n",
       "\n",
       "      poutcome_unknown  deposit_no  deposit_yes  \n",
       "0                    0           1            0  \n",
       "1                    0           0            1  \n",
       "2                    1           1            0  \n",
       "3                    1           1            0  \n",
       "4                    1           1            0  \n",
       "...                ...         ...          ...  \n",
       "5576                 1           1            0  \n",
       "5577                 0           1            0  \n",
       "5578                 0           1            0  \n",
       "5579                 0           0            1  \n",
       "5580                 1           1            0  \n",
       "\n",
       "[5581 rows x 53 columns]"
      ]
     },
     "execution_count": 107,
     "metadata": {},
     "output_type": "execute_result"
    }
   ],
   "source": [
    "# df=df.drop(['Unnamed: 0'],axis=1)\n",
    "df"
   ]
  },
  {
   "cell_type": "code",
   "execution_count": 105,
   "id": "7e8c3b80",
   "metadata": {
    "scrolled": true
   },
   "outputs": [
    {
     "data": {
      "text/plain": [
       "Index(['age', 'balance', 'day', 'duration', 'campaign', 'pdays', 'previous',\n",
       "       'job_admin.', 'job_blue-collar', 'job_entrepreneur', 'job_housemaid',\n",
       "       'job_management', 'job_retired', 'job_self-employed', 'job_services',\n",
       "       'job_student', 'job_technician', 'job_unemployed', 'job_unknown',\n",
       "       'marital_divorced', 'marital_married', 'marital_single',\n",
       "       'education_primary', 'education_secondary', 'education_tertiary',\n",
       "       'education_unknown', 'default_no', 'default_yes', 'housing_no',\n",
       "       'housing_yes', 'loan_no', 'loan_yes', 'contact_cellular',\n",
       "       'contact_telephone', 'contact_unknown', 'month_apr', 'month_aug',\n",
       "       'month_dec', 'month_feb', 'month_jan', 'month_jul', 'month_jun',\n",
       "       'month_mar', 'month_may', 'month_nov', 'month_oct', 'month_sep',\n",
       "       'poutcome_failure', 'poutcome_other', 'poutcome_success',\n",
       "       'poutcome_unknown', 'deposit_no', 'deposit_yes'],\n",
       "      dtype='object')"
      ]
     },
     "execution_count": 105,
     "metadata": {},
     "output_type": "execute_result"
    }
   ],
   "source": [
    "df.columns"
   ]
  },
  {
   "cell_type": "code",
   "execution_count": 97,
   "id": "09a83aae",
   "metadata": {},
   "outputs": [
    {
     "data": {
      "text/html": [
       "<div>\n",
       "<style scoped>\n",
       "    .dataframe tbody tr th:only-of-type {\n",
       "        vertical-align: middle;\n",
       "    }\n",
       "\n",
       "    .dataframe tbody tr th {\n",
       "        vertical-align: top;\n",
       "    }\n",
       "\n",
       "    .dataframe thead th {\n",
       "        text-align: right;\n",
       "    }\n",
       "</style>\n",
       "<table border=\"1\" class=\"dataframe\">\n",
       "  <thead>\n",
       "    <tr style=\"text-align: right;\">\n",
       "      <th></th>\n",
       "      <th>Unnamed: 0</th>\n",
       "      <th>age</th>\n",
       "      <th>job</th>\n",
       "      <th>marital</th>\n",
       "      <th>education</th>\n",
       "      <th>default</th>\n",
       "      <th>balance</th>\n",
       "      <th>housing</th>\n",
       "      <th>loan</th>\n",
       "      <th>contact</th>\n",
       "      <th>day</th>\n",
       "      <th>month</th>\n",
       "      <th>duration</th>\n",
       "      <th>campaign</th>\n",
       "      <th>pdays</th>\n",
       "      <th>previous</th>\n",
       "      <th>poutcome</th>\n",
       "      <th>deposit</th>\n",
       "    </tr>\n",
       "  </thead>\n",
       "  <tbody>\n",
       "    <tr>\n",
       "      <th>5</th>\n",
       "      <td>5</td>\n",
       "      <td>26</td>\n",
       "      <td>unemployed</td>\n",
       "      <td>single</td>\n",
       "      <td>secondary</td>\n",
       "      <td>no</td>\n",
       "      <td>632</td>\n",
       "      <td>no</td>\n",
       "      <td>no</td>\n",
       "      <td>cellular</td>\n",
       "      <td>12</td>\n",
       "      <td>feb</td>\n",
       "      <td>218</td>\n",
       "      <td>1</td>\n",
       "      <td>-1</td>\n",
       "      <td>0</td>\n",
       "      <td>unknown</td>\n",
       "      <td>yes</td>\n",
       "    </tr>\n",
       "    <tr>\n",
       "      <th>10</th>\n",
       "      <td>10</td>\n",
       "      <td>51</td>\n",
       "      <td>unemployed</td>\n",
       "      <td>married</td>\n",
       "      <td>secondary</td>\n",
       "      <td>no</td>\n",
       "      <td>1416</td>\n",
       "      <td>no</td>\n",
       "      <td>no</td>\n",
       "      <td>cellular</td>\n",
       "      <td>9</td>\n",
       "      <td>sep</td>\n",
       "      <td>345</td>\n",
       "      <td>1</td>\n",
       "      <td>-1</td>\n",
       "      <td>0</td>\n",
       "      <td>unknown</td>\n",
       "      <td>yes</td>\n",
       "    </tr>\n",
       "    <tr>\n",
       "      <th>243</th>\n",
       "      <td>243</td>\n",
       "      <td>26</td>\n",
       "      <td>unemployed</td>\n",
       "      <td>single</td>\n",
       "      <td>tertiary</td>\n",
       "      <td>no</td>\n",
       "      <td>814</td>\n",
       "      <td>no</td>\n",
       "      <td>no</td>\n",
       "      <td>cellular</td>\n",
       "      <td>28</td>\n",
       "      <td>jan</td>\n",
       "      <td>1387</td>\n",
       "      <td>1</td>\n",
       "      <td>-1</td>\n",
       "      <td>0</td>\n",
       "      <td>unknown</td>\n",
       "      <td>yes</td>\n",
       "    </tr>\n",
       "    <tr>\n",
       "      <th>252</th>\n",
       "      <td>252</td>\n",
       "      <td>28</td>\n",
       "      <td>unemployed</td>\n",
       "      <td>married</td>\n",
       "      <td>primary</td>\n",
       "      <td>no</td>\n",
       "      <td>7459</td>\n",
       "      <td>yes</td>\n",
       "      <td>no</td>\n",
       "      <td>cellular</td>\n",
       "      <td>2</td>\n",
       "      <td>feb</td>\n",
       "      <td>981</td>\n",
       "      <td>5</td>\n",
       "      <td>269</td>\n",
       "      <td>2</td>\n",
       "      <td>failure</td>\n",
       "      <td>yes</td>\n",
       "    </tr>\n",
       "    <tr>\n",
       "      <th>440</th>\n",
       "      <td>440</td>\n",
       "      <td>56</td>\n",
       "      <td>unemployed</td>\n",
       "      <td>married</td>\n",
       "      <td>secondary</td>\n",
       "      <td>no</td>\n",
       "      <td>0</td>\n",
       "      <td>no</td>\n",
       "      <td>no</td>\n",
       "      <td>telephone</td>\n",
       "      <td>2</td>\n",
       "      <td>feb</td>\n",
       "      <td>492</td>\n",
       "      <td>1</td>\n",
       "      <td>-1</td>\n",
       "      <td>0</td>\n",
       "      <td>unknown</td>\n",
       "      <td>yes</td>\n",
       "    </tr>\n",
       "    <tr>\n",
       "      <th>...</th>\n",
       "      <td>...</td>\n",
       "      <td>...</td>\n",
       "      <td>...</td>\n",
       "      <td>...</td>\n",
       "      <td>...</td>\n",
       "      <td>...</td>\n",
       "      <td>...</td>\n",
       "      <td>...</td>\n",
       "      <td>...</td>\n",
       "      <td>...</td>\n",
       "      <td>...</td>\n",
       "      <td>...</td>\n",
       "      <td>...</td>\n",
       "      <td>...</td>\n",
       "      <td>...</td>\n",
       "      <td>...</td>\n",
       "      <td>...</td>\n",
       "      <td>...</td>\n",
       "    </tr>\n",
       "    <tr>\n",
       "      <th>5370</th>\n",
       "      <td>5370</td>\n",
       "      <td>37</td>\n",
       "      <td>unemployed</td>\n",
       "      <td>single</td>\n",
       "      <td>secondary</td>\n",
       "      <td>no</td>\n",
       "      <td>381</td>\n",
       "      <td>yes</td>\n",
       "      <td>no</td>\n",
       "      <td>unknown</td>\n",
       "      <td>8</td>\n",
       "      <td>may</td>\n",
       "      <td>985</td>\n",
       "      <td>2</td>\n",
       "      <td>-1</td>\n",
       "      <td>0</td>\n",
       "      <td>unknown</td>\n",
       "      <td>yes</td>\n",
       "    </tr>\n",
       "    <tr>\n",
       "      <th>5377</th>\n",
       "      <td>5377</td>\n",
       "      <td>31</td>\n",
       "      <td>unemployed</td>\n",
       "      <td>married</td>\n",
       "      <td>secondary</td>\n",
       "      <td>no</td>\n",
       "      <td>6</td>\n",
       "      <td>no</td>\n",
       "      <td>no</td>\n",
       "      <td>cellular</td>\n",
       "      <td>4</td>\n",
       "      <td>jun</td>\n",
       "      <td>121</td>\n",
       "      <td>4</td>\n",
       "      <td>-1</td>\n",
       "      <td>0</td>\n",
       "      <td>unknown</td>\n",
       "      <td>yes</td>\n",
       "    </tr>\n",
       "    <tr>\n",
       "      <th>5422</th>\n",
       "      <td>5422</td>\n",
       "      <td>48</td>\n",
       "      <td>unemployed</td>\n",
       "      <td>divorced</td>\n",
       "      <td>secondary</td>\n",
       "      <td>no</td>\n",
       "      <td>201</td>\n",
       "      <td>no</td>\n",
       "      <td>no</td>\n",
       "      <td>cellular</td>\n",
       "      <td>10</td>\n",
       "      <td>nov</td>\n",
       "      <td>594</td>\n",
       "      <td>1</td>\n",
       "      <td>91</td>\n",
       "      <td>1</td>\n",
       "      <td>success</td>\n",
       "      <td>yes</td>\n",
       "    </tr>\n",
       "    <tr>\n",
       "      <th>5464</th>\n",
       "      <td>5464</td>\n",
       "      <td>25</td>\n",
       "      <td>unemployed</td>\n",
       "      <td>single</td>\n",
       "      <td>tertiary</td>\n",
       "      <td>no</td>\n",
       "      <td>343</td>\n",
       "      <td>no</td>\n",
       "      <td>no</td>\n",
       "      <td>cellular</td>\n",
       "      <td>1</td>\n",
       "      <td>jun</td>\n",
       "      <td>377</td>\n",
       "      <td>1</td>\n",
       "      <td>-1</td>\n",
       "      <td>0</td>\n",
       "      <td>unknown</td>\n",
       "      <td>yes</td>\n",
       "    </tr>\n",
       "    <tr>\n",
       "      <th>5479</th>\n",
       "      <td>5479</td>\n",
       "      <td>37</td>\n",
       "      <td>unemployed</td>\n",
       "      <td>married</td>\n",
       "      <td>tertiary</td>\n",
       "      <td>no</td>\n",
       "      <td>7620</td>\n",
       "      <td>no</td>\n",
       "      <td>no</td>\n",
       "      <td>telephone</td>\n",
       "      <td>23</td>\n",
       "      <td>feb</td>\n",
       "      <td>367</td>\n",
       "      <td>1</td>\n",
       "      <td>176</td>\n",
       "      <td>6</td>\n",
       "      <td>failure</td>\n",
       "      <td>yes</td>\n",
       "    </tr>\n",
       "  </tbody>\n",
       "</table>\n",
       "<p>92 rows × 18 columns</p>\n",
       "</div>"
      ],
      "text/plain": [
       "      Unnamed: 0  age         job   marital  education default  balance  \\\n",
       "5              5   26  unemployed    single  secondary      no      632   \n",
       "10            10   51  unemployed   married  secondary      no     1416   \n",
       "243          243   26  unemployed    single   tertiary      no      814   \n",
       "252          252   28  unemployed   married    primary      no     7459   \n",
       "440          440   56  unemployed   married  secondary      no        0   \n",
       "...          ...  ...         ...       ...        ...     ...      ...   \n",
       "5370        5370   37  unemployed    single  secondary      no      381   \n",
       "5377        5377   31  unemployed   married  secondary      no        6   \n",
       "5422        5422   48  unemployed  divorced  secondary      no      201   \n",
       "5464        5464   25  unemployed    single   tertiary      no      343   \n",
       "5479        5479   37  unemployed   married   tertiary      no     7620   \n",
       "\n",
       "     housing loan    contact  day month  duration  campaign  pdays  previous  \\\n",
       "5         no   no   cellular   12   feb       218         1     -1         0   \n",
       "10        no   no   cellular    9   sep       345         1     -1         0   \n",
       "243       no   no   cellular   28   jan      1387         1     -1         0   \n",
       "252      yes   no   cellular    2   feb       981         5    269         2   \n",
       "440       no   no  telephone    2   feb       492         1     -1         0   \n",
       "...      ...  ...        ...  ...   ...       ...       ...    ...       ...   \n",
       "5370     yes   no    unknown    8   may       985         2     -1         0   \n",
       "5377      no   no   cellular    4   jun       121         4     -1         0   \n",
       "5422      no   no   cellular   10   nov       594         1     91         1   \n",
       "5464      no   no   cellular    1   jun       377         1     -1         0   \n",
       "5479      no   no  telephone   23   feb       367         1    176         6   \n",
       "\n",
       "     poutcome deposit  \n",
       "5     unknown     yes  \n",
       "10    unknown     yes  \n",
       "243   unknown     yes  \n",
       "252   failure     yes  \n",
       "440   unknown     yes  \n",
       "...       ...     ...  \n",
       "5370  unknown     yes  \n",
       "5377  unknown     yes  \n",
       "5422  success     yes  \n",
       "5464  unknown     yes  \n",
       "5479  failure     yes  \n",
       "\n",
       "[92 rows x 18 columns]"
      ]
     },
     "execution_count": 97,
     "metadata": {},
     "output_type": "execute_result"
    }
   ],
   "source": [
    "unemployed_subscribed = df[(df['job'] == 'unemployed') & (df['deposit'] == 'yes')]\n",
    "unemployed_subscribed"
   ]
  },
  {
   "cell_type": "code",
   "execution_count": 108,
   "id": "044a2b34",
   "metadata": {},
   "outputs": [],
   "source": [
    "df = pd.get_dummies(df)\n",
    "\n",
    "X=df[['age', 'balance', 'day', 'duration', 'campaign', 'pdays', 'previous',\n",
    "       'job_admin.', 'job_blue-collar', 'job_entrepreneur', 'job_housemaid',\n",
    "       'job_management', 'job_retired', 'job_self-employed', 'job_services',\n",
    "       'job_student', 'job_technician', 'job_unemployed', 'job_unknown',\n",
    "       'marital_divorced', 'marital_married', 'marital_single',\n",
    "       'education_primary', 'education_secondary', 'education_tertiary',\n",
    "       'education_unknown', 'default_no', 'default_yes', 'housing_no',\n",
    "       'housing_yes', 'loan_no', 'loan_yes', 'contact_cellular',\n",
    "       'contact_telephone', 'contact_unknown', 'month_apr', 'month_aug',\n",
    "       'month_dec', 'month_feb', 'month_jan', 'month_jul', 'month_jun',\n",
    "       'month_mar', 'month_may', 'month_nov', 'month_oct', 'month_sep',\n",
    "       'poutcome_failure', 'poutcome_other', 'poutcome_success',\n",
    "       'poutcome_unknown', 'deposit_no', 'deposit_yes']]\n",
    "y=df['deposit_no']"
   ]
  },
  {
   "cell_type": "code",
   "execution_count": 109,
   "id": "547f153c",
   "metadata": {},
   "outputs": [],
   "source": [
    "from sklearn.model_selection import train_test_split\n",
    "\n",
    "X_train, X_test, y_train, y_test = train_test_split(X, y, test_size=0.3, random_state=0)\n"
   ]
  },
  {
   "cell_type": "code",
   "execution_count": 114,
   "id": "00794917",
   "metadata": {},
   "outputs": [
    {
     "data": {
      "text/plain": [
       "KNeighborsClassifier(n_neighbors=3)"
      ]
     },
     "execution_count": 114,
     "metadata": {},
     "output_type": "execute_result"
    }
   ],
   "source": [
    "from sklearn.neighbors import KNeighborsClassifier\n",
    "\n",
    "# Assuming X_train and y_train are the feature and target variables in the train dataset\n",
    "model = KNeighborsClassifier(n_neighbors=3)  # Set the desired number of neighbors\n",
    "model.fit(X_train, y_train)\n"
   ]
  },
  {
   "cell_type": "code",
   "execution_count": 115,
   "id": "a2b51dec",
   "metadata": {},
   "outputs": [
    {
     "data": {
      "text/plain": [
       "0.7331343283582089"
      ]
     },
     "execution_count": 115,
     "metadata": {},
     "output_type": "execute_result"
    }
   ],
   "source": [
    "from sklearn.metrics import accuracy_score\n",
    "\n",
    "y_pred = model.predict(X_test)\n",
    "accuracy = accuracy_score(y_test, y_pred)\n",
    "accuracy"
   ]
  },
  {
   "cell_type": "code",
   "execution_count": null,
   "id": "aaac2d56",
   "metadata": {},
   "outputs": [],
   "source": []
  },
  {
   "cell_type": "code",
   "execution_count": 82,
   "id": "805f7ece",
   "metadata": {},
   "outputs": [
    {
     "data": {
      "text/plain": [
       "63"
      ]
     },
     "execution_count": 82,
     "metadata": {},
     "output_type": "execute_result"
    }
   ],
   "source": [
    "df[df['deposit']=='no'].campaign.max()"
   ]
  },
  {
   "cell_type": "code",
   "execution_count": 67,
   "id": "b968bfca",
   "metadata": {},
   "outputs": [
    {
     "data": {
      "text/plain": [
       "0"
      ]
     },
     "execution_count": 67,
     "metadata": {},
     "output_type": "execute_result"
    }
   ],
   "source": [
    "df.duplicated().sum()"
   ]
  },
  {
   "cell_type": "code",
   "execution_count": 69,
   "id": "71284752",
   "metadata": {},
   "outputs": [
    {
     "data": {
      "text/plain": [
       "(5581, 17)"
      ]
     },
     "execution_count": 69,
     "metadata": {},
     "output_type": "execute_result"
    }
   ],
   "source": [
    "df.shape"
   ]
  },
  {
   "cell_type": "code",
   "execution_count": 73,
   "id": "83bd507b",
   "metadata": {},
   "outputs": [
    {
     "name": "stdout",
     "output_type": "stream",
     "text": [
      "Average age of subscribed clients: 41.42677345537757\n"
     ]
    }
   ],
   "source": [
    "import pandas as pd\n",
    "\n",
    "# Load the dataset into a dataframe\n",
    "df = pd.read_csv('Class/bank_marketing (1).csv')\n",
    "\n",
    "# Filter the dataframe for clients who have subscribed to a deposit\n",
    "subscribed_clients = df[df['deposit'] == 'yes']\n",
    "\n",
    "# Calculate the average age of subscribed clients\n",
    "average_age = subscribed_clients['age'].mean()\n",
    "\n",
    "print(\"Average age of subscribed clients:\", average_age)\n"
   ]
  },
  {
   "cell_type": "code",
   "execution_count": 79,
   "id": "530cd766",
   "metadata": {},
   "outputs": [
    {
     "name": "stdout",
     "output_type": "stream",
     "text": [
      "Maximum number of contacts for not subscribed clients: 63\n"
     ]
    }
   ],
   "source": [
    "import pandas as pd\n",
    "\n",
    "# Load the dataset into a dataframe\n",
    "# df = pd.read_csv('path_to_dataset.csv')\n",
    "\n",
    "# Filter the dataframe for clients who have not subscribed to a deposit\n",
    "not_subscribed_clients = df[df['deposit'] == 'no']\n",
    "\n",
    "# Find the maximum number of contacts for not subscribed clients\n",
    "max_contacts = not_subscribed_clients['campaign'].max()\n",
    "\n",
    "print(\"Maximum number of contacts for not subscribed clients:\", max_contacts)\n"
   ]
  },
  {
   "cell_type": "code",
   "execution_count": 83,
   "id": "1a7d7e6d",
   "metadata": {},
   "outputs": [
    {
     "name": "stdout",
     "output_type": "stream",
     "text": [
      "Difference in maximum balance (in euros): 24373\n"
     ]
    }
   ],
   "source": [
    "import pandas as pd\n",
    "\n",
    "# Load the dataset into a dataframe\n",
    "# df = pd.read_csv('path_to_dataset.csv')\n",
    "\n",
    "# Filter the dataframe for clients who have subscribed to a deposit\n",
    "subscribed_clients = df[df['deposit'] == 'yes']\n",
    "\n",
    "# Filter the dataframe for clients who have not subscribed to a deposit\n",
    "not_subscribed_clients = df[df['deposit'] == 'no']\n",
    "\n",
    "# Find the maximum balance for subscribed clients\n",
    "max_balance_subscribed = subscribed_clients['balance'].max()\n",
    "\n",
    "# Find the maximum balance for not subscribed clients\n",
    "max_balance_not_subscribed = not_subscribed_clients['balance'].max()\n",
    "\n",
    "# Calculate the difference in maximum balance\n",
    "difference = max_balance_subscribed - max_balance_not_subscribed\n",
    "\n",
    "print(\"Difference in maximum balance (in euros):\", difference)\n"
   ]
  },
  {
   "cell_type": "code",
   "execution_count": null,
   "id": "c392e152",
   "metadata": {},
   "outputs": [],
   "source": []
  }
 ],
 "metadata": {
  "kernelspec": {
   "display_name": "Python 3 (ipykernel)",
   "language": "python",
   "name": "python3"
  },
  "language_info": {
   "codemirror_mode": {
    "name": "ipython",
    "version": 3
   },
   "file_extension": ".py",
   "mimetype": "text/x-python",
   "name": "python",
   "nbconvert_exporter": "python",
   "pygments_lexer": "ipython3",
   "version": "3.9.12"
  }
 },
 "nbformat": 4,
 "nbformat_minor": 5
}
