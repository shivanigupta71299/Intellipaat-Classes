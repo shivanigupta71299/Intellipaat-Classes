{
 "cells": [
  {
   "cell_type": "markdown",
   "id": "addressed-basic",
   "metadata": {
    "id": "addressed-basic",
    "papermill": {
     "duration": 0.033852,
     "end_time": "2021-06-19T12:51:29.580026",
     "exception": false,
     "start_time": "2021-06-19T12:51:29.546174",
     "status": "completed"
    },
    "tags": []
   },
   "source": [
    "# Movie Recommendation using Netflix Movie Reviews\n",
    "\n",
    "\n"
   ]
  },
  {
   "cell_type": "markdown",
   "id": "demonstrated-pride",
   "metadata": {
    "id": "demonstrated-pride",
    "papermill": {
     "duration": 0.031817,
     "end_time": "2021-06-19T12:51:29.642694",
     "exception": false,
     "start_time": "2021-06-19T12:51:29.610877",
     "status": "completed"
    },
    "tags": []
   },
   "source": [
    "This project aims to build a movie recommendation system using Netflix Movie Ratings. There are 17337458 Ratings given by 143458 users to 1350 movies. Ratings are in the form of Integer i.e. 1 - 5"
   ]
  },
  {
   "cell_type": "markdown",
   "id": "unique-shock",
   "metadata": {
    "id": "unique-shock",
    "papermill": {
     "duration": 0.030464,
     "end_time": "2021-06-19T12:51:29.703752",
     "exception": false,
     "start_time": "2021-06-19T12:51:29.673288",
     "status": "completed"
    },
    "tags": []
   },
   "source": [
    "\n",
    "**Table of Content**\n"
   ]
  },
  {
   "cell_type": "markdown",
   "id": "greater-immunology",
   "metadata": {
    "id": "greater-immunology",
    "papermill": {
     "duration": 0.030696,
     "end_time": "2021-06-19T12:51:29.765285",
     "exception": false,
     "start_time": "2021-06-19T12:51:29.734589",
     "status": "completed"
    },
    "tags": []
   },
   "source": [
    "\n",
    "#### 1.  Load Rating Data\n",
    "#### 2.  Load Movie Data\n",
    "#### 3.  Analyze Data\n",
    "#### 4.  Recommendation Model\n",
    "#### 4.1 Collaborative Filtering - SVD"
   ]
  },
  {
   "cell_type": "code",
   "execution_count": 1,
   "id": "varied-clarity",
   "metadata": {
    "_cell_guid": "b1076dfc-b9ad-4769-8c92-a6c4dae69d19",
    "_uuid": "8f2839f25d086af736a60e9eeb907d3b93b6e0e5",
    "execution": {
     "iopub.execute_input": "2021-06-19T12:51:29.830393Z",
     "iopub.status.busy": "2021-06-19T12:51:29.829240Z",
     "iopub.status.idle": "2021-06-19T12:51:30.007078Z",
     "shell.execute_reply": "2021-06-19T12:51:30.006261Z",
     "shell.execute_reply.started": "2021-06-18T16:02:20.806019Z"
    },
    "id": "varied-clarity",
    "papermill": {
     "duration": 0.211525,
     "end_time": "2021-06-19T12:51:30.007247",
     "exception": false,
     "start_time": "2021-06-19T12:51:29.795722",
     "status": "completed"
    },
    "tags": []
   },
   "outputs": [],
   "source": [
    "import pandas as pd\n",
    "import numpy as np\n",
    "import matplotlib.pyplot as plt"
   ]
  },
  {
   "cell_type": "raw",
   "id": "42a480be",
   "metadata": {},
   "source": [
    "# SVD algo is in surprise library"
   ]
  },
  {
   "cell_type": "code",
   "execution_count": 2,
   "id": "5ac0ac06",
   "metadata": {
    "colab": {
     "base_uri": "https://localhost:8080/"
    },
    "id": "5ac0ac06",
    "outputId": "583378c3-35a4-4bd7-bdac-e5e4faf5defd"
   },
   "outputs": [
    {
     "name": "stdout",
     "output_type": "stream",
     "text": [
      "Collecting scikit-surprise\n"
     ]
    },
    {
     "name": "stderr",
     "output_type": "stream",
     "text": [
      "  WARNING: Retrying (Retry(total=4, connect=None, read=None, redirect=None, status=None)) after connection broken by 'SSLError(SSLCertVerificationError(1, '[SSL: CERTIFICATE_VERIFY_FAILED] certificate verify failed: unable to get local issuer certificate (_ssl.c:1129)'))': /packages/30/e1/f4f78b7dd32feaa6256f000668a6932e81b899d0e5a5f84ab3fd1f5e2743/scikit-surprise-1.1.3.tar.gz\n",
      "  WARNING: Retrying (Retry(total=3, connect=None, read=None, redirect=None, status=None)) after connection broken by 'SSLError(SSLCertVerificationError(1, '[SSL: CERTIFICATE_VERIFY_FAILED] certificate verify failed: unable to get local issuer certificate (_ssl.c:1129)'))': /packages/30/e1/f4f78b7dd32feaa6256f000668a6932e81b899d0e5a5f84ab3fd1f5e2743/scikit-surprise-1.1.3.tar.gz\n",
      "  WARNING: Retrying (Retry(total=2, connect=None, read=None, redirect=None, status=None)) after connection broken by 'SSLError(SSLCertVerificationError(1, '[SSL: CERTIFICATE_VERIFY_FAILED] certificate verify failed: unable to get local issuer certificate (_ssl.c:1129)'))': /packages/30/e1/f4f78b7dd32feaa6256f000668a6932e81b899d0e5a5f84ab3fd1f5e2743/scikit-surprise-1.1.3.tar.gz\n",
      "  WARNING: Retrying (Retry(total=1, connect=None, read=None, redirect=None, status=None)) after connection broken by 'SSLError(SSLCertVerificationError(1, '[SSL: CERTIFICATE_VERIFY_FAILED] certificate verify failed: unable to get local issuer certificate (_ssl.c:1129)'))': /packages/30/e1/f4f78b7dd32feaa6256f000668a6932e81b899d0e5a5f84ab3fd1f5e2743/scikit-surprise-1.1.3.tar.gz\n",
      "  WARNING: Retrying (Retry(total=0, connect=None, read=None, redirect=None, status=None)) after connection broken by 'SSLError(SSLCertVerificationError(1, '[SSL: CERTIFICATE_VERIFY_FAILED] certificate verify failed: unable to get local issuer certificate (_ssl.c:1129)'))': /packages/30/e1/f4f78b7dd32feaa6256f000668a6932e81b899d0e5a5f84ab3fd1f5e2743/scikit-surprise-1.1.3.tar.gz\n",
      "ERROR: Could not install packages due to an OSError: HTTPSConnectionPool(host='files.pythonhosted.org', port=443): Max retries exceeded with url: /packages/30/e1/f4f78b7dd32feaa6256f000668a6932e81b899d0e5a5f84ab3fd1f5e2743/scikit-surprise-1.1.3.tar.gz (Caused by SSLError(SSLCertVerificationError(1, '[SSL: CERTIFICATE_VERIFY_FAILED] certificate verify failed: unable to get local issuer certificate (_ssl.c:1129)')))\n",
      "\n"
     ]
    }
   ],
   "source": [
    "! pip install scikit-surprise"
   ]
  },
  {
   "cell_type": "code",
   "execution_count": 3,
   "id": "c67468c1",
   "metadata": {
    "id": "c67468c1"
   },
   "outputs": [],
   "source": [
    "from surprise import Reader, Dataset, SVD\n",
    "from surprise import accuracy\n",
    "from surprise.model_selection import train_test_split"
   ]
  },
  {
   "cell_type": "markdown",
   "id": "comprehensive-nickel",
   "metadata": {
    "id": "comprehensive-nickel",
    "papermill": {
     "duration": 0.030411,
     "end_time": "2021-06-19T12:51:30.068715",
     "exception": false,
     "start_time": "2021-06-19T12:51:30.038304",
     "status": "completed"
    },
    "tags": []
   },
   "source": [
    "# 1. Load Rating Data"
   ]
  },
  {
   "cell_type": "code",
   "execution_count": 5,
   "id": "substantial-triangle",
   "metadata": {
    "colab": {
     "base_uri": "https://localhost:8080/",
     "height": 423
    },
    "execution": {
     "iopub.execute_input": "2021-06-19T12:51:30.135722Z",
     "iopub.status.busy": "2021-06-19T12:51:30.134988Z",
     "iopub.status.idle": "2021-06-19T12:51:36.781367Z",
     "shell.execute_reply": "2021-06-19T12:51:36.780769Z",
     "shell.execute_reply.started": "2021-06-18T16:02:23.791380Z"
    },
    "id": "substantial-triangle",
    "outputId": "f0e2ffe6-25e5-4b44-feb7-b257cc49395e",
    "papermill": {
     "duration": 6.682034,
     "end_time": "2021-06-19T12:51:36.781531",
     "exception": false,
     "start_time": "2021-06-19T12:51:30.099497",
     "status": "completed"
    },
    "tags": []
   },
   "outputs": [
    {
     "data": {
      "text/html": [
       "<div>\n",
       "<style scoped>\n",
       "    .dataframe tbody tr th:only-of-type {\n",
       "        vertical-align: middle;\n",
       "    }\n",
       "\n",
       "    .dataframe tbody tr th {\n",
       "        vertical-align: top;\n",
       "    }\n",
       "\n",
       "    .dataframe thead th {\n",
       "        text-align: right;\n",
       "    }\n",
       "</style>\n",
       "<table border=\"1\" class=\"dataframe\">\n",
       "  <thead>\n",
       "    <tr style=\"text-align: right;\">\n",
       "      <th></th>\n",
       "      <th>User_ID</th>\n",
       "      <th>Rating</th>\n",
       "      <th>Movie_ID</th>\n",
       "    </tr>\n",
       "  </thead>\n",
       "  <tbody>\n",
       "    <tr>\n",
       "      <th>0</th>\n",
       "      <td>712664</td>\n",
       "      <td>5</td>\n",
       "      <td>3</td>\n",
       "    </tr>\n",
       "    <tr>\n",
       "      <th>1</th>\n",
       "      <td>1331154</td>\n",
       "      <td>4</td>\n",
       "      <td>3</td>\n",
       "    </tr>\n",
       "    <tr>\n",
       "      <th>2</th>\n",
       "      <td>2632461</td>\n",
       "      <td>3</td>\n",
       "      <td>3</td>\n",
       "    </tr>\n",
       "    <tr>\n",
       "      <th>3</th>\n",
       "      <td>44937</td>\n",
       "      <td>5</td>\n",
       "      <td>3</td>\n",
       "    </tr>\n",
       "    <tr>\n",
       "      <th>4</th>\n",
       "      <td>656399</td>\n",
       "      <td>4</td>\n",
       "      <td>3</td>\n",
       "    </tr>\n",
       "    <tr>\n",
       "      <th>...</th>\n",
       "      <td>...</td>\n",
       "      <td>...</td>\n",
       "      <td>...</td>\n",
       "    </tr>\n",
       "    <tr>\n",
       "      <th>17337453</th>\n",
       "      <td>520675</td>\n",
       "      <td>3</td>\n",
       "      <td>4496</td>\n",
       "    </tr>\n",
       "    <tr>\n",
       "      <th>17337454</th>\n",
       "      <td>1055714</td>\n",
       "      <td>5</td>\n",
       "      <td>4496</td>\n",
       "    </tr>\n",
       "    <tr>\n",
       "      <th>17337455</th>\n",
       "      <td>2643029</td>\n",
       "      <td>4</td>\n",
       "      <td>4496</td>\n",
       "    </tr>\n",
       "    <tr>\n",
       "      <th>17337456</th>\n",
       "      <td>1559566</td>\n",
       "      <td>3</td>\n",
       "      <td>4496</td>\n",
       "    </tr>\n",
       "    <tr>\n",
       "      <th>17337457</th>\n",
       "      <td>293198</td>\n",
       "      <td>3</td>\n",
       "      <td>4496</td>\n",
       "    </tr>\n",
       "  </tbody>\n",
       "</table>\n",
       "<p>17337458 rows × 3 columns</p>\n",
       "</div>"
      ],
      "text/plain": [
       "          User_ID  Rating  Movie_ID\n",
       "0          712664       5         3\n",
       "1         1331154       4         3\n",
       "2         2632461       3         3\n",
       "3           44937       5         3\n",
       "4          656399       4         3\n",
       "...           ...     ...       ...\n",
       "17337453   520675       3      4496\n",
       "17337454  1055714       5      4496\n",
       "17337455  2643029       4      4496\n",
       "17337456  1559566       3      4496\n",
       "17337457   293198       3      4496\n",
       "\n",
       "[17337458 rows x 3 columns]"
      ]
     },
     "execution_count": 5,
     "metadata": {},
     "output_type": "execute_result"
    }
   ],
   "source": [
    "df = pd.read_csv('Netflix_Dataset_Rating.csv')\n",
    "df"
   ]
  },
  {
   "cell_type": "code",
   "execution_count": 6,
   "id": "appreciated-learning",
   "metadata": {
    "colab": {
     "base_uri": "https://localhost:8080/"
    },
    "execution": {
     "iopub.execute_input": "2021-06-19T12:51:36.851867Z",
     "iopub.status.busy": "2021-06-19T12:51:36.850955Z",
     "iopub.status.idle": "2021-06-19T12:51:36.855271Z",
     "shell.execute_reply": "2021-06-19T12:51:36.854779Z",
     "shell.execute_reply.started": "2021-06-18T14:54:11.634134Z"
    },
    "id": "appreciated-learning",
    "outputId": "8915fcd8-2e81-431e-a52b-296626175d37",
    "papermill": {
     "duration": 0.04215,
     "end_time": "2021-06-19T12:51:36.855433",
     "exception": false,
     "start_time": "2021-06-19T12:51:36.813283",
     "status": "completed"
    },
    "tags": []
   },
   "outputs": [
    {
     "data": {
      "text/plain": [
       "User_ID     int64\n",
       "Rating      int64\n",
       "Movie_ID    int64\n",
       "dtype: object"
      ]
     },
     "execution_count": 6,
     "metadata": {},
     "output_type": "execute_result"
    }
   ],
   "source": [
    "df.dtypes"
   ]
  },
  {
   "cell_type": "code",
   "execution_count": 7,
   "id": "tamil-parade",
   "metadata": {
    "colab": {
     "base_uri": "https://localhost:8080/"
    },
    "execution": {
     "iopub.execute_input": "2021-06-19T12:51:36.934211Z",
     "iopub.status.busy": "2021-06-19T12:51:36.933294Z",
     "iopub.status.idle": "2021-06-19T12:51:36.937467Z",
     "shell.execute_reply": "2021-06-19T12:51:36.936761Z",
     "shell.execute_reply.started": "2021-06-18T14:54:11.645002Z"
    },
    "id": "tamil-parade",
    "outputId": "c1ee16a2-4c2a-467d-841a-0585aca85bdf",
    "papermill": {
     "duration": 0.050542,
     "end_time": "2021-06-19T12:51:36.937611",
     "exception": false,
     "start_time": "2021-06-19T12:51:36.887069",
     "status": "completed"
    },
    "tags": []
   },
   "outputs": [
    {
     "name": "stdout",
     "output_type": "stream",
     "text": [
      "<class 'pandas.core.frame.DataFrame'>\n",
      "RangeIndex: 17337458 entries, 0 to 17337457\n",
      "Data columns (total 3 columns):\n",
      " #   Column    Dtype\n",
      "---  ------    -----\n",
      " 0   User_ID   int64\n",
      " 1   Rating    int64\n",
      " 2   Movie_ID  int64\n",
      "dtypes: int64(3)\n",
      "memory usage: 396.8 MB\n"
     ]
    }
   ],
   "source": [
    "df.info()"
   ]
  },
  {
   "cell_type": "code",
   "execution_count": 8,
   "id": "finnish-hanging",
   "metadata": {
    "colab": {
     "base_uri": "https://localhost:8080/"
    },
    "execution": {
     "iopub.execute_input": "2021-06-19T12:51:37.009798Z",
     "iopub.status.busy": "2021-06-19T12:51:37.008273Z",
     "iopub.status.idle": "2021-06-19T12:51:37.546216Z",
     "shell.execute_reply": "2021-06-19T12:51:37.545391Z",
     "shell.execute_reply.started": "2021-06-18T14:54:11.674161Z"
    },
    "id": "finnish-hanging",
    "outputId": "9dfb23c3-510b-4c59-8cf9-f0b7b121d4c2",
    "papermill": {
     "duration": 0.576756,
     "end_time": "2021-06-19T12:51:37.546368",
     "exception": false,
     "start_time": "2021-06-19T12:51:36.969612",
     "status": "completed"
    },
    "tags": []
   },
   "outputs": [
    {
     "data": {
      "text/plain": [
       "count    17337458\n",
       "mean            3\n",
       "std             1\n",
       "min             1\n",
       "25%             3\n",
       "50%             4\n",
       "75%             4\n",
       "max             5\n",
       "Name: Rating, dtype: int32"
      ]
     },
     "execution_count": 8,
     "metadata": {},
     "output_type": "execute_result"
    }
   ],
   "source": [
    "df['Rating'].describe().astype('int')"
   ]
  },
  {
   "cell_type": "code",
   "execution_count": 9,
   "id": "flexible-analysis",
   "metadata": {
    "colab": {
     "base_uri": "https://localhost:8080/"
    },
    "execution": {
     "iopub.execute_input": "2021-06-19T12:51:37.617010Z",
     "iopub.status.busy": "2021-06-19T12:51:37.615698Z",
     "iopub.status.idle": "2021-06-19T12:51:38.831613Z",
     "shell.execute_reply": "2021-06-19T12:51:38.832087Z",
     "shell.execute_reply.started": "2021-06-18T14:54:12.331178Z"
    },
    "id": "flexible-analysis",
    "outputId": "96886157-395c-4ea6-93c3-6e3dc5f2c0c0",
    "papermill": {
     "duration": 1.253648,
     "end_time": "2021-06-19T12:51:38.832267",
     "exception": false,
     "start_time": "2021-06-19T12:51:37.578619",
     "status": "completed"
    },
    "tags": []
   },
   "outputs": [
    {
     "name": "stdout",
     "output_type": "stream",
     "text": [
      "Unique Values :\n",
      " User_ID     143458\n",
      "Rating           5\n",
      "Movie_ID      1350\n",
      "dtype: int64\n"
     ]
    }
   ],
   "source": [
    "print(\"Unique Values :\\n\",df.nunique())"
   ]
  },
  {
   "cell_type": "markdown",
   "id": "sapphire-bahrain",
   "metadata": {
    "id": "sapphire-bahrain",
    "papermill": {
     "duration": 0.032465,
     "end_time": "2021-06-19T12:51:38.897239",
     "exception": false,
     "start_time": "2021-06-19T12:51:38.864774",
     "status": "completed"
    },
    "tags": []
   },
   "source": [
    "# 2. Load Movie Data"
   ]
  },
  {
   "cell_type": "code",
   "execution_count": 12,
   "id": "primary-identity",
   "metadata": {
    "colab": {
     "base_uri": "https://localhost:8080/",
     "height": 423
    },
    "execution": {
     "iopub.execute_input": "2021-06-19T12:51:38.967529Z",
     "iopub.status.busy": "2021-06-19T12:51:38.966893Z",
     "iopub.status.idle": "2021-06-19T12:51:39.010668Z",
     "shell.execute_reply": "2021-06-19T12:51:39.011122Z",
     "shell.execute_reply.started": "2021-06-18T16:02:33.530969Z"
    },
    "id": "primary-identity",
    "outputId": "5d65c20b-b342-46ff-9957-df2f6213f08c",
    "papermill": {
     "duration": 0.081075,
     "end_time": "2021-06-19T12:51:39.011306",
     "exception": false,
     "start_time": "2021-06-19T12:51:38.930231",
     "status": "completed"
    },
    "scrolled": true,
    "tags": []
   },
   "outputs": [
    {
     "data": {
      "text/html": [
       "<div>\n",
       "<style scoped>\n",
       "    .dataframe tbody tr th:only-of-type {\n",
       "        vertical-align: middle;\n",
       "    }\n",
       "\n",
       "    .dataframe tbody tr th {\n",
       "        vertical-align: top;\n",
       "    }\n",
       "\n",
       "    .dataframe thead th {\n",
       "        text-align: right;\n",
       "    }\n",
       "</style>\n",
       "<table border=\"1\" class=\"dataframe\">\n",
       "  <thead>\n",
       "    <tr style=\"text-align: right;\">\n",
       "      <th></th>\n",
       "      <th>Movie_ID</th>\n",
       "      <th>Year</th>\n",
       "      <th>Name</th>\n",
       "    </tr>\n",
       "  </thead>\n",
       "  <tbody>\n",
       "    <tr>\n",
       "      <th>0</th>\n",
       "      <td>1</td>\n",
       "      <td>2003</td>\n",
       "      <td>Dinosaur Planet</td>\n",
       "    </tr>\n",
       "    <tr>\n",
       "      <th>1</th>\n",
       "      <td>2</td>\n",
       "      <td>2004</td>\n",
       "      <td>Isle of Man TT 2004 Review</td>\n",
       "    </tr>\n",
       "    <tr>\n",
       "      <th>2</th>\n",
       "      <td>3</td>\n",
       "      <td>1997</td>\n",
       "      <td>Character</td>\n",
       "    </tr>\n",
       "    <tr>\n",
       "      <th>3</th>\n",
       "      <td>4</td>\n",
       "      <td>1994</td>\n",
       "      <td>Paula Abdul's Get Up &amp; Dance</td>\n",
       "    </tr>\n",
       "    <tr>\n",
       "      <th>4</th>\n",
       "      <td>5</td>\n",
       "      <td>2004</td>\n",
       "      <td>The Rise and Fall of ECW</td>\n",
       "    </tr>\n",
       "    <tr>\n",
       "      <th>...</th>\n",
       "      <td>...</td>\n",
       "      <td>...</td>\n",
       "      <td>...</td>\n",
       "    </tr>\n",
       "    <tr>\n",
       "      <th>17765</th>\n",
       "      <td>17766</td>\n",
       "      <td>2002</td>\n",
       "      <td>Where the Wild Things Are and Other Maurice Se...</td>\n",
       "    </tr>\n",
       "    <tr>\n",
       "      <th>17766</th>\n",
       "      <td>17767</td>\n",
       "      <td>2004</td>\n",
       "      <td>Fidel Castro: American Experience</td>\n",
       "    </tr>\n",
       "    <tr>\n",
       "      <th>17767</th>\n",
       "      <td>17768</td>\n",
       "      <td>2000</td>\n",
       "      <td>Epoch</td>\n",
       "    </tr>\n",
       "    <tr>\n",
       "      <th>17768</th>\n",
       "      <td>17769</td>\n",
       "      <td>2003</td>\n",
       "      <td>The Company</td>\n",
       "    </tr>\n",
       "    <tr>\n",
       "      <th>17769</th>\n",
       "      <td>17770</td>\n",
       "      <td>2003</td>\n",
       "      <td>Alien Hunter</td>\n",
       "    </tr>\n",
       "  </tbody>\n",
       "</table>\n",
       "<p>17770 rows × 3 columns</p>\n",
       "</div>"
      ],
      "text/plain": [
       "       Movie_ID  Year                                               Name\n",
       "0             1  2003                                    Dinosaur Planet\n",
       "1             2  2004                         Isle of Man TT 2004 Review\n",
       "2             3  1997                                          Character\n",
       "3             4  1994                       Paula Abdul's Get Up & Dance\n",
       "4             5  2004                           The Rise and Fall of ECW\n",
       "...         ...   ...                                                ...\n",
       "17765     17766  2002  Where the Wild Things Are and Other Maurice Se...\n",
       "17766     17767  2004                  Fidel Castro: American Experience\n",
       "17767     17768  2000                                              Epoch\n",
       "17768     17769  2003                                        The Company\n",
       "17769     17770  2003                                       Alien Hunter\n",
       "\n",
       "[17770 rows x 3 columns]"
      ]
     },
     "execution_count": 12,
     "metadata": {},
     "output_type": "execute_result"
    }
   ],
   "source": [
    "df_title = pd.read_csv('Netflix_Dataset_Movie.csv')\n",
    "df_title"
   ]
  },
  {
   "cell_type": "code",
   "execution_count": 13,
   "id": "small-korea",
   "metadata": {
    "colab": {
     "base_uri": "https://localhost:8080/"
    },
    "execution": {
     "iopub.execute_input": "2021-06-19T12:51:39.080379Z",
     "iopub.status.busy": "2021-06-19T12:51:39.079788Z",
     "iopub.status.idle": "2021-06-19T12:51:39.086103Z",
     "shell.execute_reply": "2021-06-19T12:51:39.086688Z",
     "shell.execute_reply.started": "2021-06-18T14:54:13.768057Z"
    },
    "id": "small-korea",
    "outputId": "20fe74fb-c277-47d5-8d8b-00c5ed3d1eb6",
    "papermill": {
     "duration": 0.042566,
     "end_time": "2021-06-19T12:51:39.086858",
     "exception": false,
     "start_time": "2021-06-19T12:51:39.044292",
     "status": "completed"
    },
    "tags": []
   },
   "outputs": [
    {
     "data": {
      "text/plain": [
       "Movie_ID     int64\n",
       "Year         int64\n",
       "Name        object\n",
       "dtype: object"
      ]
     },
     "execution_count": 13,
     "metadata": {},
     "output_type": "execute_result"
    }
   ],
   "source": [
    "df_title.dtypes"
   ]
  },
  {
   "cell_type": "code",
   "execution_count": 14,
   "id": "narrow-privilege",
   "metadata": {
    "colab": {
     "base_uri": "https://localhost:8080/"
    },
    "execution": {
     "iopub.execute_input": "2021-06-19T12:51:39.156700Z",
     "iopub.status.busy": "2021-06-19T12:51:39.156014Z",
     "iopub.status.idle": "2021-06-19T12:51:39.172325Z",
     "shell.execute_reply": "2021-06-19T12:51:39.173008Z",
     "shell.execute_reply.started": "2021-06-18T14:54:13.781096Z"
    },
    "id": "narrow-privilege",
    "outputId": "12dfd45c-8596-40b6-904f-a13cffde9c3f",
    "papermill": {
     "duration": 0.053189,
     "end_time": "2021-06-19T12:51:39.173250",
     "exception": false,
     "start_time": "2021-06-19T12:51:39.120061",
     "status": "completed"
    },
    "tags": []
   },
   "outputs": [
    {
     "name": "stdout",
     "output_type": "stream",
     "text": [
      "<class 'pandas.core.frame.DataFrame'>\n",
      "RangeIndex: 17770 entries, 0 to 17769\n",
      "Data columns (total 3 columns):\n",
      " #   Column    Non-Null Count  Dtype \n",
      "---  ------    --------------  ----- \n",
      " 0   Movie_ID  17770 non-null  int64 \n",
      " 1   Year      17770 non-null  int64 \n",
      " 2   Name      17770 non-null  object\n",
      "dtypes: int64(2), object(1)\n",
      "memory usage: 416.6+ KB\n"
     ]
    }
   ],
   "source": [
    "df_title.info()"
   ]
  },
  {
   "cell_type": "code",
   "execution_count": 15,
   "id": "religious-determination",
   "metadata": {
    "colab": {
     "base_uri": "https://localhost:8080/"
    },
    "execution": {
     "iopub.execute_input": "2021-06-19T12:51:39.244443Z",
     "iopub.status.busy": "2021-06-19T12:51:39.243789Z",
     "iopub.status.idle": "2021-06-19T12:51:39.253671Z",
     "shell.execute_reply": "2021-06-19T12:51:39.254166Z",
     "shell.execute_reply.started": "2021-06-18T14:54:13.809247Z"
    },
    "id": "religious-determination",
    "outputId": "0acb9767-fcc6-47db-b246-52a8762b6d69",
    "papermill": {
     "duration": 0.046866,
     "end_time": "2021-06-19T12:51:39.254333",
     "exception": false,
     "start_time": "2021-06-19T12:51:39.207467",
     "status": "completed"
    },
    "tags": []
   },
   "outputs": [
    {
     "data": {
      "text/plain": [
       "count    17770\n",
       "mean      1990\n",
       "std         16\n",
       "min       1915\n",
       "25%       1985\n",
       "50%       1997\n",
       "75%       2002\n",
       "max       2005\n",
       "Name: Year, dtype: int32"
      ]
     },
     "execution_count": 15,
     "metadata": {},
     "output_type": "execute_result"
    }
   ],
   "source": [
    "df_title['Year'].describe().astype('int')"
   ]
  },
  {
   "cell_type": "code",
   "execution_count": 16,
   "id": "requested-chrome",
   "metadata": {
    "colab": {
     "base_uri": "https://localhost:8080/"
    },
    "execution": {
     "iopub.execute_input": "2021-06-19T12:51:39.325670Z",
     "iopub.status.busy": "2021-06-19T12:51:39.325027Z",
     "iopub.status.idle": "2021-06-19T12:51:39.338671Z",
     "shell.execute_reply": "2021-06-19T12:51:39.339128Z",
     "shell.execute_reply.started": "2021-06-18T14:54:13.825072Z"
    },
    "id": "requested-chrome",
    "outputId": "2bcc804c-3d0f-43fd-8bad-ecd00cb326a6",
    "papermill": {
     "duration": 0.051021,
     "end_time": "2021-06-19T12:51:39.339305",
     "exception": false,
     "start_time": "2021-06-19T12:51:39.288284",
     "status": "completed"
    },
    "tags": []
   },
   "outputs": [
    {
     "name": "stdout",
     "output_type": "stream",
     "text": [
      "Unique Values :\n",
      " Movie_ID    17770\n",
      "Year           91\n",
      "Name        17297\n",
      "dtype: int64\n"
     ]
    }
   ],
   "source": [
    "print(\"Unique Values :\\n\",df_title.nunique())"
   ]
  },
  {
   "cell_type": "markdown",
   "id": "rocky-brush",
   "metadata": {
    "id": "rocky-brush",
    "papermill": {
     "duration": 0.03427,
     "end_time": "2021-06-19T12:51:39.409716",
     "exception": false,
     "start_time": "2021-06-19T12:51:39.375446",
     "status": "completed"
    },
    "tags": []
   },
   "source": [
    "# 3. Analyze Data"
   ]
  },
  {
   "cell_type": "code",
   "execution_count": 17,
   "id": "strange-focus",
   "metadata": {
    "colab": {
     "base_uri": "https://localhost:8080/"
    },
    "execution": {
     "iopub.execute_input": "2021-06-19T12:51:39.486009Z",
     "iopub.status.busy": "2021-06-19T12:51:39.484885Z",
     "iopub.status.idle": "2021-06-19T12:51:40.660142Z",
     "shell.execute_reply": "2021-06-19T12:51:40.659601Z",
     "shell.execute_reply.started": "2021-06-18T14:54:13.852296Z"
    },
    "id": "strange-focus",
    "outputId": "dd7ce463-fb50-46d0-fc0d-d15a72a64226",
    "papermill": {
     "duration": 1.216009,
     "end_time": "2021-06-19T12:51:40.660280",
     "exception": false,
     "start_time": "2021-06-19T12:51:39.444271",
     "status": "completed"
    },
    "tags": []
   },
   "outputs": [
    {
     "data": {
      "text/plain": [
       "User_ID\n",
       "305344     1344\n",
       "387418     1339\n",
       "2439493    1324\n",
       "2118461    1305\n",
       "1664010    1257\n",
       "Name: Rating, dtype: int64"
      ]
     },
     "execution_count": 17,
     "metadata": {},
     "output_type": "execute_result"
    }
   ],
   "source": [
    "no_of_rated_products_per_users = df.groupby(by='User_ID')['Rating'].count().sort_values(ascending=False)\n",
    "no_of_rated_products_per_users.head()"
   ]
  },
  {
   "cell_type": "code",
   "execution_count": 18,
   "id": "tested-lebanon",
   "metadata": {
    "colab": {
     "base_uri": "https://localhost:8080/"
    },
    "execution": {
     "iopub.execute_input": "2021-06-19T12:51:40.734838Z",
     "iopub.status.busy": "2021-06-19T12:51:40.734196Z",
     "iopub.status.idle": "2021-06-19T12:51:40.749815Z",
     "shell.execute_reply": "2021-06-19T12:51:40.749180Z",
     "shell.execute_reply.started": "2021-06-18T14:54:15.227082Z"
    },
    "id": "tested-lebanon",
    "outputId": "fbb039a1-573b-4ad8-f6ec-6216e0e96803",
    "papermill": {
     "duration": 0.054927,
     "end_time": "2021-06-19T12:51:40.749957",
     "exception": false,
     "start_time": "2021-06-19T12:51:40.695030",
     "status": "completed"
    },
    "tags": []
   },
   "outputs": [
    {
     "data": {
      "text/plain": [
       "count    143458.000000\n",
       "mean        120.853895\n",
       "std          79.783702\n",
       "min           5.000000\n",
       "25%          67.000000\n",
       "50%          95.000000\n",
       "75%         147.000000\n",
       "max        1344.000000\n",
       "Name: Rating, dtype: float64"
      ]
     },
     "execution_count": 18,
     "metadata": {},
     "output_type": "execute_result"
    }
   ],
   "source": [
    "no_of_rated_products_per_users.describe()\n"
   ]
  },
  {
   "cell_type": "code",
   "execution_count": 19,
   "id": "pleasant-thursday",
   "metadata": {
    "colab": {
     "base_uri": "https://localhost:8080/"
    },
    "execution": {
     "iopub.execute_input": "2021-06-19T12:51:41.266922Z",
     "iopub.status.busy": "2021-06-19T12:51:41.266192Z",
     "iopub.status.idle": "2021-06-19T12:51:41.633368Z",
     "shell.execute_reply": "2021-06-19T12:51:41.633887Z",
     "shell.execute_reply.started": "2021-06-18T14:54:15.618505Z"
    },
    "id": "pleasant-thursday",
    "outputId": "92a57dba-a7fd-46e1-fb48-9e39cdf3fa2d",
    "papermill": {
     "duration": 0.409819,
     "end_time": "2021-06-19T12:51:41.634058",
     "exception": false,
     "start_time": "2021-06-19T12:51:41.224239",
     "status": "completed"
    },
    "tags": []
   },
   "outputs": [
    {
     "data": {
      "text/plain": [
       "Movie_ID\n",
       "1905    117075\n",
       "2452    102721\n",
       "4306    102376\n",
       "571     101450\n",
       "3860     98545\n",
       "Name: Rating, dtype: int64"
      ]
     },
     "execution_count": 19,
     "metadata": {},
     "output_type": "execute_result"
    }
   ],
   "source": [
    "no_of_rated_products_per_movies = df.groupby(by='Movie_ID')['Rating'].count().sort_values(ascending=False)\n",
    "no_of_rated_products_per_movies.head()"
   ]
  },
  {
   "cell_type": "code",
   "execution_count": 20,
   "id": "eleven-occasions",
   "metadata": {
    "colab": {
     "base_uri": "https://localhost:8080/"
    },
    "execution": {
     "iopub.execute_input": "2021-06-19T12:51:41.713532Z",
     "iopub.status.busy": "2021-06-19T12:51:41.712817Z",
     "iopub.status.idle": "2021-06-19T12:51:41.718698Z",
     "shell.execute_reply": "2021-06-19T12:51:41.719215Z",
     "shell.execute_reply.started": "2021-06-18T14:54:16.043599Z"
    },
    "id": "eleven-occasions",
    "outputId": "18f729d5-1fb2-4ea0-c2f0-4353dd1f0ca0",
    "papermill": {
     "duration": 0.048745,
     "end_time": "2021-06-19T12:51:41.719381",
     "exception": false,
     "start_time": "2021-06-19T12:51:41.670636",
     "status": "completed"
    },
    "tags": []
   },
   "outputs": [
    {
     "data": {
      "text/plain": [
       "count      1350.000000\n",
       "mean      12842.561481\n",
       "std       17805.334719\n",
       "min        1042.000000\n",
       "25%        2607.750000\n",
       "50%        5229.000000\n",
       "75%       14792.000000\n",
       "max      117075.000000\n",
       "Name: Rating, dtype: float64"
      ]
     },
     "execution_count": 20,
     "metadata": {},
     "output_type": "execute_result"
    }
   ],
   "source": [
    "no_of_rated_products_per_movies.describe()"
   ]
  },
  {
   "cell_type": "code",
   "execution_count": 21,
   "id": "located-buyer",
   "metadata": {
    "execution": {
     "iopub.execute_input": "2021-06-19T12:51:42.153858Z",
     "iopub.status.busy": "2021-06-19T12:51:42.153223Z",
     "iopub.status.idle": "2021-06-19T12:51:42.693153Z",
     "shell.execute_reply": "2021-06-19T12:51:42.693707Z",
     "shell.execute_reply.started": "2021-06-18T16:02:45.492370Z"
    },
    "id": "located-buyer",
    "papermill": {
     "duration": 0.581354,
     "end_time": "2021-06-19T12:51:42.693882",
     "exception": false,
     "start_time": "2021-06-19T12:51:42.112528",
     "status": "completed"
    },
    "tags": []
   },
   "outputs": [],
   "source": [
    "f = ['count','mean']\n",
    "df_movie_summary = df.groupby('Movie_ID')['Rating'].agg(f)\n",
    "df_movie_summary.index = df_movie_summary.index.map(int)\n",
    "movie_benchmark = round(df_movie_summary['count'].quantile(0.7),0)\n",
    "drop_movie_list = df_movie_summary[df_movie_summary['count'] < movie_benchmark].index\n",
    "\n",
    "df__title = df_title.set_index('Movie_ID')"
   ]
  },
  {
   "cell_type": "markdown",
   "id": "described-satisfaction",
   "metadata": {
    "id": "described-satisfaction",
    "papermill": {
     "duration": 0.043882,
     "end_time": "2021-06-19T12:51:45.498986",
     "exception": false,
     "start_time": "2021-06-19T12:51:45.455104",
     "status": "completed"
    },
    "tags": []
   },
   "source": [
    "# 4. Recommendation Model\n"
   ]
  },
  {
   "cell_type": "markdown",
   "id": "formed-victor",
   "metadata": {
    "id": "formed-victor",
    "papermill": {
     "duration": 0.041275,
     "end_time": "2021-06-19T12:51:45.582065",
     "exception": false,
     "start_time": "2021-06-19T12:51:45.540790",
     "status": "completed"
    },
    "tags": []
   },
   "source": [
    "## 4.1 Collaborative Filtering - SVD"
   ]
  },
  {
   "cell_type": "code",
   "execution_count": 22,
   "id": "consistent-forge",
   "metadata": {
    "colab": {
     "base_uri": "https://localhost:8080/"
    },
    "execution": {
     "iopub.execute_input": "2021-06-19T12:51:45.668694Z",
     "iopub.status.busy": "2021-06-19T12:51:45.668064Z",
     "iopub.status.idle": "2021-06-19T13:09:56.488283Z",
     "shell.execute_reply": "2021-06-19T13:09:56.488841Z",
     "shell.execute_reply.started": "2021-06-18T14:57:07.949788Z"
    },
    "id": "consistent-forge",
    "outputId": "f519ea47-6340-4c99-b559-d3d5677ed18c",
    "papermill": {
     "duration": 1090.865443,
     "end_time": "2021-06-19T13:09:56.489221",
     "exception": false,
     "start_time": "2021-06-19T12:51:45.623778",
     "status": "completed"
    },
    "tags": []
   },
   "outputs": [
    {
     "ename": "NameError",
     "evalue": "name 'SVD' is not defined",
     "output_type": "error",
     "traceback": [
      "\u001b[1;31m---------------------------------------------------------------------------\u001b[0m",
      "\u001b[1;31mNameError\u001b[0m                                 Traceback (most recent call last)",
      "Input \u001b[1;32mIn [22]\u001b[0m, in \u001b[0;36m<cell line: 1>\u001b[1;34m()\u001b[0m\n\u001b[1;32m----> 1\u001b[0m model \u001b[38;5;241m=\u001b[39m \u001b[43mSVD\u001b[49m(n_epochs\u001b[38;5;241m=\u001b[39m\u001b[38;5;241m10\u001b[39m,verbose \u001b[38;5;241m=\u001b[39m \u001b[38;5;28;01mTrue\u001b[39;00m)\n\u001b[0;32m      3\u001b[0m data \u001b[38;5;241m=\u001b[39m Dataset\u001b[38;5;241m.\u001b[39mload_from_df(df[[\u001b[38;5;124m'\u001b[39m\u001b[38;5;124mUser_ID\u001b[39m\u001b[38;5;124m'\u001b[39m, \u001b[38;5;124m'\u001b[39m\u001b[38;5;124mMovie_ID\u001b[39m\u001b[38;5;124m'\u001b[39m, \u001b[38;5;124m'\u001b[39m\u001b[38;5;124mRating\u001b[39m\u001b[38;5;124m'\u001b[39m]], Reader())\n\u001b[0;32m      5\u001b[0m trainset, testset \u001b[38;5;241m=\u001b[39m train_test_split(data, test_size\u001b[38;5;241m=\u001b[39m\u001b[38;5;241m0.3\u001b[39m,random_state\u001b[38;5;241m=\u001b[39m\u001b[38;5;241m10\u001b[39m)\n",
      "\u001b[1;31mNameError\u001b[0m: name 'SVD' is not defined"
     ]
    }
   ],
   "source": [
    "model = SVD(n_epochs=10,verbose = True)\n",
    "\n",
    "data = Dataset.load_from_df(df[['User_ID', 'Movie_ID', 'Rating']], Reader())\n",
    "\n",
    "trainset, testset = train_test_split(data, test_size=0.3,random_state=10)\n",
    "\n",
    "trainset = data.build_full_trainset()\n",
    "\n",
    "model.fit(trainset)"
   ]
  },
  {
   "cell_type": "code",
   "execution_count": null,
   "id": "accredited-technique",
   "metadata": {
    "colab": {
     "base_uri": "https://localhost:8080/"
    },
    "execution": {
     "iopub.execute_input": "2021-06-19T13:09:56.624273Z",
     "iopub.status.busy": "2021-06-19T13:09:56.623154Z",
     "iopub.status.idle": "2021-06-19T13:11:51.772690Z",
     "shell.execute_reply": "2021-06-19T13:11:51.771617Z",
     "shell.execute_reply.started": "2021-06-18T15:07:29.334529Z"
    },
    "id": "accredited-technique",
    "outputId": "c2018125-9e12-4c47-c5a3-53a3762f9fdd",
    "papermill": {
     "duration": 115.238802,
     "end_time": "2021-06-19T13:11:51.772919",
     "exception": false,
     "start_time": "2021-06-19T13:09:56.534117",
     "status": "completed"
    },
    "tags": []
   },
   "outputs": [],
   "source": [
    "predictions = model.test(testset)\n",
    "\n",
    "accuracy.rmse(predictions, verbose=True)"
   ]
  },
  {
   "cell_type": "code",
   "execution_count": null,
   "id": "spiritual-oregon",
   "metadata": {
    "execution": {
     "iopub.execute_input": "2021-06-19T13:11:51.868433Z",
     "iopub.status.busy": "2021-06-19T13:11:51.867777Z",
     "iopub.status.idle": "2021-06-19T13:11:51.874397Z",
     "shell.execute_reply": "2021-06-19T13:11:51.874932Z",
     "shell.execute_reply.started": "2021-06-18T15:09:40.392225Z"
    },
    "id": "spiritual-oregon",
    "papermill": {
     "duration": 0.055834,
     "end_time": "2021-06-19T13:11:51.875118",
     "exception": false,
     "start_time": "2021-06-19T13:11:51.819284",
     "status": "completed"
    },
    "tags": []
   },
   "outputs": [],
   "source": [
    "def Recommendation(given_user_id,n_movies):\n",
    "    given_user = df_title.copy()\n",
    "    given_user = given_user.reset_index()\n",
    "    given_user = given_user[~given_user['Movie_ID'].isin(drop_movie_list)]\n",
    "\n",
    "\n",
    "    given_user['Estimated_Rating'] = given_user['Movie_ID'].apply(lambda x: model.predict(given_user_id, x).est)\n",
    "\n",
    "    given_user = given_user.drop('Movie_ID', axis = 1)\n",
    "\n",
    "    given_user = given_user.sort_values('Estimated_Rating', ascending=False)\n",
    "    given_user.drop(['index'], axis = 1,inplace=True)\n",
    "    given_user.reset_index(inplace=True,drop=True)\n",
    "    return given_user.head(n_movies)"
   ]
  },
  {
   "cell_type": "markdown",
   "id": "intended-product",
   "metadata": {
    "id": "intended-product",
    "papermill": {
     "duration": 0.046141,
     "end_time": "2021-06-19T13:11:51.966975",
     "exception": false,
     "start_time": "2021-06-19T13:11:51.920834",
     "status": "completed"
    },
    "tags": []
   },
   "source": [
    "### Movie Recommendation for User - 712664"
   ]
  },
  {
   "cell_type": "code",
   "execution_count": null,
   "id": "nervous-answer",
   "metadata": {
    "colab": {
     "base_uri": "https://localhost:8080/",
     "height": 363
    },
    "execution": {
     "iopub.execute_input": "2021-06-19T13:11:52.064789Z",
     "iopub.status.busy": "2021-06-19T13:11:52.064075Z",
     "iopub.status.idle": "2021-06-19T13:11:52.242638Z",
     "shell.execute_reply": "2021-06-19T13:11:52.241949Z",
     "shell.execute_reply.started": "2021-06-18T15:09:40.403250Z"
    },
    "id": "nervous-answer",
    "outputId": "d4dc8bd8-b6ea-486f-ae36-ef4cf2725e8f",
    "papermill": {
     "duration": 0.229461,
     "end_time": "2021-06-19T13:11:52.242793",
     "exception": false,
     "start_time": "2021-06-19T13:11:52.013332",
     "status": "completed"
    },
    "tags": []
   },
   "outputs": [],
   "source": [
    "Recommendation(712664,10)"
   ]
  },
  {
   "cell_type": "markdown",
   "id": "adjacent-journey",
   "metadata": {
    "id": "adjacent-journey",
    "papermill": {
     "duration": 0.045734,
     "end_time": "2021-06-19T13:11:52.339591",
     "exception": false,
     "start_time": "2021-06-19T13:11:52.293857",
     "status": "completed"
    },
    "tags": []
   },
   "source": [
    "### Movie Recommendation for User - 2643029"
   ]
  },
  {
   "cell_type": "code",
   "execution_count": null,
   "id": "characteristic-florist",
   "metadata": {
    "colab": {
     "base_uri": "https://localhost:8080/",
     "height": 363
    },
    "execution": {
     "iopub.execute_input": "2021-06-19T13:11:52.439883Z",
     "iopub.status.busy": "2021-06-19T13:11:52.438754Z",
     "iopub.status.idle": "2021-06-19T13:11:52.608673Z",
     "shell.execute_reply": "2021-06-19T13:11:52.608064Z",
     "shell.execute_reply.started": "2021-06-18T15:09:40.594616Z"
    },
    "id": "characteristic-florist",
    "outputId": "fedac343-5189-4e41-c3ab-8c0f71e4ef97",
    "papermill": {
     "duration": 0.223079,
     "end_time": "2021-06-19T13:11:52.608839",
     "exception": false,
     "start_time": "2021-06-19T13:11:52.385760",
     "status": "completed"
    },
    "tags": []
   },
   "outputs": [],
   "source": [
    "Recommendation(2643029,10)"
   ]
  }
 ],
 "metadata": {
  "colab": {
   "provenance": []
  },
  "kernelspec": {
   "display_name": "Python 3 (ipykernel)",
   "language": "python",
   "name": "python3"
  },
  "language_info": {
   "codemirror_mode": {
    "name": "ipython",
    "version": 3
   },
   "file_extension": ".py",
   "mimetype": "text/x-python",
   "name": "python",
   "nbconvert_exporter": "python",
   "pygments_lexer": "ipython3",
   "version": "3.9.12"
  },
  "papermill": {
   "default_parameters": {},
   "duration": 1276.014934,
   "end_time": "2021-06-19T13:12:39.098836",
   "environment_variables": {},
   "exception": null,
   "input_path": "__notebook__.ipynb",
   "output_path": "__notebook__.ipynb",
   "parameters": {},
   "start_time": "2021-06-19T12:51:23.083902",
   "version": "2.3.2"
  }
 },
 "nbformat": 4,
 "nbformat_minor": 5
}
