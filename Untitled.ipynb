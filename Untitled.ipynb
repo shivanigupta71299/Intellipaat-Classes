{
 "cells": [
  {
   "cell_type": "markdown",
   "id": "179cadee",
   "metadata": {},
   "source": [
    "# Python Module 2"
   ]
  },
  {
   "cell_type": "code",
   "execution_count": null,
   "id": "641d682e",
   "metadata": {},
   "outputs": [],
   "source": [
    "Issues in : 9."
   ]
  },
  {
   "cell_type": "markdown",
   "id": "031e6add",
   "metadata": {},
   "source": [
    "#### 1. For a given list that contains numbers from 1 to 20. Using a for loop, create a new list that contains the square of each element from the given list"
   ]
  },
  {
   "cell_type": "code",
   "execution_count": 6,
   "id": "79ef600f",
   "metadata": {},
   "outputs": [],
   "source": [
    "li = list()\n",
    "li1 = list()"
   ]
  },
  {
   "cell_type": "code",
   "execution_count": 7,
   "id": "be799b2d",
   "metadata": {},
   "outputs": [
    {
     "name": "stdout",
     "output_type": "stream",
     "text": [
      "[1, 2, 3, 4, 5, 6, 7, 8, 9, 10, 11, 12, 13, 14, 15, 16, 17, 18, 19, 20]\n"
     ]
    }
   ],
   "source": [
    "for i in range(1,21):\n",
    "    li.append(i)\n",
    "print(li)"
   ]
  },
  {
   "cell_type": "code",
   "execution_count": 11,
   "id": "445d817c",
   "metadata": {},
   "outputs": [
    {
     "name": "stdout",
     "output_type": "stream",
     "text": [
      "[1, 4, 9, 16, 25, 36, 49, 64, 81, 100, 121, 144, 169, 196, 225, 256, 289, 324, 361, 400]\n"
     ]
    }
   ],
   "source": [
    "li1.clear()\n",
    "for each_ele in li:\n",
    "    li1.append(each_ele*each_ele)\n",
    "print(li1)"
   ]
  },
  {
   "cell_type": "markdown",
   "id": "3ad80863",
   "metadata": {},
   "source": [
    "#### 2. For a given dictionary that contains numbers from 1-10 as keys, and their square as values, display each key-value pair using a for loop"
   ]
  },
  {
   "cell_type": "code",
   "execution_count": 12,
   "id": "4cb4228f",
   "metadata": {},
   "outputs": [
    {
     "name": "stdout",
     "output_type": "stream",
     "text": [
      "{1: 1, 2: 4, 3: 9, 4: 16, 5: 25, 6: 36, 7: 49, 8: 64, 9: 81}\n"
     ]
    }
   ],
   "source": [
    "di = dict()\n",
    "for each_ele in range(1,10):\n",
    "    di[each_ele] = each_ele * each_ele\n",
    "print(di)"
   ]
  },
  {
   "cell_type": "code",
   "execution_count": 22,
   "id": "c0286354",
   "metadata": {},
   "outputs": [
    {
     "name": "stdout",
     "output_type": "stream",
     "text": [
      "1 :: 1\n",
      "2 :: 4\n",
      "3 :: 9\n",
      "4 :: 16\n",
      "5 :: 25\n",
      "6 :: 36\n",
      "7 :: 49\n",
      "8 :: 64\n",
      "9 :: 81\n"
     ]
    }
   ],
   "source": [
    "for key,value in di.items():\n",
    "    print(key,\"::\",value)"
   ]
  },
  {
   "cell_type": "markdown",
   "id": "11e72ebe",
   "metadata": {},
   "source": [
    "#### 3. A tuple contains even numbers from 1-20. Display all the items in a tuple using a for loop."
   ]
  },
  {
   "cell_type": "code",
   "execution_count": 43,
   "id": "ed3839a7",
   "metadata": {},
   "outputs": [
    {
     "name": "stdout",
     "output_type": "stream",
     "text": [
      "(2, 4, 6, 8, 10, 12, 14, 16, 18, 20)\n"
     ]
    }
   ],
   "source": [
    "tup1 = tuple()\n",
    "li=list()\n",
    "for i in range(1,21):\n",
    "    if i%2==0:\n",
    "        li.append(i)\n",
    "tup1 = tuple(li)\n",
    "print(tup1)"
   ]
  },
  {
   "cell_type": "code",
   "execution_count": 46,
   "id": "a54f93fd",
   "metadata": {},
   "outputs": [
    {
     "data": {
      "text/plain": [
       "4"
      ]
     },
     "execution_count": 46,
     "metadata": {},
     "output_type": "execute_result"
    }
   ],
   "source": [
    "len(tup1)\n",
    "tup1[1]"
   ]
  },
  {
   "cell_type": "code",
   "execution_count": 55,
   "id": "6004747c",
   "metadata": {},
   "outputs": [
    {
     "ename": "SyntaxError",
     "evalue": "invalid syntax (413979123.py, line 1)",
     "output_type": "error",
     "traceback": [
      "\u001b[1;36m  Input \u001b[1;32mIn [55]\u001b[1;36m\u001b[0m\n\u001b[1;33m    tup1[i] for i in range(0,len(tup1))\u001b[0m\n\u001b[1;37m            ^\u001b[0m\n\u001b[1;31mSyntaxError\u001b[0m\u001b[1;31m:\u001b[0m invalid syntax\n"
     ]
    }
   ],
   "source": [
    "tup1[i] for i in range(0,len(tup1))"
   ]
  },
  {
   "cell_type": "markdown",
   "id": "a9e7eac3",
   "metadata": {},
   "source": [
    "#### 4. A set contains odd numbers from 1-20. Display the items in a set using a for loop"
   ]
  },
  {
   "cell_type": "code",
   "execution_count": 54,
   "id": "c76aa668",
   "metadata": {},
   "outputs": [
    {
     "name": "stdout",
     "output_type": "stream",
     "text": [
      "{1, 3, 5, 7, 9, 11, 13, 15, 17, 19}\n"
     ]
    }
   ],
   "source": [
    "s1=set()\n",
    "for i in range(1,21):\n",
    "    if i%2!=0:\n",
    "        s1.add(i)\n",
    "print(s1)"
   ]
  },
  {
   "cell_type": "code",
   "execution_count": 61,
   "id": "945b1bee",
   "metadata": {},
   "outputs": [
    {
     "name": "stdout",
     "output_type": "stream",
     "text": [
      "1 3 5 7 9 11 13 15 17 19 "
     ]
    }
   ],
   "source": [
    "for i in s1:\n",
    "    print(i, end=\" \")"
   ]
  },
  {
   "cell_type": "markdown",
   "id": "a59d2448",
   "metadata": {},
   "source": [
    "#### 5. For a given sequence of nested lists, display the elements using a for loop. a = [[1,2],[3,4],[5,6],[7,8]]"
   ]
  },
  {
   "cell_type": "code",
   "execution_count": 66,
   "id": "ad2dbf47",
   "metadata": {},
   "outputs": [
    {
     "name": "stdout",
     "output_type": "stream",
     "text": [
      "[1, 2]\n",
      "[3, 4]\n",
      "[5, 6]\n",
      "[7, 8]\n"
     ]
    }
   ],
   "source": [
    "li = [[1,2],[3,4],[5,6],[7,8]]\n",
    "for each in li:\n",
    "    print(each)"
   ]
  },
  {
   "cell_type": "markdown",
   "id": "f561736f",
   "metadata": {},
   "source": [
    "#### 6. For a given sequence of nested dictionaries, display all the values in the dictionary."
   ]
  },
  {
   "cell_type": "code",
   "execution_count": 82,
   "id": "42e7f301",
   "metadata": {},
   "outputs": [
    {
     "name": "stdout",
     "output_type": "stream",
     "text": [
      "1 :: {'one': 1}\n",
      "2 :: {'two': 2}\n",
      "3 :: {'three': 3}\n"
     ]
    }
   ],
   "source": [
    "a = {1: {'one':1}, 2: {'two':2}, 3: {'three':3}}\n",
    "for key,value in a.items():\n",
    "    print(key,\"::\",value)"
   ]
  },
  {
   "cell_type": "markdown",
   "id": "a35e7342",
   "metadata": {},
   "source": [
    "#### 7. For a given list of natural numbers from 1-100, using the while loop, print only the numbers that are divisible by 2."
   ]
  },
  {
   "cell_type": "code",
   "execution_count": null,
   "id": "6da46064",
   "metadata": {},
   "outputs": [],
   "source": [
    "li = list(range(1,101))\n",
    "each=0\n",
    "while each < len(li):\n",
    "    each+=1\n",
    "    if each %2==0:\n",
    "        print(each, end = ' ')"
   ]
  },
  {
   "cell_type": "markdown",
   "id": "6b10030d",
   "metadata": {},
   "source": [
    "#### 8. Print the first 5 multiples of 3 using a while loop."
   ]
  },
  {
   "cell_type": "code",
   "execution_count": 2,
   "id": "00d842e0",
   "metadata": {},
   "outputs": [
    {
     "name": "stdout",
     "output_type": "stream",
     "text": [
      "3\n",
      "6\n",
      "9\n",
      "12\n"
     ]
    }
   ],
   "source": [
    "i=1\n",
    "r=lambda x,y : x*y\n",
    "while i<5:\n",
    "    print(r(3,i))\n",
    "    i+=1"
   ]
  },
  {
   "cell_type": "markdown",
   "id": "ff9aac7d",
   "metadata": {},
   "source": [
    "#### 9. For a given dictionary that contains the first 10 natural numbers as keys, and their cubes as values, display the key value pairs using a while loop"
   ]
  },
  {
   "cell_type": "code",
   "execution_count": 2,
   "id": "2eac95fb",
   "metadata": {},
   "outputs": [
    {
     "name": "stdout",
     "output_type": "stream",
     "text": [
      "{1: 1, 2: 8, 3: 27, 4: 64, 5: 125, 6: 216, 7: 343, 8: 512, 9: 729, 10: 1000}\n"
     ]
    }
   ],
   "source": [
    "d=dict()\n",
    "for x in range(1,11):\n",
    "    d[x]=x**3\n",
    "print(d)  "
   ]
  },
  {
   "cell_type": "code",
   "execution_count": 7,
   "id": "52d53978",
   "metadata": {},
   "outputs": [
    {
     "data": {
      "text/plain": [
       "10"
      ]
     },
     "execution_count": 7,
     "metadata": {},
     "output_type": "execute_result"
    }
   ],
   "source": [
    "len(d)"
   ]
  },
  {
   "cell_type": "code",
   "execution_count": 12,
   "id": "0639c6d9",
   "metadata": {},
   "outputs": [
    {
     "ename": "TypeError",
     "evalue": "'dict_keys' object is not callable",
     "output_type": "error",
     "traceback": [
      "\u001b[1;31m---------------------------------------------------------------------------\u001b[0m",
      "\u001b[1;31mTypeError\u001b[0m                                 Traceback (most recent call last)",
      "Input \u001b[1;32mIn [12]\u001b[0m, in \u001b[0;36m<cell line: 3>\u001b[1;34m()\u001b[0m\n\u001b[0;32m      2\u001b[0m i\u001b[38;5;241m=\u001b[39m\u001b[38;5;241m1\u001b[39m\n\u001b[0;32m      3\u001b[0m \u001b[38;5;28;01mwhile\u001b[39;00m i\u001b[38;5;241m<\u001b[39m\u001b[38;5;28mlen\u001b[39m(k):\n\u001b[1;32m----> 4\u001b[0m     \u001b[38;5;28mprint\u001b[39m(\u001b[43mk\u001b[49m\u001b[43m(\u001b[49m\u001b[43md\u001b[49m\u001b[43m)\u001b[49m[\u001b[38;5;241m0\u001b[39m],d\u001b[38;5;241m.\u001b[39mget(i))\n",
      "\u001b[1;31mTypeError\u001b[0m: 'dict_keys' object is not callable"
     ]
    }
   ],
   "source": [
    "k = d.keys()\n",
    "i=1\n",
    "while i<len(k):\n",
    "    print(k(d)[0],d.get(i))"
   ]
  },
  {
   "cell_type": "markdown",
   "id": "a764db8c",
   "metadata": {},
   "source": [
    "#### 10. Write a program using a while loop demonstrating the usage of break, continue and pass statements along with if else statements."
   ]
  },
  {
   "cell_type": "code",
   "execution_count": 3,
   "id": "2129b4b2",
   "metadata": {},
   "outputs": [
    {
     "name": "stdout",
     "output_type": "stream",
     "text": [
      "q\n",
      "e\n",
      "r\n"
     ]
    }
   ],
   "source": [
    "str = 'qwerty'\n",
    "i=-1\n",
    "while True:\n",
    "    i+=1\n",
    "    if str[i]=='t':\n",
    "        break\n",
    "    if str[i]=='w':\n",
    "        continue\n",
    "    print(str[i])"
   ]
  },
  {
   "cell_type": "code",
   "execution_count": null,
   "id": "05adff72",
   "metadata": {},
   "outputs": [],
   "source": [
    "str = 'qwerty'\n",
    "while str:\n",
    "    pass"
   ]
  },
  {
   "cell_type": "markdown",
   "id": "b9275fef",
   "metadata": {},
   "source": [
    "#### 11. Write a program using a for loop demonstrating the usage of break, continue and pass statements along with if else statements."
   ]
  },
  {
   "cell_type": "code",
   "execution_count": 5,
   "id": "95e189d8",
   "metadata": {},
   "outputs": [
    {
     "name": "stdout",
     "output_type": "stream",
     "text": [
      "q\n",
      "e\n",
      "r\n"
     ]
    }
   ],
   "source": [
    "for each_ele in str:\n",
    "    if each_ele=='t':\n",
    "        break\n",
    "    if each_ele=='w':\n",
    "        continue\n",
    "    print(each_ele)"
   ]
  },
  {
   "cell_type": "markdown",
   "id": "5a2519d4",
   "metadata": {},
   "source": [
    "#### 12. Create a nested for loop to print a pyramid pattern program in python."
   ]
  },
  {
   "cell_type": "code",
   "execution_count": 8,
   "id": "536d7409",
   "metadata": {},
   "outputs": [
    {
     "name": "stdout",
     "output_type": "stream",
     "text": [
      "* * * * *  \n",
      "* * * *  \n",
      "* * *  \n",
      "* *  \n",
      "*  \n",
      " \n"
     ]
    }
   ],
   "source": [
    "for x in reversed(range(0,6)):\n",
    "    for y in range(x):\n",
    "        print(\"*\", end =' ')\n",
    "    print(\" \")"
   ]
  },
  {
   "cell_type": "code",
   "execution_count": 2,
   "id": "353b247a",
   "metadata": {},
   "outputs": [
    {
     "name": "stdout",
     "output_type": "stream",
     "text": [
      "    *\n",
      "   ***\n",
      "  *****\n",
      " *******\n",
      "*********\n"
     ]
    }
   ],
   "source": [
    "for x in range(1,6):\n",
    "    k=0\n",
    "    for y in range(0,6-x-1):\n",
    "        print('', end = ' ')\n",
    "    while k<2*x-1:\n",
    "        print('*', end ='')\n",
    "        k+=1\n",
    "    print()"
   ]
  },
  {
   "cell_type": "code",
   "execution_count": 11,
   "id": "64a0455e",
   "metadata": {},
   "outputs": [
    {
     "name": "stdout",
     "output_type": "stream",
     "text": [
      "*********\n",
      " *******\n",
      "  *****\n",
      "   ***\n",
      "    *\n"
     ]
    }
   ],
   "source": [
    "for x in reversed(range(1,6)):\n",
    "    k=0\n",
    "    for y in range(0,6-x-1):\n",
    "        print('', end = ' ')\n",
    "    while k<2*x-1:\n",
    "        print('*', end ='')\n",
    "        k+=1\n",
    "    print()"
   ]
  },
  {
   "cell_type": "code",
   "execution_count": 1,
   "id": "26dc0725",
   "metadata": {},
   "outputs": [
    {
     "name": "stdout",
     "output_type": "stream",
     "text": [
      "    *\n",
      "   * *\n",
      "  * * *\n",
      " * * * *\n",
      "* * * * *\n"
     ]
    }
   ],
   "source": [
    "for x in range(1,6):\n",
    "    k=0\n",
    "    for y in range(0,6-x-1):\n",
    "        print('', end = ' ')\n",
    "    while k<2*x-1:    # 01  01234\n",
    "        if k%2!=0:\n",
    "            print('', end = ' ')\n",
    "        else:\n",
    "            print('*', end ='')\n",
    "        k+=1\n",
    "    print()"
   ]
  },
  {
   "cell_type": "code",
   "execution_count": 2,
   "id": "ba666417",
   "metadata": {},
   "outputs": [
    {
     "name": "stdout",
     "output_type": "stream",
     "text": [
      "Smaller\n"
     ]
    }
   ],
   "source": [
    "a = 25\n",
    "b = 20\n",
    "if a < b:\n",
    "    print('Greater')\n",
    "elif a == b:\n",
    "    print('equal')\n",
    "elif a > b and b > 10:\n",
    "    print('Smaller')\n",
    "elif a > 10 and b > 10:\n",
    "    print('both')\n",
    "elif a > 15 and b > 10:\n",
    "    print('only One')\n",
    "else:\n",
    "    print('None')"
   ]
  },
  {
   "cell_type": "code",
   "execution_count": null,
   "id": "f0f142f2",
   "metadata": {},
   "outputs": [],
   "source": [
    "def func(n): \n",
    "if n == 1:\n",
    "    return n\n",
    "else:\n",
    "    first = 1\n",
    "    second = 1\n",
    "    for i in range(1, n):  # 1,2,3,4,5\n",
    "        temp = first + second  # 2 3 5 8 13\n",
    "        first = second  #1  2 3 5\n",
    "        second = temp   #2 3 5 8\n",
    "    return second\n",
    "func(6)"
   ]
  },
  {
   "cell_type": "code",
   "execution_count": null,
   "id": "ad869354",
   "metadata": {},
   "outputs": [],
   "source": [
    "def func(num, res):\n",
    "    for i in range(0, len(num)):  (0,9)\n",
    "        if num[i] + 3 == res:\n",
    "            print(num[i], end=\"\")\n",
    "func([1,4,3,7,8,4,6,3,7], 10)"
   ]
  },
  {
   "cell_type": "code",
   "execution_count": 6,
   "id": "4b32255d",
   "metadata": {},
   "outputs": [
    {
     "name": "stdout",
     "output_type": "stream",
     "text": [
      "1\n",
      "3\n",
      "5\n",
      "2,6\n",
      "3\n",
      "5\n",
      "2,6\n",
      "2\n",
      "1\n"
     ]
    }
   ],
   "source": [
    "def func(sample, res):\n",
    "    for i in sample:\n",
    "        print(i)\n",
    "        if i == res:\n",
    "            print(sample.index(i), end=\",\")\n",
    "sample = [1,3,5,6,3,5,6,2,1]\n",
    "func(sample, 5)"
   ]
  },
  {
   "cell_type": "code",
   "execution_count": 7,
   "id": "0cb96618",
   "metadata": {},
   "outputs": [],
   "source": [
    "x = 169 ** 0.5"
   ]
  },
  {
   "cell_type": "code",
   "execution_count": 8,
   "id": "264bbad8",
   "metadata": {},
   "outputs": [
    {
     "data": {
      "text/plain": [
       "13.0"
      ]
     },
     "execution_count": 8,
     "metadata": {},
     "output_type": "execute_result"
    }
   ],
   "source": [
    "x"
   ]
  },
  {
   "cell_type": "code",
   "execution_count": 10,
   "id": "7640d740",
   "metadata": {},
   "outputs": [
    {
     "name": "stdout",
     "output_type": "stream",
     "text": [
      "28"
     ]
    }
   ],
   "source": [
    "arr = [1,1,2,3,3,4,5,4,6,5,6,7,7,8]\n",
    "dup = [1,3,4,5,6,7]\n",
    "def func(sample):\n",
    "    for x in sample:\n",
    "        if sample.count(x) > 1:\n",
    "            dup.append(x)\n",
    "    for i in sample:\n",
    "        if i in dup:\n",
    "            pass\n",
    "        else:\n",
    "            print(i, end=\"\")\n",
    "func(arr)"
   ]
  },
  {
   "cell_type": "code",
   "execution_count": 13,
   "id": "d367b1bb",
   "metadata": {},
   "outputs": [
    {
     "data": {
      "text/plain": [
       "13"
      ]
     },
     "execution_count": 13,
     "metadata": {},
     "output_type": "execute_result"
    }
   ],
   "source": [
    "round(13,2)"
   ]
  },
  {
   "cell_type": "code",
   "execution_count": 18,
   "id": "2e012823",
   "metadata": {},
   "outputs": [
    {
     "name": "stdout",
     "output_type": "stream",
     "text": [
      "13.0\n"
     ]
    }
   ],
   "source": [
    "def func(x):\n",
    "\n",
    "    if x > 0:\n",
    "\n",
    "        x = x ** 0.5\n",
    "\n",
    "        print(round(x, 8))\n",
    "\n",
    "    else:\n",
    "\n",
    "        x = x ** 1.5\n",
    "\n",
    "        print(round(x, 8))\n",
    "\n",
    "func(169)\n",
    "\n"
   ]
  },
  {
   "cell_type": "code",
   "execution_count": 22,
   "id": "db356b16",
   "metadata": {},
   "outputs": [
    {
     "name": "stdout",
     "output_type": "stream",
     "text": [
      "[2, 5, 3, 1, 2]\n"
     ]
    }
   ],
   "source": [
    "sample_list = [4,5,3,1,2]\n",
    "\n",
    "sample_list[0] = sample_list[len(sample_list)-1]\n",
    "\n",
    "sample_list[len(sample_list)-1] = sample_list[0]\n",
    "print(sample_list)"
   ]
  },
  {
   "cell_type": "code",
   "execution_count": 25,
   "id": "8d48adfd",
   "metadata": {},
   "outputs": [
    {
     "ename": "NameError",
     "evalue": "name 'Out_variable_C' is not defined",
     "output_type": "error",
     "traceback": [
      "\u001b[1;31m---------------------------------------------------------------------------\u001b[0m",
      "\u001b[1;31mNameError\u001b[0m                                 Traceback (most recent call last)",
      "Input \u001b[1;32mIn [25]\u001b[0m, in \u001b[0;36m<cell line: 7>\u001b[1;34m()\u001b[0m\n\u001b[0;32m      3\u001b[0m Variable_B \u001b[38;5;241m=\u001b[39m \u001b[38;5;124m\"\u001b[39m\u001b[38;5;124mis an Object Oriented Programming Language\u001b[39m\u001b[38;5;124m\"\u001b[39m\n\u001b[0;32m      5\u001b[0m out_variable_C \u001b[38;5;241m=\u001b[39m variable_A \u001b[38;5;241m+\u001b[39m Variable_B\n\u001b[1;32m----> 7\u001b[0m \u001b[38;5;28mprint\u001b[39m(\u001b[43mOut_variable_C\u001b[49m)\n",
      "\u001b[1;31mNameError\u001b[0m: name 'Out_variable_C' is not defined"
     ]
    }
   ],
   "source": [
    "variable_A = \"Python Programming\"\n",
    "\n",
    "Variable_B = \"is an Object Oriented Programming Language\"\n",
    "\n",
    "out_variable_C = variable_A + Variable_B\n",
    "\n",
    "print(Out_variable_C)"
   ]
  },
  {
   "cell_type": "code",
   "execution_count": 34,
   "id": "4d457bd8",
   "metadata": {},
   "outputs": [
    {
     "name": "stdout",
     "output_type": "stream",
     "text": [
      "[1, 2, 3, [4, 5, 6]]\n",
      "[8, 9, 7]\n",
      "[1, 2, 3, [4, 5, 6], [8, 9, 7]]\n",
      "3\n"
     ]
    }
   ],
   "source": [
    "list_sample, tuple_sample, set_sample = [1,2,3], (4,5,6), {7,8,9}\n",
    "\n",
    "list_sample.append(list(tuple_sample))\n",
    "    print(list_sample)\n",
    "print(list(set_sample))\n",
    "list_sample.append(list(set_sample))\n",
    "print(list_sample)\n",
    "print(list_sample[len(list_sample)-3])"
   ]
  },
  {
   "cell_type": "code",
   "execution_count": 37,
   "id": "a8c5df5d",
   "metadata": {},
   "outputs": [
    {
     "name": "stdout",
     "output_type": "stream",
     "text": [
      "12\n",
      "24\n",
      "2\n",
      "[23, 3, 5]\n"
     ]
    }
   ],
   "source": [
    "#What is the output of the following code:\n",
    "def func(self):\n",
    "    if self % 2 == 0:\n",
    "        print(self)\n",
    "        return False\n",
    "    else:\n",
    "        return True\n",
    "\n",
    "sample= [12,24,23,3,5,2]\n",
    "z = filter(func, sample)\n",
    "print(list(z))"
   ]
  },
  {
   "cell_type": "code",
   "execution_count": null,
   "id": "7a12a622",
   "metadata": {},
   "outputs": [],
   "source": [
    "#What will be the value of count after the execution of the following code:\n",
    "count = 0\n",
    "for i in range(0, 6):\n",
    "    while i < 6:\n",
    "        if i % 2 == 0:\n",
    "            count = count + 1\n",
    "        else:\n",
    "            pass\n",
    "i = i + 5\n",
    "print(i)"
   ]
  },
  {
   "cell_type": "code",
   "execution_count": 1,
   "id": "cab4db24",
   "metadata": {},
   "outputs": [],
   "source": [
    "\n",
    "## Practice Question"
   ]
  },
  {
   "cell_type": "code",
   "execution_count": 65,
   "id": "4b0ce0b4",
   "metadata": {},
   "outputs": [
    {
     "name": "stdout",
     "output_type": "stream",
     "text": [
      "1 23 45 2 5 \n",
      "5\n",
      "[5, 23, 45, 2, 1]\n",
      "45\n",
      "1\n"
     ]
    }
   ],
   "source": [
    "# 1. Python program to interchange first and last elements in a list\n",
    "#Input : [12, 35, 9, 56, 24]\n",
    "#Output : [24, 35, 9, 56, 12]\n",
    "\n",
    "\n",
    "li=list(map(int, input().strip().split()))\n",
    "l=len(li)\n",
    "print(l)\n",
    "\n",
    "a=li[0]\n",
    "li[0]=li[len(li)-1]\n",
    "li[len(li)-1]=a\n",
    "print(li)\n",
    "# a=a+b\n",
    "# b=a-b\n",
    "# a=a-b\n",
    "print(max(li))\n",
    "print(min(li))"
   ]
  },
  {
   "cell_type": "code",
   "execution_count": 61,
   "id": "90973d7f",
   "metadata": {},
   "outputs": [
    {
     "name": "stdout",
     "output_type": "stream",
     "text": [
      "1 23 3 7 7 8 2\n",
      "[2, 23, 3, 7, 7, 8, 1]\n"
     ]
    }
   ],
   "source": [
    "li=list(map(int, input().strip().split()))\n",
    "li[0],li[-1]=li[-1],li[0]\n",
    "print(li)"
   ]
  },
  {
   "cell_type": "code",
   "execution_count": 3,
   "id": "e97ce0e3",
   "metadata": {},
   "outputs": [
    {
     "name": "stdout",
     "output_type": "stream",
     "text": [
      "12\n"
     ]
    }
   ],
   "source": [
    "# print value of id\n",
    "\n",
    "class tester:\n",
    "    def __init__(self,id):\n",
    "        self.id=str(id)\n",
    "        id=\"225\"\n",
    "        \n",
    "temp=tester(12)\n",
    "print(temp.id)"
   ]
  },
  {
   "cell_type": "code",
   "execution_count": 29,
   "id": "668e475f",
   "metadata": {},
   "outputs": [
    {
     "name": "stdout",
     "output_type": "stream",
     "text": [
      "     \n",
      "    *\n",
      "   ***\n",
      "  *****\n",
      " *******\n",
      "*********\n"
     ]
    }
   ],
   "source": [
    "'''    Draw pattern   \n",
    "    *\n",
    "   ***\n",
    "  *****\n",
    " *******\n",
    "*********\n",
    "\n",
    "'''\n",
    "\n",
    "for i in range(0,6):\n",
    "    for j in reversed(range(0,5-i)):\n",
    "        print(' ',end='')\n",
    "    for j in range(0,2*i-1):\n",
    "        \n",
    "        print('*',end='')\n",
    "    print()"
   ]
  },
  {
   "cell_type": "code",
   "execution_count": 53,
   "id": "cccceab4",
   "metadata": {},
   "outputs": [
    {
     "name": "stdout",
     "output_type": "stream",
     "text": [
      "6\n",
      "[7, 8, 9]\n"
     ]
    }
   ],
   "source": [
    "# extract 6 \n",
    "a=[[1,2,3],[4,5,6],[7,8,9]]\n",
    "print(a[1][2])\n",
    "# last row and second col\n",
    "print(a[2])\n",
    "# TO fetch second column use a[:,1]"
   ]
  },
  {
   "cell_type": "code",
   "execution_count": 64,
   "id": "bd437309",
   "metadata": {},
   "outputs": [
    {
     "name": "stdout",
     "output_type": "stream",
     "text": [
      "4 is a maximum number\n"
     ]
    }
   ],
   "source": [
    "a=2;b=4\n",
    "maximum = lambda a,b: a if a > b  else b\n",
    "print(f'{maximum(a,b)} is a maximum number')"
   ]
  },
  {
   "cell_type": "code",
   "execution_count": 93,
   "id": "e5105fdf",
   "metadata": {},
   "outputs": [
    {
     "name": "stdout",
     "output_type": "stream",
     "text": [
      "10\n",
      "papap papap\n",
      "Symmetrical\n",
      "palindrome\n"
     ]
    }
   ],
   "source": [
    "# Python program to check whether the string is Symmetrical or Palindrome\n",
    "\n",
    "s='papappapap'\n",
    "print(len(s))\n",
    "mid=int(len(s)/2)\n",
    "# 5 - 2+3\n",
    "# 6-3+3\n",
    "str1,str2=\"\",\"\"\n",
    "if(len(s)%2==0):\n",
    "    str1,str2=s[0:mid],s[mid:]\n",
    "else:\n",
    "    str1,str2=s[0:mid],s[mid+1:]\n",
    "    \n",
    "print(str1,str2)\n",
    "str3=str2[::-1]\n",
    "if str1==str2:\n",
    "    print(\"Symmetrical\")\n",
    "if str1==str3:\n",
    "    print(\"palindrome\")"
   ]
  },
  {
   "cell_type": "code",
   "execution_count": 2,
   "id": "0fb3a5c7",
   "metadata": {},
   "outputs": [
    {
     "data": {
      "text/plain": [
       "'code practice quiz geeks'"
      ]
     },
     "execution_count": 2,
     "metadata": {},
     "output_type": "execute_result"
    }
   ],
   "source": [
    "reverse word\n",
    "str =\" geeks quiz practice code\"\n",
    "s=str.split()[::-1]\n",
    "\" \".join(s)"
   ]
  },
  {
   "cell_type": "code",
   "execution_count": 7,
   "id": "0dee2b66",
   "metadata": {},
   "outputs": [
    {
     "name": "stdout",
     "output_type": "stream",
     "text": [
      "is\n",
      "language\n"
     ]
    }
   ],
   "source": [
    "#print even letters words\n",
    "s = \"Thgis is a pytrhon language\"\n",
    "for each in s.split():\n",
    "#     print(each)\n",
    "    if len(each)%2==0:\n",
    "        print(each)"
   ]
  },
  {
   "cell_type": "code",
   "execution_count": 14,
   "id": "eb4e1e97",
   "metadata": {},
   "outputs": [
    {
     "name": "stdout",
     "output_type": "stream",
     "text": [
      "5\n"
     ]
    }
   ],
   "source": [
    "#How to count unique values inside a list\n",
    "\n",
    "li = [1, 2, 2, 5, 8, 4, 4, 8]\n",
    "fl=list()\n",
    "for each in li:\n",
    "    if each  not in fl:\n",
    "        fl.append(each)\n",
    "print(len(fl))"
   ]
  },
  {
   "cell_type": "code",
   "execution_count": 15,
   "id": "2911e019",
   "metadata": {},
   "outputs": [
    {
     "data": {
      "text/plain": [
       "5"
      ]
     },
     "execution_count": 15,
     "metadata": {},
     "output_type": "execute_result"
    }
   ],
   "source": [
    "#How to count unique values inside a list\n",
    "\n",
    "li = [1, 2, 2, 5, 8, 4, 4, 8]\n",
    "len(set(li))"
   ]
  },
  {
   "cell_type": "code",
   "execution_count": 16,
   "id": "4bb551ed",
   "metadata": {},
   "outputs": [
    {
     "ename": "TypeError",
     "evalue": "cannot convert dictionary update sequence element #0 to a sequence",
     "output_type": "error",
     "traceback": [
      "\u001b[1;31m---------------------------------------------------------------------------\u001b[0m",
      "\u001b[1;31mTypeError\u001b[0m                                 Traceback (most recent call last)",
      "Input \u001b[1;32mIn [16]\u001b[0m, in \u001b[0;36m<cell line: 4>\u001b[1;34m()\u001b[0m\n\u001b[0;32m      1\u001b[0m \u001b[38;5;66;03m#How to count unique values inside a list\u001b[39;00m\n\u001b[0;32m      3\u001b[0m li \u001b[38;5;241m=\u001b[39m [\u001b[38;5;241m1\u001b[39m, \u001b[38;5;241m2\u001b[39m, \u001b[38;5;241m2\u001b[39m, \u001b[38;5;241m5\u001b[39m, \u001b[38;5;241m8\u001b[39m, \u001b[38;5;241m4\u001b[39m, \u001b[38;5;241m4\u001b[39m, \u001b[38;5;241m8\u001b[39m]\n\u001b[1;32m----> 4\u001b[0m \u001b[38;5;28mlen\u001b[39m(\u001b[38;5;28;43mdict\u001b[39;49m\u001b[43m(\u001b[49m\u001b[43mli\u001b[49m\u001b[43m)\u001b[49m)\n",
      "\u001b[1;31mTypeError\u001b[0m: cannot convert dictionary update sequence element #0 to a sequence"
     ]
    }
   ],
   "source": [
    "#How to count unique values inside a list\n",
    "\n",
    "li = [1, 2, 2, 5, 8, 4, 4, 8]\n",
    "len(dict(li))"
   ]
  },
  {
   "cell_type": "code",
   "execution_count": 34,
   "id": "545369ac",
   "metadata": {},
   "outputs": [],
   "source": [
    "class Fruit:\n",
    "    def __init__(self):\n",
    "        print('Fruit fn')\n",
    "    def __len__(self):\n",
    "        print('10')\n",
    "class Orange(Fruit):\n",
    "    def __init__(self):\n",
    "        super().__init__()\n",
    "        print('Orange fn')"
   ]
  },
  {
   "cell_type": "code",
   "execution_count": 35,
   "id": "720e336b",
   "metadata": {},
   "outputs": [
    {
     "name": "stdout",
     "output_type": "stream",
     "text": [
      "Fruit fn\n",
      "Orange fn\n"
     ]
    }
   ],
   "source": [
    "obj1=Orange()"
   ]
  },
  {
   "cell_type": "code",
   "execution_count": 36,
   "id": "a62ae019",
   "metadata": {},
   "outputs": [
    {
     "name": "stdout",
     "output_type": "stream",
     "text": [
      "Fruit fn\n",
      "10\n"
     ]
    }
   ],
   "source": [
    "obj2=Fruit()\n",
    "obj2.__len__()"
   ]
  },
  {
   "cell_type": "code",
   "execution_count": 42,
   "id": "393e6663",
   "metadata": {},
   "outputs": [
    {
     "name": "stdout",
     "output_type": "stream",
     "text": [
      "100\n"
     ]
    }
   ],
   "source": [
    "class Fruit:\n",
    "    def __len__(self):\n",
    "        return 100\n",
    "print(len(Fruit()))"
   ]
  },
  {
   "cell_type": "code",
   "execution_count": 46,
   "id": "ddcf2f20",
   "metadata": {},
   "outputs": [
    {
     "name": "stdout",
     "output_type": "stream",
     "text": [
      "Fruit fn\n"
     ]
    }
   ],
   "source": [
    "class Fruit:\n",
    "    def __str__(self):\n",
    "        return 'Fruit fn'\n",
    "\n",
    "print(Fruit())"
   ]
  },
  {
   "cell_type": "code",
   "execution_count": 48,
   "id": "394ef4ee",
   "metadata": {},
   "outputs": [
    {
     "name": "stdout",
     "output_type": "stream",
     "text": [
      "Software Updated\n",
      "Hi there\n",
      "Software Updated\n"
     ]
    }
   ],
   "source": [
    "class Car:\n",
    "    def __init__(self):\n",
    "        self.__updateSoftware()\n",
    "    def printname(self):\n",
    "        print(\"Hi there\")\n",
    "    def __updateSoftware(self):\n",
    "        print(\"Software Updated\")\n",
    "        \n",
    "redCar=Car()\n",
    "redCar.printname()\n",
    "redCar._Car__updateSoftware()"
   ]
  },
  {
   "cell_type": "code",
   "execution_count": 51,
   "id": "652f89d2",
   "metadata": {},
   "outputs": [
    {
     "name": "stdout",
     "output_type": "stream",
     "text": [
      "Inside try block\n",
      "Got an exception\n"
     ]
    }
   ],
   "source": [
    "try:\n",
    "    print(\"Inside try block\")\n",
    "    print(1/0)\n",
    "    print(\"Last of try block\")\n",
    "except:\n",
    "    print(\"Got an exception\")"
   ]
  },
  {
   "cell_type": "code",
   "execution_count": 69,
   "id": "e4fdcb88",
   "metadata": {},
   "outputs": [
    {
     "name": "stdout",
     "output_type": "stream",
     "text": [
      "9\n",
      "0\n",
      "9 0\n",
      "ZeroDivisionError Occurred and Handled\n"
     ]
    }
   ],
   "source": [
    "\n",
    "try:\n",
    "    a=input()\n",
    "    b=input()\n",
    "    print(a,b)\n",
    "    print(int(a)/int(b))\n",
    "    print(int(b)/int(a))\n",
    "except ZeroDivisionError:\n",
    "    print('ZeroDivisionError Occurred and Handled')"
   ]
  },
  {
   "cell_type": "code",
   "execution_count": 73,
   "id": "790ec11a",
   "metadata": {},
   "outputs": [
    {
     "name": "stdout",
     "output_type": "stream",
     "text": [
      "0\n",
      "9\n",
      "0 9\n",
      "ZeroDivisionError Occurred and Handled\n"
     ]
    },
    {
     "ename": "ZeroDivisionError",
     "evalue": "",
     "output_type": "error",
     "traceback": [
      "\u001b[1;31m---------------------------------------------------------------------------\u001b[0m",
      "\u001b[1;31mZeroDivisionError\u001b[0m                         Traceback (most recent call last)",
      "Input \u001b[1;32mIn [73]\u001b[0m, in \u001b[0;36m<cell line: 1>\u001b[1;34m()\u001b[0m\n\u001b[0;32m      4\u001b[0m     \u001b[38;5;28mprint\u001b[39m(a,b)\n\u001b[0;32m      5\u001b[0m     \u001b[38;5;28;01mif\u001b[39;00m \u001b[38;5;28mint\u001b[39m(a)\u001b[38;5;241m==\u001b[39m\u001b[38;5;241m0\u001b[39m \u001b[38;5;129;01mor\u001b[39;00m \u001b[38;5;28mint\u001b[39m(b)\u001b[38;5;241m==\u001b[39m\u001b[38;5;241m0\u001b[39m:\n\u001b[1;32m----> 6\u001b[0m         \u001b[38;5;28;01mraise\u001b[39;00m \u001b[38;5;167;01mZeroDivisionError\u001b[39;00m;\n\u001b[0;32m      7\u001b[0m \u001b[38;5;28;01mexcept\u001b[39;00m \u001b[38;5;167;01mZeroDivisionError\u001b[39;00m:\n\u001b[0;32m      8\u001b[0m     \u001b[38;5;28mprint\u001b[39m(\u001b[38;5;124m'\u001b[39m\u001b[38;5;124mZeroDivisionError Occurred and Handled\u001b[39m\u001b[38;5;124m'\u001b[39m)\n",
      "\u001b[1;31mZeroDivisionError\u001b[0m: "
     ]
    }
   ],
   "source": [
    "\n",
    "try:\n",
    "    a=input()\n",
    "    b=input()\n",
    "    print(a,b)\n",
    "    if int(a)==0 or int(b)==0:\n",
    "        raise ZeroDivisionError;\n",
    "except ZeroDivisionError:\n",
    "    print('ZeroDivisionError Occurred and Handled')\n",
    "    raise"
   ]
  },
  {
   "cell_type": "code",
   "execution_count": 59,
   "id": "530e7ee5",
   "metadata": {},
   "outputs": [
    {
     "name": "stdout",
     "output_type": "stream",
     "text": [
      "Value of b =  2.0\n"
     ]
    }
   ],
   "source": [
    "def fun(a):\n",
    "    if a < 4:\n",
    "        b = a/(a-3)\n",
    "    print(\"Value of b = \", b)\n",
    "\n",
    "try:\n",
    "# \tfun(3)\n",
    "\tfun(5)\n",
    "except ZeroDivisionError:\n",
    "\tprint(\"ZeroDivisionError Occurred and Handled\")\n",
    "except NameError:\n",
    "\tprint(\"NameError Occurred and Handled\")"
   ]
  },
  {
   "cell_type": "code",
   "execution_count": 19,
   "id": "b9c0c57d",
   "metadata": {},
   "outputs": [
    {
     "name": "stdout",
     "output_type": "stream",
     "text": [
      "8.0\n"
     ]
    }
   ],
   "source": [
    "import math \n",
    "print(math.pow(2,3))"
   ]
  },
  {
   "cell_type": "code",
   "execution_count": null,
   "id": "cc523b52",
   "metadata": {},
   "outputs": [],
   "source": [
    "import math\n",
    "def Triangle():\n",
    "    h=input(\"Enter height of triangle\")\n",
    "    b=input(\"Enter breadth of triangle\")\n",
    "    area=lambda h,b:(h*b)/2\n",
    "    return area(int(h),int(b));\n",
    "\n",
    "def Square():\n",
    "    s=input(\"Enter side for square\")\n",
    "    area=lambda s:s*s\n",
    "    return area(int(s))\n",
    "\n",
    "def Rectangle():\n",
    "    l=input(\"Enter length\")\n",
    "    w=input(\"Enter width\")\n",
    "    area=lambda l,w:(l,w)/2\n",
    "    return area(int(l),int(w))\n",
    "\n",
    "def Pentagon():\n",
    "    s=input(\"Enter side\")\n",
    "    l=input(\"Enter length\")\n",
    "    area=lambda l,s:2.5*l*s\n",
    "    return area(int(l),int(s))\n",
    "\n",
    "def Hexagon():\n",
    "    s=input(\"Enter side\")\n",
    "    area=lambda s:(3*math.sqrt(3)*pow(s,2))/2\n",
    "    return area(int(s))\n",
    "\n",
    "def Heptagon():\n",
    "    l=input(\"Enter length\")\n",
    "    w=input(\"Enter width\")\n",
    "    area=lambda l,w:l * (w ** 2) / (4 * tan(pi / l))\n",
    "    return area(int(l),int(w))\n",
    "\n",
    "def Octagon():\n",
    "    s=input(\"Enter side\")\n",
    "    area=lambda s:2*(a+math.sqrt(2))*pow(s,2)\n",
    "    return area(int(s))\n",
    "\n",
    "a=True;\n",
    "area=0\n",
    "while(a):\n",
    "    choice=input(\"Please enter which area you want to find\")\n",
    "    if(choice=='Triangle'):\n",
    "        area=Triangle()\n",
    "    elif(choice=='Square'):\n",
    "        area=Square()\n",
    "    elif(choice=='Rectangle'):\n",
    "        area=Rectangle()\n",
    "    elif(choice=='Pentagon'):\n",
    "        area=Pentagon()\n",
    "    elif(choice=='Hexagon'):\n",
    "        area=Hexagon()\n",
    "    elif(choice=='Heptagon'):\n",
    "        area=Heptagon()\n",
    "    elif(choice=='Octagon'):\n",
    "        area=Octagon()\n",
    "    else:\n",
    "        print(\"Please enter valid option.\")\n",
    "        \n",
    "    print(\"Area of\",choice,\"is : \"+area)\n",
    "    \n",
    "    i=input(\"Do you want to find more area? Press Y for Yes and N for No.\")\n",
    "    if(i=='Y'):\n",
    "        a=True\n",
    "    else:\n",
    "        a=False"
   ]
  },
  {
   "cell_type": "code",
   "execution_count": 2,
   "id": "05cc555c",
   "metadata": {},
   "outputs": [
    {
     "name": "stdout",
     "output_type": "stream",
     "text": [
      "1 0 0 0 \n",
      "0 1 0 0 \n",
      "0 0 1 0 \n",
      "0 0 0 1 \n"
     ]
    }
   ],
   "source": [
    "#IDENTITY MATRIX using loop\n",
    "\n",
    "for i in range(1,5):\n",
    "    for j in range(1,5):\n",
    "        if(i==j):\n",
    "            print('1',end=' ')\n",
    "        else:\n",
    "            print('0',end=' ')\n",
    "    print()"
   ]
  },
  {
   "cell_type": "code",
   "execution_count": 23,
   "id": "6b387630",
   "metadata": {},
   "outputs": [
    {
     "name": "stdout",
     "output_type": "stream",
     "text": [
      "8.0\n",
      "OverflowError thrown and hadled\n"
     ]
    }
   ],
   "source": [
    "import math \n",
    "print(math.pow(2,3))\n",
    "try:\n",
    "    print(math.exp(500000))\n",
    "except OverflowError:\n",
    "    print('OverflowError thrown and hadled')"
   ]
  },
  {
   "cell_type": "code",
   "execution_count": 2,
   "id": "8c3022b8",
   "metadata": {},
   "outputs": [
    {
     "name": "stdout",
     "output_type": "stream",
     "text": [
      "Collecting termcolor\n",
      "Note: you may need to restart the kernel to use updated packages.\n"
     ]
    },
    {
     "name": "stderr",
     "output_type": "stream",
     "text": [
      "  WARNING: Retrying (Retry(total=4, connect=None, read=None, redirect=None, status=None)) after connection broken by 'SSLError(SSLCertVerificationError(1, '[SSL: CERTIFICATE_VERIFY_FAILED] certificate verify failed: unable to get local issuer certificate (_ssl.c:1129)'))': /packages/aa/f4/8ddd8a684b4c005345f45740a449d93d0af7ccecd91319d0f4426cf08b36/termcolor-2.2.0-py3-none-any.whl\n",
      "  WARNING: Retrying (Retry(total=3, connect=None, read=None, redirect=None, status=None)) after connection broken by 'SSLError(SSLCertVerificationError(1, '[SSL: CERTIFICATE_VERIFY_FAILED] certificate verify failed: unable to get local issuer certificate (_ssl.c:1129)'))': /packages/aa/f4/8ddd8a684b4c005345f45740a449d93d0af7ccecd91319d0f4426cf08b36/termcolor-2.2.0-py3-none-any.whl\n",
      "  WARNING: Retrying (Retry(total=2, connect=None, read=None, redirect=None, status=None)) after connection broken by 'SSLError(SSLCertVerificationError(1, '[SSL: CERTIFICATE_VERIFY_FAILED] certificate verify failed: unable to get local issuer certificate (_ssl.c:1129)'))': /packages/aa/f4/8ddd8a684b4c005345f45740a449d93d0af7ccecd91319d0f4426cf08b36/termcolor-2.2.0-py3-none-any.whl\n",
      "  WARNING: Retrying (Retry(total=1, connect=None, read=None, redirect=None, status=None)) after connection broken by 'SSLError(SSLCertVerificationError(1, '[SSL: CERTIFICATE_VERIFY_FAILED] certificate verify failed: unable to get local issuer certificate (_ssl.c:1129)'))': /packages/aa/f4/8ddd8a684b4c005345f45740a449d93d0af7ccecd91319d0f4426cf08b36/termcolor-2.2.0-py3-none-any.whl\n",
      "  WARNING: Retrying (Retry(total=0, connect=None, read=None, redirect=None, status=None)) after connection broken by 'SSLError(SSLCertVerificationError(1, '[SSL: CERTIFICATE_VERIFY_FAILED] certificate verify failed: unable to get local issuer certificate (_ssl.c:1129)'))': /packages/aa/f4/8ddd8a684b4c005345f45740a449d93d0af7ccecd91319d0f4426cf08b36/termcolor-2.2.0-py3-none-any.whl\n",
      "ERROR: Could not install packages due to an OSError: HTTPSConnectionPool(host='files.pythonhosted.org', port=443): Max retries exceeded with url: /packages/aa/f4/8ddd8a684b4c005345f45740a449d93d0af7ccecd91319d0f4426cf08b36/termcolor-2.2.0-py3-none-any.whl (Caused by SSLError(SSLCertVerificationError(1, '[SSL: CERTIFICATE_VERIFY_FAILED] certificate verify failed: unable to get local issuer certificate (_ssl.c:1129)')))\n",
      "\n"
     ]
    }
   ],
   "source": [
    "pip3 install termcolor"
   ]
  },
  {
   "cell_type": "code",
   "execution_count": 25,
   "id": "5b73068f",
   "metadata": {},
   "outputs": [
    {
     "name": "stdout",
     "output_type": "stream",
     "text": [
      "aa\n"
     ]
    }
   ],
   "source": [
    "print('aa')"
   ]
  },
  {
   "cell_type": "code",
   "execution_count": 26,
   "id": "4e6b7ce4",
   "metadata": {},
   "outputs": [
    {
     "ename": "ModuleNotFoundError",
     "evalue": "No module named 'termcolor'",
     "output_type": "error",
     "traceback": [
      "\u001b[1;31m---------------------------------------------------------------------------\u001b[0m",
      "\u001b[1;31mModuleNotFoundError\u001b[0m                       Traceback (most recent call last)",
      "Input \u001b[1;32mIn [26]\u001b[0m, in \u001b[0;36m<cell line: 1>\u001b[1;34m()\u001b[0m\n\u001b[1;32m----> 1\u001b[0m \u001b[38;5;28;01mfrom\u001b[39;00m \u001b[38;5;21;01mtermcolor\u001b[39;00m \u001b[38;5;28;01mimport\u001b[39;00m colored, cprint\n\u001b[0;32m      3\u001b[0m text \u001b[38;5;241m=\u001b[39m colored(\u001b[38;5;124m'\u001b[39m\u001b[38;5;124mHello, World!\u001b[39m\u001b[38;5;124m'\u001b[39m, \u001b[38;5;124m'\u001b[39m\u001b[38;5;124mred\u001b[39m\u001b[38;5;124m'\u001b[39m, attrs\u001b[38;5;241m=\u001b[39m[\u001b[38;5;124m'\u001b[39m\u001b[38;5;124mreverse\u001b[39m\u001b[38;5;124m'\u001b[39m, \u001b[38;5;124m'\u001b[39m\u001b[38;5;124mblink\u001b[39m\u001b[38;5;124m'\u001b[39m])\n\u001b[0;32m      4\u001b[0m \u001b[38;5;28mprint\u001b[39m(text)\n",
      "\u001b[1;31mModuleNotFoundError\u001b[0m: No module named 'termcolor'"
     ]
    }
   ],
   "source": [
    "from termcolor import colored, cprint\n",
    "\n",
    "text = colored('Hello, World!', 'red', attrs=['reverse', 'blink'])\n",
    "print(text)\n",
    "cprint('Hello, World!', 'green', 'on_red')"
   ]
  },
  {
   "cell_type": "code",
   "execution_count": 3,
   "id": "7e2b0642",
   "metadata": {},
   "outputs": [
    {
     "ename": "SyntaxError",
     "evalue": "invalid syntax (3989830686.py, line 1)",
     "output_type": "error",
     "traceback": [
      "\u001b[1;36m  Input \u001b[1;32mIn [3]\u001b[1;36m\u001b[0m\n\u001b[1;33m    python -m pip install termcolor\u001b[0m\n\u001b[1;37m              ^\u001b[0m\n\u001b[1;31mSyntaxError\u001b[0m\u001b[1;31m:\u001b[0m invalid syntax\n"
     ]
    }
   ],
   "source": [
    "python -m pip install termcolor"
   ]
  },
  {
   "cell_type": "code",
   "execution_count": 4,
   "id": "fff020d3",
   "metadata": {},
   "outputs": [
    {
     "name": "stdout",
     "output_type": "stream",
     "text": [
      "Collecting package metadata (current_repodata.json): ...working... failed\n",
      "\n",
      "Note: you may need to restart the kernel to use updated packages.\n"
     ]
    },
    {
     "name": "stderr",
     "output_type": "stream",
     "text": [
      "\n",
      "CondaHTTPError: HTTP 000 CONNECTION FAILED for url <https://conda.anaconda.org/conda-forge/win-64/current_repodata.json>\n",
      "Elapsed: -\n",
      "\n",
      "An HTTP error occurred when trying to retrieve this URL.\n",
      "HTTP errors are often intermittent, and a simple retry will get you on your way.\n",
      "'https://conda.anaconda.org/conda-forge/win-64'\n",
      "\n",
      "\n"
     ]
    }
   ],
   "source": [
    "conda install -c conda-forge termcolor"
   ]
  },
  {
   "cell_type": "code",
   "execution_count": 17,
   "id": "326f0a96",
   "metadata": {},
   "outputs": [
    {
     "name": "stdout",
     "output_type": "stream",
     "text": [
      "Hi\n"
     ]
    }
   ],
   "source": [
    "class validvoteage(Exception):\n",
    "    'Voting is allowed for candidates greater than 18'\n",
    "    print('Hi')\n",
    "    pass\n",
    "\n",
    "num=18\n",
    "class agechecker:\n",
    "    def age_check():\n",
    "        try:\n",
    "            age=int(input(\"Enter age of candidate\"))\n",
    "            if(age>=num):\n",
    "                print(\"Voting Allowed\")\n",
    "            elif(age<num):\n",
    "                raise validvoteage\n",
    "        except validvoteage:\n",
    "            print(\"Invalid age\")"
   ]
  },
  {
   "cell_type": "code",
   "execution_count": 18,
   "id": "72e74dfa",
   "metadata": {},
   "outputs": [
    {
     "name": "stdout",
     "output_type": "stream",
     "text": [
      "Enter age of candidate3\n",
      "Invalid age\n"
     ]
    }
   ],
   "source": [
    "obj=agechecker\n",
    "obj.age_check()"
   ]
  },
  {
   "cell_type": "code",
   "execution_count": 1,
   "id": "d8af8041",
   "metadata": {},
   "outputs": [
    {
     "data": {
      "text/plain": [
       "120"
      ]
     },
     "execution_count": 1,
     "metadata": {},
     "output_type": "execute_result"
    }
   ],
   "source": [
    "def factor(num):\n",
    "    if(num==1):\n",
    "        return num\n",
    "    return num*factor(num-1)\n",
    "\n",
    "factor(5)"
   ]
  },
  {
   "cell_type": "code",
   "execution_count": 14,
   "id": "62a9ac54",
   "metadata": {},
   "outputs": [],
   "source": [
    "def check_string():\n",
    "    str=input('Enter string')\n",
    "    if('s' in str):\n",
    "        print('String has \\'s\\'')\n",
    "    else:\n",
    "        print('No \\'s\\'')\n",
    "    "
   ]
  },
  {
   "cell_type": "code",
   "execution_count": 15,
   "id": "55444150",
   "metadata": {},
   "outputs": [
    {
     "name": "stdout",
     "output_type": "stream",
     "text": [
      "Enter stringabvgtcsfvbjh gcs\n",
      "String has 's'\n"
     ]
    }
   ],
   "source": [
    "check_string()"
   ]
  },
  {
   "cell_type": "code",
   "execution_count": 29,
   "id": "7aca3d4d",
   "metadata": {},
   "outputs": [
    {
     "name": "stdout",
     "output_type": "stream",
     "text": [
      "Enter stringamama\n",
      "palindrome\n"
     ]
    }
   ],
   "source": [
    "# palindrome\n",
    "\n",
    "str=input('Enter string')\n",
    "l=int(len(str)/2)\n",
    "if(len(str)%2==0):\n",
    "    s1=str[0:l]\n",
    "    s2=str[l:]\n",
    "else:\n",
    "    s1=str[0:l]\n",
    "    s2=str[:l:-1]\n",
    "if(s1==s2):\n",
    "    print('palindrome')\n",
    "else:\n",
    "    print('not')"
   ]
  },
  {
   "cell_type": "code",
   "execution_count": 32,
   "id": "67cc61b1",
   "metadata": {},
   "outputs": [
    {
     "name": "stdout",
     "output_type": "stream",
     "text": [
      "98\n"
     ]
    }
   ],
   "source": [
    "a=lambda x:x*2\n",
    "print(a(49))"
   ]
  },
  {
   "cell_type": "code",
   "execution_count": 33,
   "id": "31240de9",
   "metadata": {},
   "outputs": [],
   "source": [
    "class student:\n",
    "    def fun1(self):\n",
    "        self.a=input('Enter message')\n",
    "        return self.a\n",
    "    def message(self):\n",
    "        print(self.a)"
   ]
  },
  {
   "cell_type": "code",
   "execution_count": 36,
   "id": "8175644f",
   "metadata": {},
   "outputs": [],
   "source": [
    "obj=student()"
   ]
  },
  {
   "cell_type": "code",
   "execution_count": 37,
   "id": "627db942",
   "metadata": {},
   "outputs": [
    {
     "name": "stdout",
     "output_type": "stream",
     "text": [
      "Enter messageshivani\n"
     ]
    },
    {
     "data": {
      "text/plain": [
       "'shivani'"
      ]
     },
     "execution_count": 37,
     "metadata": {},
     "output_type": "execute_result"
    }
   ],
   "source": [
    "obj.fun1()"
   ]
  },
  {
   "cell_type": "code",
   "execution_count": 38,
   "id": "7d355fff",
   "metadata": {},
   "outputs": [
    {
     "name": "stdout",
     "output_type": "stream",
     "text": [
      "shivani\n"
     ]
    }
   ],
   "source": [
    "obj.message()"
   ]
  },
  {
   "cell_type": "code",
   "execution_count": 39,
   "id": "b38864df",
   "metadata": {},
   "outputs": [],
   "source": [
    "class Super:\n",
    "    def fun1(self):\n",
    "        print('this is fun1 in super class')\n",
    "class modified_Super(Super):\n",
    "    def fun1(self):\n",
    "        print('this is fun1 in modified super')\n",
    "    def fun2(self):\n",
    "        print('this is fun2 in modified super')"
   ]
  },
  {
   "cell_type": "code",
   "execution_count": 40,
   "id": "b18e3d8d",
   "metadata": {},
   "outputs": [],
   "source": [
    "obj=modified_Super()"
   ]
  },
  {
   "cell_type": "code",
   "execution_count": 41,
   "id": "a2fe94d5",
   "metadata": {},
   "outputs": [
    {
     "name": "stdout",
     "output_type": "stream",
     "text": [
      "this is fun1 in modified super\n"
     ]
    }
   ],
   "source": [
    "obj.fun1()"
   ]
  },
  {
   "cell_type": "code",
   "execution_count": 8,
   "id": "a62fc1d2",
   "metadata": {},
   "outputs": [],
   "source": [
    "import functools as ft\n",
    "def sum(*args):\n",
    "    return ft.reduce(lambda x,y:x+y,args)"
   ]
  },
  {
   "cell_type": "code",
   "execution_count": 9,
   "id": "a6c42650",
   "metadata": {},
   "outputs": [
    {
     "data": {
      "text/plain": [
       "15"
      ]
     },
     "execution_count": 9,
     "metadata": {},
     "output_type": "execute_result"
    }
   ],
   "source": [
    "sum(1,2,3,4,5)"
   ]
  },
  {
   "cell_type": "markdown",
   "id": "5698e996",
   "metadata": {},
   "source": [
    "# Numpy"
   ]
  },
  {
   "cell_type": "code",
   "execution_count": 11,
   "id": "9bae5d43",
   "metadata": {},
   "outputs": [
    {
     "data": {
      "text/plain": [
       "'\\n\\nproblems in dataset:\\n\\n1. missing values\\n2. unnecessary data\\n3. wrong format - like date format is different, currency is different etc\\n4. Wrong units - km to m or temp in celcius to  farenhiet\\n\\n\\n 1.Import Libraries\\n 2.Load the dataset using pandas.\\n 3. Explore the pandas dataframe using the head() and info() and shape functions.\\n 4.Visualize the Data - eg. we can use a scatter plot using Seaborn to visualize the data, \\n 5. Clean the data\\n \\n'"
      ]
     },
     "execution_count": 11,
     "metadata": {},
     "output_type": "execute_result"
    }
   ],
   "source": [
    "# steps to read and visualise the data\n",
    "\n",
    "'''\n",
    "\n",
    "problems in dataset:\n",
    "\n",
    "1. missing values\n",
    "2. unnecessary data\n",
    "3. wrong format - like date format is different, currency is different etc\n",
    "4. Wrong units - km to m or temp in celcius to  farenhiet\n",
    "\n",
    "\n",
    " 1.Import Libraries\n",
    " 2.Load the dataset using pandas.\n",
    " 3. Explore the pandas dataframe using the head() and info() and shape functions.\n",
    " 4.Visualize the Data - eg. we can use a scatter plot using Seaborn to visualize the data, \n",
    " 5. Clean the data\n",
    " \n",
    "'''"
   ]
  },
  {
   "cell_type": "code",
   "execution_count": 12,
   "id": "bd5c7ad0",
   "metadata": {},
   "outputs": [
    {
     "name": "stdout",
     "output_type": "stream",
     "text": [
      "[0 1 2 3 4 5 6 7 8 9]\n"
     ]
    }
   ],
   "source": [
    "import numpy as np\n",
    "li=np.arange(10)\n",
    "print(li)"
   ]
  },
  {
   "cell_type": "code",
   "execution_count": 15,
   "id": "18805d34",
   "metadata": {},
   "outputs": [
    {
     "data": {
      "text/plain": [
       "array([1., 1., 1.])"
      ]
     },
     "execution_count": 15,
     "metadata": {},
     "output_type": "execute_result"
    }
   ],
   "source": [
    "np.ones(3)"
   ]
  },
  {
   "cell_type": "code",
   "execution_count": 21,
   "id": "1acaf8cc",
   "metadata": {},
   "outputs": [
    {
     "data": {
      "text/plain": [
       "array([[1, 1, 1],\n",
       "       [1, 1, 1],\n",
       "       [1, 1, 1]])"
      ]
     },
     "execution_count": 21,
     "metadata": {},
     "output_type": "execute_result"
    }
   ],
   "source": [
    "np.ones([3,3],dtype = int,order = 'F')"
   ]
  },
  {
   "cell_type": "code",
   "execution_count": 20,
   "id": "da22633f",
   "metadata": {},
   "outputs": [
    {
     "data": {
      "text/plain": [
       "array([[1, 1, 1],\n",
       "       [1, 1, 1],\n",
       "       [1, 1, 1]])"
      ]
     },
     "execution_count": 20,
     "metadata": {},
     "output_type": "execute_result"
    }
   ],
   "source": [
    "np.ones([3,3],dtype = int)"
   ]
  },
  {
   "cell_type": "code",
   "execution_count": 30,
   "id": "fe35dd9e",
   "metadata": {},
   "outputs": [
    {
     "data": {
      "text/plain": [
       "array([5, 0])"
      ]
     },
     "execution_count": 30,
     "metadata": {},
     "output_type": "execute_result"
    }
   ],
   "source": [
    "a=np.random.randint((10,10))\n",
    "a"
   ]
  },
  {
   "cell_type": "code",
   "execution_count": 43,
   "id": "f2c7190a",
   "metadata": {},
   "outputs": [
    {
     "data": {
      "text/plain": [
       "array([[11,  9, 48, 46],\n",
       "       [27, 41, 35, 25],\n",
       "       [22, 49,  9, 23],\n",
       "       [23, 11, 43, 19]])"
      ]
     },
     "execution_count": 43,
     "metadata": {},
     "output_type": "execute_result"
    }
   ],
   "source": [
    "np.random.randint(50,size=(4, 4))"
   ]
  },
  {
   "cell_type": "code",
   "execution_count": 48,
   "id": "38582e5c",
   "metadata": {},
   "outputs": [
    {
     "data": {
      "text/plain": [
       "array([[0.64158952, 0.49337357, 0.33042591, 0.17935087, 0.70455875,\n",
       "        0.26281939],\n",
       "       [0.36196877, 0.80811183, 0.71053112, 0.93001534, 0.47075821,\n",
       "        0.42088288]])"
      ]
     },
     "execution_count": 48,
     "metadata": {},
     "output_type": "execute_result"
    }
   ],
   "source": [
    "np.random.random((2,6))"
   ]
  },
  {
   "cell_type": "code",
   "execution_count": 56,
   "id": "655b49d5",
   "metadata": {},
   "outputs": [
    {
     "data": {
      "text/plain": [
       "array([5.        , 5.05882353, 5.11764706, 5.17647059, 5.23529412,\n",
       "       5.29411765, 5.35294118, 5.41176471, 5.47058824, 5.52941176,\n",
       "       5.58823529, 5.64705882, 5.70588235, 5.76470588, 5.82352941,\n",
       "       5.88235294, 5.94117647, 6.        ])"
      ]
     },
     "execution_count": 56,
     "metadata": {},
     "output_type": "execute_result"
    }
   ],
   "source": [
    "np.linspace(5,6,18)"
   ]
  },
  {
   "cell_type": "code",
   "execution_count": 66,
   "id": "29db8fd9",
   "metadata": {},
   "outputs": [
    {
     "name": "stdout",
     "output_type": "stream",
     "text": [
      "[[5 3 3]\n",
      " [2 8 0]\n",
      " [8 1 9]]\n",
      "[[3 3]\n",
      " [8 0]]\n"
     ]
    }
   ],
   "source": [
    "li = np.random.randint(10,size=(3,3))\n",
    "print(li)\n",
    "print(li[:2,1:])"
   ]
  },
  {
   "cell_type": "code",
   "execution_count": 71,
   "id": "a70f0c00",
   "metadata": {},
   "outputs": [
    {
     "data": {
      "text/plain": [
       "array([[2, 8]])"
      ]
     },
     "execution_count": 71,
     "metadata": {},
     "output_type": "execute_result"
    }
   ],
   "source": [
    "li[1:2,:2]"
   ]
  },
  {
   "cell_type": "code",
   "execution_count": 74,
   "id": "2fc05a20",
   "metadata": {},
   "outputs": [
    {
     "data": {
      "text/plain": [
       "array(['10', '20', '30', 'T', 'True', '8.1'], dtype='<U32')"
      ]
     },
     "execution_count": 74,
     "metadata": {},
     "output_type": "execute_result"
    }
   ],
   "source": [
    "my_list=np.array([10,20,30,'T',True,8.10])\n",
    "my_list"
   ]
  },
  {
   "cell_type": "code",
   "execution_count": 85,
   "id": "908c40d8",
   "metadata": {},
   "outputs": [
    {
     "data": {
      "text/plain": [
       "array(['40', '30', '40', '30', '8.1', 'True', 'T', '30', '20', '10'],\n",
       "      dtype='<U32')"
      ]
     },
     "execution_count": 85,
     "metadata": {},
     "output_type": "execute_result"
    }
   ],
   "source": [
    "# li=np.array([30,40])\n",
    "# np.concatenate((my_list,li),axis=0)\n",
    "my_list=np.flip(my_list)\n",
    "my_list"
   ]
  },
  {
   "cell_type": "code",
   "execution_count": null,
   "id": "ea064f0e",
   "metadata": {},
   "outputs": [],
   "source": []
  },
  {
   "cell_type": "code",
   "execution_count": 97,
   "id": "2490cdbb",
   "metadata": {},
   "outputs": [
    {
     "name": "stdout",
     "output_type": "stream",
     "text": [
      "1\n",
      "[0 1 2 3 4 5 6 7 8 9]\n",
      "[[0 1 2 3 4]\n",
      " [5 6 7 8 9]]\n"
     ]
    }
   ],
   "source": [
    "# 1D\n",
    "arr1= np.arange(10)\n",
    "print(arr1.ndim)\n",
    "print(arr1)\n",
    "#2D\n",
    "arr2=arr1.reshape(2,5)\n",
    "print(arr2)\n",
    "arr3"
   ]
  },
  {
   "cell_type": "code",
   "execution_count": 1,
   "id": "eedab1b5",
   "metadata": {},
   "outputs": [],
   "source": [
    "d1={1:'data',2:'info',3:'company'}"
   ]
  },
  {
   "cell_type": "code",
   "execution_count": 2,
   "id": "91df5a64",
   "metadata": {},
   "outputs": [
    {
     "data": {
      "text/plain": [
       "'company'"
      ]
     },
     "execution_count": 2,
     "metadata": {},
     "output_type": "execute_result"
    }
   ],
   "source": [
    "d1.pop(3)"
   ]
  },
  {
   "cell_type": "code",
   "execution_count": 3,
   "id": "4ffa33a9",
   "metadata": {},
   "outputs": [
    {
     "data": {
      "text/plain": [
       "{1: 'data', 2: 'info'}"
      ]
     },
     "execution_count": 3,
     "metadata": {},
     "output_type": "execute_result"
    }
   ],
   "source": [
    "d1"
   ]
  },
  {
   "cell_type": "code",
   "execution_count": 10,
   "id": "c1979d82",
   "metadata": {},
   "outputs": [],
   "source": [
    "d1.update({5:'infp'})"
   ]
  },
  {
   "cell_type": "code",
   "execution_count": 11,
   "id": "28c554ca",
   "metadata": {},
   "outputs": [
    {
     "data": {
      "text/plain": [
       "{1: 'data', 2: 'infp', 5: 'infp'}"
      ]
     },
     "execution_count": 11,
     "metadata": {},
     "output_type": "execute_result"
    }
   ],
   "source": [
    "d1"
   ]
  },
  {
   "cell_type": "code",
   "execution_count": null,
   "id": "5cf633a8",
   "metadata": {},
   "outputs": [],
   "source": []
  },
  {
   "cell_type": "code",
   "execution_count": null,
   "id": "295c49fe",
   "metadata": {},
   "outputs": [],
   "source": []
  },
  {
   "cell_type": "code",
   "execution_count": null,
   "id": "a69db692",
   "metadata": {},
   "outputs": [],
   "source": []
  },
  {
   "cell_type": "code",
   "execution_count": 107,
   "id": "133e3f6c",
   "metadata": {},
   "outputs": [
    {
     "data": {
      "text/plain": [
       "array([1, 1, 1, 1, 1])"
      ]
     },
     "execution_count": 107,
     "metadata": {},
     "output_type": "execute_result"
    }
   ],
   "source": [
    "np.ones(5,dtype=int)"
   ]
  },
  {
   "cell_type": "code",
   "execution_count": 110,
   "id": "fa323471",
   "metadata": {},
   "outputs": [
    {
     "data": {
      "text/plain": [
       "array([[5, 5],\n",
       "       [5, 5]])"
      ]
     },
     "execution_count": 110,
     "metadata": {},
     "output_type": "execute_result"
    }
   ],
   "source": [
    "np.ones((2,2),dtype=int)*5"
   ]
  },
  {
   "cell_type": "code",
   "execution_count": 116,
   "id": "eb26e304",
   "metadata": {},
   "outputs": [
    {
     "data": {
      "text/plain": [
       "array([[5, 5, 5, 5, 5],\n",
       "       [5, 5, 5, 5, 5],\n",
       "       [5, 5, 5, 5, 5],\n",
       "       [5, 5, 5, 5, 5],\n",
       "       [5, 5, 5, 5, 5]])"
      ]
     },
     "execution_count": 116,
     "metadata": {},
     "output_type": "execute_result"
    }
   ],
   "source": [
    "np.full((5,5),5)"
   ]
  },
  {
   "cell_type": "code",
   "execution_count": 114,
   "id": "58eae6ed",
   "metadata": {},
   "outputs": [
    {
     "data": {
      "text/plain": [
       "array([[10, 10],\n",
       "       [10, 10]])"
      ]
     },
     "execution_count": 114,
     "metadata": {},
     "output_type": "execute_result"
    }
   ],
   "source": [
    "np.full((2, 2), 10)"
   ]
  },
  {
   "cell_type": "code",
   "execution_count": 120,
   "id": "df26dbec",
   "metadata": {},
   "outputs": [
    {
     "data": {
      "text/plain": [
       "array([[3, 1, 4],\n",
       "       [3, 8, 8]])"
      ]
     },
     "execution_count": 120,
     "metadata": {},
     "output_type": "execute_result"
    }
   ],
   "source": [
    "np.random.randint(10,size=(2,3))"
   ]
  },
  {
   "cell_type": "code",
   "execution_count": 121,
   "id": "099b518b",
   "metadata": {},
   "outputs": [
    {
     "data": {
      "text/plain": [
       "array([4, 3, 2, 1])"
      ]
     },
     "execution_count": 121,
     "metadata": {},
     "output_type": "execute_result"
    }
   ],
   "source": [
    "arr=np.array([1,2,3,4])\n",
    "np.flip(arr)"
   ]
  },
  {
   "cell_type": "code",
   "execution_count": 122,
   "id": "57e26c4f",
   "metadata": {},
   "outputs": [
    {
     "data": {
      "text/plain": [
       "array([4, 3, 2, 1])"
      ]
     },
     "execution_count": 122,
     "metadata": {},
     "output_type": "execute_result"
    }
   ],
   "source": [
    "arr[::-1]"
   ]
  },
  {
   "cell_type": "code",
   "execution_count": 124,
   "id": "d5273957",
   "metadata": {},
   "outputs": [
    {
     "data": {
      "text/plain": [
       "array([[5, 4, 3, 2],\n",
       "       [4, 3, 2, 1]])"
      ]
     },
     "execution_count": 124,
     "metadata": {},
     "output_type": "execute_result"
    }
   ],
   "source": [
    "arr=np.array([[1,2,3,4],[2,3,4,5]])\n",
    "np.flip(arr)"
   ]
  },
  {
   "cell_type": "code",
   "execution_count": 125,
   "id": "e247afff",
   "metadata": {},
   "outputs": [],
   "source": [
    "arr=np.array([[1,2,3,4,2,13,4,15]])"
   ]
  },
  {
   "cell_type": "code",
   "execution_count": 129,
   "id": "fd52ceb4",
   "metadata": {},
   "outputs": [
    {
     "data": {
      "text/plain": [
       "(array([ 1,  2,  3,  4, 13, 15]), array([0, 1, 2, 3, 5, 7], dtype=int64))"
      ]
     },
     "execution_count": 129,
     "metadata": {},
     "output_type": "execute_result"
    }
   ],
   "source": [
    "np.unique(arr,return_index=True)"
   ]
  },
  {
   "cell_type": "code",
   "execution_count": 130,
   "id": "7efd077a",
   "metadata": {},
   "outputs": [],
   "source": [
    "m = np.zeros_like(a, dtype=bool)\n",
    "m[np.unique(a, return_index=True)[1]] = True"
   ]
  },
  {
   "cell_type": "code",
   "execution_count": 132,
   "id": "26d7920d",
   "metadata": {},
   "outputs": [
    {
     "data": {
      "text/plain": [
       "2"
      ]
     },
     "execution_count": 132,
     "metadata": {},
     "output_type": "execute_result"
    }
   ],
   "source": [
    "np.count_nonzero(arr==2)"
   ]
  },
  {
   "cell_type": "code",
   "execution_count": 133,
   "id": "1004b7f2",
   "metadata": {},
   "outputs": [
    {
     "ename": "TypeError",
     "evalue": "_repeat_dispatcher() missing 1 required positional argument: 'repeats'",
     "output_type": "error",
     "traceback": [
      "\u001b[1;31m---------------------------------------------------------------------------\u001b[0m",
      "\u001b[1;31mTypeError\u001b[0m                                 Traceback (most recent call last)",
      "Input \u001b[1;32mIn [133]\u001b[0m, in \u001b[0;36m<cell line: 1>\u001b[1;34m()\u001b[0m\n\u001b[1;32m----> 1\u001b[0m \u001b[43mnp\u001b[49m\u001b[38;5;241;43m.\u001b[39;49m\u001b[43mrepeat\u001b[49m\u001b[43m(\u001b[49m\u001b[43marr\u001b[49m\u001b[43m)\u001b[49m\n",
      "File \u001b[1;32m<__array_function__ internals>:4\u001b[0m, in \u001b[0;36mrepeat\u001b[1;34m(*args, **kwargs)\u001b[0m\n",
      "\u001b[1;31mTypeError\u001b[0m: _repeat_dispatcher() missing 1 required positional argument: 'repeats'"
     ]
    }
   ],
   "source": [
    "np.repeat(arr)"
   ]
  },
  {
   "cell_type": "markdown",
   "id": "1166f572",
   "metadata": {},
   "source": [
    "# Numpy + Scipy Handson"
   ]
  },
  {
   "cell_type": "markdown",
   "id": "e4e4b7b4",
   "metadata": {},
   "source": [
    "### Question 1 : Create a 3*3 2-D array. Delete the 2nd column by axis 1 and add a new column in place of deleted column"
   ]
  },
  {
   "cell_type": "code",
   "execution_count": 2,
   "id": "17f97a7e",
   "metadata": {},
   "outputs": [],
   "source": [
    "import numpy as np\n",
    "import scipy as sc\n",
    "import scipy.special as ss\n",
    "import pandas as pd"
   ]
  },
  {
   "cell_type": "code",
   "execution_count": 157,
   "id": "5fbb01ec",
   "metadata": {},
   "outputs": [
    {
     "data": {
      "text/plain": [
       "array([[1, 2, 3],\n",
       "       [4, 5, 6],\n",
       "       [7, 8, 9]])"
      ]
     },
     "execution_count": 157,
     "metadata": {},
     "output_type": "execute_result"
    }
   ],
   "source": [
    "arr=np.array([[1,2,3],[4,5,6],[7,8,9]])\n",
    "arr"
   ]
  },
  {
   "cell_type": "code",
   "execution_count": 158,
   "id": "920e398e",
   "metadata": {},
   "outputs": [
    {
     "data": {
      "text/plain": [
       "array([[1, 3],\n",
       "       [4, 6],\n",
       "       [7, 9]])"
      ]
     },
     "execution_count": 158,
     "metadata": {},
     "output_type": "execute_result"
    }
   ],
   "source": [
    "ar1= np.delete(arr,1,axis=1)\n",
    "ar1"
   ]
  },
  {
   "cell_type": "code",
   "execution_count": 149,
   "id": "8165994a",
   "metadata": {},
   "outputs": [
    {
     "data": {
      "text/plain": [
       "array([[2],\n",
       "       [5],\n",
       "       [8]])"
      ]
     },
     "execution_count": 149,
     "metadata": {},
     "output_type": "execute_result"
    }
   ],
   "source": [
    "arr[:,1:2]"
   ]
  },
  {
   "cell_type": "code",
   "execution_count": 164,
   "id": "fa67edba",
   "metadata": {},
   "outputs": [
    {
     "data": {
      "text/plain": [
       "[7, 8, 9, 10]"
      ]
     },
     "execution_count": 164,
     "metadata": {},
     "output_type": "execute_result"
    }
   ],
   "source": [
    "a=np.array([1,5,2])\n",
    "ar1"
   ]
  },
  {
   "cell_type": "code",
   "execution_count": 165,
   "id": "f120e24b",
   "metadata": {},
   "outputs": [
    {
     "data": {
      "text/plain": [
       "array([[1, 1, 3],\n",
       "       [4, 5, 6],\n",
       "       [7, 2, 9]])"
      ]
     },
     "execution_count": 165,
     "metadata": {},
     "output_type": "execute_result"
    }
   ],
   "source": [
    "np.insert(ar1,1,a,axis=1)"
   ]
  },
  {
   "cell_type": "markdown",
   "id": "b55dad1f",
   "metadata": {},
   "source": [
    "### Question 2: Find rank, trace, determinant, inverse of given matrix. And also raise a matrix to power 3 using numpy.\n",
    "    #Input: A = np.array([[6, 1, 1], [4, -2, 5], [2, 8, 7]])"
   ]
  },
  {
   "cell_type": "code",
   "execution_count": 21,
   "id": "139d1a12",
   "metadata": {},
   "outputs": [
    {
     "data": {
      "text/plain": [
       "2"
      ]
     },
     "execution_count": 21,
     "metadata": {},
     "output_type": "execute_result"
    }
   ],
   "source": [
    "A = np.array([[6, 1, 1], [4, -2, 5], [2, 8, 7]])\n",
    "A.ndim"
   ]
  },
  {
   "cell_type": "code",
   "execution_count": 22,
   "id": "d504aac7",
   "metadata": {},
   "outputs": [
    {
     "data": {
      "text/plain": [
       "3"
      ]
     },
     "execution_count": 22,
     "metadata": {},
     "output_type": "execute_result"
    }
   ],
   "source": [
    "np.linalg.matrix_rank(A)"
   ]
  },
  {
   "cell_type": "code",
   "execution_count": 23,
   "id": "65a8f89b",
   "metadata": {},
   "outputs": [
    {
     "data": {
      "text/plain": [
       "11"
      ]
     },
     "execution_count": 23,
     "metadata": {},
     "output_type": "execute_result"
    }
   ],
   "source": [
    "A.trace()"
   ]
  },
  {
   "cell_type": "code",
   "execution_count": 25,
   "id": "698a4471",
   "metadata": {},
   "outputs": [
    {
     "data": {
      "text/plain": [
       "-306.0"
      ]
     },
     "execution_count": 25,
     "metadata": {},
     "output_type": "execute_result"
    }
   ],
   "source": [
    "np.linalg.det(A)"
   ]
  },
  {
   "cell_type": "code",
   "execution_count": 26,
   "id": "9e38405f",
   "metadata": {},
   "outputs": [
    {
     "data": {
      "text/plain": [
       "array([[ 0.17647059, -0.00326797, -0.02287582],\n",
       "       [ 0.05882353, -0.13071895,  0.08496732],\n",
       "       [-0.11764706,  0.1503268 ,  0.05228758]])"
      ]
     },
     "execution_count": 26,
     "metadata": {},
     "output_type": "execute_result"
    }
   ],
   "source": [
    "np.linalg.inv(A)"
   ]
  },
  {
   "cell_type": "markdown",
   "id": "fd5fee74",
   "metadata": {},
   "source": [
    "### Question 3: Find determinant of given matrix using scipy\n",
    "#A = np.array([[5,9],[8,4]])"
   ]
  },
  {
   "cell_type": "code",
   "execution_count": 28,
   "id": "cdeb4e83",
   "metadata": {},
   "outputs": [
    {
     "data": {
      "text/plain": [
       "-306.0"
      ]
     },
     "execution_count": 28,
     "metadata": {},
     "output_type": "execute_result"
    }
   ],
   "source": [
    "sc.linalg.det(A)"
   ]
  },
  {
   "cell_type": "markdown",
   "id": "ffd5ee50",
   "metadata": {},
   "source": [
    "### Question 4 : Find eigen values and eigen vectors of given matrix using numpy\n",
    "#A = np.array([[3,2],[4,6]])"
   ]
  },
  {
   "cell_type": "code",
   "execution_count": 30,
   "id": "633ed070",
   "metadata": {},
   "outputs": [
    {
     "name": "stdout",
     "output_type": "stream",
     "text": [
      "[11.24862343  5.09285054 -5.34147398] [[ 0.24511338  0.75669314  0.02645665]\n",
      " [ 0.40622202 -0.03352363 -0.84078293]\n",
      " [ 0.88028581 -0.65291014  0.54072554]]\n"
     ]
    }
   ],
   "source": [
    "eigen_val,eigen_vector=np.linalg.eig(A)\n",
    "print(eigen_val,eigen_vector)"
   ]
  },
  {
   "cell_type": "markdown",
   "id": "116905c8",
   "metadata": {},
   "source": [
    "### Question 5: #Find eigen values and eigen vectors of given matrix using scipy\n",
    "#A = np.array([[1,4],[8,6]])"
   ]
  },
  {
   "cell_type": "code",
   "execution_count": 32,
   "id": "77df4e21",
   "metadata": {},
   "outputs": [
    {
     "name": "stdout",
     "output_type": "stream",
     "text": [
      "[-2.68465844+0.j  9.68465844+0.j] [[-0.73550406 -0.41834209]\n",
      " [ 0.67752031 -0.90828954]]\n"
     ]
    }
   ],
   "source": [
    "A = np.array([[1,4],[8,6]])\n",
    "eigen_val,eigen_vector=sc.linalg.eig(A)\n",
    "print(eigen_val,eigen_vector)"
   ]
  },
  {
   "cell_type": "markdown",
   "id": "5dceda00",
   "metadata": {},
   "source": [
    "### Question 6 Find dot product of two matrices\n",
    "a = np.array([[1,2],[3,4]])\n",
    "b = np.array([[11,12],[13,14]])"
   ]
  },
  {
   "cell_type": "code",
   "execution_count": 33,
   "id": "8834c738",
   "metadata": {},
   "outputs": [
    {
     "data": {
      "text/plain": [
       "array([[37, 40],\n",
       "       [85, 92]])"
      ]
     },
     "execution_count": 33,
     "metadata": {},
     "output_type": "execute_result"
    }
   ],
   "source": [
    "a = np.array([[1,2],[3,4]]) \n",
    "b = np.array([[11,12],[13,14]])\n",
    "\n",
    "np.dot(a,b)"
   ]
  },
  {
   "cell_type": "markdown",
   "id": "aec5b0d1",
   "metadata": {},
   "source": [
    "### Question 7: Find cross product of two given vectors\n",
    "x = [1, 2, 3]\n",
    "y = [4, 5, 6]"
   ]
  },
  {
   "cell_type": "code",
   "execution_count": 34,
   "id": "e9fd70ad",
   "metadata": {},
   "outputs": [
    {
     "data": {
      "text/plain": [
       "array([-3,  6, -3])"
      ]
     },
     "execution_count": 34,
     "metadata": {},
     "output_type": "execute_result"
    }
   ],
   "source": [
    "x = [1, 2, 3] \n",
    "y = [4, 5, 6]\n",
    "np.cross(x,y)"
   ]
  },
  {
   "cell_type": "markdown",
   "id": "118ec093",
   "metadata": {},
   "source": [
    "### Question 8: Create two random arrays of integers of size 25 . Find dot product of that random arrays."
   ]
  },
  {
   "cell_type": "code",
   "execution_count": 47,
   "id": "fa463ed4",
   "metadata": {},
   "outputs": [],
   "source": [
    "A=np.array(np.random.randint(100,size=25))\n",
    "B=np.random.randint(100,size=25)"
   ]
  },
  {
   "cell_type": "code",
   "execution_count": 43,
   "id": "9e560d1b",
   "metadata": {},
   "outputs": [
    {
     "data": {
      "text/plain": [
       "51691"
      ]
     },
     "execution_count": 43,
     "metadata": {},
     "output_type": "execute_result"
    }
   ],
   "source": [
    "np.dot(A,B)"
   ]
  },
  {
   "cell_type": "code",
   "execution_count": 48,
   "id": "b422f665",
   "metadata": {},
   "outputs": [
    {
     "data": {
      "text/plain": [
       "array([93, 73, 22, 58, 96,  3, 66, 82, 46,  8, 17, 26, 99, 67, 95, 36, 42,\n",
       "       29, 80, 15,  9, 98, 73, 57, 19])"
      ]
     },
     "execution_count": 48,
     "metadata": {},
     "output_type": "execute_result"
    }
   ],
   "source": [
    "A"
   ]
  },
  {
   "cell_type": "code",
   "execution_count": 49,
   "id": "95f84ad8",
   "metadata": {},
   "outputs": [
    {
     "data": {
      "text/plain": [
       "array([34, 71, 11, 37, 67, 85, 74, 77, 14, 59, 70, 64,  8, 35, 43, 97, 94,\n",
       "       79, 12,  5, 79, 24, 17, 84,  0])"
      ]
     },
     "execution_count": 49,
     "metadata": {},
     "output_type": "execute_result"
    }
   ],
   "source": [
    "B"
   ]
  },
  {
   "cell_type": "markdown",
   "id": "a0eff7e6",
   "metadata": {},
   "source": [
    "### Question 9: Create two random matrix . Find dot product of that random matrix"
   ]
  },
  {
   "cell_type": "code",
   "execution_count": 62,
   "id": "ed3187af",
   "metadata": {},
   "outputs": [
    {
     "data": {
      "text/plain": [
       "array([[59, 97, 86, 54, 31],\n",
       "       [77, 76,  0, 49,  4],\n",
       "       [43, 41, 36, 17, 75],\n",
       "       [11, 59, 38,  3, 39],\n",
       "       [ 3, 73, 21, 20, 83]])"
      ]
     },
     "execution_count": 62,
     "metadata": {},
     "output_type": "execute_result"
    }
   ],
   "source": [
    "A=np.random.randint(100,size=25)\n",
    "B=np.random.randint(100,size=25)\n",
    "A=A.reshape((5,5))\n",
    "B=B.reshape((5,5))\n",
    "\n",
    "np.dot(A,B)\n",
    "A"
   ]
  },
  {
   "cell_type": "markdown",
   "id": "1951d829",
   "metadata": {},
   "source": [
    "### Question 10: ROOT of the equation. The following example considers the single-variable transcendental equation. \n",
    "x**2 + 2cos(x) = 0\n",
    "Find the solution of this equation"
   ]
  },
  {
   "cell_type": "code",
   "execution_count": 174,
   "id": "e622e9e3",
   "metadata": {},
   "outputs": [
    {
     "data": {
      "text/plain": [
       "array([-0.00108342])"
      ]
     },
     "execution_count": 174,
     "metadata": {},
     "output_type": "execute_result"
    }
   ],
   "source": [
    "from scipy.optimize import fsolve\n",
    "import math\n",
    "A=math.cos(10)\n",
    "f = lambda x: x**2-2*A\n",
    "\n",
    "# fsolve(f, [2, 80])\n",
    "fsolve(f, 10)"
   ]
  },
  {
   "cell_type": "code",
   "execution_count": 167,
   "id": "0150e3a1",
   "metadata": {},
   "outputs": [
    {
     "data": {
      "text/plain": [
       "-0.4161468365471424"
      ]
     },
     "execution_count": 167,
     "metadata": {},
     "output_type": "execute_result"
    }
   ],
   "source": [
    "math.cos(2) "
   ]
  },
  {
   "cell_type": "code",
   "execution_count": 170,
   "id": "e106004a",
   "metadata": {},
   "outputs": [
    {
     "data": {
      "text/plain": [
       "-0.4161468365471424"
      ]
     },
     "execution_count": 170,
     "metadata": {},
     "output_type": "execute_result"
    }
   ],
   "source": [
    "np.cos(2)"
   ]
  },
  {
   "cell_type": "markdown",
   "id": "20e3c9a9",
   "metadata": {},
   "source": [
    "### Question 11: Generate random values between 0 and 1 of size 25. \n",
    "Reshape it into matrix and then Calculate mean of that array using numpy along axis 0, axis 1"
   ]
  },
  {
   "cell_type": "code",
   "execution_count": 76,
   "id": "e91258b8",
   "metadata": {},
   "outputs": [
    {
     "data": {
      "text/plain": [
       "array([0, 0, 1, 1, 1, 0, 1, 0, 1, 0, 0, 0, 1, 0, 0, 0, 1, 1, 0, 0, 1, 1,\n",
       "       1, 0, 0])"
      ]
     },
     "execution_count": 76,
     "metadata": {},
     "output_type": "execute_result"
    }
   ],
   "source": [
    "A=np.random.randint(2,size=25)\n",
    "A"
   ]
  },
  {
   "cell_type": "code",
   "execution_count": 77,
   "id": "cc5adfa9",
   "metadata": {},
   "outputs": [
    {
     "data": {
      "text/plain": [
       "array([0.2, 0.6, 0.8, 0.4, 0.2])"
      ]
     },
     "execution_count": 77,
     "metadata": {},
     "output_type": "execute_result"
    }
   ],
   "source": [
    "A=A.reshape((5,5))\n",
    "A.mean(axis=0)"
   ]
  },
  {
   "cell_type": "code",
   "execution_count": 78,
   "id": "e700d047",
   "metadata": {},
   "outputs": [
    {
     "data": {
      "text/plain": [
       "array([0.6, 0.4, 0.2, 0.4, 0.6])"
      ]
     },
     "execution_count": 78,
     "metadata": {},
     "output_type": "execute_result"
    }
   ],
   "source": [
    "A.mean(axis=1)"
   ]
  },
  {
   "cell_type": "markdown",
   "id": "f38c0176",
   "metadata": {},
   "source": [
    "### Question 12: Generate random values between 0 and 1.\n",
    "Reshape it into matrix and then Calculate standard deviation of that array\n",
    "using numpy along axis 0, axis 1"
   ]
  },
  {
   "cell_type": "code",
   "execution_count": 79,
   "id": "264af258",
   "metadata": {},
   "outputs": [
    {
     "data": {
      "text/plain": [
       "array([0.4       , 0.48989795, 0.4       , 0.48989795, 0.4       ])"
      ]
     },
     "execution_count": 79,
     "metadata": {},
     "output_type": "execute_result"
    }
   ],
   "source": [
    "A.std(axis=0)"
   ]
  },
  {
   "cell_type": "code",
   "execution_count": 80,
   "id": "fc2ed620",
   "metadata": {},
   "outputs": [
    {
     "data": {
      "text/plain": [
       "array([0.48989795, 0.48989795, 0.4       , 0.48989795, 0.48989795])"
      ]
     },
     "execution_count": 80,
     "metadata": {},
     "output_type": "execute_result"
    }
   ],
   "source": [
    "A.std(axis=1)"
   ]
  },
  {
   "cell_type": "markdown",
   "id": "e0651e00",
   "metadata": {},
   "source": [
    "### Question 13: Generate Normal Random Variables of size 150 and find mean and standard deviation using scipy"
   ]
  },
  {
   "cell_type": "code",
   "execution_count": 82,
   "id": "ff940f0d",
   "metadata": {},
   "outputs": [
    {
     "data": {
      "text/plain": [
       "array([0, 0, 0, 1, 0, 1, 0, 1, 1, 0, 0, 0, 0, 1, 1, 1, 1, 1, 0, 1, 1, 0,\n",
       "       1, 0, 0, 1, 1, 1, 0, 0, 0, 1, 0, 1, 1, 0, 1, 0, 0, 1, 1, 1, 0, 0,\n",
       "       0, 0, 1, 0, 0, 1, 1, 1, 0, 0, 1, 1, 1, 1, 1, 0, 0, 0, 0, 1, 1, 1,\n",
       "       1, 0, 1, 1, 0, 1, 0, 0, 1, 0, 0, 0, 1, 1, 0, 0, 0, 0, 1, 1, 0, 1,\n",
       "       1, 1, 1, 0, 1, 0, 1, 1, 0, 0, 0, 1, 1, 0, 0, 0, 0, 1, 0, 1, 0, 0,\n",
       "       1, 0, 0, 1, 0, 0, 1, 1, 0, 0, 1, 0, 1, 0, 1, 1, 1, 1, 0, 1, 0, 1,\n",
       "       0, 1, 1, 1, 0, 1, 1, 0, 1, 1, 0, 0, 1, 1, 1, 0, 0, 1])"
      ]
     },
     "execution_count": 82,
     "metadata": {},
     "output_type": "execute_result"
    }
   ],
   "source": [
    "A=np.random.randint(2,size=150)\n",
    "A"
   ]
  },
  {
   "cell_type": "code",
   "execution_count": 83,
   "id": "0063bc9b",
   "metadata": {},
   "outputs": [
    {
     "name": "stderr",
     "output_type": "stream",
     "text": [
      "C:\\Users\\LPT-3036\\AppData\\Local\\Temp\\ipykernel_12260\\1252459438.py:1: DeprecationWarning: scipy.mean is deprecated and will be removed in SciPy 2.0.0, use numpy.mean instead\n",
      "  sc.mean(A)\n"
     ]
    },
    {
     "data": {
      "text/plain": [
       "0.5133333333333333"
      ]
     },
     "execution_count": 83,
     "metadata": {},
     "output_type": "execute_result"
    }
   ],
   "source": [
    "sc.mean(A)"
   ]
  },
  {
   "cell_type": "code",
   "execution_count": 84,
   "id": "79f5eb0d",
   "metadata": {},
   "outputs": [
    {
     "name": "stderr",
     "output_type": "stream",
     "text": [
      "C:\\Users\\LPT-3036\\AppData\\Local\\Temp\\ipykernel_12260\\1684563236.py:1: DeprecationWarning: scipy.std is deprecated and will be removed in SciPy 2.0.0, use numpy.std instead\n",
      "  sc.std(A)\n"
     ]
    },
    {
     "data": {
      "text/plain": [
       "0.4998221906060416"
      ]
     },
     "execution_count": 84,
     "metadata": {},
     "output_type": "execute_result"
    }
   ],
   "source": []
  },
  {
   "cell_type": "markdown",
   "id": "9fee5bb5",
   "metadata": {},
   "source": [
    "### Question 14: Write a program for interchanging two axes of the NumPy array"
   ]
  },
  {
   "cell_type": "code",
   "execution_count": 86,
   "id": "2ef3a7dc",
   "metadata": {},
   "outputs": [
    {
     "data": {
      "text/plain": [
       "array([[11, 12],\n",
       "       [13, 14]])"
      ]
     },
     "execution_count": 86,
     "metadata": {},
     "output_type": "execute_result"
    }
   ],
   "source": [
    "b = np.array([[11,12],[13,14]])\n",
    "b"
   ]
  },
  {
   "cell_type": "code",
   "execution_count": 90,
   "id": "0b1bf34f",
   "metadata": {},
   "outputs": [
    {
     "data": {
      "text/plain": [
       "array([[11, 13],\n",
       "       [12, 14]])"
      ]
     },
     "execution_count": 90,
     "metadata": {},
     "output_type": "execute_result"
    }
   ],
   "source": [
    "np.swapaxes(b,1,0)"
   ]
  },
  {
   "cell_type": "markdown",
   "id": "cc50fab1",
   "metadata": {},
   "source": [
    "### Question 15: Create two numpy arrays( arr1 = [7,8,9,10], arr2 = [1,2,3,4] ) . Add the both arrays and then multiply the resultant array with first array and get the element at index2"
   ]
  },
  {
   "cell_type": "code",
   "execution_count": 92,
   "id": "6c817213",
   "metadata": {},
   "outputs": [],
   "source": [
    "arr1 = [7,8,9,10]\n",
    "arr2 = [1,2,3,4]"
   ]
  },
  {
   "cell_type": "code",
   "execution_count": 94,
   "id": "b07fec7e",
   "metadata": {},
   "outputs": [],
   "source": [
    "arr3=np.add(arr1,arr2)"
   ]
  },
  {
   "cell_type": "code",
   "execution_count": 98,
   "id": "7217e9dd",
   "metadata": {},
   "outputs": [
    {
     "data": {
      "text/plain": [
       "108"
      ]
     },
     "execution_count": 98,
     "metadata": {},
     "output_type": "execute_result"
    }
   ],
   "source": [
    "np.multiply(arr1,arr3)[2]"
   ]
  },
  {
   "cell_type": "markdown",
   "id": "3e066665",
   "metadata": {},
   "source": [
    "### Question 16. Change the data type of a given NumPy array?\n",
    "arr = [2.7, 3.14, 5.89, 7]"
   ]
  },
  {
   "cell_type": "code",
   "execution_count": 101,
   "id": "b12189e6",
   "metadata": {},
   "outputs": [],
   "source": [
    "arr = np.array([2.7, 3.14, 5.89, 7])"
   ]
  },
  {
   "cell_type": "code",
   "execution_count": 102,
   "id": "057f4fc8",
   "metadata": {},
   "outputs": [
    {
     "data": {
      "text/plain": [
       "array([2, 3, 5, 7])"
      ]
     },
     "execution_count": 102,
     "metadata": {},
     "output_type": "execute_result"
    }
   ],
   "source": [
    "arr.astype('int')"
   ]
  },
  {
   "cell_type": "code",
   "execution_count": 103,
   "id": "58db7236",
   "metadata": {},
   "outputs": [],
   "source": [
    "### Question 17. Create a matrix of elements between 30 to 39. And reverse the matrix.\n",
    "\n",
    "arr=np.random.randint(30,39,size=(3,3))"
   ]
  },
  {
   "cell_type": "code",
   "execution_count": 104,
   "id": "3630c75e",
   "metadata": {},
   "outputs": [
    {
     "data": {
      "text/plain": [
       "array([[33, 35, 30],\n",
       "       [37, 34, 35],\n",
       "       [32, 34, 38]])"
      ]
     },
     "execution_count": 104,
     "metadata": {},
     "output_type": "execute_result"
    }
   ],
   "source": [
    "arr"
   ]
  },
  {
   "cell_type": "code",
   "execution_count": 105,
   "id": "4650edc7",
   "metadata": {},
   "outputs": [
    {
     "data": {
      "text/plain": [
       "array([[32, 34, 38],\n",
       "       [37, 34, 35],\n",
       "       [33, 35, 30]])"
      ]
     },
     "execution_count": 105,
     "metadata": {},
     "output_type": "execute_result"
    }
   ],
   "source": [
    "arr[::-1]"
   ]
  },
  {
   "cell_type": "code",
   "execution_count": 106,
   "id": "c71c8241",
   "metadata": {},
   "outputs": [
    {
     "data": {
      "text/plain": [
       "array([[38, 34, 32],\n",
       "       [35, 34, 37],\n",
       "       [30, 35, 33]])"
      ]
     },
     "execution_count": 106,
     "metadata": {},
     "output_type": "execute_result"
    }
   ],
   "source": [
    "arr[::-1,::-1]"
   ]
  },
  {
   "cell_type": "markdown",
   "id": "2b34e3c9",
   "metadata": {},
   "source": [
    "### Question 18. Given two matrices. Add both matrices, subtract both matrices, multiply both matrices. And then Find the transpose of resultant matrix you got by multiplication.\n",
    "A = ([[1,2,3],[4,5,6,],[7,8,9]])\n",
    "B = ([[2,4,6],[8,10,12],[14,16,18]])"
   ]
  },
  {
   "cell_type": "code",
   "execution_count": 107,
   "id": "ab4f074f",
   "metadata": {},
   "outputs": [],
   "source": [
    "A = ([[1,2,3],[4,5,6,],[7,8,9]]) \n",
    "B = ([[2,4,6],[8,10,12],[14,16,18]])"
   ]
  },
  {
   "cell_type": "code",
   "execution_count": 108,
   "id": "3aa3321c",
   "metadata": {},
   "outputs": [],
   "source": [
    "c=A+B"
   ]
  },
  {
   "cell_type": "code",
   "execution_count": 109,
   "id": "39814843",
   "metadata": {},
   "outputs": [
    {
     "data": {
      "text/plain": [
       "[[1, 2, 3], [4, 5, 6], [7, 8, 9], [2, 4, 6], [8, 10, 12], [14, 16, 18]]"
      ]
     },
     "execution_count": 109,
     "metadata": {},
     "output_type": "execute_result"
    }
   ],
   "source": [
    "c"
   ]
  },
  {
   "cell_type": "code",
   "execution_count": 112,
   "id": "19927e6d",
   "metadata": {},
   "outputs": [
    {
     "data": {
      "text/plain": [
       "array([[ 3,  6,  9],\n",
       "       [12, 15, 18],\n",
       "       [21, 24, 27]])"
      ]
     },
     "execution_count": 112,
     "metadata": {},
     "output_type": "execute_result"
    }
   ],
   "source": [
    "np.add(A,B)"
   ]
  },
  {
   "cell_type": "code",
   "execution_count": 113,
   "id": "c6b0defa",
   "metadata": {},
   "outputs": [
    {
     "data": {
      "text/plain": [
       "array([[-1, -2, -3],\n",
       "       [-4, -5, -6],\n",
       "       [-7, -8, -9]])"
      ]
     },
     "execution_count": 113,
     "metadata": {},
     "output_type": "execute_result"
    }
   ],
   "source": [
    "np.subtract(A,B)"
   ]
  },
  {
   "cell_type": "code",
   "execution_count": 115,
   "id": "3864f356",
   "metadata": {},
   "outputs": [],
   "source": [
    "D=np.multiply(A,B)"
   ]
  },
  {
   "cell_type": "code",
   "execution_count": 116,
   "id": "5f057268",
   "metadata": {},
   "outputs": [
    {
     "data": {
      "text/plain": [
       "array([[  2,  32,  98],\n",
       "       [  8,  50, 128],\n",
       "       [ 18,  72, 162]])"
      ]
     },
     "execution_count": 116,
     "metadata": {},
     "output_type": "execute_result"
    }
   ],
   "source": [
    "D.T"
   ]
  },
  {
   "cell_type": "code",
   "execution_count": 117,
   "id": "e466f5fe",
   "metadata": {},
   "outputs": [
    {
     "data": {
      "text/plain": [
       "array([[  2,  32,  98],\n",
       "       [  8,  50, 128],\n",
       "       [ 18,  72, 162]])"
      ]
     },
     "execution_count": 117,
     "metadata": {},
     "output_type": "execute_result"
    }
   ],
   "source": [
    "np.transpose(D)"
   ]
  },
  {
   "cell_type": "markdown",
   "id": "3256c693",
   "metadata": {},
   "source": [
    "### Question 19 Stack the two given matrices vertically and horizontally.\n",
    "A = ([[1,2,3],[4,5,6,],[7,8,9]])\n",
    "B = ([[2,4,6],[8,10,12],[14,16,18]])"
   ]
  },
  {
   "cell_type": "code",
   "execution_count": 121,
   "id": "40784dda",
   "metadata": {},
   "outputs": [
    {
     "data": {
      "text/plain": [
       "array([[ 1,  2,  3],\n",
       "       [ 4,  5,  6],\n",
       "       [ 7,  8,  9],\n",
       "       [ 2,  4,  6],\n",
       "       [ 8, 10, 12],\n",
       "       [14, 16, 18]])"
      ]
     },
     "execution_count": 121,
     "metadata": {},
     "output_type": "execute_result"
    }
   ],
   "source": [
    "A = np.array([[1,2,3],[4,5,6,],[7,8,9]])\n",
    "B = np.array([[2,4,6],[8,10,12],[14,16,18]])\n",
    "\n",
    "np.vstack((A,B))"
   ]
  },
  {
   "cell_type": "code",
   "execution_count": 122,
   "id": "9f96a375",
   "metadata": {},
   "outputs": [
    {
     "data": {
      "text/plain": [
       "array([[ 1,  2,  3,  2,  4,  6],\n",
       "       [ 4,  5,  6,  8, 10, 12],\n",
       "       [ 7,  8,  9, 14, 16, 18]])"
      ]
     },
     "execution_count": 122,
     "metadata": {},
     "output_type": "execute_result"
    }
   ],
   "source": [
    "np.hstack((A,B))"
   ]
  },
  {
   "cell_type": "markdown",
   "id": "3c64db33",
   "metadata": {},
   "source": [
    "### Question 20 Create the 2D numpy array, First swap the first two rows of arrays and then swap the first two columns of the array."
   ]
  },
  {
   "cell_type": "code",
   "execution_count": 3,
   "id": "45e41deb",
   "metadata": {},
   "outputs": [
    {
     "data": {
      "text/plain": [
       "array([[70, 49, 74],\n",
       "       [ 9, 90, 38],\n",
       "       [87, 80, 22]])"
      ]
     },
     "execution_count": 3,
     "metadata": {},
     "output_type": "execute_result"
    }
   ],
   "source": [
    "A=np.random.randint(100,size=(3,3))\n",
    "A"
   ]
  },
  {
   "cell_type": "code",
   "execution_count": 4,
   "id": "d9d97368",
   "metadata": {},
   "outputs": [
    {
     "data": {
      "text/plain": [
       "array([49, 90, 80])"
      ]
     },
     "execution_count": 4,
     "metadata": {},
     "output_type": "execute_result"
    }
   ],
   "source": [
    "A[:,1]"
   ]
  },
  {
   "cell_type": "code",
   "execution_count": 5,
   "id": "ee7dbcec",
   "metadata": {},
   "outputs": [],
   "source": [
    "A[0,:],A[1]=A[1],A[0]"
   ]
  },
  {
   "cell_type": "code",
   "execution_count": 6,
   "id": "58d535ff",
   "metadata": {
    "scrolled": true
   },
   "outputs": [
    {
     "data": {
      "text/plain": [
       "array([[ 9, 90, 38],\n",
       "       [ 9, 90, 38],\n",
       "       [87, 80, 22]])"
      ]
     },
     "execution_count": 6,
     "metadata": {},
     "output_type": "execute_result"
    }
   ],
   "source": [
    "A"
   ]
  },
  {
   "cell_type": "code",
   "execution_count": 133,
   "id": "8781d348",
   "metadata": {},
   "outputs": [],
   "source": [
    "A[:,0],A[:,1]=A[:,1],A[:,0]"
   ]
  },
  {
   "cell_type": "code",
   "execution_count": 135,
   "id": "7dee9bf4",
   "metadata": {},
   "outputs": [
    {
     "data": {
      "text/plain": [
       "array([[45, 45, 67],\n",
       "       [45, 45, 67],\n",
       "       [60, 60,  1]])"
      ]
     },
     "execution_count": 135,
     "metadata": {},
     "output_type": "execute_result"
    }
   ],
   "source": [
    "A"
   ]
  },
  {
   "cell_type": "code",
   "execution_count": null,
   "id": "ca875017",
   "metadata": {},
   "outputs": [],
   "source": [
    "np.swapaxes()"
   ]
  },
  {
   "cell_type": "code",
   "execution_count": 183,
   "id": "43aa05ee",
   "metadata": {},
   "outputs": [
    {
     "data": {
      "text/plain": [
       "10.0"
      ]
     },
     "execution_count": 183,
     "metadata": {},
     "output_type": "execute_result"
    }
   ],
   "source": [
    "np.average(B)"
   ]
  },
  {
   "cell_type": "code",
   "execution_count": 184,
   "id": "baa2d3ce",
   "metadata": {},
   "outputs": [
    {
     "data": {
      "text/plain": [
       "10.0"
      ]
     },
     "execution_count": 184,
     "metadata": {},
     "output_type": "execute_result"
    }
   ],
   "source": [
    "np.mean(B)"
   ]
  },
  {
   "cell_type": "code",
   "execution_count": 7,
   "id": "0965f282",
   "metadata": {},
   "outputs": [
    {
     "name": "stdout",
     "output_type": "stream",
     "text": [
      "False\n"
     ]
    }
   ],
   "source": [
    "# Write a Python program to find a list of integers with exactly two occurrences of nineteen and at least three occurrences \n",
    "# of five. Return True otherwise False\n",
    "\n",
    "count19,count5=0,0\n",
    "li=[11, 12, 14, 13, 14, 13, 15, 14]\n",
    "for each in li:\n",
    "    if(each==19):\n",
    "        count19+=1\n",
    "    elif(each==5):\n",
    "        count5+=1\n",
    "if(count19==2 and count5==3):\n",
    "    print('True')\n",
    "else:\n",
    "    print('False')"
   ]
  },
  {
   "cell_type": "code",
   "execution_count": 9,
   "id": "d4e7b515",
   "metadata": {},
   "outputs": [
    {
     "name": "stdout",
     "output_type": "stream",
     "text": [
      "Original list:\n",
      "[0, 10, 20, 30, 40, 50, 60, 70, 80, 90, 100, 110, 120, 130, 140, 150, 160, 170, 180, 190, 200, 210, 220, 230, 240, 250, 260, 270, 280, 290, 300, 310, 320, 330, 340, 350, 360, 370, 380, 390, 400, 410, 420, 430, 440, 450, 460, 470, 480, 490]\n",
      "Check whether the said list contains one hundred integers between 0 and 999 which all differ by at least ten from one another:\n",
      "False\n",
      "Original list:\n",
      "[0, 20, 40, 60, 80, 100, 120, 140, 160, 180, 200, 220, 240, 260, 280, 300, 320, 340, 360, 380, 400, 420, 440, 460, 480]\n",
      "Check whether the said list contains one hundred integers between 0 and 999 which all differ by at least ten from one another:\n",
      "False\n"
     ]
    }
   ],
   "source": [
    "def test(li):\n",
    "    return all(i in range(500) and abs(i - j) >= 10 for i in li for j in li if i != j) and len(set(li)) == 100\n",
    "nums = list(range(0, 500, 10))\n",
    "print(\"Original list:\")\n",
    "print(nums)\n",
    "print(\"Check whether the said list contains one hundred integers between 0 and 999 which all differ by at least ten from one another:\")\n",
    "print(test(nums))\n",
    "nums = list(range(0, 500, 20))\n",
    "print(\"Original list:\")\n",
    "\n",
    "print(nums)\n",
    "\n",
    "print(\"Check whether the said list contains one hundred integers between 0 and 999 which all differ by at least ten from one another:\")\n",
    "\n",
    "print(test(nums))"
   ]
  },
  {
   "cell_type": "code",
   "execution_count": null,
   "id": "c84c16c0",
   "metadata": {},
   "outputs": [],
   "source": []
  }
 ],
 "metadata": {
  "kernelspec": {
   "display_name": "Python 3 (ipykernel)",
   "language": "python",
   "name": "python3"
  },
  "language_info": {
   "codemirror_mode": {
    "name": "ipython",
    "version": 3
   },
   "file_extension": ".py",
   "mimetype": "text/x-python",
   "name": "python",
   "nbconvert_exporter": "python",
   "pygments_lexer": "ipython3",
   "version": "3.9.12"
  }
 },
 "nbformat": 4,
 "nbformat_minor": 5
}
