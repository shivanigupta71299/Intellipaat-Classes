{
 "cells": [
  {
   "cell_type": "code",
   "execution_count": 6,
   "id": "78103d26",
   "metadata": {},
   "outputs": [],
   "source": [
    "from turtle import *\n",
    "import time\n",
    "import turtle"
   ]
  },
  {
   "cell_type": "code",
   "execution_count": null,
   "id": "b10eea93",
   "metadata": {},
   "outputs": [],
   "source": [
    "t=Turtle()\n",
    "\n",
    "for i in range(9):\n",
    "    t.forward(100)\n",
    "    t.right(144)\n",
    "t.end_fill()\n",
    "turtle.done()"
   ]
  },
  {
   "cell_type": "code",
   "execution_count": 7,
   "id": "18cbd71a",
   "metadata": {},
   "outputs": [
    {
     "name": "stdout",
     "output_type": "stream",
     "text": [
      "1\n",
      "2\n",
      "[(1, {1: 'one', 2: 'two'}), (2, {3: 'three', 4: 'four'})]\n"
     ]
    }
   ],
   "source": [
    "nest_dict ={1:{1:'one',2:'two'},2:{3:'three',4:'four'}}\n",
    "l1=list()\n",
    "for each in nest_dict.items():\n",
    "    print(each[0])\n",
    "    l1.append(each)\n",
    "print(l1)"
   ]
  },
  {
   "cell_type": "code",
   "execution_count": null,
   "id": "cdfe42fd",
   "metadata": {},
   "outputs": [],
   "source": []
  }
 ],
 "metadata": {
  "kernelspec": {
   "display_name": "Python 3 (ipykernel)",
   "language": "python",
   "name": "python3"
  },
  "language_info": {
   "codemirror_mode": {
    "name": "ipython",
    "version": 3
   },
   "file_extension": ".py",
   "mimetype": "text/x-python",
   "name": "python",
   "nbconvert_exporter": "python",
   "pygments_lexer": "ipython3",
   "version": "3.9.12"
  }
 },
 "nbformat": 4,
 "nbformat_minor": 5
}
