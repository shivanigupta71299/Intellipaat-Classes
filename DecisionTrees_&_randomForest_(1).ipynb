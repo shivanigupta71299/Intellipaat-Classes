{
 "cells": [
  {
   "cell_type": "code",
   "execution_count": 12,
   "metadata": {
    "id": "sB4iZcFN7fmF"
   },
   "outputs": [],
   "source": [
    "import numpy as np\n",
    "import pandas as pd\n",
    "import matplotlib.pyplot as plt"
   ]
  },
  {
   "cell_type": "code",
   "execution_count": 2,
   "metadata": {
    "id": "kLrxU1pj7fmK",
    "outputId": "888afad1-fbcb-4964-b1d5-32e0227b24cb"
   },
   "outputs": [
    {
     "data": {
      "text/plain": [
       "(303, 13)"
      ]
     },
     "execution_count": 2,
     "metadata": {},
     "output_type": "execute_result"
    }
   ],
   "source": [
    "data = pd.read_csv(\"heart1.csv\")\n",
    "data.shape"
   ]
  },
  {
   "cell_type": "code",
   "execution_count": 3,
   "metadata": {
    "id": "Hpnpj3gf7fme",
    "outputId": "676a20bf-7e3f-45c2-989a-ff9043e7da2e"
   },
   "outputs": [
    {
     "data": {
      "text/html": [
       "<div>\n",
       "<style scoped>\n",
       "    .dataframe tbody tr th:only-of-type {\n",
       "        vertical-align: middle;\n",
       "    }\n",
       "\n",
       "    .dataframe tbody tr th {\n",
       "        vertical-align: top;\n",
       "    }\n",
       "\n",
       "    .dataframe thead th {\n",
       "        text-align: right;\n",
       "    }\n",
       "</style>\n",
       "<table border=\"1\" class=\"dataframe\">\n",
       "  <thead>\n",
       "    <tr style=\"text-align: right;\">\n",
       "      <th></th>\n",
       "      <th>age</th>\n",
       "      <th>sex</th>\n",
       "      <th>cp</th>\n",
       "      <th>trestbps</th>\n",
       "      <th>chol</th>\n",
       "      <th>fbs</th>\n",
       "      <th>restecg</th>\n",
       "      <th>thalach</th>\n",
       "      <th>exang</th>\n",
       "      <th>oldpeak</th>\n",
       "      <th>slope</th>\n",
       "      <th>ca</th>\n",
       "      <th>target</th>\n",
       "    </tr>\n",
       "  </thead>\n",
       "  <tbody>\n",
       "    <tr>\n",
       "      <th>0</th>\n",
       "      <td>63</td>\n",
       "      <td>1</td>\n",
       "      <td>3</td>\n",
       "      <td>145</td>\n",
       "      <td>233</td>\n",
       "      <td>1</td>\n",
       "      <td>0</td>\n",
       "      <td>150</td>\n",
       "      <td>0</td>\n",
       "      <td>2.3</td>\n",
       "      <td>0</td>\n",
       "      <td>0</td>\n",
       "      <td>1</td>\n",
       "    </tr>\n",
       "    <tr>\n",
       "      <th>1</th>\n",
       "      <td>37</td>\n",
       "      <td>1</td>\n",
       "      <td>2</td>\n",
       "      <td>130</td>\n",
       "      <td>250</td>\n",
       "      <td>0</td>\n",
       "      <td>1</td>\n",
       "      <td>187</td>\n",
       "      <td>0</td>\n",
       "      <td>3.5</td>\n",
       "      <td>0</td>\n",
       "      <td>0</td>\n",
       "      <td>1</td>\n",
       "    </tr>\n",
       "    <tr>\n",
       "      <th>2</th>\n",
       "      <td>41</td>\n",
       "      <td>0</td>\n",
       "      <td>1</td>\n",
       "      <td>130</td>\n",
       "      <td>204</td>\n",
       "      <td>0</td>\n",
       "      <td>0</td>\n",
       "      <td>172</td>\n",
       "      <td>0</td>\n",
       "      <td>1.4</td>\n",
       "      <td>2</td>\n",
       "      <td>0</td>\n",
       "      <td>1</td>\n",
       "    </tr>\n",
       "    <tr>\n",
       "      <th>3</th>\n",
       "      <td>56</td>\n",
       "      <td>1</td>\n",
       "      <td>1</td>\n",
       "      <td>120</td>\n",
       "      <td>236</td>\n",
       "      <td>0</td>\n",
       "      <td>1</td>\n",
       "      <td>178</td>\n",
       "      <td>0</td>\n",
       "      <td>0.8</td>\n",
       "      <td>2</td>\n",
       "      <td>0</td>\n",
       "      <td>1</td>\n",
       "    </tr>\n",
       "    <tr>\n",
       "      <th>4</th>\n",
       "      <td>57</td>\n",
       "      <td>0</td>\n",
       "      <td>0</td>\n",
       "      <td>120</td>\n",
       "      <td>354</td>\n",
       "      <td>0</td>\n",
       "      <td>1</td>\n",
       "      <td>163</td>\n",
       "      <td>1</td>\n",
       "      <td>0.6</td>\n",
       "      <td>2</td>\n",
       "      <td>0</td>\n",
       "      <td>1</td>\n",
       "    </tr>\n",
       "  </tbody>\n",
       "</table>\n",
       "</div>"
      ],
      "text/plain": [
       "   age  sex  cp  trestbps  chol  fbs  restecg  thalach  exang  oldpeak  slope  \\\n",
       "0   63    1   3       145   233    1        0      150      0      2.3      0   \n",
       "1   37    1   2       130   250    0        1      187      0      3.5      0   \n",
       "2   41    0   1       130   204    0        0      172      0      1.4      2   \n",
       "3   56    1   1       120   236    0        1      178      0      0.8      2   \n",
       "4   57    0   0       120   354    0        1      163      1      0.6      2   \n",
       "\n",
       "   ca  target  \n",
       "0   0       1  \n",
       "1   0       1  \n",
       "2   0       1  \n",
       "3   0       1  \n",
       "4   0       1  "
      ]
     },
     "execution_count": 3,
     "metadata": {},
     "output_type": "execute_result"
    }
   ],
   "source": [
    "data.head()"
   ]
  },
  {
   "cell_type": "code",
   "execution_count": 4,
   "metadata": {
    "id": "Vfr4pWKx7fmg",
    "outputId": "149d13a4-03ed-4cfa-b3dd-fff41508d124"
   },
   "outputs": [
    {
     "data": {
      "text/html": [
       "<div>\n",
       "<style scoped>\n",
       "    .dataframe tbody tr th:only-of-type {\n",
       "        vertical-align: middle;\n",
       "    }\n",
       "\n",
       "    .dataframe tbody tr th {\n",
       "        vertical-align: top;\n",
       "    }\n",
       "\n",
       "    .dataframe thead th {\n",
       "        text-align: right;\n",
       "    }\n",
       "</style>\n",
       "<table border=\"1\" class=\"dataframe\">\n",
       "  <thead>\n",
       "    <tr style=\"text-align: right;\">\n",
       "      <th></th>\n",
       "      <th>age</th>\n",
       "      <th>sex</th>\n",
       "      <th>cp</th>\n",
       "      <th>trestbps</th>\n",
       "      <th>chol</th>\n",
       "      <th>fbs</th>\n",
       "      <th>restecg</th>\n",
       "      <th>thalach</th>\n",
       "      <th>exang</th>\n",
       "      <th>oldpeak</th>\n",
       "      <th>slope</th>\n",
       "      <th>ca</th>\n",
       "      <th>target</th>\n",
       "    </tr>\n",
       "  </thead>\n",
       "  <tbody>\n",
       "    <tr>\n",
       "      <th>count</th>\n",
       "      <td>303.000000</td>\n",
       "      <td>303.000000</td>\n",
       "      <td>303.000000</td>\n",
       "      <td>303.000000</td>\n",
       "      <td>303.000000</td>\n",
       "      <td>303.000000</td>\n",
       "      <td>303.000000</td>\n",
       "      <td>303.000000</td>\n",
       "      <td>303.000000</td>\n",
       "      <td>303.000000</td>\n",
       "      <td>303.000000</td>\n",
       "      <td>303.000000</td>\n",
       "      <td>303.000000</td>\n",
       "    </tr>\n",
       "    <tr>\n",
       "      <th>mean</th>\n",
       "      <td>54.366337</td>\n",
       "      <td>0.683168</td>\n",
       "      <td>0.966997</td>\n",
       "      <td>131.623762</td>\n",
       "      <td>246.264026</td>\n",
       "      <td>0.148515</td>\n",
       "      <td>0.528053</td>\n",
       "      <td>149.646865</td>\n",
       "      <td>0.326733</td>\n",
       "      <td>1.039604</td>\n",
       "      <td>1.399340</td>\n",
       "      <td>0.729373</td>\n",
       "      <td>0.544554</td>\n",
       "    </tr>\n",
       "    <tr>\n",
       "      <th>std</th>\n",
       "      <td>9.082101</td>\n",
       "      <td>0.466011</td>\n",
       "      <td>1.032052</td>\n",
       "      <td>17.538143</td>\n",
       "      <td>51.830751</td>\n",
       "      <td>0.356198</td>\n",
       "      <td>0.525860</td>\n",
       "      <td>22.905161</td>\n",
       "      <td>0.469794</td>\n",
       "      <td>1.161075</td>\n",
       "      <td>0.616226</td>\n",
       "      <td>1.022606</td>\n",
       "      <td>0.498835</td>\n",
       "    </tr>\n",
       "    <tr>\n",
       "      <th>min</th>\n",
       "      <td>29.000000</td>\n",
       "      <td>0.000000</td>\n",
       "      <td>0.000000</td>\n",
       "      <td>94.000000</td>\n",
       "      <td>126.000000</td>\n",
       "      <td>0.000000</td>\n",
       "      <td>0.000000</td>\n",
       "      <td>71.000000</td>\n",
       "      <td>0.000000</td>\n",
       "      <td>0.000000</td>\n",
       "      <td>0.000000</td>\n",
       "      <td>0.000000</td>\n",
       "      <td>0.000000</td>\n",
       "    </tr>\n",
       "    <tr>\n",
       "      <th>25%</th>\n",
       "      <td>47.500000</td>\n",
       "      <td>0.000000</td>\n",
       "      <td>0.000000</td>\n",
       "      <td>120.000000</td>\n",
       "      <td>211.000000</td>\n",
       "      <td>0.000000</td>\n",
       "      <td>0.000000</td>\n",
       "      <td>133.500000</td>\n",
       "      <td>0.000000</td>\n",
       "      <td>0.000000</td>\n",
       "      <td>1.000000</td>\n",
       "      <td>0.000000</td>\n",
       "      <td>0.000000</td>\n",
       "    </tr>\n",
       "    <tr>\n",
       "      <th>50%</th>\n",
       "      <td>55.000000</td>\n",
       "      <td>1.000000</td>\n",
       "      <td>1.000000</td>\n",
       "      <td>130.000000</td>\n",
       "      <td>240.000000</td>\n",
       "      <td>0.000000</td>\n",
       "      <td>1.000000</td>\n",
       "      <td>153.000000</td>\n",
       "      <td>0.000000</td>\n",
       "      <td>0.800000</td>\n",
       "      <td>1.000000</td>\n",
       "      <td>0.000000</td>\n",
       "      <td>1.000000</td>\n",
       "    </tr>\n",
       "    <tr>\n",
       "      <th>75%</th>\n",
       "      <td>61.000000</td>\n",
       "      <td>1.000000</td>\n",
       "      <td>2.000000</td>\n",
       "      <td>140.000000</td>\n",
       "      <td>274.500000</td>\n",
       "      <td>0.000000</td>\n",
       "      <td>1.000000</td>\n",
       "      <td>166.000000</td>\n",
       "      <td>1.000000</td>\n",
       "      <td>1.600000</td>\n",
       "      <td>2.000000</td>\n",
       "      <td>1.000000</td>\n",
       "      <td>1.000000</td>\n",
       "    </tr>\n",
       "    <tr>\n",
       "      <th>max</th>\n",
       "      <td>77.000000</td>\n",
       "      <td>1.000000</td>\n",
       "      <td>3.000000</td>\n",
       "      <td>200.000000</td>\n",
       "      <td>564.000000</td>\n",
       "      <td>1.000000</td>\n",
       "      <td>2.000000</td>\n",
       "      <td>202.000000</td>\n",
       "      <td>1.000000</td>\n",
       "      <td>6.200000</td>\n",
       "      <td>2.000000</td>\n",
       "      <td>4.000000</td>\n",
       "      <td>1.000000</td>\n",
       "    </tr>\n",
       "  </tbody>\n",
       "</table>\n",
       "</div>"
      ],
      "text/plain": [
       "              age         sex          cp    trestbps        chol         fbs  \\\n",
       "count  303.000000  303.000000  303.000000  303.000000  303.000000  303.000000   \n",
       "mean    54.366337    0.683168    0.966997  131.623762  246.264026    0.148515   \n",
       "std      9.082101    0.466011    1.032052   17.538143   51.830751    0.356198   \n",
       "min     29.000000    0.000000    0.000000   94.000000  126.000000    0.000000   \n",
       "25%     47.500000    0.000000    0.000000  120.000000  211.000000    0.000000   \n",
       "50%     55.000000    1.000000    1.000000  130.000000  240.000000    0.000000   \n",
       "75%     61.000000    1.000000    2.000000  140.000000  274.500000    0.000000   \n",
       "max     77.000000    1.000000    3.000000  200.000000  564.000000    1.000000   \n",
       "\n",
       "          restecg     thalach       exang     oldpeak       slope          ca  \\\n",
       "count  303.000000  303.000000  303.000000  303.000000  303.000000  303.000000   \n",
       "mean     0.528053  149.646865    0.326733    1.039604    1.399340    0.729373   \n",
       "std      0.525860   22.905161    0.469794    1.161075    0.616226    1.022606   \n",
       "min      0.000000   71.000000    0.000000    0.000000    0.000000    0.000000   \n",
       "25%      0.000000  133.500000    0.000000    0.000000    1.000000    0.000000   \n",
       "50%      1.000000  153.000000    0.000000    0.800000    1.000000    0.000000   \n",
       "75%      1.000000  166.000000    1.000000    1.600000    2.000000    1.000000   \n",
       "max      2.000000  202.000000    1.000000    6.200000    2.000000    4.000000   \n",
       "\n",
       "           target  \n",
       "count  303.000000  \n",
       "mean     0.544554  \n",
       "std      0.498835  \n",
       "min      0.000000  \n",
       "25%      0.000000  \n",
       "50%      1.000000  \n",
       "75%      1.000000  \n",
       "max      1.000000  "
      ]
     },
     "execution_count": 4,
     "metadata": {},
     "output_type": "execute_result"
    }
   ],
   "source": [
    "data.describe()"
   ]
  },
  {
   "cell_type": "code",
   "execution_count": 5,
   "metadata": {
    "id": "GSoJoHQe7fml"
   },
   "outputs": [],
   "source": [
    "# EDA\n",
    "\n",
    "# category to numeric transformation\n",
    "# missing value imputation\n",
    "\n",
    "# NO NEED in case of tree based models\n",
    "# outlier treatment\n",
    "# standardization\n",
    "# correlation "
   ]
  },
  {
   "cell_type": "code",
   "execution_count": 6,
   "metadata": {
    "id": "wprXxwVf7fmn"
   },
   "outputs": [],
   "source": [
    "# EDA\n",
    "\n",
    "# categorical vs target (1/0)\n",
    "# numeric vs target (1/0)"
   ]
  },
  {
   "cell_type": "code",
   "execution_count": 7,
   "metadata": {
    "id": "30kol86V7fmr"
   },
   "outputs": [],
   "source": [
    "cat_cols = ['sex','cp','fbs','restecg','exang','slope','ca']\n",
    "num_cols = ['age','trestbps','chol','oldpeak', 'thalach']\n",
    "target_col = 'target'"
   ]
  },
  {
   "cell_type": "code",
   "execution_count": 13,
   "metadata": {
    "id": "ey8jHBeX7fms",
    "outputId": "b1fd5a8c-7d70-4318-bb5d-e69c1c8170b3"
   },
   "outputs": [
    {
     "data": {
      "image/png": "[encoded data removed]",
      "text/plain": [
       "<Figure size 720x720 with 9 Axes>"
      ]
     },
     "metadata": {
      "needs_background": "light"
     },
     "output_type": "display_data"
    }
   ],
   "source": [
    "# categorical vs target (1/0)\n",
    "cat_cols = ['sex','cp','fbs','restecg','exang','slope','ca']\n",
    "fig, axes = plt.subplots(nrows=3, ncols=3, figsize=(10,10))\n",
    "\n",
    "for indx, eachCol in enumerate(cat_cols):\n",
    "    data.groupby([eachCol])[target_col].mean().plot(kind='bar', ax=axes[indx//3,indx%3])"
   ]
  },
  {
   "cell_type": "code",
   "execution_count": 14,
   "metadata": {
    "id": "8Cy5z8Xa7fmu",
    "outputId": "a1ae2608-2626-4f1e-a613-16ef4e4c7fb9"
   },
   "outputs": [
    {
     "data": {
      "text/plain": [
       "<AxesSubplot:xlabel='age_bins'>"
      ]
     },
     "execution_count": 14,
     "metadata": {},
     "output_type": "execute_result"
    },
    {
     "data": {
      "image/png": "[encoded data removed]",
      "text/plain": [
       "<Figure size 432x288 with 1 Axes>"
      ]
     },
     "metadata": {
      "needs_background": "light"
     },
     "output_type": "display_data"
    }
   ],
   "source": [
    "data['age_bins'] = pd.qcut(data['age'], q=3)\n",
    "data.groupby(['age_bins'])[target_col].mean().plot(kind='bar')"
   ]
  },
  {
   "cell_type": "code",
   "execution_count": 15,
   "metadata": {
    "id": "bpeyOWJU7fmw",
    "outputId": "05fe0e61-98d6-419a-cf8f-9b555783a8f8"
   },
   "outputs": [
    {
     "data": {
      "text/plain": [
       "'age_bins'"
      ]
     },
     "execution_count": 15,
     "metadata": {},
     "output_type": "execute_result"
    }
   ],
   "source": [
    "eachCol = 'age'\n",
    "eachCol+'_bins'"
   ]
  },
  {
   "cell_type": "code",
   "execution_count": 16,
   "metadata": {
    "id": "rJFDMhRI7fmx",
    "outputId": "b0e9d3c0-cff3-401c-8f3d-481035dd05f3"
   },
   "outputs": [
    {
     "name": "stdout",
     "output_type": "stream",
     "text": [
      "d\n",
      "r\n",
      "y\n"
     ]
    }
   ],
   "source": [
    "for i in ['d','r','y']:\n",
    "    print(i)"
   ]
  },
  {
   "cell_type": "code",
   "execution_count": 19,
   "metadata": {
    "id": "xGz_bU8y7fmx",
    "outputId": "0f244419-5738-4e08-b1ad-78492a5aaf23"
   },
   "outputs": [
    {
     "name": "stdout",
     "output_type": "stream",
     "text": [
      "0 d\n",
      "1 r\n",
      "2 y\n"
     ]
    }
   ],
   "source": [
    "for index, i in enumerate(['d','r','y']):\n",
    "    print(index, i)"
   ]
  },
  {
   "cell_type": "code",
   "execution_count": 20,
   "metadata": {
    "id": "bMHsM1M-7fmy",
    "outputId": "489b1b42-74ae-4f92-8063-9ed4acbe3897"
   },
   "outputs": [
    {
     "data": {
      "image/png": "[encoded data removed]",
      "text/plain": [
       "<Figure size 1296x1296 with 6 Axes>"
      ]
     },
     "metadata": {
      "needs_background": "light"
     },
     "output_type": "display_data"
    }
   ],
   "source": [
    "# numeric vs target (1/0)\n",
    "num_cols = ['age','trestbps','chol','oldpeak', 'thalach']\n",
    "fig, axes = plt.subplots(nrows=2, ncols=3, figsize=(18,18))\n",
    "\n",
    "for indx, eachCol in enumerate(num_cols):  \n",
    "    data[eachCol+'_bins'] = pd.qcut(data[eachCol], q=3)\n",
    "    data.groupby([eachCol+'_bins'])[target_col].mean().plot(kind='bar', ax=axes[indx//3,indx%3],rot=45)"
   ]
  },
  {
   "cell_type": "code",
   "execution_count": 21,
   "metadata": {
    "id": "-88bJpYO7fm0",
    "outputId": "70b0343d-7b67-4465-8a0b-ee7d83114b62"
   },
   "outputs": [
    {
     "data": {
      "text/plain": [
       "['age', 'trestbps', 'chol', 'oldpeak', 'thalach']"
      ]
     },
     "execution_count": 21,
     "metadata": {},
     "output_type": "execute_result"
    }
   ],
   "source": [
    "num_cols"
   ]
  },
  {
   "cell_type": "code",
   "execution_count": 22,
   "metadata": {
    "id": "q7nyQM757fm2",
    "outputId": "e07fc99d-5d6b-425a-b5e6-386371e564de"
   },
   "outputs": [
    {
     "data": {
      "text/plain": [
       "['sex', 'cp', 'fbs', 'restecg', 'exang', 'slope', 'ca']"
      ]
     },
     "execution_count": 22,
     "metadata": {},
     "output_type": "execute_result"
    }
   ],
   "source": [
    "cat_cols"
   ]
  },
  {
   "cell_type": "code",
   "execution_count": 23,
   "metadata": {
    "id": "Gn8VIo2t7fm3",
    "outputId": "a3d13399-8a11-4375-da2e-d8e6825345c1"
   },
   "outputs": [
    {
     "data": {
      "text/plain": [
       "['age',\n",
       " 'trestbps',\n",
       " 'chol',\n",
       " 'oldpeak',\n",
       " 'thalach',\n",
       " 'sex',\n",
       " 'cp',\n",
       " 'fbs',\n",
       " 'restecg',\n",
       " 'exang',\n",
       " 'slope',\n",
       " 'ca']"
      ]
     },
     "execution_count": 23,
     "metadata": {},
     "output_type": "execute_result"
    }
   ],
   "source": [
    "num_cols+cat_cols"
   ]
  },
  {
   "cell_type": "code",
   "execution_count": 24,
   "metadata": {
    "id": "8CGkNELq7fm3",
    "outputId": "c2f008c5-195d-4206-9d87-20ea2720b121"
   },
   "outputs": [
    {
     "data": {
      "text/plain": [
       "((303, 12), (303,))"
      ]
     },
     "execution_count": 24,
     "metadata": {},
     "output_type": "execute_result"
    }
   ],
   "source": [
    "X = data[num_cols+cat_cols]\n",
    "y = data[target_col]\n",
    "\n",
    "X.shape, y.shape"
   ]
  },
  {
   "cell_type": "code",
   "execution_count": 25,
   "metadata": {
    "id": "vP25qf0p7fm4",
    "outputId": "c455198c-357f-49d9-be6f-be49d3c4487a"
   },
   "outputs": [
    {
     "data": {
      "text/plain": [
       "((212, 12), (91, 12), (212,), (91,))"
      ]
     },
     "execution_count": 25,
     "metadata": {},
     "output_type": "execute_result"
    }
   ],
   "source": [
    "# training test split\n",
    "from sklearn.model_selection import train_test_split \n",
    "X_train, X_test, y_train, y_test = train_test_split(X, y, test_size=0.3, random_state=0)\n",
    "X_train.shape, X_test.shape, y_train.shape, y_test.shape"
   ]
  },
  {
   "cell_type": "code",
   "execution_count": 26,
   "metadata": {
    "id": "GqeVUENP7fm4",
    "outputId": "879eae23-10dc-41eb-9661-566a9756078f"
   },
   "outputs": [
    {
     "data": {
      "text/plain": [
       "DecisionTreeClassifier()"
      ]
     },
     "execution_count": 26,
     "metadata": {},
     "output_type": "execute_result"
    }
   ],
   "source": [
    "# decision tree\n",
    "from sklearn.tree import DecisionTreeClassifier\n",
    "clf = DecisionTreeClassifier()\n",
    "clf.fit(X_train, y_train)"
   ]
  },
  {
   "cell_type": "raw",
   "metadata": {
    "id": "ufWtlLnu7fm5"
   },
   "source": [
    "# test vs train roc-auc scores"
   ]
  },
  {
   "cell_type": "raw",
   "metadata": {
    "id": "DlEIsclv7fm5"
   },
   "source": [
    "# hyperparameter tuning\n",
    "# grid search\n",
    "\n",
    "# max_depth = 3, 5, 7 \n",
    "# min_samples_leaf = 3, 5, 10\n",
    "\n",
    "# 9 model "
   ]
  },
  {
   "cell_type": "code",
   "execution_count": 28,
   "metadata": {
    "id": "nWeXyM-d7fm6",
    "outputId": "c2b7c9ca-6017-46bd-d4d3-273781f3dfe6"
   },
   "outputs": [
    {
     "data": {
      "text/plain": [
       "GridSearchCV(cv=3, estimator=DecisionTreeClassifier(random_state=123),\n",
       "             param_grid={'max_depth': [3, 5, 7],\n",
       "                         'min_samples_leaf': [3, 5, 10]},\n",
       "             scoring='roc_auc')"
      ]
     },
     "execution_count": 28,
     "metadata": {},
     "output_type": "execute_result"
    }
   ],
   "source": [
    "from sklearn.model_selection import GridSearchCV\n",
    "\n",
    "clf = DecisionTreeClassifier(random_state=123)\n",
    "\n",
    "params = {\n",
    "    \n",
    "    'max_depth' : [3, 5, 7],\n",
    "    'min_samples_leaf' : [3, 5, 10]\n",
    "    \n",
    "}\n",
    "\n",
    "grid = GridSearchCV(estimator=clf,\n",
    "                   param_grid=params,\n",
    "                   cv=3,\n",
    "                   scoring='roc_auc')\n",
    "\n",
    "grid.fit(X, y)"
   ]
  },
  {
   "cell_type": "code",
   "execution_count": null,
   "metadata": {
    "id": "B07eLrXN7fm6",
    "outputId": "6b1dd7a8-fa8f-4b3d-836e-df49c2797162"
   },
   "outputs": [
    {
     "data": {
      "text/plain": [
       "{'max_depth': 5, 'min_samples_leaf': 10}"
      ]
     },
     "execution_count": 37,
     "metadata": {},
     "output_type": "execute_result"
    }
   ],
   "source": [
    "grid.best_params_"
   ]
  },
  {
   "cell_type": "code",
   "execution_count": null,
   "metadata": {
    "id": "jsn9QyE37fm7",
    "outputId": "135f2ef7-1fda-4fd4-8c32-cd92531b2272"
   },
   "outputs": [
    {
     "data": {
      "text/plain": [
       "0.8521080368906455"
      ]
     },
     "execution_count": 38,
     "metadata": {},
     "output_type": "execute_result"
    }
   ],
   "source": [
    "grid.best_score_ # test results"
   ]
  },
  {
   "cell_type": "code",
   "execution_count": null,
   "metadata": {
    "id": "gpQVu8aE7fm7",
    "outputId": "7dc1aa6a-4f8b-4db6-eea0-cab2b2ca3381"
   },
   "outputs": [
    {
     "data": {
      "text/plain": [
       "DecisionTreeClassifier(max_depth=5, min_samples_leaf=10, random_state=123)"
      ]
     },
     "execution_count": 39,
     "metadata": {},
     "output_type": "execute_result"
    }
   ],
   "source": [
    "grid.best_estimator_"
   ]
  },
  {
   "cell_type": "code",
   "execution_count": null,
   "metadata": {
    "id": "D0IWODJY7fm8",
    "outputId": "29ab0d62-3a11-4459-ac7b-8f221dfc7035"
   },
   "outputs": [
    {
     "data": {
      "text/plain": [
       "{'mean_fit_time': array([0.00369803, 0.00338642, 0.00347797, 0.00356134, 0.00295758,\n",
       "        0.00257428, 0.00342131, 0.00265773, 0.00280857]),\n",
       " 'std_fit_time': array([1.01100506e-03, 4.37936288e-04, 8.83880761e-04, 7.83055431e-04,\n",
       "        1.45765747e-04, 3.67140528e-05, 5.84318492e-04, 5.74103269e-05,\n",
       "        2.75538651e-04]),\n",
       " 'mean_score_time': array([0.00390108, 0.0027043 , 0.00218773, 0.00262308, 0.00226092,\n",
       "        0.00215308, 0.00233801, 0.00239444, 0.00242758]),\n",
       " 'std_score_time': array([1.31692721e-03, 2.63419648e-04, 4.25415182e-05, 2.92575704e-04,\n",
       "        9.50069369e-05, 1.07423615e-04, 9.11628875e-05, 1.12384628e-04,\n",
       "        2.32522621e-04]),\n",
       " 'param_max_depth': masked_array(data=[3, 3, 3, 5, 5, 5, 7, 7, 7],\n",
       "              mask=[False, False, False, False, False, False, False, False,\n",
       "                    False],\n",
       "        fill_value='?',\n",
       "             dtype=object),\n",
       " 'param_min_samples_leaf': masked_array(data=[3, 5, 10, 3, 5, 10, 3, 5, 10],\n",
       "              mask=[False, False, False, False, False, False, False, False,\n",
       "                    False],\n",
       "        fill_value='?',\n",
       "             dtype=object),\n",
       " 'params': [{'max_depth': 3, 'min_samples_leaf': 3},\n",
       "  {'max_depth': 3, 'min_samples_leaf': 5},\n",
       "  {'max_depth': 3, 'min_samples_leaf': 10},\n",
       "  {'max_depth': 5, 'min_samples_leaf': 3},\n",
       "  {'max_depth': 5, 'min_samples_leaf': 5},\n",
       "  {'max_depth': 5, 'min_samples_leaf': 10},\n",
       "  {'max_depth': 7, 'min_samples_leaf': 3},\n",
       "  {'max_depth': 7, 'min_samples_leaf': 5},\n",
       "  {'max_depth': 7, 'min_samples_leaf': 10}],\n",
       " 'split0_test_score': array([0.79466403, 0.81758893, 0.85494071, 0.81640316, 0.77885375,\n",
       "        0.86106719, 0.79229249, 0.77628458, 0.86106719]),\n",
       " 'split1_test_score': array([0.84031621, 0.84268775, 0.83794466, 0.86996047, 0.89426877,\n",
       "        0.87490119, 0.85158103, 0.87509881, 0.87490119]),\n",
       " 'split2_test_score': array([0.81501976, 0.81501976, 0.83043478, 0.80573123, 0.78675889,\n",
       "        0.82035573, 0.7687747 , 0.78913043, 0.82035573]),\n",
       " 'mean_test_score': array([0.81666667, 0.82509881, 0.84110672, 0.83069829, 0.81996047,\n",
       "        0.85210804, 0.80421607, 0.81350461, 0.85210804]),\n",
       " 'std_test_score': array([0.01867377, 0.0124814 , 0.01025131, 0.02810234, 0.05264292,\n",
       "        0.0231517 , 0.03484107, 0.04386828, 0.0231517 ]),\n",
       " 'rank_test_score': array([7, 5, 3, 4, 6, 1, 9, 8, 1], dtype=int32)}"
      ]
     },
     "execution_count": 40,
     "metadata": {},
     "output_type": "execute_result"
    }
   ],
   "source": [
    "grid.cv_results_"
   ]
  },
  {
   "cell_type": "code",
   "execution_count": null,
   "metadata": {
    "id": "W_z1xAFl7fm8",
    "outputId": "01f8bdcf-31c1-455d-b417-e5c7985295d1"
   },
   "outputs": [
    {
     "data": {
      "text/plain": [
       "array([[0.15384615, 0.84615385],\n",
       "       [0.03030303, 0.96969697],\n",
       "       [0.        , 1.        ],\n",
       "       [0.30769231, 0.69230769],\n",
       "       [0.36363636, 0.63636364],\n",
       "       [0.5       , 0.5       ],\n",
       "       [0.03030303, 0.96969697],\n",
       "       [0.03030303, 0.96969697],\n",
       "       [0.        , 1.        ],\n",
       "       [0.15384615, 0.84615385],\n",
       "       [0.18181818, 0.81818182],\n",
       "       [0.35714286, 0.64285714],\n",
       "       [0.03030303, 0.96969697],\n",
       "       [0.15384615, 0.84615385],\n",
       "       [0.3       , 0.7       ],\n",
       "       [0.        , 1.        ],\n",
       "       [0.3       , 0.7       ],\n",
       "       [0.        , 1.        ],\n",
       "       [0.18181818, 0.81818182],\n",
       "       [0.        , 1.        ],\n",
       "       [0.18181818, 0.81818182],\n",
       "       [0.30769231, 0.69230769],\n",
       "       [0.18181818, 0.81818182],\n",
       "       [0.15384615, 0.84615385],\n",
       "       [0.        , 1.        ],\n",
       "       [0.        , 1.        ],\n",
       "       [0.15384615, 0.84615385],\n",
       "       [0.35714286, 0.64285714],\n",
       "       [0.        , 1.        ],\n",
       "       [0.        , 1.        ],\n",
       "       [0.        , 1.        ],\n",
       "       [0.5       , 0.5       ],\n",
       "       [0.        , 1.        ],\n",
       "       [0.03030303, 0.96969697],\n",
       "       [0.35714286, 0.64285714],\n",
       "       [0.        , 1.        ],\n",
       "       [0.03030303, 0.96969697],\n",
       "       [0.30769231, 0.69230769],\n",
       "       [0.        , 1.        ],\n",
       "       [0.        , 1.        ],\n",
       "       [0.35714286, 0.64285714],\n",
       "       [0.03030303, 0.96969697],\n",
       "       [0.8       , 0.2       ],\n",
       "       [0.08333333, 0.91666667],\n",
       "       [0.03030303, 0.96969697],\n",
       "       [0.03030303, 0.96969697],\n",
       "       [0.30769231, 0.69230769],\n",
       "       [0.03030303, 0.96969697],\n",
       "       [0.35714286, 0.64285714],\n",
       "       [0.08333333, 0.91666667],\n",
       "       [0.03030303, 0.96969697],\n",
       "       [0.5       , 0.5       ],\n",
       "       [0.63636364, 0.36363636],\n",
       "       [0.        , 1.        ],\n",
       "       [0.3       , 0.7       ],\n",
       "       [0.        , 1.        ],\n",
       "       [0.18181818, 0.81818182],\n",
       "       [0.18181818, 0.81818182],\n",
       "       [0.        , 1.        ],\n",
       "       [0.78947368, 0.21052632],\n",
       "       [0.        , 1.        ],\n",
       "       [0.03030303, 0.96969697],\n",
       "       [0.        , 1.        ],\n",
       "       [0.35714286, 0.64285714],\n",
       "       [0.15384615, 0.84615385],\n",
       "       [0.08333333, 0.91666667],\n",
       "       [0.35714286, 0.64285714],\n",
       "       [0.30769231, 0.69230769],\n",
       "       [0.        , 1.        ],\n",
       "       [0.08333333, 0.91666667],\n",
       "       [0.35714286, 0.64285714],\n",
       "       [0.        , 1.        ],\n",
       "       [0.        , 1.        ],\n",
       "       [0.36363636, 0.63636364],\n",
       "       [0.        , 1.        ],\n",
       "       [0.03030303, 0.96969697],\n",
       "       [0.03030303, 0.96969697],\n",
       "       [0.15384615, 0.84615385],\n",
       "       [0.        , 1.        ],\n",
       "       [0.15384615, 0.84615385],\n",
       "       [0.03030303, 0.96969697],\n",
       "       [0.03030303, 0.96969697],\n",
       "       [0.3       , 0.7       ],\n",
       "       [0.03030303, 0.96969697],\n",
       "       [0.08333333, 0.91666667],\n",
       "       [0.        , 1.        ],\n",
       "       [0.85714286, 0.14285714],\n",
       "       [0.        , 1.        ],\n",
       "       [0.        , 1.        ],\n",
       "       [0.08333333, 0.91666667],\n",
       "       [0.03030303, 0.96969697],\n",
       "       [0.36363636, 0.63636364],\n",
       "       [0.        , 1.        ],\n",
       "       [0.03030303, 0.96969697],\n",
       "       [0.35714286, 0.64285714],\n",
       "       [0.36363636, 0.63636364],\n",
       "       [0.08333333, 0.91666667],\n",
       "       [0.78947368, 0.21052632],\n",
       "       [0.03030303, 0.96969697],\n",
       "       [0.03030303, 0.96969697],\n",
       "       [0.03030303, 0.96969697],\n",
       "       [0.85714286, 0.14285714],\n",
       "       [0.3       , 0.7       ],\n",
       "       [0.30769231, 0.69230769],\n",
       "       [0.        , 1.        ],\n",
       "       [0.        , 1.        ],\n",
       "       [0.63636364, 0.36363636],\n",
       "       [0.36363636, 0.63636364],\n",
       "       [0.03030303, 0.96969697],\n",
       "       [0.08333333, 0.91666667],\n",
       "       [0.36363636, 0.63636364],\n",
       "       [0.63636364, 0.36363636],\n",
       "       [0.        , 1.        ],\n",
       "       [0.18181818, 0.81818182],\n",
       "       [0.03030303, 0.96969697],\n",
       "       [0.        , 1.        ],\n",
       "       [0.        , 1.        ],\n",
       "       [0.        , 1.        ],\n",
       "       [0.        , 1.        ],\n",
       "       [0.36363636, 0.63636364],\n",
       "       [0.9       , 0.1       ],\n",
       "       [0.18181818, 0.81818182],\n",
       "       [0.03030303, 0.96969697],\n",
       "       [0.03030303, 0.96969697],\n",
       "       [0.        , 1.        ],\n",
       "       [0.        , 1.        ],\n",
       "       [0.5       , 0.5       ],\n",
       "       [0.        , 1.        ],\n",
       "       [0.        , 1.        ],\n",
       "       [0.        , 1.        ],\n",
       "       [0.        , 1.        ],\n",
       "       [0.03030303, 0.96969697],\n",
       "       [0.03030303, 0.96969697],\n",
       "       [0.30769231, 0.69230769],\n",
       "       [0.03030303, 0.96969697],\n",
       "       [0.08333333, 0.91666667],\n",
       "       [0.3       , 0.7       ],\n",
       "       [0.15384615, 0.84615385],\n",
       "       [0.8       , 0.2       ],\n",
       "       [0.78947368, 0.21052632],\n",
       "       [0.03030303, 0.96969697],\n",
       "       [0.18181818, 0.81818182],\n",
       "       [0.        , 1.        ],\n",
       "       [0.78947368, 0.21052632],\n",
       "       [0.        , 1.        ],\n",
       "       [0.15384615, 0.84615385],\n",
       "       [0.30769231, 0.69230769],\n",
       "       [0.3       , 0.7       ],\n",
       "       [0.        , 1.        ],\n",
       "       [0.        , 1.        ],\n",
       "       [0.5       , 0.5       ],\n",
       "       [0.08333333, 0.91666667],\n",
       "       [0.15384615, 0.84615385],\n",
       "       [0.        , 1.        ],\n",
       "       [0.        , 1.        ],\n",
       "       [0.08333333, 0.91666667],\n",
       "       [0.03030303, 0.96969697],\n",
       "       [0.        , 1.        ],\n",
       "       [0.63636364, 0.36363636],\n",
       "       [0.        , 1.        ],\n",
       "       [0.30769231, 0.69230769],\n",
       "       [0.03030303, 0.96969697],\n",
       "       [0.        , 1.        ],\n",
       "       [0.        , 1.        ],\n",
       "       [0.        , 1.        ],\n",
       "       [1.        , 0.        ],\n",
       "       [1.        , 0.        ],\n",
       "       [1.        , 0.        ],\n",
       "       [1.        , 0.        ],\n",
       "       [1.        , 0.        ],\n",
       "       [0.35714286, 0.64285714],\n",
       "       [0.30769231, 0.69230769],\n",
       "       [0.85714286, 0.14285714],\n",
       "       [0.63636364, 0.36363636],\n",
       "       [1.        , 0.        ],\n",
       "       [0.8       , 0.2       ],\n",
       "       [1.        , 0.        ],\n",
       "       [0.85714286, 0.14285714],\n",
       "       [0.8       , 0.2       ],\n",
       "       [1.        , 0.        ],\n",
       "       [0.9       , 0.1       ],\n",
       "       [1.        , 0.        ],\n",
       "       [0.08333333, 0.91666667],\n",
       "       [0.63636364, 0.36363636],\n",
       "       [0.5       , 0.5       ],\n",
       "       [0.78947368, 0.21052632],\n",
       "       [1.        , 0.        ],\n",
       "       [1.        , 0.        ],\n",
       "       [0.30769231, 0.69230769],\n",
       "       [0.5       , 0.5       ],\n",
       "       [0.8       , 0.2       ],\n",
       "       [1.        , 0.        ],\n",
       "       [1.        , 0.        ],\n",
       "       [1.        , 0.        ],\n",
       "       [0.15384615, 0.84615385],\n",
       "       [1.        , 0.        ],\n",
       "       [0.35714286, 0.64285714],\n",
       "       [0.78947368, 0.21052632],\n",
       "       [1.        , 0.        ],\n",
       "       [1.        , 0.        ],\n",
       "       [0.78947368, 0.21052632],\n",
       "       [1.        , 0.        ],\n",
       "       [1.        , 0.        ],\n",
       "       [0.85714286, 0.14285714],\n",
       "       [1.        , 0.        ],\n",
       "       [0.78947368, 0.21052632],\n",
       "       [1.        , 0.        ],\n",
       "       [1.        , 0.        ],\n",
       "       [0.35714286, 0.64285714],\n",
       "       [0.78947368, 0.21052632],\n",
       "       [0.63636364, 0.36363636],\n",
       "       [1.        , 0.        ],\n",
       "       [0.5       , 0.5       ],\n",
       "       [1.        , 0.        ],\n",
       "       [1.        , 0.        ],\n",
       "       [0.8       , 0.2       ],\n",
       "       [0.3       , 0.7       ],\n",
       "       [0.9       , 0.1       ],\n",
       "       [1.        , 0.        ],\n",
       "       [0.78947368, 0.21052632],\n",
       "       [0.9       , 0.1       ],\n",
       "       [1.        , 0.        ],\n",
       "       [0.85714286, 0.14285714],\n",
       "       [1.        , 0.        ],\n",
       "       [1.        , 0.        ],\n",
       "       [1.        , 0.        ],\n",
       "       [0.85714286, 0.14285714],\n",
       "       [0.8       , 0.2       ],\n",
       "       [0.85714286, 0.14285714],\n",
       "       [0.85714286, 0.14285714],\n",
       "       [0.30769231, 0.69230769],\n",
       "       [1.        , 0.        ],\n",
       "       [1.        , 0.        ],\n",
       "       [1.        , 0.        ],\n",
       "       [0.9       , 0.1       ],\n",
       "       [1.        , 0.        ],\n",
       "       [0.78947368, 0.21052632],\n",
       "       [1.        , 0.        ],\n",
       "       [0.78947368, 0.21052632],\n",
       "       [0.36363636, 0.63636364],\n",
       "       [0.85714286, 0.14285714],\n",
       "       [0.36363636, 0.63636364],\n",
       "       [1.        , 0.        ],\n",
       "       [1.        , 0.        ],\n",
       "       [1.        , 0.        ],\n",
       "       [0.18181818, 0.81818182],\n",
       "       [0.9       , 0.1       ],\n",
       "       [0.85714286, 0.14285714],\n",
       "       [0.03030303, 0.96969697],\n",
       "       [0.85714286, 0.14285714],\n",
       "       [1.        , 0.        ],\n",
       "       [0.78947368, 0.21052632],\n",
       "       [1.        , 0.        ],\n",
       "       [0.9       , 0.1       ],\n",
       "       [0.85714286, 0.14285714],\n",
       "       [0.78947368, 0.21052632],\n",
       "       [1.        , 0.        ],\n",
       "       [1.        , 0.        ],\n",
       "       [1.        , 0.        ],\n",
       "       [0.30769231, 0.69230769],\n",
       "       [1.        , 0.        ],\n",
       "       [0.78947368, 0.21052632],\n",
       "       [1.        , 0.        ],\n",
       "       [1.        , 0.        ],\n",
       "       [0.78947368, 0.21052632],\n",
       "       [0.78947368, 0.21052632],\n",
       "       [1.        , 0.        ],\n",
       "       [0.35714286, 0.64285714],\n",
       "       [1.        , 0.        ],\n",
       "       [0.8       , 0.2       ],\n",
       "       [0.5       , 0.5       ],\n",
       "       [0.63636364, 0.36363636],\n",
       "       [0.5       , 0.5       ],\n",
       "       [0.78947368, 0.21052632],\n",
       "       [1.        , 0.        ],\n",
       "       [1.        , 0.        ],\n",
       "       [1.        , 0.        ],\n",
       "       [0.85714286, 0.14285714],\n",
       "       [0.3       , 0.7       ],\n",
       "       [1.        , 0.        ],\n",
       "       [1.        , 0.        ],\n",
       "       [0.8       , 0.2       ],\n",
       "       [0.63636364, 0.36363636],\n",
       "       [0.18181818, 0.81818182],\n",
       "       [1.        , 0.        ],\n",
       "       [0.9       , 0.1       ],\n",
       "       [0.63636364, 0.36363636],\n",
       "       [0.63636364, 0.36363636],\n",
       "       [0.9       , 0.1       ],\n",
       "       [1.        , 0.        ],\n",
       "       [0.78947368, 0.21052632],\n",
       "       [0.9       , 0.1       ],\n",
       "       [1.        , 0.        ],\n",
       "       [0.15384615, 0.84615385],\n",
       "       [0.8       , 0.2       ],\n",
       "       [1.        , 0.        ],\n",
       "       [0.36363636, 0.63636364],\n",
       "       [1.        , 0.        ],\n",
       "       [0.36363636, 0.63636364],\n",
       "       [0.35714286, 0.64285714],\n",
       "       [1.        , 0.        ],\n",
       "       [1.        , 0.        ],\n",
       "       [0.3       , 0.7       ]])"
      ]
     },
     "execution_count": 42,
     "metadata": {},
     "output_type": "execute_result"
    }
   ],
   "source": [
    "grid.best_estimator_.predict_proba(X)"
   ]
  },
  {
   "cell_type": "code",
   "execution_count": null,
   "metadata": {
    "id": "d0nu-IZD7fm8",
    "outputId": "3a4d9b3b-bc81-4cb6-d645-d8b73ab69674"
   },
   "outputs": [
    {
     "data": {
      "text/plain": [
       "(200, 5)"
      ]
     },
     "execution_count": 43,
     "metadata": {},
     "output_type": "execute_result"
    }
   ],
   "source": [
    "ads_data = pd.read_csv(\"advertising.csv\")\n",
    "ads_data.shape"
   ]
  },
  {
   "cell_type": "code",
   "execution_count": null,
   "metadata": {
    "id": "a3MLJ1Bs7fm9",
    "outputId": "37c37489-e249-4236-f719-3f53fd2ad290"
   },
   "outputs": [
    {
     "data": {
      "text/html": [
       "<div>\n",
       "<style scoped>\n",
       "    .dataframe tbody tr th:only-of-type {\n",
       "        vertical-align: middle;\n",
       "    }\n",
       "\n",
       "    .dataframe tbody tr th {\n",
       "        vertical-align: top;\n",
       "    }\n",
       "\n",
       "    .dataframe thead th {\n",
       "        text-align: right;\n",
       "    }\n",
       "</style>\n",
       "<table border=\"1\" class=\"dataframe\">\n",
       "  <thead>\n",
       "    <tr style=\"text-align: right;\">\n",
       "      <th></th>\n",
       "      <th>Unnamed: 0</th>\n",
       "      <th>TV</th>\n",
       "      <th>Radio</th>\n",
       "      <th>Newspaper</th>\n",
       "      <th>Sales</th>\n",
       "    </tr>\n",
       "  </thead>\n",
       "  <tbody>\n",
       "    <tr>\n",
       "      <th>0</th>\n",
       "      <td>1</td>\n",
       "      <td>230.1</td>\n",
       "      <td>37.8</td>\n",
       "      <td>69.2</td>\n",
       "      <td>22.1</td>\n",
       "    </tr>\n",
       "    <tr>\n",
       "      <th>1</th>\n",
       "      <td>2</td>\n",
       "      <td>44.5</td>\n",
       "      <td>39.3</td>\n",
       "      <td>45.1</td>\n",
       "      <td>10.4</td>\n",
       "    </tr>\n",
       "    <tr>\n",
       "      <th>2</th>\n",
       "      <td>3</td>\n",
       "      <td>17.2</td>\n",
       "      <td>45.9</td>\n",
       "      <td>69.3</td>\n",
       "      <td>9.3</td>\n",
       "    </tr>\n",
       "    <tr>\n",
       "      <th>3</th>\n",
       "      <td>4</td>\n",
       "      <td>151.5</td>\n",
       "      <td>41.3</td>\n",
       "      <td>58.5</td>\n",
       "      <td>18.5</td>\n",
       "    </tr>\n",
       "    <tr>\n",
       "      <th>4</th>\n",
       "      <td>5</td>\n",
       "      <td>180.8</td>\n",
       "      <td>10.8</td>\n",
       "      <td>58.4</td>\n",
       "      <td>12.9</td>\n",
       "    </tr>\n",
       "  </tbody>\n",
       "</table>\n",
       "</div>"
      ],
      "text/plain": [
       "   Unnamed: 0     TV  Radio  Newspaper  Sales\n",
       "0           1  230.1   37.8       69.2   22.1\n",
       "1           2   44.5   39.3       45.1   10.4\n",
       "2           3   17.2   45.9       69.3    9.3\n",
       "3           4  151.5   41.3       58.5   18.5\n",
       "4           5  180.8   10.8       58.4   12.9"
      ]
     },
     "execution_count": 44,
     "metadata": {},
     "output_type": "execute_result"
    }
   ],
   "source": [
    "ads_data.head()"
   ]
  },
  {
   "cell_type": "code",
   "execution_count": null,
   "metadata": {
    "id": "ro2Vc_e57fm-"
   },
   "outputs": [],
   "source": [
    "X = ads_data[['TV','Radio','Newspaper']]\n",
    "y = ads_data['Sales']"
   ]
  },
  {
   "cell_type": "code",
   "execution_count": null,
   "metadata": {
    "id": "5xAnPeyh7fm_"
   },
   "outputs": [],
   "source": [
    "from sklearn.model_selection import train_test_split\n",
    "X_train, X_test, y_train, y_test = train_test_split(X, y , test_size=0.2, random_state=123)"
   ]
  },
  {
   "cell_type": "code",
   "execution_count": null,
   "metadata": {
    "id": "p1X06UYY7fnJ",
    "outputId": "48db3462-8a28-4645-84ef-ef934127d259"
   },
   "outputs": [
    {
     "data": {
      "text/plain": [
       "GridSearchCV(cv=5, estimator=DecisionTreeRegressor(random_state=123),\n",
       "             param_grid={'max_depth': [3, 5, 7],\n",
       "                         'min_samples_leaf': [3, 5, 10]},\n",
       "             scoring='neg_root_mean_squared_error')"
      ]
     },
     "execution_count": 51,
     "metadata": {},
     "output_type": "execute_result"
    }
   ],
   "source": [
    "from sklearn.tree  import DecisionTreeRegressor\n",
    "from sklearn.model_selection import GridSearchCV\n",
    "\n",
    "reg = DecisionTreeRegressor(random_state=123)\n",
    "\n",
    "params = {\n",
    "    \n",
    "    'max_depth' : [3, 5, 7],\n",
    "    'min_samples_leaf' : [3, 5, 10]\n",
    "    \n",
    "}\n",
    "\n",
    "grid = GridSearchCV(estimator=reg,\n",
    "                   param_grid=params,\n",
    "                   cv=5,\n",
    "                   scoring='neg_root_mean_squared_error') #scoring='r2')\n",
    "\n",
    "grid.fit(X, y)"
   ]
  },
  {
   "cell_type": "code",
   "execution_count": null,
   "metadata": {
    "id": "zRptWiGr7fnK",
    "outputId": "35a70121-9b2c-4677-d89b-ad63ce61d888"
   },
   "outputs": [
    {
     "data": {
      "text/plain": [
       "-1.1409350167698835"
      ]
     },
     "execution_count": 52,
     "metadata": {},
     "output_type": "execute_result"
    }
   ],
   "source": [
    "grid.best_score_"
   ]
  },
  {
   "cell_type": "code",
   "execution_count": null,
   "metadata": {
    "id": "uI4TKUc47fnK",
    "outputId": "20209ff7-377e-40d4-ecb6-a09b7a09822f"
   },
   "outputs": [
    {
     "data": {
      "text/plain": [
       "{'max_depth': 7, 'min_samples_leaf': 3}"
      ]
     },
     "execution_count": 53,
     "metadata": {},
     "output_type": "execute_result"
    }
   ],
   "source": [
    "grid.best_params_"
   ]
  },
  {
   "cell_type": "code",
   "execution_count": null,
   "metadata": {
    "id": "567hQ8Al7fnL",
    "outputId": "94c1e723-d7d7-4eed-ef97-02b63d13bbc6"
   },
   "outputs": [
    {
     "data": {
      "text/plain": [
       "DecisionTreeRegressor(max_depth=7, min_samples_leaf=3, random_state=123)"
      ]
     },
     "execution_count": 54,
     "metadata": {},
     "output_type": "execute_result"
    }
   ],
   "source": [
    "grid.best_estimator_"
   ]
  },
  {
   "cell_type": "code",
   "execution_count": null,
   "metadata": {
    "id": "Kor32gvl7fnL",
    "outputId": "f7be4ffd-e89a-46ae-a921-0daaec3b6530"
   },
   "outputs": [
    {
     "data": {
      "text/plain": [
       "dict_keys(['explained_variance', 'r2', 'max_error', 'neg_median_absolute_error', 'neg_mean_absolute_error', 'neg_mean_squared_error', 'neg_mean_squared_log_error', 'neg_root_mean_squared_error', 'neg_mean_poisson_deviance', 'neg_mean_gamma_deviance', 'accuracy', 'roc_auc', 'roc_auc_ovr', 'roc_auc_ovo', 'roc_auc_ovr_weighted', 'roc_auc_ovo_weighted', 'balanced_accuracy', 'average_precision', 'neg_log_loss', 'neg_brier_score', 'adjusted_rand_score', 'homogeneity_score', 'completeness_score', 'v_measure_score', 'mutual_info_score', 'adjusted_mutual_info_score', 'normalized_mutual_info_score', 'fowlkes_mallows_score', 'precision', 'precision_macro', 'precision_micro', 'precision_samples', 'precision_weighted', 'recall', 'recall_macro', 'recall_micro', 'recall_samples', 'recall_weighted', 'f1', 'f1_macro', 'f1_micro', 'f1_samples', 'f1_weighted', 'jaccard', 'jaccard_macro', 'jaccard_micro', 'jaccard_samples', 'jaccard_weighted'])"
      ]
     },
     "execution_count": 59,
     "metadata": {},
     "output_type": "execute_result"
    }
   ],
   "source": [
    "from sklearn.metrics import SCORERS\n",
    "SCORERS.keys()"
   ]
  },
  {
   "cell_type": "code",
   "execution_count": null,
   "metadata": {
    "id": "qiZrbQq67fnM",
    "outputId": "51e80f36-4d5e-4c1b-9660-2c06f4656895"
   },
   "outputs": [
    {
     "data": {
      "text/plain": [
       "array([11.2       ,  9.25555556, 14.3       ,  9.825     , 14.875     ,\n",
       "       20.08333333, 12.36666667, 19.74      , 14.9       ,  7.73333333,\n",
       "       11.78      , 22.46666667,  8.2       ,  6.76666667,  5.6       ,\n",
       "       12.35      , 13.7       , 12.16666667,  6.76666667, 18.62      ,\n",
       "        7.25      , 11.78      ,  8.76666667,  8.2       , 24.4       ,\n",
       "        8.76666667, 10.9       , 15.825     , 11.78      , 22.46666667,\n",
       "       10.925     , 21.9       , 26.2       ,  6.76666667, 14.9       ,\n",
       "       20.08333333, 17.36666667, 19.74      , 17.1       , 10.9       ])"
      ]
     },
     "execution_count": 61,
     "metadata": {},
     "output_type": "execute_result"
    }
   ],
   "source": [
    "grid.best_estimator_.predict(X_test)"
   ]
  },
  {
   "cell_type": "code",
   "execution_count": null,
   "metadata": {
    "id": "Vt1w9A4j7fnM"
   },
   "outputs": [],
   "source": []
  }
 ],
 "metadata": {
  "colab": {
   "provenance": []
  },
  "kernelspec": {
   "display_name": "Python 3 (ipykernel)",
   "language": "python",
   "name": "python3"
  },
  "language_info": {
   "codemirror_mode": {
    "name": "ipython",
    "version": 3
   },
   "file_extension": ".py",
   "mimetype": "text/x-python",
   "name": "python",
   "nbconvert_exporter": "python",
   "pygments_lexer": "ipython3",
   "version": "3.9.12"
  }
 },
 "nbformat": 4,
 "nbformat_minor": 1
}
