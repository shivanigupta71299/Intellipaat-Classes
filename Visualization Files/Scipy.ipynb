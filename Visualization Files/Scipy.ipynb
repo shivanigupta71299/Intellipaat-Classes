{
 "cells": [
  {
   "cell_type": "code",
   "execution_count": 3,
   "id": "31341c74",
   "metadata": {},
   "outputs": [
    {
     "data": {
      "text/plain": [
       "array([3., 4.])"
      ]
     },
     "execution_count": 3,
     "metadata": {},
     "output_type": "execute_result"
    }
   ],
   "source": [
    "# Scientific Python\n",
    "\n",
    "#cube root\n",
    "from scipy.special import cbrt\n",
    "\n",
    "cb=cbrt([27,64])\n",
    "cb"
   ]
  },
  {
   "cell_type": "code",
   "execution_count": 7,
   "id": "38986946",
   "metadata": {},
   "outputs": [],
   "source": [
    "import scipy.special as ss"
   ]
  },
  {
   "cell_type": "code",
   "execution_count": 11,
   "id": "c35c3066",
   "metadata": {},
   "outputs": [
    {
     "data": {
      "text/plain": [
       "array([1.e+01, 1.e+10, 1.e+03])"
      ]
     },
     "execution_count": 11,
     "metadata": {},
     "output_type": "execute_result"
    }
   ],
   "source": [
    "# exponential\n",
    "ss.exp10([1,10,3])"
   ]
  },
  {
   "cell_type": "code",
   "execution_count": 12,
   "id": "9d17d815",
   "metadata": {},
   "outputs": [
    {
     "data": {
      "text/plain": [
       "20.0"
      ]
     },
     "execution_count": 12,
     "metadata": {},
     "output_type": "execute_result"
    }
   ],
   "source": [
    "# Permutations  - nPr = n!/(n-r)!\n",
    "ss.perm(5,2)"
   ]
  },
  {
   "cell_type": "code",
   "execution_count": 16,
   "id": "ac70ae7d",
   "metadata": {},
   "outputs": [
    {
     "data": {
      "text/plain": [
       "2.0"
      ]
     },
     "execution_count": 16,
     "metadata": {},
     "output_type": "execute_result"
    }
   ],
   "source": [
    "ss.perm(2,2)"
   ]
  },
  {
   "cell_type": "code",
   "execution_count": 17,
   "id": "e41e5077",
   "metadata": {},
   "outputs": [
    {
     "data": {
      "text/plain": [
       "10.0"
      ]
     },
     "execution_count": 17,
     "metadata": {},
     "output_type": "execute_result"
    }
   ],
   "source": [
    "# combinations\n",
    "\n",
    "ss.comb(5,2)"
   ]
  },
  {
   "cell_type": "markdown",
   "id": "e2e0a40e",
   "metadata": {},
   "source": [
    "# Linear Algebra\n",
    "\n",
    "Determinant\n",
    "inverse\n",
    "eigen values\n",
    "eigen vector\n"
   ]
  },
  {
   "cell_type": "code",
   "execution_count": 21,
   "id": "fd0a6d25",
   "metadata": {},
   "outputs": [
    {
     "data": {
      "text/plain": [
       "-10.0"
      ]
     },
     "execution_count": 21,
     "metadata": {},
     "output_type": "execute_result"
    }
   ],
   "source": [
    "# Determinant # ad-bc\n",
    "\n",
    "import numpy as np\n",
    "a=np.array([[2,3],[6,4]])\n",
    "\n",
    "import scipy as sc \n",
    "sc.linalg.det(a)"
   ]
  },
  {
   "cell_type": "code",
   "execution_count": 22,
   "id": "9cc485c1",
   "metadata": {},
   "outputs": [
    {
     "data": {
      "text/plain": [
       "array([[-0.4,  0.3],\n",
       "       [ 0.6, -0.2]])"
      ]
     },
     "execution_count": 22,
     "metadata": {},
     "output_type": "execute_result"
    }
   ],
   "source": [
    "# inverse  - adj(a)/det(a)\n",
    "\n",
    "sc.linalg.inv(a)"
   ]
  },
  {
   "cell_type": "code",
   "execution_count": 30,
   "id": "d781be39",
   "metadata": {},
   "outputs": [
    {
     "name": "stdout",
     "output_type": "stream",
     "text": [
      "[-1.35889894+0.j  7.35889894+0.j] \n",
      "\n",
      "\n",
      " [[-0.66613722 -0.48848147]\n",
      " [ 0.7458292  -0.87257427]]\n"
     ]
    }
   ],
   "source": [
    "# Eigen value and eigen vector # mod(A-lambda *I)X=0\n",
    "\n",
    "eigen_val,eigen_vector=sc.linalg.eig(a)\n",
    "print(eigen_val,'\\n\\n\\n',eigen_vector)"
   ]
  },
  {
   "cell_type": "code",
   "execution_count": 34,
   "id": "acfa50b5",
   "metadata": {},
   "outputs": [
    {
     "name": "stdout",
     "output_type": "stream",
     "text": [
      "['Avogadro', 'Boltzmann', 'Btu', 'Btu_IT', 'Btu_th', 'ConstantWarning', 'G', 'Julian_year', 'N_A', 'Planck', 'R', 'Rydberg', 'Stefan_Boltzmann', 'Wien', '__all__', '__builtins__', '__cached__', '__doc__', '__file__', '__loader__', '__name__', '__package__', '__path__', '__spec__', '_obsolete_constants', 'acre', 'alpha', 'angstrom', 'arcmin', 'arcminute', 'arcsec', 'arcsecond', 'astronomical_unit', 'atm', 'atmosphere', 'atomic_mass', 'atto', 'au', 'bar', 'barrel', 'bbl', 'blob', 'c', 'calorie', 'calorie_IT', 'calorie_th', 'carat', 'centi', 'codata', 'constants', 'convert_temperature', 'day', 'deci', 'degree', 'degree_Fahrenheit', 'deka', 'dyn', 'dyne', 'e', 'eV', 'electron_mass', 'electron_volt', 'elementary_charge', 'epsilon_0', 'erg', 'exa', 'exbi', 'femto', 'fermi', 'find', 'fine_structure', 'fluid_ounce', 'fluid_ounce_US', 'fluid_ounce_imp', 'foot', 'g', 'gallon', 'gallon_US', 'gallon_imp', 'gas_constant', 'gibi', 'giga', 'golden', 'golden_ratio', 'grain', 'gram', 'gravitational_constant', 'h', 'hbar', 'hectare', 'hecto', 'horsepower', 'hour', 'hp', 'inch', 'k', 'kgf', 'kibi', 'kilo', 'kilogram_force', 'kmh', 'knot', 'lambda2nu', 'lb', 'lbf', 'light_year', 'liter', 'litre', 'long_ton', 'm_e', 'm_n', 'm_p', 'm_u', 'mach', 'mebi', 'mega', 'metric_ton', 'micro', 'micron', 'mil', 'mile', 'milli', 'minute', 'mmHg', 'mph', 'mu_0', 'nano', 'nautical_mile', 'neutron_mass', 'nu2lambda', 'ounce', 'oz', 'parsec', 'pebi', 'peta', 'physical_constants', 'pi', 'pico', 'point', 'pound', 'pound_force', 'precision', 'proton_mass', 'psi', 'pt', 'short_ton', 'sigma', 'slinch', 'slug', 'speed_of_light', 'speed_of_sound', 'stone', 'survey_foot', 'survey_mile', 'tebi', 'tera', 'test', 'ton_TNT', 'torr', 'troy_ounce', 'troy_pound', 'u', 'unit', 'value', 'week', 'yard', 'year', 'yobi', 'yotta', 'zebi', 'zepto', 'zero_Celsius', 'zetta']\n"
     ]
    }
   ],
   "source": [
    "# Constants\n",
    "\n",
    "from scipy import constants\n",
    "\n",
    "print(dir(constants))"
   ]
  },
  {
   "cell_type": "code",
   "execution_count": 38,
   "id": "33c1ac2a",
   "metadata": {},
   "outputs": [
    {
     "name": "stdout",
     "output_type": "stream",
     "text": [
      "1048576\n"
     ]
    },
    {
     "data": {
      "text/plain": [
       "299792458.0"
      ]
     },
     "execution_count": 38,
     "metadata": {},
     "output_type": "execute_result"
    }
   ],
   "source": [
    "print(constants.mebi)\n",
    "constants.speed_of_light"
   ]
  },
  {
   "cell_type": "code",
   "execution_count": 37,
   "id": "1fc0db8c",
   "metadata": {},
   "outputs": [
    {
     "name": "stdout",
     "output_type": "stream",
     "text": [
      "3.141592653589793\n"
     ]
    }
   ],
   "source": [
    "print(constants.pi)"
   ]
  },
  {
   "cell_type": "code",
   "execution_count": null,
   "id": "de49cada",
   "metadata": {},
   "outputs": [],
   "source": []
  }
 ],
 "metadata": {
  "kernelspec": {
   "display_name": "Python 3 (ipykernel)",
   "language": "python",
   "name": "python3"
  },
  "language_info": {
   "codemirror_mode": {
    "name": "ipython",
    "version": 3
   },
   "file_extension": ".py",
   "mimetype": "text/x-python",
   "name": "python",
   "nbconvert_exporter": "python",
   "pygments_lexer": "ipython3",
   "version": "3.9.12"
  }
 },
 "nbformat": 4,
 "nbformat_minor": 5
}
