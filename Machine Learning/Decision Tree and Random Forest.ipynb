{
 "cells": [
  {
   "cell_type": "code",
   "execution_count": 1,
   "id": "1faa03a2",
   "metadata": {},
   "outputs": [],
   "source": [
    "import numpy as np\n",
    "import pandas as pd\n",
    "import matplotlib.pyplot as plt\n",
    "\n",
    "# https://archive.ics.uci.edu/ml/datasets/heart+disease\n",
    "\n",
    "from warnings import filterwarnings\n",
    "filterwarnings(\"ignore\")\n",
    "# filterwarnings(action='ignore',category=FutureWarning)\n",
    "# from sklearn.exceptions import DataConversionWarning\n",
    "# filterwarnings(action='ignore',category=DataConversionWarning)"
   ]
  },
  {
   "cell_type": "raw",
   "id": "fda83def",
   "metadata": {},
   "source": [
    "BIAS  -  difference bw prediction of model and actual value. High bias gives larger error in data(training and test)\n",
    "            assumption -  simple model - high bias - high error - underfit\n",
    "VARIANCE - amount by which change in data affects the model. \n",
    "            higher the value -  bad is our model. -  overfit"
   ]
  },
  {
   "cell_type": "code",
   "execution_count": 2,
   "id": "3e9955b8",
   "metadata": {},
   "outputs": [
    {
     "data": {
      "text/html": [
       "<div>\n",
       "<style scoped>\n",
       "    .dataframe tbody tr th:only-of-type {\n",
       "        vertical-align: middle;\n",
       "    }\n",
       "\n",
       "    .dataframe tbody tr th {\n",
       "        vertical-align: top;\n",
       "    }\n",
       "\n",
       "    .dataframe thead th {\n",
       "        text-align: right;\n",
       "    }\n",
       "</style>\n",
       "<table border=\"1\" class=\"dataframe\">\n",
       "  <thead>\n",
       "    <tr style=\"text-align: right;\">\n",
       "      <th></th>\n",
       "      <th>age</th>\n",
       "      <th>sex</th>\n",
       "      <th>cp</th>\n",
       "      <th>trestbps</th>\n",
       "      <th>chol</th>\n",
       "      <th>fbs</th>\n",
       "      <th>restecg</th>\n",
       "      <th>thalach</th>\n",
       "      <th>exang</th>\n",
       "      <th>oldpeak</th>\n",
       "      <th>slope</th>\n",
       "      <th>ca</th>\n",
       "      <th>target</th>\n",
       "    </tr>\n",
       "  </thead>\n",
       "  <tbody>\n",
       "    <tr>\n",
       "      <th>0</th>\n",
       "      <td>63</td>\n",
       "      <td>1</td>\n",
       "      <td>3</td>\n",
       "      <td>145</td>\n",
       "      <td>233</td>\n",
       "      <td>1</td>\n",
       "      <td>0</td>\n",
       "      <td>150</td>\n",
       "      <td>0</td>\n",
       "      <td>2.3</td>\n",
       "      <td>0</td>\n",
       "      <td>0</td>\n",
       "      <td>1</td>\n",
       "    </tr>\n",
       "    <tr>\n",
       "      <th>1</th>\n",
       "      <td>37</td>\n",
       "      <td>1</td>\n",
       "      <td>2</td>\n",
       "      <td>130</td>\n",
       "      <td>250</td>\n",
       "      <td>0</td>\n",
       "      <td>1</td>\n",
       "      <td>187</td>\n",
       "      <td>0</td>\n",
       "      <td>3.5</td>\n",
       "      <td>0</td>\n",
       "      <td>0</td>\n",
       "      <td>1</td>\n",
       "    </tr>\n",
       "    <tr>\n",
       "      <th>2</th>\n",
       "      <td>41</td>\n",
       "      <td>0</td>\n",
       "      <td>1</td>\n",
       "      <td>130</td>\n",
       "      <td>204</td>\n",
       "      <td>0</td>\n",
       "      <td>0</td>\n",
       "      <td>172</td>\n",
       "      <td>0</td>\n",
       "      <td>1.4</td>\n",
       "      <td>2</td>\n",
       "      <td>0</td>\n",
       "      <td>1</td>\n",
       "    </tr>\n",
       "    <tr>\n",
       "      <th>3</th>\n",
       "      <td>56</td>\n",
       "      <td>1</td>\n",
       "      <td>1</td>\n",
       "      <td>120</td>\n",
       "      <td>236</td>\n",
       "      <td>0</td>\n",
       "      <td>1</td>\n",
       "      <td>178</td>\n",
       "      <td>0</td>\n",
       "      <td>0.8</td>\n",
       "      <td>2</td>\n",
       "      <td>0</td>\n",
       "      <td>1</td>\n",
       "    </tr>\n",
       "    <tr>\n",
       "      <th>4</th>\n",
       "      <td>57</td>\n",
       "      <td>0</td>\n",
       "      <td>0</td>\n",
       "      <td>120</td>\n",
       "      <td>354</td>\n",
       "      <td>0</td>\n",
       "      <td>1</td>\n",
       "      <td>163</td>\n",
       "      <td>1</td>\n",
       "      <td>0.6</td>\n",
       "      <td>2</td>\n",
       "      <td>0</td>\n",
       "      <td>1</td>\n",
       "    </tr>\n",
       "    <tr>\n",
       "      <th>5</th>\n",
       "      <td>57</td>\n",
       "      <td>1</td>\n",
       "      <td>0</td>\n",
       "      <td>140</td>\n",
       "      <td>192</td>\n",
       "      <td>0</td>\n",
       "      <td>1</td>\n",
       "      <td>148</td>\n",
       "      <td>0</td>\n",
       "      <td>0.4</td>\n",
       "      <td>1</td>\n",
       "      <td>0</td>\n",
       "      <td>1</td>\n",
       "    </tr>\n",
       "    <tr>\n",
       "      <th>6</th>\n",
       "      <td>56</td>\n",
       "      <td>0</td>\n",
       "      <td>1</td>\n",
       "      <td>140</td>\n",
       "      <td>294</td>\n",
       "      <td>0</td>\n",
       "      <td>0</td>\n",
       "      <td>153</td>\n",
       "      <td>0</td>\n",
       "      <td>1.3</td>\n",
       "      <td>1</td>\n",
       "      <td>0</td>\n",
       "      <td>1</td>\n",
       "    </tr>\n",
       "    <tr>\n",
       "      <th>7</th>\n",
       "      <td>44</td>\n",
       "      <td>1</td>\n",
       "      <td>1</td>\n",
       "      <td>120</td>\n",
       "      <td>263</td>\n",
       "      <td>0</td>\n",
       "      <td>1</td>\n",
       "      <td>173</td>\n",
       "      <td>0</td>\n",
       "      <td>0.0</td>\n",
       "      <td>2</td>\n",
       "      <td>0</td>\n",
       "      <td>1</td>\n",
       "    </tr>\n",
       "    <tr>\n",
       "      <th>8</th>\n",
       "      <td>52</td>\n",
       "      <td>1</td>\n",
       "      <td>2</td>\n",
       "      <td>172</td>\n",
       "      <td>199</td>\n",
       "      <td>1</td>\n",
       "      <td>1</td>\n",
       "      <td>162</td>\n",
       "      <td>0</td>\n",
       "      <td>0.5</td>\n",
       "      <td>2</td>\n",
       "      <td>0</td>\n",
       "      <td>1</td>\n",
       "    </tr>\n",
       "    <tr>\n",
       "      <th>9</th>\n",
       "      <td>57</td>\n",
       "      <td>1</td>\n",
       "      <td>2</td>\n",
       "      <td>150</td>\n",
       "      <td>168</td>\n",
       "      <td>0</td>\n",
       "      <td>1</td>\n",
       "      <td>174</td>\n",
       "      <td>0</td>\n",
       "      <td>1.6</td>\n",
       "      <td>2</td>\n",
       "      <td>0</td>\n",
       "      <td>1</td>\n",
       "    </tr>\n",
       "  </tbody>\n",
       "</table>\n",
       "</div>"
      ],
      "text/plain": [
       "   age  sex  cp  trestbps  chol  fbs  restecg  thalach  exang  oldpeak  slope  \\\n",
       "0   63    1   3       145   233    1        0      150      0      2.3      0   \n",
       "1   37    1   2       130   250    0        1      187      0      3.5      0   \n",
       "2   41    0   1       130   204    0        0      172      0      1.4      2   \n",
       "3   56    1   1       120   236    0        1      178      0      0.8      2   \n",
       "4   57    0   0       120   354    0        1      163      1      0.6      2   \n",
       "5   57    1   0       140   192    0        1      148      0      0.4      1   \n",
       "6   56    0   1       140   294    0        0      153      0      1.3      1   \n",
       "7   44    1   1       120   263    0        1      173      0      0.0      2   \n",
       "8   52    1   2       172   199    1        1      162      0      0.5      2   \n",
       "9   57    1   2       150   168    0        1      174      0      1.6      2   \n",
       "\n",
       "   ca  target  \n",
       "0   0       1  \n",
       "1   0       1  \n",
       "2   0       1  \n",
       "3   0       1  \n",
       "4   0       1  \n",
       "5   0       1  \n",
       "6   0       1  \n",
       "7   0       1  \n",
       "8   0       1  \n",
       "9   0       1  "
      ]
     },
     "execution_count": 2,
     "metadata": {},
     "output_type": "execute_result"
    }
   ],
   "source": [
    "data=pd.read_csv('heart1.csv')\n",
    "data.head(10)"
   ]
  },
  {
   "cell_type": "code",
   "execution_count": 3,
   "id": "3dae755a",
   "metadata": {},
   "outputs": [
    {
     "data": {
      "text/html": [
       "<div>\n",
       "<style scoped>\n",
       "    .dataframe tbody tr th:only-of-type {\n",
       "        vertical-align: middle;\n",
       "    }\n",
       "\n",
       "    .dataframe tbody tr th {\n",
       "        vertical-align: top;\n",
       "    }\n",
       "\n",
       "    .dataframe thead th {\n",
       "        text-align: right;\n",
       "    }\n",
       "</style>\n",
       "<table border=\"1\" class=\"dataframe\">\n",
       "  <thead>\n",
       "    <tr style=\"text-align: right;\">\n",
       "      <th></th>\n",
       "      <th>age</th>\n",
       "      <th>sex</th>\n",
       "      <th>cp</th>\n",
       "      <th>trestbps</th>\n",
       "      <th>chol</th>\n",
       "      <th>fbs</th>\n",
       "      <th>restecg</th>\n",
       "      <th>thalach</th>\n",
       "      <th>exang</th>\n",
       "      <th>oldpeak</th>\n",
       "      <th>slope</th>\n",
       "      <th>ca</th>\n",
       "      <th>target</th>\n",
       "    </tr>\n",
       "  </thead>\n",
       "  <tbody>\n",
       "    <tr>\n",
       "      <th>count</th>\n",
       "      <td>303.000000</td>\n",
       "      <td>303.000000</td>\n",
       "      <td>303.000000</td>\n",
       "      <td>303.000000</td>\n",
       "      <td>303.000000</td>\n",
       "      <td>303.000000</td>\n",
       "      <td>303.000000</td>\n",
       "      <td>303.000000</td>\n",
       "      <td>303.000000</td>\n",
       "      <td>303.000000</td>\n",
       "      <td>303.000000</td>\n",
       "      <td>303.000000</td>\n",
       "      <td>303.000000</td>\n",
       "    </tr>\n",
       "    <tr>\n",
       "      <th>mean</th>\n",
       "      <td>54.366337</td>\n",
       "      <td>0.683168</td>\n",
       "      <td>0.966997</td>\n",
       "      <td>131.623762</td>\n",
       "      <td>246.264026</td>\n",
       "      <td>0.148515</td>\n",
       "      <td>0.528053</td>\n",
       "      <td>149.646865</td>\n",
       "      <td>0.326733</td>\n",
       "      <td>1.039604</td>\n",
       "      <td>1.399340</td>\n",
       "      <td>0.729373</td>\n",
       "      <td>0.544554</td>\n",
       "    </tr>\n",
       "    <tr>\n",
       "      <th>std</th>\n",
       "      <td>9.082101</td>\n",
       "      <td>0.466011</td>\n",
       "      <td>1.032052</td>\n",
       "      <td>17.538143</td>\n",
       "      <td>51.830751</td>\n",
       "      <td>0.356198</td>\n",
       "      <td>0.525860</td>\n",
       "      <td>22.905161</td>\n",
       "      <td>0.469794</td>\n",
       "      <td>1.161075</td>\n",
       "      <td>0.616226</td>\n",
       "      <td>1.022606</td>\n",
       "      <td>0.498835</td>\n",
       "    </tr>\n",
       "    <tr>\n",
       "      <th>min</th>\n",
       "      <td>29.000000</td>\n",
       "      <td>0.000000</td>\n",
       "      <td>0.000000</td>\n",
       "      <td>94.000000</td>\n",
       "      <td>126.000000</td>\n",
       "      <td>0.000000</td>\n",
       "      <td>0.000000</td>\n",
       "      <td>71.000000</td>\n",
       "      <td>0.000000</td>\n",
       "      <td>0.000000</td>\n",
       "      <td>0.000000</td>\n",
       "      <td>0.000000</td>\n",
       "      <td>0.000000</td>\n",
       "    </tr>\n",
       "    <tr>\n",
       "      <th>25%</th>\n",
       "      <td>47.500000</td>\n",
       "      <td>0.000000</td>\n",
       "      <td>0.000000</td>\n",
       "      <td>120.000000</td>\n",
       "      <td>211.000000</td>\n",
       "      <td>0.000000</td>\n",
       "      <td>0.000000</td>\n",
       "      <td>133.500000</td>\n",
       "      <td>0.000000</td>\n",
       "      <td>0.000000</td>\n",
       "      <td>1.000000</td>\n",
       "      <td>0.000000</td>\n",
       "      <td>0.000000</td>\n",
       "    </tr>\n",
       "    <tr>\n",
       "      <th>50%</th>\n",
       "      <td>55.000000</td>\n",
       "      <td>1.000000</td>\n",
       "      <td>1.000000</td>\n",
       "      <td>130.000000</td>\n",
       "      <td>240.000000</td>\n",
       "      <td>0.000000</td>\n",
       "      <td>1.000000</td>\n",
       "      <td>153.000000</td>\n",
       "      <td>0.000000</td>\n",
       "      <td>0.800000</td>\n",
       "      <td>1.000000</td>\n",
       "      <td>0.000000</td>\n",
       "      <td>1.000000</td>\n",
       "    </tr>\n",
       "    <tr>\n",
       "      <th>75%</th>\n",
       "      <td>61.000000</td>\n",
       "      <td>1.000000</td>\n",
       "      <td>2.000000</td>\n",
       "      <td>140.000000</td>\n",
       "      <td>274.500000</td>\n",
       "      <td>0.000000</td>\n",
       "      <td>1.000000</td>\n",
       "      <td>166.000000</td>\n",
       "      <td>1.000000</td>\n",
       "      <td>1.600000</td>\n",
       "      <td>2.000000</td>\n",
       "      <td>1.000000</td>\n",
       "      <td>1.000000</td>\n",
       "    </tr>\n",
       "    <tr>\n",
       "      <th>max</th>\n",
       "      <td>77.000000</td>\n",
       "      <td>1.000000</td>\n",
       "      <td>3.000000</td>\n",
       "      <td>200.000000</td>\n",
       "      <td>564.000000</td>\n",
       "      <td>1.000000</td>\n",
       "      <td>2.000000</td>\n",
       "      <td>202.000000</td>\n",
       "      <td>1.000000</td>\n",
       "      <td>6.200000</td>\n",
       "      <td>2.000000</td>\n",
       "      <td>4.000000</td>\n",
       "      <td>1.000000</td>\n",
       "    </tr>\n",
       "  </tbody>\n",
       "</table>\n",
       "</div>"
      ],
      "text/plain": [
       "              age         sex          cp    trestbps        chol         fbs  \\\n",
       "count  303.000000  303.000000  303.000000  303.000000  303.000000  303.000000   \n",
       "mean    54.366337    0.683168    0.966997  131.623762  246.264026    0.148515   \n",
       "std      9.082101    0.466011    1.032052   17.538143   51.830751    0.356198   \n",
       "min     29.000000    0.000000    0.000000   94.000000  126.000000    0.000000   \n",
       "25%     47.500000    0.000000    0.000000  120.000000  211.000000    0.000000   \n",
       "50%     55.000000    1.000000    1.000000  130.000000  240.000000    0.000000   \n",
       "75%     61.000000    1.000000    2.000000  140.000000  274.500000    0.000000   \n",
       "max     77.000000    1.000000    3.000000  200.000000  564.000000    1.000000   \n",
       "\n",
       "          restecg     thalach       exang     oldpeak       slope          ca  \\\n",
       "count  303.000000  303.000000  303.000000  303.000000  303.000000  303.000000   \n",
       "mean     0.528053  149.646865    0.326733    1.039604    1.399340    0.729373   \n",
       "std      0.525860   22.905161    0.469794    1.161075    0.616226    1.022606   \n",
       "min      0.000000   71.000000    0.000000    0.000000    0.000000    0.000000   \n",
       "25%      0.000000  133.500000    0.000000    0.000000    1.000000    0.000000   \n",
       "50%      1.000000  153.000000    0.000000    0.800000    1.000000    0.000000   \n",
       "75%      1.000000  166.000000    1.000000    1.600000    2.000000    1.000000   \n",
       "max      2.000000  202.000000    1.000000    6.200000    2.000000    4.000000   \n",
       "\n",
       "           target  \n",
       "count  303.000000  \n",
       "mean     0.544554  \n",
       "std      0.498835  \n",
       "min      0.000000  \n",
       "25%      0.000000  \n",
       "50%      1.000000  \n",
       "75%      1.000000  \n",
       "max      1.000000  "
      ]
     },
     "execution_count": 3,
     "metadata": {},
     "output_type": "execute_result"
    }
   ],
   "source": [
    "data.describe()"
   ]
  },
  {
   "cell_type": "raw",
   "id": "f505e850",
   "metadata": {},
   "source": [
    "count same -  nothing is missing\n",
    "mean and median similar"
   ]
  },
  {
   "cell_type": "raw",
   "id": "f95d3e23",
   "metadata": {},
   "source": [
    "--> do following things for Decision tree - \n",
    "\n",
    "EDA\n",
    "CATEGORY TO numeric transformation\n",
    "missing value imputation\n",
    "\n",
    "-->  We dont need to do following for decision tree and random forest\n",
    "\n",
    "1. outlier - outlier get adjusted easily in tree based models eg - we have a case that x>40 and our outlier value is 10000 then in this case it is still greater than 40. In case of very high value rules will not be altered by that so it doest not affect predictions.\n",
    "\n",
    "2. standardization\n",
    "3. Correlation "
   ]
  },
  {
   "cell_type": "markdown",
   "id": "6bdc843b",
   "metadata": {},
   "source": [
    "# EDA"
   ]
  },
  {
   "cell_type": "code",
   "execution_count": 4,
   "id": "2cc5baeb",
   "metadata": {
    "scrolled": true
   },
   "outputs": [
    {
     "data": {
      "text/html": [
       "<div>\n",
       "<style scoped>\n",
       "    .dataframe tbody tr th:only-of-type {\n",
       "        vertical-align: middle;\n",
       "    }\n",
       "\n",
       "    .dataframe tbody tr th {\n",
       "        vertical-align: top;\n",
       "    }\n",
       "\n",
       "    .dataframe thead th {\n",
       "        text-align: right;\n",
       "    }\n",
       "</style>\n",
       "<table border=\"1\" class=\"dataframe\">\n",
       "  <thead>\n",
       "    <tr style=\"text-align: right;\">\n",
       "      <th></th>\n",
       "      <th>age</th>\n",
       "      <th>sex</th>\n",
       "      <th>cp</th>\n",
       "      <th>trestbps</th>\n",
       "      <th>chol</th>\n",
       "      <th>fbs</th>\n",
       "      <th>restecg</th>\n",
       "      <th>thalach</th>\n",
       "      <th>exang</th>\n",
       "      <th>oldpeak</th>\n",
       "      <th>slope</th>\n",
       "      <th>ca</th>\n",
       "      <th>target</th>\n",
       "    </tr>\n",
       "  </thead>\n",
       "  <tbody>\n",
       "    <tr>\n",
       "      <th>0</th>\n",
       "      <td>63</td>\n",
       "      <td>1</td>\n",
       "      <td>3</td>\n",
       "      <td>145</td>\n",
       "      <td>233</td>\n",
       "      <td>1</td>\n",
       "      <td>0</td>\n",
       "      <td>150</td>\n",
       "      <td>0</td>\n",
       "      <td>2.3</td>\n",
       "      <td>0</td>\n",
       "      <td>0</td>\n",
       "      <td>1</td>\n",
       "    </tr>\n",
       "    <tr>\n",
       "      <th>1</th>\n",
       "      <td>37</td>\n",
       "      <td>1</td>\n",
       "      <td>2</td>\n",
       "      <td>130</td>\n",
       "      <td>250</td>\n",
       "      <td>0</td>\n",
       "      <td>1</td>\n",
       "      <td>187</td>\n",
       "      <td>0</td>\n",
       "      <td>3.5</td>\n",
       "      <td>0</td>\n",
       "      <td>0</td>\n",
       "      <td>1</td>\n",
       "    </tr>\n",
       "    <tr>\n",
       "      <th>2</th>\n",
       "      <td>41</td>\n",
       "      <td>0</td>\n",
       "      <td>1</td>\n",
       "      <td>130</td>\n",
       "      <td>204</td>\n",
       "      <td>0</td>\n",
       "      <td>0</td>\n",
       "      <td>172</td>\n",
       "      <td>0</td>\n",
       "      <td>1.4</td>\n",
       "      <td>2</td>\n",
       "      <td>0</td>\n",
       "      <td>1</td>\n",
       "    </tr>\n",
       "    <tr>\n",
       "      <th>3</th>\n",
       "      <td>56</td>\n",
       "      <td>1</td>\n",
       "      <td>1</td>\n",
       "      <td>120</td>\n",
       "      <td>236</td>\n",
       "      <td>0</td>\n",
       "      <td>1</td>\n",
       "      <td>178</td>\n",
       "      <td>0</td>\n",
       "      <td>0.8</td>\n",
       "      <td>2</td>\n",
       "      <td>0</td>\n",
       "      <td>1</td>\n",
       "    </tr>\n",
       "    <tr>\n",
       "      <th>4</th>\n",
       "      <td>57</td>\n",
       "      <td>0</td>\n",
       "      <td>0</td>\n",
       "      <td>120</td>\n",
       "      <td>354</td>\n",
       "      <td>0</td>\n",
       "      <td>1</td>\n",
       "      <td>163</td>\n",
       "      <td>1</td>\n",
       "      <td>0.6</td>\n",
       "      <td>2</td>\n",
       "      <td>0</td>\n",
       "      <td>1</td>\n",
       "    </tr>\n",
       "  </tbody>\n",
       "</table>\n",
       "</div>"
      ],
      "text/plain": [
       "   age  sex  cp  trestbps  chol  fbs  restecg  thalach  exang  oldpeak  slope  \\\n",
       "0   63    1   3       145   233    1        0      150      0      2.3      0   \n",
       "1   37    1   2       130   250    0        1      187      0      3.5      0   \n",
       "2   41    0   1       130   204    0        0      172      0      1.4      2   \n",
       "3   56    1   1       120   236    0        1      178      0      0.8      2   \n",
       "4   57    0   0       120   354    0        1      163      1      0.6      2   \n",
       "\n",
       "   ca  target  \n",
       "0   0       1  \n",
       "1   0       1  \n",
       "2   0       1  \n",
       "3   0       1  \n",
       "4   0       1  "
      ]
     },
     "execution_count": 4,
     "metadata": {},
     "output_type": "execute_result"
    }
   ],
   "source": [
    "data.head()"
   ]
  },
  {
   "cell_type": "code",
   "execution_count": 5,
   "id": "0e07fe6e",
   "metadata": {},
   "outputs": [],
   "source": [
    "cat_cols = ['sex','cp','fbs','restecg','exang','slope','ca']\n",
    "num_cols = ['age','trestbps','chol','thalach','oldpeak']\n",
    "\n",
    "target_variable=['target']"
   ]
  },
  {
   "cell_type": "code",
   "execution_count": 6,
   "id": "e43be6b6",
   "metadata": {},
   "outputs": [
    {
     "data": {
      "text/plain": [
       "2    142\n",
       "1    140\n",
       "0     21\n",
       "Name: slope, dtype: int64"
      ]
     },
     "execution_count": 6,
     "metadata": {},
     "output_type": "execute_result"
    }
   ],
   "source": [
    "data['slope'].value_counts()"
   ]
  },
  {
   "cell_type": "code",
   "execution_count": 7,
   "id": "a95796c7",
   "metadata": {},
   "outputs": [],
   "source": [
    "# categarical data vs target "
   ]
  },
  {
   "cell_type": "code",
   "execution_count": 8,
   "id": "c73cff1f",
   "metadata": {},
   "outputs": [
    {
     "data": {
      "text/plain": [
       "<AxesSubplot:xlabel='sex'>"
      ]
     },
     "execution_count": 8,
     "metadata": {},
     "output_type": "execute_result"
    },
    {
     "data": {
      "image/png": "[encoded data removed]",
      "text/plain": [
       "<Figure size 432x288 with 1 Axes>"
      ]
     },
     "metadata": {
      "needs_background": "light"
     },
     "output_type": "display_data"
    }
   ],
   "source": [
    "data.groupby(['sex'])[target_variable].mean().plot(kind='bar')"
   ]
  },
  {
   "cell_type": "code",
   "execution_count": 9,
   "id": "a5b70928",
   "metadata": {},
   "outputs": [
    {
     "data": {
      "image/png": "[encoded data removed]",
      "text/plain": [
       "<Figure size 432x288 with 1 Axes>"
      ]
     },
     "metadata": {
      "needs_background": "light"
     },
     "output_type": "display_data"
    },
    {
     "data": {
      "image/png": "[encoded data removed]",
      "text/plain": [
       "<Figure size 432x288 with 1 Axes>"
      ]
     },
     "metadata": {
      "needs_background": "light"
     },
     "output_type": "display_data"
    },
    {
     "data": {
      "image/png": "[encoded data removed]",
      "text/plain": [
       "<Figure size 432x288 with 1 Axes>"
      ]
     },
     "metadata": {
      "needs_background": "light"
     },
     "output_type": "display_data"
    },
    {
     "data": {
      "image/png": "[encoded data removed]",
      "text/plain": [
       "<Figure size 432x288 with 1 Axes>"
      ]
     },
     "metadata": {
      "needs_background": "light"
     },
     "output_type": "display_data"
    },
    {
     "data": {
      "image/png": "[encoded data removed]",
      "text/plain": [
       "<Figure size 432x288 with 1 Axes>"
      ]
     },
     "metadata": {
      "needs_background": "light"
     },
     "output_type": "display_data"
    },
    {
     "data": {
      "image/png": "[encoded data removed]",
      "text/plain": [
       "<Figure size 432x288 with 1 Axes>"
      ]
     },
     "metadata": {
      "needs_background": "light"
     },
     "output_type": "display_data"
    },
    {
     "data": {
      "image/png": "[encoded data removed]",
      "text/plain": [
       "<Figure size 432x288 with 1 Axes>"
      ]
     },
     "metadata": {
      "needs_background": "light"
     },
     "output_type": "display_data"
    }
   ],
   "source": [
    "# apply above query in the for loop\n",
    "\n",
    "for each_col in cat_cols:\n",
    "    data.groupby([each_col])[target_variable].mean().plot(kind='bar')"
   ]
  },
  {
   "cell_type": "code",
   "execution_count": 10,
   "id": "6e24c6a9",
   "metadata": {},
   "outputs": [
    {
     "data": {
      "image/png": "[encoded data removed]",
      "text/plain": [
       "<Figure size 1296x1296 with 9 Axes>"
      ]
     },
     "metadata": {
      "needs_background": "light"
     },
     "output_type": "display_data"
    }
   ],
   "source": [
    "# using subplot for a better view\n",
    "\n",
    "fig,axes = plt.subplots(3,3)\n",
    "for index, each_col in enumerate(cat_cols):\n",
    "    data.groupby([each_col])[target_variable].mean().plot(kind='bar',figsize=(18,18),ax=axes[int(index/3),index%3])"
   ]
  },
  {
   "cell_type": "code",
   "execution_count": 11,
   "id": "abcb0bb6",
   "metadata": {},
   "outputs": [
    {
     "data": {
      "image/png": "[encoded data removed]",
      "text/plain": [
       "<Figure size 720x720 with 9 Axes>"
      ]
     },
     "metadata": {
      "needs_background": "light"
     },
     "output_type": "display_data"
    }
   ],
   "source": [
    "# flooring instead of integer\n",
    "fig,axes = plt.subplots(3,3)\n",
    "for index, each_col in enumerate(cat_cols):\n",
    "    data.groupby([each_col])[target_variable].mean().plot(kind='bar',figsize=(10,10),ax=axes[index//3,index%3])"
   ]
  },
  {
   "cell_type": "raw",
   "id": "6bc281a6",
   "metadata": {},
   "source": [
    "# for numeric"
   ]
  },
  {
   "cell_type": "code",
   "execution_count": 12,
   "id": "a49d4ace",
   "metadata": {},
   "outputs": [
    {
     "data": {
      "image/png": "[encoded data removed]",
      "text/plain": [
       "<Figure size 720x720 with 6 Axes>"
      ]
     },
     "metadata": {
      "needs_background": "light"
     },
     "output_type": "display_data"
    }
   ],
   "source": [
    "num_cols = ['age','trestbps','chol','thalach','oldpeak']\n",
    "\n",
    "fig,axes = plt.subplots(2,3)\n",
    "for index, each_col in enumerate(num_cols):\n",
    "    data.groupby([each_col])[target_variable].mean().plot(kind='hist',figsize=(10,10),ax=axes[index//3,index%3])"
   ]
  },
  {
   "cell_type": "code",
   "execution_count": 13,
   "id": "1316d314",
   "metadata": {},
   "outputs": [
    {
     "data": {
      "text/plain": [
       "<AxesSubplot:xlabel='age_bin'>"
      ]
     },
     "execution_count": 13,
     "metadata": {},
     "output_type": "execute_result"
    },
    {
     "data": {
      "image/png": "[encoded data removed]",
      "text/plain": [
       "<Figure size 432x288 with 1 Axes>"
      ]
     },
     "metadata": {
      "needs_background": "light"
     },
     "output_type": "display_data"
    }
   ],
   "source": [
    "data['age_bin'] = pd.qcut(data['age'],q=5)\n",
    "data.groupby(['age_bin'])[target_variable].mean().plot(kind='bar')"
   ]
  },
  {
   "cell_type": "code",
   "execution_count": 14,
   "id": "e523d229",
   "metadata": {},
   "outputs": [
    {
     "data": {
      "image/png": "[encoded data removed]",
      "text/plain": [
       "<Figure size 720x720 with 6 Axes>"
      ]
     },
     "metadata": {
      "needs_background": "light"
     },
     "output_type": "display_data"
    }
   ],
   "source": [
    "# making dynamic\n",
    "num_cols = ['age','trestbps','chol','thalach','oldpeak']\n",
    "\n",
    "fig,axes = plt.subplots(2,3)\n",
    "for index, each_col in enumerate(num_cols):\n",
    "#     data.groupby([each_col])[target_variable].mean().plot(kind='hist',figsize=(10,10),ax=axes[index//3,index%3])\n",
    "    data[each_col+'_bin'] = pd.qcut(data[each_col],q=5,duplicates='drop')\n",
    "    data.groupby([each_col + '_bin'])[target_variable].mean().plot(kind='bar',figsize=(10,10),ax=axes[index//3,index%3],rot=45)"
   ]
  },
  {
   "cell_type": "code",
   "execution_count": 15,
   "id": "af54b967",
   "metadata": {},
   "outputs": [],
   "source": [
    "# train test\n",
    "\n",
    "X=data[cat_cols+num_cols]\n",
    "Y=data[target_variable]\n",
    "from sklearn.model_selection import train_test_split\n",
    "x_train,x_test,y_train,y_test = train_test_split(X,Y,test_size=0.3)"
   ]
  },
  {
   "cell_type": "code",
   "execution_count": 16,
   "id": "3da9c846",
   "metadata": {},
   "outputs": [
    {
     "data": {
      "text/html": [
       "<div>\n",
       "<style scoped>\n",
       "    .dataframe tbody tr th:only-of-type {\n",
       "        vertical-align: middle;\n",
       "    }\n",
       "\n",
       "    .dataframe tbody tr th {\n",
       "        vertical-align: top;\n",
       "    }\n",
       "\n",
       "    .dataframe thead th {\n",
       "        text-align: right;\n",
       "    }\n",
       "</style>\n",
       "<table border=\"1\" class=\"dataframe\">\n",
       "  <thead>\n",
       "    <tr style=\"text-align: right;\">\n",
       "      <th></th>\n",
       "      <th>sex</th>\n",
       "      <th>cp</th>\n",
       "      <th>fbs</th>\n",
       "      <th>restecg</th>\n",
       "      <th>exang</th>\n",
       "      <th>slope</th>\n",
       "      <th>ca</th>\n",
       "      <th>age</th>\n",
       "      <th>trestbps</th>\n",
       "      <th>chol</th>\n",
       "      <th>thalach</th>\n",
       "      <th>oldpeak</th>\n",
       "    </tr>\n",
       "  </thead>\n",
       "  <tbody>\n",
       "    <tr>\n",
       "      <th>43</th>\n",
       "      <td>0</td>\n",
       "      <td>0</td>\n",
       "      <td>0</td>\n",
       "      <td>0</td>\n",
       "      <td>0</td>\n",
       "      <td>1</td>\n",
       "      <td>0</td>\n",
       "      <td>53</td>\n",
       "      <td>130</td>\n",
       "      <td>264</td>\n",
       "      <td>143</td>\n",
       "      <td>0.4</td>\n",
       "    </tr>\n",
       "    <tr>\n",
       "      <th>150</th>\n",
       "      <td>1</td>\n",
       "      <td>0</td>\n",
       "      <td>0</td>\n",
       "      <td>0</td>\n",
       "      <td>0</td>\n",
       "      <td>2</td>\n",
       "      <td>0</td>\n",
       "      <td>66</td>\n",
       "      <td>160</td>\n",
       "      <td>228</td>\n",
       "      <td>138</td>\n",
       "      <td>2.3</td>\n",
       "    </tr>\n",
       "    <tr>\n",
       "      <th>167</th>\n",
       "      <td>0</td>\n",
       "      <td>0</td>\n",
       "      <td>0</td>\n",
       "      <td>0</td>\n",
       "      <td>0</td>\n",
       "      <td>0</td>\n",
       "      <td>2</td>\n",
       "      <td>62</td>\n",
       "      <td>140</td>\n",
       "      <td>268</td>\n",
       "      <td>160</td>\n",
       "      <td>3.6</td>\n",
       "    </tr>\n",
       "    <tr>\n",
       "      <th>182</th>\n",
       "      <td>0</td>\n",
       "      <td>0</td>\n",
       "      <td>0</td>\n",
       "      <td>0</td>\n",
       "      <td>0</td>\n",
       "      <td>2</td>\n",
       "      <td>0</td>\n",
       "      <td>61</td>\n",
       "      <td>130</td>\n",
       "      <td>330</td>\n",
       "      <td>169</td>\n",
       "      <td>0.0</td>\n",
       "    </tr>\n",
       "    <tr>\n",
       "      <th>231</th>\n",
       "      <td>1</td>\n",
       "      <td>0</td>\n",
       "      <td>1</td>\n",
       "      <td>0</td>\n",
       "      <td>0</td>\n",
       "      <td>1</td>\n",
       "      <td>3</td>\n",
       "      <td>57</td>\n",
       "      <td>165</td>\n",
       "      <td>289</td>\n",
       "      <td>124</td>\n",
       "      <td>1.0</td>\n",
       "    </tr>\n",
       "  </tbody>\n",
       "</table>\n",
       "</div>"
      ],
      "text/plain": [
       "     sex  cp  fbs  restecg  exang  slope  ca  age  trestbps  chol  thalach  \\\n",
       "43     0   0    0        0      0      1   0   53       130   264      143   \n",
       "150    1   0    0        0      0      2   0   66       160   228      138   \n",
       "167    0   0    0        0      0      0   2   62       140   268      160   \n",
       "182    0   0    0        0      0      2   0   61       130   330      169   \n",
       "231    1   0    1        0      0      1   3   57       165   289      124   \n",
       "\n",
       "     oldpeak  \n",
       "43       0.4  \n",
       "150      2.3  \n",
       "167      3.6  \n",
       "182      0.0  \n",
       "231      1.0  "
      ]
     },
     "execution_count": 16,
     "metadata": {},
     "output_type": "execute_result"
    }
   ],
   "source": [
    "x_train.head()\n",
    "x_test.head()"
   ]
  },
  {
   "cell_type": "code",
   "execution_count": 17,
   "id": "51902744",
   "metadata": {
    "scrolled": true
   },
   "outputs": [
    {
     "data": {
      "text/plain": [
       "DecisionTreeClassifier()"
      ]
     },
     "execution_count": 17,
     "metadata": {},
     "output_type": "execute_result"
    }
   ],
   "source": [
    "# decision tree\n",
    "\n",
    "from sklearn.tree import DecisionTreeClassifier\n",
    "clf=DecisionTreeClassifier()\n",
    "clf.fit(x_train,y_train)"
   ]
  },
  {
   "cell_type": "code",
   "execution_count": 18,
   "id": "d98ce099",
   "metadata": {},
   "outputs": [
    {
     "data": {
      "text/plain": [
       "array([0, 0, 1, 1, 0, 1, 0, 0, 0, 1, 1, 1, 1, 1, 1, 1, 0, 0, 0, 1, 0, 1,\n",
       "       0, 1, 0, 1, 0, 1, 1, 1, 1, 1, 1, 0, 1, 1, 1, 0, 0, 0, 0, 0, 0, 1,\n",
       "       0, 1, 0, 0, 1, 0, 0, 1, 0, 0, 1, 0, 0, 1, 0, 1, 0, 0, 1, 1, 1, 1,\n",
       "       1, 1, 0, 1, 0, 0, 1, 0, 1, 0, 1, 0, 1, 1, 1, 1, 1, 1, 0, 0, 1, 0,\n",
       "       0, 0, 0, 1, 1, 0, 0, 1, 0, 0, 0, 0, 1, 1, 1, 1, 0, 0, 1, 0, 1, 1,\n",
       "       0, 0, 0, 1, 0, 1, 0, 0, 0, 0, 0, 0, 0, 0, 1, 0, 1, 1, 0, 1, 1, 1,\n",
       "       0, 1, 0, 1, 1, 1, 0, 1, 1, 1, 0, 0, 1, 0, 0, 0, 1, 1, 1, 1, 1, 1,\n",
       "       1, 1, 1, 1, 1, 0, 1, 1, 1, 0, 1, 0, 1, 0, 1, 1, 1, 0, 1, 1, 0, 1,\n",
       "       1, 0, 1, 1, 1, 1, 1, 0, 0, 1, 1, 1, 1, 0, 0, 1, 1, 1, 0, 1, 0, 1,\n",
       "       0, 0, 1, 1, 1, 0, 1, 1, 0, 1, 1, 0, 1, 0], dtype=int64)"
      ]
     },
     "execution_count": 18,
     "metadata": {},
     "output_type": "execute_result"
    }
   ],
   "source": [
    "clf.predict(x_train)"
   ]
  },
  {
   "cell_type": "code",
   "execution_count": 19,
   "id": "822b5469",
   "metadata": {},
   "outputs": [
    {
     "data": {
      "text/plain": [
       "1.0"
      ]
     },
     "execution_count": 19,
     "metadata": {},
     "output_type": "execute_result"
    }
   ],
   "source": [
    "from sklearn.metrics import accuracy_score\n",
    "accuracy_score(y_train,clf.predict(x_train))"
   ]
  },
  {
   "cell_type": "code",
   "execution_count": 20,
   "id": "e657ed9f",
   "metadata": {},
   "outputs": [
    {
     "data": {
      "text/plain": [
       "0.7252747252747253"
      ]
     },
     "execution_count": 20,
     "metadata": {},
     "output_type": "execute_result"
    }
   ],
   "source": [
    "accuracy_score(y_test,clf.predict(x_test))"
   ]
  },
  {
   "cell_type": "code",
   "execution_count": 21,
   "id": "5f1a6bc5",
   "metadata": {},
   "outputs": [],
   "source": [
    "# precision , recall"
   ]
  },
  {
   "cell_type": "code",
   "execution_count": 22,
   "id": "4219afb6",
   "metadata": {},
   "outputs": [],
   "source": [
    "from sklearn.metrics import precision_recall_curve"
   ]
  },
  {
   "cell_type": "code",
   "execution_count": 23,
   "id": "6a8c58ef",
   "metadata": {},
   "outputs": [],
   "source": [
    "pr,rc,x = precision_recall_curve(y_test,clf.predict(x_test))"
   ]
  },
  {
   "cell_type": "code",
   "execution_count": 24,
   "id": "2917f35b",
   "metadata": {},
   "outputs": [
    {
     "data": {
      "text/plain": [
       "[<matplotlib.lines.Line2D at 0x226c0107bb0>]"
      ]
     },
     "execution_count": 24,
     "metadata": {},
     "output_type": "execute_result"
    },
    {
     "data": {
      "image/png": "[encoded data removed]",
      "text/plain": [
       "<Figure size 432x288 with 1 Axes>"
      ]
     },
     "metadata": {
      "needs_background": "light"
     },
     "output_type": "display_data"
    }
   ],
   "source": [
    "plt.plot(pr,rc)\n",
    "plt.plot([0.5,1],[1,0],linestyle='--')"
   ]
  },
  {
   "cell_type": "code",
   "execution_count": 25,
   "id": "2a152d2b",
   "metadata": {},
   "outputs": [
    {
     "name": "stdout",
     "output_type": "stream",
     "text": [
      "              precision    recall  f1-score   support\n",
      "\n",
      "           0       0.70      0.75      0.73        44\n",
      "           1       0.75      0.70      0.73        47\n",
      "\n",
      "    accuracy                           0.73        91\n",
      "   macro avg       0.73      0.73      0.73        91\n",
      "weighted avg       0.73      0.73      0.73        91\n",
      "\n"
     ]
    }
   ],
   "source": [
    "from sklearn.metrics import classification_report\n",
    "\n",
    "print(classification_report(y_test,clf.predict(x_test)))"
   ]
  },
  {
   "cell_type": "code",
   "execution_count": 26,
   "id": "2ce3b748",
   "metadata": {},
   "outputs": [
    {
     "data": {
      "text/plain": [
       "1.0"
      ]
     },
     "execution_count": 26,
     "metadata": {},
     "output_type": "execute_result"
    }
   ],
   "source": [
    "# roc-auc\n",
    "\n",
    "from sklearn.metrics import roc_auc_score\n",
    "roc_auc_score(y_train,clf.predict_proba(x_train)[:,1])"
   ]
  },
  {
   "cell_type": "code",
   "execution_count": 27,
   "id": "f604a379",
   "metadata": {},
   "outputs": [
    {
     "data": {
      "text/plain": [
       "0.726063829787234"
      ]
     },
     "execution_count": 27,
     "metadata": {},
     "output_type": "execute_result"
    }
   ],
   "source": [
    "roc_auc_score(y_test,clf.predict_proba(x_test)[:,1])"
   ]
  },
  {
   "cell_type": "code",
   "execution_count": 28,
   "id": "3b025008",
   "metadata": {},
   "outputs": [],
   "source": [
    "from sklearn.metrics import roc_curve\n",
    "fpr,tpr,thr = roc_curve(y_test,clf.predict_proba(x_test)[:,1])"
   ]
  },
  {
   "cell_type": "code",
   "execution_count": 29,
   "id": "fc693cf6",
   "metadata": {},
   "outputs": [
    {
     "data": {
      "text/plain": [
       "[<matplotlib.lines.Line2D at 0x226c00025e0>]"
      ]
     },
     "execution_count": 29,
     "metadata": {},
     "output_type": "execute_result"
    },
    {
     "data": {
      "image/png": "[encoded data removed]",
      "text/plain": [
       "<Figure size 360x360 with 1 Axes>"
      ]
     },
     "metadata": {
      "needs_background": "light"
     },
     "output_type": "display_data"
    }
   ],
   "source": [
    "plt.figure(figsize=(5,5))\n",
    "plt.plot(fpr,tpr)\n",
    "plt.plot([0,1],[0,1],linestyle='--')"
   ]
  },
  {
   "cell_type": "code",
   "execution_count": 30,
   "id": "2e8f8acc",
   "metadata": {},
   "outputs": [
    {
     "data": {
      "text/plain": [
       "[<matplotlib.lines.Line2D at 0x226bff9c370>]"
      ]
     },
     "execution_count": 30,
     "metadata": {},
     "output_type": "execute_result"
    },
    {
     "data": {
      "image/png": "[encoded data removed]",
      "text/plain": [
       "<Figure size 432x288 with 1 Axes>"
      ]
     },
     "metadata": {
      "needs_background": "light"
     },
     "output_type": "display_data"
    }
   ],
   "source": [
    "fpr,tpr,thr = roc_curve(y_train,clf.predict_proba(x_train)[:,1])\n",
    "plt.plot(fpr,tpr)\n",
    "plt.plot([0,1],[0,1])"
   ]
  },
  {
   "cell_type": "markdown",
   "id": "a7bdb0b9",
   "metadata": {},
   "source": [
    "# hyper parameter"
   ]
  },
  {
   "cell_type": "raw",
   "id": "b29005f6",
   "metadata": {},
   "source": [
    "# hyper parameter tuning - it is parameter that we want to decide by ourself like number of trees and its depth\n",
    "\n",
    "# max depth = 3,5,7\n",
    "# max sample leaf = 3,5,10\n",
    "\n",
    "this will create 9 models.( 3*3)"
   ]
  },
  {
   "cell_type": "markdown",
   "id": "221cedb7",
   "metadata": {},
   "source": [
    "## DecisionTreeClassifier"
   ]
  },
  {
   "cell_type": "code",
   "execution_count": 50,
   "id": "58cd9ac5",
   "metadata": {},
   "outputs": [],
   "source": [
    "# CV is K fold cross validation\n",
    "from sklearn.model_selection import GridSearchCV\n",
    "\n",
    "clf=DecisionTreeClassifier()\n",
    "\n",
    "params={\n",
    "    'max_depth': [3,5,7],\n",
    "    'min_samples_leaf':[3,5,10]\n",
    "}"
   ]
  },
  {
   "cell_type": "code",
   "execution_count": 51,
   "id": "94ed7c01",
   "metadata": {},
   "outputs": [],
   "source": [
    "grid = GridSearchCV(estimator=clf,\n",
    "                   param_grid=params,\n",
    "                   scoring='roc_auc',\n",
    "                   cv=3)"
   ]
  },
  {
   "cell_type": "code",
   "execution_count": 52,
   "id": "0cc50d48",
   "metadata": {},
   "outputs": [],
   "source": [
    "x = data[num_cols+cat_cols]\n",
    "y = data[target_variable]"
   ]
  },
  {
   "cell_type": "code",
   "execution_count": 53,
   "id": "fe9e931c",
   "metadata": {},
   "outputs": [
    {
     "data": {
      "text/plain": [
       "GridSearchCV(cv=3, estimator=DecisionTreeClassifier(),\n",
       "             param_grid={'max_depth': [3, 5, 7],\n",
       "                         'min_samples_leaf': [3, 5, 10]},\n",
       "             scoring='roc_auc')"
      ]
     },
     "execution_count": 53,
     "metadata": {},
     "output_type": "execute_result"
    }
   ],
   "source": [
    "grid.fit(x,y)"
   ]
  },
  {
   "cell_type": "code",
   "execution_count": 54,
   "id": "175a6e8f",
   "metadata": {},
   "outputs": [
    {
     "data": {
      "text/plain": [
       "DecisionTreeClassifier(max_depth=7, min_samples_leaf=10)"
      ]
     },
     "execution_count": 54,
     "metadata": {},
     "output_type": "execute_result"
    }
   ],
   "source": [
    "grid.best_estimator_"
   ]
  },
  {
   "cell_type": "code",
   "execution_count": 64,
   "id": "8239b783",
   "metadata": {},
   "outputs": [
    {
     "data": {
      "text/plain": [
       "array([[0.15384615, 0.84615385],\n",
       "       [0.        , 1.        ],\n",
       "       [0.        , 1.        ],\n",
       "       [0.30769231, 0.69230769],\n",
       "       [0.36363636, 0.63636364],\n",
       "       [0.18181818, 0.81818182],\n",
       "       [0.1       , 0.9       ],\n",
       "       [0.        , 1.        ],\n",
       "       [0.        , 1.        ],\n",
       "       [0.15384615, 0.84615385],\n",
       "       [0.5       , 0.5       ],\n",
       "       [0.35714286, 0.64285714],\n",
       "       [0.        , 1.        ],\n",
       "       [0.15384615, 0.84615385],\n",
       "       [0.3       , 0.7       ],\n",
       "       [0.        , 1.        ],\n",
       "       [0.3       , 0.7       ],\n",
       "       [0.        , 1.        ],\n",
       "       [0.5       , 0.5       ],\n",
       "       [0.        , 1.        ],\n",
       "       [0.5       , 0.5       ],\n",
       "       [0.30769231, 0.69230769],\n",
       "       [0.18181818, 0.81818182],\n",
       "       [0.15384615, 0.84615385],\n",
       "       [0.        , 1.        ],\n",
       "       [0.        , 1.        ],\n",
       "       [0.15384615, 0.84615385],\n",
       "       [0.35714286, 0.64285714],\n",
       "       [0.        , 1.        ],\n",
       "       [0.        , 1.        ],\n",
       "       [0.        , 1.        ],\n",
       "       [0.18181818, 0.81818182],\n",
       "       [0.        , 1.        ],\n",
       "       [0.1       , 0.9       ],\n",
       "       [0.35714286, 0.64285714],\n",
       "       [0.        , 1.        ],\n",
       "       [0.1       , 0.9       ],\n",
       "       [0.30769231, 0.69230769],\n",
       "       [0.        , 1.        ],\n",
       "       [0.        , 1.        ],\n",
       "       [0.35714286, 0.64285714],\n",
       "       [0.        , 1.        ],\n",
       "       [0.8       , 0.2       ],\n",
       "       [0.08333333, 0.91666667],\n",
       "       [0.        , 1.        ],\n",
       "       [0.        , 1.        ],\n",
       "       [0.30769231, 0.69230769],\n",
       "       [0.        , 1.        ],\n",
       "       [0.35714286, 0.64285714],\n",
       "       [0.08333333, 0.91666667],\n",
       "       [0.        , 1.        ],\n",
       "       [0.18181818, 0.81818182],\n",
       "       [0.63636364, 0.36363636],\n",
       "       [0.        , 1.        ],\n",
       "       [0.3       , 0.7       ],\n",
       "       [0.        , 1.        ],\n",
       "       [0.18181818, 0.81818182],\n",
       "       [0.18181818, 0.81818182],\n",
       "       [0.        , 1.        ],\n",
       "       [0.78947368, 0.21052632],\n",
       "       [0.        , 1.        ],\n",
       "       [0.1       , 0.9       ],\n",
       "       [0.        , 1.        ],\n",
       "       [0.35714286, 0.64285714],\n",
       "       [0.15384615, 0.84615385],\n",
       "       [0.08333333, 0.91666667],\n",
       "       [0.35714286, 0.64285714],\n",
       "       [0.30769231, 0.69230769],\n",
       "       [0.        , 1.        ],\n",
       "       [0.08333333, 0.91666667],\n",
       "       [0.35714286, 0.64285714],\n",
       "       [0.        , 1.        ],\n",
       "       [0.        , 1.        ],\n",
       "       [0.36363636, 0.63636364],\n",
       "       [0.        , 1.        ],\n",
       "       [0.1       , 0.9       ],\n",
       "       [0.        , 1.        ],\n",
       "       [0.15384615, 0.84615385],\n",
       "       [0.        , 1.        ],\n",
       "       [0.15384615, 0.84615385],\n",
       "       [0.        , 1.        ],\n",
       "       [0.        , 1.        ],\n",
       "       [0.3       , 0.7       ],\n",
       "       [0.        , 1.        ],\n",
       "       [0.08333333, 0.91666667],\n",
       "       [0.        , 1.        ],\n",
       "       [0.85714286, 0.14285714],\n",
       "       [0.        , 1.        ],\n",
       "       [0.        , 1.        ],\n",
       "       [0.08333333, 0.91666667],\n",
       "       [0.        , 1.        ],\n",
       "       [0.36363636, 0.63636364],\n",
       "       [0.        , 1.        ],\n",
       "       [0.1       , 0.9       ],\n",
       "       [0.35714286, 0.64285714],\n",
       "       [0.36363636, 0.63636364],\n",
       "       [0.08333333, 0.91666667],\n",
       "       [0.78947368, 0.21052632],\n",
       "       [0.        , 1.        ],\n",
       "       [0.        , 1.        ],\n",
       "       [0.        , 1.        ],\n",
       "       [0.85714286, 0.14285714],\n",
       "       [0.3       , 0.7       ],\n",
       "       [0.30769231, 0.69230769],\n",
       "       [0.        , 1.        ],\n",
       "       [0.        , 1.        ],\n",
       "       [0.63636364, 0.36363636],\n",
       "       [0.36363636, 0.63636364],\n",
       "       [0.        , 1.        ],\n",
       "       [0.08333333, 0.91666667],\n",
       "       [0.36363636, 0.63636364],\n",
       "       [0.63636364, 0.36363636],\n",
       "       [0.        , 1.        ],\n",
       "       [0.18181818, 0.81818182],\n",
       "       [0.1       , 0.9       ],\n",
       "       [0.        , 1.        ],\n",
       "       [0.        , 1.        ],\n",
       "       [0.        , 1.        ],\n",
       "       [0.        , 1.        ],\n",
       "       [0.36363636, 0.63636364],\n",
       "       [0.9       , 0.1       ],\n",
       "       [0.18181818, 0.81818182],\n",
       "       [0.        , 1.        ],\n",
       "       [0.1       , 0.9       ],\n",
       "       [0.        , 1.        ],\n",
       "       [0.        , 1.        ],\n",
       "       [0.18181818, 0.81818182],\n",
       "       [0.        , 1.        ],\n",
       "       [0.        , 1.        ],\n",
       "       [0.        , 1.        ],\n",
       "       [0.        , 1.        ],\n",
       "       [0.        , 1.        ],\n",
       "       [0.        , 1.        ],\n",
       "       [0.30769231, 0.69230769],\n",
       "       [0.        , 1.        ],\n",
       "       [0.08333333, 0.91666667],\n",
       "       [0.3       , 0.7       ],\n",
       "       [0.15384615, 0.84615385],\n",
       "       [0.8       , 0.2       ],\n",
       "       [0.78947368, 0.21052632],\n",
       "       [0.        , 1.        ],\n",
       "       [0.5       , 0.5       ],\n",
       "       [0.        , 1.        ],\n",
       "       [0.78947368, 0.21052632],\n",
       "       [0.        , 1.        ],\n",
       "       [0.15384615, 0.84615385],\n",
       "       [0.30769231, 0.69230769],\n",
       "       [0.3       , 0.7       ],\n",
       "       [0.        , 1.        ],\n",
       "       [0.        , 1.        ],\n",
       "       [0.5       , 0.5       ],\n",
       "       [0.08333333, 0.91666667],\n",
       "       [0.15384615, 0.84615385],\n",
       "       [0.        , 1.        ],\n",
       "       [0.        , 1.        ],\n",
       "       [0.08333333, 0.91666667],\n",
       "       [0.        , 1.        ],\n",
       "       [0.        , 1.        ],\n",
       "       [0.63636364, 0.36363636],\n",
       "       [0.        , 1.        ],\n",
       "       [0.30769231, 0.69230769],\n",
       "       [0.1       , 0.9       ],\n",
       "       [0.        , 1.        ],\n",
       "       [0.        , 1.        ],\n",
       "       [0.        , 1.        ],\n",
       "       [1.        , 0.        ],\n",
       "       [1.        , 0.        ],\n",
       "       [1.        , 0.        ],\n",
       "       [1.        , 0.        ],\n",
       "       [1.        , 0.        ],\n",
       "       [0.35714286, 0.64285714],\n",
       "       [0.30769231, 0.69230769],\n",
       "       [0.85714286, 0.14285714],\n",
       "       [0.63636364, 0.36363636],\n",
       "       [1.        , 0.        ],\n",
       "       [0.8       , 0.2       ],\n",
       "       [1.        , 0.        ],\n",
       "       [0.85714286, 0.14285714],\n",
       "       [0.8       , 0.2       ],\n",
       "       [1.        , 0.        ],\n",
       "       [0.9       , 0.1       ],\n",
       "       [1.        , 0.        ],\n",
       "       [0.08333333, 0.91666667],\n",
       "       [0.63636364, 0.36363636],\n",
       "       [0.5       , 0.5       ],\n",
       "       [0.78947368, 0.21052632],\n",
       "       [1.        , 0.        ],\n",
       "       [1.        , 0.        ],\n",
       "       [0.30769231, 0.69230769],\n",
       "       [0.18181818, 0.81818182],\n",
       "       [0.8       , 0.2       ],\n",
       "       [1.        , 0.        ],\n",
       "       [1.        , 0.        ],\n",
       "       [1.        , 0.        ],\n",
       "       [0.15384615, 0.84615385],\n",
       "       [1.        , 0.        ],\n",
       "       [0.35714286, 0.64285714],\n",
       "       [0.78947368, 0.21052632],\n",
       "       [1.        , 0.        ],\n",
       "       [1.        , 0.        ],\n",
       "       [0.78947368, 0.21052632],\n",
       "       [1.        , 0.        ],\n",
       "       [1.        , 0.        ],\n",
       "       [0.85714286, 0.14285714],\n",
       "       [1.        , 0.        ],\n",
       "       [0.78947368, 0.21052632],\n",
       "       [1.        , 0.        ],\n",
       "       [1.        , 0.        ],\n",
       "       [0.35714286, 0.64285714],\n",
       "       [0.78947368, 0.21052632],\n",
       "       [0.63636364, 0.36363636],\n",
       "       [1.        , 0.        ],\n",
       "       [0.5       , 0.5       ],\n",
       "       [1.        , 0.        ],\n",
       "       [1.        , 0.        ],\n",
       "       [0.8       , 0.2       ],\n",
       "       [0.3       , 0.7       ],\n",
       "       [0.9       , 0.1       ],\n",
       "       [1.        , 0.        ],\n",
       "       [0.78947368, 0.21052632],\n",
       "       [0.9       , 0.1       ],\n",
       "       [1.        , 0.        ],\n",
       "       [0.85714286, 0.14285714],\n",
       "       [1.        , 0.        ],\n",
       "       [1.        , 0.        ],\n",
       "       [1.        , 0.        ],\n",
       "       [0.85714286, 0.14285714],\n",
       "       [0.8       , 0.2       ],\n",
       "       [0.85714286, 0.14285714],\n",
       "       [0.85714286, 0.14285714],\n",
       "       [0.30769231, 0.69230769],\n",
       "       [1.        , 0.        ],\n",
       "       [1.        , 0.        ],\n",
       "       [1.        , 0.        ],\n",
       "       [0.9       , 0.1       ],\n",
       "       [1.        , 0.        ],\n",
       "       [0.78947368, 0.21052632],\n",
       "       [1.        , 0.        ],\n",
       "       [0.78947368, 0.21052632],\n",
       "       [0.36363636, 0.63636364],\n",
       "       [0.85714286, 0.14285714],\n",
       "       [0.36363636, 0.63636364],\n",
       "       [1.        , 0.        ],\n",
       "       [1.        , 0.        ],\n",
       "       [1.        , 0.        ],\n",
       "       [0.5       , 0.5       ],\n",
       "       [0.9       , 0.1       ],\n",
       "       [0.85714286, 0.14285714],\n",
       "       [0.1       , 0.9       ],\n",
       "       [0.85714286, 0.14285714],\n",
       "       [1.        , 0.        ],\n",
       "       [0.78947368, 0.21052632],\n",
       "       [1.        , 0.        ],\n",
       "       [0.9       , 0.1       ],\n",
       "       [0.85714286, 0.14285714],\n",
       "       [0.78947368, 0.21052632],\n",
       "       [1.        , 0.        ],\n",
       "       [1.        , 0.        ],\n",
       "       [1.        , 0.        ],\n",
       "       [0.30769231, 0.69230769],\n",
       "       [1.        , 0.        ],\n",
       "       [0.78947368, 0.21052632],\n",
       "       [1.        , 0.        ],\n",
       "       [1.        , 0.        ],\n",
       "       [0.78947368, 0.21052632],\n",
       "       [0.78947368, 0.21052632],\n",
       "       [1.        , 0.        ],\n",
       "       [0.35714286, 0.64285714],\n",
       "       [1.        , 0.        ],\n",
       "       [0.8       , 0.2       ],\n",
       "       [0.5       , 0.5       ],\n",
       "       [0.63636364, 0.36363636],\n",
       "       [0.5       , 0.5       ],\n",
       "       [0.78947368, 0.21052632],\n",
       "       [1.        , 0.        ],\n",
       "       [1.        , 0.        ],\n",
       "       [1.        , 0.        ],\n",
       "       [0.85714286, 0.14285714],\n",
       "       [0.3       , 0.7       ],\n",
       "       [1.        , 0.        ],\n",
       "       [1.        , 0.        ],\n",
       "       [0.8       , 0.2       ],\n",
       "       [0.63636364, 0.36363636],\n",
       "       [0.18181818, 0.81818182],\n",
       "       [1.        , 0.        ],\n",
       "       [0.9       , 0.1       ],\n",
       "       [0.63636364, 0.36363636],\n",
       "       [0.63636364, 0.36363636],\n",
       "       [0.9       , 0.1       ],\n",
       "       [1.        , 0.        ],\n",
       "       [0.78947368, 0.21052632],\n",
       "       [0.9       , 0.1       ],\n",
       "       [1.        , 0.        ],\n",
       "       [0.15384615, 0.84615385],\n",
       "       [0.8       , 0.2       ],\n",
       "       [1.        , 0.        ],\n",
       "       [0.36363636, 0.63636364],\n",
       "       [1.        , 0.        ],\n",
       "       [0.36363636, 0.63636364],\n",
       "       [0.35714286, 0.64285714],\n",
       "       [1.        , 0.        ],\n",
       "       [1.        , 0.        ],\n",
       "       [0.3       , 0.7       ]])"
      ]
     },
     "execution_count": 64,
     "metadata": {},
     "output_type": "execute_result"
    }
   ],
   "source": [
    "grid.best_estimator_.predict_proba(x)"
   ]
  },
  {
   "cell_type": "code",
   "execution_count": 72,
   "id": "99ec6b02",
   "metadata": {},
   "outputs": [
    {
     "data": {
      "text/plain": [
       "array([[0.36363636, 0.63636364],\n",
       "       [0.78947368, 0.21052632],\n",
       "       [0.35714286, 0.64285714],\n",
       "       [0.36363636, 0.63636364],\n",
       "       [0.35714286, 0.64285714],\n",
       "       [0.35714286, 0.64285714],\n",
       "       [0.36363636, 0.63636364],\n",
       "       [0.78947368, 0.21052632],\n",
       "       [0.36363636, 0.63636364],\n",
       "       [0.36363636, 0.63636364],\n",
       "       [0.35714286, 0.64285714],\n",
       "       [0.35714286, 0.64285714],\n",
       "       [0.36363636, 0.63636364],\n",
       "       [1.        , 0.        ],\n",
       "       [0.35714286, 0.64285714],\n",
       "       [0.78947368, 0.21052632],\n",
       "       [0.8       , 0.2       ],\n",
       "       [0.35714286, 0.64285714],\n",
       "       [0.35714286, 0.64285714],\n",
       "       [0.78947368, 0.21052632],\n",
       "       [0.78947368, 0.21052632],\n",
       "       [0.35714286, 0.64285714],\n",
       "       [0.78947368, 0.21052632],\n",
       "       [0.35714286, 0.64285714],\n",
       "       [0.36363636, 0.63636364],\n",
       "       [0.35714286, 0.64285714],\n",
       "       [0.36363636, 0.63636364],\n",
       "       [0.35714286, 0.64285714],\n",
       "       [0.35714286, 0.64285714],\n",
       "       [1.        , 0.        ],\n",
       "       [0.78947368, 0.21052632],\n",
       "       [0.35714286, 0.64285714],\n",
       "       [1.        , 0.        ],\n",
       "       [0.36363636, 0.63636364],\n",
       "       [0.35714286, 0.64285714],\n",
       "       [0.35714286, 0.64285714],\n",
       "       [0.35714286, 0.64285714],\n",
       "       [0.35714286, 0.64285714],\n",
       "       [0.35714286, 0.64285714],\n",
       "       [0.35714286, 0.64285714],\n",
       "       [0.78947368, 0.21052632],\n",
       "       [0.35714286, 0.64285714],\n",
       "       [0.36363636, 0.63636364],\n",
       "       [0.36363636, 0.63636364],\n",
       "       [0.35714286, 0.64285714],\n",
       "       [0.35714286, 0.64285714],\n",
       "       [0.36363636, 0.63636364],\n",
       "       [0.35714286, 0.64285714],\n",
       "       [0.36363636, 0.63636364],\n",
       "       [0.35714286, 0.64285714],\n",
       "       [0.78947368, 0.21052632],\n",
       "       [1.        , 0.        ],\n",
       "       [0.78947368, 0.21052632],\n",
       "       [1.        , 0.        ],\n",
       "       [0.78947368, 0.21052632],\n",
       "       [0.35714286, 0.64285714],\n",
       "       [0.36363636, 0.63636364],\n",
       "       [0.78947368, 0.21052632],\n",
       "       [0.78947368, 0.21052632],\n",
       "       [0.78947368, 0.21052632],\n",
       "       [0.35714286, 0.64285714],\n",
       "       [0.36363636, 0.63636364],\n",
       "       [0.35714286, 0.64285714],\n",
       "       [0.35714286, 0.64285714],\n",
       "       [0.36363636, 0.63636364],\n",
       "       [0.35714286, 0.64285714],\n",
       "       [1.        , 0.        ],\n",
       "       [0.35714286, 0.64285714],\n",
       "       [1.        , 0.        ],\n",
       "       [0.35714286, 0.64285714],\n",
       "       [1.        , 0.        ],\n",
       "       [0.35714286, 0.64285714],\n",
       "       [0.36363636, 0.63636364],\n",
       "       [0.36363636, 0.63636364],\n",
       "       [0.35714286, 0.64285714],\n",
       "       [0.78947368, 0.21052632],\n",
       "       [0.35714286, 0.64285714],\n",
       "       [0.8       , 0.2       ],\n",
       "       [0.35714286, 0.64285714],\n",
       "       [0.35714286, 0.64285714],\n",
       "       [0.78947368, 0.21052632],\n",
       "       [0.35714286, 0.64285714],\n",
       "       [0.8       , 0.2       ],\n",
       "       [0.36363636, 0.63636364],\n",
       "       [0.36363636, 0.63636364],\n",
       "       [0.35714286, 0.64285714],\n",
       "       [0.35714286, 0.64285714],\n",
       "       [0.35714286, 0.64285714],\n",
       "       [1.        , 0.        ],\n",
       "       [0.36363636, 0.63636364],\n",
       "       [0.35714286, 0.64285714]])"
      ]
     },
     "execution_count": 72,
     "metadata": {},
     "output_type": "execute_result"
    }
   ],
   "source": [
    "grid.best_estimator_.predict_proba(x_test)"
   ]
  },
  {
   "cell_type": "code",
   "execution_count": 55,
   "id": "94aa7933",
   "metadata": {},
   "outputs": [
    {
     "data": {
      "text/plain": [
       "0.8545454545454545"
      ]
     },
     "execution_count": 55,
     "metadata": {},
     "output_type": "execute_result"
    }
   ],
   "source": [
    "grid.best_score_"
   ]
  },
  {
   "cell_type": "code",
   "execution_count": 56,
   "id": "9e7f2fa2",
   "metadata": {},
   "outputs": [
    {
     "data": {
      "text/plain": [
       "{'max_depth': 7, 'min_samples_leaf': 10}"
      ]
     },
     "execution_count": 56,
     "metadata": {},
     "output_type": "execute_result"
    }
   ],
   "source": [
    "grid.best_params_"
   ]
  },
  {
   "cell_type": "code",
   "execution_count": 58,
   "id": "3da54bae",
   "metadata": {},
   "outputs": [
    {
     "data": {
      "text/plain": [
       "{'mean_fit_time': array([0.0356942 , 0.00299176, 0.00273887, 0.00199509, 0.00240159,\n",
       "        0.00231409, 0.00415238, 0.00232736, 0.00232712]),\n",
       " 'std_fit_time': array([3.99477432e-02, 5.94720425e-07, 3.58023442e-04, 8.92080638e-07,\n",
       "        5.04753135e-04, 4.85471085e-04, 2.24702811e-03, 4.70246478e-04,\n",
       "        4.69911239e-04]),\n",
       " 'mean_score_time': array([0.03370579, 0.00370097, 0.00191514, 0.00203514, 0.00199302,\n",
       "        0.00199525, 0.00196282, 0.00169841, 0.00201885]),\n",
       " 'std_score_time': array([3.85266950e-02, 5.05632053e-04, 1.12223051e-04, 5.83364354e-05,\n",
       "        3.49499916e-06, 1.07214749e-06, 4.88559688e-05, 4.18883478e-04,\n",
       "        3.56286678e-05]),\n",
       " 'param_max_depth': masked_array(data=[3, 3, 3, 5, 5, 5, 7, 7, 7],\n",
       "              mask=[False, False, False, False, False, False, False, False,\n",
       "                    False],\n",
       "        fill_value='?',\n",
       "             dtype=object),\n",
       " 'param_min_samples_leaf': masked_array(data=[3, 5, 10, 3, 5, 10, 3, 5, 10],\n",
       "              mask=[False, False, False, False, False, False, False, False,\n",
       "                    False],\n",
       "        fill_value='?',\n",
       "             dtype=object),\n",
       " 'params': [{'max_depth': 3, 'min_samples_leaf': 3},\n",
       "  {'max_depth': 3, 'min_samples_leaf': 5},\n",
       "  {'max_depth': 3, 'min_samples_leaf': 10},\n",
       "  {'max_depth': 5, 'min_samples_leaf': 3},\n",
       "  {'max_depth': 5, 'min_samples_leaf': 5},\n",
       "  {'max_depth': 5, 'min_samples_leaf': 10},\n",
       "  {'max_depth': 7, 'min_samples_leaf': 3},\n",
       "  {'max_depth': 7, 'min_samples_leaf': 5},\n",
       "  {'max_depth': 7, 'min_samples_leaf': 10}],\n",
       " 'split0_test_score': array([0.79466403, 0.81758893, 0.85494071, 0.80810277, 0.77885375,\n",
       "        0.86106719, 0.78695652, 0.78181818, 0.86106719]),\n",
       " 'split1_test_score': array([0.84031621, 0.84268775, 0.83794466, 0.86996047, 0.88794466,\n",
       "        0.87490119, 0.85158103, 0.86996047, 0.88221344]),\n",
       " 'split2_test_score': array([0.81501976, 0.81501976, 0.83043478, 0.79782609, 0.79031621,\n",
       "        0.82490119, 0.77588933, 0.78557312, 0.82035573]),\n",
       " 'mean_test_score': array([0.81666667, 0.82509881, 0.84110672, 0.82529644, 0.81903821,\n",
       "        0.85362319, 0.80480896, 0.81245059, 0.85454545]),\n",
       " 'std_test_score': array([0.01867377, 0.0124814 , 0.01025131, 0.03185969, 0.04894842,\n",
       "        0.02108016, 0.03338004, 0.04069451, 0.02567091]),\n",
       " 'rank_test_score': array([7, 5, 3, 4, 6, 2, 9, 8, 1])}"
      ]
     },
     "execution_count": 58,
     "metadata": {},
     "output_type": "execute_result"
    }
   ],
   "source": [
    "grid.cv_results_"
   ]
  },
  {
   "cell_type": "code",
   "execution_count": 59,
   "id": "2b1b3063",
   "metadata": {
    "scrolled": true
   },
   "outputs": [
    {
     "data": {
      "text/html": [
       "<div>\n",
       "<style scoped>\n",
       "    .dataframe tbody tr th:only-of-type {\n",
       "        vertical-align: middle;\n",
       "    }\n",
       "\n",
       "    .dataframe tbody tr th {\n",
       "        vertical-align: top;\n",
       "    }\n",
       "\n",
       "    .dataframe thead th {\n",
       "        text-align: right;\n",
       "    }\n",
       "</style>\n",
       "<table border=\"1\" class=\"dataframe\">\n",
       "  <thead>\n",
       "    <tr style=\"text-align: right;\">\n",
       "      <th></th>\n",
       "      <th>mean_fit_time</th>\n",
       "      <th>std_fit_time</th>\n",
       "      <th>mean_score_time</th>\n",
       "      <th>std_score_time</th>\n",
       "      <th>param_max_depth</th>\n",
       "      <th>param_min_samples_leaf</th>\n",
       "      <th>params</th>\n",
       "      <th>split0_test_score</th>\n",
       "      <th>split1_test_score</th>\n",
       "      <th>split2_test_score</th>\n",
       "      <th>mean_test_score</th>\n",
       "      <th>std_test_score</th>\n",
       "      <th>rank_test_score</th>\n",
       "    </tr>\n",
       "  </thead>\n",
       "  <tbody>\n",
       "    <tr>\n",
       "      <th>0</th>\n",
       "      <td>0.035694</td>\n",
       "      <td>3.994774e-02</td>\n",
       "      <td>0.033706</td>\n",
       "      <td>0.038527</td>\n",
       "      <td>3</td>\n",
       "      <td>3</td>\n",
       "      <td>{'max_depth': 3, 'min_samples_leaf': 3}</td>\n",
       "      <td>0.794664</td>\n",
       "      <td>0.840316</td>\n",
       "      <td>0.815020</td>\n",
       "      <td>0.816667</td>\n",
       "      <td>0.018674</td>\n",
       "      <td>7</td>\n",
       "    </tr>\n",
       "    <tr>\n",
       "      <th>1</th>\n",
       "      <td>0.002992</td>\n",
       "      <td>5.947204e-07</td>\n",
       "      <td>0.003701</td>\n",
       "      <td>0.000506</td>\n",
       "      <td>3</td>\n",
       "      <td>5</td>\n",
       "      <td>{'max_depth': 3, 'min_samples_leaf': 5}</td>\n",
       "      <td>0.817589</td>\n",
       "      <td>0.842688</td>\n",
       "      <td>0.815020</td>\n",
       "      <td>0.825099</td>\n",
       "      <td>0.012481</td>\n",
       "      <td>5</td>\n",
       "    </tr>\n",
       "    <tr>\n",
       "      <th>2</th>\n",
       "      <td>0.002739</td>\n",
       "      <td>3.580234e-04</td>\n",
       "      <td>0.001915</td>\n",
       "      <td>0.000112</td>\n",
       "      <td>3</td>\n",
       "      <td>10</td>\n",
       "      <td>{'max_depth': 3, 'min_samples_leaf': 10}</td>\n",
       "      <td>0.854941</td>\n",
       "      <td>0.837945</td>\n",
       "      <td>0.830435</td>\n",
       "      <td>0.841107</td>\n",
       "      <td>0.010251</td>\n",
       "      <td>3</td>\n",
       "    </tr>\n",
       "    <tr>\n",
       "      <th>3</th>\n",
       "      <td>0.001995</td>\n",
       "      <td>8.920806e-07</td>\n",
       "      <td>0.002035</td>\n",
       "      <td>0.000058</td>\n",
       "      <td>5</td>\n",
       "      <td>3</td>\n",
       "      <td>{'max_depth': 5, 'min_samples_leaf': 3}</td>\n",
       "      <td>0.808103</td>\n",
       "      <td>0.869960</td>\n",
       "      <td>0.797826</td>\n",
       "      <td>0.825296</td>\n",
       "      <td>0.031860</td>\n",
       "      <td>4</td>\n",
       "    </tr>\n",
       "    <tr>\n",
       "      <th>4</th>\n",
       "      <td>0.002402</td>\n",
       "      <td>5.047531e-04</td>\n",
       "      <td>0.001993</td>\n",
       "      <td>0.000003</td>\n",
       "      <td>5</td>\n",
       "      <td>5</td>\n",
       "      <td>{'max_depth': 5, 'min_samples_leaf': 5}</td>\n",
       "      <td>0.778854</td>\n",
       "      <td>0.887945</td>\n",
       "      <td>0.790316</td>\n",
       "      <td>0.819038</td>\n",
       "      <td>0.048948</td>\n",
       "      <td>6</td>\n",
       "    </tr>\n",
       "    <tr>\n",
       "      <th>5</th>\n",
       "      <td>0.002314</td>\n",
       "      <td>4.854711e-04</td>\n",
       "      <td>0.001995</td>\n",
       "      <td>0.000001</td>\n",
       "      <td>5</td>\n",
       "      <td>10</td>\n",
       "      <td>{'max_depth': 5, 'min_samples_leaf': 10}</td>\n",
       "      <td>0.861067</td>\n",
       "      <td>0.874901</td>\n",
       "      <td>0.824901</td>\n",
       "      <td>0.853623</td>\n",
       "      <td>0.021080</td>\n",
       "      <td>2</td>\n",
       "    </tr>\n",
       "    <tr>\n",
       "      <th>6</th>\n",
       "      <td>0.004152</td>\n",
       "      <td>2.247028e-03</td>\n",
       "      <td>0.001963</td>\n",
       "      <td>0.000049</td>\n",
       "      <td>7</td>\n",
       "      <td>3</td>\n",
       "      <td>{'max_depth': 7, 'min_samples_leaf': 3}</td>\n",
       "      <td>0.786957</td>\n",
       "      <td>0.851581</td>\n",
       "      <td>0.775889</td>\n",
       "      <td>0.804809</td>\n",
       "      <td>0.033380</td>\n",
       "      <td>9</td>\n",
       "    </tr>\n",
       "    <tr>\n",
       "      <th>7</th>\n",
       "      <td>0.002327</td>\n",
       "      <td>4.702465e-04</td>\n",
       "      <td>0.001698</td>\n",
       "      <td>0.000419</td>\n",
       "      <td>7</td>\n",
       "      <td>5</td>\n",
       "      <td>{'max_depth': 7, 'min_samples_leaf': 5}</td>\n",
       "      <td>0.781818</td>\n",
       "      <td>0.869960</td>\n",
       "      <td>0.785573</td>\n",
       "      <td>0.812451</td>\n",
       "      <td>0.040695</td>\n",
       "      <td>8</td>\n",
       "    </tr>\n",
       "    <tr>\n",
       "      <th>8</th>\n",
       "      <td>0.002327</td>\n",
       "      <td>4.699112e-04</td>\n",
       "      <td>0.002019</td>\n",
       "      <td>0.000036</td>\n",
       "      <td>7</td>\n",
       "      <td>10</td>\n",
       "      <td>{'max_depth': 7, 'min_samples_leaf': 10}</td>\n",
       "      <td>0.861067</td>\n",
       "      <td>0.882213</td>\n",
       "      <td>0.820356</td>\n",
       "      <td>0.854545</td>\n",
       "      <td>0.025671</td>\n",
       "      <td>1</td>\n",
       "    </tr>\n",
       "  </tbody>\n",
       "</table>\n",
       "</div>"
      ],
      "text/plain": [
       "   mean_fit_time  std_fit_time  mean_score_time  std_score_time  \\\n",
       "0       0.035694  3.994774e-02         0.033706        0.038527   \n",
       "1       0.002992  5.947204e-07         0.003701        0.000506   \n",
       "2       0.002739  3.580234e-04         0.001915        0.000112   \n",
       "3       0.001995  8.920806e-07         0.002035        0.000058   \n",
       "4       0.002402  5.047531e-04         0.001993        0.000003   \n",
       "5       0.002314  4.854711e-04         0.001995        0.000001   \n",
       "6       0.004152  2.247028e-03         0.001963        0.000049   \n",
       "7       0.002327  4.702465e-04         0.001698        0.000419   \n",
       "8       0.002327  4.699112e-04         0.002019        0.000036   \n",
       "\n",
       "  param_max_depth param_min_samples_leaf  \\\n",
       "0               3                      3   \n",
       "1               3                      5   \n",
       "2               3                     10   \n",
       "3               5                      3   \n",
       "4               5                      5   \n",
       "5               5                     10   \n",
       "6               7                      3   \n",
       "7               7                      5   \n",
       "8               7                     10   \n",
       "\n",
       "                                     params  split0_test_score  \\\n",
       "0   {'max_depth': 3, 'min_samples_leaf': 3}           0.794664   \n",
       "1   {'max_depth': 3, 'min_samples_leaf': 5}           0.817589   \n",
       "2  {'max_depth': 3, 'min_samples_leaf': 10}           0.854941   \n",
       "3   {'max_depth': 5, 'min_samples_leaf': 3}           0.808103   \n",
       "4   {'max_depth': 5, 'min_samples_leaf': 5}           0.778854   \n",
       "5  {'max_depth': 5, 'min_samples_leaf': 10}           0.861067   \n",
       "6   {'max_depth': 7, 'min_samples_leaf': 3}           0.786957   \n",
       "7   {'max_depth': 7, 'min_samples_leaf': 5}           0.781818   \n",
       "8  {'max_depth': 7, 'min_samples_leaf': 10}           0.861067   \n",
       "\n",
       "   split1_test_score  split2_test_score  mean_test_score  std_test_score  \\\n",
       "0           0.840316           0.815020         0.816667        0.018674   \n",
       "1           0.842688           0.815020         0.825099        0.012481   \n",
       "2           0.837945           0.830435         0.841107        0.010251   \n",
       "3           0.869960           0.797826         0.825296        0.031860   \n",
       "4           0.887945           0.790316         0.819038        0.048948   \n",
       "5           0.874901           0.824901         0.853623        0.021080   \n",
       "6           0.851581           0.775889         0.804809        0.033380   \n",
       "7           0.869960           0.785573         0.812451        0.040695   \n",
       "8           0.882213           0.820356         0.854545        0.025671   \n",
       "\n",
       "   rank_test_score  \n",
       "0                7  \n",
       "1                5  \n",
       "2                3  \n",
       "3                4  \n",
       "4                6  \n",
       "5                2  \n",
       "6                9  \n",
       "7                8  \n",
       "8                1  "
      ]
     },
     "execution_count": 59,
     "metadata": {},
     "output_type": "execute_result"
    }
   ],
   "source": [
    "pd.DataFrame(grid.cv_results_)"
   ]
  },
  {
   "cell_type": "raw",
   "id": "e0f9ea34",
   "metadata": {},
   "source": [
    "# Conclusions from above dataframe  --\n",
    "\n",
    "1. mean_fit_time,std_fit_time,mean_score_time,std_score_time - these are the time taken by each row to calculate mean and standard deviation in doing fit model and calculation score of model.\n",
    "\n",
    "2. One of our input parameter was max_depth -  so param_max_depth,param_min_samples_leaf -  these 2 are the input parameters that is taken by that row for the evaluation.\n",
    "\n",
    "3. params - combination of param_max_depth,param_min_samples_leaf.\n",
    "\n",
    "4. to calculate total number of rows multiply the size of parameters. - 3*3.\n",
    "\n",
    "5. split0_test_score,split1_test_score,split2_test_score - these are the split of data.\n",
    "\n",
    "6. mean_test_score -  it is mean of split 0, 1 and 2 values. - the maximum value of mean_test_score is \"grid.best_score_\".\n",
    "\n",
    "7. std_test_score - standard deviation of split0_test_score,split1_test_score,split2_test_score.\n",
    "\n",
    "8. rank_test_score - it is ranking of mean_test_score values."
   ]
  },
  {
   "cell_type": "code",
   "execution_count": 63,
   "id": "1f3177fa",
   "metadata": {},
   "outputs": [],
   "source": [
    "# Usually we only consider the test data for evaluation and not the train data. In case you want to use the train data then in that case u can set train score value as true and then it will consider train metrics also for evaluation.\n",
    "grid.return_train_score=True"
   ]
  },
  {
   "cell_type": "code",
   "execution_count": 62,
   "id": "29f5ec96",
   "metadata": {},
   "outputs": [
    {
     "data": {
      "text/html": [
       "<div>\n",
       "<style scoped>\n",
       "    .dataframe tbody tr th:only-of-type {\n",
       "        vertical-align: middle;\n",
       "    }\n",
       "\n",
       "    .dataframe tbody tr th {\n",
       "        vertical-align: top;\n",
       "    }\n",
       "\n",
       "    .dataframe thead th {\n",
       "        text-align: right;\n",
       "    }\n",
       "</style>\n",
       "<table border=\"1\" class=\"dataframe\">\n",
       "  <thead>\n",
       "    <tr style=\"text-align: right;\">\n",
       "      <th></th>\n",
       "      <th>mean_fit_time</th>\n",
       "      <th>std_fit_time</th>\n",
       "      <th>mean_score_time</th>\n",
       "      <th>std_score_time</th>\n",
       "      <th>param_max_depth</th>\n",
       "      <th>param_min_samples_leaf</th>\n",
       "      <th>params</th>\n",
       "      <th>split0_test_score</th>\n",
       "      <th>split1_test_score</th>\n",
       "      <th>split2_test_score</th>\n",
       "      <th>mean_test_score</th>\n",
       "      <th>std_test_score</th>\n",
       "      <th>rank_test_score</th>\n",
       "    </tr>\n",
       "  </thead>\n",
       "  <tbody>\n",
       "    <tr>\n",
       "      <th>0</th>\n",
       "      <td>0.035694</td>\n",
       "      <td>3.994774e-02</td>\n",
       "      <td>0.033706</td>\n",
       "      <td>0.038527</td>\n",
       "      <td>3</td>\n",
       "      <td>3</td>\n",
       "      <td>{'max_depth': 3, 'min_samples_leaf': 3}</td>\n",
       "      <td>0.794664</td>\n",
       "      <td>0.840316</td>\n",
       "      <td>0.815020</td>\n",
       "      <td>0.816667</td>\n",
       "      <td>0.018674</td>\n",
       "      <td>7</td>\n",
       "    </tr>\n",
       "    <tr>\n",
       "      <th>1</th>\n",
       "      <td>0.002992</td>\n",
       "      <td>5.947204e-07</td>\n",
       "      <td>0.003701</td>\n",
       "      <td>0.000506</td>\n",
       "      <td>3</td>\n",
       "      <td>5</td>\n",
       "      <td>{'max_depth': 3, 'min_samples_leaf': 5}</td>\n",
       "      <td>0.817589</td>\n",
       "      <td>0.842688</td>\n",
       "      <td>0.815020</td>\n",
       "      <td>0.825099</td>\n",
       "      <td>0.012481</td>\n",
       "      <td>5</td>\n",
       "    </tr>\n",
       "    <tr>\n",
       "      <th>2</th>\n",
       "      <td>0.002739</td>\n",
       "      <td>3.580234e-04</td>\n",
       "      <td>0.001915</td>\n",
       "      <td>0.000112</td>\n",
       "      <td>3</td>\n",
       "      <td>10</td>\n",
       "      <td>{'max_depth': 3, 'min_samples_leaf': 10}</td>\n",
       "      <td>0.854941</td>\n",
       "      <td>0.837945</td>\n",
       "      <td>0.830435</td>\n",
       "      <td>0.841107</td>\n",
       "      <td>0.010251</td>\n",
       "      <td>3</td>\n",
       "    </tr>\n",
       "    <tr>\n",
       "      <th>3</th>\n",
       "      <td>0.001995</td>\n",
       "      <td>8.920806e-07</td>\n",
       "      <td>0.002035</td>\n",
       "      <td>0.000058</td>\n",
       "      <td>5</td>\n",
       "      <td>3</td>\n",
       "      <td>{'max_depth': 5, 'min_samples_leaf': 3}</td>\n",
       "      <td>0.808103</td>\n",
       "      <td>0.869960</td>\n",
       "      <td>0.797826</td>\n",
       "      <td>0.825296</td>\n",
       "      <td>0.031860</td>\n",
       "      <td>4</td>\n",
       "    </tr>\n",
       "    <tr>\n",
       "      <th>4</th>\n",
       "      <td>0.002402</td>\n",
       "      <td>5.047531e-04</td>\n",
       "      <td>0.001993</td>\n",
       "      <td>0.000003</td>\n",
       "      <td>5</td>\n",
       "      <td>5</td>\n",
       "      <td>{'max_depth': 5, 'min_samples_leaf': 5}</td>\n",
       "      <td>0.778854</td>\n",
       "      <td>0.887945</td>\n",
       "      <td>0.790316</td>\n",
       "      <td>0.819038</td>\n",
       "      <td>0.048948</td>\n",
       "      <td>6</td>\n",
       "    </tr>\n",
       "    <tr>\n",
       "      <th>5</th>\n",
       "      <td>0.002314</td>\n",
       "      <td>4.854711e-04</td>\n",
       "      <td>0.001995</td>\n",
       "      <td>0.000001</td>\n",
       "      <td>5</td>\n",
       "      <td>10</td>\n",
       "      <td>{'max_depth': 5, 'min_samples_leaf': 10}</td>\n",
       "      <td>0.861067</td>\n",
       "      <td>0.874901</td>\n",
       "      <td>0.824901</td>\n",
       "      <td>0.853623</td>\n",
       "      <td>0.021080</td>\n",
       "      <td>2</td>\n",
       "    </tr>\n",
       "    <tr>\n",
       "      <th>6</th>\n",
       "      <td>0.004152</td>\n",
       "      <td>2.247028e-03</td>\n",
       "      <td>0.001963</td>\n",
       "      <td>0.000049</td>\n",
       "      <td>7</td>\n",
       "      <td>3</td>\n",
       "      <td>{'max_depth': 7, 'min_samples_leaf': 3}</td>\n",
       "      <td>0.786957</td>\n",
       "      <td>0.851581</td>\n",
       "      <td>0.775889</td>\n",
       "      <td>0.804809</td>\n",
       "      <td>0.033380</td>\n",
       "      <td>9</td>\n",
       "    </tr>\n",
       "    <tr>\n",
       "      <th>7</th>\n",
       "      <td>0.002327</td>\n",
       "      <td>4.702465e-04</td>\n",
       "      <td>0.001698</td>\n",
       "      <td>0.000419</td>\n",
       "      <td>7</td>\n",
       "      <td>5</td>\n",
       "      <td>{'max_depth': 7, 'min_samples_leaf': 5}</td>\n",
       "      <td>0.781818</td>\n",
       "      <td>0.869960</td>\n",
       "      <td>0.785573</td>\n",
       "      <td>0.812451</td>\n",
       "      <td>0.040695</td>\n",
       "      <td>8</td>\n",
       "    </tr>\n",
       "    <tr>\n",
       "      <th>8</th>\n",
       "      <td>0.002327</td>\n",
       "      <td>4.699112e-04</td>\n",
       "      <td>0.002019</td>\n",
       "      <td>0.000036</td>\n",
       "      <td>7</td>\n",
       "      <td>10</td>\n",
       "      <td>{'max_depth': 7, 'min_samples_leaf': 10}</td>\n",
       "      <td>0.861067</td>\n",
       "      <td>0.882213</td>\n",
       "      <td>0.820356</td>\n",
       "      <td>0.854545</td>\n",
       "      <td>0.025671</td>\n",
       "      <td>1</td>\n",
       "    </tr>\n",
       "  </tbody>\n",
       "</table>\n",
       "</div>"
      ],
      "text/plain": [
       "   mean_fit_time  std_fit_time  mean_score_time  std_score_time  \\\n",
       "0       0.035694  3.994774e-02         0.033706        0.038527   \n",
       "1       0.002992  5.947204e-07         0.003701        0.000506   \n",
       "2       0.002739  3.580234e-04         0.001915        0.000112   \n",
       "3       0.001995  8.920806e-07         0.002035        0.000058   \n",
       "4       0.002402  5.047531e-04         0.001993        0.000003   \n",
       "5       0.002314  4.854711e-04         0.001995        0.000001   \n",
       "6       0.004152  2.247028e-03         0.001963        0.000049   \n",
       "7       0.002327  4.702465e-04         0.001698        0.000419   \n",
       "8       0.002327  4.699112e-04         0.002019        0.000036   \n",
       "\n",
       "  param_max_depth param_min_samples_leaf  \\\n",
       "0               3                      3   \n",
       "1               3                      5   \n",
       "2               3                     10   \n",
       "3               5                      3   \n",
       "4               5                      5   \n",
       "5               5                     10   \n",
       "6               7                      3   \n",
       "7               7                      5   \n",
       "8               7                     10   \n",
       "\n",
       "                                     params  split0_test_score  \\\n",
       "0   {'max_depth': 3, 'min_samples_leaf': 3}           0.794664   \n",
       "1   {'max_depth': 3, 'min_samples_leaf': 5}           0.817589   \n",
       "2  {'max_depth': 3, 'min_samples_leaf': 10}           0.854941   \n",
       "3   {'max_depth': 5, 'min_samples_leaf': 3}           0.808103   \n",
       "4   {'max_depth': 5, 'min_samples_leaf': 5}           0.778854   \n",
       "5  {'max_depth': 5, 'min_samples_leaf': 10}           0.861067   \n",
       "6   {'max_depth': 7, 'min_samples_leaf': 3}           0.786957   \n",
       "7   {'max_depth': 7, 'min_samples_leaf': 5}           0.781818   \n",
       "8  {'max_depth': 7, 'min_samples_leaf': 10}           0.861067   \n",
       "\n",
       "   split1_test_score  split2_test_score  mean_test_score  std_test_score  \\\n",
       "0           0.840316           0.815020         0.816667        0.018674   \n",
       "1           0.842688           0.815020         0.825099        0.012481   \n",
       "2           0.837945           0.830435         0.841107        0.010251   \n",
       "3           0.869960           0.797826         0.825296        0.031860   \n",
       "4           0.887945           0.790316         0.819038        0.048948   \n",
       "5           0.874901           0.824901         0.853623        0.021080   \n",
       "6           0.851581           0.775889         0.804809        0.033380   \n",
       "7           0.869960           0.785573         0.812451        0.040695   \n",
       "8           0.882213           0.820356         0.854545        0.025671   \n",
       "\n",
       "   rank_test_score  \n",
       "0                7  \n",
       "1                5  \n",
       "2                3  \n",
       "3                4  \n",
       "4                6  \n",
       "5                2  \n",
       "6                9  \n",
       "7                8  \n",
       "8                1  "
      ]
     },
     "execution_count": 62,
     "metadata": {},
     "output_type": "execute_result"
    }
   ],
   "source": [
    "pd.DataFrame(grid.cv_results_)"
   ]
  },
  {
   "cell_type": "markdown",
   "id": "77e90c61",
   "metadata": {},
   "source": [
    "## DecisionTreeRegressor"
   ]
  },
  {
   "cell_type": "code",
   "execution_count": 77,
   "id": "23bfe8bb",
   "metadata": {},
   "outputs": [
    {
     "data": {
      "text/html": [
       "<div>\n",
       "<style scoped>\n",
       "    .dataframe tbody tr th:only-of-type {\n",
       "        vertical-align: middle;\n",
       "    }\n",
       "\n",
       "    .dataframe tbody tr th {\n",
       "        vertical-align: top;\n",
       "    }\n",
       "\n",
       "    .dataframe thead th {\n",
       "        text-align: right;\n",
       "    }\n",
       "</style>\n",
       "<table border=\"1\" class=\"dataframe\">\n",
       "  <thead>\n",
       "    <tr style=\"text-align: right;\">\n",
       "      <th></th>\n",
       "      <th>Unnamed: 0</th>\n",
       "      <th>TV</th>\n",
       "      <th>Radio</th>\n",
       "      <th>Newspaper</th>\n",
       "      <th>Sales</th>\n",
       "    </tr>\n",
       "  </thead>\n",
       "  <tbody>\n",
       "    <tr>\n",
       "      <th>0</th>\n",
       "      <td>1</td>\n",
       "      <td>230.1</td>\n",
       "      <td>37.8</td>\n",
       "      <td>69.2</td>\n",
       "      <td>22.1</td>\n",
       "    </tr>\n",
       "    <tr>\n",
       "      <th>1</th>\n",
       "      <td>2</td>\n",
       "      <td>44.5</td>\n",
       "      <td>39.3</td>\n",
       "      <td>45.1</td>\n",
       "      <td>10.4</td>\n",
       "    </tr>\n",
       "    <tr>\n",
       "      <th>2</th>\n",
       "      <td>3</td>\n",
       "      <td>17.2</td>\n",
       "      <td>45.9</td>\n",
       "      <td>69.3</td>\n",
       "      <td>9.3</td>\n",
       "    </tr>\n",
       "    <tr>\n",
       "      <th>3</th>\n",
       "      <td>4</td>\n",
       "      <td>151.5</td>\n",
       "      <td>41.3</td>\n",
       "      <td>58.5</td>\n",
       "      <td>18.5</td>\n",
       "    </tr>\n",
       "    <tr>\n",
       "      <th>4</th>\n",
       "      <td>5</td>\n",
       "      <td>180.8</td>\n",
       "      <td>10.8</td>\n",
       "      <td>58.4</td>\n",
       "      <td>12.9</td>\n",
       "    </tr>\n",
       "  </tbody>\n",
       "</table>\n",
       "</div>"
      ],
      "text/plain": [
       "   Unnamed: 0     TV  Radio  Newspaper  Sales\n",
       "0           1  230.1   37.8       69.2   22.1\n",
       "1           2   44.5   39.3       45.1   10.4\n",
       "2           3   17.2   45.9       69.3    9.3\n",
       "3           4  151.5   41.3       58.5   18.5\n",
       "4           5  180.8   10.8       58.4   12.9"
      ]
     },
     "execution_count": 77,
     "metadata": {},
     "output_type": "execute_result"
    }
   ],
   "source": [
    "import seaborn as sns\n",
    "adv_data=pd.read_csv('advertising.csv')\n",
    "adv_data.head()"
   ]
  },
  {
   "cell_type": "code",
   "execution_count": 79,
   "id": "c2d5376b",
   "metadata": {},
   "outputs": [],
   "source": [
    "x=adv_data[['TV','Radio','Newspaper']]\n",
    "y=adv_data['Sales']"
   ]
  },
  {
   "cell_type": "code",
   "execution_count": 86,
   "id": "e2063eaa",
   "metadata": {},
   "outputs": [],
   "source": [
    "from sklearn.model_selection import train_test_split\n",
    "x_train,x_test,y_train,y_test = train_test_split(x,y,test_size=0.30,random_state=123)"
   ]
  },
  {
   "cell_type": "code",
   "execution_count": 87,
   "id": "cff6c8d3",
   "metadata": {},
   "outputs": [
    {
     "data": {
      "text/html": [
       "<div>\n",
       "<style scoped>\n",
       "    .dataframe tbody tr th:only-of-type {\n",
       "        vertical-align: middle;\n",
       "    }\n",
       "\n",
       "    .dataframe tbody tr th {\n",
       "        vertical-align: top;\n",
       "    }\n",
       "\n",
       "    .dataframe thead th {\n",
       "        text-align: right;\n",
       "    }\n",
       "</style>\n",
       "<table border=\"1\" class=\"dataframe\">\n",
       "  <thead>\n",
       "    <tr style=\"text-align: right;\">\n",
       "      <th></th>\n",
       "      <th>TV</th>\n",
       "      <th>Radio</th>\n",
       "      <th>Newspaper</th>\n",
       "    </tr>\n",
       "  </thead>\n",
       "  <tbody>\n",
       "    <tr>\n",
       "      <th>81</th>\n",
       "      <td>239.8</td>\n",
       "      <td>4.1</td>\n",
       "      <td>36.9</td>\n",
       "    </tr>\n",
       "    <tr>\n",
       "      <th>107</th>\n",
       "      <td>90.4</td>\n",
       "      <td>0.3</td>\n",
       "      <td>23.2</td>\n",
       "    </tr>\n",
       "    <tr>\n",
       "      <th>112</th>\n",
       "      <td>175.7</td>\n",
       "      <td>15.4</td>\n",
       "      <td>2.4</td>\n",
       "    </tr>\n",
       "    <tr>\n",
       "      <th>145</th>\n",
       "      <td>140.3</td>\n",
       "      <td>1.9</td>\n",
       "      <td>9.0</td>\n",
       "    </tr>\n",
       "    <tr>\n",
       "      <th>8</th>\n",
       "      <td>8.6</td>\n",
       "      <td>2.1</td>\n",
       "      <td>1.0</td>\n",
       "    </tr>\n",
       "  </tbody>\n",
       "</table>\n",
       "</div>"
      ],
      "text/plain": [
       "        TV  Radio  Newspaper\n",
       "81   239.8    4.1       36.9\n",
       "107   90.4    0.3       23.2\n",
       "112  175.7   15.4        2.4\n",
       "145  140.3    1.9        9.0\n",
       "8      8.6    2.1        1.0"
      ]
     },
     "execution_count": 87,
     "metadata": {},
     "output_type": "execute_result"
    }
   ],
   "source": [
    "x_train.head()"
   ]
  },
  {
   "cell_type": "code",
   "execution_count": 88,
   "id": "a3ba69f2",
   "metadata": {},
   "outputs": [
    {
     "data": {
      "text/plain": [
       "79     11.0\n",
       "139    20.7\n",
       "152    16.6\n",
       "172     7.6\n",
       "19     14.6\n",
       "Name: Sales, dtype: float64"
      ]
     },
     "execution_count": 88,
     "metadata": {},
     "output_type": "execute_result"
    }
   ],
   "source": [
    "y_test.sample(5)"
   ]
  },
  {
   "cell_type": "code",
   "execution_count": 89,
   "id": "17e8ed88",
   "metadata": {},
   "outputs": [
    {
     "data": {
      "text/plain": [
       "(140, 3)"
      ]
     },
     "execution_count": 89,
     "metadata": {},
     "output_type": "execute_result"
    }
   ],
   "source": [
    "y_test.shape\n",
    "x_train.shape"
   ]
  },
  {
   "cell_type": "code",
   "execution_count": 90,
   "id": "4f7bd572",
   "metadata": {},
   "outputs": [],
   "source": [
    "from sklearn.tree import DecisionTreeRegressor\n",
    "from sklearn.model_selection import GridSearchCV\n",
    "\n",
    "params={\n",
    "    'max_depth': [3,5,7],\n",
    "    'min_samples_leaf' : [5,10]\n",
    "}\n",
    "\n",
    "dtr = DecisionTreeRegressor(random_state=120)\n",
    "\n",
    "grid=GridSearchCV(estimator=dtr,\n",
    "                 param_grid=params,\n",
    "                scoring='roc_auc',\n",
    "                 cv = 3)"
   ]
  },
  {
   "cell_type": "code",
   "execution_count": 91,
   "id": "1e58b0c3",
   "metadata": {},
   "outputs": [
    {
     "data": {
      "text/plain": [
       "GridSearchCV(cv=3, estimator=DecisionTreeRegressor(random_state=120),\n",
       "             param_grid={'max_depth': [3, 5, 7], 'min_samples_leaf': [5, 10]},\n",
       "             scoring='roc_auc')"
      ]
     },
     "execution_count": 91,
     "metadata": {},
     "output_type": "execute_result"
    }
   ],
   "source": [
    "grid.fit(x,y)"
   ]
  },
  {
   "cell_type": "code",
   "execution_count": 92,
   "id": "1870feb4",
   "metadata": {},
   "outputs": [
    {
     "data": {
      "text/plain": [
       "DecisionTreeRegressor(max_depth=3, min_samples_leaf=5, random_state=120)"
      ]
     },
     "execution_count": 92,
     "metadata": {},
     "output_type": "execute_result"
    }
   ],
   "source": [
    "grid.best_estimator_"
   ]
  },
  {
   "cell_type": "code",
   "execution_count": 93,
   "id": "d33c6393",
   "metadata": {},
   "outputs": [
    {
     "data": {
      "text/plain": [
       "array([21.94871795, 13.1       ,  7.50526316, 17.95882353, 15.24375   ,\n",
       "        7.50526316, 13.1       , 10.26410256,  4.67142857, 11.86206897,\n",
       "       10.26410256, 15.24375   ,  7.50526316, 10.26410256, 21.94871795,\n",
       "       21.94871795, 13.1       , 21.94871795, 10.26410256, 15.24375   ,\n",
       "       21.94871795, 11.86206897,  7.50526316, 15.24375   , 10.26410256,\n",
       "       11.86206897, 17.95882353, 15.24375   , 21.94871795, 10.26410256,\n",
       "       21.94871795, 10.26410256, 10.26410256, 15.24375   , 10.26410256,\n",
       "       11.86206897, 21.94871795, 13.1       , 10.26410256, 21.94871795,\n",
       "       15.24375   , 17.95882353, 21.94871795, 11.86206897,  7.50526316,\n",
       "       15.24375   , 10.26410256, 21.94871795, 15.24375   , 10.26410256,\n",
       "       11.86206897, 10.26410256, 21.94871795, 17.95882353, 21.94871795,\n",
       "       21.94871795,  4.67142857, 15.24375   , 21.94871795, 21.94871795,\n",
       "       10.26410256, 21.94871795, 15.24375   , 13.1       , 17.95882353,\n",
       "       10.26410256, 10.26410256, 15.24375   , 21.94871795, 21.94871795,\n",
       "       21.94871795, 10.26410256,  7.50526316, 11.86206897, 15.24375   ,\n",
       "        7.50526316,  7.50526316, 13.1       ,  4.67142857, 10.26410256,\n",
       "       10.26410256, 11.86206897, 10.26410256, 13.1       , 21.94871795,\n",
       "       15.24375   , 13.1       , 13.1       , 10.26410256, 13.1       ,\n",
       "       11.86206897,  7.50526316, 21.94871795, 21.94871795, 10.26410256,\n",
       "       17.95882353, 11.86206897, 15.24375   , 21.94871795, 17.95882353,\n",
       "       11.86206897, 21.94871795, 15.24375   , 15.24375   , 21.94871795,\n",
       "       17.95882353,  7.50526316, 10.26410256,  7.50526316, 21.94871795,\n",
       "       11.86206897, 21.94871795, 15.24375   , 15.24375   , 13.1       ,\n",
       "       13.1       , 15.24375   , 10.26410256, 17.95882353,  7.50526316,\n",
       "       15.24375   ,  7.50526316, 11.86206897, 17.95882353, 21.94871795,\n",
       "       10.26410256,  4.67142857, 10.26410256, 21.94871795, 10.26410256,\n",
       "        4.67142857, 11.86206897,  4.67142857, 21.94871795, 13.1       ,\n",
       "       13.1       ,  7.50526316, 21.94871795, 10.26410256, 17.95882353,\n",
       "       10.26410256, 17.95882353, 21.94871795, 10.26410256, 10.26410256,\n",
       "       11.86206897, 11.86206897, 21.94871795, 13.1       , 10.26410256,\n",
       "       15.24375   , 10.26410256, 15.24375   , 17.95882353, 15.24375   ,\n",
       "        4.67142857, 13.1       , 11.86206897,  7.50526316, 15.24375   ,\n",
       "       15.24375   , 13.1       , 15.24375   , 17.95882353, 10.26410256,\n",
       "       11.86206897,  7.50526316, 11.86206897, 15.24375   , 15.24375   ,\n",
       "       10.26410256, 15.24375   ,  7.50526316, 11.86206897, 11.86206897,\n",
       "       21.94871795, 21.94871795, 11.86206897, 11.86206897, 11.86206897,\n",
       "       11.86206897, 11.86206897, 10.26410256, 21.94871795, 15.24375   ,\n",
       "       21.94871795, 11.86206897, 17.95882353, 15.24375   ,  7.50526316,\n",
       "       13.1       , 10.26410256,  7.50526316, 17.95882353, 17.95882353,\n",
       "       10.26410256, 10.26410256, 11.86206897, 21.94871795, 11.86206897])"
      ]
     },
     "execution_count": 93,
     "metadata": {},
     "output_type": "execute_result"
    }
   ],
   "source": [
    "grid.best_estimator_.predict(x)"
   ]
  },
  {
   "cell_type": "code",
   "execution_count": 95,
   "id": "f8d2b492",
   "metadata": {},
   "outputs": [
    {
     "data": {
      "text/plain": [
       "0"
      ]
     },
     "execution_count": 95,
     "metadata": {},
     "output_type": "execute_result"
    }
   ],
   "source": [
    "grid.best_index_"
   ]
  },
  {
   "cell_type": "code",
   "execution_count": 96,
   "id": "8096750e",
   "metadata": {},
   "outputs": [
    {
     "data": {
      "text/plain": [
       "{'max_depth': 3, 'min_samples_leaf': 5}"
      ]
     },
     "execution_count": 96,
     "metadata": {},
     "output_type": "execute_result"
    }
   ],
   "source": [
    "grid.best_params_"
   ]
  },
  {
   "cell_type": "code",
   "execution_count": 97,
   "id": "76cc2419",
   "metadata": {},
   "outputs": [
    {
     "data": {
      "text/plain": [
       "{'mean_fit_time': array([0.10171302, 0.0059646 , 0.00150514, 0.00528256, 0.        ,\n",
       "        0.00535019]),\n",
       " 'std_fit_time': array([0.13457044, 0.00843521, 0.00212858, 0.00747067, 0.        ,\n",
       "        0.00756631]),\n",
       " 'mean_score_time': array([0.01176532, 0.        , 0.        , 0.00033379, 0.00522916,\n",
       "        0.00033283]),\n",
       " 'std_score_time': array([0.01663868, 0.        , 0.        , 0.00047204, 0.00739514,\n",
       "        0.0004707 ]),\n",
       " 'param_max_depth': masked_array(data=[3, 3, 5, 5, 7, 7],\n",
       "              mask=[False, False, False, False, False, False],\n",
       "        fill_value='?',\n",
       "             dtype=object),\n",
       " 'param_min_samples_leaf': masked_array(data=[5, 10, 5, 10, 5, 10],\n",
       "              mask=[False, False, False, False, False, False],\n",
       "        fill_value='?',\n",
       "             dtype=object),\n",
       " 'params': [{'max_depth': 3, 'min_samples_leaf': 5},\n",
       "  {'max_depth': 3, 'min_samples_leaf': 10},\n",
       "  {'max_depth': 5, 'min_samples_leaf': 5},\n",
       "  {'max_depth': 5, 'min_samples_leaf': 10},\n",
       "  {'max_depth': 7, 'min_samples_leaf': 5},\n",
       "  {'max_depth': 7, 'min_samples_leaf': 10}],\n",
       " 'split0_test_score': array([nan, nan, nan, nan, nan, nan]),\n",
       " 'split1_test_score': array([nan, nan, nan, nan, nan, nan]),\n",
       " 'split2_test_score': array([nan, nan, nan, nan, nan, nan]),\n",
       " 'mean_test_score': array([nan, nan, nan, nan, nan, nan]),\n",
       " 'std_test_score': array([nan, nan, nan, nan, nan, nan]),\n",
       " 'rank_test_score': array([1, 2, 3, 4, 5, 6])}"
      ]
     },
     "execution_count": 97,
     "metadata": {},
     "output_type": "execute_result"
    }
   ],
   "source": [
    "grid.cv_results_"
   ]
  },
  {
   "cell_type": "code",
   "execution_count": 98,
   "id": "260fa639",
   "metadata": {},
   "outputs": [
    {
     "data": {
      "text/html": [
       "<div>\n",
       "<style scoped>\n",
       "    .dataframe tbody tr th:only-of-type {\n",
       "        vertical-align: middle;\n",
       "    }\n",
       "\n",
       "    .dataframe tbody tr th {\n",
       "        vertical-align: top;\n",
       "    }\n",
       "\n",
       "    .dataframe thead th {\n",
       "        text-align: right;\n",
       "    }\n",
       "</style>\n",
       "<table border=\"1\" class=\"dataframe\">\n",
       "  <thead>\n",
       "    <tr style=\"text-align: right;\">\n",
       "      <th></th>\n",
       "      <th>mean_fit_time</th>\n",
       "      <th>std_fit_time</th>\n",
       "      <th>mean_score_time</th>\n",
       "      <th>std_score_time</th>\n",
       "      <th>param_max_depth</th>\n",
       "      <th>param_min_samples_leaf</th>\n",
       "      <th>params</th>\n",
       "      <th>split0_test_score</th>\n",
       "      <th>split1_test_score</th>\n",
       "      <th>split2_test_score</th>\n",
       "      <th>mean_test_score</th>\n",
       "      <th>std_test_score</th>\n",
       "      <th>rank_test_score</th>\n",
       "    </tr>\n",
       "  </thead>\n",
       "  <tbody>\n",
       "    <tr>\n",
       "      <th>0</th>\n",
       "      <td>0.101713</td>\n",
       "      <td>0.134570</td>\n",
       "      <td>0.011765</td>\n",
       "      <td>0.016639</td>\n",
       "      <td>3</td>\n",
       "      <td>5</td>\n",
       "      <td>{'max_depth': 3, 'min_samples_leaf': 5}</td>\n",
       "      <td>NaN</td>\n",
       "      <td>NaN</td>\n",
       "      <td>NaN</td>\n",
       "      <td>NaN</td>\n",
       "      <td>NaN</td>\n",
       "      <td>1</td>\n",
       "    </tr>\n",
       "    <tr>\n",
       "      <th>1</th>\n",
       "      <td>0.005965</td>\n",
       "      <td>0.008435</td>\n",
       "      <td>0.000000</td>\n",
       "      <td>0.000000</td>\n",
       "      <td>3</td>\n",
       "      <td>10</td>\n",
       "      <td>{'max_depth': 3, 'min_samples_leaf': 10}</td>\n",
       "      <td>NaN</td>\n",
       "      <td>NaN</td>\n",
       "      <td>NaN</td>\n",
       "      <td>NaN</td>\n",
       "      <td>NaN</td>\n",
       "      <td>2</td>\n",
       "    </tr>\n",
       "    <tr>\n",
       "      <th>2</th>\n",
       "      <td>0.001505</td>\n",
       "      <td>0.002129</td>\n",
       "      <td>0.000000</td>\n",
       "      <td>0.000000</td>\n",
       "      <td>5</td>\n",
       "      <td>5</td>\n",
       "      <td>{'max_depth': 5, 'min_samples_leaf': 5}</td>\n",
       "      <td>NaN</td>\n",
       "      <td>NaN</td>\n",
       "      <td>NaN</td>\n",
       "      <td>NaN</td>\n",
       "      <td>NaN</td>\n",
       "      <td>3</td>\n",
       "    </tr>\n",
       "    <tr>\n",
       "      <th>3</th>\n",
       "      <td>0.005283</td>\n",
       "      <td>0.007471</td>\n",
       "      <td>0.000334</td>\n",
       "      <td>0.000472</td>\n",
       "      <td>5</td>\n",
       "      <td>10</td>\n",
       "      <td>{'max_depth': 5, 'min_samples_leaf': 10}</td>\n",
       "      <td>NaN</td>\n",
       "      <td>NaN</td>\n",
       "      <td>NaN</td>\n",
       "      <td>NaN</td>\n",
       "      <td>NaN</td>\n",
       "      <td>4</td>\n",
       "    </tr>\n",
       "    <tr>\n",
       "      <th>4</th>\n",
       "      <td>0.000000</td>\n",
       "      <td>0.000000</td>\n",
       "      <td>0.005229</td>\n",
       "      <td>0.007395</td>\n",
       "      <td>7</td>\n",
       "      <td>5</td>\n",
       "      <td>{'max_depth': 7, 'min_samples_leaf': 5}</td>\n",
       "      <td>NaN</td>\n",
       "      <td>NaN</td>\n",
       "      <td>NaN</td>\n",
       "      <td>NaN</td>\n",
       "      <td>NaN</td>\n",
       "      <td>5</td>\n",
       "    </tr>\n",
       "    <tr>\n",
       "      <th>5</th>\n",
       "      <td>0.005350</td>\n",
       "      <td>0.007566</td>\n",
       "      <td>0.000333</td>\n",
       "      <td>0.000471</td>\n",
       "      <td>7</td>\n",
       "      <td>10</td>\n",
       "      <td>{'max_depth': 7, 'min_samples_leaf': 10}</td>\n",
       "      <td>NaN</td>\n",
       "      <td>NaN</td>\n",
       "      <td>NaN</td>\n",
       "      <td>NaN</td>\n",
       "      <td>NaN</td>\n",
       "      <td>6</td>\n",
       "    </tr>\n",
       "  </tbody>\n",
       "</table>\n",
       "</div>"
      ],
      "text/plain": [
       "   mean_fit_time  std_fit_time  mean_score_time  std_score_time  \\\n",
       "0       0.101713      0.134570         0.011765        0.016639   \n",
       "1       0.005965      0.008435         0.000000        0.000000   \n",
       "2       0.001505      0.002129         0.000000        0.000000   \n",
       "3       0.005283      0.007471         0.000334        0.000472   \n",
       "4       0.000000      0.000000         0.005229        0.007395   \n",
       "5       0.005350      0.007566         0.000333        0.000471   \n",
       "\n",
       "  param_max_depth param_min_samples_leaf  \\\n",
       "0               3                      5   \n",
       "1               3                     10   \n",
       "2               5                      5   \n",
       "3               5                     10   \n",
       "4               7                      5   \n",
       "5               7                     10   \n",
       "\n",
       "                                     params  split0_test_score  \\\n",
       "0   {'max_depth': 3, 'min_samples_leaf': 5}                NaN   \n",
       "1  {'max_depth': 3, 'min_samples_leaf': 10}                NaN   \n",
       "2   {'max_depth': 5, 'min_samples_leaf': 5}                NaN   \n",
       "3  {'max_depth': 5, 'min_samples_leaf': 10}                NaN   \n",
       "4   {'max_depth': 7, 'min_samples_leaf': 5}                NaN   \n",
       "5  {'max_depth': 7, 'min_samples_leaf': 10}                NaN   \n",
       "\n",
       "   split1_test_score  split2_test_score  mean_test_score  std_test_score  \\\n",
       "0                NaN                NaN              NaN             NaN   \n",
       "1                NaN                NaN              NaN             NaN   \n",
       "2                NaN                NaN              NaN             NaN   \n",
       "3                NaN                NaN              NaN             NaN   \n",
       "4                NaN                NaN              NaN             NaN   \n",
       "5                NaN                NaN              NaN             NaN   \n",
       "\n",
       "   rank_test_score  \n",
       "0                1  \n",
       "1                2  \n",
       "2                3  \n",
       "3                4  \n",
       "4                5  \n",
       "5                6  "
      ]
     },
     "execution_count": 98,
     "metadata": {},
     "output_type": "execute_result"
    }
   ],
   "source": [
    "pd.DataFrame(grid.cv_results_)"
   ]
  },
  {
   "cell_type": "code",
   "execution_count": null,
   "id": "f837a4ab",
   "metadata": {},
   "outputs": [],
   "source": [
    "# find gini impurity"
   ]
  },
  {
   "cell_type": "markdown",
   "id": "452be074",
   "metadata": {},
   "source": [
    "# RANDOM FOREST"
   ]
  },
  {
   "cell_type": "code",
   "execution_count": 33,
   "id": "1ff44a6a",
   "metadata": {},
   "outputs": [],
   "source": [
    "from sklearn.ensemble import RandomForestClassifier\n",
    "from sklearn.model_selection import GridSearchCV\n",
    "\n",
    "rf_clf = RandomForestClassifier()\n",
    "\n",
    "params = {\n",
    "    'n_estimators' : [50,100,200,500],\n",
    "    'max_depth' : [3,5,7],\n",
    "    'max_samples' : [0.8,0.9,1],    # number of rows(data) that should be there . eg 80% \n",
    "    'max_features' : [5,8,10],   # number of columns that can be there\n",
    "    'min_samples_leaf' : [10,20],  # min no. of samples that should  be there in a leaf node. # if we take very less value then we might overfit the data nd very high value then it will not go very deep into tree so underfit might happen.\n",
    "    'min_samples_split' : [10,20]  # to consider splitting further or not this much no. of minimum samples should be there.\n",
    "}\n",
    "\n",
    "# nnumber of models it will create is - 4*3*3*3*3*2 = .."
   ]
  },
  {
   "cell_type": "raw",
   "id": "86286e4f",
   "metadata": {},
   "source": [
    "--> if we have depth - high and no. of tree - high then it will overfit\n",
    "--> if we have depth - low and no. of tree - high then it will be balanced model\n",
    "--> if we have depth - high and no. of tree - low then it will be balanced model\n",
    "--> if we have depth - low and no. of tree - low then it will be underfit bcoz of less data. we are being strict with it.\n"
   ]
  },
  {
   "cell_type": "code",
   "execution_count": 34,
   "id": "3e502da7",
   "metadata": {},
   "outputs": [],
   "source": [
    "grid = GridSearchCV(estimator=rf_clf,\n",
    "                   param_grid=params,\n",
    "                   cv=3,\n",
    "                   scoring='roc_auc')"
   ]
  },
  {
   "cell_type": "code",
   "execution_count": 35,
   "id": "87b0957e",
   "metadata": {},
   "outputs": [],
   "source": [
    "x = data[num_cols+cat_cols]\n",
    "y = data[target_variable]"
   ]
  },
  {
   "cell_type": "code",
   "execution_count": 73,
   "id": "601af164",
   "metadata": {},
   "outputs": [
    {
     "data": {
      "text/plain": [
       "GridSearchCV(cv=3, estimator=DecisionTreeClassifier(),\n",
       "             param_grid={'max_depth': [3, 5, 7],\n",
       "                         'min_samples_leaf': [3, 5, 10]},\n",
       "             return_train_score=True, scoring='roc_auc')"
      ]
     },
     "execution_count": 73,
     "metadata": {},
     "output_type": "execute_result"
    }
   ],
   "source": [
    "grid.fit(x,y)"
   ]
  },
  {
   "cell_type": "code",
   "execution_count": 53,
   "id": "9ff04d60",
   "metadata": {},
   "outputs": [],
   "source": [
    "# rremove som params and try again"
   ]
  },
  {
   "cell_type": "code",
   "execution_count": null,
   "id": "47e52900",
   "metadata": {},
   "outputs": [],
   "source": []
  }
 ],
 "metadata": {
  "kernelspec": {
   "display_name": "Python 3 (ipykernel)",
   "language": "python",
   "name": "python3"
  },
  "language_info": {
   "codemirror_mode": {
    "name": "ipython",
    "version": 3
   },
   "file_extension": ".py",
   "mimetype": "text/x-python",
   "name": "python",
   "nbconvert_exporter": "python",
   "pygments_lexer": "ipython3",
   "version": "3.9.12"
  }
 },
 "nbformat": 4,
 "nbformat_minor": 5
}
