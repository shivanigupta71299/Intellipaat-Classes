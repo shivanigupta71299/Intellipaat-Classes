{
 "cells": [
  {
   "cell_type": "code",
   "execution_count": 15,
   "id": "d3d97230",
   "metadata": {},
   "outputs": [
    {
     "data": {
      "text/html": [
       "<div>\n",
       "<style scoped>\n",
       "    .dataframe tbody tr th:only-of-type {\n",
       "        vertical-align: middle;\n",
       "    }\n",
       "\n",
       "    .dataframe tbody tr th {\n",
       "        vertical-align: top;\n",
       "    }\n",
       "\n",
       "    .dataframe thead th {\n",
       "        text-align: right;\n",
       "    }\n",
       "</style>\n",
       "<table border=\"1\" class=\"dataframe\">\n",
       "  <thead>\n",
       "    <tr style=\"text-align: right;\">\n",
       "      <th></th>\n",
       "      <th>Date</th>\n",
       "      <th>Total</th>\n",
       "    </tr>\n",
       "  </thead>\n",
       "  <tbody>\n",
       "    <tr>\n",
       "      <th>319</th>\n",
       "      <td>2012-8-01</td>\n",
       "      <td>14442</td>\n",
       "    </tr>\n",
       "    <tr>\n",
       "      <th>320</th>\n",
       "      <td>2012-9-01</td>\n",
       "      <td>13422</td>\n",
       "    </tr>\n",
       "    <tr>\n",
       "      <th>321</th>\n",
       "      <td>2012-10-01</td>\n",
       "      <td>13795</td>\n",
       "    </tr>\n",
       "    <tr>\n",
       "      <th>322</th>\n",
       "      <td>2012-11-01</td>\n",
       "      <td>13352</td>\n",
       "    </tr>\n",
       "    <tr>\n",
       "      <th>323</th>\n",
       "      <td>2012-12-01</td>\n",
       "      <td>12716</td>\n",
       "    </tr>\n",
       "  </tbody>\n",
       "</table>\n",
       "</div>"
      ],
      "text/plain": [
       "           Date  Total\n",
       "319   2012-8-01  14442\n",
       "320   2012-9-01  13422\n",
       "321  2012-10-01  13795\n",
       "322  2012-11-01  13352\n",
       "323  2012-12-01  12716"
      ]
     },
     "execution_count": 15,
     "metadata": {},
     "output_type": "execute_result"
    }
   ],
   "source": [
    "import pandas as pd\n",
    "import numpy as np\n",
    "import matplotlib.pyplot as plt\n",
    "\n",
    "data=pd.read_csv('catfish.csv')\n",
    "data.tail()"
   ]
  },
  {
   "cell_type": "code",
   "execution_count": 3,
   "id": "34ff8666",
   "metadata": {},
   "outputs": [
    {
     "name": "stdout",
     "output_type": "stream",
     "text": [
      "<class 'pandas.core.frame.DataFrame'>\n",
      "RangeIndex: 324 entries, 0 to 323\n",
      "Data columns (total 2 columns):\n",
      " #   Column  Non-Null Count  Dtype \n",
      "---  ------  --------------  ----- \n",
      " 0   Date    324 non-null    object\n",
      " 1   Total   324 non-null    int64 \n",
      "dtypes: int64(1), object(1)\n",
      "memory usage: 5.2+ KB\n"
     ]
    }
   ],
   "source": [
    "data.info()"
   ]
  },
  {
   "cell_type": "code",
   "execution_count": 9,
   "id": "f0f12851",
   "metadata": {},
   "outputs": [],
   "source": [
    "data['Date'] = pd.to_datetime(data['Date'])"
   ]
  },
  {
   "cell_type": "code",
   "execution_count": 7,
   "id": "1fa1ed75",
   "metadata": {},
   "outputs": [
    {
     "name": "stdout",
     "output_type": "stream",
     "text": [
      "<class 'pandas.core.frame.DataFrame'>\n",
      "RangeIndex: 324 entries, 0 to 323\n",
      "Data columns (total 2 columns):\n",
      " #   Column  Non-Null Count  Dtype         \n",
      "---  ------  --------------  -----         \n",
      " 0   Date    324 non-null    datetime64[ns]\n",
      " 1   Total   324 non-null    int64         \n",
      "dtypes: datetime64[ns](1), int64(1)\n",
      "memory usage: 5.2 KB\n"
     ]
    }
   ],
   "source": [
    "data.info()"
   ]
  },
  {
   "cell_type": "code",
   "execution_count": 10,
   "id": "0af71559",
   "metadata": {},
   "outputs": [
    {
     "data": {
      "text/html": [
       "<div>\n",
       "<style scoped>\n",
       "    .dataframe tbody tr th:only-of-type {\n",
       "        vertical-align: middle;\n",
       "    }\n",
       "\n",
       "    .dataframe tbody tr th {\n",
       "        vertical-align: top;\n",
       "    }\n",
       "\n",
       "    .dataframe thead th {\n",
       "        text-align: right;\n",
       "    }\n",
       "</style>\n",
       "<table border=\"1\" class=\"dataframe\">\n",
       "  <thead>\n",
       "    <tr style=\"text-align: right;\">\n",
       "      <th></th>\n",
       "      <th>Total</th>\n",
       "    </tr>\n",
       "  </thead>\n",
       "  <tbody>\n",
       "    <tr>\n",
       "      <th>count</th>\n",
       "      <td>324.000000</td>\n",
       "    </tr>\n",
       "    <tr>\n",
       "      <th>mean</th>\n",
       "      <td>19643.984568</td>\n",
       "    </tr>\n",
       "    <tr>\n",
       "      <th>std</th>\n",
       "      <td>5039.324331</td>\n",
       "    </tr>\n",
       "    <tr>\n",
       "      <th>min</th>\n",
       "      <td>8196.000000</td>\n",
       "    </tr>\n",
       "    <tr>\n",
       "      <th>25%</th>\n",
       "      <td>15764.000000</td>\n",
       "    </tr>\n",
       "    <tr>\n",
       "      <th>50%</th>\n",
       "      <td>19660.500000</td>\n",
       "    </tr>\n",
       "    <tr>\n",
       "      <th>75%</th>\n",
       "      <td>23604.500000</td>\n",
       "    </tr>\n",
       "    <tr>\n",
       "      <th>max</th>\n",
       "      <td>30485.000000</td>\n",
       "    </tr>\n",
       "  </tbody>\n",
       "</table>\n",
       "</div>"
      ],
      "text/plain": [
       "              Total\n",
       "count    324.000000\n",
       "mean   19643.984568\n",
       "std     5039.324331\n",
       "min     8196.000000\n",
       "25%    15764.000000\n",
       "50%    19660.500000\n",
       "75%    23604.500000\n",
       "max    30485.000000"
      ]
     },
     "execution_count": 10,
     "metadata": {},
     "output_type": "execute_result"
    }
   ],
   "source": [
    "data.describe()"
   ]
  },
  {
   "cell_type": "code",
   "execution_count": 11,
   "id": "303029e5",
   "metadata": {},
   "outputs": [
    {
     "name": "stderr",
     "output_type": "stream",
     "text": [
      "C:\\Users\\LPT-3036\\AppData\\Local\\Temp\\ipykernel_8400\\3734259392.py:1: FutureWarning: Treating datetime data as categorical rather than numeric in `.describe` is deprecated and will be removed in a future version of pandas. Specify `datetime_is_numeric=True` to silence this warning and adopt the future behavior now.\n",
      "  data['Date'].describe()\n"
     ]
    },
    {
     "data": {
      "text/plain": [
       "count                     324\n",
       "unique                    324\n",
       "top       1986-01-01 00:00:00\n",
       "freq                        1\n",
       "first     1986-01-01 00:00:00\n",
       "last      2012-12-01 00:00:00\n",
       "Name: Date, dtype: object"
      ]
     },
     "execution_count": 11,
     "metadata": {},
     "output_type": "execute_result"
    }
   ],
   "source": [
    "data['Date'].describe()"
   ]
  },
  {
   "cell_type": "code",
   "execution_count": 24,
   "id": "ea8df051",
   "metadata": {},
   "outputs": [],
   "source": [
    "data=data.set_index('Date')"
   ]
  },
  {
   "cell_type": "code",
   "execution_count": 25,
   "id": "5932dc75",
   "metadata": {},
   "outputs": [
    {
     "data": {
      "text/plain": [
       "<AxesSubplot:xlabel='Date'>"
      ]
     },
     "execution_count": 25,
     "metadata": {},
     "output_type": "execute_result"
    },
    {
     "data": {
      "text/plain": [
       "<Figure size 1800x1080 with 0 Axes>"
      ]
     },
     "metadata": {},
     "output_type": "display_data"
    },
    {
     "data": {
      "image/png": "[encoded data removed]",
      "text/plain": [
       "<Figure size 432x288 with 1 Axes>"
      ]
     },
     "metadata": {
      "needs_background": "light"
     },
     "output_type": "display_data"
    }
   ],
   "source": [
    "plt.figure(figsize=(25,15))\n",
    "data.plot()"
   ]
  },
  {
   "cell_type": "code",
   "execution_count": 27,
   "id": "eb3bd9c3",
   "metadata": {},
   "outputs": [
    {
     "data": {
      "text/html": [
       "<div>\n",
       "<style scoped>\n",
       "    .dataframe tbody tr th:only-of-type {\n",
       "        vertical-align: middle;\n",
       "    }\n",
       "\n",
       "    .dataframe tbody tr th {\n",
       "        vertical-align: top;\n",
       "    }\n",
       "\n",
       "    .dataframe thead th {\n",
       "        text-align: right;\n",
       "    }\n",
       "</style>\n",
       "<table border=\"1\" class=\"dataframe\">\n",
       "  <thead>\n",
       "    <tr style=\"text-align: right;\">\n",
       "      <th></th>\n",
       "      <th>Total</th>\n",
       "    </tr>\n",
       "    <tr>\n",
       "      <th>Date</th>\n",
       "      <th></th>\n",
       "    </tr>\n",
       "  </thead>\n",
       "  <tbody>\n",
       "    <tr>\n",
       "      <th>1986-1-01</th>\n",
       "      <td>9034</td>\n",
       "    </tr>\n",
       "    <tr>\n",
       "      <th>1986-2-01</th>\n",
       "      <td>9596</td>\n",
       "    </tr>\n",
       "    <tr>\n",
       "      <th>1986-3-01</th>\n",
       "      <td>10558</td>\n",
       "    </tr>\n",
       "    <tr>\n",
       "      <th>1986-4-01</th>\n",
       "      <td>9002</td>\n",
       "    </tr>\n",
       "    <tr>\n",
       "      <th>1986-5-01</th>\n",
       "      <td>9239</td>\n",
       "    </tr>\n",
       "  </tbody>\n",
       "</table>\n",
       "</div>"
      ],
      "text/plain": [
       "           Total\n",
       "Date            \n",
       "1986-1-01   9034\n",
       "1986-2-01   9596\n",
       "1986-3-01  10558\n",
       "1986-4-01   9002\n",
       "1986-5-01   9239"
      ]
     },
     "execution_count": 27,
     "metadata": {},
     "output_type": "execute_result"
    }
   ],
   "source": [
    "# index is date bcoz of set_index\n",
    "data.head()"
   ]
  },
  {
   "cell_type": "code",
   "execution_count": 103,
   "id": "69443eac",
   "metadata": {},
   "outputs": [],
   "source": [
    "# We are selecting start date and end date for train data\n",
    "start_date='2000-1-01'\n",
    "end_date='2005-12-01'\n",
    "\n",
    "test_end = '2006-12-01'\n",
    "# we can do string concate here bcoz date is index\n",
    "train_data=data[start_date:end_date]\n",
    "test_data = data[end_date:test_end]"
   ]
  },
  {
   "cell_type": "code",
   "execution_count": 36,
   "id": "fa47dd16",
   "metadata": {},
   "outputs": [
    {
     "data": {
      "text/html": [
       "<div>\n",
       "<style scoped>\n",
       "    .dataframe tbody tr th:only-of-type {\n",
       "        vertical-align: middle;\n",
       "    }\n",
       "\n",
       "    .dataframe tbody tr th {\n",
       "        vertical-align: top;\n",
       "    }\n",
       "\n",
       "    .dataframe thead th {\n",
       "        text-align: right;\n",
       "    }\n",
       "</style>\n",
       "<table border=\"1\" class=\"dataframe\">\n",
       "  <thead>\n",
       "    <tr style=\"text-align: right;\">\n",
       "      <th></th>\n",
       "      <th>Total</th>\n",
       "    </tr>\n",
       "    <tr>\n",
       "      <th>Date</th>\n",
       "      <th></th>\n",
       "    </tr>\n",
       "  </thead>\n",
       "  <tbody>\n",
       "    <tr>\n",
       "      <th>2000-1-01</th>\n",
       "      <td>25412</td>\n",
       "    </tr>\n",
       "    <tr>\n",
       "      <th>2000-2-01</th>\n",
       "      <td>25354</td>\n",
       "    </tr>\n",
       "    <tr>\n",
       "      <th>2000-3-01</th>\n",
       "      <td>29161</td>\n",
       "    </tr>\n",
       "    <tr>\n",
       "      <th>2000-4-01</th>\n",
       "      <td>24924</td>\n",
       "    </tr>\n",
       "    <tr>\n",
       "      <th>2000-5-01</th>\n",
       "      <td>24763</td>\n",
       "    </tr>\n",
       "  </tbody>\n",
       "</table>\n",
       "</div>"
      ],
      "text/plain": [
       "           Total\n",
       "Date            \n",
       "2000-1-01  25412\n",
       "2000-2-01  25354\n",
       "2000-3-01  29161\n",
       "2000-4-01  24924\n",
       "2000-5-01  24763"
      ]
     },
     "execution_count": 36,
     "metadata": {},
     "output_type": "execute_result"
    }
   ],
   "source": [
    "train_data.head()"
   ]
  },
  {
   "cell_type": "code",
   "execution_count": 40,
   "id": "ac6826bb",
   "metadata": {},
   "outputs": [
    {
     "data": {
      "text/html": [
       "<div>\n",
       "<style scoped>\n",
       "    .dataframe tbody tr th:only-of-type {\n",
       "        vertical-align: middle;\n",
       "    }\n",
       "\n",
       "    .dataframe tbody tr th {\n",
       "        vertical-align: top;\n",
       "    }\n",
       "\n",
       "    .dataframe thead th {\n",
       "        text-align: right;\n",
       "    }\n",
       "</style>\n",
       "<table border=\"1\" class=\"dataframe\">\n",
       "  <thead>\n",
       "    <tr style=\"text-align: right;\">\n",
       "      <th></th>\n",
       "      <th>Total</th>\n",
       "    </tr>\n",
       "    <tr>\n",
       "      <th>Date</th>\n",
       "      <th></th>\n",
       "    </tr>\n",
       "  </thead>\n",
       "  <tbody>\n",
       "    <tr>\n",
       "      <th>2000-1-01</th>\n",
       "      <td>NaN</td>\n",
       "    </tr>\n",
       "    <tr>\n",
       "      <th>2000-2-01</th>\n",
       "      <td>NaN</td>\n",
       "    </tr>\n",
       "    <tr>\n",
       "      <th>2000-3-01</th>\n",
       "      <td>NaN</td>\n",
       "    </tr>\n",
       "    <tr>\n",
       "      <th>2000-4-01</th>\n",
       "      <td>NaN</td>\n",
       "    </tr>\n",
       "    <tr>\n",
       "      <th>2000-5-01</th>\n",
       "      <td>NaN</td>\n",
       "    </tr>\n",
       "    <tr>\n",
       "      <th>2000-6-01</th>\n",
       "      <td>25826.000000</td>\n",
       "    </tr>\n",
       "    <tr>\n",
       "      <th>2000-7-01</th>\n",
       "      <td>25742.500000</td>\n",
       "    </tr>\n",
       "    <tr>\n",
       "      <th>2000-8-01</th>\n",
       "      <td>25824.666667</td>\n",
       "    </tr>\n",
       "    <tr>\n",
       "      <th>2000-9-01</th>\n",
       "      <td>24921.666667</td>\n",
       "    </tr>\n",
       "    <tr>\n",
       "      <th>2000-10-01</th>\n",
       "      <td>24940.333333</td>\n",
       "    </tr>\n",
       "  </tbody>\n",
       "</table>\n",
       "</div>"
      ],
      "text/plain": [
       "                   Total\n",
       "Date                    \n",
       "2000-1-01            NaN\n",
       "2000-2-01            NaN\n",
       "2000-3-01            NaN\n",
       "2000-4-01            NaN\n",
       "2000-5-01            NaN\n",
       "2000-6-01   25826.000000\n",
       "2000-7-01   25742.500000\n",
       "2000-8-01   25824.666667\n",
       "2000-9-01   24921.666667\n",
       "2000-10-01  24940.333333"
      ]
     },
     "execution_count": 40,
     "metadata": {},
     "output_type": "execute_result"
    }
   ],
   "source": [
    "# Rolling(6) checks the data for 6 months back and takes mean for it. Now there are no 6 month old data for 1st 5 months so NAN is output.\n",
    "train_data.rolling(6).mean().head(10)"
   ]
  },
  {
   "cell_type": "code",
   "execution_count": 58,
   "id": "c9c79103",
   "metadata": {},
   "outputs": [
    {
     "data": {
      "text/plain": [
       "[<matplotlib.lines.Line2D at 0x29e54c7cc40>]"
      ]
     },
     "execution_count": 58,
     "metadata": {},
     "output_type": "execute_result"
    },
    {
     "data": {
      "image/png": "[encoded data removed]",
      "text/plain": [
       "<Figure size 432x288 with 1 Axes>"
      ]
     },
     "metadata": {
      "needs_background": "light"
     },
     "output_type": "display_data"
    }
   ],
   "source": [
    "\n",
    "org=plt.plot(train_data,color='blue')\n",
    "roll_mean = train_data.rolling(12).mean()\n",
    "plt.plot(roll_mean,color='red')"
   ]
  },
  {
   "cell_type": "code",
   "execution_count": 43,
   "id": "34d0db70",
   "metadata": {},
   "outputs": [
    {
     "data": {
      "text/plain": [
       "(-1.2604126680339702,\n",
       " 0.6470834714774281,\n",
       " 12,\n",
       " 59,\n",
       " {'1%': -3.5463945337644063,\n",
       "  '5%': -2.911939409384601,\n",
       "  '10%': -2.5936515282964665},\n",
       " 1008.0895614754529)"
      ]
     },
     "execution_count": 43,
     "metadata": {},
     "output_type": "execute_result"
    }
   ],
   "source": [
    "# check the stationarity\n",
    "\n",
    "from statsmodels.tsa.stattools import adfuller\n",
    "\n",
    "adfuller(train_data)"
   ]
  },
  {
   "cell_type": "code",
   "execution_count": 48,
   "id": "370c8e69",
   "metadata": {},
   "outputs": [
    {
     "data": {
      "text/plain": [
       "0.6470834714774281"
      ]
     },
     "execution_count": 48,
     "metadata": {},
     "output_type": "execute_result"
    }
   ],
   "source": [
    "# P value from liner regression? remember? it is same.\n",
    "\n",
    "# NULL HYPOTHESIS  :  Data is stationary\n",
    "# ALTERNATE HYPOTHESIS  :  Data is not stationary\n",
    "\n",
    "result = adfuller(train_data)\n",
    "result[1]  # P value>0.05 # so we fail to accept null hypothesis #  so data is not stationary and we reject the null hypothesis"
   ]
  },
  {
   "cell_type": "code",
   "execution_count": 51,
   "id": "f344eb6a",
   "metadata": {},
   "outputs": [
    {
     "name": "stdout",
     "output_type": "stream",
     "text": [
      "           Total\n",
      "Date            \n",
      "2000-1-01  25412\n",
      "2000-2-01  25354\n",
      "2000-3-01  29161\n",
      "2000-4-01  24924\n",
      "2000-5-01  24763\n"
     ]
    },
    {
     "data": {
      "text/html": [
       "<div>\n",
       "<style scoped>\n",
       "    .dataframe tbody tr th:only-of-type {\n",
       "        vertical-align: middle;\n",
       "    }\n",
       "\n",
       "    .dataframe tbody tr th {\n",
       "        vertical-align: top;\n",
       "    }\n",
       "\n",
       "    .dataframe thead th {\n",
       "        text-align: right;\n",
       "    }\n",
       "</style>\n",
       "<table border=\"1\" class=\"dataframe\">\n",
       "  <thead>\n",
       "    <tr style=\"text-align: right;\">\n",
       "      <th></th>\n",
       "      <th>Total</th>\n",
       "    </tr>\n",
       "    <tr>\n",
       "      <th>Date</th>\n",
       "      <th></th>\n",
       "    </tr>\n",
       "  </thead>\n",
       "  <tbody>\n",
       "    <tr>\n",
       "      <th>2000-1-01</th>\n",
       "      <td>NaN</td>\n",
       "    </tr>\n",
       "    <tr>\n",
       "      <th>2000-2-01</th>\n",
       "      <td>25412.0</td>\n",
       "    </tr>\n",
       "    <tr>\n",
       "      <th>2000-3-01</th>\n",
       "      <td>25354.0</td>\n",
       "    </tr>\n",
       "    <tr>\n",
       "      <th>2000-4-01</th>\n",
       "      <td>29161.0</td>\n",
       "    </tr>\n",
       "    <tr>\n",
       "      <th>2000-5-01</th>\n",
       "      <td>24924.0</td>\n",
       "    </tr>\n",
       "    <tr>\n",
       "      <th>...</th>\n",
       "      <td>...</td>\n",
       "    </tr>\n",
       "    <tr>\n",
       "      <th>2005-8-01</th>\n",
       "      <td>23729.0</td>\n",
       "    </tr>\n",
       "    <tr>\n",
       "      <th>2005-9-01</th>\n",
       "      <td>25336.0</td>\n",
       "    </tr>\n",
       "    <tr>\n",
       "      <th>2005-10-01</th>\n",
       "      <td>24649.0</td>\n",
       "    </tr>\n",
       "    <tr>\n",
       "      <th>2005-11-01</th>\n",
       "      <td>25904.0</td>\n",
       "    </tr>\n",
       "    <tr>\n",
       "      <th>2005-12-01</th>\n",
       "      <td>22868.0</td>\n",
       "    </tr>\n",
       "  </tbody>\n",
       "</table>\n",
       "<p>72 rows × 1 columns</p>\n",
       "</div>"
      ],
      "text/plain": [
       "              Total\n",
       "Date               \n",
       "2000-1-01       NaN\n",
       "2000-2-01   25412.0\n",
       "2000-3-01   25354.0\n",
       "2000-4-01   29161.0\n",
       "2000-5-01   24924.0\n",
       "...             ...\n",
       "2005-8-01   23729.0\n",
       "2005-9-01   25336.0\n",
       "2005-10-01  24649.0\n",
       "2005-11-01  25904.0\n",
       "2005-12-01  22868.0\n",
       "\n",
       "[72 rows x 1 columns]"
      ]
     },
     "execution_count": 51,
     "metadata": {},
     "output_type": "execute_result"
    }
   ],
   "source": [
    "# Since data is not stationary we want to make it stationary so we are doing first order differencing\n",
    "print(train_data.head())\n",
    "train_data.shift(1)  # So Shift move 1st jan data to 2nd Jan. shifted data 1 row down."
   ]
  },
  {
   "cell_type": "code",
   "execution_count": 54,
   "id": "cc31a82d",
   "metadata": {},
   "outputs": [
    {
     "data": {
      "text/html": [
       "<div>\n",
       "<style scoped>\n",
       "    .dataframe tbody tr th:only-of-type {\n",
       "        vertical-align: middle;\n",
       "    }\n",
       "\n",
       "    .dataframe tbody tr th {\n",
       "        vertical-align: top;\n",
       "    }\n",
       "\n",
       "    .dataframe thead th {\n",
       "        text-align: right;\n",
       "    }\n",
       "</style>\n",
       "<table border=\"1\" class=\"dataframe\">\n",
       "  <thead>\n",
       "    <tr style=\"text-align: right;\">\n",
       "      <th></th>\n",
       "      <th>Total</th>\n",
       "    </tr>\n",
       "    <tr>\n",
       "      <th>Date</th>\n",
       "      <th></th>\n",
       "    </tr>\n",
       "  </thead>\n",
       "  <tbody>\n",
       "    <tr>\n",
       "      <th>2000-1-01</th>\n",
       "      <td>NaN</td>\n",
       "    </tr>\n",
       "    <tr>\n",
       "      <th>2000-2-01</th>\n",
       "      <td>-58.0</td>\n",
       "    </tr>\n",
       "    <tr>\n",
       "      <th>2000-3-01</th>\n",
       "      <td>3807.0</td>\n",
       "    </tr>\n",
       "    <tr>\n",
       "      <th>2000-4-01</th>\n",
       "      <td>-4237.0</td>\n",
       "    </tr>\n",
       "    <tr>\n",
       "      <th>2000-5-01</th>\n",
       "      <td>-161.0</td>\n",
       "    </tr>\n",
       "    <tr>\n",
       "      <th>...</th>\n",
       "      <td>...</td>\n",
       "    </tr>\n",
       "    <tr>\n",
       "      <th>2005-8-01</th>\n",
       "      <td>1607.0</td>\n",
       "    </tr>\n",
       "    <tr>\n",
       "      <th>2005-9-01</th>\n",
       "      <td>-687.0</td>\n",
       "    </tr>\n",
       "    <tr>\n",
       "      <th>2005-10-01</th>\n",
       "      <td>1255.0</td>\n",
       "    </tr>\n",
       "    <tr>\n",
       "      <th>2005-11-01</th>\n",
       "      <td>-3036.0</td>\n",
       "    </tr>\n",
       "    <tr>\n",
       "      <th>2005-12-01</th>\n",
       "      <td>-1043.0</td>\n",
       "    </tr>\n",
       "  </tbody>\n",
       "</table>\n",
       "<p>72 rows × 1 columns</p>\n",
       "</div>"
      ],
      "text/plain": [
       "             Total\n",
       "Date              \n",
       "2000-1-01      NaN\n",
       "2000-2-01    -58.0\n",
       "2000-3-01   3807.0\n",
       "2000-4-01  -4237.0\n",
       "2000-5-01   -161.0\n",
       "...            ...\n",
       "2005-8-01   1607.0\n",
       "2005-9-01   -687.0\n",
       "2005-10-01  1255.0\n",
       "2005-11-01 -3036.0\n",
       "2005-12-01 -1043.0\n",
       "\n",
       "[72 rows x 1 columns]"
      ]
     },
     "execution_count": 54,
     "metadata": {},
     "output_type": "execute_result"
    }
   ],
   "source": [
    "# to do the differencing we can do shited_data - original data\n",
    "\n",
    "diff1 = train_data - train_data.shift(1)\n",
    "diff1"
   ]
  },
  {
   "cell_type": "code",
   "execution_count": 66,
   "id": "6008232b",
   "metadata": {},
   "outputs": [
    {
     "data": {
      "text/plain": [
       "[<matplotlib.lines.Line2D at 0x29e56ac8b80>]"
      ]
     },
     "execution_count": 66,
     "metadata": {},
     "output_type": "execute_result"
    },
    {
     "data": {
      "image/png": "[encoded data removed]",
      "text/plain": [
       "<Figure size 432x288 with 1 Axes>"
      ]
     },
     "metadata": {
      "needs_background": "light"
     },
     "output_type": "display_data"
    }
   ],
   "source": [
    "# plotting differenced data to check if it is stationary or not\n",
    "org=plt.plot(diff1,color='blue')\n",
    "roll_mean = diff1.rolling(12).mean()\n",
    "plt.plot(roll_mean,color='red')\n",
    "\n",
    "roll_std = diff1.rolling(12).std()\n",
    "plt.plot(roll_std,color='black')\n",
    "\n",
    "# From this graph we can see that mean and std deviation is stationary so we can also find p value just to be double sure."
   ]
  },
  {
   "cell_type": "code",
   "execution_count": 65,
   "id": "08702153",
   "metadata": {},
   "outputs": [
    {
     "data": {
      "text/plain": [
       "0.01782781681588369"
      ]
     },
     "execution_count": 65,
     "metadata": {},
     "output_type": "execute_result"
    }
   ],
   "source": [
    "result = adfuller(diff1[1:])   # so here the data we are getting is stationary.\n",
    "result[1] "
   ]
  },
  {
   "cell_type": "code",
   "execution_count": 73,
   "id": "97933ee1",
   "metadata": {},
   "outputs": [
    {
     "data": {
      "text/plain": [
       "array([ 1.        , -0.23099526, -0.07885388, -0.2706137 , -0.21459961,\n",
       "        0.37991933, -0.13797673,  0.40441394, -0.22080298, -0.29213196,\n",
       "       -0.03776567, -0.13395613,  0.73262611, -0.18008876, -0.06005906,\n",
       "       -0.21013295, -0.17340052,  0.29228269, -0.13002975,  0.35456701,\n",
       "       -0.15126945])"
      ]
     },
     "execution_count": 73,
     "metadata": {},
     "output_type": "execute_result"
    }
   ],
   "source": [
    "from statsmodels.tsa.stattools import acf,pacf\n",
    "# we can uses[1:] or dropna()\n",
    "acf(diff1[1:],nlags=20)"
   ]
  },
  {
   "cell_type": "code",
   "execution_count": 74,
   "id": "4272f391",
   "metadata": {},
   "outputs": [],
   "source": [
    "lag_acf = acf(diff1.dropna(),nlags=20)"
   ]
  },
  {
   "cell_type": "code",
   "execution_count": 76,
   "id": "ba5cbb1b",
   "metadata": {},
   "outputs": [
    {
     "data": {
      "text/plain": [
       "array([ 1.        , -0.23429519, -0.14393494, -0.36522234, -0.52761478,\n",
       "        0.03562732, -0.36076336,  0.31288833,  0.04506755, -0.29844225,\n",
       "       -0.33184235, -0.57127755,  0.57334513,  0.28024834,  0.24248966,\n",
       "        0.03008415, -0.02406142, -0.05905357, -0.36430752, -0.22584969,\n",
       "        0.25371601])"
      ]
     },
     "execution_count": 76,
     "metadata": {},
     "output_type": "execute_result"
    }
   ],
   "source": [
    "lag_pacf = pacf(diff1.dropna(),nlags=20)\n",
    "lag_pacf"
   ]
  },
  {
   "cell_type": "code",
   "execution_count": 83,
   "id": "b4e9cf05",
   "metadata": {},
   "outputs": [
    {
     "data": {
      "image/png": "[encoded data removed]",
      "text/plain": [
       "<Figure size 720x360 with 2 Axes>"
      ]
     },
     "execution_count": 83,
     "metadata": {},
     "output_type": "execute_result"
    }
   ],
   "source": [
    "sm.graphics.tsa.plot_acf(diff1.dropna(),ax=ax1)"
   ]
  },
  {
   "cell_type": "code",
   "execution_count": 84,
   "id": "f5925ccd",
   "metadata": {},
   "outputs": [
    {
     "name": "stderr",
     "output_type": "stream",
     "text": [
      "D:\\Download\\Anaconda\\lib\\site-packages\\statsmodels\\graphics\\tsaplots.py:348: FutureWarning: The default method 'yw' can produce PACF values outside of the [-1,1] interval. After 0.13, the default will change tounadjusted Yule-Walker ('ywm'). You can use this method now by setting method='ywm'.\n",
      "  warnings.warn(\n"
     ]
    },
    {
     "data": {
      "image/png": "[encoded data removed]",
      "text/plain": [
       "<Figure size 720x360 with 2 Axes>"
      ]
     },
     "execution_count": 84,
     "metadata": {},
     "output_type": "execute_result"
    }
   ],
   "source": [
    "sm.graphics.tsa.plot_pacf(diff1.dropna(),ax=ax1)"
   ]
  },
  {
   "cell_type": "code",
   "execution_count": 82,
   "id": "fea50779",
   "metadata": {},
   "outputs": [
    {
     "name": "stderr",
     "output_type": "stream",
     "text": [
      "D:\\Download\\Anaconda\\lib\\site-packages\\statsmodels\\graphics\\tsaplots.py:348: FutureWarning: The default method 'yw' can produce PACF values outside of the [-1,1] interval. After 0.13, the default will change tounadjusted Yule-Walker ('ywm'). You can use this method now by setting method='ywm'.\n",
      "  warnings.warn(\n"
     ]
    },
    {
     "data": {
      "text/plain": [
       "Text(0, 0.5, 'Correlation')"
      ]
     },
     "execution_count": 82,
     "metadata": {},
     "output_type": "execute_result"
    },
    {
     "data": {
      "image/png": "[encoded data removed]",
      "text/plain": [
       "<Figure size 720x360 with 2 Axes>"
      ]
     },
     "metadata": {
      "needs_background": "light"
     },
     "output_type": "display_data"
    }
   ],
   "source": [
    "import statsmodels.api as sm\n",
    "\n",
    "fig=plt.figure(figsize=(10,5))\n",
    "ax1=fig.add_subplot(1,2,1)\n",
    "plt.xlabel('Lags')\n",
    "plt.ylabel('Correlation')\n",
    "sm.graphics.tsa.plot_acf(diff1.dropna(),ax=ax1)  # It is MA(Q) model  - learns from previous errors and learns from their\n",
    "ax2=fig.add_subplot(1,2,2)\n",
    "sm.graphics.tsa.plot_pacf(diff1.dropna(),ax=ax2)  # It is AR(P) model - learns from previous data\n",
    "plt.xlabel('Lags')\n",
    "plt.ylabel('Correlation')"
   ]
  },
  {
   "cell_type": "raw",
   "id": "592f8b33",
   "metadata": {},
   "source": [
    "# Observation from above graph - \n",
    "\n",
    "1. value at x=3 means we are taking previous 3 months data in consideration for the observation. (so predicting x using x-3 months data)\n",
    "\n",
    "2. So in autocorrelation graph we r taking q=12 as it is max and we are considering all values below it when 12 is taken so ot os considering 3, 5,7 and all other values also.\n",
    "\n",
    "3. Since Q=12 is max that means pattern repeats after 12 months so here we can say seasonality is there.\n",
    "\n",
    "4. We can also say that t-12 can help predict much better than any other value bcoz it is maximum which means it is very much correlated.\n",
    "\n",
    "5. Seasonality does not exactly mean 12 months but instead it means repeating after regular intervals.\n",
    "\n",
    "6. Partial Autocorrelation (p) - 12"
   ]
  },
  {
   "cell_type": "code",
   "execution_count": 89,
   "id": "dff85d73",
   "metadata": {},
   "outputs": [],
   "source": [
    "from statsmodels.tsa.arima.model import ARIMA\n",
    "\n",
    "diff1 =diff1.dropna()"
   ]
  },
  {
   "cell_type": "code",
   "execution_count": 110,
   "id": "c3be3a5a",
   "metadata": {},
   "outputs": [
    {
     "name": "stderr",
     "output_type": "stream",
     "text": [
      "D:\\Download\\Anaconda\\lib\\site-packages\\statsmodels\\tsa\\base\\tsa_model.py:471: ValueWarning: No frequency information was provided, so inferred frequency MS will be used.\n",
      "  self._init_dates(dates, freq)\n",
      "D:\\Download\\Anaconda\\lib\\site-packages\\statsmodels\\tsa\\base\\tsa_model.py:471: ValueWarning: No frequency information was provided, so inferred frequency MS will be used.\n",
      "  self._init_dates(dates, freq)\n",
      "D:\\Download\\Anaconda\\lib\\site-packages\\statsmodels\\tsa\\base\\tsa_model.py:471: ValueWarning: No frequency information was provided, so inferred frequency MS will be used.\n",
      "  self._init_dates(dates, freq)\n",
      "D:\\Download\\Anaconda\\lib\\site-packages\\statsmodels\\tsa\\statespace\\sarimax.py:966: UserWarning: Non-stationary starting autoregressive parameters found. Using zeros as starting parameters.\n",
      "  warn('Non-stationary starting autoregressive parameters'\n",
      "D:\\Download\\Anaconda\\lib\\site-packages\\statsmodels\\tsa\\statespace\\sarimax.py:978: UserWarning: Non-invertible starting MA parameters found. Using zeros as starting parameters.\n",
      "  warn('Non-invertible starting MA parameters found.'\n",
      "D:\\Download\\Anaconda\\lib\\site-packages\\statsmodels\\base\\model.py:604: ConvergenceWarning: Maximum Likelihood optimization failed to converge. Check mle_retvals\n",
      "  warnings.warn(\"Maximum Likelihood optimization failed to \"\n"
     ]
    }
   ],
   "source": [
    "p=12\n",
    "q=12\n",
    "d=0 # no differencing required as we had already done one order differencing. \n",
    "\n",
    "# we can also do d=1 and use original dataset instead of differentiated data.\n",
    "model = ARIMA(diff1,order=(p,d,q))\n",
    "results_arima = model.fit()"
   ]
  },
  {
   "cell_type": "code",
   "execution_count": 92,
   "id": "8f9f6952",
   "metadata": {},
   "outputs": [
    {
     "data": {
      "text/plain": [
       "<statsmodels.tsa.arima.model.ARIMAResultsWrapper at 0x29e5b010a60>"
      ]
     },
     "execution_count": 92,
     "metadata": {},
     "output_type": "execute_result"
    }
   ],
   "source": [
    "results_arima"
   ]
  },
  {
   "cell_type": "code",
   "execution_count": 95,
   "id": "9ad218cd",
   "metadata": {},
   "outputs": [
    {
     "data": {
      "text/plain": [
       "Date\n",
       "2000-2-01      -50.514983\n",
       "2000-3-01      -53.667607\n",
       "2000-4-01     1768.715748\n",
       "2000-5-01    -1673.819972\n",
       "2000-6-01    -1397.298964\n",
       "                 ...     \n",
       "2005-8-01     1514.150454\n",
       "2005-9-01    -1062.002094\n",
       "2005-10-01    1148.643181\n",
       "2005-11-01   -2926.981158\n",
       "2005-12-01     -70.713893\n",
       "Length: 71, dtype: float64"
      ]
     },
     "execution_count": 95,
     "metadata": {},
     "output_type": "execute_result"
    }
   ],
   "source": [
    "results_arima.fittedvalues"
   ]
  },
  {
   "cell_type": "code",
   "execution_count": 138,
   "id": "2b37f182",
   "metadata": {},
   "outputs": [
    {
     "data": {
      "text/html": [
       "<div>\n",
       "<style scoped>\n",
       "    .dataframe tbody tr th:only-of-type {\n",
       "        vertical-align: middle;\n",
       "    }\n",
       "\n",
       "    .dataframe tbody tr th {\n",
       "        vertical-align: top;\n",
       "    }\n",
       "\n",
       "    .dataframe thead th {\n",
       "        text-align: right;\n",
       "    }\n",
       "</style>\n",
       "<table border=\"1\" class=\"dataframe\">\n",
       "  <thead>\n",
       "    <tr style=\"text-align: right;\">\n",
       "      <th></th>\n",
       "      <th>Total</th>\n",
       "    </tr>\n",
       "    <tr>\n",
       "      <th>Date</th>\n",
       "      <th></th>\n",
       "    </tr>\n",
       "  </thead>\n",
       "  <tbody>\n",
       "    <tr>\n",
       "      <th>2000-2-01</th>\n",
       "      <td>-58.0</td>\n",
       "    </tr>\n",
       "    <tr>\n",
       "      <th>2000-3-01</th>\n",
       "      <td>3807.0</td>\n",
       "    </tr>\n",
       "    <tr>\n",
       "      <th>2000-4-01</th>\n",
       "      <td>-4237.0</td>\n",
       "    </tr>\n",
       "    <tr>\n",
       "      <th>2000-5-01</th>\n",
       "      <td>-161.0</td>\n",
       "    </tr>\n",
       "    <tr>\n",
       "      <th>2000-6-01</th>\n",
       "      <td>579.0</td>\n",
       "    </tr>\n",
       "    <tr>\n",
       "      <th>...</th>\n",
       "      <td>...</td>\n",
       "    </tr>\n",
       "    <tr>\n",
       "      <th>2005-8-01</th>\n",
       "      <td>1607.0</td>\n",
       "    </tr>\n",
       "    <tr>\n",
       "      <th>2005-9-01</th>\n",
       "      <td>-687.0</td>\n",
       "    </tr>\n",
       "    <tr>\n",
       "      <th>2005-10-01</th>\n",
       "      <td>1255.0</td>\n",
       "    </tr>\n",
       "    <tr>\n",
       "      <th>2005-11-01</th>\n",
       "      <td>-3036.0</td>\n",
       "    </tr>\n",
       "    <tr>\n",
       "      <th>2005-12-01</th>\n",
       "      <td>-1043.0</td>\n",
       "    </tr>\n",
       "  </tbody>\n",
       "</table>\n",
       "<p>71 rows × 1 columns</p>\n",
       "</div>"
      ],
      "text/plain": [
       "             Total\n",
       "Date              \n",
       "2000-2-01    -58.0\n",
       "2000-3-01   3807.0\n",
       "2000-4-01  -4237.0\n",
       "2000-5-01   -161.0\n",
       "2000-6-01    579.0\n",
       "...            ...\n",
       "2005-8-01   1607.0\n",
       "2005-9-01   -687.0\n",
       "2005-10-01  1255.0\n",
       "2005-11-01 -3036.0\n",
       "2005-12-01 -1043.0\n",
       "\n",
       "[71 rows x 1 columns]"
      ]
     },
     "execution_count": 138,
     "metadata": {},
     "output_type": "execute_result"
    }
   ],
   "source": [
    "diff1"
   ]
  },
  {
   "cell_type": "code",
   "execution_count": 102,
   "id": "845a8d6e",
   "metadata": {},
   "outputs": [
    {
     "data": {
      "text/plain": [
       "[<matplotlib.lines.Line2D at 0x29e60d76850>]"
      ]
     },
     "execution_count": 102,
     "metadata": {},
     "output_type": "execute_result"
    },
    {
     "data": {
      "image/png": "[encoded data removed]",
      "text/plain": [
       "<Figure size 720x360 with 1 Axes>"
      ]
     },
     "metadata": {
      "needs_background": "light"
     },
     "output_type": "display_data"
    }
   ],
   "source": [
    "plt.figure(figsize=(10,5))\n",
    "plt.plot(diff1,color='blue')\n",
    "plt.plot(results_arima.fittedvalues,color='red')\n",
    "\n",
    "# observation - there is not much difference in data so it is good model."
   ]
  },
  {
   "cell_type": "code",
   "execution_count": 121,
   "id": "e036af47",
   "metadata": {},
   "outputs": [
    {
     "data": {
      "text/plain": [
       "13"
      ]
     },
     "execution_count": 121,
     "metadata": {},
     "output_type": "execute_result"
    }
   ],
   "source": [
    "len(test_data)"
   ]
  },
  {
   "cell_type": "code",
   "execution_count": 179,
   "id": "b85f4563",
   "metadata": {
    "scrolled": true
   },
   "outputs": [
    {
     "name": "stderr",
     "output_type": "stream",
     "text": [
      "D:\\Download\\Anaconda\\lib\\site-packages\\statsmodels\\tsa\\base\\tsa_model.py:471: ValueWarning: No frequency information was provided, so inferred frequency MS will be used.\n",
      "  self._init_dates(dates, freq)\n",
      "D:\\Download\\Anaconda\\lib\\site-packages\\statsmodels\\tsa\\base\\tsa_model.py:471: ValueWarning: No frequency information was provided, so inferred frequency MS will be used.\n",
      "  self._init_dates(dates, freq)\n",
      "D:\\Download\\Anaconda\\lib\\site-packages\\statsmodels\\tsa\\base\\tsa_model.py:471: ValueWarning: No frequency information was provided, so inferred frequency MS will be used.\n",
      "  self._init_dates(dates, freq)\n",
      "D:\\Download\\Anaconda\\lib\\site-packages\\statsmodels\\tsa\\statespace\\sarimax.py:966: UserWarning: Non-stationary starting autoregressive parameters found. Using zeros as starting parameters.\n",
      "  warn('Non-stationary starting autoregressive parameters'\n",
      "D:\\Download\\Anaconda\\lib\\site-packages\\statsmodels\\tsa\\statespace\\sarimax.py:978: UserWarning: Non-invertible starting MA parameters found. Using zeros as starting parameters.\n",
      "  warn('Non-invertible starting MA parameters found.'\n",
      "D:\\Download\\Anaconda\\lib\\site-packages\\statsmodels\\base\\model.py:604: ConvergenceWarning: Maximum Likelihood optimization failed to converge. Check mle_retvals\n",
      "  warnings.warn(\"Maximum Likelihood optimization failed to \"\n"
     ]
    },
    {
     "data": {
      "text/plain": [
       "[<matplotlib.lines.Line2D at 0x29e692c2d60>]"
      ]
     },
     "execution_count": 179,
     "metadata": {},
     "output_type": "execute_result"
    },
    {
     "data": {
      "image/png": "[encoded data removed]",
      "text/plain": [
       "<Figure size 720x360 with 1 Axes>"
      ]
     },
     "metadata": {
      "needs_background": "light"
     },
     "output_type": "display_data"
    }
   ],
   "source": [
    "from datetime import timedelta\n",
    "\n",
    "from statsmodels.tsa.arima.model import ARIMA\n",
    "\n",
    "# p=12\n",
    "# q=12\n",
    "# d=1 # differencing requrd on test data\n",
    "\n",
    "# we can also do d=1 and use original dataset instead of differentiated data.\n",
    "model = ARIMA(train_data,order=(p,d,q))\n",
    "results_arima = model.fit()\n",
    "\n",
    "\n",
    "plt.figure(figsize=(10,5))\n",
    "plt.plot(train_data,color='blue')\n",
    "plt.plot(results_arima.fittedvalues,color='red')\n"
   ]
  },
  {
   "cell_type": "code",
   "execution_count": 180,
   "id": "6f7ac429",
   "metadata": {},
   "outputs": [
    {
     "data": {
      "text/plain": [
       "Date\n",
       "2000-1-01         0.000000\n",
       "2000-2-01     24093.578279\n",
       "2000-3-01     24169.178879\n",
       "2000-4-01     26167.636619\n",
       "2000-5-01     22979.444565\n",
       "                  ...     \n",
       "2005-8-01     25698.779197\n",
       "2005-9-01     24406.477778\n",
       "2005-10-01    25626.207933\n",
       "2005-11-01    22637.118119\n",
       "2005-12-01    22188.564493\n",
       "Length: 72, dtype: float64"
      ]
     },
     "execution_count": 180,
     "metadata": {},
     "output_type": "execute_result"
    }
   ],
   "source": [
    "results_arima.fittedvalues"
   ]
  },
  {
   "cell_type": "code",
   "execution_count": 198,
   "id": "d427d55c",
   "metadata": {},
   "outputs": [],
   "source": [
    "test_start = '2006-1-01'\n",
    "test_end = '2006-12-01'\n",
    "test_data = data[test_start:test_end]"
   ]
  },
  {
   "cell_type": "code",
   "execution_count": 199,
   "id": "2c770d86",
   "metadata": {},
   "outputs": [
    {
     "data": {
      "text/plain": [
       "12"
      ]
     },
     "execution_count": 199,
     "metadata": {},
     "output_type": "execute_result"
    }
   ],
   "source": [
    "len(test_data)"
   ]
  },
  {
   "cell_type": "code",
   "execution_count": 200,
   "id": "6360ac10",
   "metadata": {
    "scrolled": false
   },
   "outputs": [
    {
     "data": {
      "text/plain": [
       "2006-01-01    24950.535057\n",
       "2006-02-01    26371.957280\n",
       "2006-03-01    28045.233863\n",
       "2006-04-01    24718.533351\n",
       "2006-05-01    26102.794675\n",
       "2006-06-01    24525.450336\n",
       "2006-07-01    23792.794119\n",
       "2006-08-01    25739.640430\n",
       "2006-09-01    25100.146172\n",
       "2006-10-01    26069.577148\n",
       "2006-11-01    22765.851314\n",
       "2006-12-01    22240.851924\n",
       "Freq: MS, Name: predicted_mean, dtype: float64"
      ]
     },
     "execution_count": 200,
     "metadata": {},
     "output_type": "execute_result"
    }
   ],
   "source": [
    "forecasted_test_vals = results_arima.forecast(len(test_data))  # we r forecasting for next 13 months so passing length\n",
    "forecasted_test_vals"
   ]
  },
  {
   "cell_type": "code",
   "execution_count": 201,
   "id": "a2ac4031",
   "metadata": {},
   "outputs": [
    {
     "data": {
      "text/html": [
       "<div>\n",
       "<style scoped>\n",
       "    .dataframe tbody tr th:only-of-type {\n",
       "        vertical-align: middle;\n",
       "    }\n",
       "\n",
       "    .dataframe tbody tr th {\n",
       "        vertical-align: top;\n",
       "    }\n",
       "\n",
       "    .dataframe thead th {\n",
       "        text-align: right;\n",
       "    }\n",
       "</style>\n",
       "<table border=\"1\" class=\"dataframe\">\n",
       "  <thead>\n",
       "    <tr style=\"text-align: right;\">\n",
       "      <th></th>\n",
       "      <th>Total</th>\n",
       "    </tr>\n",
       "    <tr>\n",
       "      <th>Date</th>\n",
       "      <th></th>\n",
       "    </tr>\n",
       "  </thead>\n",
       "  <tbody>\n",
       "    <tr>\n",
       "      <th>2006-1-01</th>\n",
       "      <td>26955</td>\n",
       "    </tr>\n",
       "    <tr>\n",
       "      <th>2006-2-01</th>\n",
       "      <td>27349</td>\n",
       "    </tr>\n",
       "    <tr>\n",
       "      <th>2006-3-01</th>\n",
       "      <td>29367</td>\n",
       "    </tr>\n",
       "    <tr>\n",
       "      <th>2006-4-01</th>\n",
       "      <td>24071</td>\n",
       "    </tr>\n",
       "    <tr>\n",
       "      <th>2006-5-01</th>\n",
       "      <td>23173</td>\n",
       "    </tr>\n",
       "    <tr>\n",
       "      <th>2006-6-01</th>\n",
       "      <td>21740</td>\n",
       "    </tr>\n",
       "    <tr>\n",
       "      <th>2006-7-01</th>\n",
       "      <td>22056</td>\n",
       "    </tr>\n",
       "    <tr>\n",
       "      <th>2006-8-01</th>\n",
       "      <td>23923</td>\n",
       "    </tr>\n",
       "    <tr>\n",
       "      <th>2006-9-01</th>\n",
       "      <td>22189</td>\n",
       "    </tr>\n",
       "    <tr>\n",
       "      <th>2006-10-01</th>\n",
       "      <td>22458</td>\n",
       "    </tr>\n",
       "    <tr>\n",
       "      <th>2006-11-01</th>\n",
       "      <td>19476</td>\n",
       "    </tr>\n",
       "    <tr>\n",
       "      <th>2006-12-01</th>\n",
       "      <td>21056</td>\n",
       "    </tr>\n",
       "  </tbody>\n",
       "</table>\n",
       "</div>"
      ],
      "text/plain": [
       "            Total\n",
       "Date             \n",
       "2006-1-01   26955\n",
       "2006-2-01   27349\n",
       "2006-3-01   29367\n",
       "2006-4-01   24071\n",
       "2006-5-01   23173\n",
       "2006-6-01   21740\n",
       "2006-7-01   22056\n",
       "2006-8-01   23923\n",
       "2006-9-01   22189\n",
       "2006-10-01  22458\n",
       "2006-11-01  19476\n",
       "2006-12-01  21056"
      ]
     },
     "execution_count": 201,
     "metadata": {},
     "output_type": "execute_result"
    }
   ],
   "source": [
    "test_data"
   ]
  },
  {
   "cell_type": "code",
   "execution_count": 176,
   "id": "2fe5f97f",
   "metadata": {
    "scrolled": false
   },
   "outputs": [
    {
     "data": {
      "text/plain": [
       "DatetimeIndex(['2006-01-01', '2006-02-01', '2006-03-01', '2006-04-01'], dtype='datetime64[ns]', freq='MS')"
      ]
     },
     "execution_count": 176,
     "metadata": {},
     "output_type": "execute_result"
    }
   ],
   "source": [
    "forecasted_vals_test.index.tz_localize(None)"
   ]
  },
  {
   "cell_type": "code",
   "execution_count": 204,
   "id": "683151ff",
   "metadata": {
    "scrolled": true
   },
   "outputs": [
    {
     "data": {
      "text/plain": [
       "[<matplotlib.lines.Line2D at 0x29e698233d0>]"
      ]
     },
     "execution_count": 204,
     "metadata": {},
     "output_type": "execute_result"
    },
    {
     "ename": "TypeError",
     "evalue": "tzinfo argument must be None or of a tzinfo subclass, not type 'UnitData'",
     "output_type": "error",
     "traceback": [
      "\u001b[1;31m---------------------------------------------------------------------------\u001b[0m",
      "\u001b[1;31mTypeError\u001b[0m                                 Traceback (most recent call last)",
      "File \u001b[1;32mD:\\Download\\Anaconda\\lib\\site-packages\\matplotlib_inline\\backend_inline.py:43\u001b[0m, in \u001b[0;36mshow\u001b[1;34m(close, block)\u001b[0m\n\u001b[0;32m     39\u001b[0m \u001b[38;5;28;01mtry\u001b[39;00m:\n\u001b[0;32m     40\u001b[0m     \u001b[38;5;28;01mfor\u001b[39;00m figure_manager \u001b[38;5;129;01min\u001b[39;00m Gcf\u001b[38;5;241m.\u001b[39mget_all_fig_managers():\n\u001b[0;32m     41\u001b[0m         display(\n\u001b[0;32m     42\u001b[0m             figure_manager\u001b[38;5;241m.\u001b[39mcanvas\u001b[38;5;241m.\u001b[39mfigure,\n\u001b[1;32m---> 43\u001b[0m             metadata\u001b[38;5;241m=\u001b[39m\u001b[43m_fetch_figure_metadata\u001b[49m\u001b[43m(\u001b[49m\u001b[43mfigure_manager\u001b[49m\u001b[38;5;241;43m.\u001b[39;49m\u001b[43mcanvas\u001b[49m\u001b[38;5;241;43m.\u001b[39;49m\u001b[43mfigure\u001b[49m\u001b[43m)\u001b[49m\n\u001b[0;32m     44\u001b[0m         )\n\u001b[0;32m     45\u001b[0m \u001b[38;5;28;01mfinally\u001b[39;00m:\n\u001b[0;32m     46\u001b[0m     show\u001b[38;5;241m.\u001b[39m_to_draw \u001b[38;5;241m=\u001b[39m []\n",
      "File \u001b[1;32mD:\\Download\\Anaconda\\lib\\site-packages\\matplotlib_inline\\backend_inline.py:231\u001b[0m, in \u001b[0;36m_fetch_figure_metadata\u001b[1;34m(fig)\u001b[0m\n\u001b[0;32m    228\u001b[0m \u001b[38;5;66;03m# determine if a background is needed for legibility\u001b[39;00m\n\u001b[0;32m    229\u001b[0m \u001b[38;5;28;01mif\u001b[39;00m _is_transparent(fig\u001b[38;5;241m.\u001b[39mget_facecolor()):\n\u001b[0;32m    230\u001b[0m     \u001b[38;5;66;03m# the background is transparent\u001b[39;00m\n\u001b[1;32m--> 231\u001b[0m     ticksLight \u001b[38;5;241m=\u001b[39m _is_light([label\u001b[38;5;241m.\u001b[39mget_color()\n\u001b[0;32m    232\u001b[0m                             \u001b[38;5;28;01mfor\u001b[39;00m axes \u001b[38;5;129;01min\u001b[39;00m fig\u001b[38;5;241m.\u001b[39maxes\n\u001b[0;32m    233\u001b[0m                             \u001b[38;5;28;01mfor\u001b[39;00m axis \u001b[38;5;129;01min\u001b[39;00m (axes\u001b[38;5;241m.\u001b[39mxaxis, axes\u001b[38;5;241m.\u001b[39myaxis)\n\u001b[0;32m    234\u001b[0m                             \u001b[38;5;28;01mfor\u001b[39;00m label \u001b[38;5;129;01min\u001b[39;00m axis\u001b[38;5;241m.\u001b[39mget_ticklabels()])\n\u001b[0;32m    235\u001b[0m     \u001b[38;5;28;01mif\u001b[39;00m ticksLight\u001b[38;5;241m.\u001b[39msize \u001b[38;5;129;01mand\u001b[39;00m (ticksLight \u001b[38;5;241m==\u001b[39m ticksLight[\u001b[38;5;241m0\u001b[39m])\u001b[38;5;241m.\u001b[39mall():\n\u001b[0;32m    236\u001b[0m         \u001b[38;5;66;03m# there are one or more tick labels, all with the same lightness\u001b[39;00m\n\u001b[0;32m    237\u001b[0m         \u001b[38;5;28;01mreturn\u001b[39;00m {\u001b[38;5;124m'\u001b[39m\u001b[38;5;124mneeds_background\u001b[39m\u001b[38;5;124m'\u001b[39m: \u001b[38;5;124m'\u001b[39m\u001b[38;5;124mdark\u001b[39m\u001b[38;5;124m'\u001b[39m \u001b[38;5;28;01mif\u001b[39;00m ticksLight[\u001b[38;5;241m0\u001b[39m] \u001b[38;5;28;01melse\u001b[39;00m \u001b[38;5;124m'\u001b[39m\u001b[38;5;124mlight\u001b[39m\u001b[38;5;124m'\u001b[39m}\n",
      "File \u001b[1;32mD:\\Download\\Anaconda\\lib\\site-packages\\matplotlib_inline\\backend_inline.py:234\u001b[0m, in \u001b[0;36m<listcomp>\u001b[1;34m(.0)\u001b[0m\n\u001b[0;32m    228\u001b[0m \u001b[38;5;66;03m# determine if a background is needed for legibility\u001b[39;00m\n\u001b[0;32m    229\u001b[0m \u001b[38;5;28;01mif\u001b[39;00m _is_transparent(fig\u001b[38;5;241m.\u001b[39mget_facecolor()):\n\u001b[0;32m    230\u001b[0m     \u001b[38;5;66;03m# the background is transparent\u001b[39;00m\n\u001b[0;32m    231\u001b[0m     ticksLight \u001b[38;5;241m=\u001b[39m _is_light([label\u001b[38;5;241m.\u001b[39mget_color()\n\u001b[0;32m    232\u001b[0m                             \u001b[38;5;28;01mfor\u001b[39;00m axes \u001b[38;5;129;01min\u001b[39;00m fig\u001b[38;5;241m.\u001b[39maxes\n\u001b[0;32m    233\u001b[0m                             \u001b[38;5;28;01mfor\u001b[39;00m axis \u001b[38;5;129;01min\u001b[39;00m (axes\u001b[38;5;241m.\u001b[39mxaxis, axes\u001b[38;5;241m.\u001b[39myaxis)\n\u001b[1;32m--> 234\u001b[0m                             \u001b[38;5;28;01mfor\u001b[39;00m label \u001b[38;5;129;01min\u001b[39;00m \u001b[43maxis\u001b[49m\u001b[38;5;241;43m.\u001b[39;49m\u001b[43mget_ticklabels\u001b[49m\u001b[43m(\u001b[49m\u001b[43m)\u001b[49m])\n\u001b[0;32m    235\u001b[0m     \u001b[38;5;28;01mif\u001b[39;00m ticksLight\u001b[38;5;241m.\u001b[39msize \u001b[38;5;129;01mand\u001b[39;00m (ticksLight \u001b[38;5;241m==\u001b[39m ticksLight[\u001b[38;5;241m0\u001b[39m])\u001b[38;5;241m.\u001b[39mall():\n\u001b[0;32m    236\u001b[0m         \u001b[38;5;66;03m# there are one or more tick labels, all with the same lightness\u001b[39;00m\n\u001b[0;32m    237\u001b[0m         \u001b[38;5;28;01mreturn\u001b[39;00m {\u001b[38;5;124m'\u001b[39m\u001b[38;5;124mneeds_background\u001b[39m\u001b[38;5;124m'\u001b[39m: \u001b[38;5;124m'\u001b[39m\u001b[38;5;124mdark\u001b[39m\u001b[38;5;124m'\u001b[39m \u001b[38;5;28;01mif\u001b[39;00m ticksLight[\u001b[38;5;241m0\u001b[39m] \u001b[38;5;28;01melse\u001b[39;00m \u001b[38;5;124m'\u001b[39m\u001b[38;5;124mlight\u001b[39m\u001b[38;5;124m'\u001b[39m}\n",
      "File \u001b[1;32mD:\\Download\\Anaconda\\lib\\site-packages\\matplotlib\\axis.py:1249\u001b[0m, in \u001b[0;36mAxis.get_ticklabels\u001b[1;34m(self, minor, which)\u001b[0m\n\u001b[0;32m   1247\u001b[0m \u001b[38;5;28;01mif\u001b[39;00m minor:\n\u001b[0;32m   1248\u001b[0m     \u001b[38;5;28;01mreturn\u001b[39;00m \u001b[38;5;28mself\u001b[39m\u001b[38;5;241m.\u001b[39mget_minorticklabels()\n\u001b[1;32m-> 1249\u001b[0m \u001b[38;5;28;01mreturn\u001b[39;00m \u001b[38;5;28;43mself\u001b[39;49m\u001b[38;5;241;43m.\u001b[39;49m\u001b[43mget_majorticklabels\u001b[49m\u001b[43m(\u001b[49m\u001b[43m)\u001b[49m\n",
      "File \u001b[1;32mD:\\Download\\Anaconda\\lib\\site-packages\\matplotlib\\axis.py:1201\u001b[0m, in \u001b[0;36mAxis.get_majorticklabels\u001b[1;34m(self)\u001b[0m\n\u001b[0;32m   1199\u001b[0m \u001b[38;5;28;01mdef\u001b[39;00m \u001b[38;5;21mget_majorticklabels\u001b[39m(\u001b[38;5;28mself\u001b[39m):\n\u001b[0;32m   1200\u001b[0m     \u001b[38;5;124;03m\"\"\"Return this Axis' major tick labels, as a list of `~.text.Text`.\"\"\"\u001b[39;00m\n\u001b[1;32m-> 1201\u001b[0m     ticks \u001b[38;5;241m=\u001b[39m \u001b[38;5;28;43mself\u001b[39;49m\u001b[38;5;241;43m.\u001b[39;49m\u001b[43mget_major_ticks\u001b[49m\u001b[43m(\u001b[49m\u001b[43m)\u001b[49m\n\u001b[0;32m   1202\u001b[0m     labels1 \u001b[38;5;241m=\u001b[39m [tick\u001b[38;5;241m.\u001b[39mlabel1 \u001b[38;5;28;01mfor\u001b[39;00m tick \u001b[38;5;129;01min\u001b[39;00m ticks \u001b[38;5;28;01mif\u001b[39;00m tick\u001b[38;5;241m.\u001b[39mlabel1\u001b[38;5;241m.\u001b[39mget_visible()]\n\u001b[0;32m   1203\u001b[0m     labels2 \u001b[38;5;241m=\u001b[39m [tick\u001b[38;5;241m.\u001b[39mlabel2 \u001b[38;5;28;01mfor\u001b[39;00m tick \u001b[38;5;129;01min\u001b[39;00m ticks \u001b[38;5;28;01mif\u001b[39;00m tick\u001b[38;5;241m.\u001b[39mlabel2\u001b[38;5;241m.\u001b[39mget_visible()]\n",
      "File \u001b[1;32mD:\\Download\\Anaconda\\lib\\site-packages\\matplotlib\\axis.py:1371\u001b[0m, in \u001b[0;36mAxis.get_major_ticks\u001b[1;34m(self, numticks)\u001b[0m\n\u001b[0;32m   1369\u001b[0m \u001b[38;5;124mr\u001b[39m\u001b[38;5;124;03m\"\"\"Return the list of major `.Tick`\\s.\"\"\"\u001b[39;00m\n\u001b[0;32m   1370\u001b[0m \u001b[38;5;28;01mif\u001b[39;00m numticks \u001b[38;5;129;01mis\u001b[39;00m \u001b[38;5;28;01mNone\u001b[39;00m:\n\u001b[1;32m-> 1371\u001b[0m     numticks \u001b[38;5;241m=\u001b[39m \u001b[38;5;28mlen\u001b[39m(\u001b[38;5;28;43mself\u001b[39;49m\u001b[38;5;241;43m.\u001b[39;49m\u001b[43mget_majorticklocs\u001b[49m\u001b[43m(\u001b[49m\u001b[43m)\u001b[49m)\n\u001b[0;32m   1373\u001b[0m \u001b[38;5;28;01mwhile\u001b[39;00m \u001b[38;5;28mlen\u001b[39m(\u001b[38;5;28mself\u001b[39m\u001b[38;5;241m.\u001b[39mmajorTicks) \u001b[38;5;241m<\u001b[39m numticks:\n\u001b[0;32m   1374\u001b[0m     \u001b[38;5;66;03m# Update the new tick label properties from the old.\u001b[39;00m\n\u001b[0;32m   1375\u001b[0m     tick \u001b[38;5;241m=\u001b[39m \u001b[38;5;28mself\u001b[39m\u001b[38;5;241m.\u001b[39m_get_tick(major\u001b[38;5;241m=\u001b[39m\u001b[38;5;28;01mTrue\u001b[39;00m)\n",
      "File \u001b[1;32mD:\\Download\\Anaconda\\lib\\site-packages\\matplotlib\\axis.py:1277\u001b[0m, in \u001b[0;36mAxis.get_majorticklocs\u001b[1;34m(self)\u001b[0m\n\u001b[0;32m   1275\u001b[0m \u001b[38;5;28;01mdef\u001b[39;00m \u001b[38;5;21mget_majorticklocs\u001b[39m(\u001b[38;5;28mself\u001b[39m):\n\u001b[0;32m   1276\u001b[0m     \u001b[38;5;124;03m\"\"\"Return this Axis' major tick locations in data coordinates.\"\"\"\u001b[39;00m\n\u001b[1;32m-> 1277\u001b[0m     \u001b[38;5;28;01mreturn\u001b[39;00m \u001b[38;5;28;43mself\u001b[39;49m\u001b[38;5;241;43m.\u001b[39;49m\u001b[43mmajor\u001b[49m\u001b[38;5;241;43m.\u001b[39;49m\u001b[43mlocator\u001b[49m\u001b[43m(\u001b[49m\u001b[43m)\u001b[49m\n",
      "File \u001b[1;32mD:\\Download\\Anaconda\\lib\\site-packages\\matplotlib\\dates.py:1340\u001b[0m, in \u001b[0;36mAutoDateLocator.__call__\u001b[1;34m(self)\u001b[0m\n\u001b[0;32m   1338\u001b[0m \u001b[38;5;28;01mdef\u001b[39;00m \u001b[38;5;21m__call__\u001b[39m(\u001b[38;5;28mself\u001b[39m):\n\u001b[0;32m   1339\u001b[0m     \u001b[38;5;66;03m# docstring inherited\u001b[39;00m\n\u001b[1;32m-> 1340\u001b[0m     dmin, dmax \u001b[38;5;241m=\u001b[39m \u001b[38;5;28;43mself\u001b[39;49m\u001b[38;5;241;43m.\u001b[39;49m\u001b[43mviewlim_to_dt\u001b[49m\u001b[43m(\u001b[49m\u001b[43m)\u001b[49m\n\u001b[0;32m   1341\u001b[0m     locator \u001b[38;5;241m=\u001b[39m \u001b[38;5;28mself\u001b[39m\u001b[38;5;241m.\u001b[39mget_locator(dmin, dmax)\n\u001b[0;32m   1342\u001b[0m     \u001b[38;5;28;01mreturn\u001b[39;00m locator()\n",
      "File \u001b[1;32mD:\\Download\\Anaconda\\lib\\site-packages\\matplotlib\\dates.py:1125\u001b[0m, in \u001b[0;36mDateLocator.viewlim_to_dt\u001b[1;34m(self)\u001b[0m\n\u001b[0;32m   1123\u001b[0m \u001b[38;5;28;01mif\u001b[39;00m vmin \u001b[38;5;241m>\u001b[39m vmax:\n\u001b[0;32m   1124\u001b[0m     vmin, vmax \u001b[38;5;241m=\u001b[39m vmax, vmin\n\u001b[1;32m-> 1125\u001b[0m \u001b[38;5;28;01mreturn\u001b[39;00m \u001b[43mnum2date\u001b[49m\u001b[43m(\u001b[49m\u001b[43mvmin\u001b[49m\u001b[43m,\u001b[49m\u001b[43m \u001b[49m\u001b[38;5;28;43mself\u001b[39;49m\u001b[38;5;241;43m.\u001b[39;49m\u001b[43mtz\u001b[49m\u001b[43m)\u001b[49m, num2date(vmax, \u001b[38;5;28mself\u001b[39m\u001b[38;5;241m.\u001b[39mtz)\n",
      "File \u001b[1;32mD:\\Download\\Anaconda\\lib\\site-packages\\matplotlib\\dates.py:528\u001b[0m, in \u001b[0;36mnum2date\u001b[1;34m(x, tz)\u001b[0m\n\u001b[0;32m    526\u001b[0m \u001b[38;5;28;01mif\u001b[39;00m tz \u001b[38;5;129;01mis\u001b[39;00m \u001b[38;5;28;01mNone\u001b[39;00m:\n\u001b[0;32m    527\u001b[0m     tz \u001b[38;5;241m=\u001b[39m _get_rc_timezone()\n\u001b[1;32m--> 528\u001b[0m \u001b[38;5;28;01mreturn\u001b[39;00m \u001b[43m_from_ordinalf_np_vectorized\u001b[49m\u001b[43m(\u001b[49m\u001b[43mx\u001b[49m\u001b[43m,\u001b[49m\u001b[43m \u001b[49m\u001b[43mtz\u001b[49m\u001b[43m)\u001b[49m\u001b[38;5;241m.\u001b[39mtolist()\n",
      "File \u001b[1;32mD:\\Download\\Anaconda\\lib\\site-packages\\numpy\\lib\\function_base.py:2163\u001b[0m, in \u001b[0;36mvectorize.__call__\u001b[1;34m(self, *args, **kwargs)\u001b[0m\n\u001b[0;32m   2160\u001b[0m     vargs \u001b[38;5;241m=\u001b[39m [args[_i] \u001b[38;5;28;01mfor\u001b[39;00m _i \u001b[38;5;129;01min\u001b[39;00m inds]\n\u001b[0;32m   2161\u001b[0m     vargs\u001b[38;5;241m.\u001b[39mextend([kwargs[_n] \u001b[38;5;28;01mfor\u001b[39;00m _n \u001b[38;5;129;01min\u001b[39;00m names])\n\u001b[1;32m-> 2163\u001b[0m \u001b[38;5;28;01mreturn\u001b[39;00m \u001b[38;5;28;43mself\u001b[39;49m\u001b[38;5;241;43m.\u001b[39;49m\u001b[43m_vectorize_call\u001b[49m\u001b[43m(\u001b[49m\u001b[43mfunc\u001b[49m\u001b[38;5;241;43m=\u001b[39;49m\u001b[43mfunc\u001b[49m\u001b[43m,\u001b[49m\u001b[43m \u001b[49m\u001b[43margs\u001b[49m\u001b[38;5;241;43m=\u001b[39;49m\u001b[43mvargs\u001b[49m\u001b[43m)\u001b[49m\n",
      "File \u001b[1;32mD:\\Download\\Anaconda\\lib\\site-packages\\numpy\\lib\\function_base.py:2246\u001b[0m, in \u001b[0;36mvectorize._vectorize_call\u001b[1;34m(self, func, args)\u001b[0m\n\u001b[0;32m   2243\u001b[0m \u001b[38;5;66;03m# Convert args to object arrays first\u001b[39;00m\n\u001b[0;32m   2244\u001b[0m inputs \u001b[38;5;241m=\u001b[39m [asanyarray(a, dtype\u001b[38;5;241m=\u001b[39m\u001b[38;5;28mobject\u001b[39m) \u001b[38;5;28;01mfor\u001b[39;00m a \u001b[38;5;129;01min\u001b[39;00m args]\n\u001b[1;32m-> 2246\u001b[0m outputs \u001b[38;5;241m=\u001b[39m \u001b[43mufunc\u001b[49m\u001b[43m(\u001b[49m\u001b[38;5;241;43m*\u001b[39;49m\u001b[43minputs\u001b[49m\u001b[43m)\u001b[49m\n\u001b[0;32m   2248\u001b[0m \u001b[38;5;28;01mif\u001b[39;00m ufunc\u001b[38;5;241m.\u001b[39mnout \u001b[38;5;241m==\u001b[39m \u001b[38;5;241m1\u001b[39m:\n\u001b[0;32m   2249\u001b[0m     res \u001b[38;5;241m=\u001b[39m asanyarray(outputs, dtype\u001b[38;5;241m=\u001b[39motypes[\u001b[38;5;241m0\u001b[39m])\n",
      "File \u001b[1;32mD:\\Download\\Anaconda\\lib\\site-packages\\matplotlib\\dates.py:359\u001b[0m, in \u001b[0;36m_from_ordinalf\u001b[1;34m(x, tz)\u001b[0m\n\u001b[0;32m    357\u001b[0m dt \u001b[38;5;241m=\u001b[39m dt\u001b[38;5;241m.\u001b[39mreplace(tzinfo\u001b[38;5;241m=\u001b[39mdateutil\u001b[38;5;241m.\u001b[39mtz\u001b[38;5;241m.\u001b[39mgettz(\u001b[38;5;124m'\u001b[39m\u001b[38;5;124mUTC\u001b[39m\u001b[38;5;124m'\u001b[39m))\n\u001b[0;32m    358\u001b[0m \u001b[38;5;66;03m# but maybe we are working in a different timezone so move.\u001b[39;00m\n\u001b[1;32m--> 359\u001b[0m dt \u001b[38;5;241m=\u001b[39m \u001b[43mdt\u001b[49m\u001b[38;5;241;43m.\u001b[39;49m\u001b[43mastimezone\u001b[49m\u001b[43m(\u001b[49m\u001b[43mtz\u001b[49m\u001b[43m)\u001b[49m\n\u001b[0;32m    360\u001b[0m \u001b[38;5;66;03m# fix round off errors\u001b[39;00m\n\u001b[0;32m    361\u001b[0m \u001b[38;5;28;01mif\u001b[39;00m np\u001b[38;5;241m.\u001b[39mabs(x) \u001b[38;5;241m>\u001b[39m \u001b[38;5;241m70\u001b[39m \u001b[38;5;241m*\u001b[39m \u001b[38;5;241m365\u001b[39m:\n\u001b[0;32m    362\u001b[0m     \u001b[38;5;66;03m# if x is big, round off to nearest twenty microseconds.\u001b[39;00m\n\u001b[0;32m    363\u001b[0m     \u001b[38;5;66;03m# This avoids floating point roundoff error\u001b[39;00m\n",
      "\u001b[1;31mTypeError\u001b[0m: tzinfo argument must be None or of a tzinfo subclass, not type 'UnitData'"
     ]
    }
   ],
   "source": [
    "plt.plot(test_data, color='black', label='test_actuals')\n",
    "plt.plot(forecasted_test_vals, color = 'orange', label='test_forecasted')"
   ]
  },
  {
   "cell_type": "code",
   "execution_count": 203,
   "id": "f3928af8",
   "metadata": {
    "scrolled": true
   },
   "outputs": [
    {
     "data": {
      "text/plain": [
       "[<matplotlib.lines.Line2D at 0x29e69741370>]"
      ]
     },
     "execution_count": 203,
     "metadata": {},
     "output_type": "execute_result"
    },
    {
     "data": {
      "image/png": "[encoded data removed]",
      "text/plain": [
       "<Figure size 432x288 with 1 Axes>"
      ]
     },
     "metadata": {
      "needs_background": "light"
     },
     "output_type": "display_data"
    }
   ],
   "source": [
    "plt.plot(forecasted_test_vals, color = 'orange', label='test_forecasted')"
   ]
  },
  {
   "cell_type": "code",
   "execution_count": 221,
   "id": "28d71b1e",
   "metadata": {},
   "outputs": [
    {
     "data": {
      "text/html": [
       "<div>\n",
       "<style scoped>\n",
       "    .dataframe tbody tr th:only-of-type {\n",
       "        vertical-align: middle;\n",
       "    }\n",
       "\n",
       "    .dataframe tbody tr th {\n",
       "        vertical-align: top;\n",
       "    }\n",
       "\n",
       "    .dataframe thead th {\n",
       "        text-align: right;\n",
       "    }\n",
       "</style>\n",
       "<table border=\"1\" class=\"dataframe\">\n",
       "  <thead>\n",
       "    <tr style=\"text-align: right;\">\n",
       "      <th></th>\n",
       "      <th>Total</th>\n",
       "    </tr>\n",
       "  </thead>\n",
       "  <tbody>\n",
       "    <tr>\n",
       "      <th>2006-01-01</th>\n",
       "      <td>24950</td>\n",
       "    </tr>\n",
       "    <tr>\n",
       "      <th>2006-02-01</th>\n",
       "      <td>26371</td>\n",
       "    </tr>\n",
       "    <tr>\n",
       "      <th>2006-03-01</th>\n",
       "      <td>28045</td>\n",
       "    </tr>\n",
       "    <tr>\n",
       "      <th>2006-04-01</th>\n",
       "      <td>24718</td>\n",
       "    </tr>\n",
       "    <tr>\n",
       "      <th>2006-05-01</th>\n",
       "      <td>26102</td>\n",
       "    </tr>\n",
       "    <tr>\n",
       "      <th>2006-06-01</th>\n",
       "      <td>24525</td>\n",
       "    </tr>\n",
       "    <tr>\n",
       "      <th>2006-07-01</th>\n",
       "      <td>23792</td>\n",
       "    </tr>\n",
       "    <tr>\n",
       "      <th>2006-08-01</th>\n",
       "      <td>25739</td>\n",
       "    </tr>\n",
       "    <tr>\n",
       "      <th>2006-09-01</th>\n",
       "      <td>25100</td>\n",
       "    </tr>\n",
       "    <tr>\n",
       "      <th>2006-10-01</th>\n",
       "      <td>26069</td>\n",
       "    </tr>\n",
       "    <tr>\n",
       "      <th>2006-11-01</th>\n",
       "      <td>22765</td>\n",
       "    </tr>\n",
       "    <tr>\n",
       "      <th>2006-12-01</th>\n",
       "      <td>22240</td>\n",
       "    </tr>\n",
       "  </tbody>\n",
       "</table>\n",
       "</div>"
      ],
      "text/plain": [
       "            Total\n",
       "2006-01-01  24950\n",
       "2006-02-01  26371\n",
       "2006-03-01  28045\n",
       "2006-04-01  24718\n",
       "2006-05-01  26102\n",
       "2006-06-01  24525\n",
       "2006-07-01  23792\n",
       "2006-08-01  25739\n",
       "2006-09-01  25100\n",
       "2006-10-01  26069\n",
       "2006-11-01  22765\n",
       "2006-12-01  22240"
      ]
     },
     "execution_count": 221,
     "metadata": {},
     "output_type": "execute_result"
    }
   ],
   "source": [
    "\n",
    "forecasted_test_vals = forecasted_test_vals.rename(columns={'predicted_mean': 'Total'})\n",
    "forecasted_test_vals"
   ]
  },
  {
   "cell_type": "code",
   "execution_count": 222,
   "id": "8634cdcc",
   "metadata": {
    "scrolled": true
   },
   "outputs": [
    {
     "name": "stdout",
     "output_type": "stream",
     "text": [
      "<class 'pandas.core.frame.DataFrame'>\n",
      "Index: 12 entries, 2006-1-01 to 2006-12-01\n",
      "Data columns (total 1 columns):\n",
      " #   Column  Non-Null Count  Dtype\n",
      "---  ------  --------------  -----\n",
      " 0   Total   12 non-null     int64\n",
      "dtypes: int64(1)\n",
      "memory usage: 192.0+ bytes\n",
      "<class 'pandas.core.frame.DataFrame'>\n",
      "DatetimeIndex: 12 entries, 2006-01-01 to 2006-12-01\n",
      "Freq: MS\n",
      "Data columns (total 1 columns):\n",
      " #   Column  Non-Null Count  Dtype\n",
      "---  ------  --------------  -----\n",
      " 0   Total   12 non-null     int64\n",
      "dtypes: int64(1)\n",
      "memory usage: 192.0 bytes\n"
     ]
    },
    {
     "data": {
      "text/plain": [
       "(None, None)"
      ]
     },
     "execution_count": 222,
     "metadata": {},
     "output_type": "execute_result"
    }
   ],
   "source": [
    "test_data.info()  , forecasted_test_vals.info()"
   ]
  },
  {
   "cell_type": "code",
   "execution_count": 217,
   "id": "93c8b40f",
   "metadata": {},
   "outputs": [],
   "source": [
    "forecasted_test_vals = pd.DataFrame(forecasted_test_vals)\n",
    "forecasted_test_vals=forecasted_test_vals.astype('int64')"
   ]
  },
  {
   "cell_type": "code",
   "execution_count": 223,
   "id": "133bf585",
   "metadata": {},
   "outputs": [
    {
     "data": {
      "text/plain": [
       "<matplotlib.legend.Legend at 0x29e69b4e850>"
      ]
     },
     "execution_count": 223,
     "metadata": {},
     "output_type": "execute_result"
    },
    {
     "ename": "TypeError",
     "evalue": "tzinfo argument must be None or of a tzinfo subclass, not type 'UnitData'",
     "output_type": "error",
     "traceback": [
      "\u001b[1;31m---------------------------------------------------------------------------\u001b[0m",
      "\u001b[1;31mTypeError\u001b[0m                                 Traceback (most recent call last)",
      "File \u001b[1;32mD:\\Download\\Anaconda\\lib\\site-packages\\matplotlib_inline\\backend_inline.py:43\u001b[0m, in \u001b[0;36mshow\u001b[1;34m(close, block)\u001b[0m\n\u001b[0;32m     39\u001b[0m \u001b[38;5;28;01mtry\u001b[39;00m:\n\u001b[0;32m     40\u001b[0m     \u001b[38;5;28;01mfor\u001b[39;00m figure_manager \u001b[38;5;129;01min\u001b[39;00m Gcf\u001b[38;5;241m.\u001b[39mget_all_fig_managers():\n\u001b[0;32m     41\u001b[0m         display(\n\u001b[0;32m     42\u001b[0m             figure_manager\u001b[38;5;241m.\u001b[39mcanvas\u001b[38;5;241m.\u001b[39mfigure,\n\u001b[1;32m---> 43\u001b[0m             metadata\u001b[38;5;241m=\u001b[39m\u001b[43m_fetch_figure_metadata\u001b[49m\u001b[43m(\u001b[49m\u001b[43mfigure_manager\u001b[49m\u001b[38;5;241;43m.\u001b[39;49m\u001b[43mcanvas\u001b[49m\u001b[38;5;241;43m.\u001b[39;49m\u001b[43mfigure\u001b[49m\u001b[43m)\u001b[49m\n\u001b[0;32m     44\u001b[0m         )\n\u001b[0;32m     45\u001b[0m \u001b[38;5;28;01mfinally\u001b[39;00m:\n\u001b[0;32m     46\u001b[0m     show\u001b[38;5;241m.\u001b[39m_to_draw \u001b[38;5;241m=\u001b[39m []\n",
      "File \u001b[1;32mD:\\Download\\Anaconda\\lib\\site-packages\\matplotlib_inline\\backend_inline.py:231\u001b[0m, in \u001b[0;36m_fetch_figure_metadata\u001b[1;34m(fig)\u001b[0m\n\u001b[0;32m    228\u001b[0m \u001b[38;5;66;03m# determine if a background is needed for legibility\u001b[39;00m\n\u001b[0;32m    229\u001b[0m \u001b[38;5;28;01mif\u001b[39;00m _is_transparent(fig\u001b[38;5;241m.\u001b[39mget_facecolor()):\n\u001b[0;32m    230\u001b[0m     \u001b[38;5;66;03m# the background is transparent\u001b[39;00m\n\u001b[1;32m--> 231\u001b[0m     ticksLight \u001b[38;5;241m=\u001b[39m _is_light([label\u001b[38;5;241m.\u001b[39mget_color()\n\u001b[0;32m    232\u001b[0m                             \u001b[38;5;28;01mfor\u001b[39;00m axes \u001b[38;5;129;01min\u001b[39;00m fig\u001b[38;5;241m.\u001b[39maxes\n\u001b[0;32m    233\u001b[0m                             \u001b[38;5;28;01mfor\u001b[39;00m axis \u001b[38;5;129;01min\u001b[39;00m (axes\u001b[38;5;241m.\u001b[39mxaxis, axes\u001b[38;5;241m.\u001b[39myaxis)\n\u001b[0;32m    234\u001b[0m                             \u001b[38;5;28;01mfor\u001b[39;00m label \u001b[38;5;129;01min\u001b[39;00m axis\u001b[38;5;241m.\u001b[39mget_ticklabels()])\n\u001b[0;32m    235\u001b[0m     \u001b[38;5;28;01mif\u001b[39;00m ticksLight\u001b[38;5;241m.\u001b[39msize \u001b[38;5;129;01mand\u001b[39;00m (ticksLight \u001b[38;5;241m==\u001b[39m ticksLight[\u001b[38;5;241m0\u001b[39m])\u001b[38;5;241m.\u001b[39mall():\n\u001b[0;32m    236\u001b[0m         \u001b[38;5;66;03m# there are one or more tick labels, all with the same lightness\u001b[39;00m\n\u001b[0;32m    237\u001b[0m         \u001b[38;5;28;01mreturn\u001b[39;00m {\u001b[38;5;124m'\u001b[39m\u001b[38;5;124mneeds_background\u001b[39m\u001b[38;5;124m'\u001b[39m: \u001b[38;5;124m'\u001b[39m\u001b[38;5;124mdark\u001b[39m\u001b[38;5;124m'\u001b[39m \u001b[38;5;28;01mif\u001b[39;00m ticksLight[\u001b[38;5;241m0\u001b[39m] \u001b[38;5;28;01melse\u001b[39;00m \u001b[38;5;124m'\u001b[39m\u001b[38;5;124mlight\u001b[39m\u001b[38;5;124m'\u001b[39m}\n",
      "File \u001b[1;32mD:\\Download\\Anaconda\\lib\\site-packages\\matplotlib_inline\\backend_inline.py:234\u001b[0m, in \u001b[0;36m<listcomp>\u001b[1;34m(.0)\u001b[0m\n\u001b[0;32m    228\u001b[0m \u001b[38;5;66;03m# determine if a background is needed for legibility\u001b[39;00m\n\u001b[0;32m    229\u001b[0m \u001b[38;5;28;01mif\u001b[39;00m _is_transparent(fig\u001b[38;5;241m.\u001b[39mget_facecolor()):\n\u001b[0;32m    230\u001b[0m     \u001b[38;5;66;03m# the background is transparent\u001b[39;00m\n\u001b[0;32m    231\u001b[0m     ticksLight \u001b[38;5;241m=\u001b[39m _is_light([label\u001b[38;5;241m.\u001b[39mget_color()\n\u001b[0;32m    232\u001b[0m                             \u001b[38;5;28;01mfor\u001b[39;00m axes \u001b[38;5;129;01min\u001b[39;00m fig\u001b[38;5;241m.\u001b[39maxes\n\u001b[0;32m    233\u001b[0m                             \u001b[38;5;28;01mfor\u001b[39;00m axis \u001b[38;5;129;01min\u001b[39;00m (axes\u001b[38;5;241m.\u001b[39mxaxis, axes\u001b[38;5;241m.\u001b[39myaxis)\n\u001b[1;32m--> 234\u001b[0m                             \u001b[38;5;28;01mfor\u001b[39;00m label \u001b[38;5;129;01min\u001b[39;00m \u001b[43maxis\u001b[49m\u001b[38;5;241;43m.\u001b[39;49m\u001b[43mget_ticklabels\u001b[49m\u001b[43m(\u001b[49m\u001b[43m)\u001b[49m])\n\u001b[0;32m    235\u001b[0m     \u001b[38;5;28;01mif\u001b[39;00m ticksLight\u001b[38;5;241m.\u001b[39msize \u001b[38;5;129;01mand\u001b[39;00m (ticksLight \u001b[38;5;241m==\u001b[39m ticksLight[\u001b[38;5;241m0\u001b[39m])\u001b[38;5;241m.\u001b[39mall():\n\u001b[0;32m    236\u001b[0m         \u001b[38;5;66;03m# there are one or more tick labels, all with the same lightness\u001b[39;00m\n\u001b[0;32m    237\u001b[0m         \u001b[38;5;28;01mreturn\u001b[39;00m {\u001b[38;5;124m'\u001b[39m\u001b[38;5;124mneeds_background\u001b[39m\u001b[38;5;124m'\u001b[39m: \u001b[38;5;124m'\u001b[39m\u001b[38;5;124mdark\u001b[39m\u001b[38;5;124m'\u001b[39m \u001b[38;5;28;01mif\u001b[39;00m ticksLight[\u001b[38;5;241m0\u001b[39m] \u001b[38;5;28;01melse\u001b[39;00m \u001b[38;5;124m'\u001b[39m\u001b[38;5;124mlight\u001b[39m\u001b[38;5;124m'\u001b[39m}\n",
      "File \u001b[1;32mD:\\Download\\Anaconda\\lib\\site-packages\\matplotlib\\axis.py:1249\u001b[0m, in \u001b[0;36mAxis.get_ticklabels\u001b[1;34m(self, minor, which)\u001b[0m\n\u001b[0;32m   1247\u001b[0m \u001b[38;5;28;01mif\u001b[39;00m minor:\n\u001b[0;32m   1248\u001b[0m     \u001b[38;5;28;01mreturn\u001b[39;00m \u001b[38;5;28mself\u001b[39m\u001b[38;5;241m.\u001b[39mget_minorticklabels()\n\u001b[1;32m-> 1249\u001b[0m \u001b[38;5;28;01mreturn\u001b[39;00m \u001b[38;5;28;43mself\u001b[39;49m\u001b[38;5;241;43m.\u001b[39;49m\u001b[43mget_majorticklabels\u001b[49m\u001b[43m(\u001b[49m\u001b[43m)\u001b[49m\n",
      "File \u001b[1;32mD:\\Download\\Anaconda\\lib\\site-packages\\matplotlib\\axis.py:1201\u001b[0m, in \u001b[0;36mAxis.get_majorticklabels\u001b[1;34m(self)\u001b[0m\n\u001b[0;32m   1199\u001b[0m \u001b[38;5;28;01mdef\u001b[39;00m \u001b[38;5;21mget_majorticklabels\u001b[39m(\u001b[38;5;28mself\u001b[39m):\n\u001b[0;32m   1200\u001b[0m     \u001b[38;5;124;03m\"\"\"Return this Axis' major tick labels, as a list of `~.text.Text`.\"\"\"\u001b[39;00m\n\u001b[1;32m-> 1201\u001b[0m     ticks \u001b[38;5;241m=\u001b[39m \u001b[38;5;28;43mself\u001b[39;49m\u001b[38;5;241;43m.\u001b[39;49m\u001b[43mget_major_ticks\u001b[49m\u001b[43m(\u001b[49m\u001b[43m)\u001b[49m\n\u001b[0;32m   1202\u001b[0m     labels1 \u001b[38;5;241m=\u001b[39m [tick\u001b[38;5;241m.\u001b[39mlabel1 \u001b[38;5;28;01mfor\u001b[39;00m tick \u001b[38;5;129;01min\u001b[39;00m ticks \u001b[38;5;28;01mif\u001b[39;00m tick\u001b[38;5;241m.\u001b[39mlabel1\u001b[38;5;241m.\u001b[39mget_visible()]\n\u001b[0;32m   1203\u001b[0m     labels2 \u001b[38;5;241m=\u001b[39m [tick\u001b[38;5;241m.\u001b[39mlabel2 \u001b[38;5;28;01mfor\u001b[39;00m tick \u001b[38;5;129;01min\u001b[39;00m ticks \u001b[38;5;28;01mif\u001b[39;00m tick\u001b[38;5;241m.\u001b[39mlabel2\u001b[38;5;241m.\u001b[39mget_visible()]\n",
      "File \u001b[1;32mD:\\Download\\Anaconda\\lib\\site-packages\\matplotlib\\axis.py:1371\u001b[0m, in \u001b[0;36mAxis.get_major_ticks\u001b[1;34m(self, numticks)\u001b[0m\n\u001b[0;32m   1369\u001b[0m \u001b[38;5;124mr\u001b[39m\u001b[38;5;124;03m\"\"\"Return the list of major `.Tick`\\s.\"\"\"\u001b[39;00m\n\u001b[0;32m   1370\u001b[0m \u001b[38;5;28;01mif\u001b[39;00m numticks \u001b[38;5;129;01mis\u001b[39;00m \u001b[38;5;28;01mNone\u001b[39;00m:\n\u001b[1;32m-> 1371\u001b[0m     numticks \u001b[38;5;241m=\u001b[39m \u001b[38;5;28mlen\u001b[39m(\u001b[38;5;28;43mself\u001b[39;49m\u001b[38;5;241;43m.\u001b[39;49m\u001b[43mget_majorticklocs\u001b[49m\u001b[43m(\u001b[49m\u001b[43m)\u001b[49m)\n\u001b[0;32m   1373\u001b[0m \u001b[38;5;28;01mwhile\u001b[39;00m \u001b[38;5;28mlen\u001b[39m(\u001b[38;5;28mself\u001b[39m\u001b[38;5;241m.\u001b[39mmajorTicks) \u001b[38;5;241m<\u001b[39m numticks:\n\u001b[0;32m   1374\u001b[0m     \u001b[38;5;66;03m# Update the new tick label properties from the old.\u001b[39;00m\n\u001b[0;32m   1375\u001b[0m     tick \u001b[38;5;241m=\u001b[39m \u001b[38;5;28mself\u001b[39m\u001b[38;5;241m.\u001b[39m_get_tick(major\u001b[38;5;241m=\u001b[39m\u001b[38;5;28;01mTrue\u001b[39;00m)\n",
      "File \u001b[1;32mD:\\Download\\Anaconda\\lib\\site-packages\\matplotlib\\axis.py:1277\u001b[0m, in \u001b[0;36mAxis.get_majorticklocs\u001b[1;34m(self)\u001b[0m\n\u001b[0;32m   1275\u001b[0m \u001b[38;5;28;01mdef\u001b[39;00m \u001b[38;5;21mget_majorticklocs\u001b[39m(\u001b[38;5;28mself\u001b[39m):\n\u001b[0;32m   1276\u001b[0m     \u001b[38;5;124;03m\"\"\"Return this Axis' major tick locations in data coordinates.\"\"\"\u001b[39;00m\n\u001b[1;32m-> 1277\u001b[0m     \u001b[38;5;28;01mreturn\u001b[39;00m \u001b[38;5;28;43mself\u001b[39;49m\u001b[38;5;241;43m.\u001b[39;49m\u001b[43mmajor\u001b[49m\u001b[38;5;241;43m.\u001b[39;49m\u001b[43mlocator\u001b[49m\u001b[43m(\u001b[49m\u001b[43m)\u001b[49m\n",
      "File \u001b[1;32mD:\\Download\\Anaconda\\lib\\site-packages\\matplotlib\\dates.py:1340\u001b[0m, in \u001b[0;36mAutoDateLocator.__call__\u001b[1;34m(self)\u001b[0m\n\u001b[0;32m   1338\u001b[0m \u001b[38;5;28;01mdef\u001b[39;00m \u001b[38;5;21m__call__\u001b[39m(\u001b[38;5;28mself\u001b[39m):\n\u001b[0;32m   1339\u001b[0m     \u001b[38;5;66;03m# docstring inherited\u001b[39;00m\n\u001b[1;32m-> 1340\u001b[0m     dmin, dmax \u001b[38;5;241m=\u001b[39m \u001b[38;5;28;43mself\u001b[39;49m\u001b[38;5;241;43m.\u001b[39;49m\u001b[43mviewlim_to_dt\u001b[49m\u001b[43m(\u001b[49m\u001b[43m)\u001b[49m\n\u001b[0;32m   1341\u001b[0m     locator \u001b[38;5;241m=\u001b[39m \u001b[38;5;28mself\u001b[39m\u001b[38;5;241m.\u001b[39mget_locator(dmin, dmax)\n\u001b[0;32m   1342\u001b[0m     \u001b[38;5;28;01mreturn\u001b[39;00m locator()\n",
      "File \u001b[1;32mD:\\Download\\Anaconda\\lib\\site-packages\\matplotlib\\dates.py:1125\u001b[0m, in \u001b[0;36mDateLocator.viewlim_to_dt\u001b[1;34m(self)\u001b[0m\n\u001b[0;32m   1123\u001b[0m \u001b[38;5;28;01mif\u001b[39;00m vmin \u001b[38;5;241m>\u001b[39m vmax:\n\u001b[0;32m   1124\u001b[0m     vmin, vmax \u001b[38;5;241m=\u001b[39m vmax, vmin\n\u001b[1;32m-> 1125\u001b[0m \u001b[38;5;28;01mreturn\u001b[39;00m \u001b[43mnum2date\u001b[49m\u001b[43m(\u001b[49m\u001b[43mvmin\u001b[49m\u001b[43m,\u001b[49m\u001b[43m \u001b[49m\u001b[38;5;28;43mself\u001b[39;49m\u001b[38;5;241;43m.\u001b[39;49m\u001b[43mtz\u001b[49m\u001b[43m)\u001b[49m, num2date(vmax, \u001b[38;5;28mself\u001b[39m\u001b[38;5;241m.\u001b[39mtz)\n",
      "File \u001b[1;32mD:\\Download\\Anaconda\\lib\\site-packages\\matplotlib\\dates.py:528\u001b[0m, in \u001b[0;36mnum2date\u001b[1;34m(x, tz)\u001b[0m\n\u001b[0;32m    526\u001b[0m \u001b[38;5;28;01mif\u001b[39;00m tz \u001b[38;5;129;01mis\u001b[39;00m \u001b[38;5;28;01mNone\u001b[39;00m:\n\u001b[0;32m    527\u001b[0m     tz \u001b[38;5;241m=\u001b[39m _get_rc_timezone()\n\u001b[1;32m--> 528\u001b[0m \u001b[38;5;28;01mreturn\u001b[39;00m \u001b[43m_from_ordinalf_np_vectorized\u001b[49m\u001b[43m(\u001b[49m\u001b[43mx\u001b[49m\u001b[43m,\u001b[49m\u001b[43m \u001b[49m\u001b[43mtz\u001b[49m\u001b[43m)\u001b[49m\u001b[38;5;241m.\u001b[39mtolist()\n",
      "File \u001b[1;32mD:\\Download\\Anaconda\\lib\\site-packages\\numpy\\lib\\function_base.py:2163\u001b[0m, in \u001b[0;36mvectorize.__call__\u001b[1;34m(self, *args, **kwargs)\u001b[0m\n\u001b[0;32m   2160\u001b[0m     vargs \u001b[38;5;241m=\u001b[39m [args[_i] \u001b[38;5;28;01mfor\u001b[39;00m _i \u001b[38;5;129;01min\u001b[39;00m inds]\n\u001b[0;32m   2161\u001b[0m     vargs\u001b[38;5;241m.\u001b[39mextend([kwargs[_n] \u001b[38;5;28;01mfor\u001b[39;00m _n \u001b[38;5;129;01min\u001b[39;00m names])\n\u001b[1;32m-> 2163\u001b[0m \u001b[38;5;28;01mreturn\u001b[39;00m \u001b[38;5;28;43mself\u001b[39;49m\u001b[38;5;241;43m.\u001b[39;49m\u001b[43m_vectorize_call\u001b[49m\u001b[43m(\u001b[49m\u001b[43mfunc\u001b[49m\u001b[38;5;241;43m=\u001b[39;49m\u001b[43mfunc\u001b[49m\u001b[43m,\u001b[49m\u001b[43m \u001b[49m\u001b[43margs\u001b[49m\u001b[38;5;241;43m=\u001b[39;49m\u001b[43mvargs\u001b[49m\u001b[43m)\u001b[49m\n",
      "File \u001b[1;32mD:\\Download\\Anaconda\\lib\\site-packages\\numpy\\lib\\function_base.py:2246\u001b[0m, in \u001b[0;36mvectorize._vectorize_call\u001b[1;34m(self, func, args)\u001b[0m\n\u001b[0;32m   2243\u001b[0m \u001b[38;5;66;03m# Convert args to object arrays first\u001b[39;00m\n\u001b[0;32m   2244\u001b[0m inputs \u001b[38;5;241m=\u001b[39m [asanyarray(a, dtype\u001b[38;5;241m=\u001b[39m\u001b[38;5;28mobject\u001b[39m) \u001b[38;5;28;01mfor\u001b[39;00m a \u001b[38;5;129;01min\u001b[39;00m args]\n\u001b[1;32m-> 2246\u001b[0m outputs \u001b[38;5;241m=\u001b[39m \u001b[43mufunc\u001b[49m\u001b[43m(\u001b[49m\u001b[38;5;241;43m*\u001b[39;49m\u001b[43minputs\u001b[49m\u001b[43m)\u001b[49m\n\u001b[0;32m   2248\u001b[0m \u001b[38;5;28;01mif\u001b[39;00m ufunc\u001b[38;5;241m.\u001b[39mnout \u001b[38;5;241m==\u001b[39m \u001b[38;5;241m1\u001b[39m:\n\u001b[0;32m   2249\u001b[0m     res \u001b[38;5;241m=\u001b[39m asanyarray(outputs, dtype\u001b[38;5;241m=\u001b[39motypes[\u001b[38;5;241m0\u001b[39m])\n",
      "File \u001b[1;32mD:\\Download\\Anaconda\\lib\\site-packages\\matplotlib\\dates.py:359\u001b[0m, in \u001b[0;36m_from_ordinalf\u001b[1;34m(x, tz)\u001b[0m\n\u001b[0;32m    357\u001b[0m dt \u001b[38;5;241m=\u001b[39m dt\u001b[38;5;241m.\u001b[39mreplace(tzinfo\u001b[38;5;241m=\u001b[39mdateutil\u001b[38;5;241m.\u001b[39mtz\u001b[38;5;241m.\u001b[39mgettz(\u001b[38;5;124m'\u001b[39m\u001b[38;5;124mUTC\u001b[39m\u001b[38;5;124m'\u001b[39m))\n\u001b[0;32m    358\u001b[0m \u001b[38;5;66;03m# but maybe we are working in a different timezone so move.\u001b[39;00m\n\u001b[1;32m--> 359\u001b[0m dt \u001b[38;5;241m=\u001b[39m \u001b[43mdt\u001b[49m\u001b[38;5;241;43m.\u001b[39;49m\u001b[43mastimezone\u001b[49m\u001b[43m(\u001b[49m\u001b[43mtz\u001b[49m\u001b[43m)\u001b[49m\n\u001b[0;32m    360\u001b[0m \u001b[38;5;66;03m# fix round off errors\u001b[39;00m\n\u001b[0;32m    361\u001b[0m \u001b[38;5;28;01mif\u001b[39;00m np\u001b[38;5;241m.\u001b[39mabs(x) \u001b[38;5;241m>\u001b[39m \u001b[38;5;241m70\u001b[39m \u001b[38;5;241m*\u001b[39m \u001b[38;5;241m365\u001b[39m:\n\u001b[0;32m    362\u001b[0m     \u001b[38;5;66;03m# if x is big, round off to nearest twenty microseconds.\u001b[39;00m\n\u001b[0;32m    363\u001b[0m     \u001b[38;5;66;03m# This avoids floating point roundoff error\u001b[39;00m\n",
      "\u001b[1;31mTypeError\u001b[0m: tzinfo argument must be None or of a tzinfo subclass, not type 'UnitData'"
     ]
    }
   ],
   "source": [
    "plt.figure(figsize=(10,5))\n",
    "\n",
    "plt.plot(train_data, label='train_actuals')\n",
    "plt.plot(results_arima.fittedvalues, color='red', label='train_forecasted')\n",
    "\n",
    "plt.plot(test_data, color='black', label='test_actuals')\n",
    "plt.plot(forecasted_test_vals, color = 'orange', label='test_forecasted')\n",
    "\n",
    "plt.legend()"
   ]
  },
  {
   "cell_type": "code",
   "execution_count": 224,
   "id": "d865c79a",
   "metadata": {},
   "outputs": [
    {
     "name": "stderr",
     "output_type": "stream",
     "text": [
      "C:\\Users\\LPT-3036\\AppData\\Local\\Temp\\ipykernel_8400\\152723840.py:2: MatplotlibDeprecationWarning: Support for passing numbers through unit converters is deprecated since 3.5 and support will be removed two minor releases later; use Axis.convert_units instead.\n",
      "  plt.plot(test_data,color='black', label='test_actuals')\n"
     ]
    },
    {
     "data": {
      "text/plain": [
       "<matplotlib.legend.Legend at 0x29e69c8ed90>"
      ]
     },
     "execution_count": 224,
     "metadata": {},
     "output_type": "execute_result"
    },
    {
     "data": {
      "image/png": "[encoded data removed]",
      "text/plain": [
       "<Figure size 432x288 with 1 Axes>"
      ]
     },
     "metadata": {
      "needs_background": "light"
     },
     "output_type": "display_data"
    }
   ],
   "source": [
    "plt.plot(forecasted_vals_test,color='orange', label='test_forecasted') \n",
    "plt.plot(test_data,color='black', label='test_actuals')\n",
    "plt.legend()"
   ]
  },
  {
   "cell_type": "code",
   "execution_count": 225,
   "id": "c2698e1c",
   "metadata": {},
   "outputs": [
    {
     "data": {
      "text/plain": [
       "<matplotlib.legend.Legend at 0x29e69cae7f0>"
      ]
     },
     "execution_count": 225,
     "metadata": {},
     "output_type": "execute_result"
    },
    {
     "ename": "TypeError",
     "evalue": "tzinfo argument must be None or of a tzinfo subclass, not type 'UnitData'",
     "output_type": "error",
     "traceback": [
      "\u001b[1;31m---------------------------------------------------------------------------\u001b[0m",
      "\u001b[1;31mTypeError\u001b[0m                                 Traceback (most recent call last)",
      "File \u001b[1;32mD:\\Download\\Anaconda\\lib\\site-packages\\matplotlib_inline\\backend_inline.py:43\u001b[0m, in \u001b[0;36mshow\u001b[1;34m(close, block)\u001b[0m\n\u001b[0;32m     39\u001b[0m \u001b[38;5;28;01mtry\u001b[39;00m:\n\u001b[0;32m     40\u001b[0m     \u001b[38;5;28;01mfor\u001b[39;00m figure_manager \u001b[38;5;129;01min\u001b[39;00m Gcf\u001b[38;5;241m.\u001b[39mget_all_fig_managers():\n\u001b[0;32m     41\u001b[0m         display(\n\u001b[0;32m     42\u001b[0m             figure_manager\u001b[38;5;241m.\u001b[39mcanvas\u001b[38;5;241m.\u001b[39mfigure,\n\u001b[1;32m---> 43\u001b[0m             metadata\u001b[38;5;241m=\u001b[39m\u001b[43m_fetch_figure_metadata\u001b[49m\u001b[43m(\u001b[49m\u001b[43mfigure_manager\u001b[49m\u001b[38;5;241;43m.\u001b[39;49m\u001b[43mcanvas\u001b[49m\u001b[38;5;241;43m.\u001b[39;49m\u001b[43mfigure\u001b[49m\u001b[43m)\u001b[49m\n\u001b[0;32m     44\u001b[0m         )\n\u001b[0;32m     45\u001b[0m \u001b[38;5;28;01mfinally\u001b[39;00m:\n\u001b[0;32m     46\u001b[0m     show\u001b[38;5;241m.\u001b[39m_to_draw \u001b[38;5;241m=\u001b[39m []\n",
      "File \u001b[1;32mD:\\Download\\Anaconda\\lib\\site-packages\\matplotlib_inline\\backend_inline.py:231\u001b[0m, in \u001b[0;36m_fetch_figure_metadata\u001b[1;34m(fig)\u001b[0m\n\u001b[0;32m    228\u001b[0m \u001b[38;5;66;03m# determine if a background is needed for legibility\u001b[39;00m\n\u001b[0;32m    229\u001b[0m \u001b[38;5;28;01mif\u001b[39;00m _is_transparent(fig\u001b[38;5;241m.\u001b[39mget_facecolor()):\n\u001b[0;32m    230\u001b[0m     \u001b[38;5;66;03m# the background is transparent\u001b[39;00m\n\u001b[1;32m--> 231\u001b[0m     ticksLight \u001b[38;5;241m=\u001b[39m _is_light([label\u001b[38;5;241m.\u001b[39mget_color()\n\u001b[0;32m    232\u001b[0m                             \u001b[38;5;28;01mfor\u001b[39;00m axes \u001b[38;5;129;01min\u001b[39;00m fig\u001b[38;5;241m.\u001b[39maxes\n\u001b[0;32m    233\u001b[0m                             \u001b[38;5;28;01mfor\u001b[39;00m axis \u001b[38;5;129;01min\u001b[39;00m (axes\u001b[38;5;241m.\u001b[39mxaxis, axes\u001b[38;5;241m.\u001b[39myaxis)\n\u001b[0;32m    234\u001b[0m                             \u001b[38;5;28;01mfor\u001b[39;00m label \u001b[38;5;129;01min\u001b[39;00m axis\u001b[38;5;241m.\u001b[39mget_ticklabels()])\n\u001b[0;32m    235\u001b[0m     \u001b[38;5;28;01mif\u001b[39;00m ticksLight\u001b[38;5;241m.\u001b[39msize \u001b[38;5;129;01mand\u001b[39;00m (ticksLight \u001b[38;5;241m==\u001b[39m ticksLight[\u001b[38;5;241m0\u001b[39m])\u001b[38;5;241m.\u001b[39mall():\n\u001b[0;32m    236\u001b[0m         \u001b[38;5;66;03m# there are one or more tick labels, all with the same lightness\u001b[39;00m\n\u001b[0;32m    237\u001b[0m         \u001b[38;5;28;01mreturn\u001b[39;00m {\u001b[38;5;124m'\u001b[39m\u001b[38;5;124mneeds_background\u001b[39m\u001b[38;5;124m'\u001b[39m: \u001b[38;5;124m'\u001b[39m\u001b[38;5;124mdark\u001b[39m\u001b[38;5;124m'\u001b[39m \u001b[38;5;28;01mif\u001b[39;00m ticksLight[\u001b[38;5;241m0\u001b[39m] \u001b[38;5;28;01melse\u001b[39;00m \u001b[38;5;124m'\u001b[39m\u001b[38;5;124mlight\u001b[39m\u001b[38;5;124m'\u001b[39m}\n",
      "File \u001b[1;32mD:\\Download\\Anaconda\\lib\\site-packages\\matplotlib_inline\\backend_inline.py:234\u001b[0m, in \u001b[0;36m<listcomp>\u001b[1;34m(.0)\u001b[0m\n\u001b[0;32m    228\u001b[0m \u001b[38;5;66;03m# determine if a background is needed for legibility\u001b[39;00m\n\u001b[0;32m    229\u001b[0m \u001b[38;5;28;01mif\u001b[39;00m _is_transparent(fig\u001b[38;5;241m.\u001b[39mget_facecolor()):\n\u001b[0;32m    230\u001b[0m     \u001b[38;5;66;03m# the background is transparent\u001b[39;00m\n\u001b[0;32m    231\u001b[0m     ticksLight \u001b[38;5;241m=\u001b[39m _is_light([label\u001b[38;5;241m.\u001b[39mget_color()\n\u001b[0;32m    232\u001b[0m                             \u001b[38;5;28;01mfor\u001b[39;00m axes \u001b[38;5;129;01min\u001b[39;00m fig\u001b[38;5;241m.\u001b[39maxes\n\u001b[0;32m    233\u001b[0m                             \u001b[38;5;28;01mfor\u001b[39;00m axis \u001b[38;5;129;01min\u001b[39;00m (axes\u001b[38;5;241m.\u001b[39mxaxis, axes\u001b[38;5;241m.\u001b[39myaxis)\n\u001b[1;32m--> 234\u001b[0m                             \u001b[38;5;28;01mfor\u001b[39;00m label \u001b[38;5;129;01min\u001b[39;00m \u001b[43maxis\u001b[49m\u001b[38;5;241;43m.\u001b[39;49m\u001b[43mget_ticklabels\u001b[49m\u001b[43m(\u001b[49m\u001b[43m)\u001b[49m])\n\u001b[0;32m    235\u001b[0m     \u001b[38;5;28;01mif\u001b[39;00m ticksLight\u001b[38;5;241m.\u001b[39msize \u001b[38;5;129;01mand\u001b[39;00m (ticksLight \u001b[38;5;241m==\u001b[39m ticksLight[\u001b[38;5;241m0\u001b[39m])\u001b[38;5;241m.\u001b[39mall():\n\u001b[0;32m    236\u001b[0m         \u001b[38;5;66;03m# there are one or more tick labels, all with the same lightness\u001b[39;00m\n\u001b[0;32m    237\u001b[0m         \u001b[38;5;28;01mreturn\u001b[39;00m {\u001b[38;5;124m'\u001b[39m\u001b[38;5;124mneeds_background\u001b[39m\u001b[38;5;124m'\u001b[39m: \u001b[38;5;124m'\u001b[39m\u001b[38;5;124mdark\u001b[39m\u001b[38;5;124m'\u001b[39m \u001b[38;5;28;01mif\u001b[39;00m ticksLight[\u001b[38;5;241m0\u001b[39m] \u001b[38;5;28;01melse\u001b[39;00m \u001b[38;5;124m'\u001b[39m\u001b[38;5;124mlight\u001b[39m\u001b[38;5;124m'\u001b[39m}\n",
      "File \u001b[1;32mD:\\Download\\Anaconda\\lib\\site-packages\\matplotlib\\axis.py:1249\u001b[0m, in \u001b[0;36mAxis.get_ticklabels\u001b[1;34m(self, minor, which)\u001b[0m\n\u001b[0;32m   1247\u001b[0m \u001b[38;5;28;01mif\u001b[39;00m minor:\n\u001b[0;32m   1248\u001b[0m     \u001b[38;5;28;01mreturn\u001b[39;00m \u001b[38;5;28mself\u001b[39m\u001b[38;5;241m.\u001b[39mget_minorticklabels()\n\u001b[1;32m-> 1249\u001b[0m \u001b[38;5;28;01mreturn\u001b[39;00m \u001b[38;5;28;43mself\u001b[39;49m\u001b[38;5;241;43m.\u001b[39;49m\u001b[43mget_majorticklabels\u001b[49m\u001b[43m(\u001b[49m\u001b[43m)\u001b[49m\n",
      "File \u001b[1;32mD:\\Download\\Anaconda\\lib\\site-packages\\matplotlib\\axis.py:1201\u001b[0m, in \u001b[0;36mAxis.get_majorticklabels\u001b[1;34m(self)\u001b[0m\n\u001b[0;32m   1199\u001b[0m \u001b[38;5;28;01mdef\u001b[39;00m \u001b[38;5;21mget_majorticklabels\u001b[39m(\u001b[38;5;28mself\u001b[39m):\n\u001b[0;32m   1200\u001b[0m     \u001b[38;5;124;03m\"\"\"Return this Axis' major tick labels, as a list of `~.text.Text`.\"\"\"\u001b[39;00m\n\u001b[1;32m-> 1201\u001b[0m     ticks \u001b[38;5;241m=\u001b[39m \u001b[38;5;28;43mself\u001b[39;49m\u001b[38;5;241;43m.\u001b[39;49m\u001b[43mget_major_ticks\u001b[49m\u001b[43m(\u001b[49m\u001b[43m)\u001b[49m\n\u001b[0;32m   1202\u001b[0m     labels1 \u001b[38;5;241m=\u001b[39m [tick\u001b[38;5;241m.\u001b[39mlabel1 \u001b[38;5;28;01mfor\u001b[39;00m tick \u001b[38;5;129;01min\u001b[39;00m ticks \u001b[38;5;28;01mif\u001b[39;00m tick\u001b[38;5;241m.\u001b[39mlabel1\u001b[38;5;241m.\u001b[39mget_visible()]\n\u001b[0;32m   1203\u001b[0m     labels2 \u001b[38;5;241m=\u001b[39m [tick\u001b[38;5;241m.\u001b[39mlabel2 \u001b[38;5;28;01mfor\u001b[39;00m tick \u001b[38;5;129;01min\u001b[39;00m ticks \u001b[38;5;28;01mif\u001b[39;00m tick\u001b[38;5;241m.\u001b[39mlabel2\u001b[38;5;241m.\u001b[39mget_visible()]\n",
      "File \u001b[1;32mD:\\Download\\Anaconda\\lib\\site-packages\\matplotlib\\axis.py:1371\u001b[0m, in \u001b[0;36mAxis.get_major_ticks\u001b[1;34m(self, numticks)\u001b[0m\n\u001b[0;32m   1369\u001b[0m \u001b[38;5;124mr\u001b[39m\u001b[38;5;124;03m\"\"\"Return the list of major `.Tick`\\s.\"\"\"\u001b[39;00m\n\u001b[0;32m   1370\u001b[0m \u001b[38;5;28;01mif\u001b[39;00m numticks \u001b[38;5;129;01mis\u001b[39;00m \u001b[38;5;28;01mNone\u001b[39;00m:\n\u001b[1;32m-> 1371\u001b[0m     numticks \u001b[38;5;241m=\u001b[39m \u001b[38;5;28mlen\u001b[39m(\u001b[38;5;28;43mself\u001b[39;49m\u001b[38;5;241;43m.\u001b[39;49m\u001b[43mget_majorticklocs\u001b[49m\u001b[43m(\u001b[49m\u001b[43m)\u001b[49m)\n\u001b[0;32m   1373\u001b[0m \u001b[38;5;28;01mwhile\u001b[39;00m \u001b[38;5;28mlen\u001b[39m(\u001b[38;5;28mself\u001b[39m\u001b[38;5;241m.\u001b[39mmajorTicks) \u001b[38;5;241m<\u001b[39m numticks:\n\u001b[0;32m   1374\u001b[0m     \u001b[38;5;66;03m# Update the new tick label properties from the old.\u001b[39;00m\n\u001b[0;32m   1375\u001b[0m     tick \u001b[38;5;241m=\u001b[39m \u001b[38;5;28mself\u001b[39m\u001b[38;5;241m.\u001b[39m_get_tick(major\u001b[38;5;241m=\u001b[39m\u001b[38;5;28;01mTrue\u001b[39;00m)\n",
      "File \u001b[1;32mD:\\Download\\Anaconda\\lib\\site-packages\\matplotlib\\axis.py:1277\u001b[0m, in \u001b[0;36mAxis.get_majorticklocs\u001b[1;34m(self)\u001b[0m\n\u001b[0;32m   1275\u001b[0m \u001b[38;5;28;01mdef\u001b[39;00m \u001b[38;5;21mget_majorticklocs\u001b[39m(\u001b[38;5;28mself\u001b[39m):\n\u001b[0;32m   1276\u001b[0m     \u001b[38;5;124;03m\"\"\"Return this Axis' major tick locations in data coordinates.\"\"\"\u001b[39;00m\n\u001b[1;32m-> 1277\u001b[0m     \u001b[38;5;28;01mreturn\u001b[39;00m \u001b[38;5;28;43mself\u001b[39;49m\u001b[38;5;241;43m.\u001b[39;49m\u001b[43mmajor\u001b[49m\u001b[38;5;241;43m.\u001b[39;49m\u001b[43mlocator\u001b[49m\u001b[43m(\u001b[49m\u001b[43m)\u001b[49m\n",
      "File \u001b[1;32mD:\\Download\\Anaconda\\lib\\site-packages\\matplotlib\\dates.py:1340\u001b[0m, in \u001b[0;36mAutoDateLocator.__call__\u001b[1;34m(self)\u001b[0m\n\u001b[0;32m   1338\u001b[0m \u001b[38;5;28;01mdef\u001b[39;00m \u001b[38;5;21m__call__\u001b[39m(\u001b[38;5;28mself\u001b[39m):\n\u001b[0;32m   1339\u001b[0m     \u001b[38;5;66;03m# docstring inherited\u001b[39;00m\n\u001b[1;32m-> 1340\u001b[0m     dmin, dmax \u001b[38;5;241m=\u001b[39m \u001b[38;5;28;43mself\u001b[39;49m\u001b[38;5;241;43m.\u001b[39;49m\u001b[43mviewlim_to_dt\u001b[49m\u001b[43m(\u001b[49m\u001b[43m)\u001b[49m\n\u001b[0;32m   1341\u001b[0m     locator \u001b[38;5;241m=\u001b[39m \u001b[38;5;28mself\u001b[39m\u001b[38;5;241m.\u001b[39mget_locator(dmin, dmax)\n\u001b[0;32m   1342\u001b[0m     \u001b[38;5;28;01mreturn\u001b[39;00m locator()\n",
      "File \u001b[1;32mD:\\Download\\Anaconda\\lib\\site-packages\\matplotlib\\dates.py:1125\u001b[0m, in \u001b[0;36mDateLocator.viewlim_to_dt\u001b[1;34m(self)\u001b[0m\n\u001b[0;32m   1123\u001b[0m \u001b[38;5;28;01mif\u001b[39;00m vmin \u001b[38;5;241m>\u001b[39m vmax:\n\u001b[0;32m   1124\u001b[0m     vmin, vmax \u001b[38;5;241m=\u001b[39m vmax, vmin\n\u001b[1;32m-> 1125\u001b[0m \u001b[38;5;28;01mreturn\u001b[39;00m \u001b[43mnum2date\u001b[49m\u001b[43m(\u001b[49m\u001b[43mvmin\u001b[49m\u001b[43m,\u001b[49m\u001b[43m \u001b[49m\u001b[38;5;28;43mself\u001b[39;49m\u001b[38;5;241;43m.\u001b[39;49m\u001b[43mtz\u001b[49m\u001b[43m)\u001b[49m, num2date(vmax, \u001b[38;5;28mself\u001b[39m\u001b[38;5;241m.\u001b[39mtz)\n",
      "File \u001b[1;32mD:\\Download\\Anaconda\\lib\\site-packages\\matplotlib\\dates.py:528\u001b[0m, in \u001b[0;36mnum2date\u001b[1;34m(x, tz)\u001b[0m\n\u001b[0;32m    526\u001b[0m \u001b[38;5;28;01mif\u001b[39;00m tz \u001b[38;5;129;01mis\u001b[39;00m \u001b[38;5;28;01mNone\u001b[39;00m:\n\u001b[0;32m    527\u001b[0m     tz \u001b[38;5;241m=\u001b[39m _get_rc_timezone()\n\u001b[1;32m--> 528\u001b[0m \u001b[38;5;28;01mreturn\u001b[39;00m \u001b[43m_from_ordinalf_np_vectorized\u001b[49m\u001b[43m(\u001b[49m\u001b[43mx\u001b[49m\u001b[43m,\u001b[49m\u001b[43m \u001b[49m\u001b[43mtz\u001b[49m\u001b[43m)\u001b[49m\u001b[38;5;241m.\u001b[39mtolist()\n",
      "File \u001b[1;32mD:\\Download\\Anaconda\\lib\\site-packages\\numpy\\lib\\function_base.py:2163\u001b[0m, in \u001b[0;36mvectorize.__call__\u001b[1;34m(self, *args, **kwargs)\u001b[0m\n\u001b[0;32m   2160\u001b[0m     vargs \u001b[38;5;241m=\u001b[39m [args[_i] \u001b[38;5;28;01mfor\u001b[39;00m _i \u001b[38;5;129;01min\u001b[39;00m inds]\n\u001b[0;32m   2161\u001b[0m     vargs\u001b[38;5;241m.\u001b[39mextend([kwargs[_n] \u001b[38;5;28;01mfor\u001b[39;00m _n \u001b[38;5;129;01min\u001b[39;00m names])\n\u001b[1;32m-> 2163\u001b[0m \u001b[38;5;28;01mreturn\u001b[39;00m \u001b[38;5;28;43mself\u001b[39;49m\u001b[38;5;241;43m.\u001b[39;49m\u001b[43m_vectorize_call\u001b[49m\u001b[43m(\u001b[49m\u001b[43mfunc\u001b[49m\u001b[38;5;241;43m=\u001b[39;49m\u001b[43mfunc\u001b[49m\u001b[43m,\u001b[49m\u001b[43m \u001b[49m\u001b[43margs\u001b[49m\u001b[38;5;241;43m=\u001b[39;49m\u001b[43mvargs\u001b[49m\u001b[43m)\u001b[49m\n",
      "File \u001b[1;32mD:\\Download\\Anaconda\\lib\\site-packages\\numpy\\lib\\function_base.py:2246\u001b[0m, in \u001b[0;36mvectorize._vectorize_call\u001b[1;34m(self, func, args)\u001b[0m\n\u001b[0;32m   2243\u001b[0m \u001b[38;5;66;03m# Convert args to object arrays first\u001b[39;00m\n\u001b[0;32m   2244\u001b[0m inputs \u001b[38;5;241m=\u001b[39m [asanyarray(a, dtype\u001b[38;5;241m=\u001b[39m\u001b[38;5;28mobject\u001b[39m) \u001b[38;5;28;01mfor\u001b[39;00m a \u001b[38;5;129;01min\u001b[39;00m args]\n\u001b[1;32m-> 2246\u001b[0m outputs \u001b[38;5;241m=\u001b[39m \u001b[43mufunc\u001b[49m\u001b[43m(\u001b[49m\u001b[38;5;241;43m*\u001b[39;49m\u001b[43minputs\u001b[49m\u001b[43m)\u001b[49m\n\u001b[0;32m   2248\u001b[0m \u001b[38;5;28;01mif\u001b[39;00m ufunc\u001b[38;5;241m.\u001b[39mnout \u001b[38;5;241m==\u001b[39m \u001b[38;5;241m1\u001b[39m:\n\u001b[0;32m   2249\u001b[0m     res \u001b[38;5;241m=\u001b[39m asanyarray(outputs, dtype\u001b[38;5;241m=\u001b[39motypes[\u001b[38;5;241m0\u001b[39m])\n",
      "File \u001b[1;32mD:\\Download\\Anaconda\\lib\\site-packages\\matplotlib\\dates.py:359\u001b[0m, in \u001b[0;36m_from_ordinalf\u001b[1;34m(x, tz)\u001b[0m\n\u001b[0;32m    357\u001b[0m dt \u001b[38;5;241m=\u001b[39m dt\u001b[38;5;241m.\u001b[39mreplace(tzinfo\u001b[38;5;241m=\u001b[39mdateutil\u001b[38;5;241m.\u001b[39mtz\u001b[38;5;241m.\u001b[39mgettz(\u001b[38;5;124m'\u001b[39m\u001b[38;5;124mUTC\u001b[39m\u001b[38;5;124m'\u001b[39m))\n\u001b[0;32m    358\u001b[0m \u001b[38;5;66;03m# but maybe we are working in a different timezone so move.\u001b[39;00m\n\u001b[1;32m--> 359\u001b[0m dt \u001b[38;5;241m=\u001b[39m \u001b[43mdt\u001b[49m\u001b[38;5;241;43m.\u001b[39;49m\u001b[43mastimezone\u001b[49m\u001b[43m(\u001b[49m\u001b[43mtz\u001b[49m\u001b[43m)\u001b[49m\n\u001b[0;32m    360\u001b[0m \u001b[38;5;66;03m# fix round off errors\u001b[39;00m\n\u001b[0;32m    361\u001b[0m \u001b[38;5;28;01mif\u001b[39;00m np\u001b[38;5;241m.\u001b[39mabs(x) \u001b[38;5;241m>\u001b[39m \u001b[38;5;241m70\u001b[39m \u001b[38;5;241m*\u001b[39m \u001b[38;5;241m365\u001b[39m:\n\u001b[0;32m    362\u001b[0m     \u001b[38;5;66;03m# if x is big, round off to nearest twenty microseconds.\u001b[39;00m\n\u001b[0;32m    363\u001b[0m     \u001b[38;5;66;03m# This avoids floating point roundoff error\u001b[39;00m\n",
      "\u001b[1;31mTypeError\u001b[0m: tzinfo argument must be None or of a tzinfo subclass, not type 'UnitData'"
     ]
    }
   ],
   "source": [
    "plt.plot(train_data,color='yellow',label='train_actuals')\n",
    "plt.plot(results_arima1.fittedvalues,color='red',label='train_forecasted')\n",
    "\n",
    "plt.plot(test_data,color='black', label='test_actuals')\n",
    "plt.plot(forecasted_test_vals,color='orange', label='test_forecasted') \n",
    "\n",
    "plt.legend()"
   ]
  },
  {
   "cell_type": "code",
   "execution_count": 226,
   "id": "a4da6c6f",
   "metadata": {},
   "outputs": [
    {
     "data": {
      "text/plain": [
       "Date\n",
       "2006-1-01     26955\n",
       "2006-2-01     27349\n",
       "2006-3-01     29367\n",
       "2006-4-01     24071\n",
       "2006-5-01     23173\n",
       "2006-6-01     21740\n",
       "2006-7-01     22056\n",
       "2006-8-01     23923\n",
       "2006-9-01     22189\n",
       "2006-10-01    22458\n",
       "2006-11-01    19476\n",
       "2006-12-01    21056\n",
       "Name: Total, dtype: int64"
      ]
     },
     "execution_count": 226,
     "metadata": {},
     "output_type": "execute_result"
    }
   ],
   "source": [
    "test_data['Total']"
   ]
  },
  {
   "cell_type": "code",
   "execution_count": 228,
   "id": "8106d502",
   "metadata": {},
   "outputs": [
    {
     "data": {
      "text/html": [
       "<div>\n",
       "<style scoped>\n",
       "    .dataframe tbody tr th:only-of-type {\n",
       "        vertical-align: middle;\n",
       "    }\n",
       "\n",
       "    .dataframe tbody tr th {\n",
       "        vertical-align: top;\n",
       "    }\n",
       "\n",
       "    .dataframe thead th {\n",
       "        text-align: right;\n",
       "    }\n",
       "</style>\n",
       "<table border=\"1\" class=\"dataframe\">\n",
       "  <thead>\n",
       "    <tr style=\"text-align: right;\">\n",
       "      <th></th>\n",
       "      <th>2006-1-01</th>\n",
       "      <th>2006-10-01</th>\n",
       "      <th>2006-11-01</th>\n",
       "      <th>2006-12-01</th>\n",
       "      <th>2006-2-01</th>\n",
       "      <th>2006-3-01</th>\n",
       "      <th>2006-4-01</th>\n",
       "      <th>2006-5-01</th>\n",
       "      <th>2006-6-01</th>\n",
       "      <th>2006-7-01</th>\n",
       "      <th>2006-8-01</th>\n",
       "      <th>2006-9-01</th>\n",
       "      <th>Total</th>\n",
       "    </tr>\n",
       "  </thead>\n",
       "  <tbody>\n",
       "    <tr>\n",
       "      <th>2006-01-01</th>\n",
       "      <td>NaN</td>\n",
       "      <td>NaN</td>\n",
       "      <td>NaN</td>\n",
       "      <td>NaN</td>\n",
       "      <td>NaN</td>\n",
       "      <td>NaN</td>\n",
       "      <td>NaN</td>\n",
       "      <td>NaN</td>\n",
       "      <td>NaN</td>\n",
       "      <td>NaN</td>\n",
       "      <td>NaN</td>\n",
       "      <td>NaN</td>\n",
       "      <td>NaN</td>\n",
       "    </tr>\n",
       "    <tr>\n",
       "      <th>2006-02-01</th>\n",
       "      <td>NaN</td>\n",
       "      <td>NaN</td>\n",
       "      <td>NaN</td>\n",
       "      <td>NaN</td>\n",
       "      <td>NaN</td>\n",
       "      <td>NaN</td>\n",
       "      <td>NaN</td>\n",
       "      <td>NaN</td>\n",
       "      <td>NaN</td>\n",
       "      <td>NaN</td>\n",
       "      <td>NaN</td>\n",
       "      <td>NaN</td>\n",
       "      <td>NaN</td>\n",
       "    </tr>\n",
       "    <tr>\n",
       "      <th>2006-03-01</th>\n",
       "      <td>NaN</td>\n",
       "      <td>NaN</td>\n",
       "      <td>NaN</td>\n",
       "      <td>NaN</td>\n",
       "      <td>NaN</td>\n",
       "      <td>NaN</td>\n",
       "      <td>NaN</td>\n",
       "      <td>NaN</td>\n",
       "      <td>NaN</td>\n",
       "      <td>NaN</td>\n",
       "      <td>NaN</td>\n",
       "      <td>NaN</td>\n",
       "      <td>NaN</td>\n",
       "    </tr>\n",
       "    <tr>\n",
       "      <th>2006-04-01</th>\n",
       "      <td>NaN</td>\n",
       "      <td>NaN</td>\n",
       "      <td>NaN</td>\n",
       "      <td>NaN</td>\n",
       "      <td>NaN</td>\n",
       "      <td>NaN</td>\n",
       "      <td>NaN</td>\n",
       "      <td>NaN</td>\n",
       "      <td>NaN</td>\n",
       "      <td>NaN</td>\n",
       "      <td>NaN</td>\n",
       "      <td>NaN</td>\n",
       "      <td>NaN</td>\n",
       "    </tr>\n",
       "    <tr>\n",
       "      <th>2006-05-01</th>\n",
       "      <td>NaN</td>\n",
       "      <td>NaN</td>\n",
       "      <td>NaN</td>\n",
       "      <td>NaN</td>\n",
       "      <td>NaN</td>\n",
       "      <td>NaN</td>\n",
       "      <td>NaN</td>\n",
       "      <td>NaN</td>\n",
       "      <td>NaN</td>\n",
       "      <td>NaN</td>\n",
       "      <td>NaN</td>\n",
       "      <td>NaN</td>\n",
       "      <td>NaN</td>\n",
       "    </tr>\n",
       "    <tr>\n",
       "      <th>2006-06-01</th>\n",
       "      <td>NaN</td>\n",
       "      <td>NaN</td>\n",
       "      <td>NaN</td>\n",
       "      <td>NaN</td>\n",
       "      <td>NaN</td>\n",
       "      <td>NaN</td>\n",
       "      <td>NaN</td>\n",
       "      <td>NaN</td>\n",
       "      <td>NaN</td>\n",
       "      <td>NaN</td>\n",
       "      <td>NaN</td>\n",
       "      <td>NaN</td>\n",
       "      <td>NaN</td>\n",
       "    </tr>\n",
       "    <tr>\n",
       "      <th>2006-07-01</th>\n",
       "      <td>NaN</td>\n",
       "      <td>NaN</td>\n",
       "      <td>NaN</td>\n",
       "      <td>NaN</td>\n",
       "      <td>NaN</td>\n",
       "      <td>NaN</td>\n",
       "      <td>NaN</td>\n",
       "      <td>NaN</td>\n",
       "      <td>NaN</td>\n",
       "      <td>NaN</td>\n",
       "      <td>NaN</td>\n",
       "      <td>NaN</td>\n",
       "      <td>NaN</td>\n",
       "    </tr>\n",
       "    <tr>\n",
       "      <th>2006-08-01</th>\n",
       "      <td>NaN</td>\n",
       "      <td>NaN</td>\n",
       "      <td>NaN</td>\n",
       "      <td>NaN</td>\n",
       "      <td>NaN</td>\n",
       "      <td>NaN</td>\n",
       "      <td>NaN</td>\n",
       "      <td>NaN</td>\n",
       "      <td>NaN</td>\n",
       "      <td>NaN</td>\n",
       "      <td>NaN</td>\n",
       "      <td>NaN</td>\n",
       "      <td>NaN</td>\n",
       "    </tr>\n",
       "    <tr>\n",
       "      <th>2006-09-01</th>\n",
       "      <td>NaN</td>\n",
       "      <td>NaN</td>\n",
       "      <td>NaN</td>\n",
       "      <td>NaN</td>\n",
       "      <td>NaN</td>\n",
       "      <td>NaN</td>\n",
       "      <td>NaN</td>\n",
       "      <td>NaN</td>\n",
       "      <td>NaN</td>\n",
       "      <td>NaN</td>\n",
       "      <td>NaN</td>\n",
       "      <td>NaN</td>\n",
       "      <td>NaN</td>\n",
       "    </tr>\n",
       "    <tr>\n",
       "      <th>2006-10-01</th>\n",
       "      <td>NaN</td>\n",
       "      <td>NaN</td>\n",
       "      <td>NaN</td>\n",
       "      <td>NaN</td>\n",
       "      <td>NaN</td>\n",
       "      <td>NaN</td>\n",
       "      <td>NaN</td>\n",
       "      <td>NaN</td>\n",
       "      <td>NaN</td>\n",
       "      <td>NaN</td>\n",
       "      <td>NaN</td>\n",
       "      <td>NaN</td>\n",
       "      <td>NaN</td>\n",
       "    </tr>\n",
       "    <tr>\n",
       "      <th>2006-11-01</th>\n",
       "      <td>NaN</td>\n",
       "      <td>NaN</td>\n",
       "      <td>NaN</td>\n",
       "      <td>NaN</td>\n",
       "      <td>NaN</td>\n",
       "      <td>NaN</td>\n",
       "      <td>NaN</td>\n",
       "      <td>NaN</td>\n",
       "      <td>NaN</td>\n",
       "      <td>NaN</td>\n",
       "      <td>NaN</td>\n",
       "      <td>NaN</td>\n",
       "      <td>NaN</td>\n",
       "    </tr>\n",
       "    <tr>\n",
       "      <th>2006-12-01</th>\n",
       "      <td>NaN</td>\n",
       "      <td>NaN</td>\n",
       "      <td>NaN</td>\n",
       "      <td>NaN</td>\n",
       "      <td>NaN</td>\n",
       "      <td>NaN</td>\n",
       "      <td>NaN</td>\n",
       "      <td>NaN</td>\n",
       "      <td>NaN</td>\n",
       "      <td>NaN</td>\n",
       "      <td>NaN</td>\n",
       "      <td>NaN</td>\n",
       "      <td>NaN</td>\n",
       "    </tr>\n",
       "  </tbody>\n",
       "</table>\n",
       "</div>"
      ],
      "text/plain": [
       "            2006-1-01  2006-10-01  2006-11-01  2006-12-01  2006-2-01  \\\n",
       "2006-01-01        NaN         NaN         NaN         NaN        NaN   \n",
       "2006-02-01        NaN         NaN         NaN         NaN        NaN   \n",
       "2006-03-01        NaN         NaN         NaN         NaN        NaN   \n",
       "2006-04-01        NaN         NaN         NaN         NaN        NaN   \n",
       "2006-05-01        NaN         NaN         NaN         NaN        NaN   \n",
       "2006-06-01        NaN         NaN         NaN         NaN        NaN   \n",
       "2006-07-01        NaN         NaN         NaN         NaN        NaN   \n",
       "2006-08-01        NaN         NaN         NaN         NaN        NaN   \n",
       "2006-09-01        NaN         NaN         NaN         NaN        NaN   \n",
       "2006-10-01        NaN         NaN         NaN         NaN        NaN   \n",
       "2006-11-01        NaN         NaN         NaN         NaN        NaN   \n",
       "2006-12-01        NaN         NaN         NaN         NaN        NaN   \n",
       "\n",
       "            2006-3-01  2006-4-01  2006-5-01  2006-6-01  2006-7-01  2006-8-01  \\\n",
       "2006-01-01        NaN        NaN        NaN        NaN        NaN        NaN   \n",
       "2006-02-01        NaN        NaN        NaN        NaN        NaN        NaN   \n",
       "2006-03-01        NaN        NaN        NaN        NaN        NaN        NaN   \n",
       "2006-04-01        NaN        NaN        NaN        NaN        NaN        NaN   \n",
       "2006-05-01        NaN        NaN        NaN        NaN        NaN        NaN   \n",
       "2006-06-01        NaN        NaN        NaN        NaN        NaN        NaN   \n",
       "2006-07-01        NaN        NaN        NaN        NaN        NaN        NaN   \n",
       "2006-08-01        NaN        NaN        NaN        NaN        NaN        NaN   \n",
       "2006-09-01        NaN        NaN        NaN        NaN        NaN        NaN   \n",
       "2006-10-01        NaN        NaN        NaN        NaN        NaN        NaN   \n",
       "2006-11-01        NaN        NaN        NaN        NaN        NaN        NaN   \n",
       "2006-12-01        NaN        NaN        NaN        NaN        NaN        NaN   \n",
       "\n",
       "            2006-9-01  Total  \n",
       "2006-01-01        NaN    NaN  \n",
       "2006-02-01        NaN    NaN  \n",
       "2006-03-01        NaN    NaN  \n",
       "2006-04-01        NaN    NaN  \n",
       "2006-05-01        NaN    NaN  \n",
       "2006-06-01        NaN    NaN  \n",
       "2006-07-01        NaN    NaN  \n",
       "2006-08-01        NaN    NaN  \n",
       "2006-09-01        NaN    NaN  \n",
       "2006-10-01        NaN    NaN  \n",
       "2006-11-01        NaN    NaN  \n",
       "2006-12-01        NaN    NaN  "
      ]
     },
     "execution_count": 228,
     "metadata": {},
     "output_type": "execute_result"
    }
   ],
   "source": [
    "residuals = test_data['Total']-forecasted_test_vals\n",
    "residuals"
   ]
  },
  {
   "cell_type": "code",
   "execution_count": null,
   "id": "689e5b64",
   "metadata": {},
   "outputs": [],
   "source": []
  },
  {
   "cell_type": "code",
   "execution_count": null,
   "id": "1790879e",
   "metadata": {},
   "outputs": [],
   "source": []
  },
  {
   "cell_type": "code",
   "execution_count": null,
   "id": "fc336dd2",
   "metadata": {},
   "outputs": [],
   "source": []
  },
  {
   "cell_type": "code",
   "execution_count": null,
   "id": "6719412a",
   "metadata": {},
   "outputs": [],
   "source": []
  }
 ],
 "metadata": {
  "kernelspec": {
   "display_name": "Python 3 (ipykernel)",
   "language": "python",
   "name": "python3"
  },
  "language_info": {
   "codemirror_mode": {
    "name": "ipython",
    "version": 3
   },
   "file_extension": ".py",
   "mimetype": "text/x-python",
   "name": "python",
   "nbconvert_exporter": "python",
   "pygments_lexer": "ipython3",
   "version": "3.9.12"
  }
 },
 "nbformat": 4,
 "nbformat_minor": 5
}
