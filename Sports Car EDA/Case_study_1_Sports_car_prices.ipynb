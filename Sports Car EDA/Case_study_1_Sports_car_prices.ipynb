{
 "cells": [
  {
   "cell_type": "code",
   "execution_count": 26,
   "metadata": {
    "id": "Wk7iFPnCvO82"
   },
   "outputs": [],
   "source": [
    "import pandas as pd\n",
    "import numpy as np\n",
    "import matplotlib.pyplot as plt\n",
    "import seaborn as sns"
   ]
  },
  {
   "cell_type": "code",
   "execution_count": 27,
   "metadata": {
    "id": "N9GIV24s425V"
   },
   "outputs": [],
   "source": [
    "df=pd.read_csv(\"Sport car price.csv\")"
   ]
  },
  {
   "cell_type": "code",
   "execution_count": 28,
   "metadata": {
    "colab": {
     "base_uri": "https://localhost:8080/",
     "height": 206
    },
    "id": "s5W-dvHH6hoW",
    "outputId": "ab4652b1-b5e8-49b2-ede5-5b8639df2383"
   },
   "outputs": [
    {
     "data": {
      "text/html": [
       "<div>\n",
       "<style scoped>\n",
       "    .dataframe tbody tr th:only-of-type {\n",
       "        vertical-align: middle;\n",
       "    }\n",
       "\n",
       "    .dataframe tbody tr th {\n",
       "        vertical-align: top;\n",
       "    }\n",
       "\n",
       "    .dataframe thead th {\n",
       "        text-align: right;\n",
       "    }\n",
       "</style>\n",
       "<table border=\"1\" class=\"dataframe\">\n",
       "  <thead>\n",
       "    <tr style=\"text-align: right;\">\n",
       "      <th></th>\n",
       "      <th>Car Make</th>\n",
       "      <th>Car Model</th>\n",
       "      <th>Year</th>\n",
       "      <th>Engine Size (L)</th>\n",
       "      <th>Horsepower</th>\n",
       "      <th>Torque (lb-ft)</th>\n",
       "      <th>0-60 MPH Time (seconds)</th>\n",
       "      <th>Price (in USD)</th>\n",
       "    </tr>\n",
       "  </thead>\n",
       "  <tbody>\n",
       "    <tr>\n",
       "      <th>0</th>\n",
       "      <td>Porsche</td>\n",
       "      <td>911</td>\n",
       "      <td>2022</td>\n",
       "      <td>3</td>\n",
       "      <td>379</td>\n",
       "      <td>331</td>\n",
       "      <td>4</td>\n",
       "      <td>101,200</td>\n",
       "    </tr>\n",
       "    <tr>\n",
       "      <th>1</th>\n",
       "      <td>Lamborghini</td>\n",
       "      <td>Huracan</td>\n",
       "      <td>2021</td>\n",
       "      <td>5.2</td>\n",
       "      <td>630</td>\n",
       "      <td>443</td>\n",
       "      <td>2.8</td>\n",
       "      <td>274,390</td>\n",
       "    </tr>\n",
       "    <tr>\n",
       "      <th>2</th>\n",
       "      <td>Ferrari</td>\n",
       "      <td>488 GTB</td>\n",
       "      <td>2022</td>\n",
       "      <td>3.9</td>\n",
       "      <td>661</td>\n",
       "      <td>561</td>\n",
       "      <td>3</td>\n",
       "      <td>333,750</td>\n",
       "    </tr>\n",
       "    <tr>\n",
       "      <th>3</th>\n",
       "      <td>Audi</td>\n",
       "      <td>R8</td>\n",
       "      <td>2022</td>\n",
       "      <td>5.2</td>\n",
       "      <td>562</td>\n",
       "      <td>406</td>\n",
       "      <td>3.2</td>\n",
       "      <td>142,700</td>\n",
       "    </tr>\n",
       "    <tr>\n",
       "      <th>4</th>\n",
       "      <td>McLaren</td>\n",
       "      <td>720S</td>\n",
       "      <td>2021</td>\n",
       "      <td>4</td>\n",
       "      <td>710</td>\n",
       "      <td>568</td>\n",
       "      <td>2.7</td>\n",
       "      <td>298,000</td>\n",
       "    </tr>\n",
       "  </tbody>\n",
       "</table>\n",
       "</div>"
      ],
      "text/plain": [
       "      Car Make Car Model  Year Engine Size (L) Horsepower Torque (lb-ft)  \\\n",
       "0      Porsche       911  2022               3        379            331   \n",
       "1  Lamborghini   Huracan  2021             5.2        630            443   \n",
       "2      Ferrari   488 GTB  2022             3.9        661            561   \n",
       "3         Audi        R8  2022             5.2        562            406   \n",
       "4      McLaren      720S  2021               4        710            568   \n",
       "\n",
       "  0-60 MPH Time (seconds) Price (in USD)  \n",
       "0                       4        101,200  \n",
       "1                     2.8        274,390  \n",
       "2                       3        333,750  \n",
       "3                     3.2        142,700  \n",
       "4                     2.7        298,000  "
      ]
     },
     "execution_count": 28,
     "metadata": {},
     "output_type": "execute_result"
    }
   ],
   "source": [
    "df.head()"
   ]
  },
  {
   "cell_type": "code",
   "execution_count": 29,
   "metadata": {
    "colab": {
     "base_uri": "https://localhost:8080/"
    },
    "id": "zE3R971O6lKA",
    "outputId": "7752a1d2-b00d-4e33-cad2-9e7c2101b048"
   },
   "outputs": [
    {
     "data": {
      "text/plain": [
       "(1007, 8)"
      ]
     },
     "execution_count": 29,
     "metadata": {},
     "output_type": "execute_result"
    }
   ],
   "source": [
    "df.shape"
   ]
  },
  {
   "cell_type": "code",
   "execution_count": 30,
   "metadata": {},
   "outputs": [
    {
     "data": {
      "text/html": [
       "<div>\n",
       "<style scoped>\n",
       "    .dataframe tbody tr th:only-of-type {\n",
       "        vertical-align: middle;\n",
       "    }\n",
       "\n",
       "    .dataframe tbody tr th {\n",
       "        vertical-align: top;\n",
       "    }\n",
       "\n",
       "    .dataframe thead th {\n",
       "        text-align: right;\n",
       "    }\n",
       "</style>\n",
       "<table border=\"1\" class=\"dataframe\">\n",
       "  <thead>\n",
       "    <tr style=\"text-align: right;\">\n",
       "      <th></th>\n",
       "      <th>Car Make</th>\n",
       "      <th>Car Model</th>\n",
       "      <th>Year</th>\n",
       "      <th>Engine Size (L)</th>\n",
       "      <th>Horsepower</th>\n",
       "      <th>Torque (lb-ft)</th>\n",
       "      <th>0-60 MPH Time (seconds)</th>\n",
       "      <th>Price (in USD)</th>\n",
       "    </tr>\n",
       "  </thead>\n",
       "  <tbody>\n",
       "    <tr>\n",
       "      <th>364</th>\n",
       "      <td>Tesla</td>\n",
       "      <td>Roadster</td>\n",
       "      <td>2023</td>\n",
       "      <td>Electric</td>\n",
       "      <td>1,000+</td>\n",
       "      <td>737</td>\n",
       "      <td>&lt; 1.9</td>\n",
       "      <td>200,000</td>\n",
       "    </tr>\n",
       "    <tr>\n",
       "      <th>885</th>\n",
       "      <td>Tesla</td>\n",
       "      <td>Roadster</td>\n",
       "      <td>2022</td>\n",
       "      <td>0</td>\n",
       "      <td>10,000</td>\n",
       "      <td>7,376</td>\n",
       "      <td>1.9</td>\n",
       "      <td>200,000</td>\n",
       "    </tr>\n",
       "    <tr>\n",
       "      <th>898</th>\n",
       "      <td>Bugatti</td>\n",
       "      <td>Chiron</td>\n",
       "      <td>2021</td>\n",
       "      <td>8</td>\n",
       "      <td>1,500</td>\n",
       "      <td>1,180</td>\n",
       "      <td>2.4</td>\n",
       "      <td>3,000,000</td>\n",
       "    </tr>\n",
       "    <tr>\n",
       "      <th>916</th>\n",
       "      <td>Tesla</td>\n",
       "      <td>Roadster</td>\n",
       "      <td>2022</td>\n",
       "      <td>NaN</td>\n",
       "      <td>10,000+</td>\n",
       "      <td>NaN</td>\n",
       "      <td>1.9</td>\n",
       "      <td>200,000</td>\n",
       "    </tr>\n",
       "    <tr>\n",
       "      <th>965</th>\n",
       "      <td>Tesla</td>\n",
       "      <td>Model S Plaid</td>\n",
       "      <td>2022</td>\n",
       "      <td>Electric</td>\n",
       "      <td>1,020</td>\n",
       "      <td>1,050</td>\n",
       "      <td>1.9</td>\n",
       "      <td>141,190</td>\n",
       "    </tr>\n",
       "  </tbody>\n",
       "</table>\n",
       "</div>"
      ],
      "text/plain": [
       "    Car Make      Car Model  Year Engine Size (L) Horsepower Torque (lb-ft)  \\\n",
       "364    Tesla       Roadster  2023        Electric     1,000+            737   \n",
       "885    Tesla       Roadster  2022               0     10,000          7,376   \n",
       "898  Bugatti         Chiron  2021               8      1,500          1,180   \n",
       "916    Tesla       Roadster  2022             NaN    10,000+            NaN   \n",
       "965    Tesla  Model S Plaid  2022        Electric      1,020          1,050   \n",
       "\n",
       "    0-60 MPH Time (seconds) Price (in USD)  \n",
       "364                   < 1.9        200,000  \n",
       "885                     1.9        200,000  \n",
       "898                     2.4      3,000,000  \n",
       "916                     1.9        200,000  \n",
       "965                     1.9        141,190  "
      ]
     },
     "execution_count": 30,
     "metadata": {},
     "output_type": "execute_result"
    }
   ],
   "source": [
    "df[df['Horsepower'].str.contains(',')]"
   ]
  },
  {
   "cell_type": "code",
   "execution_count": 31,
   "metadata": {
    "colab": {
     "base_uri": "https://localhost:8080/"
    },
    "id": "qGKKdN5S8IPa",
    "outputId": "02e8208e-5727-44f3-b145-ba08ce1945f4"
   },
   "outputs": [
    {
     "name": "stdout",
     "output_type": "stream",
     "text": [
      "<class 'pandas.core.frame.DataFrame'>\n",
      "RangeIndex: 1007 entries, 0 to 1006\n",
      "Data columns (total 8 columns):\n",
      " #   Column                   Non-Null Count  Dtype \n",
      "---  ------                   --------------  ----- \n",
      " 0   Car Make                 1007 non-null   object\n",
      " 1   Car Model                1007 non-null   object\n",
      " 2   Year                     1007 non-null   int64 \n",
      " 3   Engine Size (L)          997 non-null    object\n",
      " 4   Horsepower               1007 non-null   object\n",
      " 5   Torque (lb-ft)           1004 non-null   object\n",
      " 6   0-60 MPH Time (seconds)  1007 non-null   object\n",
      " 7   Price (in USD)           1007 non-null   object\n",
      "dtypes: int64(1), object(7)\n",
      "memory usage: 63.1+ KB\n"
     ]
    }
   ],
   "source": [
    "df.info()"
   ]
  },
  {
   "cell_type": "code",
   "execution_count": 32,
   "metadata": {
    "colab": {
     "base_uri": "https://localhost:8080/"
    },
    "id": "Qr5rlZd08P2Q",
    "outputId": "96aa99ed-c47b-4540-8485-82340486bf7f"
   },
   "outputs": [
    {
     "data": {
      "text/plain": [
       "Car Make                    0\n",
       "Car Model                   0\n",
       "Year                        0\n",
       "Engine Size (L)            10\n",
       "Horsepower                  0\n",
       "Torque (lb-ft)              3\n",
       "0-60 MPH Time (seconds)     0\n",
       "Price (in USD)              0\n",
       "dtype: int64"
      ]
     },
     "execution_count": 32,
     "metadata": {},
     "output_type": "execute_result"
    }
   ],
   "source": [
    "df.isnull().sum()"
   ]
  },
  {
   "cell_type": "code",
   "execution_count": 33,
   "metadata": {
    "colab": {
     "base_uri": "https://localhost:8080/"
    },
    "id": "PaFgdSzh8P5e",
    "outputId": "75858ca4-2793-44e6-97f3-3849e28897c9"
   },
   "outputs": [
    {
     "data": {
      "text/plain": [
       "array(['3', '5.2', '3.9', '4', '4.4', '6.2', '3.8', '8', '5', '3.5',\n",
       "       '4.7', '2', '2.9', '6', 'Electric', '6.5', '3.7', 'Electric Motor',\n",
       "       '2.5', '1.5 + Electric', '6.8', '8.4', nan, '6.6', '7', '1.7',\n",
       "       '3.3', '-', '6.7', '1.8', 'Electric (tri-motor)', '5.5',\n",
       "       'Electric (93 kWh)', 'Electric (100 kWh)', 'Hybrid (4.0)', '4.6',\n",
       "       '3.6', '1.5', 'Hybrid', '5.7', '2.0 (Electric)', '4.0 (Hybrid)',\n",
       "       '0', '6.4', '6.3', '2.3'], dtype=object)"
      ]
     },
     "execution_count": 33,
     "metadata": {},
     "output_type": "execute_result"
    }
   ],
   "source": [
    "df[\"Engine Size (L)\"].unique()"
   ]
  },
  {
   "cell_type": "code",
   "execution_count": 34,
   "metadata": {
    "colab": {
     "base_uri": "https://localhost:8080/"
    },
    "id": "h6MJHFyabL77",
    "outputId": "8c7ea58e-517a-40d3-edf3-953c1883d878"
   },
   "outputs": [
    {
     "data": {
      "text/plain": [
       "0                    3\n",
       "1                  5.2\n",
       "2                  3.9\n",
       "3                  5.2\n",
       "4                    4\n",
       "             ...      \n",
       "1002                 5\n",
       "1003    Electric Motor\n",
       "1004                 4\n",
       "1005                 6\n",
       "1006    Electric Motor\n",
       "Name: Engine Size (L), Length: 1007, dtype: object"
      ]
     },
     "execution_count": 34,
     "metadata": {},
     "output_type": "execute_result"
    }
   ],
   "source": [
    "df[\"Engine Size (L)\"]"
   ]
  },
  {
   "cell_type": "code",
   "execution_count": 35,
   "metadata": {
    "colab": {
     "base_uri": "https://localhost:8080/"
    },
    "id": "5rngc3ah8P86",
    "outputId": "f0d17213-686b-468b-8cf9-0df267ceb45c"
   },
   "outputs": [
    {
     "data": {
      "text/plain": [
       "array(['379', '630', '661', '562', '710', '617', '523', '490', '760',\n",
       "       '600', '1500', '717', '296', '1280', '471', '416', '454', '300',\n",
       "       '505', '320', '626', '671', '622', '720', '1914', '414', '759',\n",
       "       '986', '591', '503', '650', '660', '350', '641', '611', '394',\n",
       "       '612', '369', '603', '455', '460', '325', '349', '592', '444',\n",
       "       '405', '797', '770', '332', '473', '480', '573', '380', '1600',\n",
       "       '181', '620', '764', '624', '1000+', '382', '800', '715', '690',\n",
       "       '730', '469', '365', '401', '645', '435', '1020', '500', '780',\n",
       "       '750', '402', '575', '729', '789', '577', '495', '237', '310',\n",
       "       '791', '1874', '542', '368', '616', '1479', '755', '1,000+', '288',\n",
       "       '1888', '10000+', '482', '1973', '1262', '1035', '819', '385',\n",
       "       '647', '1200', '1578', '625', '583', '429', '563', '400', '707',\n",
       "       '887', '1972', '305', '640', '255', '689', '372', '1000', '2000',\n",
       "       '550', '10,000', '1,500', '10,000+', '485', '1,020', '1872', '621'],\n",
       "      dtype=object)"
      ]
     },
     "execution_count": 35,
     "metadata": {},
     "output_type": "execute_result"
    }
   ],
   "source": [
    "df[\"Horsepower\"].unique()"
   ]
  },
  {
   "cell_type": "code",
   "execution_count": 36,
   "metadata": {
    "colab": {
     "base_uri": "https://localhost:8080/"
    },
    "id": "bDGDE_NbcInZ",
    "outputId": "7c9aee8c-cd44-4705-f783-240981102b20"
   },
   "outputs": [
    {
     "name": "stderr",
     "output_type": "stream",
     "text": [
      "C:\\Users\\LPT-3036\\AppData\\Local\\Temp\\ipykernel_8108\\3489465295.py:2: FutureWarning: The default value of regex will change from True to False in a future version. In addition, single character regular expressions will *not* be treated as literal strings when regex=True.\n",
      "  df[\"Horsepower\"]=df[\"Horsepower\"].str.replace(\"+\",\"\")\n"
     ]
    }
   ],
   "source": [
    "df[\"Horsepower\"]=df[\"Horsepower\"].str.replace(\",\",\"\")\n",
    "df[\"Horsepower\"]=df[\"Horsepower\"].str.replace(\"+\",\"\")"
   ]
  },
  {
   "cell_type": "code",
   "execution_count": 37,
   "metadata": {
    "colab": {
     "base_uri": "https://localhost:8080/"
    },
    "id": "RQh68troci70",
    "outputId": "6dc42cb1-a550-4efa-abad-ff5552fb63f5"
   },
   "outputs": [
    {
     "data": {
      "text/plain": [
       "array(['379', '630', '661', '562', '710', '617', '523', '490', '760',\n",
       "       '600', '1500', '717', '296', '1280', '471', '416', '454', '300',\n",
       "       '505', '320', '626', '671', '622', '720', '1914', '414', '759',\n",
       "       '986', '591', '503', '650', '660', '350', '641', '611', '394',\n",
       "       '612', '369', '603', '455', '460', '325', '349', '592', '444',\n",
       "       '405', '797', '770', '332', '473', '480', '573', '380', '1600',\n",
       "       '181', '620', '764', '624', '1000', '382', '800', '715', '690',\n",
       "       '730', '469', '365', '401', '645', '435', '1020', '500', '780',\n",
       "       '750', '402', '575', '729', '789', '577', '495', '237', '310',\n",
       "       '791', '1874', '542', '368', '616', '1479', '755', '288', '1888',\n",
       "       '10000', '482', '1973', '1262', '1035', '819', '385', '647',\n",
       "       '1200', '1578', '625', '583', '429', '563', '400', '707', '887',\n",
       "       '1972', '305', '640', '255', '689', '372', '2000', '550', '485',\n",
       "       '1872', '621'], dtype=object)"
      ]
     },
     "execution_count": 37,
     "metadata": {},
     "output_type": "execute_result"
    }
   ],
   "source": [
    "df[\"Horsepower\"].unique()"
   ]
  },
  {
   "cell_type": "code",
   "execution_count": 38,
   "metadata": {
    "id": "RW0moJHgcnOl"
   },
   "outputs": [],
   "source": [
    "df[\"Horsepower\"]=df[\"Horsepower\"].astype(int)"
   ]
  },
  {
   "cell_type": "code",
   "execution_count": 39,
   "metadata": {
    "colab": {
     "base_uri": "https://localhost:8080/"
    },
    "id": "xYbQWCUUcu2-",
    "outputId": "65e63a70-b76d-4cec-fbd9-2759673cff96"
   },
   "outputs": [
    {
     "name": "stdout",
     "output_type": "stream",
     "text": [
      "<class 'pandas.core.frame.DataFrame'>\n",
      "RangeIndex: 1007 entries, 0 to 1006\n",
      "Data columns (total 8 columns):\n",
      " #   Column                   Non-Null Count  Dtype \n",
      "---  ------                   --------------  ----- \n",
      " 0   Car Make                 1007 non-null   object\n",
      " 1   Car Model                1007 non-null   object\n",
      " 2   Year                     1007 non-null   int64 \n",
      " 3   Engine Size (L)          997 non-null    object\n",
      " 4   Horsepower               1007 non-null   int32 \n",
      " 5   Torque (lb-ft)           1004 non-null   object\n",
      " 6   0-60 MPH Time (seconds)  1007 non-null   object\n",
      " 7   Price (in USD)           1007 non-null   object\n",
      "dtypes: int32(1), int64(1), object(6)\n",
      "memory usage: 59.1+ KB\n"
     ]
    }
   ],
   "source": [
    "df.info()"
   ]
  },
  {
   "cell_type": "code",
   "execution_count": 40,
   "metadata": {
    "colab": {
     "base_uri": "https://localhost:8080/"
    },
    "id": "DENjZP0n9Imy",
    "outputId": "1ed2e2a2-fc9d-4df7-b3b1-12d4835f9eb4"
   },
   "outputs": [
    {
     "data": {
      "text/plain": [
       "array(['331', '443', '561', '406', '568', '553', '494', '465', '625',\n",
       "       '481', '516', '1180', '656', '295', '1015', '398', '317', '384',\n",
       "       '280', '243', '664', '531', '468', '737', '738', '1696', '309',\n",
       "       '590', '479', '650', '550', '276', '626', '369', '420', '627',\n",
       "       '455', '505', '560', '457', '707', '270', '354', '476', '339',\n",
       "       '1106', '151', '605', '368', '723', '642', '509', '604', '507',\n",
       "       '513', '600', '440', '1050', '708', '774', '254', '663', '332',\n",
       "       '530', '470', '258', '290', '413', '1732', '376', '-', '10,000+',\n",
       "       '236', '0', '472', '1254', '848', '1300', '442', '641', '498',\n",
       "       '350', nan, '944', '268', '184', '400', '263', '7,376', '1,180',\n",
       "       '475', '1,050', '740', '538'], dtype=object)"
      ]
     },
     "execution_count": 40,
     "metadata": {},
     "output_type": "execute_result"
    }
   ],
   "source": [
    "df[\"Torque (lb-ft)\"].unique()"
   ]
  },
  {
   "cell_type": "code",
   "execution_count": 41,
   "metadata": {
    "colab": {
     "base_uri": "https://localhost:8080/"
    },
    "id": "PvaCeiv3AmMi",
    "outputId": "37c0e034-aa49-43cc-8f1b-c7f3bf37ac87"
   },
   "outputs": [
    {
     "name": "stderr",
     "output_type": "stream",
     "text": [
      "C:\\Users\\LPT-3036\\AppData\\Local\\Temp\\ipykernel_8108\\1727543719.py:3: FutureWarning: The default value of regex will change from True to False in a future version. In addition, single character regular expressions will *not* be treated as literal strings when regex=True.\n",
      "  df[\"Torque (lb-ft)\"]=df[\"Torque (lb-ft)\"].str.replace(\"+\",\"\")\n"
     ]
    }
   ],
   "source": [
    "df[\"Torque (lb-ft)\"]=df[\"Torque (lb-ft)\"].replace(\"-\",np.nan)\n",
    "df[\"Torque (lb-ft)\"]=df[\"Torque (lb-ft)\"].str.replace(\",\",\"\")\n",
    "df[\"Torque (lb-ft)\"]=df[\"Torque (lb-ft)\"].str.replace(\"+\",\"\")"
   ]
  },
  {
   "cell_type": "code",
   "execution_count": 42,
   "metadata": {},
   "outputs": [
    {
     "data": {
      "text/plain": [
       "array(['331', '443', '561', '406', '568', '553', '494', '465', '625',\n",
       "       '481', '516', '1180', '656', '295', '1015', '398', '317', '384',\n",
       "       '280', '243', '664', '531', '468', '737', '738', '1696', '309',\n",
       "       '590', '479', '650', '550', '276', '626', '369', '420', '627',\n",
       "       '455', '505', '560', '457', '707', '270', '354', '476', '339',\n",
       "       '1106', '151', '605', '368', '723', '642', '509', '604', '507',\n",
       "       '513', '600', '440', '1050', '708', '774', '254', '663', '332',\n",
       "       '530', '470', '258', '290', '413', '1732', '376', nan, '10000',\n",
       "       '236', '0', '472', '1254', '848', '1300', '442', '641', '498',\n",
       "       '350', '944', '268', '184', '400', '263', '7376', '475', '740',\n",
       "       '538'], dtype=object)"
      ]
     },
     "execution_count": 42,
     "metadata": {},
     "output_type": "execute_result"
    }
   ],
   "source": [
    "df[\"Torque (lb-ft)\"].unique()"
   ]
  },
  {
   "cell_type": "code",
   "execution_count": 43,
   "metadata": {},
   "outputs": [
    {
     "data": {
      "text/plain": [
       "nan"
      ]
     },
     "execution_count": 43,
     "metadata": {},
     "output_type": "execute_result"
    }
   ],
   "source": [
    "np.nan"
   ]
  },
  {
   "cell_type": "code",
   "execution_count": 44,
   "metadata": {
    "colab": {
     "base_uri": "https://localhost:8080/"
    },
    "id": "D0x9H4gYE9cS",
    "outputId": "1d9dbe52-37a5-4d4c-b097-5bd45c6a5c4a"
   },
   "outputs": [
    {
     "name": "stdout",
     "output_type": "stream",
     "text": [
      "<class 'pandas.core.frame.DataFrame'>\n",
      "RangeIndex: 1007 entries, 0 to 1006\n",
      "Data columns (total 8 columns):\n",
      " #   Column                   Non-Null Count  Dtype \n",
      "---  ------                   --------------  ----- \n",
      " 0   Car Make                 1007 non-null   object\n",
      " 1   Car Model                1007 non-null   object\n",
      " 2   Year                     1007 non-null   int64 \n",
      " 3   Engine Size (L)          997 non-null    object\n",
      " 4   Horsepower               1007 non-null   int32 \n",
      " 5   Torque (lb-ft)           1003 non-null   object\n",
      " 6   0-60 MPH Time (seconds)  1007 non-null   object\n",
      " 7   Price (in USD)           1007 non-null   object\n",
      "dtypes: int32(1), int64(1), object(6)\n",
      "memory usage: 59.1+ KB\n"
     ]
    }
   ],
   "source": [
    "df.info()"
   ]
  },
  {
   "cell_type": "code",
   "execution_count": 45,
   "metadata": {
    "colab": {
     "base_uri": "https://localhost:8080/"
    },
    "id": "-4p9w4tW9WV_",
    "outputId": "357c9830-200b-4b8c-d04b-3c763b1f9e6f"
   },
   "outputs": [
    {
     "data": {
      "text/plain": [
       "array(['101,200', '274,390', '333,750', '142,700', '298,000', '130,000',\n",
       "       '118,500', '59,900', '81,000', '212,000', '201,495', '3,000,000',\n",
       "       '61,000', '70,100', '2,800,000', '92,950', '104,450', '150,000',\n",
       "       '62,000', '78,000', '75,000', '225,000', '248,000', '155,000',\n",
       "       '2,400,000', '100,200', '517,770', '625,000', '117,000', '72,800',\n",
       "       '222,000', '64,695', '500,000', '45,690', '104,000', '218,000',\n",
       "       '57,000', '210,000', '148,500', '132,000', '58,900', '518,000',\n",
       "       '56,200', '192,500', '71,800', '68,000', '42,500', '39,000',\n",
       "       '46,100', '142,100', '105,000', '87,200', '52,500', '241,000',\n",
       "       '103,500', '146,000', '75,400', '42,900', '78,595', '62,750',\n",
       "       '417,826', '150,980', '30,090', '88,700', '67,600', '274,280',\n",
       "       '52,915', '218,009', '159,495', '142,086', '219,800', '74,290',\n",
       "       '71,900', '134,300', '26,830', '213,195', '221,580', '100,550',\n",
       "       '330,000', '200,000', '43,090', '1,700,000', '60,500', '522,000',\n",
       "       '67,000', '212,500', '64,000', '31,015', '304,995', '190,000',\n",
       "       '115,000', '59,000', '102,100', '220,300', '114,000', '239,100',\n",
       "       '62,500', '65,290', '219,750', '187,700', '222,004', '71,350',\n",
       "       '68,900', '276,550', '63,700', '44,000', '51,720', '45,790',\n",
       "       '88,550', '222,620', '84,595', '77,500', '157,500', '204,100',\n",
       "       '120,000', '69,900', '105,950', '204,550', '2,700,000', '102,900',\n",
       "       '1,000,000', '131,190', '123,500', '3,400,000', '61,500',\n",
       "       '507,000', '109,000', '228,000', '42,000', '45,000', '185,000',\n",
       "       '56,000', '191,000', '81,250', '517,700', '242,500', '77,000',\n",
       "       '76,000', '103,200', '177,700', '417,650', '115,045', '256,500',\n",
       "       '59,895', '152,500', '69,995', '363,730', '183,300', '73,795',\n",
       "       '183,000', '60,995', '207,000', '203,825', '99,800', '67,150',\n",
       "       '77,250', '71,490', '150,400', '47,820', '38,170', '102,000',\n",
       "       '393,695', '218,750', '40,590', '52,720', '174,300', '67,895',\n",
       "       '62,290', '93,050', '75,100', '64,195', '211,000', '275,000',\n",
       "       '2,998,000', '573,966', '3,500,000', '2,500,000', '70,000',\n",
       "       '61,600', '52,200', '100,450', '102,550', '76,400', '69,000',\n",
       "       '247,500', '79,900', '119,000', '307,820', '207,825', '202,500',\n",
       "       '63,000', '96,950', '358,000', '30,000', '2,600,000', '180,000',\n",
       "       '131,100', '82,190', '76,950', '132,795', '215,500', '80,900',\n",
       "       '40,000', '209,000', '67,500', '104,200', '133,050', '196,350',\n",
       "       '338,000', '218,400', '73,000', '104,970', '132,400', '71,500',\n",
       "       '118,795', '240,000', '221,400', '64,100', '81,550', '62,250',\n",
       "       '92,000', '141,190', '64,995', '126,190', '205,000', '75,695',\n",
       "       '2,750,000', '326,050', '102,500', '44,500', '51,000', '2,300,000',\n",
       "       '3,600,000', '215,000', '36,120', '220,000', '280,000', '208,800',\n",
       "       '229,000', '46,200', '71,000', '308,000', '80,500', '105,900',\n",
       "       '180,800', '94,000', '70,900', '76,450', '198,950', '77,950',\n",
       "       '314,500', '214,425', '104,400', '335,550', '141,990', '1,550,000',\n",
       "       '65,000', '63,100', '140,000', '325,000', '80,190', '68,745',\n",
       "       '139,990', '5,200,000', '1,500,000', '460,247', '110,045',\n",
       "       '77,400', '46,815', '85,000', '162,900', '245,000', '74,750',\n",
       "       '70,595', '203,500', '47,190', '222,630', '208,000', '96,250',\n",
       "       '25,000', '103,800', '48,000', '93,000', '346,300', '3,599,000',\n",
       "       '1,050,000', '186,350', '205,600', '201,000', '340,000', '101,000',\n",
       "       '43,000', '305,000', '204,995', '243,600', '113,000', '161,200',\n",
       "       '310,000', '1,800,000', '517,000', '110,000', '300,000', '100,000',\n",
       "       '135,000', '62,195', '28,000', '147,500', '250,000', '67,800',\n",
       "       '211,300', '222,500', '43,995', '152,995', '235,000', '335,000',\n",
       "       '50,000', '49,000', '98,395', '168,000', '64,500', '46,000',\n",
       "       '147,000', '193,000', '162,000', '76,700', '35,000', '151,000',\n",
       "       '83,250', '74,700', '77,600', '181,100', '329,100', '46,610',\n",
       "       '74,000', '63,995', '2,900,000', '201,500', '332,500', '198,995',\n",
       "       '72,000', '254,995', '60,695', '64,700', '99,990', '150,800',\n",
       "       '88,800', '76,350', '202,000', '96,000', '33,000', '75,250',\n",
       "       '99,000', '149,995', '37,500', '38,500', '71,450', '134,150',\n",
       "       '171,200', '321,000', '100,500', '195,000', '78,100', '78,450',\n",
       "       '3,900,000', '2,000,000', '254,500', '27,205'], dtype=object)"
      ]
     },
     "execution_count": 45,
     "metadata": {},
     "output_type": "execute_result"
    }
   ],
   "source": [
    "df[\"Price (in USD)\"].unique()"
   ]
  },
  {
   "cell_type": "code",
   "execution_count": 46,
   "metadata": {
    "id": "OuM-7Qcv-heU"
   },
   "outputs": [],
   "source": [
    "df[\"Price (in USD)\"]=df[\"Price (in USD)\"].str.replace(\",\",\"\")"
   ]
  },
  {
   "cell_type": "code",
   "execution_count": 47,
   "metadata": {
    "id": "E0eUOLNg-tyR"
   },
   "outputs": [],
   "source": [
    "df[\"Price (in USD)\"]=df[\"Price (in USD)\"].astype(int)"
   ]
  },
  {
   "cell_type": "code",
   "execution_count": 48,
   "metadata": {
    "colab": {
     "base_uri": "https://localhost:8080/"
    },
    "id": "-4PlEeOX_2AF",
    "outputId": "19b6e51a-e5a5-426f-d8dd-6e2a30fd9391"
   },
   "outputs": [
    {
     "name": "stdout",
     "output_type": "stream",
     "text": [
      "<class 'pandas.core.frame.DataFrame'>\n",
      "RangeIndex: 1007 entries, 0 to 1006\n",
      "Data columns (total 8 columns):\n",
      " #   Column                   Non-Null Count  Dtype \n",
      "---  ------                   --------------  ----- \n",
      " 0   Car Make                 1007 non-null   object\n",
      " 1   Car Model                1007 non-null   object\n",
      " 2   Year                     1007 non-null   int64 \n",
      " 3   Engine Size (L)          997 non-null    object\n",
      " 4   Horsepower               1007 non-null   int32 \n",
      " 5   Torque (lb-ft)           1003 non-null   object\n",
      " 6   0-60 MPH Time (seconds)  1007 non-null   object\n",
      " 7   Price (in USD)           1007 non-null   int32 \n",
      "dtypes: int32(2), int64(1), object(5)\n",
      "memory usage: 55.2+ KB\n"
     ]
    }
   ],
   "source": [
    "df.info()"
   ]
  },
  {
   "cell_type": "code",
   "execution_count": 49,
   "metadata": {
    "colab": {
     "base_uri": "https://localhost:8080/"
    },
    "id": "AySf2kdwASh5",
    "outputId": "04f39080-42dd-4671-b824-ce28aa8ecb51"
   },
   "outputs": [
    {
     "data": {
      "text/plain": [
       "array(['4', '2.8', '3', '3.2', '2.7', '3.1', '3.8', '3.5', '2.5', '2.4',\n",
       "       '5.4', '4.4', '4.8', '4.7', '3.6', '4.1', '1.85', '4.5', '3.3',\n",
       "       '3.9', '4.2', '3.4', '5.1', '4.3', '2.9', '5', '5.3', '4.9', '6.5',\n",
       "       '3.7', '1.95', '1.9', '1.98', '2.6', '2.3', '4.6', '< 1.9', '1.8',\n",
       "       '2.1', '5.2', '2.2', '6.4', '2'], dtype=object)"
      ]
     },
     "execution_count": 49,
     "metadata": {},
     "output_type": "execute_result"
    }
   ],
   "source": [
    "df[\"0-60 MPH Time (seconds)\"].unique()"
   ]
  },
  {
   "cell_type": "code",
   "execution_count": 50,
   "metadata": {
    "id": "P1EIcD5-ASkw"
   },
   "outputs": [],
   "source": [
    "df[\"0-60 MPH Time (seconds)\"]=df[\"0-60 MPH Time (seconds)\"].str.replace(\"<\",\"\")"
   ]
  },
  {
   "cell_type": "code",
   "execution_count": 51,
   "metadata": {
    "id": "up0ucGeXhzRG"
   },
   "outputs": [],
   "source": [
    "df[\"0-60 MPH Time (seconds)\"]= df[\"0-60 MPH Time (seconds)\"].astype(float)"
   ]
  },
  {
   "cell_type": "code",
   "execution_count": 52,
   "metadata": {
    "colab": {
     "base_uri": "https://localhost:8080/"
    },
    "id": "ccpXv7d0iHz6",
    "outputId": "18863be4-fa40-43c9-ce67-360e5768bf5e"
   },
   "outputs": [
    {
     "name": "stdout",
     "output_type": "stream",
     "text": [
      "<class 'pandas.core.frame.DataFrame'>\n",
      "RangeIndex: 1007 entries, 0 to 1006\n",
      "Data columns (total 8 columns):\n",
      " #   Column                   Non-Null Count  Dtype  \n",
      "---  ------                   --------------  -----  \n",
      " 0   Car Make                 1007 non-null   object \n",
      " 1   Car Model                1007 non-null   object \n",
      " 2   Year                     1007 non-null   int64  \n",
      " 3   Engine Size (L)          997 non-null    object \n",
      " 4   Horsepower               1007 non-null   int32  \n",
      " 5   Torque (lb-ft)           1003 non-null   object \n",
      " 6   0-60 MPH Time (seconds)  1007 non-null   float64\n",
      " 7   Price (in USD)           1007 non-null   int32  \n",
      "dtypes: float64(1), int32(2), int64(1), object(4)\n",
      "memory usage: 55.2+ KB\n"
     ]
    }
   ],
   "source": [
    "df.info()"
   ]
  },
  {
   "cell_type": "code",
   "execution_count": 53,
   "metadata": {
    "colab": {
     "base_uri": "https://localhost:8080/"
    },
    "id": "9QD9xxmjAUo8",
    "outputId": "083410a5-5a59-4cf1-f357-fff72160f903"
   },
   "outputs": [
    {
     "data": {
      "text/plain": [
       "array(['3', '5.2', '3.9', '4', '4.4', '6.2', '3.8', '8', '5', '3.5',\n",
       "       '4.7', '2', '2.9', '6', 'Electric', '6.5', '3.7', 'Electric Motor',\n",
       "       '2.5', '1.5 + Electric', '6.8', '8.4', nan, '6.6', '7', '1.7',\n",
       "       '3.3', '-', '6.7', '1.8', 'Electric (tri-motor)', '5.5',\n",
       "       'Electric (93 kWh)', 'Electric (100 kWh)', 'Hybrid (4.0)', '4.6',\n",
       "       '3.6', '1.5', 'Hybrid', '5.7', '2.0 (Electric)', '4.0 (Hybrid)',\n",
       "       '0', '6.4', '6.3', '2.3'], dtype=object)"
      ]
     },
     "execution_count": 53,
     "metadata": {},
     "output_type": "execute_result"
    }
   ],
   "source": [
    "df[\"Engine Size (L)\"].unique()"
   ]
  },
  {
   "cell_type": "code",
   "execution_count": 54,
   "metadata": {
    "id": "KtCVNRAhAUsT"
   },
   "outputs": [],
   "source": [
    "df[\"Engine Size (L)\"]=df[\"Engine Size (L)\"].replace(\"Electric\",2)\n",
    "df[\"Engine Size (L)\"]=df[\"Engine Size (L)\"].replace(\"Electric Motor\",2)\n",
    "df[\"Engine Size (L)\"]=df[\"Engine Size (L)\"].replace(\"Electric (tri-motor)\",2)\n",
    "df[\"Engine Size (L)\"]=df[\"Engine Size (L)\"].replace(\"1.5 + Electric\",2)\n",
    "df[\"Engine Size (L)\"]=df[\"Engine Size (L)\"].replace(\"-\",2)\n",
    "df[\"Engine Size (L)\"]=df[\"Engine Size (L)\"].replace(\"Electric (93 kWh)\",2)\n",
    "df[\"Engine Size (L)\"]=df[\"Engine Size (L)\"].replace(\"Electric (100 kWh)\",2)\n",
    "df[\"Engine Size (L)\"]=df[\"Engine Size (L)\"].replace(\"Hybrid (4.0)\",4)\n",
    "df[\"Engine Size (L)\"]=df[\"Engine Size (L)\"].replace(\"4.0 (Hybrid)\",4)\n",
    "df[\"Engine Size (L)\"]=df[\"Engine Size (L)\"].replace(\"2.0 (Electric)\",2)\n",
    "df[\"Engine Size (L)\"]=df[\"Engine Size (L)\"].replace(\"Hybrid\",4)\n"
   ]
  },
  {
   "cell_type": "code",
   "execution_count": 55,
   "metadata": {
    "colab": {
     "base_uri": "https://localhost:8080/"
    },
    "id": "4wyzlXiKi5du",
    "outputId": "68d12027-1ad3-449d-c9f4-7f15ad676611"
   },
   "outputs": [
    {
     "data": {
      "text/plain": [
       "array(['3', '5.2', '3.9', '4', '4.4', '6.2', '3.8', '8', '5', '3.5',\n",
       "       '4.7', '2', '2.9', '6', 2, '6.5', '3.7', '2.5', '6.8', '8.4', nan,\n",
       "       '6.6', '7', '1.7', '3.3', '6.7', '1.8', '5.5', 4, '4.6', '3.6',\n",
       "       '1.5', '5.7', '0', '6.4', '6.3', '2.3'], dtype=object)"
      ]
     },
     "execution_count": 55,
     "metadata": {},
     "output_type": "execute_result"
    }
   ],
   "source": [
    "df[\"Engine Size (L)\"].unique()"
   ]
  },
  {
   "cell_type": "code",
   "execution_count": 56,
   "metadata": {
    "id": "nV9JiLbsi5gn"
   },
   "outputs": [],
   "source": [
    "df[\"Engine Size (L)\"]=df[\"Engine Size (L)\"].astype(float)"
   ]
  },
  {
   "cell_type": "code",
   "execution_count": 57,
   "metadata": {
    "colab": {
     "base_uri": "https://localhost:8080/",
     "height": 206
    },
    "id": "3R0yXlk8i5lF",
    "outputId": "f8d647b9-5676-4035-f3d7-fe4aa034b503"
   },
   "outputs": [
    {
     "data": {
      "text/html": [
       "<div>\n",
       "<style scoped>\n",
       "    .dataframe tbody tr th:only-of-type {\n",
       "        vertical-align: middle;\n",
       "    }\n",
       "\n",
       "    .dataframe tbody tr th {\n",
       "        vertical-align: top;\n",
       "    }\n",
       "\n",
       "    .dataframe thead th {\n",
       "        text-align: right;\n",
       "    }\n",
       "</style>\n",
       "<table border=\"1\" class=\"dataframe\">\n",
       "  <thead>\n",
       "    <tr style=\"text-align: right;\">\n",
       "      <th></th>\n",
       "      <th>Car Make</th>\n",
       "      <th>Car Model</th>\n",
       "      <th>Year</th>\n",
       "      <th>Engine Size (L)</th>\n",
       "      <th>Horsepower</th>\n",
       "      <th>Torque (lb-ft)</th>\n",
       "      <th>0-60 MPH Time (seconds)</th>\n",
       "      <th>Price (in USD)</th>\n",
       "    </tr>\n",
       "  </thead>\n",
       "  <tbody>\n",
       "    <tr>\n",
       "      <th>0</th>\n",
       "      <td>Porsche</td>\n",
       "      <td>911</td>\n",
       "      <td>2022</td>\n",
       "      <td>3.0</td>\n",
       "      <td>379</td>\n",
       "      <td>331</td>\n",
       "      <td>4.0</td>\n",
       "      <td>101200</td>\n",
       "    </tr>\n",
       "    <tr>\n",
       "      <th>1</th>\n",
       "      <td>Lamborghini</td>\n",
       "      <td>Huracan</td>\n",
       "      <td>2021</td>\n",
       "      <td>5.2</td>\n",
       "      <td>630</td>\n",
       "      <td>443</td>\n",
       "      <td>2.8</td>\n",
       "      <td>274390</td>\n",
       "    </tr>\n",
       "    <tr>\n",
       "      <th>2</th>\n",
       "      <td>Ferrari</td>\n",
       "      <td>488 GTB</td>\n",
       "      <td>2022</td>\n",
       "      <td>3.9</td>\n",
       "      <td>661</td>\n",
       "      <td>561</td>\n",
       "      <td>3.0</td>\n",
       "      <td>333750</td>\n",
       "    </tr>\n",
       "    <tr>\n",
       "      <th>3</th>\n",
       "      <td>Audi</td>\n",
       "      <td>R8</td>\n",
       "      <td>2022</td>\n",
       "      <td>5.2</td>\n",
       "      <td>562</td>\n",
       "      <td>406</td>\n",
       "      <td>3.2</td>\n",
       "      <td>142700</td>\n",
       "    </tr>\n",
       "    <tr>\n",
       "      <th>4</th>\n",
       "      <td>McLaren</td>\n",
       "      <td>720S</td>\n",
       "      <td>2021</td>\n",
       "      <td>4.0</td>\n",
       "      <td>710</td>\n",
       "      <td>568</td>\n",
       "      <td>2.7</td>\n",
       "      <td>298000</td>\n",
       "    </tr>\n",
       "  </tbody>\n",
       "</table>\n",
       "</div>"
      ],
      "text/plain": [
       "      Car Make Car Model  Year  Engine Size (L)  Horsepower Torque (lb-ft)  \\\n",
       "0      Porsche       911  2022              3.0         379            331   \n",
       "1  Lamborghini   Huracan  2021              5.2         630            443   \n",
       "2      Ferrari   488 GTB  2022              3.9         661            561   \n",
       "3         Audi        R8  2022              5.2         562            406   \n",
       "4      McLaren      720S  2021              4.0         710            568   \n",
       "\n",
       "   0-60 MPH Time (seconds)  Price (in USD)  \n",
       "0                      4.0          101200  \n",
       "1                      2.8          274390  \n",
       "2                      3.0          333750  \n",
       "3                      3.2          142700  \n",
       "4                      2.7          298000  "
      ]
     },
     "execution_count": 57,
     "metadata": {},
     "output_type": "execute_result"
    }
   ],
   "source": [
    "df.head()"
   ]
  },
  {
   "cell_type": "code",
   "execution_count": 58,
   "metadata": {
    "colab": {
     "base_uri": "https://localhost:8080/"
    },
    "id": "Hol3UTiNmO_K",
    "outputId": "838f9308-6ec9-47d8-8787-c1e7ee920f73"
   },
   "outputs": [
    {
     "name": "stdout",
     "output_type": "stream",
     "text": [
      "<class 'pandas.core.frame.DataFrame'>\n",
      "RangeIndex: 1007 entries, 0 to 1006\n",
      "Data columns (total 8 columns):\n",
      " #   Column                   Non-Null Count  Dtype  \n",
      "---  ------                   --------------  -----  \n",
      " 0   Car Make                 1007 non-null   object \n",
      " 1   Car Model                1007 non-null   object \n",
      " 2   Year                     1007 non-null   int64  \n",
      " 3   Engine Size (L)          997 non-null    float64\n",
      " 4   Horsepower               1007 non-null   int32  \n",
      " 5   Torque (lb-ft)           1003 non-null   object \n",
      " 6   0-60 MPH Time (seconds)  1007 non-null   float64\n",
      " 7   Price (in USD)           1007 non-null   int32  \n",
      "dtypes: float64(2), int32(2), int64(1), object(3)\n",
      "memory usage: 55.2+ KB\n"
     ]
    }
   ],
   "source": [
    "df.info() "
   ]
  },
  {
   "cell_type": "code",
   "execution_count": 59,
   "metadata": {
    "colab": {
     "base_uri": "https://localhost:8080/"
    },
    "id": "KFKlumdDmR6A",
    "outputId": "90e60e95-5b7f-4dc4-b15e-d119689f42cc"
   },
   "outputs": [
    {
     "data": {
      "text/plain": [
       "Car Make                    0\n",
       "Car Model                   0\n",
       "Year                        0\n",
       "Engine Size (L)            10\n",
       "Horsepower                  0\n",
       "Torque (lb-ft)              4\n",
       "0-60 MPH Time (seconds)     0\n",
       "Price (in USD)              0\n",
       "dtype: int64"
      ]
     },
     "execution_count": 59,
     "metadata": {},
     "output_type": "execute_result"
    }
   ],
   "source": [
    "df.isnull().sum()"
   ]
  },
  {
   "cell_type": "code",
   "execution_count": 60,
   "metadata": {
    "id": "uydF07mGta3u"
   },
   "outputs": [],
   "source": [
    "df=df.dropna()"
   ]
  },
  {
   "cell_type": "code",
   "execution_count": 61,
   "metadata": {
    "colab": {
     "base_uri": "https://localhost:8080/"
    },
    "id": "NSOI0GX3tQKS",
    "outputId": "b2a840e7-880a-4aa7-9c68-637c9b3f1627"
   },
   "outputs": [],
   "source": [
    "df[\"Torque (lb-ft)\"]=df[\"Torque (lb-ft)\"].astype(int)"
   ]
  },
  {
   "cell_type": "code",
   "execution_count": 62,
   "metadata": {
    "colab": {
     "base_uri": "https://localhost:8080/",
     "height": 206
    },
    "id": "VQZN3qnTtqPP",
    "outputId": "62b63bae-da5b-43ce-ae6c-4b9b80c263cc"
   },
   "outputs": [
    {
     "data": {
      "text/html": [
       "<div>\n",
       "<style scoped>\n",
       "    .dataframe tbody tr th:only-of-type {\n",
       "        vertical-align: middle;\n",
       "    }\n",
       "\n",
       "    .dataframe tbody tr th {\n",
       "        vertical-align: top;\n",
       "    }\n",
       "\n",
       "    .dataframe thead th {\n",
       "        text-align: right;\n",
       "    }\n",
       "</style>\n",
       "<table border=\"1\" class=\"dataframe\">\n",
       "  <thead>\n",
       "    <tr style=\"text-align: right;\">\n",
       "      <th></th>\n",
       "      <th>Car Make</th>\n",
       "      <th>Car Model</th>\n",
       "      <th>Year</th>\n",
       "      <th>Engine Size (L)</th>\n",
       "      <th>Horsepower</th>\n",
       "      <th>Torque (lb-ft)</th>\n",
       "      <th>0-60 MPH Time (seconds)</th>\n",
       "      <th>Price (in USD)</th>\n",
       "    </tr>\n",
       "  </thead>\n",
       "  <tbody>\n",
       "    <tr>\n",
       "      <th>0</th>\n",
       "      <td>Porsche</td>\n",
       "      <td>911</td>\n",
       "      <td>2022</td>\n",
       "      <td>3.0</td>\n",
       "      <td>379</td>\n",
       "      <td>331</td>\n",
       "      <td>4.0</td>\n",
       "      <td>101200</td>\n",
       "    </tr>\n",
       "    <tr>\n",
       "      <th>1</th>\n",
       "      <td>Lamborghini</td>\n",
       "      <td>Huracan</td>\n",
       "      <td>2021</td>\n",
       "      <td>5.2</td>\n",
       "      <td>630</td>\n",
       "      <td>443</td>\n",
       "      <td>2.8</td>\n",
       "      <td>274390</td>\n",
       "    </tr>\n",
       "    <tr>\n",
       "      <th>2</th>\n",
       "      <td>Ferrari</td>\n",
       "      <td>488 GTB</td>\n",
       "      <td>2022</td>\n",
       "      <td>3.9</td>\n",
       "      <td>661</td>\n",
       "      <td>561</td>\n",
       "      <td>3.0</td>\n",
       "      <td>333750</td>\n",
       "    </tr>\n",
       "    <tr>\n",
       "      <th>3</th>\n",
       "      <td>Audi</td>\n",
       "      <td>R8</td>\n",
       "      <td>2022</td>\n",
       "      <td>5.2</td>\n",
       "      <td>562</td>\n",
       "      <td>406</td>\n",
       "      <td>3.2</td>\n",
       "      <td>142700</td>\n",
       "    </tr>\n",
       "    <tr>\n",
       "      <th>4</th>\n",
       "      <td>McLaren</td>\n",
       "      <td>720S</td>\n",
       "      <td>2021</td>\n",
       "      <td>4.0</td>\n",
       "      <td>710</td>\n",
       "      <td>568</td>\n",
       "      <td>2.7</td>\n",
       "      <td>298000</td>\n",
       "    </tr>\n",
       "  </tbody>\n",
       "</table>\n",
       "</div>"
      ],
      "text/plain": [
       "      Car Make Car Model  Year  Engine Size (L)  Horsepower  Torque (lb-ft)  \\\n",
       "0      Porsche       911  2022              3.0         379             331   \n",
       "1  Lamborghini   Huracan  2021              5.2         630             443   \n",
       "2      Ferrari   488 GTB  2022              3.9         661             561   \n",
       "3         Audi        R8  2022              5.2         562             406   \n",
       "4      McLaren      720S  2021              4.0         710             568   \n",
       "\n",
       "   0-60 MPH Time (seconds)  Price (in USD)  \n",
       "0                      4.0          101200  \n",
       "1                      2.8          274390  \n",
       "2                      3.0          333750  \n",
       "3                      3.2          142700  \n",
       "4                      2.7          298000  "
      ]
     },
     "execution_count": 62,
     "metadata": {},
     "output_type": "execute_result"
    }
   ],
   "source": [
    "df.head()"
   ]
  },
  {
   "cell_type": "code",
   "execution_count": 63,
   "metadata": {
    "colab": {
     "base_uri": "https://localhost:8080/"
    },
    "id": "eMgnHYartr0h",
    "outputId": "f9cea5e5-84a7-46cb-ae08-a943b1dd5cd2"
   },
   "outputs": [
    {
     "name": "stdout",
     "output_type": "stream",
     "text": [
      "<class 'pandas.core.frame.DataFrame'>\n",
      "Int64Index: 994 entries, 0 to 1006\n",
      "Data columns (total 8 columns):\n",
      " #   Column                   Non-Null Count  Dtype  \n",
      "---  ------                   --------------  -----  \n",
      " 0   Car Make                 994 non-null    object \n",
      " 1   Car Model                994 non-null    object \n",
      " 2   Year                     994 non-null    int64  \n",
      " 3   Engine Size (L)          994 non-null    float64\n",
      " 4   Horsepower               994 non-null    int32  \n",
      " 5   Torque (lb-ft)           994 non-null    int32  \n",
      " 6   0-60 MPH Time (seconds)  994 non-null    float64\n",
      " 7   Price (in USD)           994 non-null    int32  \n",
      "dtypes: float64(2), int32(3), int64(1), object(2)\n",
      "memory usage: 58.2+ KB\n"
     ]
    }
   ],
   "source": [
    "df.info()"
   ]
  },
  {
   "cell_type": "code",
   "execution_count": 64,
   "metadata": {
    "colab": {
     "base_uri": "https://localhost:8080/"
    },
    "id": "6jR3af2etv94",
    "outputId": "3ea09400-23ff-46a5-e518-ae9f15f650a1"
   },
   "outputs": [
    {
     "data": {
      "text/plain": [
       "(994, 8)"
      ]
     },
     "execution_count": 64,
     "metadata": {},
     "output_type": "execute_result"
    }
   ],
   "source": [
    "df.shape"
   ]
  },
  {
   "cell_type": "code",
   "execution_count": 65,
   "metadata": {
    "id": "nxNpMG4UyWSg"
   },
   "outputs": [],
   "source": [
    "df=df.drop_duplicates() # removing duplicate values"
   ]
  },
  {
   "cell_type": "code",
   "execution_count": 66,
   "metadata": {
    "colab": {
     "base_uri": "https://localhost:8080/"
    },
    "id": "yTDvMGW50Kda",
    "outputId": "bc28e8fe-7da0-43c1-f444-d86fe6dc49c3"
   },
   "outputs": [
    {
     "data": {
      "text/plain": [
       "(702, 8)"
      ]
     },
     "execution_count": 66,
     "metadata": {},
     "output_type": "execute_result"
    }
   ],
   "source": [
    "df.shape"
   ]
  },
  {
   "cell_type": "markdown",
   "metadata": {
    "id": "xXYcB11W0pZk"
   },
   "source": [
    "#Q1) What is the price of most expensive car and which brand makes it ?"
   ]
  },
  {
   "cell_type": "code",
   "execution_count": 67,
   "metadata": {
    "id": "WhOgPTWj2pCj"
   },
   "outputs": [],
   "source": [
    "df=df.rename(columns={\"Price (in USD)\":\"Price\"})"
   ]
  },
  {
   "cell_type": "code",
   "execution_count": 68,
   "metadata": {
    "colab": {
     "base_uri": "https://localhost:8080/",
     "height": 206
    },
    "id": "7vc3my5_2xYK",
    "outputId": "4f9fc948-0260-4163-d220-19adf940d4e4",
    "scrolled": true
   },
   "outputs": [
    {
     "data": {
      "text/html": [
       "<div>\n",
       "<style scoped>\n",
       "    .dataframe tbody tr th:only-of-type {\n",
       "        vertical-align: middle;\n",
       "    }\n",
       "\n",
       "    .dataframe tbody tr th {\n",
       "        vertical-align: top;\n",
       "    }\n",
       "\n",
       "    .dataframe thead th {\n",
       "        text-align: right;\n",
       "    }\n",
       "</style>\n",
       "<table border=\"1\" class=\"dataframe\">\n",
       "  <thead>\n",
       "    <tr style=\"text-align: right;\">\n",
       "      <th></th>\n",
       "      <th>Car Make</th>\n",
       "      <th>Car Model</th>\n",
       "      <th>Year</th>\n",
       "      <th>Engine Size (L)</th>\n",
       "      <th>Horsepower</th>\n",
       "      <th>Torque (lb-ft)</th>\n",
       "      <th>0-60 MPH Time (seconds)</th>\n",
       "      <th>Price</th>\n",
       "    </tr>\n",
       "  </thead>\n",
       "  <tbody>\n",
       "    <tr>\n",
       "      <th>0</th>\n",
       "      <td>Porsche</td>\n",
       "      <td>911</td>\n",
       "      <td>2022</td>\n",
       "      <td>3.0</td>\n",
       "      <td>379</td>\n",
       "      <td>331</td>\n",
       "      <td>4.0</td>\n",
       "      <td>101200</td>\n",
       "    </tr>\n",
       "    <tr>\n",
       "      <th>1</th>\n",
       "      <td>Lamborghini</td>\n",
       "      <td>Huracan</td>\n",
       "      <td>2021</td>\n",
       "      <td>5.2</td>\n",
       "      <td>630</td>\n",
       "      <td>443</td>\n",
       "      <td>2.8</td>\n",
       "      <td>274390</td>\n",
       "    </tr>\n",
       "    <tr>\n",
       "      <th>2</th>\n",
       "      <td>Ferrari</td>\n",
       "      <td>488 GTB</td>\n",
       "      <td>2022</td>\n",
       "      <td>3.9</td>\n",
       "      <td>661</td>\n",
       "      <td>561</td>\n",
       "      <td>3.0</td>\n",
       "      <td>333750</td>\n",
       "    </tr>\n",
       "    <tr>\n",
       "      <th>3</th>\n",
       "      <td>Audi</td>\n",
       "      <td>R8</td>\n",
       "      <td>2022</td>\n",
       "      <td>5.2</td>\n",
       "      <td>562</td>\n",
       "      <td>406</td>\n",
       "      <td>3.2</td>\n",
       "      <td>142700</td>\n",
       "    </tr>\n",
       "    <tr>\n",
       "      <th>4</th>\n",
       "      <td>McLaren</td>\n",
       "      <td>720S</td>\n",
       "      <td>2021</td>\n",
       "      <td>4.0</td>\n",
       "      <td>710</td>\n",
       "      <td>568</td>\n",
       "      <td>2.7</td>\n",
       "      <td>298000</td>\n",
       "    </tr>\n",
       "  </tbody>\n",
       "</table>\n",
       "</div>"
      ],
      "text/plain": [
       "      Car Make Car Model  Year  Engine Size (L)  Horsepower  Torque (lb-ft)  \\\n",
       "0      Porsche       911  2022              3.0         379             331   \n",
       "1  Lamborghini   Huracan  2021              5.2         630             443   \n",
       "2      Ferrari   488 GTB  2022              3.9         661             561   \n",
       "3         Audi        R8  2022              5.2         562             406   \n",
       "4      McLaren      720S  2021              4.0         710             568   \n",
       "\n",
       "   0-60 MPH Time (seconds)   Price  \n",
       "0                      4.0  101200  \n",
       "1                      2.8  274390  \n",
       "2                      3.0  333750  \n",
       "3                      3.2  142700  \n",
       "4                      2.7  298000  "
      ]
     },
     "execution_count": 68,
     "metadata": {},
     "output_type": "execute_result"
    }
   ],
   "source": [
    "df.head()"
   ]
  },
  {
   "cell_type": "code",
   "execution_count": 71,
   "metadata": {},
   "outputs": [
    {
     "data": {
      "text/html": [
       "<div>\n",
       "<style scoped>\n",
       "    .dataframe tbody tr th:only-of-type {\n",
       "        vertical-align: middle;\n",
       "    }\n",
       "\n",
       "    .dataframe tbody tr th {\n",
       "        vertical-align: top;\n",
       "    }\n",
       "\n",
       "    .dataframe thead th {\n",
       "        text-align: right;\n",
       "    }\n",
       "</style>\n",
       "<table border=\"1\" class=\"dataframe\">\n",
       "  <thead>\n",
       "    <tr style=\"text-align: right;\">\n",
       "      <th></th>\n",
       "      <th>Car Make</th>\n",
       "      <th>Car Model</th>\n",
       "      <th>Year</th>\n",
       "      <th>Engine Size (L)</th>\n",
       "      <th>Horsepower</th>\n",
       "      <th>Torque (lb-ft)</th>\n",
       "      <th>0-60 MPH Time (seconds)</th>\n",
       "      <th>Price</th>\n",
       "    </tr>\n",
       "  </thead>\n",
       "  <tbody>\n",
       "    <tr>\n",
       "      <th>541</th>\n",
       "      <td>Bugatti</td>\n",
       "      <td>Chiron Super Sport 300+</td>\n",
       "      <td>2022</td>\n",
       "      <td>8.0</td>\n",
       "      <td>1578</td>\n",
       "      <td>1180</td>\n",
       "      <td>2.3</td>\n",
       "      <td>5200000</td>\n",
       "    </tr>\n",
       "    <tr>\n",
       "      <th>823</th>\n",
       "      <td>Bugatti</td>\n",
       "      <td>Chiron Super Sport 300+</td>\n",
       "      <td>2021</td>\n",
       "      <td>8.0</td>\n",
       "      <td>1578</td>\n",
       "      <td>1180</td>\n",
       "      <td>2.4</td>\n",
       "      <td>5200000</td>\n",
       "    </tr>\n",
       "  </tbody>\n",
       "</table>\n",
       "</div>"
      ],
      "text/plain": [
       "    Car Make                Car Model  Year  Engine Size (L)  Horsepower  \\\n",
       "541  Bugatti  Chiron Super Sport 300+  2022              8.0        1578   \n",
       "823  Bugatti  Chiron Super Sport 300+  2021              8.0        1578   \n",
       "\n",
       "     Torque (lb-ft)  0-60 MPH Time (seconds)    Price  \n",
       "541            1180                      2.3  5200000  \n",
       "823            1180                      2.4  5200000  "
      ]
     },
     "execution_count": 71,
     "metadata": {},
     "output_type": "execute_result"
    }
   ],
   "source": [
    "df[df['Price'] == df['Price'].max()]"
   ]
  },
  {
   "cell_type": "code",
   "execution_count": 42,
   "metadata": {
    "colab": {
     "base_uri": "https://localhost:8080/",
     "height": 156
    },
    "id": "qP5ahnvD0pdG",
    "outputId": "859b8663-3c19-4862-e0d0-6d1123513a5c"
   },
   "outputs": [
    {
     "data": {
      "text/html": [
       "<div>\n",
       "<style scoped>\n",
       "    .dataframe tbody tr th:only-of-type {\n",
       "        vertical-align: middle;\n",
       "    }\n",
       "\n",
       "    .dataframe tbody tr th {\n",
       "        vertical-align: top;\n",
       "    }\n",
       "\n",
       "    .dataframe thead th {\n",
       "        text-align: right;\n",
       "    }\n",
       "</style>\n",
       "<table border=\"1\" class=\"dataframe\">\n",
       "  <thead>\n",
       "    <tr style=\"text-align: right;\">\n",
       "      <th></th>\n",
       "      <th>Car Make</th>\n",
       "      <th>Car Model</th>\n",
       "      <th>Year</th>\n",
       "      <th>Engine Size (L)</th>\n",
       "      <th>Horsepower</th>\n",
       "      <th>Torque (lb-ft)</th>\n",
       "      <th>0-60 MPH Time (seconds)</th>\n",
       "      <th>Price</th>\n",
       "    </tr>\n",
       "  </thead>\n",
       "  <tbody>\n",
       "    <tr>\n",
       "      <th>541</th>\n",
       "      <td>Bugatti</td>\n",
       "      <td>Chiron Super Sport 300+</td>\n",
       "      <td>2022</td>\n",
       "      <td>8.0</td>\n",
       "      <td>1578</td>\n",
       "      <td>1180</td>\n",
       "      <td>2.3</td>\n",
       "      <td>5200000</td>\n",
       "    </tr>\n",
       "    <tr>\n",
       "      <th>823</th>\n",
       "      <td>Bugatti</td>\n",
       "      <td>Chiron Super Sport 300+</td>\n",
       "      <td>2021</td>\n",
       "      <td>8.0</td>\n",
       "      <td>1578</td>\n",
       "      <td>1180</td>\n",
       "      <td>2.4</td>\n",
       "      <td>5200000</td>\n",
       "    </tr>\n",
       "  </tbody>\n",
       "</table>\n",
       "</div>"
      ],
      "text/plain": [
       "    Car Make                Car Model  Year  Engine Size (L)  Horsepower  \\\n",
       "541  Bugatti  Chiron Super Sport 300+  2022              8.0        1578   \n",
       "823  Bugatti  Chiron Super Sport 300+  2021              8.0        1578   \n",
       "\n",
       "     Torque (lb-ft)  0-60 MPH Time (seconds)    Price  \n",
       "541            1180                      2.3  5200000  \n",
       "823            1180                      2.4  5200000  "
      ]
     },
     "execution_count": 42,
     "metadata": {},
     "output_type": "execute_result"
    }
   ],
   "source": [
    "df1=df.query('Price == Price.max()')\n",
    "df1.head()"
   ]
  },
  {
   "cell_type": "code",
   "execution_count": 43,
   "metadata": {
    "id": "fTJwcfLG0pgS"
   },
   "outputs": [],
   "source": [
    "# Ans) Buggatti, Price - 5200000$"
   ]
  },
  {
   "cell_type": "markdown",
   "metadata": {
    "id": "7wFLs9VR0pvB"
   },
   "source": [
    "#2) Which brand gives the lowest power output from engine ?"
   ]
  },
  {
   "cell_type": "code",
   "execution_count": 71,
   "metadata": {
    "colab": {
     "base_uri": "https://localhost:8080/",
     "height": 81
    },
    "id": "m7qT_lbP5-fH",
    "outputId": "130d5697-edf6-4d58-8e58-94b9550f7ada"
   },
   "outputs": [
    {
     "data": {
      "text/html": [
       "<div>\n",
       "<style scoped>\n",
       "    .dataframe tbody tr th:only-of-type {\n",
       "        vertical-align: middle;\n",
       "    }\n",
       "\n",
       "    .dataframe tbody tr th {\n",
       "        vertical-align: top;\n",
       "    }\n",
       "\n",
       "    .dataframe thead th {\n",
       "        text-align: right;\n",
       "    }\n",
       "</style>\n",
       "<table border=\"1\" class=\"dataframe\">\n",
       "  <thead>\n",
       "    <tr style=\"text-align: right;\">\n",
       "      <th></th>\n",
       "      <th>Car Make</th>\n",
       "      <th>Car Model</th>\n",
       "      <th>Year</th>\n",
       "      <th>Engine Size (L)</th>\n",
       "      <th>Horsepower</th>\n",
       "      <th>Torque (lb-ft)</th>\n",
       "      <th>0-60 MPH Time (seconds)</th>\n",
       "      <th>Price</th>\n",
       "    </tr>\n",
       "  </thead>\n",
       "  <tbody>\n",
       "    <tr>\n",
       "      <th>92</th>\n",
       "      <td>Mazda</td>\n",
       "      <td>MX-5 Miata</td>\n",
       "      <td>2021</td>\n",
       "      <td>2.0</td>\n",
       "      <td>181</td>\n",
       "      <td>151</td>\n",
       "      <td>6.5</td>\n",
       "      <td>26830</td>\n",
       "    </tr>\n",
       "  </tbody>\n",
       "</table>\n",
       "</div>"
      ],
      "text/plain": [
       "   Car Make   Car Model  Year  Engine Size (L)  Horsepower  Torque (lb-ft)  \\\n",
       "92    Mazda  MX-5 Miata  2021              2.0         181             151   \n",
       "\n",
       "    0-60 MPH Time (seconds)  Price  \n",
       "92                      6.5  26830  "
      ]
     },
     "execution_count": 71,
     "metadata": {},
     "output_type": "execute_result"
    }
   ],
   "source": [
    "df.query('Horsepower== Horsepower.min()')"
   ]
  },
  {
   "cell_type": "code",
   "execution_count": 45,
   "metadata": {
    "id": "vZz8S8BD5-iK"
   },
   "outputs": [],
   "source": [
    "# Ans) 181, Mazda"
   ]
  },
  {
   "cell_type": "markdown",
   "metadata": {
    "id": "xUWIMy9mElFV"
   },
   "source": [
    "#3) Is Horsepower dependent on Torque ?"
   ]
  },
  {
   "cell_type": "code",
   "execution_count": 73,
   "metadata": {
    "scrolled": true
   },
   "outputs": [
    {
     "data": {
      "text/html": [
       "<div>\n",
       "<style scoped>\n",
       "    .dataframe tbody tr th:only-of-type {\n",
       "        vertical-align: middle;\n",
       "    }\n",
       "\n",
       "    .dataframe tbody tr th {\n",
       "        vertical-align: top;\n",
       "    }\n",
       "\n",
       "    .dataframe thead th {\n",
       "        text-align: right;\n",
       "    }\n",
       "</style>\n",
       "<table border=\"1\" class=\"dataframe\">\n",
       "  <thead>\n",
       "    <tr style=\"text-align: right;\">\n",
       "      <th></th>\n",
       "      <th>Year</th>\n",
       "      <th>Engine Size (L)</th>\n",
       "      <th>Horsepower</th>\n",
       "      <th>Torque (lb-ft)</th>\n",
       "      <th>0-60 MPH Time (seconds)</th>\n",
       "      <th>Price</th>\n",
       "    </tr>\n",
       "  </thead>\n",
       "  <tbody>\n",
       "    <tr>\n",
       "      <th>Year</th>\n",
       "      <td>1.000000</td>\n",
       "      <td>-0.162311</td>\n",
       "      <td>0.024114</td>\n",
       "      <td>0.029054</td>\n",
       "      <td>-0.008437</td>\n",
       "      <td>-0.046786</td>\n",
       "    </tr>\n",
       "    <tr>\n",
       "      <th>Engine Size (L)</th>\n",
       "      <td>-0.162311</td>\n",
       "      <td>1.000000</td>\n",
       "      <td>0.064018</td>\n",
       "      <td>0.002926</td>\n",
       "      <td>-0.211754</td>\n",
       "      <td>0.245226</td>\n",
       "    </tr>\n",
       "    <tr>\n",
       "      <th>Horsepower</th>\n",
       "      <td>0.024114</td>\n",
       "      <td>0.064018</td>\n",
       "      <td>1.000000</td>\n",
       "      <td>0.709581</td>\n",
       "      <td>-0.533712</td>\n",
       "      <td>0.490672</td>\n",
       "    </tr>\n",
       "    <tr>\n",
       "      <th>Torque (lb-ft)</th>\n",
       "      <td>0.029054</td>\n",
       "      <td>0.002926</td>\n",
       "      <td>0.709581</td>\n",
       "      <td>1.000000</td>\n",
       "      <td>-0.444860</td>\n",
       "      <td>0.335040</td>\n",
       "    </tr>\n",
       "    <tr>\n",
       "      <th>0-60 MPH Time (seconds)</th>\n",
       "      <td>-0.008437</td>\n",
       "      <td>-0.211754</td>\n",
       "      <td>-0.533712</td>\n",
       "      <td>-0.444860</td>\n",
       "      <td>1.000000</td>\n",
       "      <td>-0.495575</td>\n",
       "    </tr>\n",
       "    <tr>\n",
       "      <th>Price</th>\n",
       "      <td>-0.046786</td>\n",
       "      <td>0.245226</td>\n",
       "      <td>0.490672</td>\n",
       "      <td>0.335040</td>\n",
       "      <td>-0.495575</td>\n",
       "      <td>1.000000</td>\n",
       "    </tr>\n",
       "  </tbody>\n",
       "</table>\n",
       "</div>"
      ],
      "text/plain": [
       "                             Year  Engine Size (L)  Horsepower  \\\n",
       "Year                     1.000000        -0.162311    0.024114   \n",
       "Engine Size (L)         -0.162311         1.000000    0.064018   \n",
       "Horsepower               0.024114         0.064018    1.000000   \n",
       "Torque (lb-ft)           0.029054         0.002926    0.709581   \n",
       "0-60 MPH Time (seconds) -0.008437        -0.211754   -0.533712   \n",
       "Price                   -0.046786         0.245226    0.490672   \n",
       "\n",
       "                         Torque (lb-ft)  0-60 MPH Time (seconds)     Price  \n",
       "Year                           0.029054                -0.008437 -0.046786  \n",
       "Engine Size (L)                0.002926                -0.211754  0.245226  \n",
       "Horsepower                     0.709581                -0.533712  0.490672  \n",
       "Torque (lb-ft)                 1.000000                -0.444860  0.335040  \n",
       "0-60 MPH Time (seconds)       -0.444860                 1.000000 -0.495575  \n",
       "Price                          0.335040                -0.495575  1.000000  "
      ]
     },
     "execution_count": 73,
     "metadata": {},
     "output_type": "execute_result"
    }
   ],
   "source": [
    "df.corr()"
   ]
  },
  {
   "cell_type": "code",
   "execution_count": 74,
   "metadata": {},
   "outputs": [],
   "source": [
    "# 0.7 - correlated"
   ]
  },
  {
   "cell_type": "code",
   "execution_count": 72,
   "metadata": {
    "colab": {
     "base_uri": "https://localhost:8080/"
    },
    "id": "FqBMOK6JIPHb",
    "outputId": "1e9a6d40-17ad-4135-d368-ac161ce2b6be"
   },
   "outputs": [
    {
     "name": "stdout",
     "output_type": "stream",
     "text": [
      "[331, 443, 561, 406, 568, 553, 494, 465, 625, 481, 516, 1180, 656, 295, 1015, 398, 317, 384, 280, 443, 243, 664, 531, 468, 737, 738, 1696, 309, 531, 590, 590, 531, 479, 468, 650, 550, 276, 479, 626, 561, 369, 465, 420, 627, 280, 531, 369, 443, 479, 516, 455, 420, 276, 505, 317, 331, 627, 560, 369, 457, 553, 505, 443, 406, 455, 707, 550, 295, 531, 384, 516, 270, 331, 354, 406, 465, 568, 420, 627, 280, 476, 505, 664, 1180, 707, 339, 1106, 398, 384, 151, 465, 468, 738, 309, 1696, 605, 737, 368, 723, 280, 531, 354, 465, 479, 664, 650, 550, 270, 664, 443, 642, 627, 590, 406, 309, 509, 664, 664, 590, 468, 443, 650, 656, 560, 604, 627, 479, 505, 309, 507, 568, 369, 455, 420, 276, 331, 627, 561, 369, 465, 406, 516, 476, 513, 664, 600, 339, 317, 384, 443, 738, 309, 605, 440, 368, 479, 708, 280, 531, 590, 590, 468, 455, 276, 774, 568, 354, 443, 553, 479, 254, 509, 663, 590, 457, 516, 650, 707, 550, 270, 332, 1180, 568, 590, 516, 604, 509, 590, 457, 406, 664, 656, 627, 530, 406, 406, 516, 470, 516, 664, 516, 476, 317, 309, 258, 443, 406, 650, 384, 276, 605, 290, 309, 507, 413, 590, 457, 455, 420, 276, 604, 627, 590, 354, 656, 663, 398, 309, 443, 650, 317, 465, 468, 1180, 1015, 531, 1732, 774, 1696, 476, 505, 568, 656, 295, 376, 317, 384, 309, 443, 650, 531, 516, 276, 774, 1050, 664, 568, 1180, 443, 774, 509, 568, 590, 406, 468, 650, 516, 317, 384, 590, 270, 738, 604, 1050, 513, 707, 317, 476, 443, 664, 339, 1015, 384, 465, 516, 280, 605, 455, 516, 568, 656, 1106, 398, 317, 384, 443, 516, 774, 605, 10000, 505, 664, 707, 516, 317, 384, 309, 737, 236, 406, 600, 560, 295, 531, 457, 516, 664, 656, 1015, 384, 516, 738, 309, 642, 568, 656, 339, 398, 443, 1050, 443, 650, 600, 550, 472, 509, 516, 443, 590, 479, 455, 650, 550, 1106, 398, 1254, 465, 590, 309, 531, 560, 354, 457, 516, 455, 420, 276, 1106, 738, 848, 531, 1732, 280, 531, 413, 443, 465, 369, 384, 455, 420, 276, 505, 664, 280, 568, 354, 443, 406, 280, 509, 443, 465, 468, 276, 656, 663, 443, 516, 317, 384, 604, 317, 258, 339, 384, 443, 650, 656, 550, 443, 516, 280, 507, 354, 406, 664, 664, 1180, 656, 516, 1106, 317, 384, 309, 1696, 605, 1050, 420, 1300, 723, 476, 663, 656, 339, 1254, 774, 1696, 1050, 590, 550, 664, 707, 258, 290, 1050, 1180, 590, 774, 650, 590, 309, 531, 507, 590, 516, 276, 354, 650, 626, 664, 560, 1180, 309, 443, 664, 553, 656, 550, 443, 479, 276, 280, 280, 531, 561, 442, 443, 406, 384, 455, 331, 590, 472, 590, 406, 468, 276, 664, 398, 664, 1050, 605, 1180, 590, 641, 498, 664, 1180, 650, 656, 530, 531, 590, 350, 309, 1696, 368, 406, 276, 650, 663, 443, 354, 664, 470, 656, 420, 560, 443, 406, 468, 276, 590, 590, 663, 737, 590, 944, 531, 590, 664, 650, 590, 513, 568, 317, 384, 280, 258, 455, 268, 479, 276, 280, 184, 507, 590, 465, 590, 276, 604, 561, 354, 443, 184, 561, 354, 465, 468, 455, 590, 553, 505, 568, 398, 590, 406, 516, 642, 627, 561, 354, 468, 280, 531, 354, 465, 295, 468, 455, 270, 505, 664, 1180, 656, 295, 317, 642, 531, 664, 650, 276, 309, 516, 505, 443, 656, 664, 443, 443, 406, 479, 420, 400, 505, 258, 295, 1180, 1696, 650, 505, 443, 590, 479, 516, 604, 507, 664, 384, 465, 263, 509, 560, 479, 455, 420, 276, 331, 590, 479, 354, 650, 568, 1180, 568, 465, 707, 339, 398, 1254, 627, 254, 516, 7376, 455, 707, 339, 468, 270, 590, 568, 280, 443, 656, 568, 295, 531, 317, 384, 479, 276, 331, 290, 509, 443, 443, 384, 270, 443, 516, 664, 475, 317, 384, 505, 650, 455, 420, 443, 479, 276, 457, 406, 531, 465, 664, 663, 317, 443, 590, 516, 650, 443, 1050, 420, 505, 1180, 740, 1254, 1696, 538, 280, 465, 406, 468, 350, 270, 1106, 1254, 738, 1696]\n",
      "[379, 630, 661, 562, 710, 617, 523, 490, 760, 600, 630, 1500, 717, 296, 1280, 471, 416, 454, 300, 505, 320, 626, 671, 622, 720, 600, 1914, 414, 759, 986, 591, 671, 503, 622, 650, 660, 350, 562, 641, 611, 394, 612, 369, 603, 300, 759, 394, 562, 503, 503, 455, 460, 350, 503, 416, 325, 641, 612, 349, 592, 600, 503, 444, 405, 455, 797, 660, 296, 770, 454, 503, 332, 325, 394, 473, 490, 710, 480, 641, 300, 573, 503, 626, 1500, 797, 380, 1600, 471, 454, 181, 620, 622, 764, 414, 1914, 624, 1000, 382, 800, 300, 770, 394, 612, 503, 603, 650, 660, 332, 715, 562, 690, 641, 591, 405, 414, 730, 715, 626, 591, 622, 562, 650, 717, 592, 620, 641, 469, 503, 365, 730, 710, 382, 455, 480, 350, 325, 641, 612, 401, 612, 444, 503, 573, 503, 626, 645, 380, 416, 454, 562, 720, 414, 624, 435, 382, 500, 780, 300, 770, 986, 591, 622, 455, 350, 750, 710, 401, 562, 600, 469, 402, 730, 715, 591, 592, 503, 650, 797, 660, 332, 325, 1500, 710, 591, 575, 620, 729, 591, 592, 405, 603, 717, 641, 789, 562, 473, 577, 495, 630, 626, 575, 573, 416, 414, 237, 444, 405, 717, 454, 350, 624, 310, 414, 729, 591, 591, 592, 455, 480, 350, 620, 641, 986, 394, 717, 715, 471, 414, 444, 650, 416, 612, 622, 1500, 1280, 770, 1914, 791, 1874, 573, 503, 542, 717, 296, 368, 416, 454, 414, 505, 650, 770, 577, 350, 616, 1020, 715, 542, 1479, 562, 750, 730, 710, 591, 444, 622, 650, 575, 416, 454, 755, 332, 730, 620, 1020, 503, 797, 416, 573, 505, 626, 380, 1280, 454, 612, 503, 300, 624, 455, 630, 542, 717, 1280, 471, 416, 454, 562, 503, 791, 624, 1000, 503, 626, 797, 575, 416, 454, 414, 1000, 288, 473, 645, 591, 296, 770, 592, 630, 626, 717, 1280, 454, 503, 764, 414, 624, 542, 717, 380, 471, 562, 1020, 444, 650, 645, 660, 482, 730, 630, 505, 591, 503, 455, 717, 660, 1600, 471, 1973, 612, 720, 414, 770, 591, 394, 592, 503, 455, 480, 350, 1262, 764, 1035, 819, 1914, 300, 770, 591, 444, 620, 382, 385, 455, 460, 350, 503, 626, 300, 710, 394, 562, 473, 300, 730, 444, 612, 622, 350, 717, 715, 505, 575, 416, 454, 630, 416, 237, 380, 454, 444, 650, 717, 647, 562, 503, 300, 729, 394, 473, 715, 626, 1500, 717, 575, 1280, 416, 454, 414, 1914, 624, 1020, 500, 1200, 800, 573, 715, 717, 380, 1973, 616, 1914, 1020, 720, 647, 715, 797, 237, 310, 1020, 1578, 789, 750, 650, 591, 414, 770, 729, 591, 503, 350, 394, 625, 641, 630, 612, 1479, 414, 505, 626, 600, 717, 647, 562, 583, 350, 300, 300, 759, 612, 444, 562, 405, 429, 455, 325, 591, 429, 591, 473, 622, 350, 715, 471, 626, 1020, 563, 1500, 789, 690, 503, 626, 1500, 650, 717, 789, 770, 720, 400, 414, 1914, 382, 405, 350, 707, 715, 505, 394, 626, 495, 717, 460, 612, 562, 473, 622, 350, 591, 577, 715, 764, 789, 887, 759, 591, 650, 650, 720, 503, 542, 416, 454, 300, 237, 455, 305, 469, 350, 300, 369, 729, 591, 620, 730, 350, 630, 591, 394, 562, 369, 612, 394, 620, 622, 455, 640, 617, 503, 710, 471, 591, 473, 577, 690, 641, 612, 394, 622, 300, 759, 394, 612, 255, 622, 455, 332, 503, 626, 1479, 717, 296, 416, 689, 759, 603, 650, 350, 414, 503, 503, 562, 717, 630, 444, 562, 405, 469, 460, 372, 503, 237, 296, 1578, 1914, 650, 503, 505, 591, 503, 503, 630, 730, 715, 385, 490, 469, 730, 611, 469, 455, 480, 350, 325, 591, 503, 382, 650, 542, 1479, 710, 612, 797, 380, 471, 2000, 563, 402, 630, 10000, 455, 797, 380, 622, 332, 591, 542, 300, 444, 717, 710, 296, 759, 416, 454, 469, 350, 325, 310, 729, 444, 562, 429, 332, 505, 630, 626, 485, 416, 454, 503, 717, 455, 460, 562, 469, 350, 473, 473, 770, 612, 630, 715, 416, 562, 591, 503, 717, 505, 1020, 480, 503, 1500, 764, 1973, 1872, 621, 300, 612, 405, 622, 310, 332, 1280, 1972, 764, 1888]\n"
     ]
    }
   ],
   "source": [
    "class_A=df[\"Torque (lb-ft)\"].to_list()\n",
    "class_B=df[\"Horsepower\"].to_list()\n",
    "print(class_A)\n",
    "print(class_B)"
   ]
  },
  {
   "cell_type": "code",
   "execution_count": 47,
   "metadata": {
    "colab": {
     "base_uri": "https://localhost:8080/"
    },
    "id": "duqBcgzWIPKx",
    "outputId": "e27f1180-c90f-43f3-a53f-bc2466f599b4"
   },
   "outputs": [
    {
     "name": "stdout",
     "output_type": "stream",
     "text": [
      "0.7095810639663238 1.5766891317993526e-108\n"
     ]
    }
   ],
   "source": [
    "import scipy.stats as stats\n",
    "corr,p_value=stats.pearsonr(class_A,class_B)\n",
    "print(corr,p_value)"
   ]
  },
  {
   "cell_type": "code",
   "execution_count": 66,
   "metadata": {
    "id": "JlHV7CK1KD-U"
   },
   "outputs": [],
   "source": [
    "# The correlation coefficient is 0.70 (Strong Postive Correlation)\n",
    "# The pvalue < 0.05 (Correlation is statistically significant)\n",
    "#There is a strong relationship between horsepower and Torque.\n",
    "# h0 -(Null hypothesis)"
   ]
  },
  {
   "cell_type": "code",
   "execution_count": 70,
   "metadata": {},
   "outputs": [
    {
     "ename": "KeyError",
     "evalue": "'class_B'",
     "output_type": "error",
     "traceback": [
      "\u001b[1;31m---------------------------------------------------------------------------\u001b[0m",
      "\u001b[1;31mKeyError\u001b[0m                                  Traceback (most recent call last)",
      "\u001b[1;32mC:\\New folder\\Python\\lib\\site-packages\\pandas\\core\\indexes\\base.py\u001b[0m in \u001b[0;36mget_loc\u001b[1;34m(self, key, method, tolerance)\u001b[0m\n\u001b[0;32m   3628\u001b[0m             \u001b[1;32mtry\u001b[0m\u001b[1;33m:\u001b[0m\u001b[1;33m\u001b[0m\u001b[1;33m\u001b[0m\u001b[0m\n\u001b[1;32m-> 3629\u001b[1;33m                 \u001b[1;32mreturn\u001b[0m \u001b[0mself\u001b[0m\u001b[1;33m.\u001b[0m\u001b[0m_engine\u001b[0m\u001b[1;33m.\u001b[0m\u001b[0mget_loc\u001b[0m\u001b[1;33m(\u001b[0m\u001b[0mcasted_key\u001b[0m\u001b[1;33m)\u001b[0m\u001b[1;33m\u001b[0m\u001b[1;33m\u001b[0m\u001b[0m\n\u001b[0m\u001b[0;32m   3630\u001b[0m             \u001b[1;32mexcept\u001b[0m \u001b[0mKeyError\u001b[0m \u001b[1;32mas\u001b[0m \u001b[0merr\u001b[0m\u001b[1;33m:\u001b[0m\u001b[1;33m\u001b[0m\u001b[1;33m\u001b[0m\u001b[0m\n",
      "\u001b[1;32mC:\\New folder\\Python\\lib\\site-packages\\pandas\\_libs\\index.pyx\u001b[0m in \u001b[0;36mpandas._libs.index.IndexEngine.get_loc\u001b[1;34m()\u001b[0m\n",
      "\u001b[1;32mC:\\New folder\\Python\\lib\\site-packages\\pandas\\_libs\\index.pyx\u001b[0m in \u001b[0;36mpandas._libs.index.IndexEngine.get_loc\u001b[1;34m()\u001b[0m\n",
      "\u001b[1;32mpandas\\_libs\\hashtable_class_helper.pxi\u001b[0m in \u001b[0;36mpandas._libs.hashtable.PyObjectHashTable.get_item\u001b[1;34m()\u001b[0m\n",
      "\u001b[1;32mpandas\\_libs\\hashtable_class_helper.pxi\u001b[0m in \u001b[0;36mpandas._libs.hashtable.PyObjectHashTable.get_item\u001b[1;34m()\u001b[0m\n",
      "\u001b[1;31mKeyError\u001b[0m: 'class_B'",
      "\nThe above exception was the direct cause of the following exception:\n",
      "\u001b[1;31mKeyError\u001b[0m                                  Traceback (most recent call last)",
      "\u001b[1;32m~\\AppData\\Local\\Temp\\ipykernel_11200\\967202271.py\u001b[0m in \u001b[0;36m<module>\u001b[1;34m\u001b[0m\n\u001b[1;32m----> 1\u001b[1;33m \u001b[0mdf\u001b[0m\u001b[1;33m[\u001b[0m\u001b[1;34m\"class_B\"\u001b[0m\u001b[1;33m]\u001b[0m\u001b[1;33m.\u001b[0m\u001b[0mcorr\u001b[0m\u001b[1;33m(\u001b[0m\u001b[0mdf\u001b[0m\u001b[1;33m[\u001b[0m\u001b[1;34m\"class_A\"\u001b[0m\u001b[1;33m]\u001b[0m\u001b[1;33m)\u001b[0m\u001b[1;33m\u001b[0m\u001b[1;33m\u001b[0m\u001b[0m\n\u001b[0m",
      "\u001b[1;32mC:\\New folder\\Python\\lib\\site-packages\\pandas\\core\\frame.py\u001b[0m in \u001b[0;36m__getitem__\u001b[1;34m(self, key)\u001b[0m\n\u001b[0;32m   3503\u001b[0m             \u001b[1;32mif\u001b[0m \u001b[0mself\u001b[0m\u001b[1;33m.\u001b[0m\u001b[0mcolumns\u001b[0m\u001b[1;33m.\u001b[0m\u001b[0mnlevels\u001b[0m \u001b[1;33m>\u001b[0m \u001b[1;36m1\u001b[0m\u001b[1;33m:\u001b[0m\u001b[1;33m\u001b[0m\u001b[1;33m\u001b[0m\u001b[0m\n\u001b[0;32m   3504\u001b[0m                 \u001b[1;32mreturn\u001b[0m \u001b[0mself\u001b[0m\u001b[1;33m.\u001b[0m\u001b[0m_getitem_multilevel\u001b[0m\u001b[1;33m(\u001b[0m\u001b[0mkey\u001b[0m\u001b[1;33m)\u001b[0m\u001b[1;33m\u001b[0m\u001b[1;33m\u001b[0m\u001b[0m\n\u001b[1;32m-> 3505\u001b[1;33m             \u001b[0mindexer\u001b[0m \u001b[1;33m=\u001b[0m \u001b[0mself\u001b[0m\u001b[1;33m.\u001b[0m\u001b[0mcolumns\u001b[0m\u001b[1;33m.\u001b[0m\u001b[0mget_loc\u001b[0m\u001b[1;33m(\u001b[0m\u001b[0mkey\u001b[0m\u001b[1;33m)\u001b[0m\u001b[1;33m\u001b[0m\u001b[1;33m\u001b[0m\u001b[0m\n\u001b[0m\u001b[0;32m   3506\u001b[0m             \u001b[1;32mif\u001b[0m \u001b[0mis_integer\u001b[0m\u001b[1;33m(\u001b[0m\u001b[0mindexer\u001b[0m\u001b[1;33m)\u001b[0m\u001b[1;33m:\u001b[0m\u001b[1;33m\u001b[0m\u001b[1;33m\u001b[0m\u001b[0m\n\u001b[0;32m   3507\u001b[0m                 \u001b[0mindexer\u001b[0m \u001b[1;33m=\u001b[0m \u001b[1;33m[\u001b[0m\u001b[0mindexer\u001b[0m\u001b[1;33m]\u001b[0m\u001b[1;33m\u001b[0m\u001b[1;33m\u001b[0m\u001b[0m\n",
      "\u001b[1;32mC:\\New folder\\Python\\lib\\site-packages\\pandas\\core\\indexes\\base.py\u001b[0m in \u001b[0;36mget_loc\u001b[1;34m(self, key, method, tolerance)\u001b[0m\n\u001b[0;32m   3629\u001b[0m                 \u001b[1;32mreturn\u001b[0m \u001b[0mself\u001b[0m\u001b[1;33m.\u001b[0m\u001b[0m_engine\u001b[0m\u001b[1;33m.\u001b[0m\u001b[0mget_loc\u001b[0m\u001b[1;33m(\u001b[0m\u001b[0mcasted_key\u001b[0m\u001b[1;33m)\u001b[0m\u001b[1;33m\u001b[0m\u001b[1;33m\u001b[0m\u001b[0m\n\u001b[0;32m   3630\u001b[0m             \u001b[1;32mexcept\u001b[0m \u001b[0mKeyError\u001b[0m \u001b[1;32mas\u001b[0m \u001b[0merr\u001b[0m\u001b[1;33m:\u001b[0m\u001b[1;33m\u001b[0m\u001b[1;33m\u001b[0m\u001b[0m\n\u001b[1;32m-> 3631\u001b[1;33m                 \u001b[1;32mraise\u001b[0m \u001b[0mKeyError\u001b[0m\u001b[1;33m(\u001b[0m\u001b[0mkey\u001b[0m\u001b[1;33m)\u001b[0m \u001b[1;32mfrom\u001b[0m \u001b[0merr\u001b[0m\u001b[1;33m\u001b[0m\u001b[1;33m\u001b[0m\u001b[0m\n\u001b[0m\u001b[0;32m   3632\u001b[0m             \u001b[1;32mexcept\u001b[0m \u001b[0mTypeError\u001b[0m\u001b[1;33m:\u001b[0m\u001b[1;33m\u001b[0m\u001b[1;33m\u001b[0m\u001b[0m\n\u001b[0;32m   3633\u001b[0m                 \u001b[1;31m# If we have a listlike key, _check_indexing_error will raise\u001b[0m\u001b[1;33m\u001b[0m\u001b[1;33m\u001b[0m\u001b[0m\n",
      "\u001b[1;31mKeyError\u001b[0m: 'class_B'"
     ]
    }
   ],
   "source": [
    "df[\"class_B\"].corr(df[\"class_A\"])"
   ]
  },
  {
   "cell_type": "markdown",
   "metadata": {
    "id": "5ba58Clg0zp0"
   },
   "source": [
    "Q4) Is the mean price of sports cars that takes time to accelerate from 2 to 4 seconds\n",
    "is the same as that for those cars that accelerates for 4 to 6 seconds ?"
   ]
  },
  {
   "cell_type": "code",
   "execution_count": 49,
   "metadata": {
    "colab": {
     "base_uri": "https://localhost:8080/"
    },
    "id": "fGrcnkj92Pub",
    "outputId": "d8a8f424-2715-4bad-b3b0-0e379031e20a"
   },
   "outputs": [
    {
     "data": {
      "text/plain": [
       "(512, 8)"
      ]
     },
     "execution_count": 49,
     "metadata": {},
     "output_type": "execute_result"
    }
   ],
   "source": [
    "car2_4=df[(df[\"0-60 MPH Time (seconds)\"]>=2) & (df[\"0-60 MPH Time (seconds)\"]<=4)]\n",
    "car2_4.shape"
   ]
  },
  {
   "cell_type": "code",
   "execution_count": 50,
   "metadata": {
    "colab": {
     "base_uri": "https://localhost:8080/"
    },
    "id": "-sQpBoHw2-oK",
    "outputId": "ea6ad8dc-9623-4471-b125-7bbfb127fad3"
   },
   "outputs": [
    {
     "data": {
      "text/plain": [
       "(191, 8)"
      ]
     },
     "execution_count": 50,
     "metadata": {},
     "output_type": "execute_result"
    }
   ],
   "source": [
    "car4_6=df[(df[\"0-60 MPH Time (seconds)\"]>=4) & (df[\"0-60 MPH Time (seconds)\"]<=6)]\n",
    "car4_6.shape"
   ]
  },
  {
   "cell_type": "code",
   "execution_count": 51,
   "metadata": {
    "id": "s072KAJn3yhs"
   },
   "outputs": [],
   "source": [
    "sample2_4=car2_4.sample(25,random_state=0) \n",
    "sample4_6=car4_6.sample(25,random_state=0)"
   ]
  },
  {
   "cell_type": "code",
   "execution_count": 52,
   "metadata": {
    "id": "I1AWQVt0_9uv"
   },
   "outputs": [],
   "source": [
    "# null hypothesis - variances are equal for both the samples\n",
    "# Alternate hypothesis - variances are not equal "
   ]
  },
  {
   "cell_type": "code",
   "execution_count": 53,
   "metadata": {
    "id": "MuK0H3Yr6JmU"
   },
   "outputs": [],
   "source": [
    "#sample variance"
   ]
  },
  {
   "cell_type": "code",
   "execution_count": 54,
   "metadata": {
    "colab": {
     "base_uri": "https://localhost:8080/"
    },
    "id": "9DsK1Vwv6qQn",
    "outputId": "295e8cf5-909c-4b4b-98c7-76d960a4c083"
   },
   "outputs": [
    {
     "name": "stdout",
     "output_type": "stream",
     "text": [
      "18352867907.273335\n"
     ]
    }
   ],
   "source": [
    "print(sample2_4.Price.var())"
   ]
  },
  {
   "cell_type": "code",
   "execution_count": 55,
   "metadata": {
    "colab": {
     "base_uri": "https://localhost:8080/"
    },
    "id": "BIhK5Mei6qUG",
    "outputId": "09050f42-f502-4d94-8bfe-b15222357662"
   },
   "outputs": [
    {
     "name": "stdout",
     "output_type": "stream",
     "text": [
      "5289443343.75\n"
     ]
    }
   ],
   "source": [
    "print(sample4_6.Price.var())"
   ]
  },
  {
   "cell_type": "code",
   "execution_count": 56,
   "metadata": {
    "colab": {
     "base_uri": "https://localhost:8080/"
    },
    "id": "yTmJ1CqV6qXF",
    "outputId": "029b09c3-852e-4616-f392-37addd77bac8"
   },
   "outputs": [
    {
     "name": "stdout",
     "output_type": "stream",
     "text": [
      "0.2882079994513428\n"
     ]
    }
   ],
   "source": [
    "# Computing the f statistic \n",
    "from scipy.stats import f\n",
    "F= sample4_6.Price.var()/sample2_4.Price.var()\n",
    "print(F)"
   ]
  },
  {
   "cell_type": "code",
   "execution_count": 57,
   "metadata": {
    "id": "0abR7oVl9106"
   },
   "outputs": [],
   "source": [
    "# degree of freedom"
   ]
  },
  {
   "cell_type": "code",
   "execution_count": 58,
   "metadata": {
    "id": "7ptKWtZG94k-"
   },
   "outputs": [],
   "source": [
    "df1=len(sample2_4)-1\n",
    "df2=len(sample4_6)-1"
   ]
  },
  {
   "cell_type": "code",
   "execution_count": 59,
   "metadata": {
    "id": "6ByqjAbv-V84"
   },
   "outputs": [],
   "source": [
    "import scipy"
   ]
  },
  {
   "cell_type": "code",
   "execution_count": 60,
   "metadata": {
    "colab": {
     "base_uri": "https://localhost:8080/"
    },
    "id": "fX0YK_O5-Kei",
    "outputId": "2381715a-9428-4809-e81c-aced549a5516"
   },
   "outputs": [
    {
     "data": {
      "text/plain": [
       "0.0017105267283771845"
      ]
     },
     "execution_count": 60,
     "metadata": {},
     "output_type": "execute_result"
    }
   ],
   "source": [
    "scipy.stats.f.cdf(F,df1,df2)"
   ]
  },
  {
   "cell_type": "code",
   "execution_count": 61,
   "metadata": {
    "id": "H2ZpYxuC-bE8"
   },
   "outputs": [],
   "source": [
    "# p value is less than 0.05 reject null hypothesis\n",
    "# the variance of price of sports cars who takes time to accelerate from 2 to 4 seconds\n",
    "# is not the same as that for those cars for who accelerate for 4 to 6 seconds "
   ]
  },
  {
   "cell_type": "code",
   "execution_count": 62,
   "metadata": {
    "id": "4ObwRqJ3DZ2L"
   },
   "outputs": [],
   "source": [
    "# we have to apply t test for unequal variances"
   ]
  },
  {
   "cell_type": "code",
   "execution_count": 64,
   "metadata": {
    "colab": {
     "base_uri": "https://localhost:8080/"
    },
    "id": "oLSXwkUWDak9",
    "outputId": "7f48d300-0fcb-40fd-dbf4-0d0d457ee3be"
   },
   "outputs": [
    {
     "name": "stdout",
     "output_type": "stream",
     "text": [
      "2.1491284236992008 0.03669540911160308\n"
     ]
    }
   ],
   "source": [
    "from scipy.stats import ttest_ind\n",
    "t_stats,p_value=ttest_ind(sample2_4.Price,sample4_6.Price,equal_var=True)\n",
    "print(t_stats,p_value)"
   ]
  },
  {
   "cell_type": "code",
   "execution_count": 65,
   "metadata": {},
   "outputs": [
    {
     "name": "stdout",
     "output_type": "stream",
     "text": [
      "2.1491284236992008 0.038275630486490235\n"
     ]
    }
   ],
   "source": [
    "from scipy.stats import ttest_ind\n",
    "t_stats,p_value=ttest_ind(sample2_4.Price,sample4_6.Price,equal_var=False)\n",
    "print(t_stats,p_value)"
   ]
  },
  {
   "cell_type": "code",
   "execution_count": 71,
   "metadata": {
    "id": "q-ehzmYkDan-"
   },
   "outputs": [],
   "source": [
    "# Rejecting null hypothesis since p value is 0.001 which is less than 0.05\n",
    "# Mean price of sports cars who takes time to accelerate from 2 to 4 seconds\n",
    "# is not the same as that for those cars for who accelerate for 4 to 6 seconds "
   ]
  },
  {
   "cell_type": "markdown",
   "metadata": {
    "id": "oO54cfq0IRjp"
   },
   "source": [
    "5) Given that the standard deviation of the populations is known. Perform the best suitable test for previous problem statement"
   ]
  },
  {
   "cell_type": "code",
   "execution_count": 76,
   "metadata": {
    "colab": {
     "base_uri": "https://localhost:8080/"
    },
    "id": "uGMd8bsRJttm",
    "outputId": "d9516ee6-0558-4a8e-d032-7cf42215371c"
   },
   "outputs": [
    {
     "data": {
      "text/plain": [
       "9.376528732023247e-09"
      ]
     },
     "execution_count": 76,
     "metadata": {},
     "output_type": "execute_result"
    }
   ],
   "source": [
    "import random\n",
    "from statsmodels.stats.weightstats import ztest\n",
    "car2_4=df[(df[\"0-60 MPH Time (seconds)\"]>=2) & (df[\"0-60 MPH Time (seconds)\"]<=4)]\n",
    "car4_6=df[(df[\"0-60 MPH Time (seconds)\"]>=4) & (df[\"0-60 MPH Time (seconds)\"]<=6)]\n",
    "car2_4=car2_4[\"Price\"].to_list()\n",
    "car4_6=car4_6[\"Price\"].to_list()\n",
    "a=random.sample(car2_4,100)\n",
    "b=random.sample(car4_6,100)\n",
    "z_test,p_value=ztest(car2_4,car4_6)\n",
    "p_value"
   ]
  },
  {
   "cell_type": "code",
   "execution_count": null,
   "metadata": {
    "id": "1wdUnE9QNj7_"
   },
   "outputs": [],
   "source": [
    "# p - value is less than 0.05 reject null hypothesis. mean price are not equal"
   ]
  }
 ],
 "metadata": {
  "colab": {
   "provenance": []
  },
  "kernelspec": {
   "display_name": "Python 3 (ipykernel)",
   "language": "python",
   "name": "python3"
  },
  "language_info": {
   "codemirror_mode": {
    "name": "ipython",
    "version": 3
   },
   "file_extension": ".py",
   "mimetype": "text/x-python",
   "name": "python",
   "nbconvert_exporter": "python",
   "pygments_lexer": "ipython3",
   "version": "3.9.12"
  }
 },
 "nbformat": 4,
 "nbformat_minor": 1
}
