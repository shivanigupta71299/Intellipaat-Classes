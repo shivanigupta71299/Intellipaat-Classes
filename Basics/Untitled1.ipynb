{
 "cells": [
  {
   "cell_type": "markdown",
   "id": "cf2542b6",
   "metadata": {},
   "source": [
    "# Python Basics Assignment"
   ]
  },
  {
   "cell_type": "markdown",
   "id": "8df7777e",
   "metadata": {},
   "source": [
    "### 1. Using Python script as a calculator"
   ]
  },
  {
   "cell_type": "code",
   "execution_count": 13,
   "id": "9d0e7e2a",
   "metadata": {},
   "outputs": [
    {
     "data": {
      "text/plain": [
       "162.8894626777442"
      ]
     },
     "execution_count": 13,
     "metadata": {},
     "output_type": "execute_result"
    }
   ],
   "source": [
    "n,r,p=10,5,100\n",
    "\n",
    "expression = lambda n,r,p:p*(1+r/100)**n\n",
    "expression(n,r,p)"
   ]
  },
  {
   "cell_type": "markdown",
   "id": "3cfcc770",
   "metadata": {},
   "source": [
    "#### Ans is B. 162.89"
   ]
  },
  {
   "cell_type": "markdown",
   "id": "bc3cb59d",
   "metadata": {},
   "source": [
    "### 2.In a given string format operation, how will you print the given string"
   ]
  },
  {
   "cell_type": "code",
   "execution_count": 17,
   "id": "7ebfb892",
   "metadata": {},
   "outputs": [
    {
     "name": "stdout",
     "output_type": "stream",
     "text": [
      "There are 10 students in the class, with 20 who play at least one sport.\n"
     ]
    }
   ],
   "source": [
    "A = 10\n",
    "B = 20\n",
    "Str = \"There are {} students in the class, with {} who play at least one sport.\"\n",
    "print(Str.format(A,B))"
   ]
  },
  {
   "cell_type": "code",
   "execution_count": 20,
   "id": "d43a968d",
   "metadata": {},
   "outputs": [
    {
     "name": "stdout",
     "output_type": "stream",
     "text": [
      "There are {} students in the class, with {} who play at least one sport.1020\n"
     ]
    }
   ],
   "source": [
    "print(Str+str(A)+str(B))"
   ]
  },
  {
   "cell_type": "code",
   "execution_count": 21,
   "id": "4c4ce0ef",
   "metadata": {},
   "outputs": [
    {
     "name": "stdout",
     "output_type": "stream",
     "text": [
      "There are 20 students in the class, with 10 who play at least one sport.\n"
     ]
    }
   ],
   "source": [
    "print(Str.format(B,A))"
   ]
  },
  {
   "cell_type": "markdown",
   "id": "ec275905",
   "metadata": {},
   "source": [
    "#### Ans. is c. print(string.format(b,a))"
   ]
  },
  {
   "cell_type": "markdown",
   "id": "7fb2c23b",
   "metadata": {},
   "source": [
    "### 3. In a given sample string, How do you print a double quoted string in between a regular string using the escape character?"
   ]
  },
  {
   "cell_type": "markdown",
   "id": "e84c39fd",
   "metadata": {},
   "source": [
    "#### Ans is a. print(\"It goes without saying, \\\"Time is Money\\\", and none can deny it.\")"
   ]
  },
  {
   "cell_type": "markdown",
   "id": "947f961b",
   "metadata": {},
   "source": [
    "### 4.What will be the output of the following code?"
   ]
  },
  {
   "cell_type": "code",
   "execution_count": 24,
   "id": "5cbc6638",
   "metadata": {},
   "outputs": [
    {
     "data": {
      "text/plain": [
       "3"
      ]
     },
     "execution_count": 24,
     "metadata": {},
     "output_type": "execute_result"
    }
   ],
   "source": [
    "x = lambda a,b: a//b\n",
    "x(10,3)"
   ]
  },
  {
   "cell_type": "markdown",
   "id": "9afdee22",
   "metadata": {},
   "source": [
    "#### Ans is b. 3"
   ]
  },
  {
   "cell_type": "markdown",
   "id": "d5a78518",
   "metadata": {},
   "source": [
    "### 5. What will be the output of the following code? A = 10 B = 12 print(\"Smaller\") if A == B else print(\"Greater\") if A < B else print(\"True\")"
   ]
  },
  {
   "cell_type": "code",
   "execution_count": 27,
   "id": "faa26468",
   "metadata": {},
   "outputs": [
    {
     "name": "stdout",
     "output_type": "stream",
     "text": [
      "Greater\n"
     ]
    }
   ],
   "source": [
    "A = 10 \n",
    "B = 12\n",
    "if A == B:\n",
    "    print(\"Smaller\")\n",
    "elif A < B: \n",
    "    print(\"Greater\") \n",
    "else:\n",
    "    print(\"True\")"
   ]
  },
  {
   "cell_type": "markdown",
   "id": "e28938c5",
   "metadata": {},
   "source": [
    "#### Ans is c. Greater"
   ]
  },
  {
   "cell_type": "markdown",
   "id": "8321c701",
   "metadata": {},
   "source": [
    "### Q6. What will be the output of the following code?"
   ]
  },
  {
   "cell_type": "markdown",
   "id": "ef805b03",
   "metadata": {},
   "source": [
    "#### Ans. is c. NameError: name 'numpy' is not defined"
   ]
  },
  {
   "cell_type": "markdown",
   "id": "1248adef",
   "metadata": {},
   "source": [
    "### Q7. Create a string called ‘string’ with the value as “Machine Learning”. Which code(s) is/are appropriate to slice the substring “Learn”?"
   ]
  },
  {
   "cell_type": "code",
   "execution_count": 16,
   "id": "f5de1dcc",
   "metadata": {},
   "outputs": [
    {
     "data": {
      "text/plain": [
       "'Lan'"
      ]
     },
     "execution_count": 16,
     "metadata": {},
     "output_type": "execute_result"
    }
   ],
   "source": [
    "string = \"Machine Learning\"\n",
    "string[slice(8,13,3)]\n",
    "string[8:13:2]"
   ]
  },
  {
   "cell_type": "markdown",
   "id": "f6119cb0",
   "metadata": {},
   "source": [
    "#### Ans is d. string[slice(8,13,1)]"
   ]
  },
  {
   "cell_type": "markdown",
   "id": "707a13ed",
   "metadata": {},
   "source": [
    "### 8.Create a sequence of numbers from 10 to 25 and increment by 4. What is the index of the value 18?"
   ]
  },
  {
   "cell_type": "code",
   "execution_count": 1,
   "id": "98aa8cc5",
   "metadata": {},
   "outputs": [
    {
     "name": "stdout",
     "output_type": "stream",
     "text": [
      "[10, 14, 18, 22]\n"
     ]
    }
   ],
   "source": [
    "x=list(range(10,25,4))\n",
    "print(x)"
   ]
  },
  {
   "cell_type": "code",
   "execution_count": 4,
   "id": "dd16e9ee",
   "metadata": {},
   "outputs": [
    {
     "data": {
      "text/plain": [
       "2"
      ]
     },
     "execution_count": 4,
     "metadata": {},
     "output_type": "execute_result"
    }
   ],
   "source": [
    "x.index(18)"
   ]
  },
  {
   "cell_type": "markdown",
   "id": "38d63e60",
   "metadata": {},
   "source": [
    "#### Ans is b. 2"
   ]
  },
  {
   "cell_type": "markdown",
   "id": "0d60d110",
   "metadata": {},
   "source": [
    "### Q9. Which of the following is true with respect to the below codes?"
   ]
  },
  {
   "cell_type": "code",
   "execution_count": 7,
   "id": "84242a7a",
   "metadata": {},
   "outputs": [
    {
     "name": "stdout",
     "output_type": "stream",
     "text": [
      "625 625\n"
     ]
    }
   ],
   "source": [
    "num1 = 5**4\n",
    "num2= pow(5,4)\n",
    "print(num1,num2)"
   ]
  },
  {
   "cell_type": "markdown",
   "id": "0ef24e5c",
   "metadata": {},
   "source": [
    "#### Ans is a. num1 = num2"
   ]
  },
  {
   "cell_type": "markdown",
   "id": "41dbfcf5",
   "metadata": {},
   "source": [
    "### Q10.A Python NameError exception is raised when:"
   ]
  },
  {
   "cell_type": "code",
   "execution_count": 10,
   "id": "c52faffc",
   "metadata": {},
   "outputs": [
    {
     "data": {
      "text/plain": [
       "'a. Trying to access a variable which has not been defined\\nb. Trying to access a key in a dictionary that does not exist\\nc. Accessing a column with misspelled column name\\nd. Accessing the function from a module that has not been imported\\n'"
      ]
     },
     "execution_count": 10,
     "metadata": {},
     "output_type": "execute_result"
    }
   ],
   "source": [
    "'''a. Trying to access a variable which has not been defined\n",
    "b. Trying to access a key in a dictionary that does not exist\n",
    "c. Accessing a column with misspelled column name\n",
    "d. Accessing the function from a module that has not been imported\n",
    "'''"
   ]
  },
  {
   "cell_type": "markdown",
   "id": "fa0e6472",
   "metadata": {},
   "source": [
    "#### Ans is a. Trying to access a variable which has not been defined"
   ]
  },
  {
   "cell_type": "markdown",
   "id": "afd7394f",
   "metadata": {},
   "source": [
    "### Q11.What type of exception will be raised for the code given below?\n",
    "\n",
    "x=\"string\"\n",
    "int(x)"
   ]
  },
  {
   "cell_type": "markdown",
   "id": "61577954",
   "metadata": {},
   "source": [
    "#### Ans is c. ValueError"
   ]
  },
  {
   "cell_type": "markdown",
   "id": "b08b9265",
   "metadata": {},
   "source": [
    "### Q12.A FileNotFoundError exception is raised by operating system errors when: -\n",
    "a. Trying to create a file or directory which already exists\n",
    "b. A file or directory is requested but does not exist in the working directory\n",
    "c. Trying to run an operation without the adequate access rights\n",
    "d. A directory operation, os.listdir() is requested on something which is not a\n",
    "directory"
   ]
  },
  {
   "cell_type": "markdown",
   "id": "63a1515e",
   "metadata": {},
   "source": [
    "#### Ans is b. A file or directory is requested but does not exist in the working directory"
   ]
  },
  {
   "cell_type": "markdown",
   "id": "420730f1",
   "metadata": {},
   "source": [
    "### Q13.Consider a variable Z. The value of Z is \"ID-5632\". Data type of Z is"
   ]
  },
  {
   "cell_type": "markdown",
   "id": "e4d471f8",
   "metadata": {},
   "source": [
    "#### Ans is b. Character"
   ]
  },
  {
   "cell_type": "markdown",
   "id": "bc767c2e",
   "metadata": {},
   "source": [
    "### Q14.Which of the following variable(s) are character data type?\n",
    "a. K= “4”\n",
    "b. J= “Welcome”\n",
    "c. L= “?”\n",
    "d. All of the above"
   ]
  },
  {
   "cell_type": "markdown",
   "id": "c8e7d5ad",
   "metadata": {},
   "source": [
    "#### Ans is d. All of the above"
   ]
  },
  {
   "cell_type": "markdown",
   "id": "bfb027e8",
   "metadata": {},
   "source": [
    "### Q15.Choose the symbol/s that does not have the ability to convert any values to string?"
   ]
  },
  {
   "cell_type": "code",
   "execution_count": 29,
   "id": "bc526dd9",
   "metadata": {},
   "outputs": [
    {
     "name": "stdout",
     "output_type": "stream",
     "text": [
      "Using() :  Hello World!\n",
      "Using double inverts:  ABC\n",
      "Using{} :  Testing Hello World! successful\n",
      "Using() :  Hello World!\n"
     ]
    }
   ],
   "source": [
    "s = 'Hello World!'\n",
    "\n",
    "print(\"Using() : \",str(s))##a. ( )\n",
    "print(\"Using double inverts: \",\"ABC\")##b. “ ”\n",
    "print(\"Using{} : \",f\"Testing {s} successful\")##c. {}\n",
    "##   d. #"
   ]
  },
  {
   "cell_type": "markdown",
   "id": "9a0cb64e",
   "metadata": {},
   "source": [
    "#### Ans is d.#"
   ]
  },
  {
   "cell_type": "markdown",
   "id": "05ba8a76",
   "metadata": {},
   "source": [
    "### Q16.Create a dictionary ‘Country’ that maps the following countries to their capitals respectively:"
   ]
  },
  {
   "cell_type": "code",
   "execution_count": 30,
   "id": "ff3260f6",
   "metadata": {},
   "outputs": [],
   "source": [
    "Country = dict()"
   ]
  },
  {
   "cell_type": "code",
   "execution_count": 33,
   "id": "c3eee249",
   "metadata": {},
   "outputs": [],
   "source": [
    "Country['India'] = 'Delhi'"
   ]
  },
  {
   "cell_type": "code",
   "execution_count": 38,
   "id": "e7b7769c",
   "metadata": {},
   "outputs": [],
   "source": [
    "Country['China'] = 'Tokyo'\n",
    "Country['Japan'] = 'Beijing'\n",
    "Country['Qatar'] = 'Doha'\n",
    "Country.update({'France':'Marseilles'})"
   ]
  },
  {
   "cell_type": "code",
   "execution_count": 51,
   "id": "b38d8cec",
   "metadata": {},
   "outputs": [
    {
     "data": {
      "text/plain": [
       "{'India': 'Delhi',\n",
       " 'China': 'Tokyo',\n",
       " 'Japan': 'Beijing',\n",
       " 'Qatar': 'Doha',\n",
       " 'France': 'Marseilles'}"
      ]
     },
     "execution_count": 51,
     "metadata": {},
     "output_type": "execute_result"
    }
   ],
   "source": [
    "Country"
   ]
  },
  {
   "cell_type": "code",
   "execution_count": 40,
   "id": "5803a31d",
   "metadata": {},
   "outputs": [],
   "source": [
    "Country.update({'Marseilles':'Paris'})"
   ]
  },
  {
   "cell_type": "code",
   "execution_count": 50,
   "id": "f0529327",
   "metadata": {},
   "outputs": [],
   "source": [
    "del Country['Marseilles']"
   ]
  },
  {
   "cell_type": "code",
   "execution_count": 53,
   "id": "db9d4292",
   "metadata": {},
   "outputs": [],
   "source": [
    "Country.update(France='Paris')     #METHOD 1"
   ]
  },
  {
   "cell_type": "code",
   "execution_count": 54,
   "id": "99c704a5",
   "metadata": {},
   "outputs": [
    {
     "data": {
      "text/plain": [
       "{'India': 'Delhi',\n",
       " 'China': 'Tokyo',\n",
       " 'Japan': 'Beijing',\n",
       " 'Qatar': 'Doha',\n",
       " 'France': 'Paris'}"
      ]
     },
     "execution_count": 54,
     "metadata": {},
     "output_type": "execute_result"
    }
   ],
   "source": [
    "Country"
   ]
  },
  {
   "cell_type": "code",
   "execution_count": 56,
   "id": "94b8f05e",
   "metadata": {},
   "outputs": [
    {
     "data": {
      "text/plain": [
       "'Paris'"
      ]
     },
     "execution_count": 56,
     "metadata": {},
     "output_type": "execute_result"
    }
   ],
   "source": [
    "Country['France']"
   ]
  },
  {
   "cell_type": "code",
   "execution_count": 57,
   "id": "79a84258",
   "metadata": {},
   "outputs": [],
   "source": [
    "Country['France']='Marseilles'          # METHOD 2"
   ]
  },
  {
   "cell_type": "code",
   "execution_count": 59,
   "id": "72937608",
   "metadata": {},
   "outputs": [
    {
     "data": {
      "text/plain": [
       "{'India': 'Delhi',\n",
       " 'China': 'Tokyo',\n",
       " 'Japan': 'Beijing',\n",
       " 'Qatar': 'Doha',\n",
       " 'France': 'Marseilles'}"
      ]
     },
     "execution_count": 59,
     "metadata": {},
     "output_type": "execute_result"
    }
   ],
   "source": [
    "Country"
   ]
  },
  {
   "cell_type": "code",
   "execution_count": 60,
   "id": "2485fb93",
   "metadata": {},
   "outputs": [],
   "source": [
    "Country['France']='Paris'  "
   ]
  },
  {
   "cell_type": "code",
   "execution_count": 61,
   "id": "0e3446c2",
   "metadata": {},
   "outputs": [
    {
     "data": {
      "text/plain": [
       "{'India': 'Delhi',\n",
       " 'China': 'Tokyo',\n",
       " 'Japan': 'Beijing',\n",
       " 'Qatar': 'Doha',\n",
       " 'France': 'Paris'}"
      ]
     },
     "execution_count": 61,
     "metadata": {},
     "output_type": "execute_result"
    }
   ],
   "source": [
    "Country"
   ]
  },
  {
   "cell_type": "markdown",
   "id": "1ea8649f",
   "metadata": {},
   "source": [
    "### Q17. Create the tuples given below\n",
    "tuple_1 = (1,5,6,7,8)\n",
    "tuple_2 = (8,9,4)\n",
    "Identify which of the following code does not work on a tuple."
   ]
  },
  {
   "cell_type": "code",
   "execution_count": 1,
   "id": "bd21b309",
   "metadata": {},
   "outputs": [],
   "source": [
    "tuple_1 = (1,5,6,7,8)\n",
    "tuple_2 = (8,9,4)"
   ]
  },
  {
   "cell_type": "code",
   "execution_count": 2,
   "id": "2651e58d",
   "metadata": {},
   "outputs": [
    {
     "data": {
      "text/plain": [
       "27"
      ]
     },
     "execution_count": 2,
     "metadata": {},
     "output_type": "execute_result"
    }
   ],
   "source": [
    "sum(tuple_1)"
   ]
  },
  {
   "cell_type": "code",
   "execution_count": 3,
   "id": "6b5d8f0d",
   "metadata": {},
   "outputs": [
    {
     "data": {
      "text/plain": [
       "3"
      ]
     },
     "execution_count": 3,
     "metadata": {},
     "output_type": "execute_result"
    }
   ],
   "source": [
    "len(tuple_2)"
   ]
  },
  {
   "cell_type": "code",
   "execution_count": 4,
   "id": "4d62ceb1",
   "metadata": {},
   "outputs": [
    {
     "data": {
      "text/plain": [
       "(8, 9, 4, 1, 5, 6, 7, 8)"
      ]
     },
     "execution_count": 4,
     "metadata": {},
     "output_type": "execute_result"
    }
   ],
   "source": [
    "tuple_2 + tuple_1"
   ]
  },
  {
   "cell_type": "code",
   "execution_count": 5,
   "id": "2e8ac1e3",
   "metadata": {},
   "outputs": [
    {
     "ename": "TypeError",
     "evalue": "'tuple' object does not support item assignment",
     "output_type": "error",
     "traceback": [
      "\u001b[1;31m---------------------------------------------------------------------------\u001b[0m",
      "\u001b[1;31mTypeError\u001b[0m                                 Traceback (most recent call last)",
      "Input \u001b[1;32mIn [5]\u001b[0m, in \u001b[0;36m<cell line: 1>\u001b[1;34m()\u001b[0m\n\u001b[1;32m----> 1\u001b[0m tuple_1[\u001b[38;5;241m3\u001b[39m] \u001b[38;5;241m=\u001b[39m \u001b[38;5;241m45\u001b[39m\n",
      "\u001b[1;31mTypeError\u001b[0m: 'tuple' object does not support item assignment"
     ]
    }
   ],
   "source": [
    "tuple_1[3] = 45"
   ]
  },
  {
   "cell_type": "markdown",
   "id": "6172d246",
   "metadata": {},
   "source": [
    "#### Ans is d. tuple_1[3] = 45"
   ]
  },
  {
   "cell_type": "markdown",
   "id": "64fa55fd",
   "metadata": {},
   "source": [
    "### Q18.How many elements in the following data structure?\n",
    "\n",
    "S={1,2,3,4,4,4,5,6}"
   ]
  },
  {
   "cell_type": "markdown",
   "id": "e3effa3d",
   "metadata": {},
   "source": [
    "#### Ans is 6 (eleminiating repeated elements bcoz Sets does not add repeated elements(4))"
   ]
  },
  {
   "cell_type": "markdown",
   "id": "7065222d",
   "metadata": {},
   "source": [
    "### Q19.Function which finds all pythagorean triplets of triangles whose sides are no greater than a natural number N."
   ]
  },
  {
   "cell_type": "code",
   "execution_count": 9,
   "id": "4095970a",
   "metadata": {},
   "outputs": [
    {
     "name": "stdout",
     "output_type": "stream",
     "text": [
      "Enter upper limit:20\n",
      "3 4 5\n",
      "8 6 10\n",
      "5 12 13\n",
      "15 8 17\n",
      "12 16 20\n"
     ]
    }
   ],
   "source": [
    "limit=int(input(\"Enter upper limit:\"))\n",
    "c=0\n",
    "m=0\n",
    "while(c<limit):\n",
    "    \n",
    "    for n in range(1,m+1): \n",
    "       \n",
    "        a=m*m-n*n \n",
    "        b=2*m*n  \n",
    "        c=m*m+n*n  \n",
    "        \n",
    "        if(c>limit):\n",
    "            break\n",
    "        if(a==0 or b==0 or c==0):\n",
    "            break\n",
    "        \n",
    "        print(a,b,c)\n",
    "    m=m+1 # 8 15 17 "
   ]
  },
  {
   "cell_type": "code",
   "execution_count": null,
   "id": "a25f123f",
   "metadata": {},
   "outputs": [],
   "source": []
  }
 ],
 "metadata": {
  "kernelspec": {
   "display_name": "Python 3 (ipykernel)",
   "language": "python",
   "name": "python3"
  },
  "language_info": {
   "codemirror_mode": {
    "name": "ipython",
    "version": 3
   },
   "file_extension": ".py",
   "mimetype": "text/x-python",
   "name": "python",
   "nbconvert_exporter": "python",
   "pygments_lexer": "ipython3",
   "version": "3.9.12"
  }
 },
 "nbformat": 4,
 "nbformat_minor": 5
}
